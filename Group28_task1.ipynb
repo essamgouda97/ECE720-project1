{
 "cells": [
  {
   "cell_type": "markdown",
   "metadata": {},
   "source": [
    "### Group 28 members:\n",
    "- Jingze Tian (CCID)\n",
    "- Letian Ren (CCID)\n",
    "- Essam Gouda (egouda)"
   ]
  },
  {
   "cell_type": "markdown",
   "metadata": {},
   "source": [
    "# Task 1: Regression\n",
    "- Linear Regression for no_of_Mosquito = function(weather_features)\n",
    "- Linear Regression for no_of_Mosquito_female = function(weather_features)\n",
    "- Linear Regression for no_of_Mosquito_male = function(weather_features)\n",
    "- Polynomial Regression for no_of_Mosquito_female = function(weather_features)\n",
    "- Polynomial Regression for no_of_Mosquito_male = function(weather_features)\n",
    "\n",
    "#### Variations for each model:\n",
    "- Different cost functions were tested\n",
    "- Model without normalization and standardization, model with normalization only, model with standardization only, model with both normalization and standardization.\n",
    "- Feature selection\n",
    "- model statistics compared at the end"
   ]
  },
  {
   "cell_type": "markdown",
   "metadata": {},
   "source": [
    "## Imports"
   ]
  },
  {
   "cell_type": "code",
   "execution_count": 1011,
   "metadata": {},
   "outputs": [
    {
     "ename": "ImportError",
     "evalue": "cannot import name 'PolynomialF' from 'sklearn.preprocessing' (/home/essamgouda97/anaconda3/lib/python3.7/site-packages/sklearn/preprocessing/__init__.py)",
     "output_type": "error",
     "traceback": [
      "\u001b[0;31m---------------------------------------------------------------------------\u001b[0m",
      "\u001b[0;31mImportError\u001b[0m                               Traceback (most recent call last)",
      "\u001b[0;32m<ipython-input-1011-8a257ddffd62>\u001b[0m in \u001b[0;36m<module>\u001b[0;34m\u001b[0m\n\u001b[1;32m     10\u001b[0m \u001b[0msns\u001b[0m\u001b[0;34m.\u001b[0m\u001b[0mset\u001b[0m\u001b[0;34m(\u001b[0m\u001b[0mstyle\u001b[0m\u001b[0;34m=\u001b[0m\u001b[0;34m\"whitegrid\"\u001b[0m\u001b[0;34m,\u001b[0m \u001b[0mcolor_codes\u001b[0m\u001b[0;34m=\u001b[0m\u001b[0;32mTrue\u001b[0m\u001b[0;34m)\u001b[0m\u001b[0;34m\u001b[0m\u001b[0;34m\u001b[0m\u001b[0m\n\u001b[1;32m     11\u001b[0m \u001b[0;34m\u001b[0m\u001b[0m\n\u001b[0;32m---> 12\u001b[0;31m \u001b[0;32mfrom\u001b[0m \u001b[0msklearn\u001b[0m\u001b[0;34m.\u001b[0m\u001b[0mpreprocessing\u001b[0m \u001b[0;32mimport\u001b[0m \u001b[0mPolynomialF\u001b[0m\u001b[0;34m\u001b[0m\u001b[0;34m\u001b[0m\u001b[0m\n\u001b[0m\u001b[1;32m     13\u001b[0m \u001b[0meatures\u001b[0m\u001b[0;34m\u001b[0m\u001b[0;34m\u001b[0m\u001b[0m\n\u001b[1;32m     14\u001b[0m \u001b[0;32mfrom\u001b[0m \u001b[0msklearn\u001b[0m\u001b[0;34m.\u001b[0m\u001b[0mpreprocessing\u001b[0m \u001b[0;32mimport\u001b[0m \u001b[0mStandardScaler\u001b[0m\u001b[0;34m\u001b[0m\u001b[0;34m\u001b[0m\u001b[0m\n",
      "\u001b[0;31mImportError\u001b[0m: cannot import name 'PolynomialF' from 'sklearn.preprocessing' (/home/essamgouda97/anaconda3/lib/python3.7/site-packages/sklearn/preprocessing/__init__.py)"
     ]
    }
   ],
   "source": [
    "import pandas as pd\n",
    "import numpy as np\n",
    "import time\n",
    "\n",
    "\n",
    "import matplotlib.pyplot as plt\n",
    "plt.rc(\"font\", size=14)\n",
    "import seaborn as sns\n",
    "sns.set(style=\"white\") #white bg for sns plots\n",
    "sns.set(style=\"whitegrid\", color_codes=True)\n",
    "\n",
    "from sklearn.preprocessing import PolynomialF\n",
    "eatures\n",
    "from sklearn.preprocessing import StandardScaler\n",
    "from sklearn.model_selection import train_test_split\n",
    "from sklearn import metrics\n",
    "from sklearn.model_selection import cross_val_score\n",
    "from sklearn.linear_model import LinearRegression\n",
    "\n",
    "from scipy.stats import ks_2samp\n",
    "\n",
    "import warnings; warnings.simplefilter('ignore')"
   ]
  },
  {
   "cell_type": "markdown",
   "metadata": {},
   "source": [
    "## Read csv files (datasets)"
   ]
  },
  {
   "cell_type": "code",
   "execution_count": null,
   "metadata": {},
   "outputs": [],
   "source": [
    "weather_data = pd.read_csv('./data/weather_data.csv')\n",
    "mos_data = pd.read_csv('./data/mosquito_data_new.csv')"
   ]
  },
  {
   "cell_type": "code",
   "execution_count": null,
   "metadata": {},
   "outputs": [],
   "source": [
    "mos_data.head()"
   ]
  },
  {
   "cell_type": "code",
   "execution_count": null,
   "metadata": {},
   "outputs": [],
   "source": [
    "weather_data.head()"
   ]
  },
  {
   "cell_type": "markdown",
   "metadata": {},
   "source": [
    "### Standardize mosquito trap date format"
   ]
  },
  {
   "cell_type": "code",
   "execution_count": null,
   "metadata": {
    "scrolled": false
   },
   "outputs": [],
   "source": [
    "t_list = []\n",
    "for i in mos_data['Trap Date']:\n",
    "    i = str(i)\n",
    "    t1 = time.strptime(i,\"%m/%d/%Y %H:%M:%S AM\")\n",
    "    t2 = time.strftime(\"%Y-%m-%d\", t1)\n",
    "    t_list.append(t2)\n",
    "\n",
    "mos_data['Trap Date'] = t_list\n",
    "\n",
    "mos_data.head()"
   ]
  },
  {
   "cell_type": "markdown",
   "metadata": {},
   "source": [
    "### Align date ranges in both datasets\n",
    "Both datasets have different date ranges"
   ]
  },
  {
   "cell_type": "code",
   "execution_count": 1012,
   "metadata": {
    "scrolled": true
   },
   "outputs": [
    {
     "name": "stdout",
     "output_type": "stream",
     "text": [
      "Range of dates in mosquito dataset is 2017-06-06 to 2018-08-21\n",
      "       Trap Date         Genus Specific Epithet  Gender  Count  \\\n",
      "27023 2017-06-13  Ochlerotatus             spp.  Female      1   \n",
      "897   2017-06-13         Culex         tarsalis  Female      1   \n",
      "18715 2017-06-13  Ochlerotatus             spp.  Female      5   \n",
      "9093  2017-06-13  Ochlerotatus       excrucians  Female      1   \n",
      "8755  2017-06-13          Male             UnID    Male    452   \n",
      "6333  2017-06-13          Male             UnID    Male    441   \n",
      "8752  2017-06-13      Culiseta         inornata  Female      3   \n",
      "289   2017-06-13  Ochlerotatus       Black legs  Female      1   \n",
      "13818 2017-06-13          Male             UnID    Male     12   \n",
      "7080  2017-06-13  Ochlerotatus       Black legs  Female      5   \n",
      "17060 2017-06-13      Culiseta         inornata  Female      1   \n",
      "26821 2017-06-13  Ochlerotatus          fitchii  Female     10   \n",
      "13858 2017-06-13  Ochlerotatus          fitchii  Female      7   \n",
      "333   2017-06-13         Aedes           vexans  Female     56   \n",
      "8642  2017-06-13  Ochlerotatus             spp.  Female      1   \n",
      "116   2017-06-13          Male             UnID    Male      8   \n",
      "12979 2017-06-13  Ochlerotatus       excrucians  Female     12   \n",
      "18345 2017-06-13         Aedes           vexans  Female      1   \n",
      "13447 2017-06-13  Ochlerotatus          fitchii  Female      2   \n",
      "18351 2017-06-13  Ochlerotatus         riparius  Female      1   \n",
      "6913  2017-06-13         Aedes           vexans  Female      4   \n",
      "20691 2017-06-13         Aedes           vexans  Female      8   \n",
      "4653  2017-06-13          Male             UnID    Male     29   \n",
      "13681 2017-06-13         Aedes           vexans  Female     29   \n",
      "4609  2017-06-13          Male             UnID    Male     44   \n",
      "14    2017-06-13         Aedes         dorsalis  Female      1   \n",
      "9925  2017-06-13  Ochlerotatus       canadensis  Female      2   \n",
      "18290 2017-06-13     Anopheles           earlei  Female      3   \n",
      "13395 2017-06-13          Male             UnID    Male    186   \n",
      "25968 2017-06-13  Ochlerotatus       flavescens  Female    213   \n",
      "...          ...           ...              ...     ...    ...   \n",
      "14165 2018-08-14  Ochlerotatus       flavescens  Female      1   \n",
      "14470 2018-08-14      Culiseta         inornata  Female     39   \n",
      "16089 2018-08-14         Culex         tarsalis  Female      1   \n",
      "7121  2018-08-14         Aedes           vexans  Female     17   \n",
      "12783 2018-08-14      Culiseta         inornata  Female     19   \n",
      "1711  2018-08-14         Aedes           vexans  Female     73   \n",
      "12985 2018-08-14      Culiseta         inornata  Female     13   \n",
      "15270 2018-08-14         Culex         tarsalis  Female      2   \n",
      "253   2018-08-14          Misc             UnID  Female    247   \n",
      "2346  2018-08-14  Ochlerotatus           euedes  Female      1   \n",
      "1609  2018-08-14  Ochlerotatus          fitchii  Female      1   \n",
      "26146 2018-08-14          Male             UnID    Male    127   \n",
      "11910 2018-08-14  Ochlerotatus             spp.  Female      2   \n",
      "2093  2018-08-14         Aedes           vexans  Female     11   \n",
      "386   2018-08-14          Misc             UnID  Female      1   \n",
      "24945 2018-08-14         Aedes         dorsalis  Female      1   \n",
      "11353 2018-08-14      Culiseta        morsitans  Female      1   \n",
      "1571  2018-08-14      Culiseta        morsitans  Female      5   \n",
      "15280 2018-08-14         Aedes           vexans  Female      9   \n",
      "13255 2018-08-14          Male             UnID    Male    224   \n",
      "13062 2018-08-14      Culiseta         inornata  Female      7   \n",
      "11529 2018-08-14      Mansonia       perturbans  Female      2   \n",
      "15834 2018-08-14         Aedes           vexans  Female    165   \n",
      "11650 2018-08-14      Culiseta        morsitans  Female      2   \n",
      "24946 2018-08-14          Male             UnID    Male     24   \n",
      "11739 2018-08-14         Culex        territans  Female      1   \n",
      "25615 2018-08-14      Culiseta        morsitans  Female      1   \n",
      "12719 2018-08-14          Male             UnID    Male      1   \n",
      "27085 2018-08-14          Male             UnID    Male     59   \n",
      "25294 2018-08-14  Ochlerotatus       Black legs  Female      2   \n",
      "\n",
      "                      Trap Region Comparison Group   Latitude   Longitude  \\\n",
      "27023                  Rural-East            Outer  53.606722 -113.221359   \n",
      "897              Rural-South East       Peripheral  53.395831 -113.393540   \n",
      "18715  Outer Community-South West            Outer  53.408270 -113.761360   \n",
      "9093         River Valley-East-P1             Core  53.581417 -113.374561   \n",
      "8755             Rural-South East       Peripheral  53.395831 -113.393540   \n",
      "6333         Residential GC-South             Core  53.482057 -113.418346   \n",
      "8752   Outer Community-North East            Outer  53.774470 -113.372088   \n",
      "289    Outer Community-North West            Outer  53.713765 -113.959036   \n",
      "13818           Residential-North             Core  53.579459 -113.499262   \n",
      "7080             Rural-South East       Peripheral  53.395831 -113.393540   \n",
      "17060            Rural-South West       Peripheral  53.528587 -113.738070   \n",
      "26821       Outer Community-North            Outer  53.774476 -113.585715   \n",
      "13858  Outer Community-South West            Outer  53.408270 -113.761360   \n",
      "333        Outer Community-South1            Outer  53.333327 -113.531374   \n",
      "8642             Rural-South East       Peripheral  53.395831 -113.393540   \n",
      "116             Residential-South            Other  53.457490 -113.425390   \n",
      "12979        Residential GC-South             Core  53.482057 -113.418346   \n",
      "18345  Outer Community-North West            Outer  53.713765 -113.959036   \n",
      "13447            Rural-South West       Peripheral  53.528587 -113.738070   \n",
      "18351        Residential GC-South             Core  53.482057 -113.418346   \n",
      "6913            River Valley-West             Core  53.504068 -113.570126   \n",
      "20691            Rural-South East       Peripheral  53.395831 -113.393540   \n",
      "4653        Outer Community-North            Outer  53.774476 -113.585715   \n",
      "13681        Residential GC-South             Core  53.482057 -113.418346   \n",
      "4609         River Valley-East-P1             Core  53.581417 -113.374561   \n",
      "14                     Rural-West            Outer  53.562973 -113.787353   \n",
      "9925       Outer Community-South1            Outer  53.333327 -113.531374   \n",
      "18290      Outer Community-South1            Outer  53.333327 -113.531374   \n",
      "13395  Outer Community-North East            Outer  53.774470 -113.372088   \n",
      "25968            Rural-South East       Peripheral  53.395831 -113.393540   \n",
      "...                           ...              ...        ...         ...   \n",
      "14165            Rural-North East       Peripheral  53.657693 -113.332118   \n",
      "14470  Outer Community-North East            Outer  53.774470 -113.372088   \n",
      "16089       Outer Community-North            Outer  53.774476 -113.585715   \n",
      "7121         Residential GC-South             Core  53.482057 -113.418346   \n",
      "12783       Outer Community-North            Outer  53.774476 -113.585715   \n",
      "1711        Outer Community-North            Outer  53.774476 -113.585715   \n",
      "12985      Outer Community-South1            Outer  53.333327 -113.531374   \n",
      "15270           Residential-North             Core  53.579459 -113.499262   \n",
      "253         Outer Community-North            Outer  53.774476 -113.585715   \n",
      "2346   Outer Community-North West            Outer  53.713765 -113.959036   \n",
      "1609   Outer Community-South East            Outer  53.337877 -113.342493   \n",
      "26146  Outer Community-South East            Outer  53.337877 -113.342493   \n",
      "11910  Outer Community-South East            Outer  53.337877 -113.342493   \n",
      "2093   Outer Community-South East            Outer  53.337877 -113.342493   \n",
      "386                    Rural-East            Outer  53.606722 -113.221359   \n",
      "24945       Outer Community-North            Outer  53.774476 -113.585715   \n",
      "11353            Rural-North West       Peripheral  53.619232 -113.712798   \n",
      "1571         Residential GC-South             Core  53.482057 -113.418346   \n",
      "15280                  Rural-East            Outer  53.606722 -113.221359   \n",
      "13255      Outer Community-South1            Outer  53.333327 -113.531374   \n",
      "13062                  Rural-East            Outer  53.606722 -113.221359   \n",
      "11529            Rural-North West       Peripheral  53.619232 -113.712798   \n",
      "15834      Outer Community-South1            Outer  53.333327 -113.531374   \n",
      "11650                  Rural-East            Outer  53.606722 -113.221359   \n",
      "24946            Rural-South West       Peripheral  53.528587 -113.738070   \n",
      "11739                  Rural-East            Outer  53.606722 -113.221359   \n",
      "25615       Outer Community-North            Outer  53.774476 -113.585715   \n",
      "12719           Residential-South            Other  53.457490 -113.425390   \n",
      "27085            Rural-North East       Peripheral  53.657693 -113.332118   \n",
      "25294      Outer Community-South1            Outer  53.333327 -113.531374   \n",
      "\n",
      "                                     Location  \n",
      "27023  POINT (-113.22135870000001 53.6067218)  \n",
      "897           POINT (-113.3935404 53.3958308)  \n",
      "18715             POINT (-113.76136 53.40827)  \n",
      "9093   POINT (-113.3745611 53.58141700000001)  \n",
      "8755          POINT (-113.3935404 53.3958308)  \n",
      "6333          POINT (-113.4183455 53.4820573)  \n",
      "8752          POINT (-113.3720881 53.7744701)  \n",
      "289           POINT (-113.9590359 53.7137648)  \n",
      "13818         POINT (-113.4992624 53.5794591)  \n",
      "7080          POINT (-113.3935404 53.3958308)  \n",
      "17060         POINT (-113.7380701 53.5285872)  \n",
      "26821         POINT (-113.5857153 53.7744765)  \n",
      "13858             POINT (-113.76136 53.40827)  \n",
      "333           POINT (-113.5313737 53.3333269)  \n",
      "8642          POINT (-113.3935404 53.3958308)  \n",
      "116               POINT (-113.42539 53.45749)  \n",
      "12979         POINT (-113.4183455 53.4820573)  \n",
      "18345         POINT (-113.9590359 53.7137648)  \n",
      "13447         POINT (-113.7380701 53.5285872)  \n",
      "18351         POINT (-113.4183455 53.4820573)  \n",
      "6913          POINT (-113.5701263 53.5040684)  \n",
      "20691         POINT (-113.3935404 53.3958308)  \n",
      "4653          POINT (-113.5857153 53.7744765)  \n",
      "13681         POINT (-113.4183455 53.4820573)  \n",
      "4609   POINT (-113.3745611 53.58141700000001)  \n",
      "14             POINT (-113.787353 53.5629733)  \n",
      "9925          POINT (-113.5313737 53.3333269)  \n",
      "18290         POINT (-113.5313737 53.3333269)  \n",
      "13395         POINT (-113.3720881 53.7744701)  \n",
      "25968         POINT (-113.3935404 53.3958308)  \n",
      "...                                       ...  \n",
      "14165         POINT (-113.3321178 53.6576928)  \n",
      "14470         POINT (-113.3720881 53.7744701)  \n",
      "16089         POINT (-113.5857153 53.7744765)  \n",
      "7121          POINT (-113.4183455 53.4820573)  \n",
      "12783         POINT (-113.5857153 53.7744765)  \n",
      "1711          POINT (-113.5857153 53.7744765)  \n",
      "12985         POINT (-113.5313737 53.3333269)  \n",
      "15270         POINT (-113.4992624 53.5794591)  \n",
      "253           POINT (-113.5857153 53.7744765)  \n",
      "2346          POINT (-113.9590359 53.7137648)  \n",
      "1609          POINT (-113.3424925 53.3378771)  \n",
      "26146         POINT (-113.3424925 53.3378771)  \n",
      "11910         POINT (-113.3424925 53.3378771)  \n",
      "2093          POINT (-113.3424925 53.3378771)  \n",
      "386    POINT (-113.22135870000001 53.6067218)  \n",
      "24945         POINT (-113.5857153 53.7744765)  \n",
      "11353         POINT (-113.7127984 53.6192317)  \n",
      "1571          POINT (-113.4183455 53.4820573)  \n",
      "15280  POINT (-113.22135870000001 53.6067218)  \n",
      "13255         POINT (-113.5313737 53.3333269)  \n",
      "13062  POINT (-113.22135870000001 53.6067218)  \n",
      "11529         POINT (-113.7127984 53.6192317)  \n",
      "15834         POINT (-113.5313737 53.3333269)  \n",
      "11650  POINT (-113.22135870000001 53.6067218)  \n",
      "24946         POINT (-113.7380701 53.5285872)  \n",
      "11739  POINT (-113.22135870000001 53.6067218)  \n",
      "25615         POINT (-113.5857153 53.7744765)  \n",
      "12719             POINT (-113.42539 53.45749)  \n",
      "27085         POINT (-113.3321178 53.6576928)  \n",
      "25294         POINT (-113.5313737 53.3333269)  \n",
      "\n",
      "[3185 rows x 10 columns]\n"
     ]
    },
    {
     "data": {
      "text/html": [
       "<div>\n",
       "<style scoped>\n",
       "    .dataframe tbody tr th:only-of-type {\n",
       "        vertical-align: middle;\n",
       "    }\n",
       "\n",
       "    .dataframe tbody tr th {\n",
       "        vertical-align: top;\n",
       "    }\n",
       "\n",
       "    .dataframe thead th {\n",
       "        text-align: right;\n",
       "    }\n",
       "</style>\n",
       "<table border=\"1\" class=\"dataframe\">\n",
       "  <thead>\n",
       "    <tr style=\"text-align: right;\">\n",
       "      <th></th>\n",
       "      <th>Trap Date</th>\n",
       "      <th>Genus</th>\n",
       "      <th>Specific Epithet</th>\n",
       "      <th>Gender</th>\n",
       "      <th>Count</th>\n",
       "      <th>Trap Region</th>\n",
       "      <th>Comparison Group</th>\n",
       "      <th>Latitude</th>\n",
       "      <th>Longitude</th>\n",
       "      <th>Location</th>\n",
       "    </tr>\n",
       "  </thead>\n",
       "  <tbody>\n",
       "    <tr>\n",
       "      <th>27023</th>\n",
       "      <td>2017-06-13</td>\n",
       "      <td>Ochlerotatus</td>\n",
       "      <td>spp.</td>\n",
       "      <td>Female</td>\n",
       "      <td>1</td>\n",
       "      <td>Rural-East</td>\n",
       "      <td>Outer</td>\n",
       "      <td>53.606722</td>\n",
       "      <td>-113.221359</td>\n",
       "      <td>POINT (-113.22135870000001 53.6067218)</td>\n",
       "    </tr>\n",
       "    <tr>\n",
       "      <th>20362</th>\n",
       "      <td>2017-06-13</td>\n",
       "      <td>Ochlerotatus</td>\n",
       "      <td>excrucians</td>\n",
       "      <td>Female</td>\n",
       "      <td>3</td>\n",
       "      <td>Outer Community-North West</td>\n",
       "      <td>Outer</td>\n",
       "      <td>53.713765</td>\n",
       "      <td>-113.959036</td>\n",
       "      <td>POINT (-113.9590359 53.7137648)</td>\n",
       "    </tr>\n",
       "    <tr>\n",
       "      <th>10581</th>\n",
       "      <td>2017-06-13</td>\n",
       "      <td>Ochlerotatus</td>\n",
       "      <td>spp.</td>\n",
       "      <td>Female</td>\n",
       "      <td>5</td>\n",
       "      <td>Outer Community-North East</td>\n",
       "      <td>Outer</td>\n",
       "      <td>53.774470</td>\n",
       "      <td>-113.372088</td>\n",
       "      <td>POINT (-113.3720881 53.7744701)</td>\n",
       "    </tr>\n",
       "    <tr>\n",
       "      <th>19780</th>\n",
       "      <td>2017-06-13</td>\n",
       "      <td>Ochlerotatus</td>\n",
       "      <td>spp.</td>\n",
       "      <td>Female</td>\n",
       "      <td>3</td>\n",
       "      <td>Rural-South West</td>\n",
       "      <td>Peripheral</td>\n",
       "      <td>53.528587</td>\n",
       "      <td>-113.738070</td>\n",
       "      <td>POINT (-113.7380701 53.5285872)</td>\n",
       "    </tr>\n",
       "    <tr>\n",
       "      <th>19355</th>\n",
       "      <td>2017-06-13</td>\n",
       "      <td>Aedes</td>\n",
       "      <td>dorsalis</td>\n",
       "      <td>Female</td>\n",
       "      <td>3</td>\n",
       "      <td>River Valley-East-P1</td>\n",
       "      <td>Core</td>\n",
       "      <td>53.581417</td>\n",
       "      <td>-113.374561</td>\n",
       "      <td>POINT (-113.3745611 53.58141700000001)</td>\n",
       "    </tr>\n",
       "    <tr>\n",
       "      <th>3425</th>\n",
       "      <td>2017-06-13</td>\n",
       "      <td>Ochlerotatus</td>\n",
       "      <td>fitchii</td>\n",
       "      <td>Female</td>\n",
       "      <td>4</td>\n",
       "      <td>River Valley-West</td>\n",
       "      <td>Core</td>\n",
       "      <td>53.504068</td>\n",
       "      <td>-113.570126</td>\n",
       "      <td>POINT (-113.5701263 53.5040684)</td>\n",
       "    </tr>\n",
       "    <tr>\n",
       "      <th>24507</th>\n",
       "      <td>2017-06-13</td>\n",
       "      <td>Ochlerotatus</td>\n",
       "      <td>flavescens</td>\n",
       "      <td>Female</td>\n",
       "      <td>2</td>\n",
       "      <td>Residential-North</td>\n",
       "      <td>Core</td>\n",
       "      <td>53.579459</td>\n",
       "      <td>-113.499262</td>\n",
       "      <td>POINT (-113.4992624 53.5794591)</td>\n",
       "    </tr>\n",
       "    <tr>\n",
       "      <th>19428</th>\n",
       "      <td>2017-06-13</td>\n",
       "      <td>Ochlerotatus</td>\n",
       "      <td>Black legs</td>\n",
       "      <td>Female</td>\n",
       "      <td>3</td>\n",
       "      <td>Rural-South West</td>\n",
       "      <td>Peripheral</td>\n",
       "      <td>53.528587</td>\n",
       "      <td>-113.738070</td>\n",
       "      <td>POINT (-113.7380701 53.5285872)</td>\n",
       "    </tr>\n",
       "    <tr>\n",
       "      <th>2091</th>\n",
       "      <td>2017-06-13</td>\n",
       "      <td>Male</td>\n",
       "      <td>UnID</td>\n",
       "      <td>Male</td>\n",
       "      <td>62</td>\n",
       "      <td>Rural-South West</td>\n",
       "      <td>Peripheral</td>\n",
       "      <td>53.528587</td>\n",
       "      <td>-113.738070</td>\n",
       "      <td>POINT (-113.7380701 53.5285872)</td>\n",
       "    </tr>\n",
       "    <tr>\n",
       "      <th>11132</th>\n",
       "      <td>2017-06-13</td>\n",
       "      <td>Male</td>\n",
       "      <td>UnID</td>\n",
       "      <td>Male</td>\n",
       "      <td>185</td>\n",
       "      <td>Outer Community-South1</td>\n",
       "      <td>Outer</td>\n",
       "      <td>53.333327</td>\n",
       "      <td>-113.531374</td>\n",
       "      <td>POINT (-113.5313737 53.3333269)</td>\n",
       "    </tr>\n",
       "    <tr>\n",
       "      <th>3320</th>\n",
       "      <td>2017-06-13</td>\n",
       "      <td>Culiseta</td>\n",
       "      <td>inornata</td>\n",
       "      <td>Female</td>\n",
       "      <td>2</td>\n",
       "      <td>Rural-West</td>\n",
       "      <td>Outer</td>\n",
       "      <td>53.562973</td>\n",
       "      <td>-113.787353</td>\n",
       "      <td>POINT (-113.787353 53.5629733)</td>\n",
       "    </tr>\n",
       "    <tr>\n",
       "      <th>24970</th>\n",
       "      <td>2017-06-13</td>\n",
       "      <td>Aedes</td>\n",
       "      <td>dorsalis</td>\n",
       "      <td>Female</td>\n",
       "      <td>1</td>\n",
       "      <td>Residential GC-South</td>\n",
       "      <td>Core</td>\n",
       "      <td>53.482057</td>\n",
       "      <td>-113.418346</td>\n",
       "      <td>POINT (-113.4183455 53.4820573)</td>\n",
       "    </tr>\n",
       "    <tr>\n",
       "      <th>12591</th>\n",
       "      <td>2017-06-13</td>\n",
       "      <td>Ochlerotatus</td>\n",
       "      <td>euedes</td>\n",
       "      <td>Female</td>\n",
       "      <td>3</td>\n",
       "      <td>Rural-South East</td>\n",
       "      <td>Peripheral</td>\n",
       "      <td>53.395831</td>\n",
       "      <td>-113.393540</td>\n",
       "      <td>POINT (-113.3935404 53.3958308)</td>\n",
       "    </tr>\n",
       "    <tr>\n",
       "      <th>7729</th>\n",
       "      <td>2017-06-13</td>\n",
       "      <td>Ochlerotatus</td>\n",
       "      <td>euedes</td>\n",
       "      <td>Female</td>\n",
       "      <td>7</td>\n",
       "      <td>Outer Community-North East</td>\n",
       "      <td>Outer</td>\n",
       "      <td>53.774470</td>\n",
       "      <td>-113.372088</td>\n",
       "      <td>POINT (-113.3720881 53.7744701)</td>\n",
       "    </tr>\n",
       "    <tr>\n",
       "      <th>19852</th>\n",
       "      <td>2017-06-13</td>\n",
       "      <td>Aedes</td>\n",
       "      <td>vexans</td>\n",
       "      <td>Female</td>\n",
       "      <td>2</td>\n",
       "      <td>Rural-South West</td>\n",
       "      <td>Peripheral</td>\n",
       "      <td>53.528587</td>\n",
       "      <td>-113.738070</td>\n",
       "      <td>POINT (-113.7380701 53.5285872)</td>\n",
       "    </tr>\n",
       "    <tr>\n",
       "      <th>16098</th>\n",
       "      <td>2017-06-13</td>\n",
       "      <td>Ochlerotatus</td>\n",
       "      <td>fitchii</td>\n",
       "      <td>Female</td>\n",
       "      <td>1</td>\n",
       "      <td>Rural-South East</td>\n",
       "      <td>Peripheral</td>\n",
       "      <td>53.395831</td>\n",
       "      <td>-113.393540</td>\n",
       "      <td>POINT (-113.3935404 53.3958308)</td>\n",
       "    </tr>\n",
       "    <tr>\n",
       "      <th>2846</th>\n",
       "      <td>2017-06-13</td>\n",
       "      <td>Ochlerotatus</td>\n",
       "      <td>Black legs</td>\n",
       "      <td>Female</td>\n",
       "      <td>5</td>\n",
       "      <td>Rural-East</td>\n",
       "      <td>Outer</td>\n",
       "      <td>53.606722</td>\n",
       "      <td>-113.221359</td>\n",
       "      <td>POINT (-113.22135870000001 53.6067218)</td>\n",
       "    </tr>\n",
       "    <tr>\n",
       "      <th>15840</th>\n",
       "      <td>2017-06-13</td>\n",
       "      <td>Culiseta</td>\n",
       "      <td>inornata</td>\n",
       "      <td>Female</td>\n",
       "      <td>6</td>\n",
       "      <td>Rural-South East</td>\n",
       "      <td>Peripheral</td>\n",
       "      <td>53.395831</td>\n",
       "      <td>-113.393540</td>\n",
       "      <td>POINT (-113.3935404 53.3958308)</td>\n",
       "    </tr>\n",
       "    <tr>\n",
       "      <th>21665</th>\n",
       "      <td>2017-06-13</td>\n",
       "      <td>Male</td>\n",
       "      <td>UnID</td>\n",
       "      <td>Male</td>\n",
       "      <td>78</td>\n",
       "      <td>Rural-East</td>\n",
       "      <td>Outer</td>\n",
       "      <td>53.606722</td>\n",
       "      <td>-113.221359</td>\n",
       "      <td>POINT (-113.22135870000001 53.6067218)</td>\n",
       "    </tr>\n",
       "    <tr>\n",
       "      <th>16740</th>\n",
       "      <td>2017-06-13</td>\n",
       "      <td>Ochlerotatus</td>\n",
       "      <td>fitchii</td>\n",
       "      <td>Female</td>\n",
       "      <td>1</td>\n",
       "      <td>Residential-North</td>\n",
       "      <td>Core</td>\n",
       "      <td>53.579459</td>\n",
       "      <td>-113.499262</td>\n",
       "      <td>POINT (-113.4992624 53.5794591)</td>\n",
       "    </tr>\n",
       "    <tr>\n",
       "      <th>16266</th>\n",
       "      <td>2017-06-13</td>\n",
       "      <td>Ochlerotatus</td>\n",
       "      <td>fitchii</td>\n",
       "      <td>Female</td>\n",
       "      <td>25</td>\n",
       "      <td>Residential GC-South</td>\n",
       "      <td>Core</td>\n",
       "      <td>53.482057</td>\n",
       "      <td>-113.418346</td>\n",
       "      <td>POINT (-113.4183455 53.4820573)</td>\n",
       "    </tr>\n",
       "    <tr>\n",
       "      <th>24869</th>\n",
       "      <td>2017-06-13</td>\n",
       "      <td>Ochlerotatus</td>\n",
       "      <td>euedes</td>\n",
       "      <td>Female</td>\n",
       "      <td>10</td>\n",
       "      <td>Rural-East</td>\n",
       "      <td>Outer</td>\n",
       "      <td>53.606722</td>\n",
       "      <td>-113.221359</td>\n",
       "      <td>POINT (-113.22135870000001 53.6067218)</td>\n",
       "    </tr>\n",
       "    <tr>\n",
       "      <th>5862</th>\n",
       "      <td>2017-06-13</td>\n",
       "      <td>Male</td>\n",
       "      <td>UnID</td>\n",
       "      <td>Male</td>\n",
       "      <td>42</td>\n",
       "      <td>River Valley-West</td>\n",
       "      <td>Core</td>\n",
       "      <td>53.504068</td>\n",
       "      <td>-113.570126</td>\n",
       "      <td>POINT (-113.5701263 53.5040684)</td>\n",
       "    </tr>\n",
       "    <tr>\n",
       "      <th>24657</th>\n",
       "      <td>2017-06-13</td>\n",
       "      <td>Misc</td>\n",
       "      <td>UnID</td>\n",
       "      <td>Female</td>\n",
       "      <td>4</td>\n",
       "      <td>Outer Community-North East</td>\n",
       "      <td>Outer</td>\n",
       "      <td>53.774470</td>\n",
       "      <td>-113.372088</td>\n",
       "      <td>POINT (-113.3720881 53.7744701)</td>\n",
       "    </tr>\n",
       "    <tr>\n",
       "      <th>21639</th>\n",
       "      <td>2017-06-13</td>\n",
       "      <td>Culiseta</td>\n",
       "      <td>inornata</td>\n",
       "      <td>Female</td>\n",
       "      <td>1</td>\n",
       "      <td>Rural-North West</td>\n",
       "      <td>Peripheral</td>\n",
       "      <td>53.619232</td>\n",
       "      <td>-113.712798</td>\n",
       "      <td>POINT (-113.7127984 53.6192317)</td>\n",
       "    </tr>\n",
       "    <tr>\n",
       "      <th>11187</th>\n",
       "      <td>2017-06-13</td>\n",
       "      <td>Ochlerotatus</td>\n",
       "      <td>excrucians</td>\n",
       "      <td>Female</td>\n",
       "      <td>7</td>\n",
       "      <td>Outer Community-South West</td>\n",
       "      <td>Outer</td>\n",
       "      <td>53.408270</td>\n",
       "      <td>-113.761360</td>\n",
       "      <td>POINT (-113.76136 53.40827)</td>\n",
       "    </tr>\n",
       "    <tr>\n",
       "      <th>10456</th>\n",
       "      <td>2017-06-13</td>\n",
       "      <td>Ochlerotatus</td>\n",
       "      <td>flavescens</td>\n",
       "      <td>Female</td>\n",
       "      <td>66</td>\n",
       "      <td>Outer Community-North East</td>\n",
       "      <td>Outer</td>\n",
       "      <td>53.774470</td>\n",
       "      <td>-113.372088</td>\n",
       "      <td>POINT (-113.3720881 53.7744701)</td>\n",
       "    </tr>\n",
       "    <tr>\n",
       "      <th>15941</th>\n",
       "      <td>2017-06-13</td>\n",
       "      <td>Ochlerotatus</td>\n",
       "      <td>excrucians</td>\n",
       "      <td>Female</td>\n",
       "      <td>4</td>\n",
       "      <td>Rural-North West</td>\n",
       "      <td>Peripheral</td>\n",
       "      <td>53.619232</td>\n",
       "      <td>-113.712798</td>\n",
       "      <td>POINT (-113.7127984 53.6192317)</td>\n",
       "    </tr>\n",
       "    <tr>\n",
       "      <th>22017</th>\n",
       "      <td>2017-06-13</td>\n",
       "      <td>Culiseta</td>\n",
       "      <td>inornata</td>\n",
       "      <td>Female</td>\n",
       "      <td>7</td>\n",
       "      <td>Residential GC-South</td>\n",
       "      <td>Core</td>\n",
       "      <td>53.482057</td>\n",
       "      <td>-113.418346</td>\n",
       "      <td>POINT (-113.4183455 53.4820573)</td>\n",
       "    </tr>\n",
       "    <tr>\n",
       "      <th>5899</th>\n",
       "      <td>2017-06-13</td>\n",
       "      <td>Culiseta</td>\n",
       "      <td>inornata</td>\n",
       "      <td>Female</td>\n",
       "      <td>3</td>\n",
       "      <td>Rural-East</td>\n",
       "      <td>Outer</td>\n",
       "      <td>53.606722</td>\n",
       "      <td>-113.221359</td>\n",
       "      <td>POINT (-113.22135870000001 53.6067218)</td>\n",
       "    </tr>\n",
       "    <tr>\n",
       "      <th>...</th>\n",
       "      <td>...</td>\n",
       "      <td>...</td>\n",
       "      <td>...</td>\n",
       "      <td>...</td>\n",
       "      <td>...</td>\n",
       "      <td>...</td>\n",
       "      <td>...</td>\n",
       "      <td>...</td>\n",
       "      <td>...</td>\n",
       "      <td>...</td>\n",
       "    </tr>\n",
       "    <tr>\n",
       "      <th>8410</th>\n",
       "      <td>2018-08-14</td>\n",
       "      <td>Culex</td>\n",
       "      <td>territans</td>\n",
       "      <td>Female</td>\n",
       "      <td>4</td>\n",
       "      <td>River Valley-East-P1</td>\n",
       "      <td>Core</td>\n",
       "      <td>53.581417</td>\n",
       "      <td>-113.374561</td>\n",
       "      <td>POINT (-113.3745611 53.58141700000001)</td>\n",
       "    </tr>\n",
       "    <tr>\n",
       "      <th>3562</th>\n",
       "      <td>2018-08-14</td>\n",
       "      <td>Male</td>\n",
       "      <td>UnID</td>\n",
       "      <td>Male</td>\n",
       "      <td>20</td>\n",
       "      <td>Residential-North</td>\n",
       "      <td>Core</td>\n",
       "      <td>53.579459</td>\n",
       "      <td>-113.499262</td>\n",
       "      <td>POINT (-113.4992624 53.5794591)</td>\n",
       "    </tr>\n",
       "    <tr>\n",
       "      <th>20453</th>\n",
       "      <td>2018-08-14</td>\n",
       "      <td>Ochlerotatus</td>\n",
       "      <td>fitchii</td>\n",
       "      <td>Female</td>\n",
       "      <td>3</td>\n",
       "      <td>Outer Community-North East</td>\n",
       "      <td>Outer</td>\n",
       "      <td>53.774470</td>\n",
       "      <td>-113.372088</td>\n",
       "      <td>POINT (-113.3720881 53.7744701)</td>\n",
       "    </tr>\n",
       "    <tr>\n",
       "      <th>4201</th>\n",
       "      <td>2018-08-14</td>\n",
       "      <td>Culiseta</td>\n",
       "      <td>inornata</td>\n",
       "      <td>Female</td>\n",
       "      <td>3</td>\n",
       "      <td>Residential-North</td>\n",
       "      <td>Core</td>\n",
       "      <td>53.579459</td>\n",
       "      <td>-113.499262</td>\n",
       "      <td>POINT (-113.4992624 53.5794591)</td>\n",
       "    </tr>\n",
       "    <tr>\n",
       "      <th>20429</th>\n",
       "      <td>2018-08-14</td>\n",
       "      <td>Anopheles</td>\n",
       "      <td>earlei</td>\n",
       "      <td>Female</td>\n",
       "      <td>2</td>\n",
       "      <td>Outer Community-South East</td>\n",
       "      <td>Outer</td>\n",
       "      <td>53.337877</td>\n",
       "      <td>-113.342493</td>\n",
       "      <td>POINT (-113.3424925 53.3378771)</td>\n",
       "    </tr>\n",
       "    <tr>\n",
       "      <th>8899</th>\n",
       "      <td>2018-08-14</td>\n",
       "      <td>Culiseta</td>\n",
       "      <td>incidens</td>\n",
       "      <td>Female</td>\n",
       "      <td>1</td>\n",
       "      <td>Rural-South East</td>\n",
       "      <td>Peripheral</td>\n",
       "      <td>53.395831</td>\n",
       "      <td>-113.393540</td>\n",
       "      <td>POINT (-113.3935404 53.3958308)</td>\n",
       "    </tr>\n",
       "    <tr>\n",
       "      <th>16320</th>\n",
       "      <td>2018-08-14</td>\n",
       "      <td>Ochlerotatus</td>\n",
       "      <td>excrucians</td>\n",
       "      <td>Female</td>\n",
       "      <td>1</td>\n",
       "      <td>Rural-North West</td>\n",
       "      <td>Peripheral</td>\n",
       "      <td>53.619232</td>\n",
       "      <td>-113.712798</td>\n",
       "      <td>POINT (-113.7127984 53.6192317)</td>\n",
       "    </tr>\n",
       "    <tr>\n",
       "      <th>16287</th>\n",
       "      <td>2018-08-14</td>\n",
       "      <td>Ochlerotatus</td>\n",
       "      <td>spencerii</td>\n",
       "      <td>Female</td>\n",
       "      <td>1</td>\n",
       "      <td>Residential GC-South</td>\n",
       "      <td>Core</td>\n",
       "      <td>53.482057</td>\n",
       "      <td>-113.418346</td>\n",
       "      <td>POINT (-113.4183455 53.4820573)</td>\n",
       "    </tr>\n",
       "    <tr>\n",
       "      <th>9543</th>\n",
       "      <td>2018-08-14</td>\n",
       "      <td>Aedes</td>\n",
       "      <td>vexans</td>\n",
       "      <td>Female</td>\n",
       "      <td>25</td>\n",
       "      <td>Outer Community-North East</td>\n",
       "      <td>Outer</td>\n",
       "      <td>53.774470</td>\n",
       "      <td>-113.372088</td>\n",
       "      <td>POINT (-113.3720881 53.7744701)</td>\n",
       "    </tr>\n",
       "    <tr>\n",
       "      <th>16264</th>\n",
       "      <td>2018-08-14</td>\n",
       "      <td>Culex</td>\n",
       "      <td>tarsalis</td>\n",
       "      <td>Female</td>\n",
       "      <td>5</td>\n",
       "      <td>Rural-North West</td>\n",
       "      <td>Peripheral</td>\n",
       "      <td>53.619232</td>\n",
       "      <td>-113.712798</td>\n",
       "      <td>POINT (-113.7127984 53.6192317)</td>\n",
       "    </tr>\n",
       "    <tr>\n",
       "      <th>17791</th>\n",
       "      <td>2018-08-14</td>\n",
       "      <td>Culex</td>\n",
       "      <td>tarsalis</td>\n",
       "      <td>Female</td>\n",
       "      <td>1</td>\n",
       "      <td>River Valley-West</td>\n",
       "      <td>Core</td>\n",
       "      <td>53.504068</td>\n",
       "      <td>-113.570126</td>\n",
       "      <td>POINT (-113.5701263 53.5040684)</td>\n",
       "    </tr>\n",
       "    <tr>\n",
       "      <th>3292</th>\n",
       "      <td>2018-08-14</td>\n",
       "      <td>Culex</td>\n",
       "      <td>tarsalis</td>\n",
       "      <td>Female</td>\n",
       "      <td>4</td>\n",
       "      <td>Rural-West</td>\n",
       "      <td>Outer</td>\n",
       "      <td>53.559020</td>\n",
       "      <td>-114.001190</td>\n",
       "      <td>POINT (-114.00119 53.559020000000004)</td>\n",
       "    </tr>\n",
       "    <tr>\n",
       "      <th>21522</th>\n",
       "      <td>2018-08-14</td>\n",
       "      <td>Ochlerotatus</td>\n",
       "      <td>canadensis</td>\n",
       "      <td>Female</td>\n",
       "      <td>1</td>\n",
       "      <td>River Valley-West</td>\n",
       "      <td>Core</td>\n",
       "      <td>53.504068</td>\n",
       "      <td>-113.570126</td>\n",
       "      <td>POINT (-113.5701263 53.5040684)</td>\n",
       "    </tr>\n",
       "    <tr>\n",
       "      <th>20110</th>\n",
       "      <td>2018-08-14</td>\n",
       "      <td>Culiseta</td>\n",
       "      <td>alaskaensis</td>\n",
       "      <td>Female</td>\n",
       "      <td>1</td>\n",
       "      <td>Outer Community-South East</td>\n",
       "      <td>Outer</td>\n",
       "      <td>53.337877</td>\n",
       "      <td>-113.342493</td>\n",
       "      <td>POINT (-113.3424925 53.3378771)</td>\n",
       "    </tr>\n",
       "    <tr>\n",
       "      <th>3070</th>\n",
       "      <td>2018-08-14</td>\n",
       "      <td>Male</td>\n",
       "      <td>UnID</td>\n",
       "      <td>Male</td>\n",
       "      <td>102</td>\n",
       "      <td>Residential GC-South</td>\n",
       "      <td>Core</td>\n",
       "      <td>53.482057</td>\n",
       "      <td>-113.418346</td>\n",
       "      <td>POINT (-113.4183455 53.4820573)</td>\n",
       "    </tr>\n",
       "    <tr>\n",
       "      <th>17323</th>\n",
       "      <td>2018-08-14</td>\n",
       "      <td>Ochlerotatus</td>\n",
       "      <td>flavescens</td>\n",
       "      <td>Female</td>\n",
       "      <td>1</td>\n",
       "      <td>Outer Community-North West</td>\n",
       "      <td>Outer</td>\n",
       "      <td>53.713765</td>\n",
       "      <td>-113.959036</td>\n",
       "      <td>POINT (-113.9590359 53.7137648)</td>\n",
       "    </tr>\n",
       "    <tr>\n",
       "      <th>8480</th>\n",
       "      <td>2018-08-14</td>\n",
       "      <td>Culiseta</td>\n",
       "      <td>inornata</td>\n",
       "      <td>Female</td>\n",
       "      <td>9</td>\n",
       "      <td>River Valley-West</td>\n",
       "      <td>Core</td>\n",
       "      <td>53.504068</td>\n",
       "      <td>-113.570126</td>\n",
       "      <td>POINT (-113.5701263 53.5040684)</td>\n",
       "    </tr>\n",
       "    <tr>\n",
       "      <th>5531</th>\n",
       "      <td>2018-08-14</td>\n",
       "      <td>Culiseta</td>\n",
       "      <td>alaskaensis</td>\n",
       "      <td>Female</td>\n",
       "      <td>1</td>\n",
       "      <td>Residential GC-South</td>\n",
       "      <td>Core</td>\n",
       "      <td>53.482057</td>\n",
       "      <td>-113.418346</td>\n",
       "      <td>POINT (-113.4183455 53.4820573)</td>\n",
       "    </tr>\n",
       "    <tr>\n",
       "      <th>7123</th>\n",
       "      <td>2018-08-14</td>\n",
       "      <td>Culiseta</td>\n",
       "      <td>morsitans</td>\n",
       "      <td>Female</td>\n",
       "      <td>10</td>\n",
       "      <td>Rural-West</td>\n",
       "      <td>Outer</td>\n",
       "      <td>53.559020</td>\n",
       "      <td>-114.001190</td>\n",
       "      <td>POINT (-114.00119 53.559020000000004)</td>\n",
       "    </tr>\n",
       "    <tr>\n",
       "      <th>5740</th>\n",
       "      <td>2018-08-14</td>\n",
       "      <td>Aedes</td>\n",
       "      <td>dorsalis</td>\n",
       "      <td>Female</td>\n",
       "      <td>1</td>\n",
       "      <td>Rural-North East</td>\n",
       "      <td>Peripheral</td>\n",
       "      <td>53.657693</td>\n",
       "      <td>-113.332118</td>\n",
       "      <td>POINT (-113.3321178 53.6576928)</td>\n",
       "    </tr>\n",
       "    <tr>\n",
       "      <th>17735</th>\n",
       "      <td>2018-08-14</td>\n",
       "      <td>Aedes</td>\n",
       "      <td>vexans</td>\n",
       "      <td>Female</td>\n",
       "      <td>13</td>\n",
       "      <td>River Valley-East-P1</td>\n",
       "      <td>Core</td>\n",
       "      <td>53.581417</td>\n",
       "      <td>-113.374561</td>\n",
       "      <td>POINT (-113.3745611 53.58141700000001)</td>\n",
       "    </tr>\n",
       "    <tr>\n",
       "      <th>21590</th>\n",
       "      <td>2018-08-14</td>\n",
       "      <td>Anopheles</td>\n",
       "      <td>earlei</td>\n",
       "      <td>Female</td>\n",
       "      <td>3</td>\n",
       "      <td>Rural-East</td>\n",
       "      <td>Outer</td>\n",
       "      <td>53.606722</td>\n",
       "      <td>-113.221359</td>\n",
       "      <td>POINT (-113.22135870000001 53.6067218)</td>\n",
       "    </tr>\n",
       "    <tr>\n",
       "      <th>11008</th>\n",
       "      <td>2018-08-14</td>\n",
       "      <td>Culiseta</td>\n",
       "      <td>impatiens</td>\n",
       "      <td>Female</td>\n",
       "      <td>1</td>\n",
       "      <td>River Valley-East-P1</td>\n",
       "      <td>Core</td>\n",
       "      <td>53.581417</td>\n",
       "      <td>-113.374561</td>\n",
       "      <td>POINT (-113.3745611 53.58141700000001)</td>\n",
       "    </tr>\n",
       "    <tr>\n",
       "      <th>4890</th>\n",
       "      <td>2018-08-14</td>\n",
       "      <td>Culex</td>\n",
       "      <td>territans</td>\n",
       "      <td>Female</td>\n",
       "      <td>3</td>\n",
       "      <td>Residential GC-South</td>\n",
       "      <td>Core</td>\n",
       "      <td>53.482057</td>\n",
       "      <td>-113.418346</td>\n",
       "      <td>POINT (-113.4183455 53.4820573)</td>\n",
       "    </tr>\n",
       "    <tr>\n",
       "      <th>17724</th>\n",
       "      <td>2018-08-14</td>\n",
       "      <td>Culiseta</td>\n",
       "      <td>incidens</td>\n",
       "      <td>Female</td>\n",
       "      <td>2</td>\n",
       "      <td>Residential GC-South</td>\n",
       "      <td>Core</td>\n",
       "      <td>53.482057</td>\n",
       "      <td>-113.418346</td>\n",
       "      <td>POINT (-113.4183455 53.4820573)</td>\n",
       "    </tr>\n",
       "    <tr>\n",
       "      <th>17966</th>\n",
       "      <td>2018-08-14</td>\n",
       "      <td>Anopheles</td>\n",
       "      <td>earlei</td>\n",
       "      <td>Female</td>\n",
       "      <td>1</td>\n",
       "      <td>Rural-North West</td>\n",
       "      <td>Peripheral</td>\n",
       "      <td>53.619232</td>\n",
       "      <td>-113.712798</td>\n",
       "      <td>POINT (-113.7127984 53.6192317)</td>\n",
       "    </tr>\n",
       "    <tr>\n",
       "      <th>21433</th>\n",
       "      <td>2018-08-14</td>\n",
       "      <td>Culex</td>\n",
       "      <td>territans</td>\n",
       "      <td>Female</td>\n",
       "      <td>2</td>\n",
       "      <td>Residential-North</td>\n",
       "      <td>Core</td>\n",
       "      <td>53.579459</td>\n",
       "      <td>-113.499262</td>\n",
       "      <td>POINT (-113.4992624 53.5794591)</td>\n",
       "    </tr>\n",
       "    <tr>\n",
       "      <th>7929</th>\n",
       "      <td>2018-08-14</td>\n",
       "      <td>Misc</td>\n",
       "      <td>UnID</td>\n",
       "      <td>Female</td>\n",
       "      <td>1</td>\n",
       "      <td>Residential GC-South</td>\n",
       "      <td>Core</td>\n",
       "      <td>53.482057</td>\n",
       "      <td>-113.418346</td>\n",
       "      <td>POINT (-113.4183455 53.4820573)</td>\n",
       "    </tr>\n",
       "    <tr>\n",
       "      <th>17018</th>\n",
       "      <td>2018-08-14</td>\n",
       "      <td>Ochlerotatus</td>\n",
       "      <td>flavescens</td>\n",
       "      <td>Female</td>\n",
       "      <td>5</td>\n",
       "      <td>Residential GC-South</td>\n",
       "      <td>Core</td>\n",
       "      <td>53.482057</td>\n",
       "      <td>-113.418346</td>\n",
       "      <td>POINT (-113.4183455 53.4820573)</td>\n",
       "    </tr>\n",
       "    <tr>\n",
       "      <th>25294</th>\n",
       "      <td>2018-08-14</td>\n",
       "      <td>Ochlerotatus</td>\n",
       "      <td>Black legs</td>\n",
       "      <td>Female</td>\n",
       "      <td>2</td>\n",
       "      <td>Outer Community-South1</td>\n",
       "      <td>Outer</td>\n",
       "      <td>53.333327</td>\n",
       "      <td>-113.531374</td>\n",
       "      <td>POINT (-113.5313737 53.3333269)</td>\n",
       "    </tr>\n",
       "  </tbody>\n",
       "</table>\n",
       "<p>3185 rows × 10 columns</p>\n",
       "</div>"
      ],
      "text/plain": [
       "       Trap Date         Genus Specific Epithet  Gender  Count  \\\n",
       "27023 2017-06-13  Ochlerotatus             spp.  Female      1   \n",
       "20362 2017-06-13  Ochlerotatus       excrucians  Female      3   \n",
       "10581 2017-06-13  Ochlerotatus             spp.  Female      5   \n",
       "19780 2017-06-13  Ochlerotatus             spp.  Female      3   \n",
       "19355 2017-06-13         Aedes         dorsalis  Female      3   \n",
       "3425  2017-06-13  Ochlerotatus          fitchii  Female      4   \n",
       "24507 2017-06-13  Ochlerotatus       flavescens  Female      2   \n",
       "19428 2017-06-13  Ochlerotatus       Black legs  Female      3   \n",
       "2091  2017-06-13          Male             UnID    Male     62   \n",
       "11132 2017-06-13          Male             UnID    Male    185   \n",
       "3320  2017-06-13      Culiseta         inornata  Female      2   \n",
       "24970 2017-06-13         Aedes         dorsalis  Female      1   \n",
       "12591 2017-06-13  Ochlerotatus           euedes  Female      3   \n",
       "7729  2017-06-13  Ochlerotatus           euedes  Female      7   \n",
       "19852 2017-06-13         Aedes           vexans  Female      2   \n",
       "16098 2017-06-13  Ochlerotatus          fitchii  Female      1   \n",
       "2846  2017-06-13  Ochlerotatus       Black legs  Female      5   \n",
       "15840 2017-06-13      Culiseta         inornata  Female      6   \n",
       "21665 2017-06-13          Male             UnID    Male     78   \n",
       "16740 2017-06-13  Ochlerotatus          fitchii  Female      1   \n",
       "16266 2017-06-13  Ochlerotatus          fitchii  Female     25   \n",
       "24869 2017-06-13  Ochlerotatus           euedes  Female     10   \n",
       "5862  2017-06-13          Male             UnID    Male     42   \n",
       "24657 2017-06-13          Misc             UnID  Female      4   \n",
       "21639 2017-06-13      Culiseta         inornata  Female      1   \n",
       "11187 2017-06-13  Ochlerotatus       excrucians  Female      7   \n",
       "10456 2017-06-13  Ochlerotatus       flavescens  Female     66   \n",
       "15941 2017-06-13  Ochlerotatus       excrucians  Female      4   \n",
       "22017 2017-06-13      Culiseta         inornata  Female      7   \n",
       "5899  2017-06-13      Culiseta         inornata  Female      3   \n",
       "...          ...           ...              ...     ...    ...   \n",
       "8410  2018-08-14         Culex        territans  Female      4   \n",
       "3562  2018-08-14          Male             UnID    Male     20   \n",
       "20453 2018-08-14  Ochlerotatus          fitchii  Female      3   \n",
       "4201  2018-08-14      Culiseta         inornata  Female      3   \n",
       "20429 2018-08-14     Anopheles           earlei  Female      2   \n",
       "8899  2018-08-14      Culiseta         incidens  Female      1   \n",
       "16320 2018-08-14  Ochlerotatus       excrucians  Female      1   \n",
       "16287 2018-08-14  Ochlerotatus        spencerii  Female      1   \n",
       "9543  2018-08-14         Aedes           vexans  Female     25   \n",
       "16264 2018-08-14         Culex         tarsalis  Female      5   \n",
       "17791 2018-08-14         Culex         tarsalis  Female      1   \n",
       "3292  2018-08-14         Culex         tarsalis  Female      4   \n",
       "21522 2018-08-14  Ochlerotatus       canadensis  Female      1   \n",
       "20110 2018-08-14      Culiseta      alaskaensis  Female      1   \n",
       "3070  2018-08-14          Male             UnID    Male    102   \n",
       "17323 2018-08-14  Ochlerotatus       flavescens  Female      1   \n",
       "8480  2018-08-14      Culiseta         inornata  Female      9   \n",
       "5531  2018-08-14      Culiseta      alaskaensis  Female      1   \n",
       "7123  2018-08-14      Culiseta        morsitans  Female     10   \n",
       "5740  2018-08-14         Aedes         dorsalis  Female      1   \n",
       "17735 2018-08-14         Aedes           vexans  Female     13   \n",
       "21590 2018-08-14     Anopheles           earlei  Female      3   \n",
       "11008 2018-08-14      Culiseta        impatiens  Female      1   \n",
       "4890  2018-08-14         Culex        territans  Female      3   \n",
       "17724 2018-08-14      Culiseta         incidens  Female      2   \n",
       "17966 2018-08-14     Anopheles           earlei  Female      1   \n",
       "21433 2018-08-14         Culex        territans  Female      2   \n",
       "7929  2018-08-14          Misc             UnID  Female      1   \n",
       "17018 2018-08-14  Ochlerotatus       flavescens  Female      5   \n",
       "25294 2018-08-14  Ochlerotatus       Black legs  Female      2   \n",
       "\n",
       "                      Trap Region Comparison Group   Latitude   Longitude  \\\n",
       "27023                  Rural-East            Outer  53.606722 -113.221359   \n",
       "20362  Outer Community-North West            Outer  53.713765 -113.959036   \n",
       "10581  Outer Community-North East            Outer  53.774470 -113.372088   \n",
       "19780            Rural-South West       Peripheral  53.528587 -113.738070   \n",
       "19355        River Valley-East-P1             Core  53.581417 -113.374561   \n",
       "3425            River Valley-West             Core  53.504068 -113.570126   \n",
       "24507           Residential-North             Core  53.579459 -113.499262   \n",
       "19428            Rural-South West       Peripheral  53.528587 -113.738070   \n",
       "2091             Rural-South West       Peripheral  53.528587 -113.738070   \n",
       "11132      Outer Community-South1            Outer  53.333327 -113.531374   \n",
       "3320                   Rural-West            Outer  53.562973 -113.787353   \n",
       "24970        Residential GC-South             Core  53.482057 -113.418346   \n",
       "12591            Rural-South East       Peripheral  53.395831 -113.393540   \n",
       "7729   Outer Community-North East            Outer  53.774470 -113.372088   \n",
       "19852            Rural-South West       Peripheral  53.528587 -113.738070   \n",
       "16098            Rural-South East       Peripheral  53.395831 -113.393540   \n",
       "2846                   Rural-East            Outer  53.606722 -113.221359   \n",
       "15840            Rural-South East       Peripheral  53.395831 -113.393540   \n",
       "21665                  Rural-East            Outer  53.606722 -113.221359   \n",
       "16740           Residential-North             Core  53.579459 -113.499262   \n",
       "16266        Residential GC-South             Core  53.482057 -113.418346   \n",
       "24869                  Rural-East            Outer  53.606722 -113.221359   \n",
       "5862            River Valley-West             Core  53.504068 -113.570126   \n",
       "24657  Outer Community-North East            Outer  53.774470 -113.372088   \n",
       "21639            Rural-North West       Peripheral  53.619232 -113.712798   \n",
       "11187  Outer Community-South West            Outer  53.408270 -113.761360   \n",
       "10456  Outer Community-North East            Outer  53.774470 -113.372088   \n",
       "15941            Rural-North West       Peripheral  53.619232 -113.712798   \n",
       "22017        Residential GC-South             Core  53.482057 -113.418346   \n",
       "5899                   Rural-East            Outer  53.606722 -113.221359   \n",
       "...                           ...              ...        ...         ...   \n",
       "8410         River Valley-East-P1             Core  53.581417 -113.374561   \n",
       "3562            Residential-North             Core  53.579459 -113.499262   \n",
       "20453  Outer Community-North East            Outer  53.774470 -113.372088   \n",
       "4201            Residential-North             Core  53.579459 -113.499262   \n",
       "20429  Outer Community-South East            Outer  53.337877 -113.342493   \n",
       "8899             Rural-South East       Peripheral  53.395831 -113.393540   \n",
       "16320            Rural-North West       Peripheral  53.619232 -113.712798   \n",
       "16287        Residential GC-South             Core  53.482057 -113.418346   \n",
       "9543   Outer Community-North East            Outer  53.774470 -113.372088   \n",
       "16264            Rural-North West       Peripheral  53.619232 -113.712798   \n",
       "17791           River Valley-West             Core  53.504068 -113.570126   \n",
       "3292                   Rural-West            Outer  53.559020 -114.001190   \n",
       "21522           River Valley-West             Core  53.504068 -113.570126   \n",
       "20110  Outer Community-South East            Outer  53.337877 -113.342493   \n",
       "3070         Residential GC-South             Core  53.482057 -113.418346   \n",
       "17323  Outer Community-North West            Outer  53.713765 -113.959036   \n",
       "8480            River Valley-West             Core  53.504068 -113.570126   \n",
       "5531         Residential GC-South             Core  53.482057 -113.418346   \n",
       "7123                   Rural-West            Outer  53.559020 -114.001190   \n",
       "5740             Rural-North East       Peripheral  53.657693 -113.332118   \n",
       "17735        River Valley-East-P1             Core  53.581417 -113.374561   \n",
       "21590                  Rural-East            Outer  53.606722 -113.221359   \n",
       "11008        River Valley-East-P1             Core  53.581417 -113.374561   \n",
       "4890         Residential GC-South             Core  53.482057 -113.418346   \n",
       "17724        Residential GC-South             Core  53.482057 -113.418346   \n",
       "17966            Rural-North West       Peripheral  53.619232 -113.712798   \n",
       "21433           Residential-North             Core  53.579459 -113.499262   \n",
       "7929         Residential GC-South             Core  53.482057 -113.418346   \n",
       "17018        Residential GC-South             Core  53.482057 -113.418346   \n",
       "25294      Outer Community-South1            Outer  53.333327 -113.531374   \n",
       "\n",
       "                                     Location  \n",
       "27023  POINT (-113.22135870000001 53.6067218)  \n",
       "20362         POINT (-113.9590359 53.7137648)  \n",
       "10581         POINT (-113.3720881 53.7744701)  \n",
       "19780         POINT (-113.7380701 53.5285872)  \n",
       "19355  POINT (-113.3745611 53.58141700000001)  \n",
       "3425          POINT (-113.5701263 53.5040684)  \n",
       "24507         POINT (-113.4992624 53.5794591)  \n",
       "19428         POINT (-113.7380701 53.5285872)  \n",
       "2091          POINT (-113.7380701 53.5285872)  \n",
       "11132         POINT (-113.5313737 53.3333269)  \n",
       "3320           POINT (-113.787353 53.5629733)  \n",
       "24970         POINT (-113.4183455 53.4820573)  \n",
       "12591         POINT (-113.3935404 53.3958308)  \n",
       "7729          POINT (-113.3720881 53.7744701)  \n",
       "19852         POINT (-113.7380701 53.5285872)  \n",
       "16098         POINT (-113.3935404 53.3958308)  \n",
       "2846   POINT (-113.22135870000001 53.6067218)  \n",
       "15840         POINT (-113.3935404 53.3958308)  \n",
       "21665  POINT (-113.22135870000001 53.6067218)  \n",
       "16740         POINT (-113.4992624 53.5794591)  \n",
       "16266         POINT (-113.4183455 53.4820573)  \n",
       "24869  POINT (-113.22135870000001 53.6067218)  \n",
       "5862          POINT (-113.5701263 53.5040684)  \n",
       "24657         POINT (-113.3720881 53.7744701)  \n",
       "21639         POINT (-113.7127984 53.6192317)  \n",
       "11187             POINT (-113.76136 53.40827)  \n",
       "10456         POINT (-113.3720881 53.7744701)  \n",
       "15941         POINT (-113.7127984 53.6192317)  \n",
       "22017         POINT (-113.4183455 53.4820573)  \n",
       "5899   POINT (-113.22135870000001 53.6067218)  \n",
       "...                                       ...  \n",
       "8410   POINT (-113.3745611 53.58141700000001)  \n",
       "3562          POINT (-113.4992624 53.5794591)  \n",
       "20453         POINT (-113.3720881 53.7744701)  \n",
       "4201          POINT (-113.4992624 53.5794591)  \n",
       "20429         POINT (-113.3424925 53.3378771)  \n",
       "8899          POINT (-113.3935404 53.3958308)  \n",
       "16320         POINT (-113.7127984 53.6192317)  \n",
       "16287         POINT (-113.4183455 53.4820573)  \n",
       "9543          POINT (-113.3720881 53.7744701)  \n",
       "16264         POINT (-113.7127984 53.6192317)  \n",
       "17791         POINT (-113.5701263 53.5040684)  \n",
       "3292    POINT (-114.00119 53.559020000000004)  \n",
       "21522         POINT (-113.5701263 53.5040684)  \n",
       "20110         POINT (-113.3424925 53.3378771)  \n",
       "3070          POINT (-113.4183455 53.4820573)  \n",
       "17323         POINT (-113.9590359 53.7137648)  \n",
       "8480          POINT (-113.5701263 53.5040684)  \n",
       "5531          POINT (-113.4183455 53.4820573)  \n",
       "7123    POINT (-114.00119 53.559020000000004)  \n",
       "5740          POINT (-113.3321178 53.6576928)  \n",
       "17735  POINT (-113.3745611 53.58141700000001)  \n",
       "21590  POINT (-113.22135870000001 53.6067218)  \n",
       "11008  POINT (-113.3745611 53.58141700000001)  \n",
       "4890          POINT (-113.4183455 53.4820573)  \n",
       "17724         POINT (-113.4183455 53.4820573)  \n",
       "17966         POINT (-113.7127984 53.6192317)  \n",
       "21433         POINT (-113.4992624 53.5794591)  \n",
       "7929          POINT (-113.4183455 53.4820573)  \n",
       "17018         POINT (-113.4183455 53.4820573)  \n",
       "25294         POINT (-113.5313737 53.3333269)  \n",
       "\n",
       "[3185 rows x 10 columns]"
      ]
     },
     "execution_count": 1012,
     "metadata": {},
     "output_type": "execute_result"
    }
   ],
   "source": [
    "mos_data['Trap Date'] = pd.to_datetime(mos_data['Trap Date'])\n",
    "start_remove = min(weather_data['date_time_local'])\n",
    "end_remove = max(weather_data['date_time_local'])\n",
    "mos_data_1 = mos_data.loc[(mos_data[\"Trap Date\"] > start_remove) & (mos_data[\"Trap Date\"] < end_remove) ]\n",
    "mos_date_start = str(mos_data_1['Trap Date'].dt.date.min())\n",
    "mos_date_end = str(mos_data_1['Trap Date'].dt.date.max())\n",
    "mos_date_range = mos_date_start +' to ' + mos_date_end\n",
    "print(\"Range of dates in mosquito dataset is {}\".format(mos_date_range))\n",
    "\n",
    "\n",
    "mos_range = (mos_data['Trap Date'] > mos_date_start) & (mos_data['Trap Date'] < mos_date_end)\n",
    "mos_data = mos_data.loc[mos_range]\n",
    "print(mos_data) #\n",
    "mos_data = mos_data.sort_values(by='Trap Date')\n",
    "mos_data #final mos_data"
   ]
  },
  {
   "cell_type": "markdown",
   "metadata": {},
   "source": [
    "### Get total count for each day"
   ]
  },
  {
   "cell_type": "code",
   "execution_count": 1013,
   "metadata": {
    "scrolled": false
   },
   "outputs": [
    {
     "data": {
      "text/html": [
       "<div>\n",
       "<style scoped>\n",
       "    .dataframe tbody tr th:only-of-type {\n",
       "        vertical-align: middle;\n",
       "    }\n",
       "\n",
       "    .dataframe tbody tr th {\n",
       "        vertical-align: top;\n",
       "    }\n",
       "\n",
       "    .dataframe thead th {\n",
       "        text-align: right;\n",
       "    }\n",
       "</style>\n",
       "<table border=\"1\" class=\"dataframe\">\n",
       "  <thead>\n",
       "    <tr style=\"text-align: right;\">\n",
       "      <th></th>\n",
       "      <th>Count</th>\n",
       "    </tr>\n",
       "    <tr>\n",
       "      <th>Trap Date</th>\n",
       "      <th></th>\n",
       "    </tr>\n",
       "  </thead>\n",
       "  <tbody>\n",
       "    <tr>\n",
       "      <th>2017-06-13</th>\n",
       "      <td>2969</td>\n",
       "    </tr>\n",
       "    <tr>\n",
       "      <th>2017-06-20</th>\n",
       "      <td>1872</td>\n",
       "    </tr>\n",
       "    <tr>\n",
       "      <th>2017-06-27</th>\n",
       "      <td>769</td>\n",
       "    </tr>\n",
       "    <tr>\n",
       "      <th>2017-07-04</th>\n",
       "      <td>1779</td>\n",
       "    </tr>\n",
       "    <tr>\n",
       "      <th>2017-07-11</th>\n",
       "      <td>2253</td>\n",
       "    </tr>\n",
       "  </tbody>\n",
       "</table>\n",
       "</div>"
      ],
      "text/plain": [
       "            Count\n",
       "Trap Date        \n",
       "2017-06-13   2969\n",
       "2017-06-20   1872\n",
       "2017-06-27    769\n",
       "2017-07-04   1779\n",
       "2017-07-11   2253"
      ]
     },
     "execution_count": 1013,
     "metadata": {},
     "output_type": "execute_result"
    }
   ],
   "source": [
    "mos_count = mos_data.groupby([\"Trap Date\"]).agg({\n",
    "    \"Count\":\"sum\",\n",
    "})\n",
    "mos_count[mos_count['Count'] == mos_count['Count'].max()]\n",
    "\n",
    "mos_count.head() ####number of mos"
   ]
  },
  {
   "cell_type": "code",
   "execution_count": 1014,
   "metadata": {},
   "outputs": [
    {
     "data": {
      "text/plain": [
       "30"
      ]
     },
     "execution_count": 1014,
     "metadata": {},
     "output_type": "execute_result"
    }
   ],
   "source": [
    "len(mos_count.index)"
   ]
  },
  {
   "cell_type": "markdown",
   "metadata": {},
   "source": [
    "It can be seen that IDd and Include columns contains many NaN values so they will be dropped"
   ]
  },
  {
   "cell_type": "code",
   "execution_count": 1015,
   "metadata": {
    "scrolled": true
   },
   "outputs": [
    {
     "data": {
      "text/plain": [
       "Trap Date           0\n",
       "Genus               0\n",
       "Specific Epithet    0\n",
       "Gender              0\n",
       "Count               0\n",
       "Trap Region         0\n",
       "Comparison Group    0\n",
       "Latitude            0\n",
       "Longitude           0\n",
       "Location            0\n",
       "dtype: int64"
      ]
     },
     "execution_count": 1015,
     "metadata": {},
     "output_type": "execute_result"
    }
   ],
   "source": [
    "mos_data.isnull().sum()"
   ]
  },
  {
   "cell_type": "code",
   "execution_count": 1016,
   "metadata": {},
   "outputs": [
    {
     "ename": "KeyError",
     "evalue": "\"['IDd' 'Include'] not found in axis\"",
     "output_type": "error",
     "traceback": [
      "\u001b[0;31m---------------------------------------------------------------------------\u001b[0m",
      "\u001b[0;31mKeyError\u001b[0m                                  Traceback (most recent call last)",
      "\u001b[0;32m<ipython-input-1016-0ea4b9077745>\u001b[0m in \u001b[0;36m<module>\u001b[0;34m\u001b[0m\n\u001b[0;32m----> 1\u001b[0;31m \u001b[0mmos_data\u001b[0m\u001b[0;34m.\u001b[0m\u001b[0mdrop\u001b[0m\u001b[0;34m(\u001b[0m\u001b[0mcolumns\u001b[0m\u001b[0;34m=\u001b[0m\u001b[0;34m[\u001b[0m\u001b[0;34m'IDd'\u001b[0m\u001b[0;34m,\u001b[0m \u001b[0;34m'Include'\u001b[0m\u001b[0;34m]\u001b[0m\u001b[0;34m,\u001b[0m \u001b[0minplace\u001b[0m\u001b[0;34m=\u001b[0m\u001b[0;32mTrue\u001b[0m\u001b[0;34m)\u001b[0m\u001b[0;34m\u001b[0m\u001b[0;34m\u001b[0m\u001b[0m\n\u001b[0m",
      "\u001b[0;32m~/anaconda3/lib/python3.7/site-packages/pandas/core/frame.py\u001b[0m in \u001b[0;36mdrop\u001b[0;34m(self, labels, axis, index, columns, level, inplace, errors)\u001b[0m\n\u001b[1;32m   3938\u001b[0m                                            \u001b[0mindex\u001b[0m\u001b[0;34m=\u001b[0m\u001b[0mindex\u001b[0m\u001b[0;34m,\u001b[0m \u001b[0mcolumns\u001b[0m\u001b[0;34m=\u001b[0m\u001b[0mcolumns\u001b[0m\u001b[0;34m,\u001b[0m\u001b[0;34m\u001b[0m\u001b[0;34m\u001b[0m\u001b[0m\n\u001b[1;32m   3939\u001b[0m                                            \u001b[0mlevel\u001b[0m\u001b[0;34m=\u001b[0m\u001b[0mlevel\u001b[0m\u001b[0;34m,\u001b[0m \u001b[0minplace\u001b[0m\u001b[0;34m=\u001b[0m\u001b[0minplace\u001b[0m\u001b[0;34m,\u001b[0m\u001b[0;34m\u001b[0m\u001b[0;34m\u001b[0m\u001b[0m\n\u001b[0;32m-> 3940\u001b[0;31m                                            errors=errors)\n\u001b[0m\u001b[1;32m   3941\u001b[0m \u001b[0;34m\u001b[0m\u001b[0m\n\u001b[1;32m   3942\u001b[0m     @rewrite_axis_style_signature('mapper', [('copy', True),\n",
      "\u001b[0;32m~/anaconda3/lib/python3.7/site-packages/pandas/core/generic.py\u001b[0m in \u001b[0;36mdrop\u001b[0;34m(self, labels, axis, index, columns, level, inplace, errors)\u001b[0m\n\u001b[1;32m   3778\u001b[0m         \u001b[0;32mfor\u001b[0m \u001b[0maxis\u001b[0m\u001b[0;34m,\u001b[0m \u001b[0mlabels\u001b[0m \u001b[0;32min\u001b[0m \u001b[0maxes\u001b[0m\u001b[0;34m.\u001b[0m\u001b[0mitems\u001b[0m\u001b[0;34m(\u001b[0m\u001b[0;34m)\u001b[0m\u001b[0;34m:\u001b[0m\u001b[0;34m\u001b[0m\u001b[0;34m\u001b[0m\u001b[0m\n\u001b[1;32m   3779\u001b[0m             \u001b[0;32mif\u001b[0m \u001b[0mlabels\u001b[0m \u001b[0;32mis\u001b[0m \u001b[0;32mnot\u001b[0m \u001b[0;32mNone\u001b[0m\u001b[0;34m:\u001b[0m\u001b[0;34m\u001b[0m\u001b[0;34m\u001b[0m\u001b[0m\n\u001b[0;32m-> 3780\u001b[0;31m                 \u001b[0mobj\u001b[0m \u001b[0;34m=\u001b[0m \u001b[0mobj\u001b[0m\u001b[0;34m.\u001b[0m\u001b[0m_drop_axis\u001b[0m\u001b[0;34m(\u001b[0m\u001b[0mlabels\u001b[0m\u001b[0;34m,\u001b[0m \u001b[0maxis\u001b[0m\u001b[0;34m,\u001b[0m \u001b[0mlevel\u001b[0m\u001b[0;34m=\u001b[0m\u001b[0mlevel\u001b[0m\u001b[0;34m,\u001b[0m \u001b[0merrors\u001b[0m\u001b[0;34m=\u001b[0m\u001b[0merrors\u001b[0m\u001b[0;34m)\u001b[0m\u001b[0;34m\u001b[0m\u001b[0;34m\u001b[0m\u001b[0m\n\u001b[0m\u001b[1;32m   3781\u001b[0m \u001b[0;34m\u001b[0m\u001b[0m\n\u001b[1;32m   3782\u001b[0m         \u001b[0;32mif\u001b[0m \u001b[0minplace\u001b[0m\u001b[0;34m:\u001b[0m\u001b[0;34m\u001b[0m\u001b[0;34m\u001b[0m\u001b[0m\n",
      "\u001b[0;32m~/anaconda3/lib/python3.7/site-packages/pandas/core/generic.py\u001b[0m in \u001b[0;36m_drop_axis\u001b[0;34m(self, labels, axis, level, errors)\u001b[0m\n\u001b[1;32m   3810\u001b[0m                 \u001b[0mnew_axis\u001b[0m \u001b[0;34m=\u001b[0m \u001b[0maxis\u001b[0m\u001b[0;34m.\u001b[0m\u001b[0mdrop\u001b[0m\u001b[0;34m(\u001b[0m\u001b[0mlabels\u001b[0m\u001b[0;34m,\u001b[0m \u001b[0mlevel\u001b[0m\u001b[0;34m=\u001b[0m\u001b[0mlevel\u001b[0m\u001b[0;34m,\u001b[0m \u001b[0merrors\u001b[0m\u001b[0;34m=\u001b[0m\u001b[0merrors\u001b[0m\u001b[0;34m)\u001b[0m\u001b[0;34m\u001b[0m\u001b[0;34m\u001b[0m\u001b[0m\n\u001b[1;32m   3811\u001b[0m             \u001b[0;32melse\u001b[0m\u001b[0;34m:\u001b[0m\u001b[0;34m\u001b[0m\u001b[0;34m\u001b[0m\u001b[0m\n\u001b[0;32m-> 3812\u001b[0;31m                 \u001b[0mnew_axis\u001b[0m \u001b[0;34m=\u001b[0m \u001b[0maxis\u001b[0m\u001b[0;34m.\u001b[0m\u001b[0mdrop\u001b[0m\u001b[0;34m(\u001b[0m\u001b[0mlabels\u001b[0m\u001b[0;34m,\u001b[0m \u001b[0merrors\u001b[0m\u001b[0;34m=\u001b[0m\u001b[0merrors\u001b[0m\u001b[0;34m)\u001b[0m\u001b[0;34m\u001b[0m\u001b[0;34m\u001b[0m\u001b[0m\n\u001b[0m\u001b[1;32m   3813\u001b[0m             \u001b[0mresult\u001b[0m \u001b[0;34m=\u001b[0m \u001b[0mself\u001b[0m\u001b[0;34m.\u001b[0m\u001b[0mreindex\u001b[0m\u001b[0;34m(\u001b[0m\u001b[0;34m**\u001b[0m\u001b[0;34m{\u001b[0m\u001b[0maxis_name\u001b[0m\u001b[0;34m:\u001b[0m \u001b[0mnew_axis\u001b[0m\u001b[0;34m}\u001b[0m\u001b[0;34m)\u001b[0m\u001b[0;34m\u001b[0m\u001b[0;34m\u001b[0m\u001b[0m\n\u001b[1;32m   3814\u001b[0m \u001b[0;34m\u001b[0m\u001b[0m\n",
      "\u001b[0;32m~/anaconda3/lib/python3.7/site-packages/pandas/core/indexes/base.py\u001b[0m in \u001b[0;36mdrop\u001b[0;34m(self, labels, errors)\u001b[0m\n\u001b[1;32m   4963\u001b[0m             \u001b[0;32mif\u001b[0m \u001b[0merrors\u001b[0m \u001b[0;34m!=\u001b[0m \u001b[0;34m'ignore'\u001b[0m\u001b[0;34m:\u001b[0m\u001b[0;34m\u001b[0m\u001b[0;34m\u001b[0m\u001b[0m\n\u001b[1;32m   4964\u001b[0m                 raise KeyError(\n\u001b[0;32m-> 4965\u001b[0;31m                     '{} not found in axis'.format(labels[mask]))\n\u001b[0m\u001b[1;32m   4966\u001b[0m             \u001b[0mindexer\u001b[0m \u001b[0;34m=\u001b[0m \u001b[0mindexer\u001b[0m\u001b[0;34m[\u001b[0m\u001b[0;34m~\u001b[0m\u001b[0mmask\u001b[0m\u001b[0;34m]\u001b[0m\u001b[0;34m\u001b[0m\u001b[0;34m\u001b[0m\u001b[0m\n\u001b[1;32m   4967\u001b[0m         \u001b[0;32mreturn\u001b[0m \u001b[0mself\u001b[0m\u001b[0;34m.\u001b[0m\u001b[0mdelete\u001b[0m\u001b[0;34m(\u001b[0m\u001b[0mindexer\u001b[0m\u001b[0;34m)\u001b[0m\u001b[0;34m\u001b[0m\u001b[0;34m\u001b[0m\u001b[0m\n",
      "\u001b[0;31mKeyError\u001b[0m: \"['IDd' 'Include'] not found in axis\""
     ]
    }
   ],
   "source": [
    "mos_data.drop(columns=['IDd', 'Include'], inplace=True)"
   ]
  },
  {
   "cell_type": "code",
   "execution_count": null,
   "metadata": {},
   "outputs": [],
   "source": [
    "mos_data.isnull().sum()"
   ]
  },
  {
   "cell_type": "markdown",
   "metadata": {},
   "source": [
    "### Select date for weather features"
   ]
  },
  {
   "cell_type": "code",
   "execution_count": null,
   "metadata": {},
   "outputs": [],
   "source": [
    "start_date1 = '2017-05-10'#one week before 2017-05-16\n",
    "end_date1 = '2017-09-26'\n",
    "start_date2 = '2018-05-09'#one week before 2017-05-15\n",
    "end_date2 = '2018-09-18'"
   ]
  },
  {
   "cell_type": "markdown",
   "metadata": {},
   "source": [
    "Drop MST columns\n",
    "Drop columns with too many NaNs\n",
    "Drop unixtime columns as they are redundent\n",
    "Drop wind_dir column as wind_dir_10s gives us the angle of the wind so its redundent"
   ]
  },
  {
   "cell_type": "code",
   "execution_count": null,
   "metadata": {
    "scrolled": true
   },
   "outputs": [],
   "source": [
    "##############Drop MST and columns with too many NaNs and unixtime##################\n",
    "weather_data.drop(columns=[\"visibility\", \"cloud_cover_4\", \"cloud_cover_8\", \"cloud_cover_10\", \"solar_radiation\", \"wind_gust\", \"windchill\", \"humidex\", 'unixtime', 'wind_dir'], inplace=True)\n",
    "weather_data = weather_data.loc[weather_data['date_time_local'].str.contains('MDT')]\n",
    "\n",
    "weather_data.head()"
   ]
  },
  {
   "cell_type": "markdown",
   "metadata": {},
   "source": [
    "### Date selection"
   ]
  },
  {
   "cell_type": "code",
   "execution_count": null,
   "metadata": {
    "scrolled": true
   },
   "outputs": [],
   "source": [
    "t_list = []\n",
    "for i in weather_data['date_time_local']:\n",
    "    i = str(i)\n",
    "    t1 = time.strptime(i,\"%Y-%m-%d %H:%M:%S MDT\")\n",
    "    t2 = time.strftime(\"%Y-%m-%d\", t1)\n",
    "    t_list.append(t2)\n",
    "\n",
    "weather_data['date_time_local'] = t_list\n",
    "#print(weather_data)\n",
    "\n",
    "weather_data['date_time_local'] = pd.to_datetime(weather_data['date_time_local'])\n",
    "weather_range1 = (weather_data['date_time_local'] >= start_date1) & (weather_data['date_time_local'] <= end_date1)\n",
    "weather_data1 = weather_data.loc[weather_range1]\n",
    "weather_data1 = weather_data1.sort_values(by='date_time_local')\n",
    "#print(weather_data1) \n",
    "\n",
    "weather_range2 = (weather_data['date_time_local'] >= start_date2) & (weather_data['date_time_local'] <= end_date2)\n",
    "weather_data2 = weather_data.loc[weather_range2]\n",
    "weather_data2 = weather_data2.sort_values(by='date_time_local')\n",
    "#print(weather_data2) \n",
    "weather_data = weather_data1.append(weather_data2)\n",
    "weather_data.head()"
   ]
  },
  {
   "cell_type": "markdown",
   "metadata": {},
   "source": [
    "#### Fill NaN for weather_data"
   ]
  },
  {
   "cell_type": "code",
   "execution_count": null,
   "metadata": {
    "scrolled": true
   },
   "outputs": [],
   "source": [
    "weather_data.isnull().sum()"
   ]
  },
  {
   "cell_type": "code",
   "execution_count": null,
   "metadata": {
    "scrolled": true
   },
   "outputs": [],
   "source": [
    "len(weather_data.index)"
   ]
  },
  {
   "cell_type": "markdown",
   "metadata": {},
   "source": [
    "#### To fill the NaNs we will group the weather data by day and there is 3 ways to do that for each column:\n",
    "- By mean\n",
    "- By mode\n",
    "- By median\n",
    "\n",
    "for each day, to do so we will need to visualize the distribution for each column and ensure that it stays similar after grouping to not add any bias to the data."
   ]
  },
  {
   "cell_type": "markdown",
   "metadata": {},
   "source": [
    "### Pressure station"
   ]
  },
  {
   "cell_type": "code",
   "execution_count": null,
   "metadata": {
    "scrolled": true
   },
   "outputs": [],
   "source": [
    "weather_data['pressure_station'].describe()"
   ]
  },
  {
   "cell_type": "markdown",
   "metadata": {},
   "source": [
    "#### mean"
   ]
  },
  {
   "cell_type": "code",
   "execution_count": null,
   "metadata": {
    "scrolled": true
   },
   "outputs": [],
   "source": [
    "pressure_station_mean = weather_data.groupby('date_time_local').agg({\n",
    "  'pressure_station': lambda x: round(x.mean(), 2)  \n",
    "})\n",
    "\n",
    "pressure_station_mean.describe()"
   ]
  },
  {
   "cell_type": "code",
   "execution_count": null,
   "metadata": {},
   "outputs": [],
   "source": [
    "key_to_test = 'pressure_station'\n",
    "\n",
    "plt.figure(figsize=(15, 8))\n",
    "ax = weather_data[key_to_test].hist(bins=15, density=True, stacked=True, color='teal', alpha=0.6)\n",
    "weather_data[key_to_test].plot(kind='density', color='teal')\n",
    "\n",
    "\n",
    "ax = pressure_station_mean[key_to_test].hist(bins=15, density=True, stacked=True, color='orange', alpha=0.6)\n",
    "pressure_station_mean[key_to_test].plot(kind='density', color='orange')\n",
    "\n",
    "\n",
    "ax.legend(['Original data', 'Mean data'])\n",
    "ax.set(xlabel=key_to_test)\n",
    "\n",
    "plt.show()"
   ]
  },
  {
   "cell_type": "code",
   "execution_count": null,
   "metadata": {},
   "outputs": [],
   "source": [
    "ks_2samp(weather_data['pressure_station'], pressure_station_mean['pressure_station'])"
   ]
  },
  {
   "cell_type": "markdown",
   "metadata": {},
   "source": [
    "#### mode"
   ]
  },
  {
   "cell_type": "code",
   "execution_count": null,
   "metadata": {
    "scrolled": false
   },
   "outputs": [],
   "source": [
    "pressure_station_mode = weather_data.groupby('date_time_local').agg({\n",
    "  'pressure_station': lambda x: x.value_counts().index[0]  \n",
    "})\n",
    "\n",
    "pressure_station_mode.describe()"
   ]
  },
  {
   "cell_type": "code",
   "execution_count": null,
   "metadata": {
    "scrolled": false
   },
   "outputs": [],
   "source": [
    "key_to_test = 'pressure_station'\n",
    "\n",
    "plt.figure(figsize=(15, 8))\n",
    "ax = weather_data[key_to_test].hist(bins=15, density=True, stacked=True, color='teal', alpha=0.6)\n",
    "weather_data[key_to_test].plot(kind='density', color='teal')\n",
    "\n",
    "\n",
    "ax = pressure_station_mode[key_to_test].hist(bins=15, density=True, stacked=True, color='orange', alpha=0.6)\n",
    "pressure_station_mode[key_to_test].plot(kind='density', color='orange')\n",
    "\n",
    "\n",
    "ax.legend(['Original data', 'Mode data'])\n",
    "ax.set(xlabel=key_to_test)\n",
    "\n",
    "plt.show()"
   ]
  },
  {
   "cell_type": "code",
   "execution_count": null,
   "metadata": {},
   "outputs": [],
   "source": [
    "ks_2samp(weather_data['pressure_station'], pressure_station_mode['pressure_station'])"
   ]
  },
  {
   "cell_type": "markdown",
   "metadata": {},
   "source": [
    "#### median"
   ]
  },
  {
   "cell_type": "code",
   "execution_count": null,
   "metadata": {},
   "outputs": [],
   "source": [
    "pressure_station_median = weather_data.groupby('date_time_local').agg({\n",
    "  'pressure_station': lambda x: x.median() \n",
    "})\n",
    "\n",
    "pressure_station_median.describe()"
   ]
  },
  {
   "cell_type": "code",
   "execution_count": null,
   "metadata": {
    "scrolled": false
   },
   "outputs": [],
   "source": [
    "key_to_test = 'pressure_station'\n",
    "\n",
    "plt.figure(figsize=(15, 8))\n",
    "ax = weather_data[key_to_test].hist(bins=15, density=True, stacked=True, color='teal', alpha=0.6)\n",
    "weather_data[key_to_test].plot(kind='density', color='teal')\n",
    "\n",
    "\n",
    "ax = pressure_station_median[key_to_test].hist(bins=15, density=True, stacked=True, color='orange', alpha=0.6)\n",
    "pressure_station_median[key_to_test].plot(kind='density', color='orange')\n",
    "\n",
    "\n",
    "ax.legend(['Original data', 'Median data'])\n",
    "ax.set(xlabel=key_to_test)\n",
    "\n",
    "plt.show()"
   ]
  },
  {
   "cell_type": "code",
   "execution_count": null,
   "metadata": {
    "scrolled": true
   },
   "outputs": [],
   "source": [
    "ks_2samp(weather_data['pressure_station'], pressure_station_median['pressure_station'])"
   ]
  },
  {
   "cell_type": "markdown",
   "metadata": {},
   "source": [
    "It can be seen that for pressure station mode has the highest p-value so it will be chosen for grouping"
   ]
  },
  {
   "cell_type": "markdown",
   "metadata": {},
   "source": [
    "### Pressure sea"
   ]
  },
  {
   "cell_type": "code",
   "execution_count": null,
   "metadata": {
    "scrolled": true
   },
   "outputs": [],
   "source": [
    "weather_data['pressure_sea'].describe()"
   ]
  },
  {
   "cell_type": "markdown",
   "metadata": {},
   "source": [
    "#### mean"
   ]
  },
  {
   "cell_type": "code",
   "execution_count": null,
   "metadata": {},
   "outputs": [],
   "source": [
    "pressure_sea_mean = weather_data.groupby('date_time_local').agg({\n",
    "  'pressure_sea': lambda x: round(x.mean(), 2)  \n",
    "})\n",
    "\n",
    "pressure_sea_mean.describe()"
   ]
  },
  {
   "cell_type": "code",
   "execution_count": null,
   "metadata": {},
   "outputs": [],
   "source": [
    "key_to_test = 'pressure_sea'\n",
    "\n",
    "plt.figure(figsize=(15, 8))\n",
    "ax = weather_data[key_to_test].hist(bins=15, density=True, stacked=True, color='teal', alpha=0.6)\n",
    "weather_data[key_to_test].plot(kind='density', color='teal')\n",
    "\n",
    "\n",
    "ax = pressure_sea_mean[key_to_test].hist(bins=15, density=True, stacked=True, color='orange', alpha=0.6)\n",
    "pressure_sea_mean[key_to_test].plot(kind='density', color='orange')\n",
    "\n",
    "\n",
    "ax.legend(['Original data', 'Mean data'])\n",
    "ax.set(xlabel=key_to_test)\n",
    "\n",
    "plt.show()"
   ]
  },
  {
   "cell_type": "code",
   "execution_count": null,
   "metadata": {},
   "outputs": [],
   "source": [
    "ks_2samp(weather_data['pressure_sea'], pressure_sea_mean['pressure_sea'])"
   ]
  },
  {
   "cell_type": "markdown",
   "metadata": {},
   "source": [
    "#### mode"
   ]
  },
  {
   "cell_type": "code",
   "execution_count": null,
   "metadata": {},
   "outputs": [],
   "source": [
    "pressure_sea_mode = weather_data.groupby('date_time_local').agg({\n",
    "  'pressure_sea': lambda x: x.value_counts().index[0]  \n",
    "})\n",
    "\n",
    "pressure_sea_mode.describe()"
   ]
  },
  {
   "cell_type": "code",
   "execution_count": null,
   "metadata": {},
   "outputs": [],
   "source": [
    "key_to_test = 'pressure_sea'\n",
    "\n",
    "plt.figure(figsize=(15, 8))\n",
    "ax = weather_data[key_to_test].hist(bins=15, density=True, stacked=True, color='teal', alpha=0.6)\n",
    "weather_data[key_to_test].plot(kind='density', color='teal')\n",
    "\n",
    "\n",
    "ax = pressure_sea_mode[key_to_test].hist(bins=15, density=True, stacked=True, color='orange', alpha=0.6)\n",
    "pressure_sea_mode[key_to_test].plot(kind='density', color='orange')\n",
    "\n",
    "\n",
    "ax.legend(['Original data', 'Mode data'])\n",
    "ax.set(xlabel=key_to_test)\n",
    "\n",
    "plt.show()"
   ]
  },
  {
   "cell_type": "code",
   "execution_count": null,
   "metadata": {},
   "outputs": [],
   "source": [
    "ks_2samp(weather_data['pressure_sea'], pressure_sea_mode['pressure_sea'])"
   ]
  },
  {
   "cell_type": "markdown",
   "metadata": {},
   "source": [
    "#### median"
   ]
  },
  {
   "cell_type": "code",
   "execution_count": null,
   "metadata": {},
   "outputs": [],
   "source": [
    "pressure_sea_median = weather_data.groupby('date_time_local').agg({\n",
    "  'pressure_sea': lambda x: x.median() \n",
    "})\n",
    "\n",
    "pressure_sea_median.describe()"
   ]
  },
  {
   "cell_type": "code",
   "execution_count": null,
   "metadata": {},
   "outputs": [],
   "source": [
    "key_to_test = 'pressure_sea'\n",
    "\n",
    "plt.figure(figsize=(15, 8))\n",
    "ax = weather_data[key_to_test].hist(bins=15, density=True, stacked=True, color='teal', alpha=0.6)\n",
    "weather_data[key_to_test].plot(kind='density', color='teal')\n",
    "\n",
    "\n",
    "ax = pressure_sea_median[key_to_test].hist(bins=15, density=True, stacked=True, color='orange', alpha=0.6)\n",
    "pressure_sea_median[key_to_test].plot(kind='density', color='orange')\n",
    "\n",
    "\n",
    "ax.legend(['Original data', 'Median data'])\n",
    "ax.set(xlabel=key_to_test)\n",
    "\n",
    "plt.show()"
   ]
  },
  {
   "cell_type": "code",
   "execution_count": null,
   "metadata": {
    "scrolled": true
   },
   "outputs": [],
   "source": [
    "ks_2samp(weather_data['pressure_sea'], pressure_sea_median['pressure_sea'])"
   ]
  },
  {
   "cell_type": "markdown",
   "metadata": {},
   "source": [
    "It can be seen that for pressure sea median has the highest p-value so it will be chosen for grouping"
   ]
  },
  {
   "cell_type": "markdown",
   "metadata": {},
   "source": [
    "## Wind_dir_10s\n",
    "This column represents the wind direction in angles so taking a mean or median doesn't make much sense and mode is expected to be the best method."
   ]
  },
  {
   "cell_type": "code",
   "execution_count": null,
   "metadata": {},
   "outputs": [],
   "source": [
    "weather_data['wind_dir_10s'].describe()"
   ]
  },
  {
   "cell_type": "markdown",
   "metadata": {},
   "source": [
    "#### mean"
   ]
  },
  {
   "cell_type": "code",
   "execution_count": null,
   "metadata": {},
   "outputs": [],
   "source": [
    "wind_dir_10s_mean = weather_data.groupby('date_time_local').agg({\n",
    "  'wind_dir_10s': lambda x: round(x.mean(), 1)  \n",
    "})\n",
    "\n",
    "wind_dir_10s_mean.describe()"
   ]
  },
  {
   "cell_type": "code",
   "execution_count": null,
   "metadata": {},
   "outputs": [],
   "source": [
    "key_to_test = 'wind_dir_10s'\n",
    "\n",
    "plt.figure(figsize=(15, 8))\n",
    "ax = weather_data[key_to_test].hist(bins=15, density=True, stacked=True, color='teal', alpha=0.6)\n",
    "weather_data[key_to_test].plot(kind='density', color='teal')\n",
    "\n",
    "\n",
    "ax = wind_dir_10s_mean[key_to_test].hist(bins=15, density=True, stacked=True, color='orange', alpha=0.6)\n",
    "wind_dir_10s_mean[key_to_test].plot(kind='density', color='orange')\n",
    "\n",
    "\n",
    "ax.legend(['Original data', 'Mean data'])\n",
    "ax.set(xlabel=key_to_test)\n",
    "\n",
    "plt.show()"
   ]
  },
  {
   "cell_type": "code",
   "execution_count": null,
   "metadata": {},
   "outputs": [],
   "source": [
    "ks_2samp(weather_data['wind_dir_10s'], wind_dir_10s_mean['wind_dir_10s'])"
   ]
  },
  {
   "cell_type": "markdown",
   "metadata": {},
   "source": [
    "#### mode"
   ]
  },
  {
   "cell_type": "code",
   "execution_count": null,
   "metadata": {},
   "outputs": [],
   "source": [
    "wind_dir_10s_mode = weather_data.groupby('date_time_local').agg({\n",
    "  'wind_dir_10s': lambda x: x.value_counts().index[0]   \n",
    "})\n",
    "\n",
    "wind_dir_10s_mode.describe()"
   ]
  },
  {
   "cell_type": "code",
   "execution_count": null,
   "metadata": {},
   "outputs": [],
   "source": [
    "key_to_test = 'wind_dir_10s'\n",
    "\n",
    "plt.figure(figsize=(15, 8))\n",
    "ax = weather_data[key_to_test].hist(bins=15, density=True, stacked=True, color='teal', alpha=0.6)\n",
    "weather_data[key_to_test].plot(kind='density', color='teal')\n",
    "\n",
    "\n",
    "ax = wind_dir_10s_mode[key_to_test].hist(bins=15, density=True, stacked=True, color='orange', alpha=0.6)\n",
    "wind_dir_10s_mode[key_to_test].plot(kind='density', color='orange')\n",
    "\n",
    "\n",
    "ax.legend(['Original data', 'Mode data'])\n",
    "ax.set(xlabel=key_to_test)\n",
    "\n",
    "plt.show()"
   ]
  },
  {
   "cell_type": "code",
   "execution_count": null,
   "metadata": {},
   "outputs": [],
   "source": [
    "ks_2samp(weather_data['wind_dir_10s'], wind_dir_10s_mode['wind_dir_10s'])"
   ]
  },
  {
   "cell_type": "markdown",
   "metadata": {},
   "source": [
    "#### median"
   ]
  },
  {
   "cell_type": "code",
   "execution_count": null,
   "metadata": {},
   "outputs": [],
   "source": [
    "wind_dir_10s_median = weather_data.groupby('date_time_local').agg({\n",
    "  'wind_dir_10s': lambda x: x.median()  \n",
    "})\n",
    "\n",
    "wind_dir_10s_median.describe()"
   ]
  },
  {
   "cell_type": "code",
   "execution_count": null,
   "metadata": {},
   "outputs": [],
   "source": [
    "key_to_test = 'wind_dir_10s'\n",
    "\n",
    "plt.figure(figsize=(15, 8))\n",
    "ax = weather_data[key_to_test].hist(bins=15, density=True, stacked=True, color='teal', alpha=0.6)\n",
    "weather_data[key_to_test].plot(kind='density', color='teal')\n",
    "\n",
    "\n",
    "ax = wind_dir_10s_median[key_to_test].hist(bins=15, density=True, stacked=True, color='orange', alpha=0.6)\n",
    "wind_dir_10s_median[key_to_test].plot(kind='density', color='orange')\n",
    "\n",
    "\n",
    "ax.legend(['Original data', 'Median data'])\n",
    "ax.set(xlabel=key_to_test)\n",
    "\n",
    "plt.show()"
   ]
  },
  {
   "cell_type": "code",
   "execution_count": null,
   "metadata": {},
   "outputs": [],
   "source": [
    "ks_2samp(weather_data['wind_dir_10s'], wind_dir_10s_median['wind_dir_10s'])"
   ]
  },
  {
   "cell_type": "markdown",
   "metadata": {},
   "source": [
    "As expected mode will be the chosen value for wind_dir_10s column as it has the highest p-value, it can be seen that mean doesn't even follow the same distribution and the median barely does follow it."
   ]
  },
  {
   "cell_type": "markdown",
   "metadata": {},
   "source": [
    "## Wind_speed"
   ]
  },
  {
   "cell_type": "code",
   "execution_count": null,
   "metadata": {},
   "outputs": [],
   "source": [
    "weather_data['wind_speed'].describe()"
   ]
  },
  {
   "cell_type": "markdown",
   "metadata": {},
   "source": [
    "#### mean"
   ]
  },
  {
   "cell_type": "code",
   "execution_count": null,
   "metadata": {},
   "outputs": [],
   "source": [
    "wind_speed_mean = weather_data.groupby('date_time_local').agg({\n",
    "  'wind_speed': lambda x: round(x.mean(),1)  \n",
    "})\n",
    "\n",
    "wind_speed_mean.describe()"
   ]
  },
  {
   "cell_type": "code",
   "execution_count": null,
   "metadata": {},
   "outputs": [],
   "source": [
    "key_to_test = 'wind_speed'\n",
    "\n",
    "plt.figure(figsize=(15, 8))\n",
    "ax = weather_data[key_to_test].hist(bins=15, density=True, stacked=True, color='teal', alpha=0.6)\n",
    "weather_data[key_to_test].plot(kind='density', color='teal')\n",
    "\n",
    "\n",
    "ax = wind_speed_mean[key_to_test].hist(bins=15, density=True, stacked=True, color='orange', alpha=0.6)\n",
    "wind_speed_mean[key_to_test].plot(kind='density', color='orange')\n",
    "\n",
    "\n",
    "ax.legend(['Original data', 'Mean data'])\n",
    "ax.set(xlabel=key_to_test)\n",
    "\n",
    "plt.show()"
   ]
  },
  {
   "cell_type": "code",
   "execution_count": null,
   "metadata": {},
   "outputs": [],
   "source": [
    "ks_2samp(weather_data['wind_speed'], wind_speed_mean['wind_speed'])"
   ]
  },
  {
   "cell_type": "markdown",
   "metadata": {},
   "source": [
    "#### mode"
   ]
  },
  {
   "cell_type": "code",
   "execution_count": null,
   "metadata": {},
   "outputs": [],
   "source": [
    "wind_speed_mode = weather_data.groupby('date_time_local').agg({\n",
    "  'wind_speed': lambda x: x.value_counts().index[0]  \n",
    "})\n",
    "\n",
    "wind_speed_mode.describe()"
   ]
  },
  {
   "cell_type": "code",
   "execution_count": null,
   "metadata": {},
   "outputs": [],
   "source": [
    "key_to_test = 'wind_speed'\n",
    "\n",
    "plt.figure(figsize=(15, 8))\n",
    "ax = weather_data[key_to_test].hist(bins=15, density=True, stacked=True, color='teal', alpha=0.6)\n",
    "weather_data[key_to_test].plot(kind='density', color='teal')\n",
    "\n",
    "\n",
    "ax = wind_speed_mode[key_to_test].hist(bins=15, density=True, stacked=True, color='orange', alpha=0.6)\n",
    "wind_speed_mode[key_to_test].plot(kind='density', color='orange')\n",
    "\n",
    "\n",
    "ax.legend(['Original data', 'Mode data'])\n",
    "ax.set(xlabel=key_to_test)\n",
    "\n",
    "plt.show()"
   ]
  },
  {
   "cell_type": "code",
   "execution_count": null,
   "metadata": {},
   "outputs": [],
   "source": [
    "ks_2samp(weather_data['wind_speed'], wind_speed_mode['wind_speed'])"
   ]
  },
  {
   "cell_type": "markdown",
   "metadata": {},
   "source": [
    "#### median"
   ]
  },
  {
   "cell_type": "code",
   "execution_count": null,
   "metadata": {},
   "outputs": [],
   "source": [
    "wind_speed_median = weather_data.groupby('date_time_local').agg({\n",
    "  'wind_speed': lambda x: x.median()  \n",
    "})\n",
    "\n",
    "wind_speed_median.describe()"
   ]
  },
  {
   "cell_type": "code",
   "execution_count": null,
   "metadata": {},
   "outputs": [],
   "source": [
    "key_to_test = 'wind_speed'\n",
    "\n",
    "plt.figure(figsize=(15, 8))\n",
    "ax = weather_data[key_to_test].hist(bins=15, density=True, stacked=True, color='teal', alpha=0.6)\n",
    "weather_data[key_to_test].plot(kind='density', color='teal')\n",
    "\n",
    "\n",
    "ax = wind_speed_median[key_to_test].hist(bins=15, density=True, stacked=True, color='orange', alpha=0.6)\n",
    "wind_speed_median[key_to_test].plot(kind='density', color='orange')\n",
    "\n",
    "\n",
    "ax.legend(['Original data', 'Median data'])\n",
    "ax.set(xlabel=key_to_test)\n",
    "\n",
    "plt.show()"
   ]
  },
  {
   "cell_type": "code",
   "execution_count": null,
   "metadata": {
    "scrolled": true
   },
   "outputs": [],
   "source": [
    "ks_2samp(weather_data['wind_speed'], wind_speed_median['wind_speed'])"
   ]
  },
  {
   "cell_type": "markdown",
   "metadata": {},
   "source": [
    "Mode will be used for wind_speed"
   ]
  },
  {
   "cell_type": "markdown",
   "metadata": {},
   "source": [
    "## Relative_humidty"
   ]
  },
  {
   "cell_type": "code",
   "execution_count": null,
   "metadata": {},
   "outputs": [],
   "source": [
    "weather_data['relative_humidity'].describe()"
   ]
  },
  {
   "cell_type": "markdown",
   "metadata": {},
   "source": [
    "#### mean"
   ]
  },
  {
   "cell_type": "code",
   "execution_count": null,
   "metadata": {},
   "outputs": [],
   "source": [
    "relative_humidity_mean = weather_data.groupby('date_time_local').agg({\n",
    "  'relative_humidity': lambda x: round(x.mean(),1)\n",
    "})\n",
    "\n",
    "relative_humidity_mean.describe()"
   ]
  },
  {
   "cell_type": "code",
   "execution_count": null,
   "metadata": {},
   "outputs": [],
   "source": [
    "key_to_test = 'relative_humidity'\n",
    "\n",
    "plt.figure(figsize=(15, 8))\n",
    "ax = weather_data[key_to_test].hist(bins=15, density=True, stacked=True, color='teal', alpha=0.6)\n",
    "weather_data[key_to_test].plot(kind='density', color='teal')\n",
    "\n",
    "\n",
    "ax = relative_humidity_mean[key_to_test].hist(bins=15, density=True, stacked=True, color='orange', alpha=0.6)\n",
    "relative_humidity_mean[key_to_test].plot(kind='density', color='orange')\n",
    "\n",
    "\n",
    "ax.legend(['Original data', 'Mean data'])\n",
    "ax.set(xlabel=key_to_test)\n",
    "\n",
    "plt.show()"
   ]
  },
  {
   "cell_type": "code",
   "execution_count": null,
   "metadata": {},
   "outputs": [],
   "source": [
    "ks_2samp(weather_data['relative_humidity'], relative_humidity_mean['relative_humidity'])"
   ]
  },
  {
   "cell_type": "markdown",
   "metadata": {},
   "source": [
    "#### mode"
   ]
  },
  {
   "cell_type": "code",
   "execution_count": null,
   "metadata": {},
   "outputs": [],
   "source": [
    "relative_humidity_mode = weather_data.groupby('date_time_local').agg({\n",
    "  'relative_humidity': lambda x: x.value_counts().index[0]\n",
    "})\n",
    "\n",
    "relative_humidity_mode.describe()"
   ]
  },
  {
   "cell_type": "code",
   "execution_count": null,
   "metadata": {},
   "outputs": [],
   "source": [
    "key_to_test = 'relative_humidity'\n",
    "\n",
    "plt.figure(figsize=(15, 8))\n",
    "ax = weather_data[key_to_test].hist(bins=15, density=True, stacked=True, color='teal', alpha=0.6)\n",
    "weather_data[key_to_test].plot(kind='density', color='teal')\n",
    "\n",
    "\n",
    "ax = relative_humidity_mode[key_to_test].hist(bins=15, density=True, stacked=True, color='orange', alpha=0.6)\n",
    "relative_humidity_mode[key_to_test].plot(kind='density', color='orange')\n",
    "\n",
    "\n",
    "ax.legend(['Original data', 'Mode data'])\n",
    "ax.set(xlabel=key_to_test)\n",
    "\n",
    "plt.show()"
   ]
  },
  {
   "cell_type": "code",
   "execution_count": null,
   "metadata": {},
   "outputs": [],
   "source": [
    "ks_2samp(weather_data['relative_humidity'], relative_humidity_mode['relative_humidity'])"
   ]
  },
  {
   "cell_type": "markdown",
   "metadata": {},
   "source": [
    "#### median"
   ]
  },
  {
   "cell_type": "code",
   "execution_count": null,
   "metadata": {},
   "outputs": [],
   "source": [
    "relative_humidity_median = weather_data.groupby('date_time_local').agg({\n",
    "  'relative_humidity': lambda x: x.median()\n",
    "})\n",
    "\n",
    "relative_humidity_median.describe()"
   ]
  },
  {
   "cell_type": "code",
   "execution_count": null,
   "metadata": {},
   "outputs": [],
   "source": [
    "key_to_test = 'relative_humidity'\n",
    "\n",
    "plt.figure(figsize=(15, 8))\n",
    "ax = weather_data[key_to_test].hist(bins=15, density=True, stacked=True, color='teal', alpha=0.6)\n",
    "weather_data[key_to_test].plot(kind='density', color='teal')\n",
    "\n",
    "\n",
    "ax = relative_humidity_median[key_to_test].hist(bins=15, density=True, stacked=True, color='orange', alpha=0.6)\n",
    "relative_humidity_median[key_to_test].plot(kind='density', color='orange')\n",
    "\n",
    "\n",
    "ax.legend(['Original data', 'Median data'])\n",
    "ax.set(xlabel=key_to_test)\n",
    "\n",
    "plt.show()"
   ]
  },
  {
   "cell_type": "code",
   "execution_count": null,
   "metadata": {},
   "outputs": [],
   "source": [
    "ks_2samp(weather_data['relative_humidity'], relative_humidity_median['relative_humidity'])"
   ]
  },
  {
   "cell_type": "markdown",
   "metadata": {},
   "source": [
    "Grouping relative_humidty will introduce bias in the dataset so it will be ignored"
   ]
  },
  {
   "cell_type": "markdown",
   "metadata": {},
   "source": [
    "## Dew_point"
   ]
  },
  {
   "cell_type": "code",
   "execution_count": null,
   "metadata": {},
   "outputs": [],
   "source": [
    "weather_data['dew_point'].describe()"
   ]
  },
  {
   "cell_type": "markdown",
   "metadata": {},
   "source": [
    "#### mean"
   ]
  },
  {
   "cell_type": "code",
   "execution_count": null,
   "metadata": {},
   "outputs": [],
   "source": [
    "dew_point_mean = weather_data.groupby('date_time_local').agg({\n",
    "  'dew_point': lambda x: round(x.mean(),1)\n",
    "})\n",
    "\n",
    "dew_point_mean.describe()"
   ]
  },
  {
   "cell_type": "code",
   "execution_count": null,
   "metadata": {},
   "outputs": [],
   "source": [
    "key_to_test = 'dew_point'\n",
    "\n",
    "plt.figure(figsize=(15, 8))\n",
    "ax = weather_data[key_to_test].hist(bins=15, density=True, stacked=True, color='teal', alpha=0.6)\n",
    "weather_data[key_to_test].plot(kind='density', color='teal')\n",
    "\n",
    "\n",
    "ax = dew_point_mean[key_to_test].hist(bins=15, density=True, stacked=True, color='orange', alpha=0.6)\n",
    "dew_point_mean[key_to_test].plot(kind='density', color='orange')\n",
    "\n",
    "\n",
    "ax.legend(['Original data', 'Mean data'])\n",
    "ax.set(xlabel=key_to_test)\n",
    "\n",
    "plt.show()"
   ]
  },
  {
   "cell_type": "code",
   "execution_count": null,
   "metadata": {},
   "outputs": [],
   "source": [
    "ks_2samp(weather_data['dew_point'], dew_point_mean['dew_point'])"
   ]
  },
  {
   "cell_type": "markdown",
   "metadata": {},
   "source": [
    "#### mode"
   ]
  },
  {
   "cell_type": "code",
   "execution_count": null,
   "metadata": {},
   "outputs": [],
   "source": [
    "dew_point_mode = weather_data.groupby('date_time_local').agg({\n",
    "  'dew_point': lambda x: x.value_counts().index[0]\n",
    "})\n",
    "\n",
    "dew_point_mode.describe()"
   ]
  },
  {
   "cell_type": "code",
   "execution_count": null,
   "metadata": {},
   "outputs": [],
   "source": [
    "key_to_test = 'dew_point'\n",
    "\n",
    "plt.figure(figsize=(15, 8))\n",
    "ax = weather_data[key_to_test].hist(bins=15, density=True, stacked=True, color='teal', alpha=0.6)\n",
    "weather_data[key_to_test].plot(kind='density', color='teal')\n",
    "\n",
    "\n",
    "ax = dew_point_mode[key_to_test].hist(bins=15, density=True, stacked=True, color='orange', alpha=0.6)\n",
    "dew_point_mode[key_to_test].plot(kind='density', color='orange')\n",
    "\n",
    "\n",
    "ax.legend(['Original data', 'Mode data'])\n",
    "ax.set(xlabel=key_to_test)\n",
    "\n",
    "plt.show()"
   ]
  },
  {
   "cell_type": "code",
   "execution_count": null,
   "metadata": {},
   "outputs": [],
   "source": [
    "ks_2samp(weather_data['dew_point'], dew_point_mode['dew_point'])"
   ]
  },
  {
   "cell_type": "markdown",
   "metadata": {},
   "source": [
    "#### median"
   ]
  },
  {
   "cell_type": "code",
   "execution_count": null,
   "metadata": {},
   "outputs": [],
   "source": [
    "dew_point_median = weather_data.groupby('date_time_local').agg({\n",
    "  'dew_point': lambda x: x.median()\n",
    "})\n",
    "\n",
    "dew_point_median.describe()"
   ]
  },
  {
   "cell_type": "code",
   "execution_count": null,
   "metadata": {},
   "outputs": [],
   "source": [
    "key_to_test = 'dew_point'\n",
    "\n",
    "plt.figure(figsize=(15, 8))\n",
    "ax = weather_data[key_to_test].hist(bins=15, density=True, stacked=True, color='teal', alpha=0.6)\n",
    "weather_data[key_to_test].plot(kind='density', color='teal')\n",
    "\n",
    "\n",
    "ax = dew_point_median[key_to_test].hist(bins=15, density=True, stacked=True, color='orange', alpha=0.6)\n",
    "dew_point_median[key_to_test].plot(kind='density', color='orange')\n",
    "\n",
    "\n",
    "ax.legend(['Original data', 'Median data'])\n",
    "ax.set(xlabel=key_to_test)\n",
    "\n",
    "plt.show()"
   ]
  },
  {
   "cell_type": "code",
   "execution_count": null,
   "metadata": {},
   "outputs": [],
   "source": [
    "ks_2samp(weather_data['dew_point'], dew_point_median['dew_point'])"
   ]
  },
  {
   "cell_type": "markdown",
   "metadata": {},
   "source": [
    "Mode will be used for dew_point"
   ]
  },
  {
   "cell_type": "markdown",
   "metadata": {},
   "source": [
    "## Temperature"
   ]
  },
  {
   "cell_type": "code",
   "execution_count": null,
   "metadata": {},
   "outputs": [],
   "source": [
    "weather_data['temperature'].describe()"
   ]
  },
  {
   "cell_type": "markdown",
   "metadata": {},
   "source": [
    "#### mean"
   ]
  },
  {
   "cell_type": "code",
   "execution_count": null,
   "metadata": {},
   "outputs": [],
   "source": [
    "temperature_mean = weather_data.groupby('date_time_local').agg({\n",
    "  'temperature': lambda x: round(x.mean(),1)\n",
    "})\n",
    "\n",
    "temperature_mean.describe()"
   ]
  },
  {
   "cell_type": "code",
   "execution_count": null,
   "metadata": {},
   "outputs": [],
   "source": [
    "key_to_test = 'temperature'\n",
    "\n",
    "plt.figure(figsize=(15, 8))\n",
    "ax = weather_data[key_to_test].hist(bins=15, density=True, stacked=True, color='teal', alpha=0.6)\n",
    "weather_data[key_to_test].plot(kind='density', color='teal')\n",
    "\n",
    "\n",
    "ax = temperature_mean[key_to_test].hist(bins=15, density=True, stacked=True, color='orange', alpha=0.6)\n",
    "temperature_mean[key_to_test].plot(kind='density', color='orange')\n",
    "\n",
    "\n",
    "ax.legend(['Original data', 'Mean data'])\n",
    "ax.set(xlabel=key_to_test)\n",
    "\n",
    "plt.show()"
   ]
  },
  {
   "cell_type": "code",
   "execution_count": null,
   "metadata": {},
   "outputs": [],
   "source": [
    "ks_2samp(weather_data['temperature'], temperature_mean['temperature'])"
   ]
  },
  {
   "cell_type": "markdown",
   "metadata": {},
   "source": [
    "#### mode"
   ]
  },
  {
   "cell_type": "code",
   "execution_count": null,
   "metadata": {},
   "outputs": [],
   "source": [
    "temperature_mode = weather_data.groupby('date_time_local').agg({\n",
    "  'temperature': lambda x: x.value_counts().index[0]\n",
    "})\n",
    "\n",
    "temperature_mode.describe()"
   ]
  },
  {
   "cell_type": "code",
   "execution_count": null,
   "metadata": {},
   "outputs": [],
   "source": [
    "key_to_test = 'temperature'\n",
    "\n",
    "plt.figure(figsize=(15, 8))\n",
    "ax = weather_data[key_to_test].hist(bins=15, density=True, stacked=True, color='teal', alpha=0.6)\n",
    "weather_data[key_to_test].plot(kind='density', color='teal')\n",
    "\n",
    "\n",
    "ax = temperature_mode[key_to_test].hist(bins=15, density=True, stacked=True, color='orange', alpha=0.6)\n",
    "temperature_mode[key_to_test].plot(kind='density', color='orange')\n",
    "\n",
    "\n",
    "ax.legend(['Original data', 'Mode data'])\n",
    "ax.set(xlabel=key_to_test)\n",
    "\n",
    "plt.show()"
   ]
  },
  {
   "cell_type": "code",
   "execution_count": null,
   "metadata": {},
   "outputs": [],
   "source": [
    "ks_2samp(weather_data['temperature'], temperature_mode['temperature'])"
   ]
  },
  {
   "cell_type": "markdown",
   "metadata": {},
   "source": [
    "#### median"
   ]
  },
  {
   "cell_type": "code",
   "execution_count": null,
   "metadata": {},
   "outputs": [],
   "source": [
    "temperature_median = weather_data.groupby('date_time_local').agg({\n",
    "  'temperature': lambda x: x.median()\n",
    "})\n",
    "\n",
    "temperature_median.describe()"
   ]
  },
  {
   "cell_type": "code",
   "execution_count": null,
   "metadata": {},
   "outputs": [],
   "source": [
    "key_to_test = 'temperature'\n",
    "\n",
    "plt.figure(figsize=(15, 8))\n",
    "ax = weather_data[key_to_test].hist(bins=15, density=True, stacked=True, color='teal', alpha=0.6)\n",
    "weather_data[key_to_test].plot(kind='density', color='teal')\n",
    "\n",
    "\n",
    "ax = temperature_median[key_to_test].hist(bins=15, density=True, stacked=True, color='orange', alpha=0.6)\n",
    "temperature_median[key_to_test].plot(kind='density', color='orange')\n",
    "\n",
    "\n",
    "ax.legend(['Original data', 'Median data'])\n",
    "ax.set(xlabel=key_to_test)\n",
    "\n",
    "plt.show()"
   ]
  },
  {
   "cell_type": "code",
   "execution_count": null,
   "metadata": {},
   "outputs": [],
   "source": [
    "ks_2samp(weather_data['temperature'], temperature_median['temperature'])"
   ]
  },
  {
   "cell_type": "markdown",
   "metadata": {},
   "source": [
    "Mode will be used for temperature"
   ]
  },
  {
   "cell_type": "markdown",
   "metadata": {},
   "source": [
    "## Health_index"
   ]
  },
  {
   "cell_type": "code",
   "execution_count": null,
   "metadata": {},
   "outputs": [],
   "source": [
    "weather_data['health_index'].describe()"
   ]
  },
  {
   "cell_type": "markdown",
   "metadata": {},
   "source": [
    "#### mean"
   ]
  },
  {
   "cell_type": "code",
   "execution_count": null,
   "metadata": {},
   "outputs": [],
   "source": [
    "health_index_mean = weather_data.groupby('date_time_local').agg({\n",
    "  'health_index': lambda x: round(x.mean(),1)\n",
    "})\n",
    "\n",
    "health_index_mean.describe()"
   ]
  },
  {
   "cell_type": "code",
   "execution_count": null,
   "metadata": {},
   "outputs": [],
   "source": [
    "key_to_test = 'health_index'\n",
    "\n",
    "plt.figure(figsize=(15, 8))\n",
    "ax = weather_data[key_to_test].hist(bins=15, density=True, stacked=True, color='teal', alpha=0.6)\n",
    "weather_data[key_to_test].plot(kind='density', color='teal')\n",
    "\n",
    "\n",
    "ax = health_index_mean[key_to_test].hist(bins=15, density=True, stacked=True, color='orange', alpha=0.6)\n",
    "health_index_mean[key_to_test].plot(kind='density', color='orange')\n",
    "\n",
    "\n",
    "ax.legend(['Original data', 'Mean data'])\n",
    "ax.set(xlabel=key_to_test)\n",
    "\n",
    "plt.show()"
   ]
  },
  {
   "cell_type": "code",
   "execution_count": null,
   "metadata": {},
   "outputs": [],
   "source": [
    "ks_2samp(weather_data['health_index'], health_index_mean['health_index'])"
   ]
  },
  {
   "cell_type": "markdown",
   "metadata": {},
   "source": [
    "#### mode"
   ]
  },
  {
   "cell_type": "code",
   "execution_count": null,
   "metadata": {},
   "outputs": [],
   "source": [
    "health_index_mode = weather_data.groupby('date_time_local').agg({\n",
    "  'health_index': lambda x: x.value_counts().index[0]\n",
    "})\n",
    "\n",
    "health_index_mode.describe()"
   ]
  },
  {
   "cell_type": "code",
   "execution_count": null,
   "metadata": {},
   "outputs": [],
   "source": [
    "key_to_test = 'health_index'\n",
    "\n",
    "plt.figure(figsize=(15, 8))\n",
    "ax = weather_data[key_to_test].hist(bins=15, density=True, stacked=True, color='teal', alpha=0.6)\n",
    "weather_data[key_to_test].plot(kind='density', color='teal')\n",
    "\n",
    "\n",
    "ax = health_index_mode[key_to_test].hist(bins=15, density=True, stacked=True, color='orange', alpha=0.6)\n",
    "health_index_mode[key_to_test].plot(kind='density', color='orange')\n",
    "\n",
    "\n",
    "ax.legend(['Original data', 'Mode data'])\n",
    "ax.set(xlabel=key_to_test)\n",
    "\n",
    "plt.show()"
   ]
  },
  {
   "cell_type": "code",
   "execution_count": null,
   "metadata": {},
   "outputs": [],
   "source": [
    "ks_2samp(weather_data['health_index'], health_index_mode['health_index'])"
   ]
  },
  {
   "cell_type": "markdown",
   "metadata": {},
   "source": [
    "#### median"
   ]
  },
  {
   "cell_type": "code",
   "execution_count": null,
   "metadata": {},
   "outputs": [],
   "source": [
    "health_index_median = weather_data.groupby('date_time_local').agg({\n",
    "  'health_index': lambda x: x.median()\n",
    "})\n",
    "\n",
    "health_index_median.describe()"
   ]
  },
  {
   "cell_type": "code",
   "execution_count": null,
   "metadata": {},
   "outputs": [],
   "source": [
    "key_to_test = 'health_index'\n",
    "\n",
    "plt.figure(figsize=(15, 8))\n",
    "ax = weather_data[key_to_test].hist(bins=15, density=True, stacked=True, color='teal', alpha=0.6)\n",
    "weather_data[key_to_test].plot(kind='density', color='teal')\n",
    "\n",
    "\n",
    "ax = health_index_median[key_to_test].hist(bins=15, density=True, stacked=True, color='orange', alpha=0.6)\n",
    "health_index_median[key_to_test].plot(kind='density', color='orange')\n",
    "\n",
    "\n",
    "ax.legend(['Original data', 'Median data'])\n",
    "ax.set(xlabel=key_to_test)\n",
    "\n",
    "plt.show()"
   ]
  },
  {
   "cell_type": "code",
   "execution_count": 1017,
   "metadata": {},
   "outputs": [
    {
     "data": {
      "text/plain": [
       "Ks_2sampResult(statistic=0.06547619047619047, pvalue=0.20384478235583928)"
      ]
     },
     "execution_count": 1017,
     "metadata": {},
     "output_type": "execute_result"
    }
   ],
   "source": [
    "ks_2samp(weather_data['health_index'], health_index_median['health_index'])"
   ]
  },
  {
   "cell_type": "markdown",
   "metadata": {},
   "source": [
    "Mean will be used for health_index"
   ]
  },
  {
   "cell_type": "markdown",
   "metadata": {},
   "source": [
    "## Grouping weather data by date\n",
    "- Pressure station by mode\n",
    "- Pressure sea by median\n",
    "- wind_dir_10s by mode\n",
    "- wind_speed by mode\n",
    "- relative_humidty ignored\n",
    "- dew_point by mode\n",
    "- temperature by mode\n",
    "- health_index by mean"
   ]
  },
  {
   "cell_type": "code",
   "execution_count": 1018,
   "metadata": {
    "scrolled": false
   },
   "outputs": [
    {
     "name": "stdout",
     "output_type": "stream",
     "text": [
      "273\n"
     ]
    },
    {
     "data": {
      "text/html": [
       "<div>\n",
       "<style scoped>\n",
       "    .dataframe tbody tr th:only-of-type {\n",
       "        vertical-align: middle;\n",
       "    }\n",
       "\n",
       "    .dataframe tbody tr th {\n",
       "        vertical-align: top;\n",
       "    }\n",
       "\n",
       "    .dataframe thead th {\n",
       "        text-align: right;\n",
       "    }\n",
       "</style>\n",
       "<table border=\"1\" class=\"dataframe\">\n",
       "  <thead>\n",
       "    <tr style=\"text-align: right;\">\n",
       "      <th></th>\n",
       "      <th>date_time_local</th>\n",
       "      <th>pressure_station</th>\n",
       "      <th>pressure_sea</th>\n",
       "      <th>wind_dir_10s</th>\n",
       "      <th>wind_speed</th>\n",
       "      <th>dew_point</th>\n",
       "      <th>temperature</th>\n",
       "      <th>health_index</th>\n",
       "    </tr>\n",
       "  </thead>\n",
       "  <tbody>\n",
       "    <tr>\n",
       "      <th>0</th>\n",
       "      <td>2017-05-10</td>\n",
       "      <td>93.47</td>\n",
       "      <td>101.30</td>\n",
       "      <td>7.0</td>\n",
       "      <td>6.0</td>\n",
       "      <td>3.4</td>\n",
       "      <td>11.9</td>\n",
       "      <td>3.5</td>\n",
       "    </tr>\n",
       "    <tr>\n",
       "      <th>1</th>\n",
       "      <td>2017-05-11</td>\n",
       "      <td>93.61</td>\n",
       "      <td>101.40</td>\n",
       "      <td>11.0</td>\n",
       "      <td>6.0</td>\n",
       "      <td>5.9</td>\n",
       "      <td>7.2</td>\n",
       "      <td>3.2</td>\n",
       "    </tr>\n",
       "    <tr>\n",
       "      <th>2</th>\n",
       "      <td>2017-05-12</td>\n",
       "      <td>93.04</td>\n",
       "      <td>100.65</td>\n",
       "      <td>11.0</td>\n",
       "      <td>27.0</td>\n",
       "      <td>2.4</td>\n",
       "      <td>12.2</td>\n",
       "      <td>2.8</td>\n",
       "    </tr>\n",
       "    <tr>\n",
       "      <th>3</th>\n",
       "      <td>2017-05-13</td>\n",
       "      <td>92.37</td>\n",
       "      <td>100.40</td>\n",
       "      <td>9.0</td>\n",
       "      <td>9.0</td>\n",
       "      <td>5.3</td>\n",
       "      <td>6.3</td>\n",
       "      <td>1.8</td>\n",
       "    </tr>\n",
       "    <tr>\n",
       "      <th>4</th>\n",
       "      <td>2017-05-14</td>\n",
       "      <td>92.94</td>\n",
       "      <td>100.80</td>\n",
       "      <td>31.0</td>\n",
       "      <td>12.0</td>\n",
       "      <td>2.7</td>\n",
       "      <td>8.5</td>\n",
       "      <td>1.6</td>\n",
       "    </tr>\n",
       "  </tbody>\n",
       "</table>\n",
       "</div>"
      ],
      "text/plain": [
       "  date_time_local  pressure_station  pressure_sea  wind_dir_10s  wind_speed  \\\n",
       "0      2017-05-10             93.47        101.30           7.0         6.0   \n",
       "1      2017-05-11             93.61        101.40          11.0         6.0   \n",
       "2      2017-05-12             93.04        100.65          11.0        27.0   \n",
       "3      2017-05-13             92.37        100.40           9.0         9.0   \n",
       "4      2017-05-14             92.94        100.80          31.0        12.0   \n",
       "\n",
       "   dew_point  temperature  health_index  \n",
       "0        3.4         11.9           3.5  \n",
       "1        5.9          7.2           3.2  \n",
       "2        2.4         12.2           2.8  \n",
       "3        5.3          6.3           1.8  \n",
       "4        2.7          8.5           1.6  "
      ]
     },
     "execution_count": 1018,
     "metadata": {},
     "output_type": "execute_result"
    }
   ],
   "source": [
    "weather_data_grouped = weather_data.groupby('date_time_local', as_index=False).agg({\n",
    "    'pressure_station': lambda x: x.value_counts().index[0],\n",
    "    'pressure_sea': lambda x: x.median(),\n",
    "    'wind_dir_10s': lambda x: x.value_counts().index[0],\n",
    "    'wind_speed': lambda x: x.value_counts().index[0],\n",
    "    'dew_point': lambda x: x.value_counts().index[0],\n",
    "    'temperature': lambda x: x.value_counts().index[0],\n",
    "    'health_index': lambda x: round(x.mean(), 1)\n",
    "})\n",
    "\n",
    "print(len(weather_data_grouped.index))\n",
    "\n",
    "weather_data_grouped.head()"
   ]
  },
  {
   "cell_type": "code",
   "execution_count": 1019,
   "metadata": {},
   "outputs": [
    {
     "data": {
      "text/plain": [
       "date_time_local     0\n",
       "pressure_station    0\n",
       "pressure_sea        0\n",
       "wind_dir_10s        0\n",
       "wind_speed          0\n",
       "dew_point           0\n",
       "temperature         0\n",
       "health_index        0\n",
       "dtype: int64"
      ]
     },
     "execution_count": 1019,
     "metadata": {},
     "output_type": "execute_result"
    }
   ],
   "source": [
    "weather_data_grouped.isnull().sum()"
   ]
  },
  {
   "cell_type": "markdown",
   "metadata": {},
   "source": [
    "## Grouping mosquito data\n",
    "\n",
    "\n",
    "There are 3 candidate columns to group mosquito data by:\n",
    "- Trap_date: date of trapping mosquitos\n",
    "- Genus: When biologists talk about a genus, they mean one or more species of animals or plants that are closely related to each other. Low-level taxonomic ranking for biological classification.\n",
    "- Specific Epithet: lowest taxonomic rank and having common characteristics and (usually) capable of mating with one another.\n",
    "\n",
    "Add Gender for part B"
   ]
  },
  {
   "cell_type": "code",
   "execution_count": 1020,
   "metadata": {},
   "outputs": [
    {
     "data": {
      "text/html": [
       "<div>\n",
       "<style scoped>\n",
       "    .dataframe tbody tr th:only-of-type {\n",
       "        vertical-align: middle;\n",
       "    }\n",
       "\n",
       "    .dataframe tbody tr th {\n",
       "        vertical-align: top;\n",
       "    }\n",
       "\n",
       "    .dataframe thead th {\n",
       "        text-align: right;\n",
       "    }\n",
       "</style>\n",
       "<table border=\"1\" class=\"dataframe\">\n",
       "  <thead>\n",
       "    <tr style=\"text-align: right;\">\n",
       "      <th></th>\n",
       "      <th>Trap Date</th>\n",
       "      <th>Genus</th>\n",
       "      <th>Specific Epithet</th>\n",
       "      <th>Gender</th>\n",
       "      <th>Count</th>\n",
       "      <th>Trap Region</th>\n",
       "      <th>Comparison Group</th>\n",
       "      <th>Latitude</th>\n",
       "      <th>Longitude</th>\n",
       "      <th>Location</th>\n",
       "    </tr>\n",
       "  </thead>\n",
       "  <tbody>\n",
       "    <tr>\n",
       "      <th>27023</th>\n",
       "      <td>2017-06-13</td>\n",
       "      <td>Ochlerotatus</td>\n",
       "      <td>spp.</td>\n",
       "      <td>Female</td>\n",
       "      <td>1</td>\n",
       "      <td>Rural-East</td>\n",
       "      <td>Outer</td>\n",
       "      <td>53.606722</td>\n",
       "      <td>-113.221359</td>\n",
       "      <td>POINT (-113.22135870000001 53.6067218)</td>\n",
       "    </tr>\n",
       "    <tr>\n",
       "      <th>20362</th>\n",
       "      <td>2017-06-13</td>\n",
       "      <td>Ochlerotatus</td>\n",
       "      <td>excrucians</td>\n",
       "      <td>Female</td>\n",
       "      <td>3</td>\n",
       "      <td>Outer Community-North West</td>\n",
       "      <td>Outer</td>\n",
       "      <td>53.713765</td>\n",
       "      <td>-113.959036</td>\n",
       "      <td>POINT (-113.9590359 53.7137648)</td>\n",
       "    </tr>\n",
       "    <tr>\n",
       "      <th>10581</th>\n",
       "      <td>2017-06-13</td>\n",
       "      <td>Ochlerotatus</td>\n",
       "      <td>spp.</td>\n",
       "      <td>Female</td>\n",
       "      <td>5</td>\n",
       "      <td>Outer Community-North East</td>\n",
       "      <td>Outer</td>\n",
       "      <td>53.774470</td>\n",
       "      <td>-113.372088</td>\n",
       "      <td>POINT (-113.3720881 53.7744701)</td>\n",
       "    </tr>\n",
       "    <tr>\n",
       "      <th>19780</th>\n",
       "      <td>2017-06-13</td>\n",
       "      <td>Ochlerotatus</td>\n",
       "      <td>spp.</td>\n",
       "      <td>Female</td>\n",
       "      <td>3</td>\n",
       "      <td>Rural-South West</td>\n",
       "      <td>Peripheral</td>\n",
       "      <td>53.528587</td>\n",
       "      <td>-113.738070</td>\n",
       "      <td>POINT (-113.7380701 53.5285872)</td>\n",
       "    </tr>\n",
       "    <tr>\n",
       "      <th>19355</th>\n",
       "      <td>2017-06-13</td>\n",
       "      <td>Aedes</td>\n",
       "      <td>dorsalis</td>\n",
       "      <td>Female</td>\n",
       "      <td>3</td>\n",
       "      <td>River Valley-East-P1</td>\n",
       "      <td>Core</td>\n",
       "      <td>53.581417</td>\n",
       "      <td>-113.374561</td>\n",
       "      <td>POINT (-113.3745611 53.58141700000001)</td>\n",
       "    </tr>\n",
       "  </tbody>\n",
       "</table>\n",
       "</div>"
      ],
      "text/plain": [
       "       Trap Date         Genus Specific Epithet  Gender  Count  \\\n",
       "27023 2017-06-13  Ochlerotatus             spp.  Female      1   \n",
       "20362 2017-06-13  Ochlerotatus       excrucians  Female      3   \n",
       "10581 2017-06-13  Ochlerotatus             spp.  Female      5   \n",
       "19780 2017-06-13  Ochlerotatus             spp.  Female      3   \n",
       "19355 2017-06-13         Aedes         dorsalis  Female      3   \n",
       "\n",
       "                      Trap Region Comparison Group   Latitude   Longitude  \\\n",
       "27023                  Rural-East            Outer  53.606722 -113.221359   \n",
       "20362  Outer Community-North West            Outer  53.713765 -113.959036   \n",
       "10581  Outer Community-North East            Outer  53.774470 -113.372088   \n",
       "19780            Rural-South West       Peripheral  53.528587 -113.738070   \n",
       "19355        River Valley-East-P1             Core  53.581417 -113.374561   \n",
       "\n",
       "                                     Location  \n",
       "27023  POINT (-113.22135870000001 53.6067218)  \n",
       "20362         POINT (-113.9590359 53.7137648)  \n",
       "10581         POINT (-113.3720881 53.7744701)  \n",
       "19780         POINT (-113.7380701 53.5285872)  \n",
       "19355  POINT (-113.3745611 53.58141700000001)  "
      ]
     },
     "execution_count": 1020,
     "metadata": {},
     "output_type": "execute_result"
    }
   ],
   "source": [
    "mos_data.head()"
   ]
  },
  {
   "cell_type": "code",
   "execution_count": 1021,
   "metadata": {
    "scrolled": false
   },
   "outputs": [
    {
     "name": "stdout",
     "output_type": "stream",
     "text": [
      "30\n"
     ]
    },
    {
     "data": {
      "text/html": [
       "<div>\n",
       "<style scoped>\n",
       "    .dataframe tbody tr th:only-of-type {\n",
       "        vertical-align: middle;\n",
       "    }\n",
       "\n",
       "    .dataframe tbody tr th {\n",
       "        vertical-align: top;\n",
       "    }\n",
       "\n",
       "    .dataframe thead th {\n",
       "        text-align: right;\n",
       "    }\n",
       "</style>\n",
       "<table border=\"1\" class=\"dataframe\">\n",
       "  <thead>\n",
       "    <tr style=\"text-align: right;\">\n",
       "      <th></th>\n",
       "      <th>Trap Date</th>\n",
       "      <th>Count</th>\n",
       "      <th>Genus</th>\n",
       "      <th>Gender</th>\n",
       "    </tr>\n",
       "  </thead>\n",
       "  <tbody>\n",
       "    <tr>\n",
       "      <th>0</th>\n",
       "      <td>2017-06-13</td>\n",
       "      <td>2969</td>\n",
       "      <td>Ochlerotatus</td>\n",
       "      <td>Female</td>\n",
       "    </tr>\n",
       "    <tr>\n",
       "      <th>1</th>\n",
       "      <td>2017-06-20</td>\n",
       "      <td>1872</td>\n",
       "      <td>Ochlerotatus</td>\n",
       "      <td>Female</td>\n",
       "    </tr>\n",
       "    <tr>\n",
       "      <th>2</th>\n",
       "      <td>2017-06-27</td>\n",
       "      <td>769</td>\n",
       "      <td>Ochlerotatus</td>\n",
       "      <td>Female</td>\n",
       "    </tr>\n",
       "    <tr>\n",
       "      <th>3</th>\n",
       "      <td>2017-07-04</td>\n",
       "      <td>1779</td>\n",
       "      <td>Ochlerotatus</td>\n",
       "      <td>Female</td>\n",
       "    </tr>\n",
       "    <tr>\n",
       "      <th>4</th>\n",
       "      <td>2017-07-11</td>\n",
       "      <td>2253</td>\n",
       "      <td>Ochlerotatus</td>\n",
       "      <td>Female</td>\n",
       "    </tr>\n",
       "  </tbody>\n",
       "</table>\n",
       "</div>"
      ],
      "text/plain": [
       "   Trap Date  Count         Genus  Gender\n",
       "0 2017-06-13   2969  Ochlerotatus  Female\n",
       "1 2017-06-20   1872  Ochlerotatus  Female\n",
       "2 2017-06-27    769  Ochlerotatus  Female\n",
       "3 2017-07-04   1779  Ochlerotatus  Female\n",
       "4 2017-07-11   2253  Ochlerotatus  Female"
      ]
     },
     "execution_count": 1021,
     "metadata": {},
     "output_type": "execute_result"
    }
   ],
   "source": [
    "mos_data_grouped = mos_data.groupby(['Trap Date'], as_index=False).agg({\n",
    "    'Count' : 'sum',\n",
    "    'Genus': lambda x: x.value_counts().index[0],\n",
    "    'Gender': lambda x: x.value_counts().index[0]\n",
    "})\n",
    "\n",
    "print(len(mos_data_grouped.index))\n",
    "\n",
    "mos_data_grouped.head()"
   ]
  },
  {
   "cell_type": "code",
   "execution_count": 1022,
   "metadata": {},
   "outputs": [
    {
     "name": "stdout",
     "output_type": "stream",
     "text": [
      "30\n"
     ]
    },
    {
     "data": {
      "text/html": [
       "<div>\n",
       "<style scoped>\n",
       "    .dataframe tbody tr th:only-of-type {\n",
       "        vertical-align: middle;\n",
       "    }\n",
       "\n",
       "    .dataframe tbody tr th {\n",
       "        vertical-align: top;\n",
       "    }\n",
       "\n",
       "    .dataframe thead th {\n",
       "        text-align: right;\n",
       "    }\n",
       "</style>\n",
       "<table border=\"1\" class=\"dataframe\">\n",
       "  <thead>\n",
       "    <tr style=\"text-align: right;\">\n",
       "      <th></th>\n",
       "      <th>Trap Date</th>\n",
       "      <th>Count</th>\n",
       "      <th>Genus</th>\n",
       "      <th>Gender</th>\n",
       "      <th>pressure_station</th>\n",
       "      <th>pressure_sea</th>\n",
       "      <th>wind_dir_10s</th>\n",
       "      <th>wind_speed</th>\n",
       "      <th>dew_point</th>\n",
       "      <th>temperature</th>\n",
       "      <th>health_index</th>\n",
       "    </tr>\n",
       "  </thead>\n",
       "  <tbody>\n",
       "    <tr>\n",
       "      <th>0</th>\n",
       "      <td>2017-06-13</td>\n",
       "      <td>2969</td>\n",
       "      <td>Ochlerotatus</td>\n",
       "      <td>Female</td>\n",
       "      <td>93.08</td>\n",
       "      <td>100.90</td>\n",
       "      <td>34.0</td>\n",
       "      <td>11.0</td>\n",
       "      <td>10.2</td>\n",
       "      <td>15.1</td>\n",
       "      <td>2.6</td>\n",
       "    </tr>\n",
       "    <tr>\n",
       "      <th>1</th>\n",
       "      <td>2017-06-20</td>\n",
       "      <td>1872</td>\n",
       "      <td>Ochlerotatus</td>\n",
       "      <td>Female</td>\n",
       "      <td>93.12</td>\n",
       "      <td>100.90</td>\n",
       "      <td>16.0</td>\n",
       "      <td>17.0</td>\n",
       "      <td>10.0</td>\n",
       "      <td>11.0</td>\n",
       "      <td>2.4</td>\n",
       "    </tr>\n",
       "    <tr>\n",
       "      <th>2</th>\n",
       "      <td>2017-06-27</td>\n",
       "      <td>769</td>\n",
       "      <td>Ochlerotatus</td>\n",
       "      <td>Female</td>\n",
       "      <td>92.78</td>\n",
       "      <td>100.55</td>\n",
       "      <td>31.0</td>\n",
       "      <td>17.0</td>\n",
       "      <td>7.0</td>\n",
       "      <td>13.7</td>\n",
       "      <td>2.4</td>\n",
       "    </tr>\n",
       "    <tr>\n",
       "      <th>3</th>\n",
       "      <td>2017-07-04</td>\n",
       "      <td>1779</td>\n",
       "      <td>Ochlerotatus</td>\n",
       "      <td>Female</td>\n",
       "      <td>93.84</td>\n",
       "      <td>101.50</td>\n",
       "      <td>20.0</td>\n",
       "      <td>7.0</td>\n",
       "      <td>6.6</td>\n",
       "      <td>22.7</td>\n",
       "      <td>2.4</td>\n",
       "    </tr>\n",
       "    <tr>\n",
       "      <th>4</th>\n",
       "      <td>2017-07-11</td>\n",
       "      <td>2253</td>\n",
       "      <td>Ochlerotatus</td>\n",
       "      <td>Female</td>\n",
       "      <td>93.92</td>\n",
       "      <td>101.60</td>\n",
       "      <td>3.0</td>\n",
       "      <td>10.0</td>\n",
       "      <td>13.0</td>\n",
       "      <td>15.1</td>\n",
       "      <td>2.5</td>\n",
       "    </tr>\n",
       "  </tbody>\n",
       "</table>\n",
       "</div>"
      ],
      "text/plain": [
       "   Trap Date  Count         Genus  Gender  pressure_station  pressure_sea  \\\n",
       "0 2017-06-13   2969  Ochlerotatus  Female             93.08        100.90   \n",
       "1 2017-06-20   1872  Ochlerotatus  Female             93.12        100.90   \n",
       "2 2017-06-27    769  Ochlerotatus  Female             92.78        100.55   \n",
       "3 2017-07-04   1779  Ochlerotatus  Female             93.84        101.50   \n",
       "4 2017-07-11   2253  Ochlerotatus  Female             93.92        101.60   \n",
       "\n",
       "   wind_dir_10s  wind_speed  dew_point  temperature  health_index  \n",
       "0          34.0        11.0       10.2         15.1           2.6  \n",
       "1          16.0        17.0       10.0         11.0           2.4  \n",
       "2          31.0        17.0        7.0         13.7           2.4  \n",
       "3          20.0         7.0        6.6         22.7           2.4  \n",
       "4           3.0        10.0       13.0         15.1           2.5  "
      ]
     },
     "execution_count": 1022,
     "metadata": {},
     "output_type": "execute_result"
    }
   ],
   "source": [
    "merged_data = pd.merge(left=mos_data_grouped, right=weather_data_grouped, left_on='Trap Date', right_on='date_time_local')\n",
    "\n",
    "print(len(merged_data.index))\n",
    "\n",
    "merged_data.drop(columns=['date_time_local'], inplace=True) #redundent\n",
    "\n",
    "merged_data.head()"
   ]
  },
  {
   "cell_type": "code",
   "execution_count": 1023,
   "metadata": {
    "scrolled": false
   },
   "outputs": [
    {
     "data": {
      "text/plain": [
       "Trap Date           0\n",
       "Count               0\n",
       "Genus               0\n",
       "Gender              0\n",
       "pressure_station    0\n",
       "pressure_sea        0\n",
       "wind_dir_10s        0\n",
       "wind_speed          0\n",
       "dew_point           0\n",
       "temperature         0\n",
       "health_index        0\n",
       "dtype: int64"
      ]
     },
     "execution_count": 1023,
     "metadata": {},
     "output_type": "execute_result"
    }
   ],
   "source": [
    "merged_data.isnull().sum()"
   ]
  },
  {
   "cell_type": "markdown",
   "metadata": {},
   "source": [
    "## Add features\n",
    "- isWarm: if temperature is above 20 = 1, else = 0.\n",
    "- add genusCat for Genus\n",
    "- add genderCat female = 1, male = 0\n",
    "- add delta_pressure = pressure_station - pressure_sea"
   ]
  },
  {
   "cell_type": "code",
   "execution_count": 1024,
   "metadata": {},
   "outputs": [],
   "source": [
    "merged_data['isWarm'] = np.where(merged_data['temperature'] >= 20, 1, 0)"
   ]
  },
  {
   "cell_type": "code",
   "execution_count": 1025,
   "metadata": {},
   "outputs": [],
   "source": [
    "merged_data['Genus'] = merged_data['Genus'].astype('category')\n",
    "merged_data['genusCat'] = merged_data['Genus'].cat.codes"
   ]
  },
  {
   "cell_type": "code",
   "execution_count": 1026,
   "metadata": {},
   "outputs": [],
   "source": [
    "# merged_data['genderCat'] = np.where(merged_data['Gender'] == \"Female\", 1, 0)"
   ]
  },
  {
   "cell_type": "code",
   "execution_count": 1027,
   "metadata": {},
   "outputs": [],
   "source": [
    "merged_data[\"delta_pressure\"] = merged_data.apply(lambda x: x['pressure_station'] - x['pressure_sea'], axis=1)"
   ]
  },
  {
   "cell_type": "code",
   "execution_count": 1028,
   "metadata": {
    "scrolled": true
   },
   "outputs": [
    {
     "data": {
      "text/html": [
       "<div>\n",
       "<style scoped>\n",
       "    .dataframe tbody tr th:only-of-type {\n",
       "        vertical-align: middle;\n",
       "    }\n",
       "\n",
       "    .dataframe tbody tr th {\n",
       "        vertical-align: top;\n",
       "    }\n",
       "\n",
       "    .dataframe thead th {\n",
       "        text-align: right;\n",
       "    }\n",
       "</style>\n",
       "<table border=\"1\" class=\"dataframe\">\n",
       "  <thead>\n",
       "    <tr style=\"text-align: right;\">\n",
       "      <th></th>\n",
       "      <th>Trap Date</th>\n",
       "      <th>Count</th>\n",
       "      <th>Genus</th>\n",
       "      <th>Gender</th>\n",
       "      <th>pressure_station</th>\n",
       "      <th>pressure_sea</th>\n",
       "      <th>wind_dir_10s</th>\n",
       "      <th>wind_speed</th>\n",
       "      <th>dew_point</th>\n",
       "      <th>temperature</th>\n",
       "      <th>health_index</th>\n",
       "      <th>isWarm</th>\n",
       "      <th>genusCat</th>\n",
       "      <th>delta_pressure</th>\n",
       "    </tr>\n",
       "  </thead>\n",
       "  <tbody>\n",
       "    <tr>\n",
       "      <th>0</th>\n",
       "      <td>2017-06-13</td>\n",
       "      <td>2969</td>\n",
       "      <td>Ochlerotatus</td>\n",
       "      <td>Female</td>\n",
       "      <td>93.08</td>\n",
       "      <td>100.90</td>\n",
       "      <td>34.0</td>\n",
       "      <td>11.0</td>\n",
       "      <td>10.2</td>\n",
       "      <td>15.1</td>\n",
       "      <td>2.6</td>\n",
       "      <td>0</td>\n",
       "      <td>3</td>\n",
       "      <td>-7.82</td>\n",
       "    </tr>\n",
       "    <tr>\n",
       "      <th>1</th>\n",
       "      <td>2017-06-20</td>\n",
       "      <td>1872</td>\n",
       "      <td>Ochlerotatus</td>\n",
       "      <td>Female</td>\n",
       "      <td>93.12</td>\n",
       "      <td>100.90</td>\n",
       "      <td>16.0</td>\n",
       "      <td>17.0</td>\n",
       "      <td>10.0</td>\n",
       "      <td>11.0</td>\n",
       "      <td>2.4</td>\n",
       "      <td>0</td>\n",
       "      <td>3</td>\n",
       "      <td>-7.78</td>\n",
       "    </tr>\n",
       "    <tr>\n",
       "      <th>2</th>\n",
       "      <td>2017-06-27</td>\n",
       "      <td>769</td>\n",
       "      <td>Ochlerotatus</td>\n",
       "      <td>Female</td>\n",
       "      <td>92.78</td>\n",
       "      <td>100.55</td>\n",
       "      <td>31.0</td>\n",
       "      <td>17.0</td>\n",
       "      <td>7.0</td>\n",
       "      <td>13.7</td>\n",
       "      <td>2.4</td>\n",
       "      <td>0</td>\n",
       "      <td>3</td>\n",
       "      <td>-7.77</td>\n",
       "    </tr>\n",
       "    <tr>\n",
       "      <th>3</th>\n",
       "      <td>2017-07-04</td>\n",
       "      <td>1779</td>\n",
       "      <td>Ochlerotatus</td>\n",
       "      <td>Female</td>\n",
       "      <td>93.84</td>\n",
       "      <td>101.50</td>\n",
       "      <td>20.0</td>\n",
       "      <td>7.0</td>\n",
       "      <td>6.6</td>\n",
       "      <td>22.7</td>\n",
       "      <td>2.4</td>\n",
       "      <td>1</td>\n",
       "      <td>3</td>\n",
       "      <td>-7.66</td>\n",
       "    </tr>\n",
       "    <tr>\n",
       "      <th>4</th>\n",
       "      <td>2017-07-11</td>\n",
       "      <td>2253</td>\n",
       "      <td>Ochlerotatus</td>\n",
       "      <td>Female</td>\n",
       "      <td>93.92</td>\n",
       "      <td>101.60</td>\n",
       "      <td>3.0</td>\n",
       "      <td>10.0</td>\n",
       "      <td>13.0</td>\n",
       "      <td>15.1</td>\n",
       "      <td>2.5</td>\n",
       "      <td>0</td>\n",
       "      <td>3</td>\n",
       "      <td>-7.68</td>\n",
       "    </tr>\n",
       "  </tbody>\n",
       "</table>\n",
       "</div>"
      ],
      "text/plain": [
       "   Trap Date  Count         Genus  Gender  pressure_station  pressure_sea  \\\n",
       "0 2017-06-13   2969  Ochlerotatus  Female             93.08        100.90   \n",
       "1 2017-06-20   1872  Ochlerotatus  Female             93.12        100.90   \n",
       "2 2017-06-27    769  Ochlerotatus  Female             92.78        100.55   \n",
       "3 2017-07-04   1779  Ochlerotatus  Female             93.84        101.50   \n",
       "4 2017-07-11   2253  Ochlerotatus  Female             93.92        101.60   \n",
       "\n",
       "   wind_dir_10s  wind_speed  dew_point  temperature  health_index  isWarm  \\\n",
       "0          34.0        11.0       10.2         15.1           2.6       0   \n",
       "1          16.0        17.0       10.0         11.0           2.4       0   \n",
       "2          31.0        17.0        7.0         13.7           2.4       0   \n",
       "3          20.0         7.0        6.6         22.7           2.4       1   \n",
       "4           3.0        10.0       13.0         15.1           2.5       0   \n",
       "\n",
       "   genusCat  delta_pressure  \n",
       "0         3           -7.82  \n",
       "1         3           -7.78  \n",
       "2         3           -7.77  \n",
       "3         3           -7.66  \n",
       "4         3           -7.68  "
      ]
     },
     "execution_count": 1028,
     "metadata": {},
     "output_type": "execute_result"
    }
   ],
   "source": [
    "merged_data.head()"
   ]
  },
  {
   "cell_type": "markdown",
   "metadata": {},
   "source": [
    "# Part A: Linear Regression for no_of_Mosquito = function(weather_features)"
   ]
  },
  {
   "cell_type": "code",
   "execution_count": 1029,
   "metadata": {
    "scrolled": false
   },
   "outputs": [
    {
     "data": {
      "text/plain": [
       "<matplotlib.axes._subplots.AxesSubplot at 0x7f6e7ee29048>"
      ]
     },
     "execution_count": 1029,
     "metadata": {},
     "output_type": "execute_result"
    },
    {
     "data": {
      "image/png": "[encoded data removed]",
      "text/plain": [
       "<Figure size 432x288 with 1 Axes>"
      ]
     },
     "metadata": {},
     "output_type": "display_data"
    }
   ],
   "source": [
    "sns.distplot(merged_data['Count'])"
   ]
  },
  {
   "cell_type": "code",
   "execution_count": 1030,
   "metadata": {
    "scrolled": true
   },
   "outputs": [
    {
     "data": {
      "text/plain": [
       "count      30.000000\n",
       "mean     2303.066667\n",
       "std      1903.430532\n",
       "min       171.000000\n",
       "25%      1050.750000\n",
       "50%      1990.500000\n",
       "75%      2954.750000\n",
       "max      9938.000000\n",
       "Name: Count, dtype: float64"
      ]
     },
     "execution_count": 1030,
     "metadata": {},
     "output_type": "execute_result"
    }
   ],
   "source": [
    "merged_data['Count'].describe()"
   ]
  },
  {
   "cell_type": "code",
   "execution_count": 1031,
   "metadata": {},
   "outputs": [],
   "source": [
    "#merged_data = merged_data[merged_data['Count'] < merged_data['Count'].describe()['75%']]  "
   ]
  },
  {
   "cell_type": "code",
   "execution_count": 1032,
   "metadata": {
    "scrolled": false
   },
   "outputs": [
    {
     "data": {
      "text/plain": [
       "<matplotlib.axes._subplots.AxesSubplot at 0x7f6e7ed1b550>"
      ]
     },
     "execution_count": 1032,
     "metadata": {},
     "output_type": "execute_result"
    },
    {
     "data": {
      "image/png": "[encoded data removed]",
      "text/plain": [
       "<Figure size 864x864 with 2 Axes>"
      ]
     },
     "metadata": {},
     "output_type": "display_data"
    }
   ],
   "source": [
    "fig, ax = plt.subplots(figsize=(12,12))\n",
    "sns.heatmap(merged_data.corr(), annot=True, ax=ax)"
   ]
  },
  {
   "cell_type": "code",
   "execution_count": 1033,
   "metadata": {},
   "outputs": [],
   "source": [
    "x_cols = ['wind_dir_10s', 'wind_speed', 'genusCat', 'delta_pressure']\n",
    "X = merged_data[x_cols]\n",
    "y = merged_data['Count']"
   ]
  },
  {
   "cell_type": "code",
   "execution_count": 1034,
   "metadata": {
    "scrolled": true
   },
   "outputs": [],
   "source": [
    "from sklearn.preprocessing import StandardScaler\n",
    "\n",
    "x_cols = ['wind_dir_10s', 'wind_speed', 'delta_pressure']\n",
    "\n",
    "\n",
    "X_stand = X.copy()\n",
    "X_norm = X.copy()\n",
    "X_both = X.copy()\n",
    "\n",
    "X_stand[x_cols] = StandardScaler().fit_transform(X[x_cols])\n",
    "X_norm[x_cols] = X[x_cols].apply(lambda x: (x - x.min()) / (x.max() - x.min()))\n",
    "X_both[x_cols] = StandardScaler().fit_transform(X[x_cols].apply(lambda x: (x - x.min()) / (x.max() - x.min()))[x_cols])"
   ]
  },
  {
   "cell_type": "code",
   "execution_count": 1035,
   "metadata": {},
   "outputs": [],
   "source": [
    "from sklearn.model_selection import train_test_split\n",
    "\n",
    "test_size = 0.1\n",
    "\n",
    "X_train, X_test, y_train, y_test = train_test_split(X, y, test_size=test_size, random_state=42)\n",
    "X_train_stand, X_test_stand, y_train_stand, y_test_stand = train_test_split(X_stand, y, test_size=test_size, random_state=42)\n",
    "X_train_norm, X_test_norm, y_train_norm, y_test_norm = train_test_split(X_norm, y, test_size=test_size, random_state=42)\n",
    "X_train_both, X_test_both, y_train_both, y_test_both = train_test_split(X_both, y, test_size=test_size, random_state=42)\n"
   ]
  },
  {
   "cell_type": "code",
   "execution_count": 1036,
   "metadata": {},
   "outputs": [],
   "source": [
    "from sklearn import metrics\n",
    "from sklearn.model_selection import cross_val_score\n",
    "\n",
    "def cross_val(model):\n",
    "    pred = cross_val_score(model, X, y, cv=10)\n",
    "    return pred.mean()\n",
    "\n",
    "def print_evaluate(true, predicted):  \n",
    "    mae = metrics.mean_absolute_error(true, predicted)\n",
    "    mse = metrics.mean_squared_error(true, predicted)\n",
    "    rmse = np.sqrt(metrics.mean_squared_error(true, predicted))\n",
    "    r2_square = metrics.r2_score(true, predicted)\n",
    "    print('MAE:', mae)\n",
    "    print('MSE:', mse)\n",
    "    print('RMSE:', rmse)\n",
    "    print('R2 Square', r2_square)\n",
    "    \n",
    "def evaluate(true, predicted):\n",
    "    mae = metrics.mean_absolute_error(true, predicted)\n",
    "    mse = metrics.mean_squared_error(true, predicted)\n",
    "    rmse = np.sqrt(metrics.mean_squared_error(true, predicted))\n",
    "    r2_square = metrics.r2_score(true, predicted)\n",
    "    return mae, mse, rmse, r2_square"
   ]
  },
  {
   "cell_type": "code",
   "execution_count": 1037,
   "metadata": {},
   "outputs": [
    {
     "data": {
      "text/plain": [
       "LinearRegression(copy_X=True, fit_intercept=True, n_jobs=None,\n",
       "         normalize=False)"
      ]
     },
     "execution_count": 1037,
     "metadata": {},
     "output_type": "execute_result"
    }
   ],
   "source": [
    "from sklearn.linear_model import LinearRegression\n",
    "\n",
    "lin_reg = LinearRegression()\n",
    "lin_reg.fit(X_train,y_train)\n",
    "\n",
    "lin_reg_norm = LinearRegression()\n",
    "lin_reg_norm.fit(X_train_norm,y_train_norm)\n",
    "\n",
    "lin_reg_stand = LinearRegression()\n",
    "lin_reg_stand.fit(X_train_stand,y_train_stand)\n",
    "\n",
    "lin_reg_both = LinearRegression()\n",
    "lin_reg_both.fit(X_train_both,y_train_both)"
   ]
  },
  {
   "cell_type": "code",
   "execution_count": 1038,
   "metadata": {},
   "outputs": [
    {
     "name": "stdout",
     "output_type": "stream",
     "text": [
      "13977.565749447538\n"
     ]
    },
    {
     "data": {
      "text/html": [
       "<div>\n",
       "<style scoped>\n",
       "    .dataframe tbody tr th:only-of-type {\n",
       "        vertical-align: middle;\n",
       "    }\n",
       "\n",
       "    .dataframe tbody tr th {\n",
       "        vertical-align: top;\n",
       "    }\n",
       "\n",
       "    .dataframe thead th {\n",
       "        text-align: right;\n",
       "    }\n",
       "</style>\n",
       "<table border=\"1\" class=\"dataframe\">\n",
       "  <thead>\n",
       "    <tr style=\"text-align: right;\">\n",
       "      <th></th>\n",
       "      <th>Coefficient</th>\n",
       "    </tr>\n",
       "  </thead>\n",
       "  <tbody>\n",
       "    <tr>\n",
       "      <th>wind_dir_10s</th>\n",
       "      <td>0.945797</td>\n",
       "    </tr>\n",
       "    <tr>\n",
       "      <th>wind_speed</th>\n",
       "      <td>143.577140</td>\n",
       "    </tr>\n",
       "    <tr>\n",
       "      <th>genusCat</th>\n",
       "      <td>444.808211</td>\n",
       "    </tr>\n",
       "    <tr>\n",
       "      <th>delta_pressure</th>\n",
       "      <td>1829.649873</td>\n",
       "    </tr>\n",
       "  </tbody>\n",
       "</table>\n",
       "</div>"
      ],
      "text/plain": [
       "                Coefficient\n",
       "wind_dir_10s       0.945797\n",
       "wind_speed       143.577140\n",
       "genusCat         444.808211\n",
       "delta_pressure  1829.649873"
      ]
     },
     "execution_count": 1038,
     "metadata": {},
     "output_type": "execute_result"
    }
   ],
   "source": [
    "print(lin_reg.intercept_)\n",
    "coeff_df = pd.DataFrame(lin_reg.coef_, X.columns, columns=['Coefficient'])\n",
    "coeff_df"
   ]
  },
  {
   "cell_type": "code",
   "execution_count": 1039,
   "metadata": {
    "scrolled": true
   },
   "outputs": [
    {
     "name": "stdout",
     "output_type": "stream",
     "text": [
      "-633.2738386103129\n"
     ]
    },
    {
     "data": {
      "text/html": [
       "<div>\n",
       "<style scoped>\n",
       "    .dataframe tbody tr th:only-of-type {\n",
       "        vertical-align: middle;\n",
       "    }\n",
       "\n",
       "    .dataframe tbody tr th {\n",
       "        vertical-align: top;\n",
       "    }\n",
       "\n",
       "    .dataframe thead th {\n",
       "        text-align: right;\n",
       "    }\n",
       "</style>\n",
       "<table border=\"1\" class=\"dataframe\">\n",
       "  <thead>\n",
       "    <tr style=\"text-align: right;\">\n",
       "      <th></th>\n",
       "      <th>Coefficient</th>\n",
       "    </tr>\n",
       "  </thead>\n",
       "  <tbody>\n",
       "    <tr>\n",
       "      <th>wind_dir_10s</th>\n",
       "      <td>33.102883</td>\n",
       "    </tr>\n",
       "    <tr>\n",
       "      <th>wind_speed</th>\n",
       "      <td>4594.468492</td>\n",
       "    </tr>\n",
       "    <tr>\n",
       "      <th>genusCat</th>\n",
       "      <td>444.808211</td>\n",
       "    </tr>\n",
       "    <tr>\n",
       "      <th>delta_pressure</th>\n",
       "      <td>1299.051410</td>\n",
       "    </tr>\n",
       "  </tbody>\n",
       "</table>\n",
       "</div>"
      ],
      "text/plain": [
       "                Coefficient\n",
       "wind_dir_10s      33.102883\n",
       "wind_speed      4594.468492\n",
       "genusCat         444.808211\n",
       "delta_pressure  1299.051410"
      ]
     },
     "execution_count": 1039,
     "metadata": {},
     "output_type": "execute_result"
    }
   ],
   "source": [
    "print(lin_reg_norm.intercept_)\n",
    "coeff_df = pd.DataFrame(lin_reg_norm.coef_, X.columns, columns=['Coefficient'])\n",
    "coeff_df"
   ]
  },
  {
   "cell_type": "code",
   "execution_count": 1040,
   "metadata": {
    "scrolled": true
   },
   "outputs": [
    {
     "name": "stdout",
     "output_type": "stream",
     "text": [
      "1307.2546891033026\n"
     ]
    },
    {
     "data": {
      "text/html": [
       "<div>\n",
       "<style scoped>\n",
       "    .dataframe tbody tr th:only-of-type {\n",
       "        vertical-align: middle;\n",
       "    }\n",
       "\n",
       "    .dataframe tbody tr th {\n",
       "        vertical-align: top;\n",
       "    }\n",
       "\n",
       "    .dataframe thead th {\n",
       "        text-align: right;\n",
       "    }\n",
       "</style>\n",
       "<table border=\"1\" class=\"dataframe\">\n",
       "  <thead>\n",
       "    <tr style=\"text-align: right;\">\n",
       "      <th></th>\n",
       "      <th>Coefficient</th>\n",
       "    </tr>\n",
       "  </thead>\n",
       "  <tbody>\n",
       "    <tr>\n",
       "      <th>wind_dir_10s</th>\n",
       "      <td>9.297715</td>\n",
       "    </tr>\n",
       "    <tr>\n",
       "      <th>wind_speed</th>\n",
       "      <td>947.995787</td>\n",
       "    </tr>\n",
       "    <tr>\n",
       "      <th>genusCat</th>\n",
       "      <td>444.808211</td>\n",
       "    </tr>\n",
       "    <tr>\n",
       "      <th>delta_pressure</th>\n",
       "      <td>271.822595</td>\n",
       "    </tr>\n",
       "  </tbody>\n",
       "</table>\n",
       "</div>"
      ],
      "text/plain": [
       "                Coefficient\n",
       "wind_dir_10s       9.297715\n",
       "wind_speed       947.995787\n",
       "genusCat         444.808211\n",
       "delta_pressure   271.822595"
      ]
     },
     "execution_count": 1040,
     "metadata": {},
     "output_type": "execute_result"
    }
   ],
   "source": [
    "print(lin_reg_stand.intercept_)\n",
    "coeff_df = pd.DataFrame(lin_reg_stand.coef_, X.columns, columns=['Coefficient'])\n",
    "coeff_df"
   ]
  },
  {
   "cell_type": "code",
   "execution_count": 1041,
   "metadata": {
    "scrolled": true
   },
   "outputs": [
    {
     "name": "stdout",
     "output_type": "stream",
     "text": [
      "1307.2546891033\n"
     ]
    },
    {
     "data": {
      "text/html": [
       "<div>\n",
       "<style scoped>\n",
       "    .dataframe tbody tr th:only-of-type {\n",
       "        vertical-align: middle;\n",
       "    }\n",
       "\n",
       "    .dataframe tbody tr th {\n",
       "        vertical-align: top;\n",
       "    }\n",
       "\n",
       "    .dataframe thead th {\n",
       "        text-align: right;\n",
       "    }\n",
       "</style>\n",
       "<table border=\"1\" class=\"dataframe\">\n",
       "  <thead>\n",
       "    <tr style=\"text-align: right;\">\n",
       "      <th></th>\n",
       "      <th>Coefficient</th>\n",
       "    </tr>\n",
       "  </thead>\n",
       "  <tbody>\n",
       "    <tr>\n",
       "      <th>wind_dir_10s</th>\n",
       "      <td>9.297715</td>\n",
       "    </tr>\n",
       "    <tr>\n",
       "      <th>wind_speed</th>\n",
       "      <td>947.995787</td>\n",
       "    </tr>\n",
       "    <tr>\n",
       "      <th>genusCat</th>\n",
       "      <td>444.808211</td>\n",
       "    </tr>\n",
       "    <tr>\n",
       "      <th>delta_pressure</th>\n",
       "      <td>271.822595</td>\n",
       "    </tr>\n",
       "  </tbody>\n",
       "</table>\n",
       "</div>"
      ],
      "text/plain": [
       "                Coefficient\n",
       "wind_dir_10s       9.297715\n",
       "wind_speed       947.995787\n",
       "genusCat         444.808211\n",
       "delta_pressure   271.822595"
      ]
     },
     "execution_count": 1041,
     "metadata": {},
     "output_type": "execute_result"
    }
   ],
   "source": [
    "print(lin_reg_both.intercept_)\n",
    "coeff_df = pd.DataFrame(lin_reg_both.coef_, X.columns, columns=['Coefficient'])\n",
    "coeff_df"
   ]
  },
  {
   "cell_type": "code",
   "execution_count": 1042,
   "metadata": {
    "scrolled": true
   },
   "outputs": [
    {
     "data": {
      "image/png": "[encoded data removed]",
      "text/plain": [
       "<Figure size 1080x576 with 1 Axes>"
      ]
     },
     "metadata": {},
     "output_type": "display_data"
    }
   ],
   "source": [
    "pred = lin_reg.predict(X_test)\n",
    "pred_norm = lin_reg_norm.predict(X_test_norm)\n",
    "pred_stand = lin_reg_stand.predict(X_test_stand)\n",
    "pred_both = lin_reg_both.predict(X_test_both)\n",
    "\n",
    "\n",
    "plt.figure(figsize=(15, 8))\n",
    "ax = plt.gca()\n",
    "\n",
    "ax.scatter(y_test, pred, c='#2ca02c', marker='x', label='Original data')\n",
    "ax.scatter(y_test_norm, pred, c='r', marker='o', label='Normalized data')\n",
    "ax.scatter(y_test_stand, pred, c='b', marker='+', label='Standardized data')\n",
    "ax.scatter(y_test_both, pred, c='y', marker='s', label='Both data')\n",
    "\n",
    "plt.legend(loc='best');\n",
    "\n",
    "plt.show()"
   ]
  },
  {
   "cell_type": "code",
   "execution_count": 1043,
   "metadata": {},
   "outputs": [
    {
     "data": {
      "image/png": "[encoded data removed]",
      "text/plain": [
       "<Figure size 432x288 with 1 Axes>"
      ]
     },
     "metadata": {},
     "output_type": "display_data"
    }
   ],
   "source": [
    "sns.distplot((y_test - pred), bins=50);"
   ]
  },
  {
   "cell_type": "code",
   "execution_count": 1044,
   "metadata": {},
   "outputs": [
    {
     "name": "stdout",
     "output_type": "stream",
     "text": [
      "Test set evaluation:\n",
      "_____________________________________\n",
      "MAE: 865.5466889907535\n",
      "MSE: 1065087.2381016256\n",
      "RMSE: 1032.0306381603336\n",
      "R2 Square -0.5517170998839716\n",
      "====================================\n",
      "Train set evaluation:\n",
      "_____________________________________\n",
      "MAE: 1054.1758911963489\n",
      "MSE: 2164515.357939524\n",
      "RMSE: 1471.2291996624876\n",
      "R2 Square 0.418872210493334\n"
     ]
    }
   ],
   "source": [
    "test_pred = lin_reg.predict(X_test)\n",
    "train_pred = lin_reg.predict(X_train)\n",
    "\n",
    "print('Test set evaluation:\\n_____________________________________')\n",
    "print_evaluate(y_test, test_pred)\n",
    "print('====================================')\n",
    "print('Train set evaluation:\\n_____________________________________')\n",
    "print_evaluate(y_train, train_pred)"
   ]
  },
  {
   "cell_type": "code",
   "execution_count": 1045,
   "metadata": {
    "scrolled": true
   },
   "outputs": [
    {
     "name": "stdout",
     "output_type": "stream",
     "text": [
      "Test set evaluation:\n",
      "_____________________________________\n",
      "MAE: 865.5466889907522\n",
      "MSE: 1065087.2381016237\n",
      "RMSE: 1032.0306381603327\n",
      "R2 Square -0.5517170998839687\n",
      "====================================\n",
      "Train set evaluation:\n",
      "_____________________________________\n",
      "MAE: 1054.1758911963486\n",
      "MSE: 2164515.357939524\n",
      "RMSE: 1471.2291996624876\n",
      "R2 Square 0.418872210493334\n"
     ]
    }
   ],
   "source": [
    "test_pred_norm = lin_reg_norm.predict(X_test_norm)\n",
    "train_pred_norm = lin_reg_norm.predict(X_train_norm)\n",
    "\n",
    "print('Test set evaluation:\\n_____________________________________')\n",
    "print_evaluate(y_test_norm, test_pred_norm)\n",
    "print('====================================')\n",
    "print('Train set evaluation:\\n_____________________________________')\n",
    "print_evaluate(y_train_norm, train_pred_norm)"
   ]
  },
  {
   "cell_type": "code",
   "execution_count": 1046,
   "metadata": {
    "scrolled": true
   },
   "outputs": [
    {
     "name": "stdout",
     "output_type": "stream",
     "text": [
      "Test set evaluation:\n",
      "_____________________________________\n",
      "MAE: 865.5466889907526\n",
      "MSE: 1065087.2381016237\n",
      "RMSE: 1032.0306381603327\n",
      "R2 Square -0.5517170998839687\n",
      "====================================\n",
      "Train set evaluation:\n",
      "_____________________________________\n",
      "MAE: 1054.1758911963484\n",
      "MSE: 2164515.3579395246\n",
      "RMSE: 1471.2291996624879\n",
      "R2 Square 0.4188722104933338\n"
     ]
    }
   ],
   "source": [
    "test_pred_stand = lin_reg_stand.predict(X_test_stand)\n",
    "train_pred_stand = lin_reg_stand.predict(X_train_stand)\n",
    "\n",
    "print('Test set evaluation:\\n_____________________________________')\n",
    "print_evaluate(y_test_stand, test_pred_stand)\n",
    "print('====================================')\n",
    "print('Train set evaluation:\\n_____________________________________')\n",
    "print_evaluate(y_train_stand, train_pred_stand)"
   ]
  },
  {
   "cell_type": "code",
   "execution_count": 1047,
   "metadata": {
    "scrolled": true
   },
   "outputs": [
    {
     "name": "stdout",
     "output_type": "stream",
     "text": [
      "Test set evaluation:\n",
      "_____________________________________\n",
      "MAE: 865.546688990753\n",
      "MSE: 1065087.2381016237\n",
      "RMSE: 1032.0306381603327\n",
      "R2 Square -0.5517170998839687\n",
      "====================================\n",
      "Train set evaluation:\n",
      "_____________________________________\n",
      "MAE: 1054.1758911963484\n",
      "MSE: 2164515.3579395246\n",
      "RMSE: 1471.2291996624879\n",
      "R2 Square 0.4188722104933339\n"
     ]
    }
   ],
   "source": [
    "test_pred_both = lin_reg_both.predict(X_test_both)\n",
    "train_pred_both = lin_reg_both.predict(X_train_both)\n",
    "\n",
    "print('Test set evaluation:\\n_____________________________________')\n",
    "print_evaluate(y_test_both, test_pred_both)\n",
    "print('====================================')\n",
    "print('Train set evaluation:\\n_____________________________________')\n",
    "print_evaluate(y_train_both, train_pred_both)"
   ]
  },
  {
   "cell_type": "code",
   "execution_count": 1048,
   "metadata": {
    "scrolled": true
   },
   "outputs": [
    {
     "data": {
      "text/html": [
       "<div>\n",
       "<style scoped>\n",
       "    .dataframe tbody tr th:only-of-type {\n",
       "        vertical-align: middle;\n",
       "    }\n",
       "\n",
       "    .dataframe tbody tr th {\n",
       "        vertical-align: top;\n",
       "    }\n",
       "\n",
       "    .dataframe thead th {\n",
       "        text-align: right;\n",
       "    }\n",
       "</style>\n",
       "<table border=\"1\" class=\"dataframe\">\n",
       "  <thead>\n",
       "    <tr style=\"text-align: right;\">\n",
       "      <th></th>\n",
       "      <th>Model</th>\n",
       "      <th>MAE</th>\n",
       "      <th>MSE</th>\n",
       "      <th>RMSE</th>\n",
       "      <th>R2 Square</th>\n",
       "      <th>Cross Validation</th>\n",
       "    </tr>\n",
       "  </thead>\n",
       "  <tbody>\n",
       "    <tr>\n",
       "      <th>0</th>\n",
       "      <td>Linear Regression</td>\n",
       "      <td>865.546689</td>\n",
       "      <td>1.065087e+06</td>\n",
       "      <td>1032.030638</td>\n",
       "      <td>-0.551717</td>\n",
       "      <td>-92.076299</td>\n",
       "    </tr>\n",
       "    <tr>\n",
       "      <th>1</th>\n",
       "      <td>Linear Regression w/ norm</td>\n",
       "      <td>865.546689</td>\n",
       "      <td>1.065087e+06</td>\n",
       "      <td>1032.030638</td>\n",
       "      <td>-0.551717</td>\n",
       "      <td>-92.076299</td>\n",
       "    </tr>\n",
       "    <tr>\n",
       "      <th>2</th>\n",
       "      <td>Linear Regression w/ stand</td>\n",
       "      <td>865.546689</td>\n",
       "      <td>1.065087e+06</td>\n",
       "      <td>1032.030638</td>\n",
       "      <td>-0.551717</td>\n",
       "      <td>-92.076299</td>\n",
       "    </tr>\n",
       "    <tr>\n",
       "      <th>3</th>\n",
       "      <td>Linear Regression w/ both</td>\n",
       "      <td>865.546689</td>\n",
       "      <td>1.065087e+06</td>\n",
       "      <td>1032.030638</td>\n",
       "      <td>-0.551717</td>\n",
       "      <td>-92.076299</td>\n",
       "    </tr>\n",
       "  </tbody>\n",
       "</table>\n",
       "</div>"
      ],
      "text/plain": [
       "                        Model         MAE           MSE         RMSE  \\\n",
       "0           Linear Regression  865.546689  1.065087e+06  1032.030638   \n",
       "1   Linear Regression w/ norm  865.546689  1.065087e+06  1032.030638   \n",
       "2  Linear Regression w/ stand  865.546689  1.065087e+06  1032.030638   \n",
       "3   Linear Regression w/ both  865.546689  1.065087e+06  1032.030638   \n",
       "\n",
       "   R2 Square  Cross Validation  \n",
       "0  -0.551717        -92.076299  \n",
       "1  -0.551717        -92.076299  \n",
       "2  -0.551717        -92.076299  \n",
       "3  -0.551717        -92.076299  "
      ]
     },
     "execution_count": 1048,
     "metadata": {},
     "output_type": "execute_result"
    }
   ],
   "source": [
    "results_df = pd.DataFrame(data=[[\"Linear Regression\", *evaluate(y_test, test_pred) , cross_val(LinearRegression())], [\"Linear Regression w/ norm\", *evaluate(y_test_norm, test_pred_norm) , cross_val(LinearRegression())], [\"Linear Regression w/ stand\", *evaluate(y_test_stand, test_pred_stand) , cross_val(LinearRegression())],[\"Linear Regression w/ both\", *evaluate(y_test_both, test_pred_both) , cross_val(LinearRegression())]], \n",
    "                          columns=['Model', 'MAE', 'MSE', 'RMSE', 'R2 Square', \"Cross Validation\"])\n",
    "results_df"
   ]
  },
  {
   "cell_type": "markdown",
   "metadata": {},
   "source": [
    "# Part B: count depending on Gender"
   ]
  },
  {
   "cell_type": "code",
   "execution_count": 1049,
   "metadata": {
    "scrolled": true
   },
   "outputs": [
    {
     "name": "stdout",
     "output_type": "stream",
     "text": [
      "60\n"
     ]
    },
    {
     "data": {
      "text/html": [
       "<div>\n",
       "<style scoped>\n",
       "    .dataframe tbody tr th:only-of-type {\n",
       "        vertical-align: middle;\n",
       "    }\n",
       "\n",
       "    .dataframe tbody tr th {\n",
       "        vertical-align: top;\n",
       "    }\n",
       "\n",
       "    .dataframe thead th {\n",
       "        text-align: right;\n",
       "    }\n",
       "</style>\n",
       "<table border=\"1\" class=\"dataframe\">\n",
       "  <thead>\n",
       "    <tr style=\"text-align: right;\">\n",
       "      <th></th>\n",
       "      <th>Trap Date</th>\n",
       "      <th>Gender</th>\n",
       "      <th>Count</th>\n",
       "      <th>Genus</th>\n",
       "    </tr>\n",
       "  </thead>\n",
       "  <tbody>\n",
       "    <tr>\n",
       "      <th>0</th>\n",
       "      <td>2017-06-13</td>\n",
       "      <td>Female</td>\n",
       "      <td>1261</td>\n",
       "      <td>Ochlerotatus</td>\n",
       "    </tr>\n",
       "    <tr>\n",
       "      <th>1</th>\n",
       "      <td>2017-06-13</td>\n",
       "      <td>Male</td>\n",
       "      <td>1708</td>\n",
       "      <td>Male</td>\n",
       "    </tr>\n",
       "    <tr>\n",
       "      <th>2</th>\n",
       "      <td>2017-06-20</td>\n",
       "      <td>Female</td>\n",
       "      <td>895</td>\n",
       "      <td>Ochlerotatus</td>\n",
       "    </tr>\n",
       "    <tr>\n",
       "      <th>3</th>\n",
       "      <td>2017-06-20</td>\n",
       "      <td>Male</td>\n",
       "      <td>977</td>\n",
       "      <td>Male</td>\n",
       "    </tr>\n",
       "    <tr>\n",
       "      <th>4</th>\n",
       "      <td>2017-06-27</td>\n",
       "      <td>Female</td>\n",
       "      <td>332</td>\n",
       "      <td>Ochlerotatus</td>\n",
       "    </tr>\n",
       "  </tbody>\n",
       "</table>\n",
       "</div>"
      ],
      "text/plain": [
       "   Trap Date  Gender  Count         Genus\n",
       "0 2017-06-13  Female   1261  Ochlerotatus\n",
       "1 2017-06-13    Male   1708          Male\n",
       "2 2017-06-20  Female    895  Ochlerotatus\n",
       "3 2017-06-20    Male    977          Male\n",
       "4 2017-06-27  Female    332  Ochlerotatus"
      ]
     },
     "execution_count": 1049,
     "metadata": {},
     "output_type": "execute_result"
    }
   ],
   "source": [
    "mos_data_grouped_B = mos_data.groupby(['Trap Date', 'Gender'], as_index=False).agg({\n",
    "    'Count' : 'sum',\n",
    "    'Genus': lambda x: x.value_counts().index[0],\n",
    "})\n",
    "\n",
    "print(len(mos_data_grouped_B.index))\n",
    "\n",
    "mos_data_grouped_B.head()"
   ]
  },
  {
   "cell_type": "code",
   "execution_count": 1052,
   "metadata": {},
   "outputs": [],
   "source": [
    "mos_data_grouped_B_females = mos_data_grouped_B[mos_data_grouped_B[\"Gender\"] == \"Female\"]\n",
    "mos_data_grouped_B_males = mos_data_grouped_B[mos_data_grouped_B[\"Gender\"] == \"Male\"]"
   ]
  },
  {
   "cell_type": "code",
   "execution_count": 1053,
   "metadata": {
    "scrolled": true
   },
   "outputs": [
    {
     "name": "stdout",
     "output_type": "stream",
     "text": [
      "30 30\n"
     ]
    }
   ],
   "source": [
    "print(len(mos_data_grouped_B_females.index), len(mos_data_grouped_B_males.index))"
   ]
  },
  {
   "cell_type": "markdown",
   "metadata": {},
   "source": [
    "## Linear Regression"
   ]
  },
  {
   "cell_type": "markdown",
   "metadata": {},
   "source": [
    "### Females"
   ]
  },
  {
   "cell_type": "code",
   "execution_count": 1058,
   "metadata": {},
   "outputs": [
    {
     "name": "stdout",
     "output_type": "stream",
     "text": [
      "30\n"
     ]
    },
    {
     "data": {
      "text/html": [
       "<div>\n",
       "<style scoped>\n",
       "    .dataframe tbody tr th:only-of-type {\n",
       "        vertical-align: middle;\n",
       "    }\n",
       "\n",
       "    .dataframe tbody tr th {\n",
       "        vertical-align: top;\n",
       "    }\n",
       "\n",
       "    .dataframe thead th {\n",
       "        text-align: right;\n",
       "    }\n",
       "</style>\n",
       "<table border=\"1\" class=\"dataframe\">\n",
       "  <thead>\n",
       "    <tr style=\"text-align: right;\">\n",
       "      <th></th>\n",
       "      <th>Trap Date</th>\n",
       "      <th>Gender</th>\n",
       "      <th>Count</th>\n",
       "      <th>Genus</th>\n",
       "      <th>pressure_station</th>\n",
       "      <th>pressure_sea</th>\n",
       "      <th>wind_dir_10s</th>\n",
       "      <th>wind_speed</th>\n",
       "      <th>dew_point</th>\n",
       "      <th>temperature</th>\n",
       "      <th>health_index</th>\n",
       "    </tr>\n",
       "  </thead>\n",
       "  <tbody>\n",
       "    <tr>\n",
       "      <th>0</th>\n",
       "      <td>2017-06-13</td>\n",
       "      <td>Female</td>\n",
       "      <td>1261</td>\n",
       "      <td>Ochlerotatus</td>\n",
       "      <td>93.08</td>\n",
       "      <td>100.90</td>\n",
       "      <td>34.0</td>\n",
       "      <td>11.0</td>\n",
       "      <td>10.2</td>\n",
       "      <td>15.1</td>\n",
       "      <td>2.6</td>\n",
       "    </tr>\n",
       "    <tr>\n",
       "      <th>1</th>\n",
       "      <td>2017-06-20</td>\n",
       "      <td>Female</td>\n",
       "      <td>895</td>\n",
       "      <td>Ochlerotatus</td>\n",
       "      <td>93.12</td>\n",
       "      <td>100.90</td>\n",
       "      <td>16.0</td>\n",
       "      <td>17.0</td>\n",
       "      <td>10.0</td>\n",
       "      <td>11.0</td>\n",
       "      <td>2.4</td>\n",
       "    </tr>\n",
       "    <tr>\n",
       "      <th>2</th>\n",
       "      <td>2017-06-27</td>\n",
       "      <td>Female</td>\n",
       "      <td>332</td>\n",
       "      <td>Ochlerotatus</td>\n",
       "      <td>92.78</td>\n",
       "      <td>100.55</td>\n",
       "      <td>31.0</td>\n",
       "      <td>17.0</td>\n",
       "      <td>7.0</td>\n",
       "      <td>13.7</td>\n",
       "      <td>2.4</td>\n",
       "    </tr>\n",
       "    <tr>\n",
       "      <th>3</th>\n",
       "      <td>2017-07-04</td>\n",
       "      <td>Female</td>\n",
       "      <td>1074</td>\n",
       "      <td>Ochlerotatus</td>\n",
       "      <td>93.84</td>\n",
       "      <td>101.50</td>\n",
       "      <td>20.0</td>\n",
       "      <td>7.0</td>\n",
       "      <td>6.6</td>\n",
       "      <td>22.7</td>\n",
       "      <td>2.4</td>\n",
       "    </tr>\n",
       "    <tr>\n",
       "      <th>4</th>\n",
       "      <td>2017-07-11</td>\n",
       "      <td>Female</td>\n",
       "      <td>1833</td>\n",
       "      <td>Ochlerotatus</td>\n",
       "      <td>93.92</td>\n",
       "      <td>101.60</td>\n",
       "      <td>3.0</td>\n",
       "      <td>10.0</td>\n",
       "      <td>13.0</td>\n",
       "      <td>15.1</td>\n",
       "      <td>2.5</td>\n",
       "    </tr>\n",
       "  </tbody>\n",
       "</table>\n",
       "</div>"
      ],
      "text/plain": [
       "   Trap Date  Gender  Count         Genus  pressure_station  pressure_sea  \\\n",
       "0 2017-06-13  Female   1261  Ochlerotatus             93.08        100.90   \n",
       "1 2017-06-20  Female    895  Ochlerotatus             93.12        100.90   \n",
       "2 2017-06-27  Female    332  Ochlerotatus             92.78        100.55   \n",
       "3 2017-07-04  Female   1074  Ochlerotatus             93.84        101.50   \n",
       "4 2017-07-11  Female   1833  Ochlerotatus             93.92        101.60   \n",
       "\n",
       "   wind_dir_10s  wind_speed  dew_point  temperature  health_index  \n",
       "0          34.0        11.0       10.2         15.1           2.6  \n",
       "1          16.0        17.0       10.0         11.0           2.4  \n",
       "2          31.0        17.0        7.0         13.7           2.4  \n",
       "3          20.0         7.0        6.6         22.7           2.4  \n",
       "4           3.0        10.0       13.0         15.1           2.5  "
      ]
     },
     "execution_count": 1058,
     "metadata": {},
     "output_type": "execute_result"
    }
   ],
   "source": [
    "merged_data_females = pd.merge(left=mos_data_grouped_B_females, right=weather_data_grouped, left_on='Trap Date', right_on='date_time_local')\n",
    "\n",
    "print(len(merged_data_females.index))\n",
    "\n",
    "merged_data_females.drop(columns=['date_time_local'], inplace=True) #redundent\n",
    "\n",
    "merged_data_females.head()"
   ]
  },
  {
   "cell_type": "code",
   "execution_count": 1059,
   "metadata": {
    "scrolled": true
   },
   "outputs": [
    {
     "data": {
      "text/plain": [
       "<matplotlib.axes._subplots.AxesSubplot at 0x7f6e7f148518>"
      ]
     },
     "execution_count": 1059,
     "metadata": {},
     "output_type": "execute_result"
    },
    {
     "data": {
      "image/png": "[encoded data removed]",
      "text/plain": [
       "<Figure size 432x288 with 1 Axes>"
      ]
     },
     "metadata": {},
     "output_type": "display_data"
    }
   ],
   "source": [
    "sns.distplot(merged_data_females['Count'])"
   ]
  },
  {
   "cell_type": "code",
   "execution_count": 1061,
   "metadata": {},
   "outputs": [],
   "source": [
    "merged_data_females['isWarm'] = np.where(merged_data_females['temperature'] >= 20, 1, 0)"
   ]
  },
  {
   "cell_type": "code",
   "execution_count": 1062,
   "metadata": {},
   "outputs": [],
   "source": [
    "merged_data_females['Genus'] = merged_data_females['Genus'].astype('category')\n",
    "merged_data_females['genusCat'] = merged_data_females['Genus'].cat.codes"
   ]
  },
  {
   "cell_type": "code",
   "execution_count": 1063,
   "metadata": {},
   "outputs": [],
   "source": [
    "merged_data_females[\"delta_pressure\"] = merged_data_females.apply(lambda x: x['pressure_station'] - x['pressure_sea'], axis=1)"
   ]
  },
  {
   "cell_type": "code",
   "execution_count": 1064,
   "metadata": {
    "scrolled": false
   },
   "outputs": [
    {
     "data": {
      "text/plain": [
       "<matplotlib.axes._subplots.AxesSubplot at 0x7f6e7ebf7208>"
      ]
     },
     "execution_count": 1064,
     "metadata": {},
     "output_type": "execute_result"
    },
    {
     "data": {
      "image/png": "[encoded data removed]",
      "text/plain": [
       "<Figure size 864x864 with 2 Axes>"
      ]
     },
     "metadata": {},
     "output_type": "display_data"
    }
   ],
   "source": [
    "fig, ax = plt.subplots(figsize=(12,12))\n",
    "sns.heatmap(merged_data_females.corr(), annot=True, ax=ax)"
   ]
  },
  {
   "cell_type": "code",
   "execution_count": 1065,
   "metadata": {},
   "outputs": [],
   "source": [
    "x_cols = ['pressure_station', 'wind_speed', 'dew_point', 'temperature', 'genusCat', 'delta_pressure']\n",
    "X = merged_data_females[x_cols]\n",
    "y = merged_data_females['Count']"
   ]
  },
  {
   "cell_type": "code",
   "execution_count": 1067,
   "metadata": {
    "scrolled": true
   },
   "outputs": [],
   "source": [
    "from sklearn.preprocessing import StandardScaler\n",
    "\n",
    "x_cols = ['pressure_station', 'wind_speed', 'dew_point', 'temperature', 'delta_pressure']\n",
    "\n",
    "\n",
    "X_stand = X.copy()\n",
    "X_norm = X.copy()\n",
    "X_both = X.copy()\n",
    "\n",
    "X_stand[x_cols] = StandardScaler().fit_transform(X[x_cols])\n",
    "X_norm[x_cols] = X[x_cols].apply(lambda x: (x - x.min()) / (x.max() - x.min()))\n",
    "X_both[x_cols] = StandardScaler().fit_transform(X[x_cols].apply(lambda x: (x - x.min()) / (x.max() - x.min()))[x_cols])"
   ]
  },
  {
   "cell_type": "code",
   "execution_count": 1068,
   "metadata": {},
   "outputs": [],
   "source": [
    "from sklearn.model_selection import train_test_split\n",
    "\n",
    "test_size = 0.1\n",
    "\n",
    "X_train, X_test, y_train, y_test = train_test_split(X, y, test_size=test_size, random_state=42)\n",
    "X_train_stand, X_test_stand, y_train_stand, y_test_stand = train_test_split(X_stand, y, test_size=test_size, random_state=42)\n",
    "X_train_norm, X_test_norm, y_train_norm, y_test_norm = train_test_split(X_norm, y, test_size=test_size, random_state=42)\n",
    "X_train_both, X_test_both, y_train_both, y_test_both = train_test_split(X_both, y, test_size=test_size, random_state=42)\n"
   ]
  },
  {
   "cell_type": "code",
   "execution_count": 1069,
   "metadata": {},
   "outputs": [],
   "source": [
    "from sklearn import metrics\n",
    "from sklearn.model_selection import cross_val_score\n",
    "\n",
    "def cross_val(model):\n",
    "    pred = cross_val_score(model, X, y, cv=10)\n",
    "    return pred.mean()\n",
    "\n",
    "def print_evaluate(true, predicted):  \n",
    "    mae = metrics.mean_absolute_error(true, predicted)\n",
    "    mse = metrics.mean_squared_error(true, predicted)\n",
    "    rmse = np.sqrt(metrics.mean_squared_error(true, predicted))\n",
    "    r2_square = metrics.r2_score(true, predicted)\n",
    "    print('MAE:', mae)\n",
    "    print('MSE:', mse)\n",
    "    print('RMSE:', rmse)\n",
    "    print('R2 Square', r2_square)\n",
    "    \n",
    "def evaluate(true, predicted):\n",
    "    mae = metrics.mean_absolute_error(true, predicted)\n",
    "    mse = metrics.mean_squared_error(true, predicted)\n",
    "    rmse = np.sqrt(metrics.mean_squared_error(true, predicted))\n",
    "    r2_square = metrics.r2_score(true, predicted)\n",
    "    return mae, mse, rmse, r2_square"
   ]
  },
  {
   "cell_type": "code",
   "execution_count": 1070,
   "metadata": {},
   "outputs": [
    {
     "data": {
      "text/plain": [
       "LinearRegression(copy_X=True, fit_intercept=True, n_jobs=None,\n",
       "         normalize=False)"
      ]
     },
     "execution_count": 1070,
     "metadata": {},
     "output_type": "execute_result"
    }
   ],
   "source": [
    "from sklearn.linear_model import LinearRegression\n",
    "\n",
    "lin_reg = LinearRegression()\n",
    "lin_reg.fit(X_train,y_train)\n",
    "\n",
    "lin_reg_norm = LinearRegression()\n",
    "lin_reg_norm.fit(X_train_norm,y_train_norm)\n",
    "\n",
    "lin_reg_stand = LinearRegression()\n",
    "lin_reg_stand.fit(X_train_stand,y_train_stand)\n",
    "\n",
    "lin_reg_both = LinearRegression()\n",
    "lin_reg_both.fit(X_train_both,y_train_both)"
   ]
  },
  {
   "cell_type": "code",
   "execution_count": 1071,
   "metadata": {},
   "outputs": [
    {
     "name": "stdout",
     "output_type": "stream",
     "text": [
      "-18450.00444937196\n"
     ]
    },
    {
     "data": {
      "text/html": [
       "<div>\n",
       "<style scoped>\n",
       "    .dataframe tbody tr th:only-of-type {\n",
       "        vertical-align: middle;\n",
       "    }\n",
       "\n",
       "    .dataframe tbody tr th {\n",
       "        vertical-align: top;\n",
       "    }\n",
       "\n",
       "    .dataframe thead th {\n",
       "        text-align: right;\n",
       "    }\n",
       "</style>\n",
       "<table border=\"1\" class=\"dataframe\">\n",
       "  <thead>\n",
       "    <tr style=\"text-align: right;\">\n",
       "      <th></th>\n",
       "      <th>Coefficient</th>\n",
       "    </tr>\n",
       "  </thead>\n",
       "  <tbody>\n",
       "    <tr>\n",
       "      <th>pressure_station</th>\n",
       "      <td>247.787415</td>\n",
       "    </tr>\n",
       "    <tr>\n",
       "      <th>wind_speed</th>\n",
       "      <td>66.080962</td>\n",
       "    </tr>\n",
       "    <tr>\n",
       "      <th>dew_point</th>\n",
       "      <td>44.189574</td>\n",
       "    </tr>\n",
       "    <tr>\n",
       "      <th>temperature</th>\n",
       "      <td>35.229177</td>\n",
       "    </tr>\n",
       "    <tr>\n",
       "      <th>genusCat</th>\n",
       "      <td>365.845861</td>\n",
       "    </tr>\n",
       "    <tr>\n",
       "      <th>delta_pressure</th>\n",
       "      <td>738.127921</td>\n",
       "    </tr>\n",
       "  </tbody>\n",
       "</table>\n",
       "</div>"
      ],
      "text/plain": [
       "                  Coefficient\n",
       "pressure_station   247.787415\n",
       "wind_speed          66.080962\n",
       "dew_point           44.189574\n",
       "temperature         35.229177\n",
       "genusCat           365.845861\n",
       "delta_pressure     738.127921"
      ]
     },
     "execution_count": 1071,
     "metadata": {},
     "output_type": "execute_result"
    }
   ],
   "source": [
    "print(lin_reg.intercept_)\n",
    "coeff_df = pd.DataFrame(lin_reg.coef_, X.columns, columns=['Coefficient'])\n",
    "coeff_df"
   ]
  },
  {
   "cell_type": "code",
   "execution_count": 1074,
   "metadata": {},
   "outputs": [
    {
     "name": "stdout",
     "output_type": "stream",
     "text": [
      "-1544.9735191021682\n"
     ]
    },
    {
     "data": {
      "text/html": [
       "<div>\n",
       "<style scoped>\n",
       "    .dataframe tbody tr th:only-of-type {\n",
       "        vertical-align: middle;\n",
       "    }\n",
       "\n",
       "    .dataframe tbody tr th {\n",
       "        vertical-align: top;\n",
       "    }\n",
       "\n",
       "    .dataframe thead th {\n",
       "        text-align: right;\n",
       "    }\n",
       "</style>\n",
       "<table border=\"1\" class=\"dataframe\">\n",
       "  <thead>\n",
       "    <tr style=\"text-align: right;\">\n",
       "      <th></th>\n",
       "      <th>Coefficient</th>\n",
       "    </tr>\n",
       "  </thead>\n",
       "  <tbody>\n",
       "    <tr>\n",
       "      <th>pressure_station</th>\n",
       "      <td>716.105628</td>\n",
       "    </tr>\n",
       "    <tr>\n",
       "      <th>wind_speed</th>\n",
       "      <td>2114.590781</td>\n",
       "    </tr>\n",
       "    <tr>\n",
       "      <th>dew_point</th>\n",
       "      <td>782.155457</td>\n",
       "    </tr>\n",
       "    <tr>\n",
       "      <th>temperature</th>\n",
       "      <td>944.141937</td>\n",
       "    </tr>\n",
       "    <tr>\n",
       "      <th>genusCat</th>\n",
       "      <td>365.845861</td>\n",
       "    </tr>\n",
       "    <tr>\n",
       "      <th>delta_pressure</th>\n",
       "      <td>524.070824</td>\n",
       "    </tr>\n",
       "  </tbody>\n",
       "</table>\n",
       "</div>"
      ],
      "text/plain": [
       "                  Coefficient\n",
       "pressure_station   716.105628\n",
       "wind_speed        2114.590781\n",
       "dew_point          782.155457\n",
       "temperature        944.141937\n",
       "genusCat           365.845861\n",
       "delta_pressure     524.070824"
      ]
     },
     "execution_count": 1074,
     "metadata": {},
     "output_type": "execute_result"
    }
   ],
   "source": [
    "print(lin_reg_norm.intercept_)\n",
    "coeff_df = pd.DataFrame(lin_reg_norm.coef_, X.columns, columns=['Coefficient'])\n",
    "coeff_df"
   ]
  },
  {
   "cell_type": "code",
   "execution_count": 1075,
   "metadata": {},
   "outputs": [
    {
     "name": "stdout",
     "output_type": "stream",
     "text": [
      "676.029765811634\n"
     ]
    },
    {
     "data": {
      "text/html": [
       "<div>\n",
       "<style scoped>\n",
       "    .dataframe tbody tr th:only-of-type {\n",
       "        vertical-align: middle;\n",
       "    }\n",
       "\n",
       "    .dataframe tbody tr th {\n",
       "        vertical-align: top;\n",
       "    }\n",
       "\n",
       "    .dataframe thead th {\n",
       "        text-align: right;\n",
       "    }\n",
       "</style>\n",
       "<table border=\"1\" class=\"dataframe\">\n",
       "  <thead>\n",
       "    <tr style=\"text-align: right;\">\n",
       "      <th></th>\n",
       "      <th>Coefficient</th>\n",
       "    </tr>\n",
       "  </thead>\n",
       "  <tbody>\n",
       "    <tr>\n",
       "      <th>pressure_station</th>\n",
       "      <td>152.131428</td>\n",
       "    </tr>\n",
       "    <tr>\n",
       "      <th>wind_speed</th>\n",
       "      <td>436.312308</td>\n",
       "    </tr>\n",
       "    <tr>\n",
       "      <th>dew_point</th>\n",
       "      <td>184.888118</td>\n",
       "    </tr>\n",
       "    <tr>\n",
       "      <th>temperature</th>\n",
       "      <td>213.230799</td>\n",
       "    </tr>\n",
       "    <tr>\n",
       "      <th>genusCat</th>\n",
       "      <td>365.845861</td>\n",
       "    </tr>\n",
       "    <tr>\n",
       "      <th>delta_pressure</th>\n",
       "      <td>109.660241</td>\n",
       "    </tr>\n",
       "  </tbody>\n",
       "</table>\n",
       "</div>"
      ],
      "text/plain": [
       "                  Coefficient\n",
       "pressure_station   152.131428\n",
       "wind_speed         436.312308\n",
       "dew_point          184.888118\n",
       "temperature        213.230799\n",
       "genusCat           365.845861\n",
       "delta_pressure     109.660241"
      ]
     },
     "execution_count": 1075,
     "metadata": {},
     "output_type": "execute_result"
    }
   ],
   "source": [
    "print(lin_reg_stand.intercept_)\n",
    "coeff_df = pd.DataFrame(lin_reg_stand.coef_, X.columns, columns=['Coefficient'])\n",
    "coeff_df"
   ]
  },
  {
   "cell_type": "code",
   "execution_count": 1076,
   "metadata": {
    "scrolled": true
   },
   "outputs": [
    {
     "name": "stdout",
     "output_type": "stream",
     "text": [
      "676.0297658116281\n"
     ]
    },
    {
     "data": {
      "text/html": [
       "<div>\n",
       "<style scoped>\n",
       "    .dataframe tbody tr th:only-of-type {\n",
       "        vertical-align: middle;\n",
       "    }\n",
       "\n",
       "    .dataframe tbody tr th {\n",
       "        vertical-align: top;\n",
       "    }\n",
       "\n",
       "    .dataframe thead th {\n",
       "        text-align: right;\n",
       "    }\n",
       "</style>\n",
       "<table border=\"1\" class=\"dataframe\">\n",
       "  <thead>\n",
       "    <tr style=\"text-align: right;\">\n",
       "      <th></th>\n",
       "      <th>Coefficient</th>\n",
       "    </tr>\n",
       "  </thead>\n",
       "  <tbody>\n",
       "    <tr>\n",
       "      <th>pressure_station</th>\n",
       "      <td>152.131428</td>\n",
       "    </tr>\n",
       "    <tr>\n",
       "      <th>wind_speed</th>\n",
       "      <td>436.312308</td>\n",
       "    </tr>\n",
       "    <tr>\n",
       "      <th>dew_point</th>\n",
       "      <td>184.888118</td>\n",
       "    </tr>\n",
       "    <tr>\n",
       "      <th>temperature</th>\n",
       "      <td>213.230799</td>\n",
       "    </tr>\n",
       "    <tr>\n",
       "      <th>genusCat</th>\n",
       "      <td>365.845861</td>\n",
       "    </tr>\n",
       "    <tr>\n",
       "      <th>delta_pressure</th>\n",
       "      <td>109.660241</td>\n",
       "    </tr>\n",
       "  </tbody>\n",
       "</table>\n",
       "</div>"
      ],
      "text/plain": [
       "                  Coefficient\n",
       "pressure_station   152.131428\n",
       "wind_speed         436.312308\n",
       "dew_point          184.888118\n",
       "temperature        213.230799\n",
       "genusCat           365.845861\n",
       "delta_pressure     109.660241"
      ]
     },
     "execution_count": 1076,
     "metadata": {},
     "output_type": "execute_result"
    }
   ],
   "source": [
    "print(lin_reg_both.intercept_)\n",
    "coeff_df = pd.DataFrame(lin_reg_both.coef_, X.columns, columns=['Coefficient'])\n",
    "coeff_df"
   ]
  },
  {
   "cell_type": "code",
   "execution_count": 1077,
   "metadata": {
    "scrolled": true
   },
   "outputs": [
    {
     "data": {
      "image/png": "[encoded data removed]",
      "text/plain": [
       "<Figure size 1080x576 with 1 Axes>"
      ]
     },
     "metadata": {},
     "output_type": "display_data"
    }
   ],
   "source": [
    "pred = lin_reg.predict(X_test)\n",
    "pred_norm = lin_reg_norm.predict(X_test_norm)\n",
    "pred_stand = lin_reg_stand.predict(X_test_stand)\n",
    "pred_both = lin_reg_both.predict(X_test_both)\n",
    "\n",
    "\n",
    "plt.figure(figsize=(15, 8))\n",
    "ax = plt.gca()\n",
    "\n",
    "ax.scatter(y_test, pred, c='#2ca02c', marker='x', label='Original data')\n",
    "ax.scatter(y_test_norm, pred, c='r', marker='o', label='Normalized data')\n",
    "ax.scatter(y_test_stand, pred, c='b', marker='+', label='Standardized data')\n",
    "ax.scatter(y_test_both, pred, c='y', marker='s', label='Both data')\n",
    "\n",
    "plt.legend(loc='best');\n",
    "\n",
    "plt.show()"
   ]
  },
  {
   "cell_type": "code",
   "execution_count": 1078,
   "metadata": {
    "scrolled": true
   },
   "outputs": [
    {
     "data": {
      "image/png": "[encoded data removed]",
      "text/plain": [
       "<Figure size 432x288 with 1 Axes>"
      ]
     },
     "metadata": {},
     "output_type": "display_data"
    }
   ],
   "source": [
    "sns.distplot((y_test - pred), bins=50);"
   ]
  },
  {
   "cell_type": "code",
   "execution_count": 1079,
   "metadata": {},
   "outputs": [
    {
     "name": "stdout",
     "output_type": "stream",
     "text": [
      "Test set evaluation:\n",
      "_____________________________________\n",
      "MAE: 593.728680951271\n",
      "MSE: 419739.69882783707\n",
      "RMSE: 647.873212000494\n",
      "R2 Square -0.9046160068056788\n",
      "====================================\n",
      "Train set evaluation:\n",
      "_____________________________________\n",
      "MAE: 538.348992818666\n",
      "MSE: 625099.920147874\n",
      "RMSE: 790.6326075667978\n",
      "R2 Square 0.3075543257463921\n"
     ]
    }
   ],
   "source": [
    "test_pred = lin_reg.predict(X_test)\n",
    "train_pred = lin_reg.predict(X_train)\n",
    "\n",
    "print('Test set evaluation:\\n_____________________________________')\n",
    "print_evaluate(y_test, test_pred)\n",
    "print('====================================')\n",
    "print('Train set evaluation:\\n_____________________________________')\n",
    "print_evaluate(y_train, train_pred)"
   ]
  },
  {
   "cell_type": "code",
   "execution_count": 1080,
   "metadata": {},
   "outputs": [
    {
     "name": "stdout",
     "output_type": "stream",
     "text": [
      "Test set evaluation:\n",
      "_____________________________________\n",
      "MAE: 593.7286809512716\n",
      "MSE: 419739.6988278362\n",
      "RMSE: 647.8732120004934\n",
      "R2 Square -0.904616006805675\n",
      "====================================\n",
      "Train set evaluation:\n",
      "_____________________________________\n",
      "MAE: 538.3489928186658\n",
      "MSE: 625099.9201478737\n",
      "RMSE: 790.6326075667976\n",
      "R2 Square 0.3075543257463924\n"
     ]
    }
   ],
   "source": [
    "test_pred_norm = lin_reg_norm.predict(X_test_norm)\n",
    "train_pred_norm = lin_reg_norm.predict(X_train_norm)\n",
    "\n",
    "print('Test set evaluation:\\n_____________________________________')\n",
    "print_evaluate(y_test_norm, test_pred_norm)\n",
    "print('====================================')\n",
    "print('Train set evaluation:\\n_____________________________________')\n",
    "print_evaluate(y_train_norm, train_pred_norm)"
   ]
  },
  {
   "cell_type": "code",
   "execution_count": 1081,
   "metadata": {},
   "outputs": [
    {
     "name": "stdout",
     "output_type": "stream",
     "text": [
      "Test set evaluation:\n",
      "_____________________________________\n",
      "MAE: 593.7286809512723\n",
      "MSE: 419739.69882783695\n",
      "RMSE: 647.8732120004939\n",
      "R2 Square -0.9046160068056783\n",
      "====================================\n",
      "Train set evaluation:\n",
      "_____________________________________\n",
      "MAE: 538.3489928186658\n",
      "MSE: 625099.9201478737\n",
      "RMSE: 790.6326075667976\n",
      "R2 Square 0.3075543257463924\n"
     ]
    }
   ],
   "source": [
    "test_pred_stand = lin_reg_stand.predict(X_test_stand)\n",
    "train_pred_stand = lin_reg_stand.predict(X_train_stand)\n",
    "\n",
    "print('Test set evaluation:\\n_____________________________________')\n",
    "print_evaluate(y_test_stand, test_pred_stand)\n",
    "print('====================================')\n",
    "print('Train set evaluation:\\n_____________________________________')\n",
    "print_evaluate(y_train_stand, train_pred_stand)"
   ]
  },
  {
   "cell_type": "code",
   "execution_count": 1082,
   "metadata": {
    "scrolled": true
   },
   "outputs": [
    {
     "name": "stdout",
     "output_type": "stream",
     "text": [
      "Test set evaluation:\n",
      "_____________________________________\n",
      "MAE: 593.7286809512719\n",
      "MSE: 419739.69882783643\n",
      "RMSE: 647.8732120004935\n",
      "R2 Square -0.9046160068056759\n",
      "====================================\n",
      "Train set evaluation:\n",
      "_____________________________________\n",
      "MAE: 538.3489928186659\n",
      "MSE: 625099.9201478736\n",
      "RMSE: 790.6326075667974\n",
      "R2 Square 0.3075543257463925\n"
     ]
    }
   ],
   "source": [
    "test_pred_both = lin_reg_both.predict(X_test_both)\n",
    "train_pred_both = lin_reg_both.predict(X_train_both)\n",
    "\n",
    "print('Test set evaluation:\\n_____________________________________')\n",
    "print_evaluate(y_test_both, test_pred_both)\n",
    "print('====================================')\n",
    "print('Train set evaluation:\\n_____________________________________')\n",
    "print_evaluate(y_train_both, train_pred_both)"
   ]
  },
  {
   "cell_type": "code",
   "execution_count": 1083,
   "metadata": {},
   "outputs": [
    {
     "data": {
      "text/html": [
       "<div>\n",
       "<style scoped>\n",
       "    .dataframe tbody tr th:only-of-type {\n",
       "        vertical-align: middle;\n",
       "    }\n",
       "\n",
       "    .dataframe tbody tr th {\n",
       "        vertical-align: top;\n",
       "    }\n",
       "\n",
       "    .dataframe thead th {\n",
       "        text-align: right;\n",
       "    }\n",
       "</style>\n",
       "<table border=\"1\" class=\"dataframe\">\n",
       "  <thead>\n",
       "    <tr style=\"text-align: right;\">\n",
       "      <th></th>\n",
       "      <th>Model</th>\n",
       "      <th>MAE</th>\n",
       "      <th>MSE</th>\n",
       "      <th>RMSE</th>\n",
       "      <th>R2 Square</th>\n",
       "      <th>Cross Validation</th>\n",
       "    </tr>\n",
       "  </thead>\n",
       "  <tbody>\n",
       "    <tr>\n",
       "      <th>0</th>\n",
       "      <td>Linear Regression</td>\n",
       "      <td>593.728681</td>\n",
       "      <td>419739.698828</td>\n",
       "      <td>647.873212</td>\n",
       "      <td>-0.904616</td>\n",
       "      <td>-22.057037</td>\n",
       "    </tr>\n",
       "    <tr>\n",
       "      <th>1</th>\n",
       "      <td>Linear Regression w/ norm</td>\n",
       "      <td>593.728681</td>\n",
       "      <td>419739.698828</td>\n",
       "      <td>647.873212</td>\n",
       "      <td>-0.904616</td>\n",
       "      <td>-22.057037</td>\n",
       "    </tr>\n",
       "    <tr>\n",
       "      <th>2</th>\n",
       "      <td>Linear Regression w/ stand</td>\n",
       "      <td>593.728681</td>\n",
       "      <td>419739.698828</td>\n",
       "      <td>647.873212</td>\n",
       "      <td>-0.904616</td>\n",
       "      <td>-22.057037</td>\n",
       "    </tr>\n",
       "    <tr>\n",
       "      <th>3</th>\n",
       "      <td>Linear Regression w/ both</td>\n",
       "      <td>593.728681</td>\n",
       "      <td>419739.698828</td>\n",
       "      <td>647.873212</td>\n",
       "      <td>-0.904616</td>\n",
       "      <td>-22.057037</td>\n",
       "    </tr>\n",
       "  </tbody>\n",
       "</table>\n",
       "</div>"
      ],
      "text/plain": [
       "                        Model         MAE            MSE        RMSE  \\\n",
       "0           Linear Regression  593.728681  419739.698828  647.873212   \n",
       "1   Linear Regression w/ norm  593.728681  419739.698828  647.873212   \n",
       "2  Linear Regression w/ stand  593.728681  419739.698828  647.873212   \n",
       "3   Linear Regression w/ both  593.728681  419739.698828  647.873212   \n",
       "\n",
       "   R2 Square  Cross Validation  \n",
       "0  -0.904616        -22.057037  \n",
       "1  -0.904616        -22.057037  \n",
       "2  -0.904616        -22.057037  \n",
       "3  -0.904616        -22.057037  "
      ]
     },
     "execution_count": 1083,
     "metadata": {},
     "output_type": "execute_result"
    }
   ],
   "source": [
    "results_df = pd.DataFrame(data=[[\"Linear Regression\", *evaluate(y_test, test_pred) , cross_val(LinearRegression())], [\"Linear Regression w/ norm\", *evaluate(y_test_norm, test_pred_norm) , cross_val(LinearRegression())], [\"Linear Regression w/ stand\", *evaluate(y_test_stand, test_pred_stand) , cross_val(LinearRegression())],[\"Linear Regression w/ both\", *evaluate(y_test_both, test_pred_both) , cross_val(LinearRegression())]], \n",
    "                          columns=['Model', 'MAE', 'MSE', 'RMSE', 'R2 Square', \"Cross Validation\"])\n",
    "results_df"
   ]
  }
 ],
 "metadata": {
  "kernelspec": {
   "display_name": "Python 3",
   "language": "python",
   "name": "python3"
  },
  "language_info": {
   "codemirror_mode": {
    "name": "ipython",
    "version": 3
   },
   "file_extension": ".py",
   "mimetype": "text/x-python",
   "name": "python",
   "nbconvert_exporter": "python",
   "pygments_lexer": "ipython3",
   "version": "3.7.3"
  }
 },
 "nbformat": 4,
 "nbformat_minor": 2
}
