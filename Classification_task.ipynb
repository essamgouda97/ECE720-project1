{
 "cells": [
  {
   "cell_type": "markdown",
   "metadata": {},
   "source": [
    "# Classification\n",
    "- Logistic Regression model for female OR male mosquito = function(weather_features)\n",
    "- Support Vector Machine model for female OR male mosquito = function(weather_features)\n",
    "- Random Forest model for female OR male mosquito = function(weather_features)\n",
    "\n",
    "#### Variations for each model:\n",
    "- 10-fold cross validation for each model was performed\n",
    "- ROC curve for each model was plotted"
   ]
  },
  {
   "cell_type": "markdown",
   "metadata": {},
   "source": [
    "# Imports"
   ]
  },
  {
   "cell_type": "code",
   "execution_count": 3,
   "metadata": {},
   "outputs": [],
   "source": [
    "import pandas as pd\n",
    "import numpy as np\n",
    "import time\n",
    "from sklearn import linear_model\n",
    "import matplotlib.pyplot as plt\n",
    "from sklearn.metrics import confusion_matrix\n",
    "from sklearn.pipeline import Pipeline\n",
    "from sklearn.model_selection import cross_val_score\n",
    "from sklearn.metrics import mean_squared_error\n",
    "from sklearn.preprocessing import PolynomialFeatures\n",
    "from sklearn.svm import SVC\n",
    "from sklearn.metrics import accuracy_score\n",
    "from sklearn.metrics import roc_curve, auc\n",
    "from _datetime import datetime\n",
    "\n",
    "import matplotlib.pyplot as plt\n",
    "plt.rc(\"font\", size=14)\n",
    "import seaborn as sns\n",
    "sns.set(style=\"white\") #white bg for sns plots\n",
    "sns.set(style=\"whitegrid\", color_codes=True)\n",
    "\n",
    "import warnings; warnings.simplefilter('ignore')"
   ]
  },
  {
   "cell_type": "markdown",
   "metadata": {},
   "source": [
    "# Read csv files (datasets)"
   ]
  },
  {
   "cell_type": "code",
   "execution_count": 4,
   "metadata": {},
   "outputs": [],
   "source": [
    "weather_data = pd.read_csv('./data/weather_data.csv')\n",
    "mos_data = pd.read_csv('./data/mosquito_data_new.csv')"
   ]
  },
  {
   "cell_type": "code",
   "execution_count": 5,
   "metadata": {},
   "outputs": [
    {
     "data": {
      "text/html": [
       "<div>\n",
       "<style scoped>\n",
       "    .dataframe tbody tr th:only-of-type {\n",
       "        vertical-align: middle;\n",
       "    }\n",
       "\n",
       "    .dataframe tbody tr th {\n",
       "        vertical-align: top;\n",
       "    }\n",
       "\n",
       "    .dataframe thead th {\n",
       "        text-align: right;\n",
       "    }\n",
       "</style>\n",
       "<table border=\"1\" class=\"dataframe\">\n",
       "  <thead>\n",
       "    <tr style=\"text-align: right;\">\n",
       "      <th></th>\n",
       "      <th>Trap Date</th>\n",
       "      <th>Genus</th>\n",
       "      <th>Specific Epithet</th>\n",
       "      <th>Gender</th>\n",
       "      <th>IDd</th>\n",
       "      <th>Count</th>\n",
       "      <th>Trap Region</th>\n",
       "      <th>Include</th>\n",
       "      <th>Comparison Group</th>\n",
       "      <th>Latitude</th>\n",
       "      <th>Longitude</th>\n",
       "      <th>Location</th>\n",
       "    </tr>\n",
       "  </thead>\n",
       "  <tbody>\n",
       "    <tr>\n",
       "      <th>0</th>\n",
       "      <td>09/15/2015 12:00:00 AM</td>\n",
       "      <td>Aedes</td>\n",
       "      <td>vexans</td>\n",
       "      <td>Female</td>\n",
       "      <td>NaN</td>\n",
       "      <td>3</td>\n",
       "      <td>Rural-West</td>\n",
       "      <td>NaN</td>\n",
       "      <td>Outer</td>\n",
       "      <td>53.562973</td>\n",
       "      <td>-113.787353</td>\n",
       "      <td>POINT (-113.787353 53.5629733)</td>\n",
       "    </tr>\n",
       "    <tr>\n",
       "      <th>1</th>\n",
       "      <td>05/12/1998 12:00:00 AM</td>\n",
       "      <td>Male</td>\n",
       "      <td>UnID</td>\n",
       "      <td>Male</td>\n",
       "      <td>UnID</td>\n",
       "      <td>1</td>\n",
       "      <td>Rural-North West</td>\n",
       "      <td>NaN</td>\n",
       "      <td>Peripheral</td>\n",
       "      <td>53.617221</td>\n",
       "      <td>-113.716182</td>\n",
       "      <td>POINT (-113.716182 53.617221)</td>\n",
       "    </tr>\n",
       "    <tr>\n",
       "      <th>2</th>\n",
       "      <td>08/28/2001 12:00:00 AM</td>\n",
       "      <td>Culex</td>\n",
       "      <td>tarsalis</td>\n",
       "      <td>Female</td>\n",
       "      <td>NaN</td>\n",
       "      <td>1</td>\n",
       "      <td>Rural-North West</td>\n",
       "      <td>NaN</td>\n",
       "      <td>Peripheral</td>\n",
       "      <td>53.617221</td>\n",
       "      <td>-113.716182</td>\n",
       "      <td>POINT (-113.716182 53.617221)</td>\n",
       "    </tr>\n",
       "    <tr>\n",
       "      <th>3</th>\n",
       "      <td>08/17/2004 12:00:00 AM</td>\n",
       "      <td>Culex</td>\n",
       "      <td>territans</td>\n",
       "      <td>Female</td>\n",
       "      <td>NaN</td>\n",
       "      <td>1</td>\n",
       "      <td>Rural-North West</td>\n",
       "      <td>NaN</td>\n",
       "      <td>Peripheral</td>\n",
       "      <td>53.617221</td>\n",
       "      <td>-113.716182</td>\n",
       "      <td>POINT (-113.716182 53.617221)</td>\n",
       "    </tr>\n",
       "    <tr>\n",
       "      <th>4</th>\n",
       "      <td>05/15/2018 12:00:00 AM</td>\n",
       "      <td>Culiseta</td>\n",
       "      <td>impatiens</td>\n",
       "      <td>Female</td>\n",
       "      <td>NaN</td>\n",
       "      <td>2</td>\n",
       "      <td>Rural-West</td>\n",
       "      <td>NaN</td>\n",
       "      <td>Outer</td>\n",
       "      <td>53.559020</td>\n",
       "      <td>-114.001190</td>\n",
       "      <td>POINT (-114.00119 53.559020000000004)</td>\n",
       "    </tr>\n",
       "  </tbody>\n",
       "</table>\n",
       "</div>"
      ],
      "text/plain": [
       "                Trap Date     Genus Specific Epithet  Gender   IDd  Count  \\\n",
       "0  09/15/2015 12:00:00 AM     Aedes           vexans  Female   NaN      3   \n",
       "1  05/12/1998 12:00:00 AM      Male             UnID    Male  UnID      1   \n",
       "2  08/28/2001 12:00:00 AM     Culex         tarsalis  Female   NaN      1   \n",
       "3  08/17/2004 12:00:00 AM     Culex        territans  Female   NaN      1   \n",
       "4  05/15/2018 12:00:00 AM  Culiseta        impatiens  Female   NaN      2   \n",
       "\n",
       "        Trap Region Include Comparison Group   Latitude   Longitude  \\\n",
       "0        Rural-West     NaN            Outer  53.562973 -113.787353   \n",
       "1  Rural-North West     NaN       Peripheral  53.617221 -113.716182   \n",
       "2  Rural-North West     NaN       Peripheral  53.617221 -113.716182   \n",
       "3  Rural-North West     NaN       Peripheral  53.617221 -113.716182   \n",
       "4        Rural-West     NaN            Outer  53.559020 -114.001190   \n",
       "\n",
       "                                Location  \n",
       "0         POINT (-113.787353 53.5629733)  \n",
       "1          POINT (-113.716182 53.617221)  \n",
       "2          POINT (-113.716182 53.617221)  \n",
       "3          POINT (-113.716182 53.617221)  \n",
       "4  POINT (-114.00119 53.559020000000004)  "
      ]
     },
     "execution_count": 5,
     "metadata": {},
     "output_type": "execute_result"
    }
   ],
   "source": [
    "mos_data.head()"
   ]
  },
  {
   "cell_type": "code",
   "execution_count": 6,
   "metadata": {},
   "outputs": [
    {
     "data": {
      "text/html": [
       "<div>\n",
       "<style scoped>\n",
       "    .dataframe tbody tr th:only-of-type {\n",
       "        vertical-align: middle;\n",
       "    }\n",
       "\n",
       "    .dataframe tbody tr th {\n",
       "        vertical-align: top;\n",
       "    }\n",
       "\n",
       "    .dataframe thead th {\n",
       "        text-align: right;\n",
       "    }\n",
       "</style>\n",
       "<table border=\"1\" class=\"dataframe\">\n",
       "  <thead>\n",
       "    <tr style=\"text-align: right;\">\n",
       "      <th></th>\n",
       "      <th>date_time_local</th>\n",
       "      <th>unixtime</th>\n",
       "      <th>pressure_station</th>\n",
       "      <th>pressure_sea</th>\n",
       "      <th>wind_dir</th>\n",
       "      <th>wind_dir_10s</th>\n",
       "      <th>wind_speed</th>\n",
       "      <th>wind_gust</th>\n",
       "      <th>relative_humidity</th>\n",
       "      <th>dew_point</th>\n",
       "      <th>temperature</th>\n",
       "      <th>windchill</th>\n",
       "      <th>humidex</th>\n",
       "      <th>visibility</th>\n",
       "      <th>health_index</th>\n",
       "      <th>cloud_cover_4</th>\n",
       "      <th>cloud_cover_8</th>\n",
       "      <th>cloud_cover_10</th>\n",
       "      <th>solar_radiation</th>\n",
       "    </tr>\n",
       "  </thead>\n",
       "  <tbody>\n",
       "    <tr>\n",
       "      <th>0</th>\n",
       "      <td>2018-12-18 16:00:00 MST</td>\n",
       "      <td>1545174000</td>\n",
       "      <td>91.73</td>\n",
       "      <td>99.7</td>\n",
       "      <td>SW</td>\n",
       "      <td>23.0</td>\n",
       "      <td>5.0</td>\n",
       "      <td>NaN</td>\n",
       "      <td>64.0</td>\n",
       "      <td>-7.3</td>\n",
       "      <td>-1.3</td>\n",
       "      <td>-3.0</td>\n",
       "      <td>NaN</td>\n",
       "      <td>NaN</td>\n",
       "      <td>NaN</td>\n",
       "      <td>NaN</td>\n",
       "      <td>NaN</td>\n",
       "      <td>NaN</td>\n",
       "      <td>NaN</td>\n",
       "    </tr>\n",
       "    <tr>\n",
       "      <th>1</th>\n",
       "      <td>2018-12-18 15:00:00 MST</td>\n",
       "      <td>1545170400</td>\n",
       "      <td>91.67</td>\n",
       "      <td>99.7</td>\n",
       "      <td>S</td>\n",
       "      <td>18.0</td>\n",
       "      <td>5.0</td>\n",
       "      <td>NaN</td>\n",
       "      <td>65.0</td>\n",
       "      <td>-6.3</td>\n",
       "      <td>-0.5</td>\n",
       "      <td>-2.0</td>\n",
       "      <td>NaN</td>\n",
       "      <td>NaN</td>\n",
       "      <td>4.0</td>\n",
       "      <td>NaN</td>\n",
       "      <td>NaN</td>\n",
       "      <td>NaN</td>\n",
       "      <td>NaN</td>\n",
       "    </tr>\n",
       "    <tr>\n",
       "      <th>2</th>\n",
       "      <td>2018-12-18 14:00:00 MST</td>\n",
       "      <td>1545166800</td>\n",
       "      <td>91.67</td>\n",
       "      <td>99.6</td>\n",
       "      <td>S</td>\n",
       "      <td>17.0</td>\n",
       "      <td>5.0</td>\n",
       "      <td>NaN</td>\n",
       "      <td>51.0</td>\n",
       "      <td>-6.5</td>\n",
       "      <td>2.7</td>\n",
       "      <td>NaN</td>\n",
       "      <td>NaN</td>\n",
       "      <td>NaN</td>\n",
       "      <td>4.0</td>\n",
       "      <td>NaN</td>\n",
       "      <td>NaN</td>\n",
       "      <td>NaN</td>\n",
       "      <td>NaN</td>\n",
       "    </tr>\n",
       "    <tr>\n",
       "      <th>3</th>\n",
       "      <td>2018-12-18 13:00:00 MST</td>\n",
       "      <td>1545163200</td>\n",
       "      <td>91.66</td>\n",
       "      <td>99.6</td>\n",
       "      <td>SE</td>\n",
       "      <td>13.0</td>\n",
       "      <td>2.0</td>\n",
       "      <td>NaN</td>\n",
       "      <td>50.0</td>\n",
       "      <td>-6.4</td>\n",
       "      <td>2.9</td>\n",
       "      <td>NaN</td>\n",
       "      <td>NaN</td>\n",
       "      <td>NaN</td>\n",
       "      <td>3.9</td>\n",
       "      <td>NaN</td>\n",
       "      <td>NaN</td>\n",
       "      <td>NaN</td>\n",
       "      <td>NaN</td>\n",
       "    </tr>\n",
       "    <tr>\n",
       "      <th>4</th>\n",
       "      <td>2018-12-18 12:00:00 MST</td>\n",
       "      <td>1545159600</td>\n",
       "      <td>91.75</td>\n",
       "      <td>99.7</td>\n",
       "      <td>NaN</td>\n",
       "      <td>NaN</td>\n",
       "      <td>0.0</td>\n",
       "      <td>NaN</td>\n",
       "      <td>59.0</td>\n",
       "      <td>-6.6</td>\n",
       "      <td>0.5</td>\n",
       "      <td>NaN</td>\n",
       "      <td>NaN</td>\n",
       "      <td>NaN</td>\n",
       "      <td>4.1</td>\n",
       "      <td>NaN</td>\n",
       "      <td>NaN</td>\n",
       "      <td>NaN</td>\n",
       "      <td>NaN</td>\n",
       "    </tr>\n",
       "  </tbody>\n",
       "</table>\n",
       "</div>"
      ],
      "text/plain": [
       "           date_time_local    unixtime  pressure_station  pressure_sea  \\\n",
       "0  2018-12-18 16:00:00 MST  1545174000             91.73          99.7   \n",
       "1  2018-12-18 15:00:00 MST  1545170400             91.67          99.7   \n",
       "2  2018-12-18 14:00:00 MST  1545166800             91.67          99.6   \n",
       "3  2018-12-18 13:00:00 MST  1545163200             91.66          99.6   \n",
       "4  2018-12-18 12:00:00 MST  1545159600             91.75          99.7   \n",
       "\n",
       "  wind_dir  wind_dir_10s  wind_speed  wind_gust  relative_humidity  dew_point  \\\n",
       "0       SW          23.0         5.0        NaN               64.0       -7.3   \n",
       "1        S          18.0         5.0        NaN               65.0       -6.3   \n",
       "2        S          17.0         5.0        NaN               51.0       -6.5   \n",
       "3       SE          13.0         2.0        NaN               50.0       -6.4   \n",
       "4      NaN           NaN         0.0        NaN               59.0       -6.6   \n",
       "\n",
       "   temperature  windchill  humidex  visibility  health_index  cloud_cover_4  \\\n",
       "0         -1.3       -3.0      NaN         NaN           NaN            NaN   \n",
       "1         -0.5       -2.0      NaN         NaN           4.0            NaN   \n",
       "2          2.7        NaN      NaN         NaN           4.0            NaN   \n",
       "3          2.9        NaN      NaN         NaN           3.9            NaN   \n",
       "4          0.5        NaN      NaN         NaN           4.1            NaN   \n",
       "\n",
       "   cloud_cover_8  cloud_cover_10  solar_radiation  \n",
       "0            NaN             NaN              NaN  \n",
       "1            NaN             NaN              NaN  \n",
       "2            NaN             NaN              NaN  \n",
       "3            NaN             NaN              NaN  \n",
       "4            NaN             NaN              NaN  "
      ]
     },
     "execution_count": 6,
     "metadata": {},
     "output_type": "execute_result"
    }
   ],
   "source": [
    "weather_data.head()"
   ]
  },
  {
   "cell_type": "code",
   "execution_count": 7,
   "metadata": {},
   "outputs": [],
   "source": [
    "first_row = {'Trap Date':['05/09/2017 12:00:00 AM'], 'Gender':'Male', 'Count':0}\n",
    "first_row = pd.DataFrame(first_row)\n",
    "mos_data = mos_data.append(first_row)"
   ]
  },
  {
   "cell_type": "markdown",
   "metadata": {},
   "source": [
    "## Select dates range for mosquito data"
   ]
  },
  {
   "cell_type": "code",
   "execution_count": 8,
   "metadata": {},
   "outputs": [
    {
     "name": "stdout",
     "output_type": "stream",
     "text": [
      "Range of dates in mosquito dataset is 2017-05-09 to 2018-09-25\n"
     ]
    },
    {
     "data": {
      "text/html": [
       "<div>\n",
       "<style scoped>\n",
       "    .dataframe tbody tr th:only-of-type {\n",
       "        vertical-align: middle;\n",
       "    }\n",
       "\n",
       "    .dataframe tbody tr th {\n",
       "        vertical-align: top;\n",
       "    }\n",
       "\n",
       "    .dataframe thead th {\n",
       "        text-align: right;\n",
       "    }\n",
       "</style>\n",
       "<table border=\"1\" class=\"dataframe\">\n",
       "  <thead>\n",
       "    <tr style=\"text-align: right;\">\n",
       "      <th></th>\n",
       "      <th>Count</th>\n",
       "    </tr>\n",
       "    <tr>\n",
       "      <th>Trap Date</th>\n",
       "      <th></th>\n",
       "    </tr>\n",
       "  </thead>\n",
       "  <tbody>\n",
       "    <tr>\n",
       "      <th>2018-06-12</th>\n",
       "      <td>9938</td>\n",
       "    </tr>\n",
       "  </tbody>\n",
       "</table>\n",
       "</div>"
      ],
      "text/plain": [
       "            Count\n",
       "Trap Date        \n",
       "2018-06-12   9938"
      ]
     },
     "execution_count": 8,
     "metadata": {},
     "output_type": "execute_result"
    }
   ],
   "source": [
    "t_list = []\n",
    "for i in mos_data['Trap Date']:\n",
    "    i = str(i)\n",
    "    t1 = time.strptime(i,\"%m/%d/%Y %H:%M:%S AM\")\n",
    "    t2 = time.strftime(\"%Y-%m-%d\", t1)\n",
    "    t_list.append(t2)\n",
    "\n",
    "mos_data['Trap Date'] = t_list\n",
    "\n",
    "\n",
    "mos_data['Trap Date'] = pd.to_datetime(mos_data['Trap Date'])\n",
    "\n",
    "############data select#############\n",
    "start_remove = min(weather_data['date_time_local'])\n",
    "end_remove = max(weather_data['date_time_local'])\n",
    "mos_data_1 = mos_data.loc[(mos_data[\"Trap Date\"] >= start_remove) & (mos_data[\"Trap Date\"] <= end_remove) ]\n",
    "mos_date_start = str(mos_data_1['Trap Date'].dt.date.min())\n",
    "mos_date_end = str(mos_data_1['Trap Date'].dt.date.max())\n",
    "mos_date_range = mos_date_start +' to ' + mos_date_end\n",
    "print(\"Range of dates in mosquito dataset is {}\".format(mos_date_range))\n",
    "\n",
    "mos_data['Trap Date'] = pd.to_datetime(mos_data['Trap Date'])\n",
    "mos_range = (mos_data['Trap Date'] >= mos_date_start) & (mos_data['Trap Date'] <= mos_date_end)\n",
    "mos_data = mos_data.loc[mos_range]\n",
    "mos_data = mos_data.sort_values(by='Trap Date')\n",
    "\n",
    "\n",
    "mos_count = mos_data.groupby([\"Trap Date\"]).agg({\n",
    "    \"Count\":\"sum\",\n",
    "})\n",
    "mos_count[mos_count['Count'] == mos_count['Count'].max()]"
   ]
  },
  {
   "cell_type": "code",
   "execution_count": 9,
   "metadata": {
    "scrolled": true
   },
   "outputs": [
    {
     "data": {
      "text/html": [
       "<div>\n",
       "<style scoped>\n",
       "    .dataframe tbody tr th:only-of-type {\n",
       "        vertical-align: middle;\n",
       "    }\n",
       "\n",
       "    .dataframe tbody tr th {\n",
       "        vertical-align: top;\n",
       "    }\n",
       "\n",
       "    .dataframe thead th {\n",
       "        text-align: right;\n",
       "    }\n",
       "</style>\n",
       "<table border=\"1\" class=\"dataframe\">\n",
       "  <thead>\n",
       "    <tr style=\"text-align: right;\">\n",
       "      <th></th>\n",
       "      <th>Comparison Group</th>\n",
       "      <th>Count</th>\n",
       "      <th>Gender</th>\n",
       "      <th>Genus</th>\n",
       "      <th>IDd</th>\n",
       "      <th>Include</th>\n",
       "      <th>Latitude</th>\n",
       "      <th>Location</th>\n",
       "      <th>Longitude</th>\n",
       "      <th>Specific Epithet</th>\n",
       "      <th>Trap Date</th>\n",
       "      <th>Trap Region</th>\n",
       "    </tr>\n",
       "  </thead>\n",
       "  <tbody>\n",
       "    <tr>\n",
       "      <th>0</th>\n",
       "      <td>NaN</td>\n",
       "      <td>0</td>\n",
       "      <td>Male</td>\n",
       "      <td>NaN</td>\n",
       "      <td>NaN</td>\n",
       "      <td>NaN</td>\n",
       "      <td>NaN</td>\n",
       "      <td>NaN</td>\n",
       "      <td>NaN</td>\n",
       "      <td>NaN</td>\n",
       "      <td>2017-05-09</td>\n",
       "      <td>NaN</td>\n",
       "    </tr>\n",
       "    <tr>\n",
       "      <th>6843</th>\n",
       "      <td>Outer</td>\n",
       "      <td>2</td>\n",
       "      <td>Female</td>\n",
       "      <td>Culiseta</td>\n",
       "      <td>NaN</td>\n",
       "      <td>NaN</td>\n",
       "      <td>53.562973</td>\n",
       "      <td>POINT (-113.787353 53.5629733)</td>\n",
       "      <td>-113.787353</td>\n",
       "      <td>inornata</td>\n",
       "      <td>2017-05-09</td>\n",
       "      <td>Rural-West</td>\n",
       "    </tr>\n",
       "    <tr>\n",
       "      <th>17781</th>\n",
       "      <td>Peripheral</td>\n",
       "      <td>1</td>\n",
       "      <td>Female</td>\n",
       "      <td>Culiseta</td>\n",
       "      <td>NaN</td>\n",
       "      <td>NaN</td>\n",
       "      <td>53.619232</td>\n",
       "      <td>POINT (-113.7127984 53.6192317)</td>\n",
       "      <td>-113.712798</td>\n",
       "      <td>inornata</td>\n",
       "      <td>2017-05-09</td>\n",
       "      <td>Rural-North West</td>\n",
       "    </tr>\n",
       "    <tr>\n",
       "      <th>19436</th>\n",
       "      <td>Peripheral</td>\n",
       "      <td>2</td>\n",
       "      <td>Female</td>\n",
       "      <td>Culiseta</td>\n",
       "      <td>NaN</td>\n",
       "      <td>NaN</td>\n",
       "      <td>53.528587</td>\n",
       "      <td>POINT (-113.7380701 53.5285872)</td>\n",
       "      <td>-113.738070</td>\n",
       "      <td>alaskaensis</td>\n",
       "      <td>2017-05-09</td>\n",
       "      <td>Rural-South West</td>\n",
       "    </tr>\n",
       "    <tr>\n",
       "      <th>16953</th>\n",
       "      <td>Outer</td>\n",
       "      <td>2</td>\n",
       "      <td>Female</td>\n",
       "      <td>Culiseta</td>\n",
       "      <td>NaN</td>\n",
       "      <td>NaN</td>\n",
       "      <td>53.333327</td>\n",
       "      <td>POINT (-113.5313737 53.3333269)</td>\n",
       "      <td>-113.531374</td>\n",
       "      <td>inornata</td>\n",
       "      <td>2017-05-09</td>\n",
       "      <td>Outer Community-South1</td>\n",
       "    </tr>\n",
       "  </tbody>\n",
       "</table>\n",
       "</div>"
      ],
      "text/plain": [
       "      Comparison Group  Count  Gender     Genus  IDd Include   Latitude  \\\n",
       "0                  NaN      0    Male       NaN  NaN     NaN        NaN   \n",
       "6843             Outer      2  Female  Culiseta  NaN     NaN  53.562973   \n",
       "17781       Peripheral      1  Female  Culiseta  NaN     NaN  53.619232   \n",
       "19436       Peripheral      2  Female  Culiseta  NaN     NaN  53.528587   \n",
       "16953            Outer      2  Female  Culiseta  NaN     NaN  53.333327   \n",
       "\n",
       "                              Location   Longitude Specific Epithet  \\\n",
       "0                                  NaN         NaN              NaN   \n",
       "6843    POINT (-113.787353 53.5629733) -113.787353         inornata   \n",
       "17781  POINT (-113.7127984 53.6192317) -113.712798         inornata   \n",
       "19436  POINT (-113.7380701 53.5285872) -113.738070      alaskaensis   \n",
       "16953  POINT (-113.5313737 53.3333269) -113.531374         inornata   \n",
       "\n",
       "       Trap Date             Trap Region  \n",
       "0     2017-05-09                     NaN  \n",
       "6843  2017-05-09              Rural-West  \n",
       "17781 2017-05-09        Rural-North West  \n",
       "19436 2017-05-09        Rural-South West  \n",
       "16953 2017-05-09  Outer Community-South1  "
      ]
     },
     "execution_count": 9,
     "metadata": {},
     "output_type": "execute_result"
    }
   ],
   "source": [
    "mos_data.head()"
   ]
  },
  {
   "cell_type": "code",
   "execution_count": 10,
   "metadata": {
    "scrolled": true
   },
   "outputs": [
    {
     "data": {
      "text/html": [
       "<div>\n",
       "<style scoped>\n",
       "    .dataframe tbody tr th:only-of-type {\n",
       "        vertical-align: middle;\n",
       "    }\n",
       "\n",
       "    .dataframe tbody tr th {\n",
       "        vertical-align: top;\n",
       "    }\n",
       "\n",
       "    .dataframe thead th {\n",
       "        text-align: right;\n",
       "    }\n",
       "</style>\n",
       "<table border=\"1\" class=\"dataframe\">\n",
       "  <thead>\n",
       "    <tr style=\"text-align: right;\">\n",
       "      <th></th>\n",
       "      <th>Count</th>\n",
       "    </tr>\n",
       "    <tr>\n",
       "      <th>Trap Date</th>\n",
       "      <th></th>\n",
       "    </tr>\n",
       "  </thead>\n",
       "  <tbody>\n",
       "    <tr>\n",
       "      <th>2017-05-09</th>\n",
       "      <td>26</td>\n",
       "    </tr>\n",
       "    <tr>\n",
       "      <th>2017-05-16</th>\n",
       "      <td>29</td>\n",
       "    </tr>\n",
       "    <tr>\n",
       "      <th>2017-05-23</th>\n",
       "      <td>523</td>\n",
       "    </tr>\n",
       "    <tr>\n",
       "      <th>2017-05-30</th>\n",
       "      <td>363</td>\n",
       "    </tr>\n",
       "    <tr>\n",
       "      <th>2017-06-06</th>\n",
       "      <td>1656</td>\n",
       "    </tr>\n",
       "  </tbody>\n",
       "</table>\n",
       "</div>"
      ],
      "text/plain": [
       "            Count\n",
       "Trap Date        \n",
       "2017-05-09     26\n",
       "2017-05-16     29\n",
       "2017-05-23    523\n",
       "2017-05-30    363\n",
       "2017-06-06   1656"
      ]
     },
     "execution_count": 10,
     "metadata": {},
     "output_type": "execute_result"
    }
   ],
   "source": [
    "mos_count.head()"
   ]
  },
  {
   "cell_type": "code",
   "execution_count": 11,
   "metadata": {},
   "outputs": [
    {
     "data": {
      "text/plain": [
       "41"
      ]
     },
     "execution_count": 11,
     "metadata": {},
     "output_type": "execute_result"
    }
   ],
   "source": [
    "len(mos_count)"
   ]
  },
  {
   "cell_type": "markdown",
   "metadata": {},
   "source": [
    "## Select dates range for weather data"
   ]
  },
  {
   "cell_type": "code",
   "execution_count": 12,
   "metadata": {},
   "outputs": [],
   "source": [
    "start_date1 = '2017-05-03' #one week before 2017-05-09\n",
    "end_date1 = '2017-09-26'\n",
    "start_date2 = '2018-05-09' #one week before 2018-05-15\n",
    "end_date2 = '2018-09-25'\n",
    "\n",
    "##############Drop MST###################\n",
    "weather_data.drop(columns=[\"visibility\", \"cloud_cover_4\", \"cloud_cover_8\", \"cloud_cover_10\", \"solar_radiation\", \"wind_gust\", \"windchill\", \"humidex\"], inplace=True)\n",
    "weather_data = weather_data.loc[weather_data['date_time_local'].str.contains('MDT')]\n",
    "\n",
    "\n",
    "t_list = []\n",
    "for i in weather_data['date_time_local']:\n",
    "    i = str(i)\n",
    "    t1 = time.strptime(i,\"%Y-%m-%d %H:%M:%S MDT\")\n",
    "    t2 = time.strftime(\"%Y-%m-%d\", t1)\n",
    "    t_list.append(t2)\n",
    "\n",
    "weather_data['date_time_local'] = t_list\n",
    "\n",
    "\n",
    "weather_data['date_time_local'] = pd.to_datetime(weather_data['date_time_local'])\n",
    "weather_range1 = (weather_data['date_time_local'] >= start_date1) & (weather_data['date_time_local'] <= end_date1)\n",
    "weather_data1 = weather_data.loc[weather_range1]\n",
    "weather_data1 = weather_data1.sort_values(by='date_time_local')\n",
    "\n",
    "\n",
    "weather_range2 = (weather_data['date_time_local'] >= start_date2) & (weather_data['date_time_local'] <= end_date2)\n",
    "weather_data2 = weather_data.loc[weather_range2]\n",
    "weather_data2 = weather_data2.sort_values(by='date_time_local')\n",
    "weather_data = weather_data1.append(weather_data2)"
   ]
  },
  {
   "cell_type": "code",
   "execution_count": 13,
   "metadata": {
    "scrolled": true
   },
   "outputs": [
    {
     "data": {
      "text/html": [
       "<div>\n",
       "<style scoped>\n",
       "    .dataframe tbody tr th:only-of-type {\n",
       "        vertical-align: middle;\n",
       "    }\n",
       "\n",
       "    .dataframe tbody tr th {\n",
       "        vertical-align: top;\n",
       "    }\n",
       "\n",
       "    .dataframe thead th {\n",
       "        text-align: right;\n",
       "    }\n",
       "</style>\n",
       "<table border=\"1\" class=\"dataframe\">\n",
       "  <thead>\n",
       "    <tr style=\"text-align: right;\">\n",
       "      <th></th>\n",
       "      <th>date_time_local</th>\n",
       "      <th>unixtime</th>\n",
       "      <th>pressure_station</th>\n",
       "      <th>pressure_sea</th>\n",
       "      <th>wind_dir</th>\n",
       "      <th>wind_dir_10s</th>\n",
       "      <th>wind_speed</th>\n",
       "      <th>relative_humidity</th>\n",
       "      <th>dew_point</th>\n",
       "      <th>temperature</th>\n",
       "      <th>health_index</th>\n",
       "    </tr>\n",
       "  </thead>\n",
       "  <tbody>\n",
       "    <tr>\n",
       "      <th>14273</th>\n",
       "      <td>2017-05-03</td>\n",
       "      <td>1493791200</td>\n",
       "      <td>93.91</td>\n",
       "      <td>101.9</td>\n",
       "      <td>SW</td>\n",
       "      <td>21.0</td>\n",
       "      <td>3.0</td>\n",
       "      <td>64.0</td>\n",
       "      <td>0.3</td>\n",
       "      <td>6.6</td>\n",
       "      <td>3.0</td>\n",
       "    </tr>\n",
       "    <tr>\n",
       "      <th>14250</th>\n",
       "      <td>2017-05-03</td>\n",
       "      <td>1493874000</td>\n",
       "      <td>93.51</td>\n",
       "      <td>101.4</td>\n",
       "      <td>SW</td>\n",
       "      <td>22.0</td>\n",
       "      <td>7.0</td>\n",
       "      <td>50.0</td>\n",
       "      <td>2.6</td>\n",
       "      <td>12.7</td>\n",
       "      <td>3.7</td>\n",
       "    </tr>\n",
       "    <tr>\n",
       "      <th>14251</th>\n",
       "      <td>2017-05-03</td>\n",
       "      <td>1493870400</td>\n",
       "      <td>93.49</td>\n",
       "      <td>101.4</td>\n",
       "      <td>SW</td>\n",
       "      <td>24.0</td>\n",
       "      <td>6.0</td>\n",
       "      <td>48.0</td>\n",
       "      <td>2.0</td>\n",
       "      <td>12.9</td>\n",
       "      <td>3.5</td>\n",
       "    </tr>\n",
       "    <tr>\n",
       "      <th>14252</th>\n",
       "      <td>2017-05-03</td>\n",
       "      <td>1493866800</td>\n",
       "      <td>93.44</td>\n",
       "      <td>101.3</td>\n",
       "      <td>WNW</td>\n",
       "      <td>29.0</td>\n",
       "      <td>5.0</td>\n",
       "      <td>34.0</td>\n",
       "      <td>1.0</td>\n",
       "      <td>17.1</td>\n",
       "      <td>3.3</td>\n",
       "    </tr>\n",
       "    <tr>\n",
       "      <th>14253</th>\n",
       "      <td>2017-05-03</td>\n",
       "      <td>1493863200</td>\n",
       "      <td>93.38</td>\n",
       "      <td>101.3</td>\n",
       "      <td>W</td>\n",
       "      <td>27.0</td>\n",
       "      <td>7.0</td>\n",
       "      <td>28.0</td>\n",
       "      <td>0.2</td>\n",
       "      <td>18.9</td>\n",
       "      <td>3.3</td>\n",
       "    </tr>\n",
       "  </tbody>\n",
       "</table>\n",
       "</div>"
      ],
      "text/plain": [
       "      date_time_local    unixtime  pressure_station  pressure_sea wind_dir  \\\n",
       "14273      2017-05-03  1493791200             93.91         101.9       SW   \n",
       "14250      2017-05-03  1493874000             93.51         101.4       SW   \n",
       "14251      2017-05-03  1493870400             93.49         101.4       SW   \n",
       "14252      2017-05-03  1493866800             93.44         101.3      WNW   \n",
       "14253      2017-05-03  1493863200             93.38         101.3        W   \n",
       "\n",
       "       wind_dir_10s  wind_speed  relative_humidity  dew_point  temperature  \\\n",
       "14273          21.0         3.0               64.0        0.3          6.6   \n",
       "14250          22.0         7.0               50.0        2.6         12.7   \n",
       "14251          24.0         6.0               48.0        2.0         12.9   \n",
       "14252          29.0         5.0               34.0        1.0         17.1   \n",
       "14253          27.0         7.0               28.0        0.2         18.9   \n",
       "\n",
       "       health_index  \n",
       "14273           3.0  \n",
       "14250           3.7  \n",
       "14251           3.5  \n",
       "14252           3.3  \n",
       "14253           3.3  "
      ]
     },
     "execution_count": 13,
     "metadata": {},
     "output_type": "execute_result"
    }
   ],
   "source": [
    "weather_data.head()"
   ]
  },
  {
   "cell_type": "markdown",
   "metadata": {},
   "source": [
    "## Seperate mosquito data by gender"
   ]
  },
  {
   "cell_type": "code",
   "execution_count": 14,
   "metadata": {},
   "outputs": [],
   "source": [
    "mos_data_male = mos_data.loc[mos_data['Gender'].str.contains('Male')]\n",
    "mos_data_female = mos_data.loc[mos_data['Gender'].str.contains('Female')]\n",
    "\n",
    "mos_count_male = mos_data_male.groupby([\"Trap Date\"]).agg({\n",
    "    \"Count\":\"sum\",\n",
    "})\n",
    "mos_count_male[mos_count_male['Count'] == mos_count_male['Count'].max()]\n",
    "\n",
    "\n",
    "mos_count_female = mos_data_female.groupby([\"Trap Date\"]).agg({\n",
    "    \"Count\":\"sum\",\n",
    "})\n",
    "mos_count_female[mos_count_female['Count'] == mos_count_female['Count'].max()]\n",
    "\n",
    "\n",
    "mos_count_male[\"Count_female\"] = mos_count_female[\"Count\"]\n",
    "mos_count_male['Gender'] = np.where(mos_count_male[\"Count\"] > mos_count_male[\"Count_female\"], 'Male', 'Female')\n",
    "#compare count\n",
    "\n",
    "gender = np.array(mos_count_male['Gender'])"
   ]
  },
  {
   "cell_type": "markdown",
   "metadata": {},
   "source": [
    "## Grouping both datasets\n",
    "- For justifications for the methods of grouping the weather data please refer to task 1"
   ]
  },
  {
   "cell_type": "markdown",
   "metadata": {},
   "source": [
    "#### weather data grouping by days then weekly"
   ]
  },
  {
   "cell_type": "code",
   "execution_count": 15,
   "metadata": {},
   "outputs": [
    {
     "name": "stdout",
     "output_type": "stream",
     "text": [
      "287\n"
     ]
    }
   ],
   "source": [
    "weather_data_grouped = weather_data.groupby('date_time_local', as_index=False).agg({\n",
    "    'pressure_station': lambda x: x.value_counts().index[0],\n",
    "    'pressure_sea': lambda x: x.median(),\n",
    "    'wind_dir_10s': lambda x: x.value_counts().index[0],\n",
    "    'wind_speed': lambda x: x.value_counts().index[0],\n",
    "    'dew_point': lambda x: x.value_counts().index[0],\n",
    "    'temperature': lambda x: x.value_counts().index[0],\n",
    "    'health_index': lambda x: round(x.mean(), 1)\n",
    "})\n",
    "\n",
    "print(len(weather_data_grouped.index))"
   ]
  },
  {
   "cell_type": "code",
   "execution_count": 16,
   "metadata": {
    "scrolled": true
   },
   "outputs": [
    {
     "data": {
      "text/html": [
       "<div>\n",
       "<style scoped>\n",
       "    .dataframe tbody tr th:only-of-type {\n",
       "        vertical-align: middle;\n",
       "    }\n",
       "\n",
       "    .dataframe tbody tr th {\n",
       "        vertical-align: top;\n",
       "    }\n",
       "\n",
       "    .dataframe thead th {\n",
       "        text-align: right;\n",
       "    }\n",
       "</style>\n",
       "<table border=\"1\" class=\"dataframe\">\n",
       "  <thead>\n",
       "    <tr style=\"text-align: right;\">\n",
       "      <th></th>\n",
       "      <th>date_time_local</th>\n",
       "      <th>pressure_station</th>\n",
       "      <th>pressure_sea</th>\n",
       "      <th>wind_dir_10s</th>\n",
       "      <th>wind_speed</th>\n",
       "      <th>dew_point</th>\n",
       "      <th>temperature</th>\n",
       "      <th>health_index</th>\n",
       "    </tr>\n",
       "  </thead>\n",
       "  <tbody>\n",
       "    <tr>\n",
       "      <th>0</th>\n",
       "      <td>2017-05-03</td>\n",
       "      <td>93.87</td>\n",
       "      <td>101.50</td>\n",
       "      <td>20.0</td>\n",
       "      <td>7.0</td>\n",
       "      <td>-1.6</td>\n",
       "      <td>18.9</td>\n",
       "      <td>2.8</td>\n",
       "    </tr>\n",
       "    <tr>\n",
       "      <th>1</th>\n",
       "      <td>2017-05-04</td>\n",
       "      <td>93.64</td>\n",
       "      <td>101.40</td>\n",
       "      <td>22.0</td>\n",
       "      <td>7.0</td>\n",
       "      <td>1.9</td>\n",
       "      <td>8.4</td>\n",
       "      <td>3.2</td>\n",
       "    </tr>\n",
       "    <tr>\n",
       "      <th>2</th>\n",
       "      <td>2017-05-05</td>\n",
       "      <td>92.13</td>\n",
       "      <td>100.25</td>\n",
       "      <td>15.0</td>\n",
       "      <td>13.0</td>\n",
       "      <td>4.6</td>\n",
       "      <td>27.2</td>\n",
       "      <td>2.8</td>\n",
       "    </tr>\n",
       "    <tr>\n",
       "      <th>3</th>\n",
       "      <td>2017-05-06</td>\n",
       "      <td>92.68</td>\n",
       "      <td>100.30</td>\n",
       "      <td>28.0</td>\n",
       "      <td>13.0</td>\n",
       "      <td>5.2</td>\n",
       "      <td>14.9</td>\n",
       "      <td>2.4</td>\n",
       "    </tr>\n",
       "    <tr>\n",
       "      <th>4</th>\n",
       "      <td>2017-05-07</td>\n",
       "      <td>93.48</td>\n",
       "      <td>101.30</td>\n",
       "      <td>31.0</td>\n",
       "      <td>18.0</td>\n",
       "      <td>-3.0</td>\n",
       "      <td>6.3</td>\n",
       "      <td>2.2</td>\n",
       "    </tr>\n",
       "    <tr>\n",
       "      <th>5</th>\n",
       "      <td>2017-05-08</td>\n",
       "      <td>93.54</td>\n",
       "      <td>101.60</td>\n",
       "      <td>31.0</td>\n",
       "      <td>8.0</td>\n",
       "      <td>-4.8</td>\n",
       "      <td>14.0</td>\n",
       "      <td>2.9</td>\n",
       "    </tr>\n",
       "    <tr>\n",
       "      <th>6</th>\n",
       "      <td>2017-05-09</td>\n",
       "      <td>93.62</td>\n",
       "      <td>101.60</td>\n",
       "      <td>32.0</td>\n",
       "      <td>7.0</td>\n",
       "      <td>2.1</td>\n",
       "      <td>16.7</td>\n",
       "      <td>2.9</td>\n",
       "    </tr>\n",
       "  </tbody>\n",
       "</table>\n",
       "</div>"
      ],
      "text/plain": [
       "  date_time_local  pressure_station  pressure_sea  wind_dir_10s  wind_speed  \\\n",
       "0      2017-05-03             93.87        101.50          20.0         7.0   \n",
       "1      2017-05-04             93.64        101.40          22.0         7.0   \n",
       "2      2017-05-05             92.13        100.25          15.0        13.0   \n",
       "3      2017-05-06             92.68        100.30          28.0        13.0   \n",
       "4      2017-05-07             93.48        101.30          31.0        18.0   \n",
       "5      2017-05-08             93.54        101.60          31.0         8.0   \n",
       "6      2017-05-09             93.62        101.60          32.0         7.0   \n",
       "\n",
       "   dew_point  temperature  health_index  \n",
       "0       -1.6         18.9           2.8  \n",
       "1        1.9          8.4           3.2  \n",
       "2        4.6         27.2           2.8  \n",
       "3        5.2         14.9           2.4  \n",
       "4       -3.0          6.3           2.2  \n",
       "5       -4.8         14.0           2.9  \n",
       "6        2.1         16.7           2.9  "
      ]
     },
     "execution_count": 16,
     "metadata": {},
     "output_type": "execute_result"
    }
   ],
   "source": [
    "weather_data_grouped.sort_values('date_time_local', inplace=True)\n",
    "weather_data_grouped.head(7)"
   ]
  },
  {
   "cell_type": "code",
   "execution_count": 17,
   "metadata": {},
   "outputs": [
    {
     "name": "stdout",
     "output_type": "stream",
     "text": [
      "41\n"
     ]
    }
   ],
   "source": [
    "weather_data_grouped = weather_data_grouped.groupby(weather_data_grouped.index // 7).agg({\n",
    "    'date_time_local': 'last',\n",
    "    'pressure_station': lambda x: x.value_counts().index[0],\n",
    "    'pressure_sea': lambda x: x.median(),\n",
    "    'wind_dir_10s': lambda x: x.value_counts().index[0],\n",
    "    'wind_speed': lambda x: x.value_counts().index[0],\n",
    "    'dew_point': lambda x: x.value_counts().index[0],\n",
    "    'temperature': lambda x: x.value_counts().index[0],\n",
    "    'health_index': lambda x: round(x.mean(), 1)\n",
    "})\n",
    "\n",
    "print(len(weather_data_grouped.index))\n",
    "\n",
    "## NOTE GROUPING DATA BY WEEK LED TO LOWER ACCURACY"
   ]
  },
  {
   "cell_type": "markdown",
   "metadata": {},
   "source": [
    "#### mosquito data grouping by date"
   ]
  },
  {
   "cell_type": "code",
   "execution_count": 18,
   "metadata": {},
   "outputs": [
    {
     "data": {
      "text/html": [
       "<div>\n",
       "<style scoped>\n",
       "    .dataframe tbody tr th:only-of-type {\n",
       "        vertical-align: middle;\n",
       "    }\n",
       "\n",
       "    .dataframe tbody tr th {\n",
       "        vertical-align: top;\n",
       "    }\n",
       "\n",
       "    .dataframe thead th {\n",
       "        text-align: right;\n",
       "    }\n",
       "</style>\n",
       "<table border=\"1\" class=\"dataframe\">\n",
       "  <thead>\n",
       "    <tr style=\"text-align: right;\">\n",
       "      <th></th>\n",
       "      <th>Comparison Group</th>\n",
       "      <th>Count</th>\n",
       "      <th>Gender</th>\n",
       "      <th>Genus</th>\n",
       "      <th>IDd</th>\n",
       "      <th>Include</th>\n",
       "      <th>Latitude</th>\n",
       "      <th>Location</th>\n",
       "      <th>Longitude</th>\n",
       "      <th>Specific Epithet</th>\n",
       "      <th>Trap Date</th>\n",
       "      <th>Trap Region</th>\n",
       "    </tr>\n",
       "  </thead>\n",
       "  <tbody>\n",
       "    <tr>\n",
       "      <th>0</th>\n",
       "      <td>NaN</td>\n",
       "      <td>0</td>\n",
       "      <td>Male</td>\n",
       "      <td>NaN</td>\n",
       "      <td>NaN</td>\n",
       "      <td>NaN</td>\n",
       "      <td>NaN</td>\n",
       "      <td>NaN</td>\n",
       "      <td>NaN</td>\n",
       "      <td>NaN</td>\n",
       "      <td>2017-05-09</td>\n",
       "      <td>NaN</td>\n",
       "    </tr>\n",
       "    <tr>\n",
       "      <th>6843</th>\n",
       "      <td>Outer</td>\n",
       "      <td>2</td>\n",
       "      <td>Female</td>\n",
       "      <td>Culiseta</td>\n",
       "      <td>NaN</td>\n",
       "      <td>NaN</td>\n",
       "      <td>53.562973</td>\n",
       "      <td>POINT (-113.787353 53.5629733)</td>\n",
       "      <td>-113.787353</td>\n",
       "      <td>inornata</td>\n",
       "      <td>2017-05-09</td>\n",
       "      <td>Rural-West</td>\n",
       "    </tr>\n",
       "    <tr>\n",
       "      <th>17781</th>\n",
       "      <td>Peripheral</td>\n",
       "      <td>1</td>\n",
       "      <td>Female</td>\n",
       "      <td>Culiseta</td>\n",
       "      <td>NaN</td>\n",
       "      <td>NaN</td>\n",
       "      <td>53.619232</td>\n",
       "      <td>POINT (-113.7127984 53.6192317)</td>\n",
       "      <td>-113.712798</td>\n",
       "      <td>inornata</td>\n",
       "      <td>2017-05-09</td>\n",
       "      <td>Rural-North West</td>\n",
       "    </tr>\n",
       "    <tr>\n",
       "      <th>19436</th>\n",
       "      <td>Peripheral</td>\n",
       "      <td>2</td>\n",
       "      <td>Female</td>\n",
       "      <td>Culiseta</td>\n",
       "      <td>NaN</td>\n",
       "      <td>NaN</td>\n",
       "      <td>53.528587</td>\n",
       "      <td>POINT (-113.7380701 53.5285872)</td>\n",
       "      <td>-113.738070</td>\n",
       "      <td>alaskaensis</td>\n",
       "      <td>2017-05-09</td>\n",
       "      <td>Rural-South West</td>\n",
       "    </tr>\n",
       "    <tr>\n",
       "      <th>16953</th>\n",
       "      <td>Outer</td>\n",
       "      <td>2</td>\n",
       "      <td>Female</td>\n",
       "      <td>Culiseta</td>\n",
       "      <td>NaN</td>\n",
       "      <td>NaN</td>\n",
       "      <td>53.333327</td>\n",
       "      <td>POINT (-113.5313737 53.3333269)</td>\n",
       "      <td>-113.531374</td>\n",
       "      <td>inornata</td>\n",
       "      <td>2017-05-09</td>\n",
       "      <td>Outer Community-South1</td>\n",
       "    </tr>\n",
       "  </tbody>\n",
       "</table>\n",
       "</div>"
      ],
      "text/plain": [
       "      Comparison Group  Count  Gender     Genus  IDd Include   Latitude  \\\n",
       "0                  NaN      0    Male       NaN  NaN     NaN        NaN   \n",
       "6843             Outer      2  Female  Culiseta  NaN     NaN  53.562973   \n",
       "17781       Peripheral      1  Female  Culiseta  NaN     NaN  53.619232   \n",
       "19436       Peripheral      2  Female  Culiseta  NaN     NaN  53.528587   \n",
       "16953            Outer      2  Female  Culiseta  NaN     NaN  53.333327   \n",
       "\n",
       "                              Location   Longitude Specific Epithet  \\\n",
       "0                                  NaN         NaN              NaN   \n",
       "6843    POINT (-113.787353 53.5629733) -113.787353         inornata   \n",
       "17781  POINT (-113.7127984 53.6192317) -113.712798         inornata   \n",
       "19436  POINT (-113.7380701 53.5285872) -113.738070      alaskaensis   \n",
       "16953  POINT (-113.5313737 53.3333269) -113.531374         inornata   \n",
       "\n",
       "       Trap Date             Trap Region  \n",
       "0     2017-05-09                     NaN  \n",
       "6843  2017-05-09              Rural-West  \n",
       "17781 2017-05-09        Rural-North West  \n",
       "19436 2017-05-09        Rural-South West  \n",
       "16953 2017-05-09  Outer Community-South1  "
      ]
     },
     "execution_count": 18,
     "metadata": {},
     "output_type": "execute_result"
    }
   ],
   "source": [
    "mos_data.head()"
   ]
  },
  {
   "cell_type": "code",
   "execution_count": 19,
   "metadata": {
    "scrolled": false
   },
   "outputs": [
    {
     "data": {
      "text/html": [
       "<div>\n",
       "<style scoped>\n",
       "    .dataframe tbody tr th:only-of-type {\n",
       "        vertical-align: middle;\n",
       "    }\n",
       "\n",
       "    .dataframe tbody tr th {\n",
       "        vertical-align: top;\n",
       "    }\n",
       "\n",
       "    .dataframe thead th {\n",
       "        text-align: right;\n",
       "    }\n",
       "</style>\n",
       "<table border=\"1\" class=\"dataframe\">\n",
       "  <thead>\n",
       "    <tr style=\"text-align: right;\">\n",
       "      <th></th>\n",
       "      <th>Comparison Group</th>\n",
       "      <th>Count</th>\n",
       "      <th>Gender</th>\n",
       "      <th>Genus</th>\n",
       "      <th>Specific Epithet</th>\n",
       "      <th>Trap Date</th>\n",
       "    </tr>\n",
       "  </thead>\n",
       "  <tbody>\n",
       "    <tr>\n",
       "      <th>19777</th>\n",
       "      <td>Peripheral</td>\n",
       "      <td>3</td>\n",
       "      <td>Female</td>\n",
       "      <td>Culiseta</td>\n",
       "      <td>inornata</td>\n",
       "      <td>2017-05-09</td>\n",
       "    </tr>\n",
       "    <tr>\n",
       "      <th>13603</th>\n",
       "      <td>Core</td>\n",
       "      <td>3</td>\n",
       "      <td>Female</td>\n",
       "      <td>Culiseta</td>\n",
       "      <td>inornata</td>\n",
       "      <td>2017-05-09</td>\n",
       "    </tr>\n",
       "    <tr>\n",
       "      <th>11069</th>\n",
       "      <td>Core</td>\n",
       "      <td>3</td>\n",
       "      <td>Female</td>\n",
       "      <td>Culiseta</td>\n",
       "      <td>inornata</td>\n",
       "      <td>2017-05-09</td>\n",
       "    </tr>\n",
       "    <tr>\n",
       "      <th>19195</th>\n",
       "      <td>Core</td>\n",
       "      <td>13</td>\n",
       "      <td>Female</td>\n",
       "      <td>Ochlerotatus</td>\n",
       "      <td>Black legs</td>\n",
       "      <td>2017-05-16</td>\n",
       "    </tr>\n",
       "    <tr>\n",
       "      <th>16171</th>\n",
       "      <td>Outer</td>\n",
       "      <td>137</td>\n",
       "      <td>Male</td>\n",
       "      <td>Male</td>\n",
       "      <td>UnID</td>\n",
       "      <td>2017-05-23</td>\n",
       "    </tr>\n",
       "  </tbody>\n",
       "</table>\n",
       "</div>"
      ],
      "text/plain": [
       "      Comparison Group  Count  Gender         Genus Specific Epithet  \\\n",
       "19777       Peripheral      3  Female      Culiseta         inornata   \n",
       "13603             Core      3  Female      Culiseta         inornata   \n",
       "11069             Core      3  Female      Culiseta         inornata   \n",
       "19195             Core     13  Female  Ochlerotatus       Black legs   \n",
       "16171            Outer    137    Male          Male             UnID   \n",
       "\n",
       "       Trap Date  \n",
       "19777 2017-05-09  \n",
       "13603 2017-05-09  \n",
       "11069 2017-05-09  \n",
       "19195 2017-05-16  \n",
       "16171 2017-05-23  "
      ]
     },
     "execution_count": 19,
     "metadata": {},
     "output_type": "execute_result"
    }
   ],
   "source": [
    "idx = mos_data.groupby(['Trap Date'])['Count'].transform(max) == mos_data['Count']\n",
    "\n",
    "mos_data_grouped = mos_data[idx]\n",
    "mos_data_grouped.drop(columns=['IDd', 'Include', 'Latitude', 'Location', 'Longitude','Trap Region'], inplace=True)\n",
    "mos_data_grouped.head()"
   ]
  },
  {
   "cell_type": "code",
   "execution_count": 20,
   "metadata": {},
   "outputs": [
    {
     "data": {
      "text/plain": [
       "43"
      ]
     },
     "execution_count": 20,
     "metadata": {},
     "output_type": "execute_result"
    }
   ],
   "source": [
    "len(mos_data_grouped)"
   ]
  },
  {
   "cell_type": "markdown",
   "metadata": {},
   "source": [
    "#### merging both dataset by date"
   ]
  },
  {
   "cell_type": "code",
   "execution_count": 21,
   "metadata": {},
   "outputs": [],
   "source": [
    "merged_data = pd.merge(left=mos_data_grouped, right=weather_data_grouped, left_on='Trap Date', right_on='date_time_local')\n",
    "merged_data.drop(columns=['date_time_local'], inplace=True)"
   ]
  },
  {
   "cell_type": "code",
   "execution_count": 22,
   "metadata": {
    "scrolled": true
   },
   "outputs": [
    {
     "data": {
      "text/html": [
       "<div>\n",
       "<style scoped>\n",
       "    .dataframe tbody tr th:only-of-type {\n",
       "        vertical-align: middle;\n",
       "    }\n",
       "\n",
       "    .dataframe tbody tr th {\n",
       "        vertical-align: top;\n",
       "    }\n",
       "\n",
       "    .dataframe thead th {\n",
       "        text-align: right;\n",
       "    }\n",
       "</style>\n",
       "<table border=\"1\" class=\"dataframe\">\n",
       "  <thead>\n",
       "    <tr style=\"text-align: right;\">\n",
       "      <th></th>\n",
       "      <th>Comparison Group</th>\n",
       "      <th>Count</th>\n",
       "      <th>Gender</th>\n",
       "      <th>Genus</th>\n",
       "      <th>Specific Epithet</th>\n",
       "      <th>Trap Date</th>\n",
       "      <th>pressure_station</th>\n",
       "      <th>pressure_sea</th>\n",
       "      <th>wind_dir_10s</th>\n",
       "      <th>wind_speed</th>\n",
       "      <th>dew_point</th>\n",
       "      <th>temperature</th>\n",
       "      <th>health_index</th>\n",
       "    </tr>\n",
       "  </thead>\n",
       "  <tbody>\n",
       "    <tr>\n",
       "      <th>0</th>\n",
       "      <td>Peripheral</td>\n",
       "      <td>3</td>\n",
       "      <td>Female</td>\n",
       "      <td>Culiseta</td>\n",
       "      <td>inornata</td>\n",
       "      <td>2017-05-09</td>\n",
       "      <td>93.87</td>\n",
       "      <td>101.4</td>\n",
       "      <td>31.0</td>\n",
       "      <td>7.0</td>\n",
       "      <td>5.2</td>\n",
       "      <td>6.3</td>\n",
       "      <td>2.7</td>\n",
       "    </tr>\n",
       "    <tr>\n",
       "      <th>1</th>\n",
       "      <td>Core</td>\n",
       "      <td>3</td>\n",
       "      <td>Female</td>\n",
       "      <td>Culiseta</td>\n",
       "      <td>inornata</td>\n",
       "      <td>2017-05-09</td>\n",
       "      <td>93.87</td>\n",
       "      <td>101.4</td>\n",
       "      <td>31.0</td>\n",
       "      <td>7.0</td>\n",
       "      <td>5.2</td>\n",
       "      <td>6.3</td>\n",
       "      <td>2.7</td>\n",
       "    </tr>\n",
       "    <tr>\n",
       "      <th>2</th>\n",
       "      <td>Core</td>\n",
       "      <td>3</td>\n",
       "      <td>Female</td>\n",
       "      <td>Culiseta</td>\n",
       "      <td>inornata</td>\n",
       "      <td>2017-05-09</td>\n",
       "      <td>93.87</td>\n",
       "      <td>101.4</td>\n",
       "      <td>31.0</td>\n",
       "      <td>7.0</td>\n",
       "      <td>5.2</td>\n",
       "      <td>6.3</td>\n",
       "      <td>2.7</td>\n",
       "    </tr>\n",
       "    <tr>\n",
       "      <th>3</th>\n",
       "      <td>Core</td>\n",
       "      <td>13</td>\n",
       "      <td>Female</td>\n",
       "      <td>Ochlerotatus</td>\n",
       "      <td>Black legs</td>\n",
       "      <td>2017-05-16</td>\n",
       "      <td>92.94</td>\n",
       "      <td>100.9</td>\n",
       "      <td>11.0</td>\n",
       "      <td>12.0</td>\n",
       "      <td>5.3</td>\n",
       "      <td>2.4</td>\n",
       "      <td>2.4</td>\n",
       "    </tr>\n",
       "    <tr>\n",
       "      <th>4</th>\n",
       "      <td>Outer</td>\n",
       "      <td>137</td>\n",
       "      <td>Male</td>\n",
       "      <td>Male</td>\n",
       "      <td>UnID</td>\n",
       "      <td>2017-05-23</td>\n",
       "      <td>92.37</td>\n",
       "      <td>101.9</td>\n",
       "      <td>20.0</td>\n",
       "      <td>6.0</td>\n",
       "      <td>5.1</td>\n",
       "      <td>22.9</td>\n",
       "      <td>2.5</td>\n",
       "    </tr>\n",
       "  </tbody>\n",
       "</table>\n",
       "</div>"
      ],
      "text/plain": [
       "  Comparison Group  Count  Gender         Genus Specific Epithet  Trap Date  \\\n",
       "0       Peripheral      3  Female      Culiseta         inornata 2017-05-09   \n",
       "1             Core      3  Female      Culiseta         inornata 2017-05-09   \n",
       "2             Core      3  Female      Culiseta         inornata 2017-05-09   \n",
       "3             Core     13  Female  Ochlerotatus       Black legs 2017-05-16   \n",
       "4            Outer    137    Male          Male             UnID 2017-05-23   \n",
       "\n",
       "   pressure_station  pressure_sea  wind_dir_10s  wind_speed  dew_point  \\\n",
       "0             93.87         101.4          31.0         7.0        5.2   \n",
       "1             93.87         101.4          31.0         7.0        5.2   \n",
       "2             93.87         101.4          31.0         7.0        5.2   \n",
       "3             92.94         100.9          11.0        12.0        5.3   \n",
       "4             92.37         101.9          20.0         6.0        5.1   \n",
       "\n",
       "   temperature  health_index  \n",
       "0          6.3           2.7  \n",
       "1          6.3           2.7  \n",
       "2          6.3           2.7  \n",
       "3          2.4           2.4  \n",
       "4         22.9           2.5  "
      ]
     },
     "execution_count": 22,
     "metadata": {},
     "output_type": "execute_result"
    }
   ],
   "source": [
    "merged_data.head()"
   ]
  },
  {
   "cell_type": "code",
   "execution_count": 23,
   "metadata": {
    "scrolled": true
   },
   "outputs": [
    {
     "data": {
      "text/html": [
       "<div>\n",
       "<style scoped>\n",
       "    .dataframe tbody tr th:only-of-type {\n",
       "        vertical-align: middle;\n",
       "    }\n",
       "\n",
       "    .dataframe tbody tr th {\n",
       "        vertical-align: top;\n",
       "    }\n",
       "\n",
       "    .dataframe thead th {\n",
       "        text-align: right;\n",
       "    }\n",
       "</style>\n",
       "<table border=\"1\" class=\"dataframe\">\n",
       "  <thead>\n",
       "    <tr style=\"text-align: right;\">\n",
       "      <th></th>\n",
       "      <th>Comparison Group</th>\n",
       "      <th>Gender</th>\n",
       "      <th>Genus</th>\n",
       "      <th>Specific Epithet</th>\n",
       "      <th>Trap Date</th>\n",
       "      <th>pressure_station</th>\n",
       "      <th>pressure_sea</th>\n",
       "      <th>wind_dir_10s</th>\n",
       "      <th>wind_speed</th>\n",
       "      <th>dew_point</th>\n",
       "      <th>temperature</th>\n",
       "      <th>health_index</th>\n",
       "    </tr>\n",
       "  </thead>\n",
       "  <tbody>\n",
       "    <tr>\n",
       "      <th>0</th>\n",
       "      <td>Peripheral</td>\n",
       "      <td>Female</td>\n",
       "      <td>Culiseta</td>\n",
       "      <td>inornata</td>\n",
       "      <td>2017-05-09</td>\n",
       "      <td>93.87</td>\n",
       "      <td>101.4</td>\n",
       "      <td>31.0</td>\n",
       "      <td>7.0</td>\n",
       "      <td>5.2</td>\n",
       "      <td>6.3</td>\n",
       "      <td>2.7</td>\n",
       "    </tr>\n",
       "    <tr>\n",
       "      <th>1</th>\n",
       "      <td>Core</td>\n",
       "      <td>Female</td>\n",
       "      <td>Culiseta</td>\n",
       "      <td>inornata</td>\n",
       "      <td>2017-05-09</td>\n",
       "      <td>93.87</td>\n",
       "      <td>101.4</td>\n",
       "      <td>31.0</td>\n",
       "      <td>7.0</td>\n",
       "      <td>5.2</td>\n",
       "      <td>6.3</td>\n",
       "      <td>2.7</td>\n",
       "    </tr>\n",
       "    <tr>\n",
       "      <th>2</th>\n",
       "      <td>Core</td>\n",
       "      <td>Female</td>\n",
       "      <td>Culiseta</td>\n",
       "      <td>inornata</td>\n",
       "      <td>2017-05-09</td>\n",
       "      <td>93.87</td>\n",
       "      <td>101.4</td>\n",
       "      <td>31.0</td>\n",
       "      <td>7.0</td>\n",
       "      <td>5.2</td>\n",
       "      <td>6.3</td>\n",
       "      <td>2.7</td>\n",
       "    </tr>\n",
       "    <tr>\n",
       "      <th>3</th>\n",
       "      <td>Core</td>\n",
       "      <td>Female</td>\n",
       "      <td>Ochlerotatus</td>\n",
       "      <td>Black legs</td>\n",
       "      <td>2017-05-16</td>\n",
       "      <td>92.94</td>\n",
       "      <td>100.9</td>\n",
       "      <td>11.0</td>\n",
       "      <td>12.0</td>\n",
       "      <td>5.3</td>\n",
       "      <td>2.4</td>\n",
       "      <td>2.4</td>\n",
       "    </tr>\n",
       "    <tr>\n",
       "      <th>4</th>\n",
       "      <td>Outer</td>\n",
       "      <td>Male</td>\n",
       "      <td>Male</td>\n",
       "      <td>UnID</td>\n",
       "      <td>2017-05-23</td>\n",
       "      <td>92.37</td>\n",
       "      <td>101.9</td>\n",
       "      <td>20.0</td>\n",
       "      <td>6.0</td>\n",
       "      <td>5.1</td>\n",
       "      <td>22.9</td>\n",
       "      <td>2.5</td>\n",
       "    </tr>\n",
       "  </tbody>\n",
       "</table>\n",
       "</div>"
      ],
      "text/plain": [
       "  Comparison Group  Gender         Genus Specific Epithet  Trap Date  \\\n",
       "0       Peripheral  Female      Culiseta         inornata 2017-05-09   \n",
       "1             Core  Female      Culiseta         inornata 2017-05-09   \n",
       "2             Core  Female      Culiseta         inornata 2017-05-09   \n",
       "3             Core  Female  Ochlerotatus       Black legs 2017-05-16   \n",
       "4            Outer    Male          Male             UnID 2017-05-23   \n",
       "\n",
       "   pressure_station  pressure_sea  wind_dir_10s  wind_speed  dew_point  \\\n",
       "0             93.87         101.4          31.0         7.0        5.2   \n",
       "1             93.87         101.4          31.0         7.0        5.2   \n",
       "2             93.87         101.4          31.0         7.0        5.2   \n",
       "3             92.94         100.9          11.0        12.0        5.3   \n",
       "4             92.37         101.9          20.0         6.0        5.1   \n",
       "\n",
       "   temperature  health_index  \n",
       "0          6.3           2.7  \n",
       "1          6.3           2.7  \n",
       "2          6.3           2.7  \n",
       "3          2.4           2.4  \n",
       "4         22.9           2.5  "
      ]
     },
     "execution_count": 23,
     "metadata": {},
     "output_type": "execute_result"
    }
   ],
   "source": [
    "merged_data.drop(columns=['Count'], inplace=True)\n",
    "merged_data.head()"
   ]
  },
  {
   "cell_type": "code",
   "execution_count": 24,
   "metadata": {},
   "outputs": [
    {
     "data": {
      "text/plain": [
       "43"
      ]
     },
     "execution_count": 24,
     "metadata": {},
     "output_type": "execute_result"
    }
   ],
   "source": [
    "len(merged_data)"
   ]
  },
  {
   "cell_type": "code",
   "execution_count": 25,
   "metadata": {},
   "outputs": [
    {
     "data": {
      "text/plain": [
       "Comparison Group    0\n",
       "Gender              0\n",
       "Genus               0\n",
       "Specific Epithet    0\n",
       "Trap Date           0\n",
       "pressure_station    0\n",
       "pressure_sea        0\n",
       "wind_dir_10s        0\n",
       "wind_speed          0\n",
       "dew_point           0\n",
       "temperature         0\n",
       "health_index        0\n",
       "dtype: int64"
      ]
     },
     "execution_count": 25,
     "metadata": {},
     "output_type": "execute_result"
    }
   ],
   "source": [
    "merged_data.isnull().sum()"
   ]
  },
  {
   "cell_type": "code",
   "execution_count": 26,
   "metadata": {
    "scrolled": true
   },
   "outputs": [
    {
     "data": {
      "text/plain": [
       "Male      22\n",
       "Female    21\n",
       "Name: Gender, dtype: int64"
      ]
     },
     "execution_count": 26,
     "metadata": {},
     "output_type": "execute_result"
    }
   ],
   "source": [
    "merged_data['Gender'].value_counts()"
   ]
  },
  {
   "cell_type": "markdown",
   "metadata": {},
   "source": [
    "It can be seen that the dataset is balanced.\n",
    "\n",
    "## ADDING EXTRA FEATURES"
   ]
  },
  {
   "cell_type": "markdown",
   "metadata": {},
   "source": [
    "isWarm feature if the temperature is more than 20 degrees"
   ]
  },
  {
   "cell_type": "code",
   "execution_count": 27,
   "metadata": {},
   "outputs": [],
   "source": [
    "merged_data['isWarm'] = np.where(merged_data['temperature'] >= 20, 1, 0)"
   ]
  },
  {
   "cell_type": "markdown",
   "metadata": {},
   "source": [
    "isWindy feature if the windspeed is more than 25 mph"
   ]
  },
  {
   "cell_type": "code",
   "execution_count": 28,
   "metadata": {},
   "outputs": [],
   "source": [
    "merged_data['isWindy'] = np.where(merged_data['wind_speed'] >= 25, 1, 0)"
   ]
  },
  {
   "cell_type": "markdown",
   "metadata": {},
   "source": [
    "Ignore Genus and Specific Epither columns as they are not weather data"
   ]
  },
  {
   "cell_type": "code",
   "execution_count": 29,
   "metadata": {},
   "outputs": [],
   "source": [
    "# merged_data['Genus'] = merged_data['Genus'].astype('category')\n",
    "# merged_data['genusCat'] = merged_data['Genus'].cat.codes\n",
    "# merged_data = pd.concat([merged_data, pd.get_dummies(merged_data['Genus'])], axis=1)\n",
    "merged_data.drop(columns=['Genus'], inplace=True)"
   ]
  },
  {
   "cell_type": "code",
   "execution_count": 30,
   "metadata": {},
   "outputs": [],
   "source": [
    "# merged_data['Specific Epithet'] = merged_data['Specific Epithet'].astype('category')\n",
    "# merged_data['epithetCat'] = merged_data['Specific Epithet'].cat.codes\n",
    "# merged_data = pd.concat([merged_data, pd.get_dummies(merged_data['Specific Epithet'])], axis=1)\n",
    "merged_data.drop(columns=['Specific Epithet'], inplace=True)"
   ]
  },
  {
   "cell_type": "code",
   "execution_count": 31,
   "metadata": {},
   "outputs": [],
   "source": [
    "# merged_data['Comparison Group'] = merged_data['Comparison Group'].astype('category')\n",
    "# merged_data['compCat'] = merged_data['Comparison Group'].cat.codes\n",
    "# merged_data = pd.concat([merged_data, pd.get_dummies(merged_data['Comparison Group'])], axis=1)\n",
    "merged_data.drop(columns=['Comparison Group'], inplace=True)"
   ]
  },
  {
   "cell_type": "code",
   "execution_count": 32,
   "metadata": {},
   "outputs": [],
   "source": [
    "merged_data['genderCat'] = np.where(merged_data['Gender'] == \"Female\", 1, 0)\n",
    "merged_data.drop(columns=[\"Gender\"], inplace=True)"
   ]
  },
  {
   "cell_type": "markdown",
   "metadata": {},
   "source": [
    "delta_pressure is the difference between the station level pressure and the sea level pressure"
   ]
  },
  {
   "cell_type": "code",
   "execution_count": 33,
   "metadata": {},
   "outputs": [],
   "source": [
    "merged_data[\"delta_pressure\"] = merged_data.apply(lambda x: x['pressure_station'] - x['pressure_sea'], axis=1)"
   ]
  },
  {
   "cell_type": "code",
   "execution_count": 34,
   "metadata": {},
   "outputs": [],
   "source": [
    "merged_data.drop(columns=['Trap Date'], inplace=True)"
   ]
  },
  {
   "cell_type": "code",
   "execution_count": 35,
   "metadata": {},
   "outputs": [
    {
     "data": {
      "text/html": [
       "<div>\n",
       "<style scoped>\n",
       "    .dataframe tbody tr th:only-of-type {\n",
       "        vertical-align: middle;\n",
       "    }\n",
       "\n",
       "    .dataframe tbody tr th {\n",
       "        vertical-align: top;\n",
       "    }\n",
       "\n",
       "    .dataframe thead th {\n",
       "        text-align: right;\n",
       "    }\n",
       "</style>\n",
       "<table border=\"1\" class=\"dataframe\">\n",
       "  <thead>\n",
       "    <tr style=\"text-align: right;\">\n",
       "      <th></th>\n",
       "      <th>pressure_station</th>\n",
       "      <th>pressure_sea</th>\n",
       "      <th>wind_dir_10s</th>\n",
       "      <th>wind_speed</th>\n",
       "      <th>dew_point</th>\n",
       "      <th>temperature</th>\n",
       "      <th>health_index</th>\n",
       "      <th>isWarm</th>\n",
       "      <th>isWindy</th>\n",
       "      <th>genderCat</th>\n",
       "      <th>delta_pressure</th>\n",
       "    </tr>\n",
       "  </thead>\n",
       "  <tbody>\n",
       "    <tr>\n",
       "      <th>0</th>\n",
       "      <td>93.87</td>\n",
       "      <td>101.4</td>\n",
       "      <td>31.0</td>\n",
       "      <td>7.0</td>\n",
       "      <td>5.2</td>\n",
       "      <td>6.3</td>\n",
       "      <td>2.7</td>\n",
       "      <td>0</td>\n",
       "      <td>0</td>\n",
       "      <td>1</td>\n",
       "      <td>-7.53</td>\n",
       "    </tr>\n",
       "    <tr>\n",
       "      <th>1</th>\n",
       "      <td>93.87</td>\n",
       "      <td>101.4</td>\n",
       "      <td>31.0</td>\n",
       "      <td>7.0</td>\n",
       "      <td>5.2</td>\n",
       "      <td>6.3</td>\n",
       "      <td>2.7</td>\n",
       "      <td>0</td>\n",
       "      <td>0</td>\n",
       "      <td>1</td>\n",
       "      <td>-7.53</td>\n",
       "    </tr>\n",
       "    <tr>\n",
       "      <th>2</th>\n",
       "      <td>93.87</td>\n",
       "      <td>101.4</td>\n",
       "      <td>31.0</td>\n",
       "      <td>7.0</td>\n",
       "      <td>5.2</td>\n",
       "      <td>6.3</td>\n",
       "      <td>2.7</td>\n",
       "      <td>0</td>\n",
       "      <td>0</td>\n",
       "      <td>1</td>\n",
       "      <td>-7.53</td>\n",
       "    </tr>\n",
       "    <tr>\n",
       "      <th>3</th>\n",
       "      <td>92.94</td>\n",
       "      <td>100.9</td>\n",
       "      <td>11.0</td>\n",
       "      <td>12.0</td>\n",
       "      <td>5.3</td>\n",
       "      <td>2.4</td>\n",
       "      <td>2.4</td>\n",
       "      <td>0</td>\n",
       "      <td>0</td>\n",
       "      <td>1</td>\n",
       "      <td>-7.96</td>\n",
       "    </tr>\n",
       "    <tr>\n",
       "      <th>4</th>\n",
       "      <td>92.37</td>\n",
       "      <td>101.9</td>\n",
       "      <td>20.0</td>\n",
       "      <td>6.0</td>\n",
       "      <td>5.1</td>\n",
       "      <td>22.9</td>\n",
       "      <td>2.5</td>\n",
       "      <td>1</td>\n",
       "      <td>0</td>\n",
       "      <td>0</td>\n",
       "      <td>-9.53</td>\n",
       "    </tr>\n",
       "  </tbody>\n",
       "</table>\n",
       "</div>"
      ],
      "text/plain": [
       "   pressure_station  pressure_sea  wind_dir_10s  wind_speed  dew_point  \\\n",
       "0             93.87         101.4          31.0         7.0        5.2   \n",
       "1             93.87         101.4          31.0         7.0        5.2   \n",
       "2             93.87         101.4          31.0         7.0        5.2   \n",
       "3             92.94         100.9          11.0        12.0        5.3   \n",
       "4             92.37         101.9          20.0         6.0        5.1   \n",
       "\n",
       "   temperature  health_index  isWarm  isWindy  genderCat  delta_pressure  \n",
       "0          6.3           2.7       0        0          1           -7.53  \n",
       "1          6.3           2.7       0        0          1           -7.53  \n",
       "2          6.3           2.7       0        0          1           -7.53  \n",
       "3          2.4           2.4       0        0          1           -7.96  \n",
       "4         22.9           2.5       1        0          0           -9.53  "
      ]
     },
     "execution_count": 35,
     "metadata": {},
     "output_type": "execute_result"
    }
   ],
   "source": [
    "merged_data.head()"
   ]
  },
  {
   "cell_type": "markdown",
   "metadata": {},
   "source": [
    "# Classification"
   ]
  },
  {
   "cell_type": "markdown",
   "metadata": {},
   "source": [
    "## General overview of all available models"
   ]
  },
  {
   "cell_type": "code",
   "execution_count": 36,
   "metadata": {},
   "outputs": [],
   "source": [
    "from sklearn.tree import DecisionTreeClassifier\n",
    "from sklearn.model_selection import train_test_split, KFold, cross_val_score, GridSearchCV\n",
    "from sklearn.ensemble import RandomForestClassifier, AdaBoostClassifier, BaggingClassifier, ExtraTreesClassifier\n",
    "from sklearn.linear_model import LogisticRegression\n",
    "from sklearn.svm import SVC\n",
    "from sklearn.neighbors import KNeighborsClassifier\n",
    "#from xgboost import XGBClassifier, plot_importance "
   ]
  },
  {
   "cell_type": "code",
   "execution_count": 37,
   "metadata": {},
   "outputs": [],
   "source": [
    "X = merged_data.loc[:, merged_data.columns != 'genderCat']\n",
    "y = merged_data['genderCat']"
   ]
  },
  {
   "cell_type": "code",
   "execution_count": 38,
   "metadata": {},
   "outputs": [],
   "source": [
    "npX = np.array(X).copy()\n",
    "npy = np.array(y).copy()"
   ]
  },
  {
   "cell_type": "code",
   "execution_count": 39,
   "metadata": {},
   "outputs": [],
   "source": [
    "clf_rf = RandomForestClassifier()\n",
    "clf_et = ExtraTreesClassifier()\n",
    "clf_bc = BaggingClassifier()\n",
    "clf_ada = AdaBoostClassifier()\n",
    "clf_dt = DecisionTreeClassifier()\n",
    "#clf_xg = XGBClassifier()\n",
    "clf_lr = LogisticRegression()\n",
    "clf_svm = SVC()"
   ]
  },
  {
   "cell_type": "code",
   "execution_count": 40,
   "metadata": {},
   "outputs": [],
   "source": [
    "#Classifiers = ['RandomForest','ExtraTrees','Bagging','AdaBoost','DecisionTree','XGBoost','SVM']\n",
    "Classifiers = ['RandomForest','ExtraTrees','Bagging','AdaBoost','DecisionTree','SVM']\n",
    "scores = []\n",
    "#models = [clf_rf, clf_et, clf_bc, clf_ada, clf_dt, clf_xg, clf_svm]\n",
    "models = [clf_rf, clf_et, clf_bc, clf_ada, clf_dt, clf_svm]\n",
    "for model in models:\n",
    "    score = cross_val_score(model, npX, npy, scoring = 'accuracy', cv = 10, n_jobs = 1).mean()\n",
    "    scores.append(score)"
   ]
  },
  {
   "cell_type": "code",
   "execution_count": 41,
   "metadata": {},
   "outputs": [
    {
     "data": {
      "text/html": [
       "<div>\n",
       "<style scoped>\n",
       "    .dataframe tbody tr th:only-of-type {\n",
       "        vertical-align: middle;\n",
       "    }\n",
       "\n",
       "    .dataframe tbody tr th {\n",
       "        vertical-align: top;\n",
       "    }\n",
       "\n",
       "    .dataframe thead th {\n",
       "        text-align: right;\n",
       "    }\n",
       "</style>\n",
       "<table border=\"1\" class=\"dataframe\">\n",
       "  <thead>\n",
       "    <tr style=\"text-align: right;\">\n",
       "      <th></th>\n",
       "      <th>score</th>\n",
       "    </tr>\n",
       "  </thead>\n",
       "  <tbody>\n",
       "    <tr>\n",
       "      <th>Bagging</th>\n",
       "      <td>0.610000</td>\n",
       "    </tr>\n",
       "    <tr>\n",
       "      <th>DecisionTree</th>\n",
       "      <td>0.560000</td>\n",
       "    </tr>\n",
       "    <tr>\n",
       "      <th>AdaBoost</th>\n",
       "      <td>0.540000</td>\n",
       "    </tr>\n",
       "    <tr>\n",
       "      <th>ExtraTrees</th>\n",
       "      <td>0.535000</td>\n",
       "    </tr>\n",
       "    <tr>\n",
       "      <th>SVM</th>\n",
       "      <td>0.535000</td>\n",
       "    </tr>\n",
       "    <tr>\n",
       "      <th>RandomForest</th>\n",
       "      <td>0.493333</td>\n",
       "    </tr>\n",
       "  </tbody>\n",
       "</table>\n",
       "</div>"
      ],
      "text/plain": [
       "                 score\n",
       "Bagging       0.610000\n",
       "DecisionTree  0.560000\n",
       "AdaBoost      0.540000\n",
       "ExtraTrees    0.535000\n",
       "SVM           0.535000\n",
       "RandomForest  0.493333"
      ]
     },
     "execution_count": 41,
     "metadata": {},
     "output_type": "execute_result"
    }
   ],
   "source": [
    "mode = pd.DataFrame(scores, index = Classifiers, columns = ['score']).sort_values(by = 'score',\n",
    "             ascending = False)\n",
    "mode"
   ]
  },
  {
   "cell_type": "markdown",
   "metadata": {},
   "source": [
    "## Logistic Regression"
   ]
  },
  {
   "cell_type": "code",
   "execution_count": 42,
   "metadata": {},
   "outputs": [],
   "source": [
    "from sklearn.pipeline import Pipeline\n",
    "from sklearn.preprocessing import PolynomialFeatures\n",
    "from sklearn.linear_model import LogisticRegression\n",
    "from sklearn.model_selection import cross_val_score\n",
    "from sklearn.metrics import mean_squared_error\n",
    "from sklearn.feature_selection import RFE\n",
    "from sklearn.feature_selection import RFECV"
   ]
  },
  {
   "cell_type": "code",
   "execution_count": 43,
   "metadata": {},
   "outputs": [],
   "source": [
    "X = merged_data.loc[:, merged_data.columns != 'genderCat']\n",
    "y = merged_data['genderCat']"
   ]
  },
  {
   "cell_type": "markdown",
   "metadata": {},
   "source": [
    "### Feature Selection"
   ]
  },
  {
   "cell_type": "markdown",
   "metadata": {},
   "source": [
    "#### Recursive feature elimination\n",
    "\n",
    "By assiging weights to features and eliminating the features by recursively training a base model, the best features are selected."
   ]
  },
  {
   "cell_type": "code",
   "execution_count": 44,
   "metadata": {
    "scrolled": true
   },
   "outputs": [
    {
     "name": "stdout",
     "output_type": "stream",
     "text": [
      "Selected features: ['pressure_station', 'pressure_sea', 'wind_speed', 'dew_point', 'temperature', 'health_index', 'isWarm', 'delta_pressure']\n"
     ]
    }
   ],
   "source": [
    "model_lr = LogisticRegression()\n",
    "rfe = RFE(model_lr, 8)\n",
    "rfe = rfe.fit(X, y)\n",
    "print('Selected features: %s' % list(X.columns[rfe.support_]))"
   ]
  },
  {
   "cell_type": "markdown",
   "metadata": {},
   "source": [
    "#### Recursive feature elimination and cross-validation\n",
    "Performs RFE with a 10-fold cross validation loop to find the best number of features and the selected ones"
   ]
  },
  {
   "cell_type": "code",
   "execution_count": 45,
   "metadata": {},
   "outputs": [
    {
     "name": "stdout",
     "output_type": "stream",
     "text": [
      "Best number of features: 7\n",
      "Selected features are : ['pressure_station', 'pressure_sea', 'wind_speed', 'dew_point', 'health_index', 'isWarm', 'delta_pressure']\n"
     ]
    }
   ],
   "source": [
    "rfecv = RFECV(estimator=LogisticRegression(), step=1, cv=10, scoring='accuracy')\n",
    "rfecv.fit(X, y)\n",
    "print(\"Best number of features: %d\" % rfecv.n_features_)\n",
    "print('Selected features are : %s' % list(X.columns[rfecv.support_]))"
   ]
  },
  {
   "cell_type": "code",
   "execution_count": 46,
   "metadata": {},
   "outputs": [
    {
     "data": {
      "image/png": "[encoded data removed]",
      "text/plain": [
       "<Figure size 720x432 with 1 Axes>"
      ]
     },
     "metadata": {
      "needs_background": "light"
     },
     "output_type": "display_data"
    }
   ],
   "source": [
    "plt.figure(figsize=(10,6))\n",
    "plt.xlabel(\"Features selected number\")\n",
    "plt.ylabel(\"Cross validation score\")\n",
    "plt.plot(range(1, len(rfecv.grid_scores_) + 1), rfecv.grid_scores_)\n",
    "plt.show()"
   ]
  },
  {
   "cell_type": "markdown",
   "metadata": {},
   "source": [
    "#### Correlation matrix on selected features"
   ]
  },
  {
   "cell_type": "code",
   "execution_count": 47,
   "metadata": {
    "scrolled": false
   },
   "outputs": [
    {
     "data": {
      "image/png": "[encoded data removed]",
      "text/plain": [
       "<Figure size 576x360 with 2 Axes>"
      ]
     },
     "metadata": {
      "needs_background": "light"
     },
     "output_type": "display_data"
    }
   ],
   "source": [
    "Selected_features = list(X.columns[rfecv.support_])\n",
    "\n",
    "X_log = X[Selected_features]\n",
    "\n",
    "plt.subplots(figsize=(8, 5))\n",
    "sns.heatmap(X_log.corr(), annot=True, cmap=\"RdYlGn\")\n",
    "plt.show()"
   ]
  },
  {
   "cell_type": "markdown",
   "metadata": {},
   "source": [
    "### Model Evaluation"
   ]
  },
  {
   "cell_type": "markdown",
   "metadata": {},
   "source": [
    "Using train-test split and cross validation score and also by using the whole dataset."
   ]
  },
  {
   "cell_type": "code",
   "execution_count": 48,
   "metadata": {},
   "outputs": [
    {
     "name": "stdout",
     "output_type": "stream",
     "text": [
      "LogisticRegression accuracy = 0.556\n",
      "LogisticRegression log_loss = 0.515\n",
      "LogisticRegression auc = 0.800\n"
     ]
    },
    {
     "data": {
      "image/png": "[encoded data removed]",
      "text/plain": [
       "<Figure size 432x288 with 1 Axes>"
      ]
     },
     "metadata": {
      "needs_background": "light"
     },
     "output_type": "display_data"
    },
    {
     "name": "stdout",
     "output_type": "stream",
     "text": [
      "Threshold = 0.473 guarantees a sensitivity = 1.000 , specificity = 0.600 and false positive rate = 40.00%.\n"
     ]
    }
   ],
   "source": [
    "from sklearn.model_selection import train_test_split, cross_val_score\n",
    "from sklearn.metrics import accuracy_score, classification_report, precision_score, recall_score \n",
    "from sklearn.metrics import confusion_matrix, precision_recall_curve, roc_curve, auc, log_loss\n",
    "\n",
    "X_train, X_test, y_train, y_test = train_test_split(X_log, y, test_size=0.2, random_state=2)\n",
    "\n",
    "logreg = LogisticRegression()\n",
    "logreg.fit(X_train, y_train)\n",
    "y_pred = logreg.predict(X_test)\n",
    "y_pred_prob = logreg.predict_proba(X_test)[:, 1]\n",
    "[fpr, tpr, thr] = roc_curve(y_test, y_pred_prob)\n",
    "print(logreg.__class__.__name__+\" accuracy = %2.3f\" % accuracy_score(y_test, y_pred))\n",
    "print(logreg.__class__.__name__+\" log_loss = %2.3f\" % log_loss(y_test, y_pred_prob))\n",
    "print(logreg.__class__.__name__+\" auc = %2.3f\" % auc(fpr, tpr))\n",
    "\n",
    "idx = np.min(np.where(tpr > 0.95)) #index of sensibility > 0.95\n",
    "\n",
    "plt.figure()\n",
    "plt.plot(fpr, tpr, color='coral', label='ROC curve (area = %0.3f)' % auc(fpr, tpr))\n",
    "plt.plot([0, 1], [0, 1], 'k--')\n",
    "plt.plot([0,fpr[idx]], [tpr[idx],tpr[idx]], 'k--', color='blue')\n",
    "plt.plot([fpr[idx],fpr[idx]], [0,tpr[idx]], 'k--', color='blue')\n",
    "plt.xlim([0.0, 1.0])\n",
    "plt.ylim([0.0, 1.05])\n",
    "plt.xlabel('False Positive Rate', fontsize=14)\n",
    "plt.ylabel('True Positive Rate', fontsize=14)\n",
    "plt.title('ROC curve')\n",
    "plt.legend(loc=\"lower right\")\n",
    "plt.show()\n",
    "\n",
    "print(\"Threshold = %.3f \" % thr[idx] + \"guarantees a sensitivity = %.3f \" % tpr[idx] +  \n",
    "      \", specificity = %.3f\" % (1-fpr[idx]) + \n",
    "      \" and false positive rate = %.2f%%.\" % (np.array(fpr[idx])*100))"
   ]
  },
  {
   "cell_type": "markdown",
   "metadata": {},
   "source": [
    "10-fold cross validation"
   ]
  },
  {
   "cell_type": "code",
   "execution_count": 49,
   "metadata": {},
   "outputs": [
    {
     "name": "stdout",
     "output_type": "stream",
     "text": [
      "LogisticRegression average accuracy = 0.548\n",
      "LogisticRegression average log_loss = 0.697\n",
      "LogisticRegression average auc = 0.683\n"
     ]
    }
   ],
   "source": [
    "logreg = LogisticRegression()\n",
    "scores_accuracy = cross_val_score(logreg, X_log, y, cv=10, scoring='accuracy')\n",
    "scores_log_loss = cross_val_score(logreg, X_log, y, cv=10, scoring='neg_log_loss')\n",
    "scores_auc = cross_val_score(logreg, X_log, y, cv=10, scoring='roc_auc')\n",
    "\n",
    "print(logreg.__class__.__name__+\" average accuracy = %2.3f\" % scores_accuracy.mean())\n",
    "print(logreg.__class__.__name__+\" average log_loss = %2.3f\" % -scores_log_loss.mean())\n",
    "print(logreg.__class__.__name__+\" average auc = %2.3f\" % scores_auc.mean())"
   ]
  },
  {
   "cell_type": "code",
   "execution_count": 50,
   "metadata": {},
   "outputs": [
    {
     "name": "stdout",
     "output_type": "stream",
     "text": [
      "LogisticRegression average accuracy: 0.548 (+/-0.265)\n",
      "LogisticRegression average log_loss: 0.697 (+/-0.293)\n",
      "LogisticRegression average auc: 0.683 (+/-0.331)\n"
     ]
    }
   ],
   "source": [
    "from sklearn.model_selection import cross_validate\n",
    "\n",
    "scoring = {'accuracy': 'accuracy', 'log_loss': 'neg_log_loss', 'auc': 'roc_auc'}\n",
    "\n",
    "modelCV = LogisticRegression()\n",
    "\n",
    "results = cross_validate(modelCV, X_log, y, cv=10, scoring=list(scoring.values()), \n",
    "                         return_train_score=False)\n",
    "for sc in range(len(scoring)):\n",
    "    print(modelCV.__class__.__name__+\" average %s: %.3f (+/-%.3f)\" % (list(scoring.keys())[sc], -results['test_%s' % list(scoring.values())[sc]].mean()\n",
    "                               if list(scoring.values())[sc]=='neg_log_loss' \n",
    "                               else results['test_%s' % list(scoring.values())[sc]].mean(), \n",
    "                               results['test_%s' % list(scoring.values())[sc]].std()))"
   ]
  },
  {
   "cell_type": "code",
   "execution_count": 51,
   "metadata": {},
   "outputs": [
    {
     "data": {
      "text/plain": [
       "{'fit_time': array([0.00124717, 0.00111437, 0.00111222, 0.00112629, 0.0011189 ,\n",
       "        0.00111747, 0.00111675, 0.00110912, 0.00111961, 0.00111675]),\n",
       " 'score_time': array([0.00260186, 0.0025413 , 0.0025425 , 0.00253272, 0.0025301 ,\n",
       "        0.00253057, 0.00252914, 0.00252724, 0.00253105, 0.00252509]),\n",
       " 'test_accuracy': array([0.33333333, 0.4       , 1.        , 0.75      , 0.75      ,\n",
       "        0.75      , 0.25      , 0.75      , 0.25      , 0.25      ]),\n",
       " 'test_neg_log_loss': array([-0.65287608, -0.62836102, -0.48116278, -0.65388   , -0.4767613 ,\n",
       "        -0.42147104, -1.40321778, -0.46594442, -0.73525845, -1.04947833]),\n",
       " 'test_roc_auc': array([0.66666667, 0.66666667, 1.        , 0.75      , 1.        ,\n",
       "        1.        , 0.        , 1.        , 0.5       , 0.25      ])}"
      ]
     },
     "execution_count": 51,
     "metadata": {},
     "output_type": "execute_result"
    }
   ],
   "source": [
    "results"
   ]
  },
  {
   "cell_type": "markdown",
   "metadata": {},
   "source": [
    "GridSearchCV method by testing different params"
   ]
  },
  {
   "cell_type": "code",
   "execution_count": 52,
   "metadata": {},
   "outputs": [
    {
     "name": "stdout",
     "output_type": "stream",
     "text": [
      "best params: LogisticRegression(C=0.10001, class_weight=None, dual=False,\n",
      "          fit_intercept=True, intercept_scaling=1, max_iter=100,\n",
      "          multi_class='warn', n_jobs=None, penalty='l2', random_state=None,\n",
      "          solver='warn', tol=0.0001, verbose=0, warm_start=False)\n",
      "best params: {'C': 0.10001}\n",
      "best score: 0.5813953488372093\n"
     ]
    },
    {
     "data": {
      "image/png": "[encoded data removed]",
      "text/plain": [
       "<Figure size 720x720 with 1 Axes>"
      ]
     },
     "metadata": {
      "needs_background": "light"
     },
     "output_type": "display_data"
    }
   ],
   "source": [
    "from sklearn.model_selection import GridSearchCV\n",
    "\n",
    "param_grid = {'C': np.arange(1e-05, 3, 0.1)}\n",
    "scoring = {'Accuracy': 'accuracy', 'AUC': 'roc_auc', 'Log_loss': 'neg_log_loss'}\n",
    "\n",
    "gs = GridSearchCV(LogisticRegression(), return_train_score=True,\n",
    "                  param_grid=param_grid, scoring=scoring, cv=10, refit='Accuracy')\n",
    "\n",
    "gs.fit(X_log, y)\n",
    "results = gs.cv_results_\n",
    "\n",
    "print(\"best params: \" + str(gs.best_estimator_))\n",
    "print(\"best params: \" + str(gs.best_params_))\n",
    "print('best score:', gs.best_score_)\n",
    "\n",
    "plt.figure(figsize=(10, 10))\n",
    "plt.title(\"GridSearchCV\",fontsize=16)\n",
    "\n",
    "plt.xlabel(\"C\")\n",
    "plt.ylabel(\"Score\")\n",
    "plt.grid()\n",
    "\n",
    "ax = plt.axes()\n",
    "ax.set_xlim(0, param_grid['C'].max()) \n",
    "ax.set_ylim(0.35, 0.95)\n",
    "\n",
    "\n",
    "X_axis = np.array(results['param_C'].data, dtype=float)\n",
    "\n",
    "for scorer, color in zip(list(scoring.keys()), ['g', 'k', 'b']): \n",
    "    for sample, style in (('train', '--'), ('test', '-')):\n",
    "        sample_score_mean = -results['mean_%s_%s' % (sample, scorer)] if scoring[scorer]=='neg_log_loss' else results['mean_%s_%s' % (sample, scorer)]\n",
    "        sample_score_std = results['std_%s_%s' % (sample, scorer)]\n",
    "        ax.fill_between(X_axis, sample_score_mean - sample_score_std,\n",
    "                        sample_score_mean + sample_score_std,\n",
    "                        alpha=0.1 if sample == 'test' else 0, color=color)\n",
    "        ax.plot(X_axis, sample_score_mean, style, color=color,\n",
    "                alpha=1 if sample == 'test' else 0.7,\n",
    "                label=\"%s (%s)\" % (scorer, sample))\n",
    "\n",
    "    best_index = np.nonzero(results['rank_test_%s' % scorer] == 1)[0][0]\n",
    "    best_score = -results['mean_test_%s' % scorer][best_index] if scoring[scorer]=='neg_log_loss' else results['mean_test_%s' % scorer][best_index]\n",
    "        \n",
    "\n",
    "    ax.plot([X_axis[best_index], ] * 2, [0, best_score],\n",
    "            linestyle='-.', color=color, marker='x', markeredgewidth=3, ms=8)\n",
    "\n",
    "\n",
    "    ax.annotate(\"%0.2f\" % best_score,\n",
    "                (X_axis[best_index], best_score + 0.005))\n",
    "\n",
    "plt.legend(loc=\"best\")\n",
    "plt.grid('off')\n",
    "plt.show()"
   ]
  },
  {
   "cell_type": "code",
   "execution_count": 53,
   "metadata": {},
   "outputs": [
    {
     "name": "stdout",
     "output_type": "stream",
     "text": [
      "best params: Pipeline(memory=None,\n",
      "     steps=[('scale', StandardScaler(copy=True, with_mean=False, with_std=False)), ('clf', LogisticRegression(C=2.10001, class_weight=None, dual=False,\n",
      "          fit_intercept=True, intercept_scaling=1, max_iter=100,\n",
      "          multi_class='warn', n_jobs=None, penalty='l2', random_state=None,\n",
      "          solver='warn', tol=0.0001, verbose=0, warm_start=False))])\n",
      "best params: {'clf__C': 2.10001}\n",
      "best score: 0.6697674418604651\n"
     ]
    },
    {
     "data": {
      "image/png": "[encoded data removed]",
      "text/plain": [
       "<Figure size 720x720 with 1 Axes>"
      ]
     },
     "metadata": {
      "needs_background": "light"
     },
     "output_type": "display_data"
    }
   ],
   "source": [
    "from sklearn.preprocessing import StandardScaler\n",
    "from sklearn.model_selection import RepeatedStratifiedKFold\n",
    "from sklearn.pipeline import Pipeline\n",
    "\n",
    "C = np.arange(1e-05, 5.5, 0.1)\n",
    "scoring = {'Accuracy': 'accuracy', 'AUC': 'roc_auc', 'Log_loss': 'neg_log_loss'}\n",
    "log_reg = LogisticRegression()\n",
    "\n",
    "\n",
    "std_scale = StandardScaler(with_mean=False, with_std=False)\n",
    "\n",
    "n_folds=5\n",
    "n_repeats=5\n",
    "\n",
    "rskfold = RepeatedStratifiedKFold(n_splits=n_folds, n_repeats=n_repeats, random_state=2)\n",
    "\n",
    "\n",
    "log_clf_pipe = Pipeline(steps=[('scale',std_scale), ('clf',log_reg)])\n",
    "\n",
    "log_clf = GridSearchCV(estimator=log_clf_pipe, cv=rskfold,\n",
    "              scoring=scoring, return_train_score=True,\n",
    "              param_grid=dict(clf__C=C), refit='Accuracy')\n",
    "\n",
    "log_clf.fit(X_log, y)\n",
    "results = log_clf.cv_results_\n",
    "\n",
    "print(\"best params: \" + str(log_clf.best_estimator_))\n",
    "print(\"best params: \" + str(log_clf.best_params_))\n",
    "print('best score:', log_clf.best_score_)\n",
    "\n",
    "plt.figure(figsize=(10, 10))\n",
    "plt.title(\"GridSearchCV\",fontsize=16)\n",
    "\n",
    "plt.xlabel(\"C\")\n",
    "plt.ylabel(\"Score\")\n",
    "plt.grid()\n",
    "\n",
    "ax = plt.axes()\n",
    "ax.set_xlim(0, C.max()) \n",
    "ax.set_ylim(0.35, 0.95)\n",
    "\n",
    "# Get the regular numpy array from the MaskedArray\n",
    "X_axis = np.array(results['param_clf__C'].data, dtype=float)\n",
    "\n",
    "for scorer, color in zip(list(scoring.keys()), ['g', 'k', 'b']): \n",
    "    for sample, style in (('train', '--'), ('test', '-')):\n",
    "        sample_score_mean = -results['mean_%s_%s' % (sample, scorer)] if scoring[scorer]=='neg_log_loss' else results['mean_%s_%s' % (sample, scorer)]\n",
    "        sample_score_std = results['std_%s_%s' % (sample, scorer)]\n",
    "        ax.fill_between(X_axis, sample_score_mean - sample_score_std,\n",
    "                        sample_score_mean + sample_score_std,\n",
    "                        alpha=0.1 if sample == 'test' else 0, color=color)\n",
    "        ax.plot(X_axis, sample_score_mean, style, color=color,\n",
    "                alpha=1 if sample == 'test' else 0.7,\n",
    "                label=\"%s (%s)\" % (scorer, sample))\n",
    "\n",
    "    best_index = np.nonzero(results['rank_test_%s' % scorer] == 1)[0][0]\n",
    "    best_score = -results['mean_test_%s' % scorer][best_index] if scoring[scorer]=='neg_log_loss' else results['mean_test_%s' % scorer][best_index]\n",
    "        \n",
    "    # Plot a dotted vertical line at the best score for that scorer marked by x\n",
    "    ax.plot([X_axis[best_index], ] * 2, [0, best_score],\n",
    "            linestyle='-.', color=color, marker='x', markeredgewidth=3, ms=8)\n",
    "\n",
    "    # Annotate the best score for that scorer\n",
    "    ax.annotate(\"%0.2f\" % best_score,\n",
    "                (X_axis[best_index], best_score + 0.005))\n",
    "\n",
    "plt.legend(loc=\"best\")\n",
    "plt.grid('off')\n",
    "plt.show()"
   ]
  },
  {
   "cell_type": "markdown",
   "metadata": {},
   "source": [
    "## SVM"
   ]
  },
  {
   "cell_type": "code",
   "execution_count": 54,
   "metadata": {},
   "outputs": [],
   "source": [
    "parameters_svm = {'C':[0.9,0.01],'kernel':['rbf','linear'], 'gamma':[0,0.1,'auto'], 'probability':[True],\n",
    "                  'random_state':[0,7,16],'decision_function_shape':['ovo','ovr'],'degree':[3,4,10]}"
   ]
  },
  {
   "cell_type": "code",
   "execution_count": 55,
   "metadata": {},
   "outputs": [],
   "source": [
    "X = merged_data.loc[:, merged_data.columns != 'genderCat']\n",
    "y = merged_data['genderCat']"
   ]
  },
  {
   "cell_type": "markdown",
   "metadata": {},
   "source": [
    "### Model Evaluation\n",
    "\n",
    "train-test split"
   ]
  },
  {
   "cell_type": "code",
   "execution_count": 56,
   "metadata": {
    "scrolled": true
   },
   "outputs": [
    {
     "name": "stdout",
     "output_type": "stream",
     "text": [
      "SVC accuracy = 0.667\n",
      "SVC log_loss = 0.884\n",
      "SVC auc = 0.200\n"
     ]
    },
    {
     "data": {
      "image/png": "[encoded data removed]",
      "text/plain": [
       "<Figure size 432x288 with 1 Axes>"
      ]
     },
     "metadata": {
      "needs_background": "light"
     },
     "output_type": "display_data"
    },
    {
     "name": "stdout",
     "output_type": "stream",
     "text": [
      "Threshold = 0.198 guarantees a sensitivity = 1.000 , specificity = 0.000 and false positive rate = 100.00%.\n"
     ]
    }
   ],
   "source": [
    "from sklearn.model_selection import train_test_split, cross_val_score\n",
    "from sklearn.metrics import accuracy_score, classification_report, precision_score, recall_score \n",
    "from sklearn.metrics import confusion_matrix, precision_recall_curve, roc_curve, auc, log_loss\n",
    "\n",
    "X_train, X_test, y_train, y_test = train_test_split(X, y, test_size=0.2, random_state=2)\n",
    "\n",
    "sv = SVC(probability=True)\n",
    "sv.fit(X_train, y_train)\n",
    "y_pred = sv.predict(X_test)\n",
    "y_pred_prob = sv.predict_proba(X_test)[:, 1]\n",
    "[fpr, tpr, thr] = roc_curve(y_test, y_pred_prob)\n",
    "print(sv.__class__.__name__+\" accuracy = %2.3f\" % accuracy_score(y_test, y_pred))\n",
    "print(sv.__class__.__name__+\" log_loss = %2.3f\" % log_loss(y_test, y_pred_prob))\n",
    "print(sv.__class__.__name__+\" auc = %2.3f\" % auc(fpr, tpr))\n",
    "\n",
    "idx = np.min(np.where(tpr > 0.95)) #index of sensibility > 0.95\n",
    "\n",
    "plt.figure()\n",
    "plt.plot(fpr, tpr, color='coral', label='ROC curve (area = %0.3f)' % auc(fpr, tpr))\n",
    "plt.plot([0, 1], [0, 1], 'k--')\n",
    "plt.plot([0,fpr[idx]], [tpr[idx],tpr[idx]], 'k--', color='blue')\n",
    "plt.plot([fpr[idx],fpr[idx]], [0,tpr[idx]], 'k--', color='blue')\n",
    "plt.xlim([0.0, 1.0])\n",
    "plt.ylim([0.0, 1.05])\n",
    "plt.xlabel('False Positive Rate', fontsize=14)\n",
    "plt.ylabel('True Positive Rate', fontsize=14)\n",
    "plt.title('ROC curve')\n",
    "plt.legend(loc=\"lower right\")\n",
    "plt.show()\n",
    "\n",
    "print(\"Threshold = %.3f \" % thr[idx] + \"guarantees a sensitivity = %.3f \" % tpr[idx] +  \n",
    "      \", specificity = %.3f\" % (1-fpr[idx]) + \n",
    "      \" and false positive rate = %.2f%%.\" % (np.array(fpr[idx])*100))"
   ]
  },
  {
   "cell_type": "markdown",
   "metadata": {},
   "source": [
    "10-fold cross validation"
   ]
  },
  {
   "cell_type": "code",
   "execution_count": 57,
   "metadata": {
    "scrolled": true
   },
   "outputs": [
    {
     "name": "stdout",
     "output_type": "stream",
     "text": [
      "SVC average accuracy = 0.535\n",
      "SVC average log_loss = 0.738\n",
      "SVC average auc = 0.500\n"
     ]
    }
   ],
   "source": [
    "sv = SVC(probability=True)\n",
    "scores_accuracy = cross_val_score(sv, X, y, cv=10, scoring='accuracy')\n",
    "scores_log_loss = cross_val_score(sv, X, y, cv=10, scoring='neg_log_loss')\n",
    "scores_auc = cross_val_score(sv, X, y, cv=10, scoring='roc_auc')\n",
    "\n",
    "print(sv.__class__.__name__+\" average accuracy = %2.3f\" % scores_accuracy.mean())\n",
    "print(sv.__class__.__name__+\" average log_loss = %2.3f\" % -scores_log_loss.mean())\n",
    "print(sv.__class__.__name__+\" average auc = %2.3f\" % scores_auc.mean())"
   ]
  },
  {
   "cell_type": "code",
   "execution_count": 58,
   "metadata": {},
   "outputs": [
    {
     "name": "stdout",
     "output_type": "stream",
     "text": [
      "SVC average accuracy: 0.535 (+/-0.209)\n",
      "SVC average log_loss: 0.704 (+/-0.048)\n",
      "SVC average auc: 0.500 (+/-0.325)\n"
     ]
    }
   ],
   "source": [
    "from sklearn.model_selection import cross_validate\n",
    "\n",
    "scoring = {'accuracy': 'accuracy', 'log_loss': 'neg_log_loss', 'auc': 'roc_auc'}\n",
    "\n",
    "modelCV = SVC(probability=True)\n",
    "\n",
    "results = cross_validate(modelCV, X, y, cv=10, scoring=list(scoring.values()), \n",
    "                         return_train_score=False)\n",
    "for sc in range(len(scoring)):\n",
    "    print(modelCV.__class__.__name__+\" average %s: %.3f (+/-%.3f)\" % (list(scoring.keys())[sc], -results['test_%s' % list(scoring.values())[sc]].mean()\n",
    "                               if list(scoring.values())[sc]=='neg_log_loss' \n",
    "                               else results['test_%s' % list(scoring.values())[sc]].mean(), \n",
    "                               results['test_%s' % list(scoring.values())[sc]].std()))"
   ]
  },
  {
   "cell_type": "markdown",
   "metadata": {},
   "source": [
    "GrtidSearchCV"
   ]
  },
  {
   "cell_type": "code",
   "execution_count": 59,
   "metadata": {},
   "outputs": [
    {
     "name": "stdout",
     "output_type": "stream",
     "text": [
      "best params: SVC(C=0.01, cache_size=200, class_weight=None, coef0=0.0,\n",
      "  decision_function_shape='ovo', degree=3, gamma=0, kernel='linear',\n",
      "  max_iter=-1, probability=True, random_state=0, shrinking=True, tol=0.001,\n",
      "  verbose=False)\n",
      "best params: {'C': 0.01, 'decision_function_shape': 'ovo', 'degree': 3, 'gamma': 0, 'kernel': 'linear', 'probability': True, 'random_state': 0}\n",
      "best score: 0.7209302325581395\n"
     ]
    },
    {
     "data": {
      "image/png": "[encoded data removed]",
      "text/plain": [
       "<Figure size 720x720 with 1 Axes>"
      ]
     },
     "metadata": {
      "needs_background": "light"
     },
     "output_type": "display_data"
    }
   ],
   "source": [
    "from sklearn.model_selection import GridSearchCV\n",
    "\n",
    "scoring = {'Accuracy': 'accuracy', 'AUC': 'roc_auc', 'Log_loss': 'neg_log_loss'}\n",
    "\n",
    "modelCV = SVC()\n",
    "\n",
    "gs = GridSearchCV(modelCV, return_train_score=True,\n",
    "                  param_grid=parameters_svm, scoring=scoring, cv=10, refit='Accuracy')\n",
    "\n",
    "gs.fit(X_log, y)\n",
    "results = gs.cv_results_\n",
    "\n",
    "print(\"best params: \" + str(gs.best_estimator_))\n",
    "print(\"best params: \" + str(gs.best_params_))\n",
    "print('best score:', gs.best_score_)\n",
    "\n",
    "plt.figure(figsize=(10, 10))\n",
    "plt.title(\"GridSearchCV\",fontsize=16)\n",
    "\n",
    "plt.xlabel(\"C\")\n",
    "plt.ylabel(\"Score\")\n",
    "plt.grid()\n",
    "\n",
    "ax = plt.axes()\n",
    "ax.set_xlim(0, 0.9) \n",
    "ax.set_ylim(0.25, 0.95)\n",
    "\n",
    "\n",
    "X_axis = np.array(results['param_C'].data, dtype=float)\n",
    "\n",
    "for scorer, color in zip(list(scoring.keys()), ['g', 'k', 'b']): \n",
    "    for sample, style in (('train', '--'), ('test', '-')):\n",
    "        sample_score_mean = -results['mean_%s_%s' % (sample, scorer)] if scoring[scorer]=='neg_log_loss' else results['mean_%s_%s' % (sample, scorer)]\n",
    "        sample_score_std = results['std_%s_%s' % (sample, scorer)]\n",
    "        ax.fill_between(X_axis, sample_score_mean - sample_score_std,\n",
    "                        sample_score_mean + sample_score_std,\n",
    "                        alpha=0.1 if sample == 'test' else 0, color=color)\n",
    "        ax.plot(X_axis, sample_score_mean, style, color=color,\n",
    "                alpha=1 if sample == 'test' else 0.7,\n",
    "                label=\"%s (%s)\" % (scorer, sample))\n",
    "\n",
    "    best_index = np.nonzero(results['rank_test_%s' % scorer] == 1)[0][0]\n",
    "    best_score = -results['mean_test_%s' % scorer][best_index] if scoring[scorer]=='neg_log_loss' else results['mean_test_%s' % scorer][best_index]\n",
    "        \n",
    "\n",
    "    ax.plot([X_axis[best_index], ] * 2, [0, best_score],\n",
    "            linestyle='-.', color=color, marker='x', markeredgewidth=3, ms=8)\n",
    "\n",
    "\n",
    "    ax.annotate(\"%0.2f\" % best_score,\n",
    "                (X_axis[best_index], best_score + 0.005))\n",
    "\n",
    "plt.legend(loc=\"best\")\n",
    "plt.grid('off')\n",
    "plt.show()"
   ]
  },
  {
   "cell_type": "markdown",
   "metadata": {},
   "source": [
    "## Random Forests"
   ]
  },
  {
   "cell_type": "code",
   "execution_count": 60,
   "metadata": {},
   "outputs": [],
   "source": [
    "X = merged_data.loc[:, merged_data.columns != 'genderCat']\n",
    "y = merged_data['genderCat']"
   ]
  },
  {
   "cell_type": "markdown",
   "metadata": {},
   "source": [
    "### Feature Selection\n",
    "\n",
    "#### Recursive feature elimination"
   ]
  },
  {
   "cell_type": "code",
   "execution_count": 61,
   "metadata": {},
   "outputs": [
    {
     "name": "stdout",
     "output_type": "stream",
     "text": [
      "Selected features: ['pressure_station', 'pressure_sea', 'wind_dir_10s', 'wind_speed', 'dew_point', 'temperature', 'health_index', 'delta_pressure']\n"
     ]
    }
   ],
   "source": [
    "model_rf = RandomForestClassifier()\n",
    "rfe = RFE(model_rf, 8)\n",
    "rfe = rfe.fit(X, y)\n",
    "print('Selected features: %s' % list(X.columns[rfe.support_]))"
   ]
  },
  {
   "cell_type": "markdown",
   "metadata": {},
   "source": [
    "#### Recursive feature elimination and cross-validation\n"
   ]
  },
  {
   "cell_type": "code",
   "execution_count": 62,
   "metadata": {},
   "outputs": [
    {
     "name": "stdout",
     "output_type": "stream",
     "text": [
      "Best number of features: 2\n",
      "Selected features are : ['pressure_station', 'dew_point']\n"
     ]
    }
   ],
   "source": [
    "rfecv = RFECV(estimator=RandomForestClassifier(), step=1, cv=10, scoring='accuracy')\n",
    "rfecv.fit(X, y)\n",
    "print(\"Best number of features: %d\" % rfecv.n_features_)\n",
    "print('Selected features are : %s' % list(X.columns[rfecv.support_]))"
   ]
  },
  {
   "cell_type": "code",
   "execution_count": 63,
   "metadata": {},
   "outputs": [
    {
     "data": {
      "image/png": "[encoded data removed]",
      "text/plain": [
       "<Figure size 720x432 with 1 Axes>"
      ]
     },
     "metadata": {
      "needs_background": "light"
     },
     "output_type": "display_data"
    }
   ],
   "source": [
    "plt.figure(figsize=(10,6))\n",
    "plt.xlabel(\"Features selected number\")\n",
    "plt.ylabel(\"Cross validation score\")\n",
    "plt.plot(range(1, len(rfecv.grid_scores_) + 1), rfecv.grid_scores_)\n",
    "plt.show()"
   ]
  },
  {
   "cell_type": "markdown",
   "metadata": {},
   "source": [
    "#### Correlation matrix on selected features"
   ]
  },
  {
   "cell_type": "code",
   "execution_count": 64,
   "metadata": {
    "scrolled": true
   },
   "outputs": [
    {
     "data": {
      "image/png": "[encoded data removed]",
      "text/plain": [
       "<Figure size 576x360 with 2 Axes>"
      ]
     },
     "metadata": {
      "needs_background": "light"
     },
     "output_type": "display_data"
    }
   ],
   "source": [
    "Selected_features = list(X.columns[rfecv.support_])\n",
    "\n",
    "X_rf = X[Selected_features]\n",
    "\n",
    "plt.subplots(figsize=(8, 5))\n",
    "sns.heatmap(X_rf.corr(), annot=True, cmap=\"RdYlGn\")\n",
    "plt.show()"
   ]
  },
  {
   "cell_type": "markdown",
   "metadata": {},
   "source": [
    "### Model Evaluation"
   ]
  },
  {
   "cell_type": "code",
   "execution_count": 65,
   "metadata": {},
   "outputs": [],
   "source": [
    "parameters_rf = {'n_estimators': [100,50],\n",
    "                 'n_jobs': [1], 'min_samples_leaf': [2,4,], 'random_state':[1,7,], \n",
    "                 'min_samples_split':[2,6,], 'oob_score': [True,False],\n",
    "                 'criterion': ['gini',  'entropy'], 'warm_start': [True,False]}"
   ]
  },
  {
   "cell_type": "code",
   "execution_count": 66,
   "metadata": {},
   "outputs": [
    {
     "name": "stdout",
     "output_type": "stream",
     "text": [
      "RandomForestClassifier accuracy = 0.778\n",
      "RandomForestClassifier log_loss = 0.374\n",
      "RandomForestClassifier auc = 1.000\n"
     ]
    },
    {
     "data": {
      "image/png": "[encoded data removed]",
      "text/plain": [
       "<Figure size 432x288 with 1 Axes>"
      ]
     },
     "metadata": {
      "needs_background": "light"
     },
     "output_type": "display_data"
    },
    {
     "name": "stdout",
     "output_type": "stream",
     "text": [
      "Threshold = 1.000 guarantees a sensitivity = 1.000 , specificity = 1.000 and false positive rate = 0.00%.\n"
     ]
    }
   ],
   "source": [
    "from sklearn.model_selection import train_test_split, cross_val_score\n",
    "from sklearn.metrics import accuracy_score, classification_report, precision_score, recall_score \n",
    "from sklearn.metrics import confusion_matrix, precision_recall_curve, roc_curve, auc, log_loss\n",
    "\n",
    "X_train, X_test, y_train, y_test = train_test_split(X_rf, y, test_size=0.2, random_state=2)\n",
    "\n",
    "rf = RandomForestClassifier()\n",
    "rf.fit(X_train, y_train)\n",
    "y_pred = rf.predict(X_test)\n",
    "y_pred_prob = rf.predict_proba(X_test)[:, 1]\n",
    "[fpr, tpr, thr] = roc_curve(y_test, y_pred_prob)\n",
    "print(rf.__class__.__name__+\" accuracy = %2.3f\" % accuracy_score(y_test, y_pred))\n",
    "print(rf.__class__.__name__+\" log_loss = %2.3f\" % log_loss(y_test, y_pred_prob))\n",
    "print(rf.__class__.__name__+\" auc = %2.3f\" % auc(fpr, tpr))\n",
    "\n",
    "idx = np.min(np.where(tpr > 0.95)) #index of sensibility > 0.95\n",
    "\n",
    "plt.figure()\n",
    "plt.plot(fpr, tpr, color='coral', label='ROC curve (area = %0.3f)' % auc(fpr, tpr))\n",
    "plt.plot([0, 1], [0, 1], 'k--')\n",
    "plt.plot([0,fpr[idx]], [tpr[idx],tpr[idx]], 'k--', color='blue')\n",
    "plt.plot([fpr[idx],fpr[idx]], [0,tpr[idx]], 'k--', color='blue')\n",
    "plt.xlim([0.0, 1.0])\n",
    "plt.ylim([0.0, 1.05])\n",
    "plt.xlabel('False Positive Rate', fontsize=14)\n",
    "plt.ylabel('True Positive Rate', fontsize=14)\n",
    "plt.title('ROC curve')\n",
    "plt.legend(loc=\"lower right\")\n",
    "plt.show()\n",
    "\n",
    "print(\"Threshold = %.3f \" % thr[idx] + \"guarantees a sensitivity = %.3f \" % tpr[idx] +  \n",
    "      \", specificity = %.3f\" % (1-fpr[idx]) + \n",
    "      \" and false positive rate = %.2f%%.\" % (np.array(fpr[idx])*100))"
   ]
  },
  {
   "cell_type": "markdown",
   "metadata": {},
   "source": [
    "10-fold cross validation"
   ]
  },
  {
   "cell_type": "code",
   "execution_count": 67,
   "metadata": {},
   "outputs": [
    {
     "name": "stdout",
     "output_type": "stream",
     "text": [
      "RandomForestClassifier average accuracy = 0.555\n",
      "RandomForestClassifier average log_loss = 3.764\n",
      "RandomForestClassifier average auc = 0.517\n"
     ]
    }
   ],
   "source": [
    "rf = RandomForestClassifier()\n",
    "scores_accuracy = cross_val_score(rf, X_rf, y, cv=10, scoring='accuracy')\n",
    "scores_log_loss = cross_val_score(rf, X_rf, y, cv=10, scoring='neg_log_loss')\n",
    "scores_auc = cross_val_score(rf, X_rf, y, cv=10, scoring='roc_auc')\n",
    "\n",
    "print(rf.__class__.__name__+\" average accuracy = %2.3f\" % scores_accuracy.mean())\n",
    "print(rf.__class__.__name__+\" average log_loss = %2.3f\" % -scores_log_loss.mean())\n",
    "print(rf.__class__.__name__+\" average auc = %2.3f\" % scores_auc.mean())"
   ]
  },
  {
   "cell_type": "code",
   "execution_count": 68,
   "metadata": {},
   "outputs": [
    {
     "name": "stdout",
     "output_type": "stream",
     "text": [
      "RandomForestClassifier average accuracy: 0.635 (+/-0.163)\n",
      "RandomForestClassifier average log_loss: 3.813 (+/-5.446)\n",
      "RandomForestClassifier average auc: 0.650 (+/-0.271)\n"
     ]
    }
   ],
   "source": [
    "from sklearn.model_selection import cross_validate\n",
    "\n",
    "scoring = {'accuracy': 'accuracy', 'log_loss': 'neg_log_loss', 'auc': 'roc_auc'}\n",
    "\n",
    "modelCV = RandomForestClassifier()\n",
    "\n",
    "results = cross_validate(modelCV, X_rf, y, cv=10, scoring=list(scoring.values()), \n",
    "                         return_train_score=False)\n",
    "for sc in range(len(scoring)):\n",
    "    print(modelCV.__class__.__name__+\" average %s: %.3f (+/-%.3f)\" % (list(scoring.keys())[sc], -results['test_%s' % list(scoring.values())[sc]].mean()\n",
    "                               if list(scoring.values())[sc]=='neg_log_loss' \n",
    "                               else results['test_%s' % list(scoring.values())[sc]].mean(), \n",
    "                               results['test_%s' % list(scoring.values())[sc]].std()))"
   ]
  },
  {
   "cell_type": "code",
   "execution_count": 69,
   "metadata": {},
   "outputs": [
    {
     "data": {
      "text/plain": [
       "{'fit_time': array([0.00743556, 0.00690007, 0.0068686 , 0.00689697, 0.0068574 ,\n",
       "        0.00692034, 0.00686479, 0.00686097, 0.00687242, 0.00688052]),\n",
       " 'score_time': array([0.00392866, 0.00384116, 0.0038197 , 0.00393462, 0.00381756,\n",
       "        0.00382257, 0.00380969, 0.00381804, 0.00381351, 0.00379205]),\n",
       " 'test_accuracy': array([0.5 , 0.6 , 0.75, 0.5 , 0.5 , 0.5 , 1.  , 0.75, 0.75, 0.5 ]),\n",
       " 'test_neg_log_loss': array([-17.37208589,  -7.16234841,  -0.56344873,  -9.26322053,\n",
       "         -0.69115514,  -0.98305643,  -0.31824142,  -0.63143216,\n",
       "         -0.25541281,  -0.88684497]),\n",
       " 'test_roc_auc': array([0.16666667, 0.58333333, 0.625     , 0.25      , 0.75      ,\n",
       "        0.5       , 1.        , 0.875     , 1.        , 0.75      ])}"
      ]
     },
     "execution_count": 69,
     "metadata": {},
     "output_type": "execute_result"
    }
   ],
   "source": [
    "results"
   ]
  },
  {
   "cell_type": "markdown",
   "metadata": {},
   "source": [
    "GridSearchCV"
   ]
  },
  {
   "cell_type": "code",
   "execution_count": 77,
   "metadata": {},
   "outputs": [
    {
     "name": "stdout",
     "output_type": "stream",
     "text": [
      "best params: RandomForestClassifier(bootstrap=True, class_weight=None, criterion='gini',\n",
      "            max_depth=None, max_features='auto', max_leaf_nodes=None,\n",
      "            min_impurity_decrease=0.0, min_impurity_split=None,\n",
      "            min_samples_leaf=2, min_samples_split=2,\n",
      "            min_weight_fraction_leaf=0.0, n_estimators=100, n_jobs=1,\n",
      "            oob_score=True, random_state=1, verbose=0, warm_start=True)\n",
      "best params: {'criterion': 'gini', 'min_samples_leaf': 2, 'min_samples_split': 2, 'n_estimators': 100, 'n_jobs': 1, 'oob_score': True, 'random_state': 1, 'warm_start': True}\n",
      "best score: 0.6511627906976745\n"
     ]
    }
   ],
   "source": [
    "modelCV = RandomForestClassifier()\n",
    "\n",
    "grid = GridSearchCV(estimator = modelCV, param_grid = parameters_rf, cv = 10, \n",
    "                    scoring = 'accuracy', n_jobs=None)\n",
    "grid.fit(X_rf,y)\n",
    "\n",
    "print(\"best params: \" + str(grid.best_estimator_))\n",
    "print(\"best params: \" + str(grid.best_params_))\n",
    "print('best score:', grid.best_score_)"
   ]
  },
  {
   "cell_type": "markdown",
   "metadata": {},
   "source": [
    "## Plot boundries Random forest\n",
    "On multiple runs the number of features for the forest change to more than 2 so we need to add a dimensiality reduction in order to plot the boandries for these cases "
   ]
  },
  {
   "cell_type": "code",
   "execution_count": 71,
   "metadata": {},
   "outputs": [],
   "source": [
    "from matplotlib.colors import ListedColormap\n",
    "\n",
    "def boundaries(model, heading, best_params, X_train, X_test, y_train, y_test):\n",
    "    Model = model(**best_params)\n",
    "    Model.fit(X_train, y_train)\n",
    "\n",
    "    X_set, y_set = np.concatenate([X_train, X_test], axis = 0), np.concatenate([y_train, y_test], axis = 0)\n",
    "    X1, X2 = np.meshgrid(np.arange(start = X_set[:, 0].min() - 1, stop = X_set[:, 0].max() + 1, step = 0.01),\n",
    "                             np.arange(start = X_set[:, 1].min() - 1, stop = X_set[:, 1].max() + 1, step = 0.01))\n",
    "\n",
    "    #plt.figure(figsize = [15,16])\n",
    "    plt.contourf(X1, X2, Model.predict(np.array([X1.ravel(), X2.ravel()]).T).reshape(X1.shape),\n",
    "                     alpha = 0.5, cmap = ListedColormap(('k', 'blue')))\n",
    "    \n",
    "    plt.xlim(X1.min(), X1.max())\n",
    "    plt.ylim(X2.min(), X2.max())\n",
    "\n",
    "    for i, j in enumerate(np.unique(y_set)):\n",
    "        plt.scatter(X_set[y_set == j, 0], X_set[y_set == j, 1], c = ListedColormap(('red', 'green'))(i), label = j)\n",
    "    plt.xticks(fontsize = 3)\n",
    "    plt.yticks(fontsize = 3)"
   ]
  },
  {
   "cell_type": "markdown",
   "metadata": {},
   "source": [
    "Apply PCA dimensionality reduction to reduce the features to 2D in order to visualize"
   ]
  },
  {
   "cell_type": "code",
   "execution_count": 72,
   "metadata": {},
   "outputs": [],
   "source": [
    "from sklearn.decomposition import PCA\n",
    "\n",
    "if rfecv.n_features_ > 2:\n",
    "    X_train, X_test, y_train, y_test = train_test_split(X_rf, y, test_size = .2)\n",
    "    X_train = PCA(n_components = 2).fit_transform(X_train)\n",
    "    X_test  = PCA(n_components=  2).fit_transform(X_test) "
   ]
  },
  {
   "cell_type": "code",
   "execution_count": 73,
   "metadata": {},
   "outputs": [
    {
     "name": "stderr",
     "output_type": "stream",
     "text": [
      "'c' argument looks like a single numeric RGB or RGBA sequence, which should be avoided as value-mapping will have precedence in case its length matches with 'x' & 'y'.  Please use a 2-D array with a single row if you really want to specify the same RGB or RGBA value for all points.\n",
      "'c' argument looks like a single numeric RGB or RGBA sequence, which should be avoided as value-mapping will have precedence in case its length matches with 'x' & 'y'.  Please use a 2-D array with a single row if you really want to specify the same RGB or RGBA value for all points.\n"
     ]
    },
    {
     "data": {
      "image/png": "[encoded data removed]",
      "text/plain": [
       "<Figure size 1080x504 with 1 Axes>"
      ]
     },
     "metadata": {
      "needs_background": "light"
     },
     "output_type": "display_data"
    }
   ],
   "source": [
    "fig = plt.figure(figsize=[15,7])\n",
    "\n",
    "ax = plt.subplot(1,2,2)\n",
    "plt.title('RandomForest')\n",
    "boundaries(RandomForestClassifier, 'Random Forest', grid.best_estimator_.get_params(), X_train, X_test, y_train, y_test)"
   ]
  },
  {
   "cell_type": "markdown",
   "metadata": {},
   "source": [
    "## t-test on models\n",
    "To check if the models have similar performances or not"
   ]
  },
  {
   "cell_type": "code",
   "execution_count": 74,
   "metadata": {},
   "outputs": [
    {
     "name": "stdout",
     "output_type": "stream",
     "text": [
      "t = 0.462\n",
      "p = 0.655\n"
     ]
    }
   ],
   "source": [
    "from mlxtend.evaluate import paired_ttest_kfold_cv\n",
    "t, p = paired_ttest_kfold_cv(rfe, sv, npX, npy, random_seed=1)\n",
    "print('t = %.3f' %t)\n",
    "print('p = %.3f' %p)"
   ]
  },
  {
   "cell_type": "code",
   "execution_count": 75,
   "metadata": {},
   "outputs": [
    {
     "name": "stdout",
     "output_type": "stream",
     "text": [
      "t = 1.048\n",
      "p = 0.322\n"
     ]
    }
   ],
   "source": [
    "t, p = paired_ttest_kfold_cv(rfe, log_clf_pipe, npX, npy, random_seed=1)\n",
    "print('t = %.3f' %t)\n",
    "print('p = %.3f' %p)"
   ]
  },
  {
   "cell_type": "code",
   "execution_count": 76,
   "metadata": {},
   "outputs": [
    {
     "name": "stdout",
     "output_type": "stream",
     "text": [
      "t = -0.599\n",
      "p = 0.564\n"
     ]
    }
   ],
   "source": [
    "t, p = paired_ttest_kfold_cv(sv, log_clf_pipe, npX, npy, random_seed=1)\n",
    "print('t = %.3f' %t)\n",
    "print('p = %.3f' %p)"
   ]
  },
  {
   "cell_type": "markdown",
   "metadata": {},
   "source": [
    "# Conclusion\n",
    "It can be seen from the t-test that the models do have different perfermonces when trained on the whole dataset (p > 0.05), with that said from the results above that when applying the GridSearchCV on all models with k = 10 for the k-fold cross validation the best model is the SVM with an accuracy of 72% followed by the logisitc regression with an accuracy of 67% and finally the random forest with an accuracy of 65%. The best parameters for each model were recorded and also different feature selection technique were applied."
   ]
  }
 ],
 "metadata": {
  "kernelspec": {
   "display_name": "Python 3",
   "language": "python",
   "name": "python3"
  },
  "language_info": {
   "codemirror_mode": {
    "name": "ipython",
    "version": 3
   },
   "file_extension": ".py",
   "mimetype": "text/x-python",
   "name": "python",
   "nbconvert_exporter": "python",
   "pygments_lexer": "ipython3",
   "version": "3.7.3"
  }
 },
 "nbformat": 4,
 "nbformat_minor": 2
}
