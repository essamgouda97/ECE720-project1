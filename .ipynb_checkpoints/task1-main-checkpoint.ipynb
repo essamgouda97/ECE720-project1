{
 "cells": [
  {
   "cell_type": "markdown",
   "metadata": {},
   "source": [
    "# Task 1\n",
    "- 3 regression models\n",
    "\n",
    "### 1) Linear Regression\n",
    "- no_of_Mosquito = function(weather_features^A)\n",
    "\n",
    "### 2) Linear Regression\n",
    "- no_of_Mosquito_female = function(weather_features^B)\n",
    "- OR no_of_Mosquito_male = function(weather_features^C)\n",
    "- Preferably do both\n",
    "\n",
    "### 3) Polynomial Regression\n",
    "- no_of_Mosquito_female = function(weather_features^B)\n",
    "- OR no_of_Mosquito_male = function(weather_features^C)\n",
    "- Preferably do both\n",
    "\n",
    "NOTE: A, B, C are a note that a subset of the inputs is used.\n",
    "Use different cost functions, perform analysis of constructed models, apply normalization and standardization, feature selection"
   ]
  },
  {
   "cell_type": "markdown",
   "metadata": {},
   "source": [
    "## Dataset\n",
    "\n",
    "- You need to combine both data sets to prepare a data set suitable for model construction.\n",
    "- Both data sets have different ‘time grid’ so you need to resolve it.\n",
    "- You have to aggregate data points over time, and different mosquito species.\n",
    "\n",
    "### Mosquito data notes:\n",
    "From website: Capture results of mosquitoes from various locations in Edmonton. These collections are from standard New Jersey light traps that are commonly used to record changes in abundance of mosquitoes before and after control campaigns and to compare seasonal and annual fluctuations in population. Since not all mosquito species are attracted equally to light traps, the City uses a variety of other trapping and survey methods (with their own limitations) to monitor mosquitoes. Not all trap collection sites are factored into the historical averages. Some data can be incomplete due to trap failure. Some trap locations change over time. Trap collections reflect, not absolute population levels, but mosquito activity, which is influenced by changing environmental conditions (temperature, humidity, wind, etc.). The weekly averages do not include any male mosquitoes or any females of species that do not typically bite people. Each data set reflects the mosquito activity of the week previous to the collection date.\n",
    "\n",
    "To complement this dataset, there is the Rainfall Gauge data which measures rainfall data in the Greater Edmonton area.\n",
    "\n",
    "\n",
    "- Data collected from May 1990 onward\n",
    "- Data is updated weekly and collected automatically\n",
    "\n",
    "#### Columns:\n",
    "\n",
    "- Trap Date (Date & Time Floating timestamp): date when the mosquito traps are collected. An empty mosquito traps are replaced for the next collection at the same time.\n",
    "- Genus (Text): When biologists talk about a genus, they mean one or more species of animals or plants that are closely related to each other. Low-level taxonomic ranking for biological classification.\n",
    "- Specific Epithet (Text): lowest taxonomic rank and having common characteristics and (usually) capable of mating with one another.\n",
    "- Gender (Text): male or female\n",
    "- IDd (Text or NaN): specimens too damaged for precise identification or not sigificant in the mosquito program are marked with a value of UnID.\n",
    "- Count (Number/Int): number of mosquitoes trapped at this Trap Region on this Trap Date.\n",
    "- Trap Region (Text): The description of where the mosquito trap was placed.\n",
    "- Include (Text or NaN): blank or no.\n",
    "- Comparison Group (Text): Trap areas used to evaluate mosquito program efficacy.\n",
    "- Latitude (Number/Float): geographic coordinate that specifies north-south position of mosquito trap.\n",
    "- Longitude (Number/Float): The geographic coordinate that specifies the east–west position of the mosquito trap.\n",
    "- Location (Point): The combination of latitude/longitude for mapping purposes."
   ]
  },
  {
   "cell_type": "markdown",
   "metadata": {},
   "source": [
    "## Edmoton weather notes:\n",
    "- Source: weatherstats.ca based on Environment and Climate Change Canada data\n",
    "\n",
    "### Columns (personal notes):\n",
    "- date_time_local (Date/Time human format YYYY-MM-DD HH:MM:SS TZ): date and time data recorded.\n",
    "- unixtime: unix time format\n",
    "- pressure_station (float or NaN):\n",
    "- pressure_sea (float or NaN):\n",
    "- wind_dir (Text or NaN): wind direction in compass directions (SW, WSW ... etc)\n",
    "- wind_dir_10s (float or NaN): \n",
    "- wind_speed (float or NaN): speed of the wind in CONVUNIT <- TBD\n",
    "- wind_gust (NaN or float): \n",
    "- relative_humidty (float or NaN):\n",
    "- dew_point (float or NaN): \n",
    "- temperature (float or NaN): temp recorded\n",
    "- windchill (float or NaN):\n",
    "- humidex (float or NaN):\n",
    "- visibility (float or NaN):\n",
    "- health_index (float or NaN):\n",
    "- cloud_cover_4 (float or NaN):\n",
    "- cloud_cover_8 (float or NaN):\n",
    "- cloud_cover_10 (float or NaN):\n",
    "- solar_radiation (float or NaN):\n"
   ]
  },
  {
   "cell_type": "markdown",
   "metadata": {},
   "source": [
    "## Imports"
   ]
  },
  {
   "cell_type": "code",
   "execution_count": 591,
   "metadata": {},
   "outputs": [],
   "source": [
    "import pandas as pd\n",
    "import numpy as np\n",
    "import matplotlib.pyplot as plt\n",
    "plt.rc(\"font\", size=14)\n",
    "import seaborn as sns\n",
    "sns.set(style=\"white\") #white bg for sns plots\n",
    "sns.set(style=\"whitegrid\", color_codes=True)\n",
    "\n",
    "from datetime import timedelta\n",
    "\n",
    "\n",
    "import warnings\n",
    "warnings.simplefilter(action='ignore')"
   ]
  },
  {
   "cell_type": "markdown",
   "metadata": {},
   "source": [
    "## Read csv files"
   ]
  },
  {
   "cell_type": "code",
   "execution_count": 592,
   "metadata": {},
   "outputs": [],
   "source": [
    "mos_data = pd.read_csv(\"./data/mosquito_data.csv\")\n",
    "weather_data = pd.read_csv(\"./data/weather_data.csv\")\n",
    "\n",
    "\n",
    "orig_mos_data = mos_data.copy()\n",
    "orig_weather_data = weather_data.copy()"
   ]
  },
  {
   "cell_type": "code",
   "execution_count": 593,
   "metadata": {},
   "outputs": [
    {
     "data": {
      "text/html": [
       "<div>\n",
       "<style scoped>\n",
       "    .dataframe tbody tr th:only-of-type {\n",
       "        vertical-align: middle;\n",
       "    }\n",
       "\n",
       "    .dataframe tbody tr th {\n",
       "        vertical-align: top;\n",
       "    }\n",
       "\n",
       "    .dataframe thead th {\n",
       "        text-align: right;\n",
       "    }\n",
       "</style>\n",
       "<table border=\"1\" class=\"dataframe\">\n",
       "  <thead>\n",
       "    <tr style=\"text-align: right;\">\n",
       "      <th></th>\n",
       "      <th>trap_date</th>\n",
       "      <th>genus</th>\n",
       "      <th>specific_epithet</th>\n",
       "      <th>gender</th>\n",
       "      <th>idd</th>\n",
       "      <th>count</th>\n",
       "      <th>trap_region</th>\n",
       "      <th>include</th>\n",
       "      <th>comparison_group</th>\n",
       "      <th>latitude</th>\n",
       "      <th>longitude</th>\n",
       "      <th>geocoded_column</th>\n",
       "    </tr>\n",
       "  </thead>\n",
       "  <tbody>\n",
       "    <tr>\n",
       "      <th>0</th>\n",
       "      <td>2015-09-15T00:00:00.000</td>\n",
       "      <td>Aedes</td>\n",
       "      <td>vexans</td>\n",
       "      <td>Female</td>\n",
       "      <td>NaN</td>\n",
       "      <td>3</td>\n",
       "      <td>Rural-West</td>\n",
       "      <td>NaN</td>\n",
       "      <td>Outer</td>\n",
       "      <td>53.562973</td>\n",
       "      <td>-113.787353</td>\n",
       "      <td>POINT (-113.787353 53.5629733)</td>\n",
       "    </tr>\n",
       "    <tr>\n",
       "      <th>1</th>\n",
       "      <td>1998-05-12T00:00:00.000</td>\n",
       "      <td>Male</td>\n",
       "      <td>UnID</td>\n",
       "      <td>Male</td>\n",
       "      <td>UnID</td>\n",
       "      <td>1</td>\n",
       "      <td>Rural-North West</td>\n",
       "      <td>NaN</td>\n",
       "      <td>Peripheral</td>\n",
       "      <td>53.617221</td>\n",
       "      <td>-113.716182</td>\n",
       "      <td>POINT (-113.716182 53.617221)</td>\n",
       "    </tr>\n",
       "    <tr>\n",
       "      <th>2</th>\n",
       "      <td>2001-08-28T00:00:00.000</td>\n",
       "      <td>Culex</td>\n",
       "      <td>tarsalis</td>\n",
       "      <td>Female</td>\n",
       "      <td>NaN</td>\n",
       "      <td>1</td>\n",
       "      <td>Rural-North West</td>\n",
       "      <td>NaN</td>\n",
       "      <td>Peripheral</td>\n",
       "      <td>53.617221</td>\n",
       "      <td>-113.716182</td>\n",
       "      <td>POINT (-113.716182 53.617221)</td>\n",
       "    </tr>\n",
       "    <tr>\n",
       "      <th>3</th>\n",
       "      <td>2004-08-17T00:00:00.000</td>\n",
       "      <td>Culex</td>\n",
       "      <td>territans</td>\n",
       "      <td>Female</td>\n",
       "      <td>NaN</td>\n",
       "      <td>1</td>\n",
       "      <td>Rural-North West</td>\n",
       "      <td>NaN</td>\n",
       "      <td>Peripheral</td>\n",
       "      <td>53.617221</td>\n",
       "      <td>-113.716182</td>\n",
       "      <td>POINT (-113.716182 53.617221)</td>\n",
       "    </tr>\n",
       "    <tr>\n",
       "      <th>4</th>\n",
       "      <td>2018-05-15T00:00:00.000</td>\n",
       "      <td>Culiseta</td>\n",
       "      <td>impatiens</td>\n",
       "      <td>Female</td>\n",
       "      <td>NaN</td>\n",
       "      <td>2</td>\n",
       "      <td>Rural-West</td>\n",
       "      <td>NaN</td>\n",
       "      <td>Outer</td>\n",
       "      <td>53.559020</td>\n",
       "      <td>-114.001190</td>\n",
       "      <td>POINT (-114.00119 53.559020000000004)</td>\n",
       "    </tr>\n",
       "  </tbody>\n",
       "</table>\n",
       "</div>"
      ],
      "text/plain": [
       "                 trap_date     genus specific_epithet  gender   idd  count  \\\n",
       "0  2015-09-15T00:00:00.000     Aedes           vexans  Female   NaN      3   \n",
       "1  1998-05-12T00:00:00.000      Male             UnID    Male  UnID      1   \n",
       "2  2001-08-28T00:00:00.000     Culex         tarsalis  Female   NaN      1   \n",
       "3  2004-08-17T00:00:00.000     Culex        territans  Female   NaN      1   \n",
       "4  2018-05-15T00:00:00.000  Culiseta        impatiens  Female   NaN      2   \n",
       "\n",
       "        trap_region include comparison_group   latitude   longitude  \\\n",
       "0        Rural-West     NaN            Outer  53.562973 -113.787353   \n",
       "1  Rural-North West     NaN       Peripheral  53.617221 -113.716182   \n",
       "2  Rural-North West     NaN       Peripheral  53.617221 -113.716182   \n",
       "3  Rural-North West     NaN       Peripheral  53.617221 -113.716182   \n",
       "4        Rural-West     NaN            Outer  53.559020 -114.001190   \n",
       "\n",
       "                         geocoded_column  \n",
       "0         POINT (-113.787353 53.5629733)  \n",
       "1          POINT (-113.716182 53.617221)  \n",
       "2          POINT (-113.716182 53.617221)  \n",
       "3          POINT (-113.716182 53.617221)  \n",
       "4  POINT (-114.00119 53.559020000000004)  "
      ]
     },
     "execution_count": 593,
     "metadata": {},
     "output_type": "execute_result"
    }
   ],
   "source": [
    "mos_data.head()"
   ]
  },
  {
   "cell_type": "code",
   "execution_count": 594,
   "metadata": {},
   "outputs": [
    {
     "data": {
      "text/html": [
       "<div>\n",
       "<style scoped>\n",
       "    .dataframe tbody tr th:only-of-type {\n",
       "        vertical-align: middle;\n",
       "    }\n",
       "\n",
       "    .dataframe tbody tr th {\n",
       "        vertical-align: top;\n",
       "    }\n",
       "\n",
       "    .dataframe thead th {\n",
       "        text-align: right;\n",
       "    }\n",
       "</style>\n",
       "<table border=\"1\" class=\"dataframe\">\n",
       "  <thead>\n",
       "    <tr style=\"text-align: right;\">\n",
       "      <th></th>\n",
       "      <th>date_time_local</th>\n",
       "      <th>unixtime</th>\n",
       "      <th>pressure_station</th>\n",
       "      <th>pressure_sea</th>\n",
       "      <th>wind_dir</th>\n",
       "      <th>wind_dir_10s</th>\n",
       "      <th>wind_speed</th>\n",
       "      <th>wind_gust</th>\n",
       "      <th>relative_humidity</th>\n",
       "      <th>dew_point</th>\n",
       "      <th>temperature</th>\n",
       "      <th>windchill</th>\n",
       "      <th>humidex</th>\n",
       "      <th>visibility</th>\n",
       "      <th>health_index</th>\n",
       "      <th>cloud_cover_4</th>\n",
       "      <th>cloud_cover_8</th>\n",
       "      <th>cloud_cover_10</th>\n",
       "      <th>solar_radiation</th>\n",
       "    </tr>\n",
       "  </thead>\n",
       "  <tbody>\n",
       "    <tr>\n",
       "      <th>0</th>\n",
       "      <td>2018-12-18 16:00:00 MST</td>\n",
       "      <td>1545174000</td>\n",
       "      <td>91.73</td>\n",
       "      <td>99.7</td>\n",
       "      <td>SW</td>\n",
       "      <td>23.0</td>\n",
       "      <td>5.0</td>\n",
       "      <td>NaN</td>\n",
       "      <td>64.0</td>\n",
       "      <td>-7.3</td>\n",
       "      <td>-1.3</td>\n",
       "      <td>-3.0</td>\n",
       "      <td>NaN</td>\n",
       "      <td>NaN</td>\n",
       "      <td>NaN</td>\n",
       "      <td>NaN</td>\n",
       "      <td>NaN</td>\n",
       "      <td>NaN</td>\n",
       "      <td>NaN</td>\n",
       "    </tr>\n",
       "    <tr>\n",
       "      <th>1</th>\n",
       "      <td>2018-12-18 15:00:00 MST</td>\n",
       "      <td>1545170400</td>\n",
       "      <td>91.67</td>\n",
       "      <td>99.7</td>\n",
       "      <td>S</td>\n",
       "      <td>18.0</td>\n",
       "      <td>5.0</td>\n",
       "      <td>NaN</td>\n",
       "      <td>65.0</td>\n",
       "      <td>-6.3</td>\n",
       "      <td>-0.5</td>\n",
       "      <td>-2.0</td>\n",
       "      <td>NaN</td>\n",
       "      <td>NaN</td>\n",
       "      <td>4.0</td>\n",
       "      <td>NaN</td>\n",
       "      <td>NaN</td>\n",
       "      <td>NaN</td>\n",
       "      <td>NaN</td>\n",
       "    </tr>\n",
       "    <tr>\n",
       "      <th>2</th>\n",
       "      <td>2018-12-18 14:00:00 MST</td>\n",
       "      <td>1545166800</td>\n",
       "      <td>91.67</td>\n",
       "      <td>99.6</td>\n",
       "      <td>S</td>\n",
       "      <td>17.0</td>\n",
       "      <td>5.0</td>\n",
       "      <td>NaN</td>\n",
       "      <td>51.0</td>\n",
       "      <td>-6.5</td>\n",
       "      <td>2.7</td>\n",
       "      <td>NaN</td>\n",
       "      <td>NaN</td>\n",
       "      <td>NaN</td>\n",
       "      <td>4.0</td>\n",
       "      <td>NaN</td>\n",
       "      <td>NaN</td>\n",
       "      <td>NaN</td>\n",
       "      <td>NaN</td>\n",
       "    </tr>\n",
       "    <tr>\n",
       "      <th>3</th>\n",
       "      <td>2018-12-18 13:00:00 MST</td>\n",
       "      <td>1545163200</td>\n",
       "      <td>91.66</td>\n",
       "      <td>99.6</td>\n",
       "      <td>SE</td>\n",
       "      <td>13.0</td>\n",
       "      <td>2.0</td>\n",
       "      <td>NaN</td>\n",
       "      <td>50.0</td>\n",
       "      <td>-6.4</td>\n",
       "      <td>2.9</td>\n",
       "      <td>NaN</td>\n",
       "      <td>NaN</td>\n",
       "      <td>NaN</td>\n",
       "      <td>3.9</td>\n",
       "      <td>NaN</td>\n",
       "      <td>NaN</td>\n",
       "      <td>NaN</td>\n",
       "      <td>NaN</td>\n",
       "    </tr>\n",
       "    <tr>\n",
       "      <th>4</th>\n",
       "      <td>2018-12-18 12:00:00 MST</td>\n",
       "      <td>1545159600</td>\n",
       "      <td>91.75</td>\n",
       "      <td>99.7</td>\n",
       "      <td>NaN</td>\n",
       "      <td>NaN</td>\n",
       "      <td>0.0</td>\n",
       "      <td>NaN</td>\n",
       "      <td>59.0</td>\n",
       "      <td>-6.6</td>\n",
       "      <td>0.5</td>\n",
       "      <td>NaN</td>\n",
       "      <td>NaN</td>\n",
       "      <td>NaN</td>\n",
       "      <td>4.1</td>\n",
       "      <td>NaN</td>\n",
       "      <td>NaN</td>\n",
       "      <td>NaN</td>\n",
       "      <td>NaN</td>\n",
       "    </tr>\n",
       "  </tbody>\n",
       "</table>\n",
       "</div>"
      ],
      "text/plain": [
       "           date_time_local    unixtime  pressure_station  pressure_sea  \\\n",
       "0  2018-12-18 16:00:00 MST  1545174000             91.73          99.7   \n",
       "1  2018-12-18 15:00:00 MST  1545170400             91.67          99.7   \n",
       "2  2018-12-18 14:00:00 MST  1545166800             91.67          99.6   \n",
       "3  2018-12-18 13:00:00 MST  1545163200             91.66          99.6   \n",
       "4  2018-12-18 12:00:00 MST  1545159600             91.75          99.7   \n",
       "\n",
       "  wind_dir  wind_dir_10s  wind_speed  wind_gust  relative_humidity  dew_point  \\\n",
       "0       SW          23.0         5.0        NaN               64.0       -7.3   \n",
       "1        S          18.0         5.0        NaN               65.0       -6.3   \n",
       "2        S          17.0         5.0        NaN               51.0       -6.5   \n",
       "3       SE          13.0         2.0        NaN               50.0       -6.4   \n",
       "4      NaN           NaN         0.0        NaN               59.0       -6.6   \n",
       "\n",
       "   temperature  windchill  humidex  visibility  health_index  cloud_cover_4  \\\n",
       "0         -1.3       -3.0      NaN         NaN           NaN            NaN   \n",
       "1         -0.5       -2.0      NaN         NaN           4.0            NaN   \n",
       "2          2.7        NaN      NaN         NaN           4.0            NaN   \n",
       "3          2.9        NaN      NaN         NaN           3.9            NaN   \n",
       "4          0.5        NaN      NaN         NaN           4.1            NaN   \n",
       "\n",
       "   cloud_cover_8  cloud_cover_10  solar_radiation  \n",
       "0            NaN             NaN              NaN  \n",
       "1            NaN             NaN              NaN  \n",
       "2            NaN             NaN              NaN  \n",
       "3            NaN             NaN              NaN  \n",
       "4            NaN             NaN              NaN  "
      ]
     },
     "execution_count": 594,
     "metadata": {},
     "output_type": "execute_result"
    }
   ],
   "source": [
    "weather_data.head()"
   ]
  },
  {
   "cell_type": "code",
   "execution_count": 595,
   "metadata": {
    "scrolled": true
   },
   "outputs": [
    {
     "data": {
      "text/html": [
       "<div>\n",
       "<style scoped>\n",
       "    .dataframe tbody tr th:only-of-type {\n",
       "        vertical-align: middle;\n",
       "    }\n",
       "\n",
       "    .dataframe tbody tr th {\n",
       "        vertical-align: top;\n",
       "    }\n",
       "\n",
       "    .dataframe thead th {\n",
       "        text-align: right;\n",
       "    }\n",
       "</style>\n",
       "<table border=\"1\" class=\"dataframe\">\n",
       "  <thead>\n",
       "    <tr style=\"text-align: right;\">\n",
       "      <th></th>\n",
       "      <th>count</th>\n",
       "      <th>latitude</th>\n",
       "      <th>longitude</th>\n",
       "    </tr>\n",
       "  </thead>\n",
       "  <tbody>\n",
       "    <tr>\n",
       "      <th>count</th>\n",
       "      <td>1000.000000</td>\n",
       "      <td>1000.000000</td>\n",
       "      <td>1000.000000</td>\n",
       "    </tr>\n",
       "    <tr>\n",
       "      <th>mean</th>\n",
       "      <td>33.188000</td>\n",
       "      <td>53.539761</td>\n",
       "      <td>-113.516499</td>\n",
       "    </tr>\n",
       "    <tr>\n",
       "      <th>std</th>\n",
       "      <td>175.409781</td>\n",
       "      <td>0.105753</td>\n",
       "      <td>0.179724</td>\n",
       "    </tr>\n",
       "    <tr>\n",
       "      <th>min</th>\n",
       "      <td>1.000000</td>\n",
       "      <td>53.262430</td>\n",
       "      <td>-114.001190</td>\n",
       "    </tr>\n",
       "    <tr>\n",
       "      <th>25%</th>\n",
       "      <td>1.000000</td>\n",
       "      <td>53.453900</td>\n",
       "      <td>-113.688650</td>\n",
       "    </tr>\n",
       "    <tr>\n",
       "      <th>50%</th>\n",
       "      <td>3.000000</td>\n",
       "      <td>53.562973</td>\n",
       "      <td>-113.499262</td>\n",
       "    </tr>\n",
       "    <tr>\n",
       "      <th>75%</th>\n",
       "      <td>10.000000</td>\n",
       "      <td>53.617221</td>\n",
       "      <td>-113.374561</td>\n",
       "    </tr>\n",
       "    <tr>\n",
       "      <th>max</th>\n",
       "      <td>3510.000000</td>\n",
       "      <td>53.774476</td>\n",
       "      <td>-113.221359</td>\n",
       "    </tr>\n",
       "  </tbody>\n",
       "</table>\n",
       "</div>"
      ],
      "text/plain": [
       "             count     latitude    longitude\n",
       "count  1000.000000  1000.000000  1000.000000\n",
       "mean     33.188000    53.539761  -113.516499\n",
       "std     175.409781     0.105753     0.179724\n",
       "min       1.000000    53.262430  -114.001190\n",
       "25%       1.000000    53.453900  -113.688650\n",
       "50%       3.000000    53.562973  -113.499262\n",
       "75%      10.000000    53.617221  -113.374561\n",
       "max    3510.000000    53.774476  -113.221359"
      ]
     },
     "execution_count": 595,
     "metadata": {},
     "output_type": "execute_result"
    }
   ],
   "source": [
    "mos_data.describe()"
   ]
  },
  {
   "cell_type": "code",
   "execution_count": 596,
   "metadata": {
    "scrolled": true
   },
   "outputs": [
    {
     "data": {
      "text/html": [
       "<div>\n",
       "<style scoped>\n",
       "    .dataframe tbody tr th:only-of-type {\n",
       "        vertical-align: middle;\n",
       "    }\n",
       "\n",
       "    .dataframe tbody tr th {\n",
       "        vertical-align: top;\n",
       "    }\n",
       "\n",
       "    .dataframe thead th {\n",
       "        text-align: right;\n",
       "    }\n",
       "</style>\n",
       "<table border=\"1\" class=\"dataframe\">\n",
       "  <thead>\n",
       "    <tr style=\"text-align: right;\">\n",
       "      <th></th>\n",
       "      <th>unixtime</th>\n",
       "      <th>pressure_station</th>\n",
       "      <th>pressure_sea</th>\n",
       "      <th>wind_dir_10s</th>\n",
       "      <th>wind_speed</th>\n",
       "      <th>wind_gust</th>\n",
       "      <th>relative_humidity</th>\n",
       "      <th>dew_point</th>\n",
       "      <th>temperature</th>\n",
       "      <th>windchill</th>\n",
       "      <th>humidex</th>\n",
       "      <th>visibility</th>\n",
       "      <th>health_index</th>\n",
       "      <th>cloud_cover_4</th>\n",
       "      <th>cloud_cover_8</th>\n",
       "      <th>cloud_cover_10</th>\n",
       "      <th>solar_radiation</th>\n",
       "    </tr>\n",
       "  </thead>\n",
       "  <tbody>\n",
       "    <tr>\n",
       "      <th>count</th>\n",
       "      <td>1.752000e+04</td>\n",
       "      <td>17509.000000</td>\n",
       "      <td>17509.000000</td>\n",
       "      <td>17467.000000</td>\n",
       "      <td>17509.000000</td>\n",
       "      <td>2282.000000</td>\n",
       "      <td>17509.000000</td>\n",
       "      <td>17509.000000</td>\n",
       "      <td>17509.000000</td>\n",
       "      <td>6424.000000</td>\n",
       "      <td>840.000000</td>\n",
       "      <td>0.0</td>\n",
       "      <td>17161.000000</td>\n",
       "      <td>0.0</td>\n",
       "      <td>0.0</td>\n",
       "      <td>0.0</td>\n",
       "      <td>0.0</td>\n",
       "    </tr>\n",
       "    <tr>\n",
       "      <th>mean</th>\n",
       "      <td>1.513640e+09</td>\n",
       "      <td>93.539797</td>\n",
       "      <td>101.577269</td>\n",
       "      <td>21.190130</td>\n",
       "      <td>11.045519</td>\n",
       "      <td>34.594216</td>\n",
       "      <td>66.730367</td>\n",
       "      <td>-2.305232</td>\n",
       "      <td>4.313787</td>\n",
       "      <td>-13.476339</td>\n",
       "      <td>27.017857</td>\n",
       "      <td>NaN</td>\n",
       "      <td>2.760760</td>\n",
       "      <td>NaN</td>\n",
       "      <td>NaN</td>\n",
       "      <td>NaN</td>\n",
       "      <td>NaN</td>\n",
       "    </tr>\n",
       "    <tr>\n",
       "      <th>std</th>\n",
       "      <td>1.820784e+07</td>\n",
       "      <td>0.794158</td>\n",
       "      <td>0.923358</td>\n",
       "      <td>9.780622</td>\n",
       "      <td>6.286950</td>\n",
       "      <td>7.295547</td>\n",
       "      <td>20.052285</td>\n",
       "      <td>9.813175</td>\n",
       "      <td>12.447193</td>\n",
       "      <td>8.109714</td>\n",
       "      <td>2.033900</td>\n",
       "      <td>NaN</td>\n",
       "      <td>0.997628</td>\n",
       "      <td>NaN</td>\n",
       "      <td>NaN</td>\n",
       "      <td>NaN</td>\n",
       "      <td>NaN</td>\n",
       "    </tr>\n",
       "    <tr>\n",
       "      <th>min</th>\n",
       "      <td>1.482106e+09</td>\n",
       "      <td>90.650000</td>\n",
       "      <td>98.400000</td>\n",
       "      <td>0.000000</td>\n",
       "      <td>0.000000</td>\n",
       "      <td>27.000000</td>\n",
       "      <td>11.000000</td>\n",
       "      <td>-33.800000</td>\n",
       "      <td>-30.700000</td>\n",
       "      <td>-40.000000</td>\n",
       "      <td>25.000000</td>\n",
       "      <td>NaN</td>\n",
       "      <td>1.000000</td>\n",
       "      <td>NaN</td>\n",
       "      <td>NaN</td>\n",
       "      <td>NaN</td>\n",
       "      <td>NaN</td>\n",
       "    </tr>\n",
       "    <tr>\n",
       "      <th>25%</th>\n",
       "      <td>1.497873e+09</td>\n",
       "      <td>93.060000</td>\n",
       "      <td>101.000000</td>\n",
       "      <td>14.000000</td>\n",
       "      <td>6.000000</td>\n",
       "      <td>29.000000</td>\n",
       "      <td>52.000000</td>\n",
       "      <td>-8.400000</td>\n",
       "      <td>-4.300000</td>\n",
       "      <td>-19.000000</td>\n",
       "      <td>25.000000</td>\n",
       "      <td>NaN</td>\n",
       "      <td>2.200000</td>\n",
       "      <td>NaN</td>\n",
       "      <td>NaN</td>\n",
       "      <td>NaN</td>\n",
       "      <td>NaN</td>\n",
       "    </tr>\n",
       "    <tr>\n",
       "      <th>50%</th>\n",
       "      <td>1.513640e+09</td>\n",
       "      <td>93.580000</td>\n",
       "      <td>101.600000</td>\n",
       "      <td>23.000000</td>\n",
       "      <td>10.000000</td>\n",
       "      <td>33.000000</td>\n",
       "      <td>70.000000</td>\n",
       "      <td>-1.500000</td>\n",
       "      <td>4.000000</td>\n",
       "      <td>-12.000000</td>\n",
       "      <td>27.000000</td>\n",
       "      <td>NaN</td>\n",
       "      <td>2.600000</td>\n",
       "      <td>NaN</td>\n",
       "      <td>NaN</td>\n",
       "      <td>NaN</td>\n",
       "      <td>NaN</td>\n",
       "    </tr>\n",
       "    <tr>\n",
       "      <th>75%</th>\n",
       "      <td>1.529407e+09</td>\n",
       "      <td>94.050000</td>\n",
       "      <td>102.200000</td>\n",
       "      <td>29.000000</td>\n",
       "      <td>15.000000</td>\n",
       "      <td>38.000000</td>\n",
       "      <td>83.000000</td>\n",
       "      <td>5.400000</td>\n",
       "      <td>14.300000</td>\n",
       "      <td>-7.000000</td>\n",
       "      <td>28.000000</td>\n",
       "      <td>NaN</td>\n",
       "      <td>3.200000</td>\n",
       "      <td>NaN</td>\n",
       "      <td>NaN</td>\n",
       "      <td>NaN</td>\n",
       "      <td>NaN</td>\n",
       "    </tr>\n",
       "    <tr>\n",
       "      <th>max</th>\n",
       "      <td>1.545174e+09</td>\n",
       "      <td>95.960000</td>\n",
       "      <td>104.800000</td>\n",
       "      <td>36.000000</td>\n",
       "      <td>48.000000</td>\n",
       "      <td>88.000000</td>\n",
       "      <td>100.000000</td>\n",
       "      <td>18.500000</td>\n",
       "      <td>34.300000</td>\n",
       "      <td>0.000000</td>\n",
       "      <td>35.000000</td>\n",
       "      <td>NaN</td>\n",
       "      <td>11.000000</td>\n",
       "      <td>NaN</td>\n",
       "      <td>NaN</td>\n",
       "      <td>NaN</td>\n",
       "      <td>NaN</td>\n",
       "    </tr>\n",
       "  </tbody>\n",
       "</table>\n",
       "</div>"
      ],
      "text/plain": [
       "           unixtime  pressure_station  pressure_sea  wind_dir_10s  \\\n",
       "count  1.752000e+04      17509.000000  17509.000000  17467.000000   \n",
       "mean   1.513640e+09         93.539797    101.577269     21.190130   \n",
       "std    1.820784e+07          0.794158      0.923358      9.780622   \n",
       "min    1.482106e+09         90.650000     98.400000      0.000000   \n",
       "25%    1.497873e+09         93.060000    101.000000     14.000000   \n",
       "50%    1.513640e+09         93.580000    101.600000     23.000000   \n",
       "75%    1.529407e+09         94.050000    102.200000     29.000000   \n",
       "max    1.545174e+09         95.960000    104.800000     36.000000   \n",
       "\n",
       "         wind_speed    wind_gust  relative_humidity     dew_point  \\\n",
       "count  17509.000000  2282.000000       17509.000000  17509.000000   \n",
       "mean      11.045519    34.594216          66.730367     -2.305232   \n",
       "std        6.286950     7.295547          20.052285      9.813175   \n",
       "min        0.000000    27.000000          11.000000    -33.800000   \n",
       "25%        6.000000    29.000000          52.000000     -8.400000   \n",
       "50%       10.000000    33.000000          70.000000     -1.500000   \n",
       "75%       15.000000    38.000000          83.000000      5.400000   \n",
       "max       48.000000    88.000000         100.000000     18.500000   \n",
       "\n",
       "        temperature    windchill     humidex  visibility  health_index  \\\n",
       "count  17509.000000  6424.000000  840.000000         0.0  17161.000000   \n",
       "mean       4.313787   -13.476339   27.017857         NaN      2.760760   \n",
       "std       12.447193     8.109714    2.033900         NaN      0.997628   \n",
       "min      -30.700000   -40.000000   25.000000         NaN      1.000000   \n",
       "25%       -4.300000   -19.000000   25.000000         NaN      2.200000   \n",
       "50%        4.000000   -12.000000   27.000000         NaN      2.600000   \n",
       "75%       14.300000    -7.000000   28.000000         NaN      3.200000   \n",
       "max       34.300000     0.000000   35.000000         NaN     11.000000   \n",
       "\n",
       "       cloud_cover_4  cloud_cover_8  cloud_cover_10  solar_radiation  \n",
       "count            0.0            0.0             0.0              0.0  \n",
       "mean             NaN            NaN             NaN              NaN  \n",
       "std              NaN            NaN             NaN              NaN  \n",
       "min              NaN            NaN             NaN              NaN  \n",
       "25%              NaN            NaN             NaN              NaN  \n",
       "50%              NaN            NaN             NaN              NaN  \n",
       "75%              NaN            NaN             NaN              NaN  \n",
       "max              NaN            NaN             NaN              NaN  "
      ]
     },
     "execution_count": 596,
     "metadata": {},
     "output_type": "execute_result"
    }
   ],
   "source": [
    "weather_data.describe()"
   ]
  },
  {
   "cell_type": "code",
   "execution_count": 597,
   "metadata": {},
   "outputs": [
    {
     "data": {
      "text/plain": [
       "trap_date            object\n",
       "genus                object\n",
       "specific_epithet     object\n",
       "gender               object\n",
       "idd                  object\n",
       "count                 int64\n",
       "trap_region          object\n",
       "include              object\n",
       "comparison_group     object\n",
       "latitude            float64\n",
       "longitude           float64\n",
       "geocoded_column      object\n",
       "dtype: object"
      ]
     },
     "execution_count": 597,
     "metadata": {},
     "output_type": "execute_result"
    }
   ],
   "source": [
    "mos_data.dtypes"
   ]
  },
  {
   "cell_type": "code",
   "execution_count": 598,
   "metadata": {
    "scrolled": true
   },
   "outputs": [
    {
     "data": {
      "text/plain": [
       "date_time_local       object\n",
       "unixtime               int64\n",
       "pressure_station     float64\n",
       "pressure_sea         float64\n",
       "wind_dir              object\n",
       "wind_dir_10s         float64\n",
       "wind_speed           float64\n",
       "wind_gust            float64\n",
       "relative_humidity    float64\n",
       "dew_point            float64\n",
       "temperature          float64\n",
       "windchill            float64\n",
       "humidex              float64\n",
       "visibility           float64\n",
       "health_index         float64\n",
       "cloud_cover_4        float64\n",
       "cloud_cover_8        float64\n",
       "cloud_cover_10       float64\n",
       "solar_radiation      float64\n",
       "dtype: object"
      ]
     },
     "execution_count": 598,
     "metadata": {},
     "output_type": "execute_result"
    }
   ],
   "source": [
    "weather_data.dtypes"
   ]
  },
  {
   "cell_type": "code",
   "execution_count": 599,
   "metadata": {},
   "outputs": [
    {
     "data": {
      "text/plain": [
       "trap_date             0\n",
       "genus                 0\n",
       "specific_epithet      0\n",
       "gender                0\n",
       "idd                 709\n",
       "count                 0\n",
       "trap_region           0\n",
       "include             969\n",
       "comparison_group      0\n",
       "latitude              0\n",
       "longitude             0\n",
       "geocoded_column       0\n",
       "dtype: int64"
      ]
     },
     "execution_count": 599,
     "metadata": {},
     "output_type": "execute_result"
    }
   ],
   "source": [
    "mos_data.isnull().sum()"
   ]
  },
  {
   "cell_type": "code",
   "execution_count": 600,
   "metadata": {
    "scrolled": true
   },
   "outputs": [
    {
     "data": {
      "text/plain": [
       "date_time_local          0\n",
       "unixtime                 0\n",
       "pressure_station        11\n",
       "pressure_sea            11\n",
       "wind_dir               154\n",
       "wind_dir_10s            53\n",
       "wind_speed              11\n",
       "wind_gust            15238\n",
       "relative_humidity       11\n",
       "dew_point               11\n",
       "temperature             11\n",
       "windchill            11096\n",
       "humidex              16680\n",
       "visibility           17520\n",
       "health_index           359\n",
       "cloud_cover_4        17520\n",
       "cloud_cover_8        17520\n",
       "cloud_cover_10       17520\n",
       "solar_radiation      17520\n",
       "dtype: int64"
      ]
     },
     "execution_count": 600,
     "metadata": {},
     "output_type": "execute_result"
    }
   ],
   "source": [
    "weather_data.isnull().sum()"
   ]
  },
  {
   "cell_type": "code",
   "execution_count": 601,
   "metadata": {},
   "outputs": [
    {
     "data": {
      "text/html": [
       "<div>\n",
       "<style scoped>\n",
       "    .dataframe tbody tr th:only-of-type {\n",
       "        vertical-align: middle;\n",
       "    }\n",
       "\n",
       "    .dataframe tbody tr th {\n",
       "        vertical-align: top;\n",
       "    }\n",
       "\n",
       "    .dataframe thead th {\n",
       "        text-align: right;\n",
       "    }\n",
       "</style>\n",
       "<table border=\"1\" class=\"dataframe\">\n",
       "  <thead>\n",
       "    <tr style=\"text-align: right;\">\n",
       "      <th></th>\n",
       "      <th>date_time_local</th>\n",
       "      <th>unixtime</th>\n",
       "      <th>pressure_station</th>\n",
       "      <th>pressure_sea</th>\n",
       "      <th>wind_dir</th>\n",
       "      <th>wind_dir_10s</th>\n",
       "      <th>wind_speed</th>\n",
       "      <th>relative_humidity</th>\n",
       "      <th>dew_point</th>\n",
       "      <th>temperature</th>\n",
       "      <th>health_index</th>\n",
       "    </tr>\n",
       "  </thead>\n",
       "  <tbody>\n",
       "    <tr>\n",
       "      <th>0</th>\n",
       "      <td>2018-12-18 16:00:00 MST</td>\n",
       "      <td>1545174000</td>\n",
       "      <td>91.73</td>\n",
       "      <td>99.7</td>\n",
       "      <td>SW</td>\n",
       "      <td>23.0</td>\n",
       "      <td>5.0</td>\n",
       "      <td>64.0</td>\n",
       "      <td>-7.3</td>\n",
       "      <td>-1.3</td>\n",
       "      <td>NaN</td>\n",
       "    </tr>\n",
       "    <tr>\n",
       "      <th>1</th>\n",
       "      <td>2018-12-18 15:00:00 MST</td>\n",
       "      <td>1545170400</td>\n",
       "      <td>91.67</td>\n",
       "      <td>99.7</td>\n",
       "      <td>S</td>\n",
       "      <td>18.0</td>\n",
       "      <td>5.0</td>\n",
       "      <td>65.0</td>\n",
       "      <td>-6.3</td>\n",
       "      <td>-0.5</td>\n",
       "      <td>4.0</td>\n",
       "    </tr>\n",
       "    <tr>\n",
       "      <th>2</th>\n",
       "      <td>2018-12-18 14:00:00 MST</td>\n",
       "      <td>1545166800</td>\n",
       "      <td>91.67</td>\n",
       "      <td>99.6</td>\n",
       "      <td>S</td>\n",
       "      <td>17.0</td>\n",
       "      <td>5.0</td>\n",
       "      <td>51.0</td>\n",
       "      <td>-6.5</td>\n",
       "      <td>2.7</td>\n",
       "      <td>4.0</td>\n",
       "    </tr>\n",
       "    <tr>\n",
       "      <th>3</th>\n",
       "      <td>2018-12-18 13:00:00 MST</td>\n",
       "      <td>1545163200</td>\n",
       "      <td>91.66</td>\n",
       "      <td>99.6</td>\n",
       "      <td>SE</td>\n",
       "      <td>13.0</td>\n",
       "      <td>2.0</td>\n",
       "      <td>50.0</td>\n",
       "      <td>-6.4</td>\n",
       "      <td>2.9</td>\n",
       "      <td>3.9</td>\n",
       "    </tr>\n",
       "    <tr>\n",
       "      <th>4</th>\n",
       "      <td>2018-12-18 12:00:00 MST</td>\n",
       "      <td>1545159600</td>\n",
       "      <td>91.75</td>\n",
       "      <td>99.7</td>\n",
       "      <td>NaN</td>\n",
       "      <td>NaN</td>\n",
       "      <td>0.0</td>\n",
       "      <td>59.0</td>\n",
       "      <td>-6.6</td>\n",
       "      <td>0.5</td>\n",
       "      <td>4.1</td>\n",
       "    </tr>\n",
       "  </tbody>\n",
       "</table>\n",
       "</div>"
      ],
      "text/plain": [
       "           date_time_local    unixtime  pressure_station  pressure_sea  \\\n",
       "0  2018-12-18 16:00:00 MST  1545174000             91.73          99.7   \n",
       "1  2018-12-18 15:00:00 MST  1545170400             91.67          99.7   \n",
       "2  2018-12-18 14:00:00 MST  1545166800             91.67          99.6   \n",
       "3  2018-12-18 13:00:00 MST  1545163200             91.66          99.6   \n",
       "4  2018-12-18 12:00:00 MST  1545159600             91.75          99.7   \n",
       "\n",
       "  wind_dir  wind_dir_10s  wind_speed  relative_humidity  dew_point  \\\n",
       "0       SW          23.0         5.0               64.0       -7.3   \n",
       "1        S          18.0         5.0               65.0       -6.3   \n",
       "2        S          17.0         5.0               51.0       -6.5   \n",
       "3       SE          13.0         2.0               50.0       -6.4   \n",
       "4      NaN           NaN         0.0               59.0       -6.6   \n",
       "\n",
       "   temperature  health_index  \n",
       "0         -1.3           NaN  \n",
       "1         -0.5           4.0  \n",
       "2          2.7           4.0  \n",
       "3          2.9           3.9  \n",
       "4          0.5           4.1  "
      ]
     },
     "execution_count": 601,
     "metadata": {},
     "output_type": "execute_result"
    }
   ],
   "source": [
    "# drop visibility, cloud_cover_4, cloud_cover_8, cloud_cover_10, solar_radiation as they are all NaN, also humidex and windchill and windgust as they are mostly NaN and nothing that we can do about\n",
    "weather_data.drop(columns=[\"visibility\", \"cloud_cover_4\", \"cloud_cover_8\", \"cloud_cover_10\", \"solar_radiation\", \"wind_gust\", \"windchill\", \"humidex\"], inplace=True)\n",
    "weather_data.head()"
   ]
  },
  {
   "cell_type": "markdown",
   "metadata": {},
   "source": [
    "## Date and time \n",
    "We can see that both datasets are timestamped but the mosquito dataset is timestamped.\n",
    "Our first task would be combining both datasets by day and month and year ignoring HH:MM:DD.\n",
    "- Create a new_trap_date column in mos_data following the format YYYY-MM-DD\n",
    "- Drop trap_date from mos_data\n",
    "- create new_date column in weather_data following the format YYYY-MM-DD\n",
    "- Drop date_time_local and unixtime in weather_data"
   ]
  },
  {
   "cell_type": "code",
   "execution_count": 602,
   "metadata": {
    "scrolled": true
   },
   "outputs": [
    {
     "data": {
      "text/html": [
       "<div>\n",
       "<style scoped>\n",
       "    .dataframe tbody tr th:only-of-type {\n",
       "        vertical-align: middle;\n",
       "    }\n",
       "\n",
       "    .dataframe tbody tr th {\n",
       "        vertical-align: top;\n",
       "    }\n",
       "\n",
       "    .dataframe thead th {\n",
       "        text-align: right;\n",
       "    }\n",
       "</style>\n",
       "<table border=\"1\" class=\"dataframe\">\n",
       "  <thead>\n",
       "    <tr style=\"text-align: right;\">\n",
       "      <th></th>\n",
       "      <th>genus</th>\n",
       "      <th>specific_epithet</th>\n",
       "      <th>gender</th>\n",
       "      <th>idd</th>\n",
       "      <th>count</th>\n",
       "      <th>trap_region</th>\n",
       "      <th>include</th>\n",
       "      <th>comparison_group</th>\n",
       "      <th>latitude</th>\n",
       "      <th>longitude</th>\n",
       "      <th>new_trap_date</th>\n",
       "    </tr>\n",
       "  </thead>\n",
       "  <tbody>\n",
       "    <tr>\n",
       "      <th>0</th>\n",
       "      <td>Aedes</td>\n",
       "      <td>vexans</td>\n",
       "      <td>Female</td>\n",
       "      <td>NaN</td>\n",
       "      <td>3</td>\n",
       "      <td>Rural-West</td>\n",
       "      <td>NaN</td>\n",
       "      <td>Outer</td>\n",
       "      <td>53.562973</td>\n",
       "      <td>-113.787353</td>\n",
       "      <td>2015-09-15</td>\n",
       "    </tr>\n",
       "    <tr>\n",
       "      <th>1</th>\n",
       "      <td>Male</td>\n",
       "      <td>UnID</td>\n",
       "      <td>Male</td>\n",
       "      <td>UnID</td>\n",
       "      <td>1</td>\n",
       "      <td>Rural-North West</td>\n",
       "      <td>NaN</td>\n",
       "      <td>Peripheral</td>\n",
       "      <td>53.617221</td>\n",
       "      <td>-113.716182</td>\n",
       "      <td>1998-05-12</td>\n",
       "    </tr>\n",
       "    <tr>\n",
       "      <th>2</th>\n",
       "      <td>Culex</td>\n",
       "      <td>tarsalis</td>\n",
       "      <td>Female</td>\n",
       "      <td>NaN</td>\n",
       "      <td>1</td>\n",
       "      <td>Rural-North West</td>\n",
       "      <td>NaN</td>\n",
       "      <td>Peripheral</td>\n",
       "      <td>53.617221</td>\n",
       "      <td>-113.716182</td>\n",
       "      <td>2001-08-28</td>\n",
       "    </tr>\n",
       "    <tr>\n",
       "      <th>3</th>\n",
       "      <td>Culex</td>\n",
       "      <td>territans</td>\n",
       "      <td>Female</td>\n",
       "      <td>NaN</td>\n",
       "      <td>1</td>\n",
       "      <td>Rural-North West</td>\n",
       "      <td>NaN</td>\n",
       "      <td>Peripheral</td>\n",
       "      <td>53.617221</td>\n",
       "      <td>-113.716182</td>\n",
       "      <td>2004-08-17</td>\n",
       "    </tr>\n",
       "    <tr>\n",
       "      <th>4</th>\n",
       "      <td>Culiseta</td>\n",
       "      <td>impatiens</td>\n",
       "      <td>Female</td>\n",
       "      <td>NaN</td>\n",
       "      <td>2</td>\n",
       "      <td>Rural-West</td>\n",
       "      <td>NaN</td>\n",
       "      <td>Outer</td>\n",
       "      <td>53.559020</td>\n",
       "      <td>-114.001190</td>\n",
       "      <td>2018-05-15</td>\n",
       "    </tr>\n",
       "  </tbody>\n",
       "</table>\n",
       "</div>"
      ],
      "text/plain": [
       "      genus specific_epithet  gender   idd  count       trap_region include  \\\n",
       "0     Aedes           vexans  Female   NaN      3        Rural-West     NaN   \n",
       "1      Male             UnID    Male  UnID      1  Rural-North West     NaN   \n",
       "2     Culex         tarsalis  Female   NaN      1  Rural-North West     NaN   \n",
       "3     Culex        territans  Female   NaN      1  Rural-North West     NaN   \n",
       "4  Culiseta        impatiens  Female   NaN      2        Rural-West     NaN   \n",
       "\n",
       "  comparison_group   latitude   longitude new_trap_date  \n",
       "0            Outer  53.562973 -113.787353    2015-09-15  \n",
       "1       Peripheral  53.617221 -113.716182    1998-05-12  \n",
       "2       Peripheral  53.617221 -113.716182    2001-08-28  \n",
       "3       Peripheral  53.617221 -113.716182    2004-08-17  \n",
       "4            Outer  53.559020 -114.001190    2018-05-15  "
      ]
     },
     "execution_count": 602,
     "metadata": {},
     "output_type": "execute_result"
    }
   ],
   "source": [
    "mos_data[\"new_trap_date\"] = mos_data.apply(lambda x: x[\"trap_date\"].split(\"T\")[0], axis=1)\n",
    "mos_data.drop(columns=[\"trap_date\", \"geocoded_column\"], inplace=True) #redundant\n",
    "\n",
    "mos_data.head()"
   ]
  },
  {
   "cell_type": "code",
   "execution_count": 603,
   "metadata": {
    "scrolled": false
   },
   "outputs": [
    {
     "name": "stdout",
     "output_type": "stream",
     "text": [
      "<class 'pandas.core.frame.DataFrame'>\n",
      "RangeIndex: 1000 entries, 0 to 999\n",
      "Data columns (total 11 columns):\n",
      "genus               1000 non-null object\n",
      "specific_epithet    1000 non-null object\n",
      "gender              1000 non-null object\n",
      "idd                 291 non-null object\n",
      "count               1000 non-null int64\n",
      "trap_region         1000 non-null object\n",
      "include             31 non-null object\n",
      "comparison_group    1000 non-null object\n",
      "latitude            1000 non-null float64\n",
      "longitude           1000 non-null float64\n",
      "new_trap_date       1000 non-null datetime64[ns]\n",
      "dtypes: datetime64[ns](1), float64(2), int64(1), object(7)\n",
      "memory usage: 86.0+ KB\n"
     ]
    }
   ],
   "source": [
    "#convert new_trap_date into datetime\n",
    "format = '%Y-%m-%d'\n",
    "mos_data[\"new_trap_date\"] = pd.to_datetime(mos_data[\"new_trap_date\"], format=format)\n",
    "\n",
    "mos_data.info()"
   ]
  },
  {
   "cell_type": "code",
   "execution_count": 604,
   "metadata": {},
   "outputs": [
    {
     "data": {
      "text/html": [
       "<div>\n",
       "<style scoped>\n",
       "    .dataframe tbody tr th:only-of-type {\n",
       "        vertical-align: middle;\n",
       "    }\n",
       "\n",
       "    .dataframe tbody tr th {\n",
       "        vertical-align: top;\n",
       "    }\n",
       "\n",
       "    .dataframe thead th {\n",
       "        text-align: right;\n",
       "    }\n",
       "</style>\n",
       "<table border=\"1\" class=\"dataframe\">\n",
       "  <thead>\n",
       "    <tr style=\"text-align: right;\">\n",
       "      <th></th>\n",
       "      <th>pressure_station</th>\n",
       "      <th>pressure_sea</th>\n",
       "      <th>wind_dir</th>\n",
       "      <th>wind_dir_10s</th>\n",
       "      <th>wind_speed</th>\n",
       "      <th>relative_humidity</th>\n",
       "      <th>dew_point</th>\n",
       "      <th>temperature</th>\n",
       "      <th>health_index</th>\n",
       "      <th>new_date_time_local</th>\n",
       "    </tr>\n",
       "  </thead>\n",
       "  <tbody>\n",
       "    <tr>\n",
       "      <th>0</th>\n",
       "      <td>91.73</td>\n",
       "      <td>99.7</td>\n",
       "      <td>SW</td>\n",
       "      <td>23.0</td>\n",
       "      <td>5.0</td>\n",
       "      <td>64.0</td>\n",
       "      <td>-7.3</td>\n",
       "      <td>-1.3</td>\n",
       "      <td>NaN</td>\n",
       "      <td>2018-12-18</td>\n",
       "    </tr>\n",
       "    <tr>\n",
       "      <th>1</th>\n",
       "      <td>91.67</td>\n",
       "      <td>99.7</td>\n",
       "      <td>S</td>\n",
       "      <td>18.0</td>\n",
       "      <td>5.0</td>\n",
       "      <td>65.0</td>\n",
       "      <td>-6.3</td>\n",
       "      <td>-0.5</td>\n",
       "      <td>4.0</td>\n",
       "      <td>2018-12-18</td>\n",
       "    </tr>\n",
       "    <tr>\n",
       "      <th>2</th>\n",
       "      <td>91.67</td>\n",
       "      <td>99.6</td>\n",
       "      <td>S</td>\n",
       "      <td>17.0</td>\n",
       "      <td>5.0</td>\n",
       "      <td>51.0</td>\n",
       "      <td>-6.5</td>\n",
       "      <td>2.7</td>\n",
       "      <td>4.0</td>\n",
       "      <td>2018-12-18</td>\n",
       "    </tr>\n",
       "    <tr>\n",
       "      <th>3</th>\n",
       "      <td>91.66</td>\n",
       "      <td>99.6</td>\n",
       "      <td>SE</td>\n",
       "      <td>13.0</td>\n",
       "      <td>2.0</td>\n",
       "      <td>50.0</td>\n",
       "      <td>-6.4</td>\n",
       "      <td>2.9</td>\n",
       "      <td>3.9</td>\n",
       "      <td>2018-12-18</td>\n",
       "    </tr>\n",
       "    <tr>\n",
       "      <th>4</th>\n",
       "      <td>91.75</td>\n",
       "      <td>99.7</td>\n",
       "      <td>NaN</td>\n",
       "      <td>NaN</td>\n",
       "      <td>0.0</td>\n",
       "      <td>59.0</td>\n",
       "      <td>-6.6</td>\n",
       "      <td>0.5</td>\n",
       "      <td>4.1</td>\n",
       "      <td>2018-12-18</td>\n",
       "    </tr>\n",
       "  </tbody>\n",
       "</table>\n",
       "</div>"
      ],
      "text/plain": [
       "   pressure_station  pressure_sea wind_dir  wind_dir_10s  wind_speed  \\\n",
       "0             91.73          99.7       SW          23.0         5.0   \n",
       "1             91.67          99.7        S          18.0         5.0   \n",
       "2             91.67          99.6        S          17.0         5.0   \n",
       "3             91.66          99.6       SE          13.0         2.0   \n",
       "4             91.75          99.7      NaN           NaN         0.0   \n",
       "\n",
       "   relative_humidity  dew_point  temperature  health_index new_date_time_local  \n",
       "0               64.0       -7.3         -1.3           NaN          2018-12-18  \n",
       "1               65.0       -6.3         -0.5           4.0          2018-12-18  \n",
       "2               51.0       -6.5          2.7           4.0          2018-12-18  \n",
       "3               50.0       -6.4          2.9           3.9          2018-12-18  \n",
       "4               59.0       -6.6          0.5           4.1          2018-12-18  "
      ]
     },
     "execution_count": 604,
     "metadata": {},
     "output_type": "execute_result"
    }
   ],
   "source": [
    "weather_data[\"new_date_time_local\"] = weather_data.apply(lambda x: x[\"date_time_local\"].split(\" \")[0], axis=1)\n",
    "weather_data.drop(columns=[\"date_time_local\", \"unixtime\"], inplace=True)\n",
    "\n",
    "weather_data[\"new_date_time_local\"] = pd.to_datetime(weather_data[\"new_date_time_local\"])\n",
    "\n",
    "weather_data.head()"
   ]
  },
  {
   "cell_type": "code",
   "execution_count": 605,
   "metadata": {
    "scrolled": true
   },
   "outputs": [
    {
     "data": {
      "text/html": [
       "<div>\n",
       "<style scoped>\n",
       "    .dataframe tbody tr th:only-of-type {\n",
       "        vertical-align: middle;\n",
       "    }\n",
       "\n",
       "    .dataframe tbody tr th {\n",
       "        vertical-align: top;\n",
       "    }\n",
       "\n",
       "    .dataframe thead th {\n",
       "        text-align: right;\n",
       "    }\n",
       "</style>\n",
       "<table border=\"1\" class=\"dataframe\">\n",
       "  <thead>\n",
       "    <tr style=\"text-align: right;\">\n",
       "      <th></th>\n",
       "      <th>new_date_time_local</th>\n",
       "      <th>count</th>\n",
       "    </tr>\n",
       "  </thead>\n",
       "  <tbody>\n",
       "    <tr>\n",
       "      <th>0</th>\n",
       "      <td>2016-12-18</td>\n",
       "      <td>7</td>\n",
       "    </tr>\n",
       "    <tr>\n",
       "      <th>84</th>\n",
       "      <td>2017-03-12</td>\n",
       "      <td>23</td>\n",
       "    </tr>\n",
       "    <tr>\n",
       "      <th>322</th>\n",
       "      <td>2017-11-05</td>\n",
       "      <td>25</td>\n",
       "    </tr>\n",
       "    <tr>\n",
       "      <th>448</th>\n",
       "      <td>2018-03-11</td>\n",
       "      <td>23</td>\n",
       "    </tr>\n",
       "    <tr>\n",
       "      <th>686</th>\n",
       "      <td>2018-11-04</td>\n",
       "      <td>25</td>\n",
       "    </tr>\n",
       "    <tr>\n",
       "      <th>730</th>\n",
       "      <td>2018-12-18</td>\n",
       "      <td>17</td>\n",
       "    </tr>\n",
       "  </tbody>\n",
       "</table>\n",
       "</div>"
      ],
      "text/plain": [
       "    new_date_time_local  count\n",
       "0            2016-12-18      7\n",
       "84           2017-03-12     23\n",
       "322          2017-11-05     25\n",
       "448          2018-03-11     23\n",
       "686          2018-11-04     25\n",
       "730          2018-12-18     17"
      ]
     },
     "execution_count": 605,
     "metadata": {},
     "output_type": "execute_result"
    }
   ],
   "source": [
    "count_df = weather_data.groupby([\"new_date_time_local\"]).size().reset_index(name='count')\n",
    "count_df = count_df.loc[(count_df[\"count\"] != 24)]\n",
    "\n",
    "count_df"
   ]
  },
  {
   "cell_type": "markdown",
   "metadata": {},
   "source": [
    "to ensure consistency in dates the above dates will be ignored"
   ]
  },
  {
   "cell_type": "code",
   "execution_count": 606,
   "metadata": {},
   "outputs": [],
   "source": [
    "# dates_to_drop = [\"2016-12-18\",\"2017-03-12\",\"2017-11-05\",\"2018-03-11\",\"2018-11-04\",\"2018-12-18\"]\n",
    "\n",
    "# weather_data = weather_data.loc[~weather_data[\"new_date_time_local\"].isin(dates_to_drop)]"
   ]
  },
  {
   "cell_type": "code",
   "execution_count": 607,
   "metadata": {},
   "outputs": [],
   "source": [
    "# # ranges of date/time columns in both dataset\n",
    "# mos_date_range = str(mos_data['new_trap_date'].dt.date.min()) + ' to ' +str(mos_data['new_trap_date'].dt.date.max())\n",
    "# weather_date_range = str(weather_data['new_date_time_local'].dt.date.min()) + ' to ' +str(weather_data['new_date_time_local'].dt.date.max())\n",
    "\n",
    "# print(\"Range of dates in mosquito dataset is {}\".format(mos_date_range))\n",
    "# print(\"Range of dates in weather dataset is {}\".format(weather_date_range))"
   ]
  },
  {
   "cell_type": "markdown",
   "metadata": {},
   "source": [
    "It can be seen that the mosquito dataset is covering a much bigger range so everything before 2016-12-19 and after 2018-12-17 will be ignored."
   ]
  },
  {
   "cell_type": "code",
   "execution_count": 608,
   "metadata": {
    "scrolled": true
   },
   "outputs": [],
   "source": [
    "# start_remove = weather_data['new_date_time_local'].dt.date.min()\n",
    "# end_remove = weather_data['new_date_time_local'].dt.date.max()\n",
    "\n",
    "# mos_data = mos_data.loc[(mos_data[\"new_trap_date\"] > start_remove) & (mos_data[\"new_trap_date\"] < end_remove) ]\n",
    "\n",
    "# mos_date_range = str(mos_data['new_trap_date'].dt.date.min())+' to ' + str(mos_data['new_trap_date'].dt.date.max())\n",
    "# print(\"Range of dates in mosquito dataset is {}\".format(mos_date_range))\n",
    "\n",
    "# mos_data.describe()"
   ]
  },
  {
   "cell_type": "code",
   "execution_count": 609,
   "metadata": {},
   "outputs": [],
   "source": [
    "# mos_data = mos_data[mos_data['count'] <= mos_data.describe()['count']['75%']]"
   ]
  },
  {
   "cell_type": "code",
   "execution_count": 610,
   "metadata": {
    "scrolled": true
   },
   "outputs": [
    {
     "data": {
      "text/plain": [
       "genus                 0\n",
       "specific_epithet      0\n",
       "gender                0\n",
       "idd                 709\n",
       "count                 0\n",
       "trap_region           0\n",
       "include             969\n",
       "comparison_group      0\n",
       "latitude              0\n",
       "longitude             0\n",
       "new_trap_date         0\n",
       "dtype: int64"
      ]
     },
     "execution_count": 610,
     "metadata": {},
     "output_type": "execute_result"
    }
   ],
   "source": [
    "mos_data.isnull().sum()"
   ]
  },
  {
   "cell_type": "markdown",
   "metadata": {},
   "source": [
    "drop idd and include columns as they are don't add enough information and mostly NaN"
   ]
  },
  {
   "cell_type": "code",
   "execution_count": 611,
   "metadata": {},
   "outputs": [],
   "source": [
    "mos_data.drop(columns=[\"idd\", \"include\"], inplace=True)"
   ]
  },
  {
   "cell_type": "markdown",
   "metadata": {},
   "source": [
    "### Grouping weather data on date column\n"
   ]
  },
  {
   "cell_type": "code",
   "execution_count": 612,
   "metadata": {
    "scrolled": true
   },
   "outputs": [
    {
     "data": {
      "text/plain": [
       "17520"
      ]
     },
     "execution_count": 612,
     "metadata": {},
     "output_type": "execute_result"
    }
   ],
   "source": [
    "len(weather_data.index)"
   ]
  },
  {
   "cell_type": "markdown",
   "metadata": {},
   "source": [
    "There is now 17400 rows in the df with each timestamp having 24 different readings. We will subset the data for different uses (3 subsets for task 1 and 1 subset for task 2) here and save them as a csv file, each 6 timestamps from the 24 will be groupedby and added to a different dataframe."
   ]
  },
  {
   "cell_type": "code",
   "execution_count": 613,
   "metadata": {
    "scrolled": false
   },
   "outputs": [],
   "source": [
    "# weather_data['wind_dir'].value_counts()"
   ]
  },
  {
   "cell_type": "code",
   "execution_count": 614,
   "metadata": {},
   "outputs": [],
   "source": [
    "# #first encode wind_dir and NaN are now 0\n",
    "# wind_dir_encoded = {\"wind_dir\": {\n",
    "#     \"SW\": 1,\n",
    "#     \"WNW\": 2,\n",
    "#     \"NW\": 3,\n",
    "#     \"W\": 4,\n",
    "#     \"WSW\": 5,\n",
    "#     \"SSW\": 6,\n",
    "#     \"NNW\": 7,\n",
    "#     \"S\": 8,\n",
    "#     \"N\": 9,\n",
    "#     \"SSE\": 10,\n",
    "#     \"SE\": 11,\n",
    "#     \"ENE\": 12,\n",
    "#     \"E\": 13,\n",
    "#     \"NNE\": 14,\n",
    "#     \"ESE\": 15,\n",
    "#     \"NE\": 16,\n",
    "# }}\n",
    "\n",
    "# weather_data[\"wind_dir\"] = weather_data[\"wind_dir\"].fillna(0)\n",
    "# weather_data = weather_data.replace(wind_dir_encoded)\n",
    "\n",
    "# weather_data['wind_dir'].value_counts()"
   ]
  },
  {
   "cell_type": "markdown",
   "metadata": {},
   "source": [
    "Now that we have 4 subsets we need to group them by the date.\n",
    "Before grouping them we need to decide how are we planning to group the values with minimal distribution loss."
   ]
  },
  {
   "cell_type": "code",
   "execution_count": 615,
   "metadata": {},
   "outputs": [
    {
     "data": {
      "image/png": "[encoded data removed]",
      "text/plain": [
       "<Figure size 1080x576 with 1 Axes>"
      ]
     },
     "metadata": {},
     "output_type": "display_data"
    }
   ],
   "source": [
    "#current distribution:\n",
    "plt.figure(figsize=(15, 8))\n",
    "ax = weather_data[\"temperature\"].hist(bins=15, density=True, stacked=True, color='teal', alpha=0.6)\n",
    "weather_data[\"temperature\"].plot(kind='density', color='teal')\n",
    "\n",
    "\n",
    "ax.set(xlabel=\"temperature\")\n",
    "plt.xlim(-10,40)\n",
    "plt.show()"
   ]
  },
  {
   "cell_type": "code",
   "execution_count": 616,
   "metadata": {},
   "outputs": [],
   "source": [
    "weather_data_mean = weather_data.groupby(\"new_date_time_local\", as_index=False).agg({\n",
    "    \"wind_dir\":lambda x: x.value_counts().index[0],\n",
    "    \"wind_dir_10s\":lambda x: x.value_counts().index[0],\n",
    "    \"wind_speed\":lambda x: round(x.mean(),1),#x.median(),#x.mode().iloc[0],\n",
    "    \"relative_humidity\":lambda x: round(x.mean(),1),\n",
    "    \"dew_point\":lambda x: round(x.mean(),1),\n",
    "    \"temperature\":lambda x: round(x.mean(),1),\n",
    "})\n",
    "\n",
    "weather_data_mode = weather_data.groupby(\"new_date_time_local\", as_index=False).agg({\n",
    "    \"wind_dir\":lambda x: x.value_counts().index[0],\n",
    "    \"wind_dir_10s\":lambda x: x.value_counts().index[0],\n",
    "    \"wind_speed\":lambda x: x.mode().iloc[0],\n",
    "    \"relative_humidity\":lambda x: x.mode().iloc[0],\n",
    "    \"dew_point\":lambda x: x.mode().iloc[0],\n",
    "    \"temperature\":lambda x: x.mode().iloc[0],\n",
    "})\n",
    "\n",
    "weather_data_median = weather_data.groupby(\"new_date_time_local\", as_index=False).agg({\n",
    "    \"wind_dir\":lambda x: x.value_counts().index[0],\n",
    "    \"wind_dir_10s\":lambda x: x.value_counts().index[0],\n",
    "    \"wind_speed\":lambda x: x.median(),\n",
    "    \"relative_humidity\":lambda x: x.median(),\n",
    "    \"dew_point\":lambda x: x.median(),\n",
    "    \"temperature\":lambda x: x.median(),\n",
    "})\n",
    "\n"
   ]
  },
  {
   "cell_type": "code",
   "execution_count": 617,
   "metadata": {},
   "outputs": [
    {
     "data": {
      "image/png": "[encoded data removed]",
      "text/plain": [
       "<Figure size 1080x576 with 1 Axes>"
      ]
     },
     "metadata": {},
     "output_type": "display_data"
    }
   ],
   "source": [
    "\n",
    "key_to_test = 'relative_humidity'\n",
    "\n",
    "plt.figure(figsize=(15, 8))\n",
    "ax = weather_data[key_to_test].hist(bins=15, density=True, stacked=True, color='teal', alpha=0.6)\n",
    "weather_data[key_to_test].plot(kind='density', color='teal')\n",
    "\n",
    "\n",
    "ax = weather_data_median[key_to_test].hist(bins=15, density=True, stacked=True, color='orange', alpha=0.6)\n",
    "weather_data_median[key_to_test].plot(kind='density', color='orange')\n",
    "\n",
    "\n",
    "ax.legend(['Original data', 'Median data'])\n",
    "ax.set(xlabel=key_to_test)\n",
    "plt.xlim(-10,40)\n",
    "plt.show()"
   ]
  },
  {
   "cell_type": "code",
   "execution_count": 618,
   "metadata": {},
   "outputs": [
    {
     "data": {
      "image/png": "[encoded data removed]",
      "text/plain": [
       "<Figure size 1080x576 with 1 Axes>"
      ]
     },
     "metadata": {},
     "output_type": "display_data"
    }
   ],
   "source": [
    "plt.figure(figsize=(15, 8))\n",
    "ax = weather_data[key_to_test].hist(bins=15, density=True, stacked=True, color='teal', alpha=0.6)\n",
    "weather_data[key_to_test].plot(kind='density', color='teal')\n",
    "\n",
    "ax = weather_data_mean[key_to_test].hist(bins=15, density=True, stacked=True, color='orange', alpha=0.6)\n",
    "weather_data_mean[key_to_test].plot(kind='density', color='orange')\n",
    "\n",
    "ax.legend(['Original data', 'Mean data'])\n",
    "ax.set(xlabel=key_to_test)\n",
    "plt.xlim(-10,40)\n",
    "plt.show()\n"
   ]
  },
  {
   "cell_type": "code",
   "execution_count": 619,
   "metadata": {
    "scrolled": true
   },
   "outputs": [
    {
     "data": {
      "image/png": "[encoded data removed]",
      "text/plain": [
       "<Figure size 1080x576 with 1 Axes>"
      ]
     },
     "metadata": {},
     "output_type": "display_data"
    }
   ],
   "source": [
    "plt.figure(figsize=(15, 8))\n",
    "ax = weather_data[key_to_test].hist(bins=15, density=True, stacked=True, color='teal', alpha=0.6)\n",
    "weather_data[key_to_test].plot(kind='density', color='teal')\n",
    "\n",
    "\n",
    "ax = weather_data_mode[key_to_test].hist(bins=15, density=True, stacked=True, color='orange', alpha=0.6)\n",
    "weather_data_mode[key_to_test].plot(kind='density', color='orange')\n",
    "\n",
    "ax.legend(['Original data', 'Mode data'])\n",
    "ax.set(xlabel=key_to_test)\n",
    "plt.xlim(-10,40)\n",
    "plt.show()\n"
   ]
  },
  {
   "cell_type": "markdown",
   "metadata": {},
   "source": [
    "It can be seen that the mean data follows the distribution the most so it will be used."
   ]
  },
  {
   "cell_type": "code",
   "execution_count": 620,
   "metadata": {},
   "outputs": [],
   "source": [
    "weather_data_final = weather_data.groupby(\"new_date_time_local\", as_index=False).agg({\n",
    "    \"wind_dir\":lambda x: x.value_counts().index[0],\n",
    "    \"wind_dir_10s\":lambda x: x.value_counts().index[0],\n",
    "    \"wind_speed\":lambda x: round(x.mean(),1),#x.median(),#x.mode().iloc[0],\n",
    "    \"relative_humidity\":lambda x: x.median(),\n",
    "    \"dew_point\":lambda x: x.median(),\n",
    "    \"temperature\":lambda x: x.median(),\n",
    "})\n",
    "\n"
   ]
  },
  {
   "cell_type": "markdown",
   "metadata": {},
   "source": [
    "Now all NaNs are replaced"
   ]
  },
  {
   "cell_type": "code",
   "execution_count": 621,
   "metadata": {},
   "outputs": [
    {
     "data": {
      "text/plain": [
       "new_date_time_local    0\n",
       "wind_dir               0\n",
       "wind_dir_10s           0\n",
       "wind_speed             0\n",
       "relative_humidity      0\n",
       "dew_point              0\n",
       "temperature            0\n",
       "dtype: int64"
      ]
     },
     "execution_count": 621,
     "metadata": {},
     "output_type": "execute_result"
    }
   ],
   "source": [
    "weather_data_final.isnull().sum()"
   ]
  },
  {
   "cell_type": "code",
   "execution_count": 622,
   "metadata": {},
   "outputs": [],
   "source": [
    "mos_data.sort_values(by='new_trap_date', inplace=True)"
   ]
  },
  {
   "cell_type": "markdown",
   "metadata": {},
   "source": [
    "## Combine both datasets"
   ]
  },
  {
   "cell_type": "code",
   "execution_count": 623,
   "metadata": {
    "scrolled": false
   },
   "outputs": [
    {
     "data": {
      "text/html": [
       "<div>\n",
       "<style scoped>\n",
       "    .dataframe tbody tr th:only-of-type {\n",
       "        vertical-align: middle;\n",
       "    }\n",
       "\n",
       "    .dataframe tbody tr th {\n",
       "        vertical-align: top;\n",
       "    }\n",
       "\n",
       "    .dataframe thead th {\n",
       "        text-align: right;\n",
       "    }\n",
       "</style>\n",
       "<table border=\"1\" class=\"dataframe\">\n",
       "  <thead>\n",
       "    <tr style=\"text-align: right;\">\n",
       "      <th></th>\n",
       "      <th>genus</th>\n",
       "      <th>specific_epithet</th>\n",
       "      <th>gender</th>\n",
       "      <th>count</th>\n",
       "      <th>trap_region</th>\n",
       "      <th>comparison_group</th>\n",
       "      <th>latitude</th>\n",
       "      <th>longitude</th>\n",
       "      <th>new_trap_date</th>\n",
       "    </tr>\n",
       "  </thead>\n",
       "  <tbody>\n",
       "    <tr>\n",
       "      <th>721</th>\n",
       "      <td>Culiseta</td>\n",
       "      <td>alaskaensis</td>\n",
       "      <td>Female</td>\n",
       "      <td>1</td>\n",
       "      <td>Rural-South West</td>\n",
       "      <td>Peripheral</td>\n",
       "      <td>53.453900</td>\n",
       "      <td>-113.68865</td>\n",
       "      <td>1990-05-22</td>\n",
       "    </tr>\n",
       "    <tr>\n",
       "      <th>660</th>\n",
       "      <td>Ochlerotatus</td>\n",
       "      <td>Black legs</td>\n",
       "      <td>Female</td>\n",
       "      <td>2</td>\n",
       "      <td>Rural-South West</td>\n",
       "      <td>Peripheral</td>\n",
       "      <td>53.453900</td>\n",
       "      <td>-113.68865</td>\n",
       "      <td>1990-05-29</td>\n",
       "    </tr>\n",
       "    <tr>\n",
       "      <th>939</th>\n",
       "      <td>Aedes</td>\n",
       "      <td>dorsalis</td>\n",
       "      <td>Female</td>\n",
       "      <td>2</td>\n",
       "      <td>Rural-South East</td>\n",
       "      <td>Peripheral</td>\n",
       "      <td>53.395831</td>\n",
       "      <td>-113.39354</td>\n",
       "      <td>1990-06-12</td>\n",
       "    </tr>\n",
       "    <tr>\n",
       "      <th>224</th>\n",
       "      <td>Ochlerotatus</td>\n",
       "      <td>fitchii</td>\n",
       "      <td>Female</td>\n",
       "      <td>12</td>\n",
       "      <td>Rural-South East</td>\n",
       "      <td>Peripheral</td>\n",
       "      <td>53.395831</td>\n",
       "      <td>-113.39354</td>\n",
       "      <td>1990-06-19</td>\n",
       "    </tr>\n",
       "    <tr>\n",
       "      <th>912</th>\n",
       "      <td>Culiseta</td>\n",
       "      <td>alaskaensis</td>\n",
       "      <td>Female</td>\n",
       "      <td>2</td>\n",
       "      <td>Rural-South West</td>\n",
       "      <td>Peripheral</td>\n",
       "      <td>53.453900</td>\n",
       "      <td>-113.68865</td>\n",
       "      <td>1990-06-19</td>\n",
       "    </tr>\n",
       "  </tbody>\n",
       "</table>\n",
       "</div>"
      ],
      "text/plain": [
       "            genus specific_epithet  gender  count       trap_region  \\\n",
       "721      Culiseta      alaskaensis  Female      1  Rural-South West   \n",
       "660  Ochlerotatus       Black legs  Female      2  Rural-South West   \n",
       "939         Aedes         dorsalis  Female      2  Rural-South East   \n",
       "224  Ochlerotatus          fitchii  Female     12  Rural-South East   \n",
       "912      Culiseta      alaskaensis  Female      2  Rural-South West   \n",
       "\n",
       "    comparison_group   latitude  longitude new_trap_date  \n",
       "721       Peripheral  53.453900 -113.68865    1990-05-22  \n",
       "660       Peripheral  53.453900 -113.68865    1990-05-29  \n",
       "939       Peripheral  53.395831 -113.39354    1990-06-12  \n",
       "224       Peripheral  53.395831 -113.39354    1990-06-19  \n",
       "912       Peripheral  53.453900 -113.68865    1990-06-19  "
      ]
     },
     "execution_count": 623,
     "metadata": {},
     "output_type": "execute_result"
    }
   ],
   "source": [
    "mos_data.head()"
   ]
  },
  {
   "cell_type": "code",
   "execution_count": 624,
   "metadata": {},
   "outputs": [
    {
     "data": {
      "text/html": [
       "<div>\n",
       "<style scoped>\n",
       "    .dataframe tbody tr th:only-of-type {\n",
       "        vertical-align: middle;\n",
       "    }\n",
       "\n",
       "    .dataframe tbody tr th {\n",
       "        vertical-align: top;\n",
       "    }\n",
       "\n",
       "    .dataframe thead th {\n",
       "        text-align: right;\n",
       "    }\n",
       "</style>\n",
       "<table border=\"1\" class=\"dataframe\">\n",
       "  <thead>\n",
       "    <tr style=\"text-align: right;\">\n",
       "      <th></th>\n",
       "      <th>genus</th>\n",
       "      <th>specific_epithet</th>\n",
       "      <th>gender</th>\n",
       "      <th>count</th>\n",
       "      <th>trap_region</th>\n",
       "      <th>comparison_group</th>\n",
       "      <th>latitude</th>\n",
       "      <th>longitude</th>\n",
       "      <th>new_trap_date</th>\n",
       "    </tr>\n",
       "  </thead>\n",
       "  <tbody>\n",
       "    <tr>\n",
       "      <th>84</th>\n",
       "      <td>Culex</td>\n",
       "      <td>pipiens/restuans</td>\n",
       "      <td>Female</td>\n",
       "      <td>1</td>\n",
       "      <td>Residential-South</td>\n",
       "      <td>Core</td>\n",
       "      <td>53.482057</td>\n",
       "      <td>-113.418346</td>\n",
       "      <td>2020-08-11</td>\n",
       "    </tr>\n",
       "    <tr>\n",
       "      <th>535</th>\n",
       "      <td>Anopheles</td>\n",
       "      <td>earlei</td>\n",
       "      <td>Female</td>\n",
       "      <td>1</td>\n",
       "      <td>Residential-South</td>\n",
       "      <td>Core</td>\n",
       "      <td>53.482057</td>\n",
       "      <td>-113.418346</td>\n",
       "      <td>2020-08-25</td>\n",
       "    </tr>\n",
       "    <tr>\n",
       "      <th>226</th>\n",
       "      <td>Male</td>\n",
       "      <td>UnID</td>\n",
       "      <td>Male</td>\n",
       "      <td>36</td>\n",
       "      <td>Residential-North</td>\n",
       "      <td>Core</td>\n",
       "      <td>53.579459</td>\n",
       "      <td>-113.499262</td>\n",
       "      <td>2020-09-08</td>\n",
       "    </tr>\n",
       "    <tr>\n",
       "      <th>680</th>\n",
       "      <td>Culiseta</td>\n",
       "      <td>minnesotae</td>\n",
       "      <td>Female</td>\n",
       "      <td>6</td>\n",
       "      <td>Residential-South</td>\n",
       "      <td>Core</td>\n",
       "      <td>53.482057</td>\n",
       "      <td>-113.418346</td>\n",
       "      <td>2020-09-22</td>\n",
       "    </tr>\n",
       "    <tr>\n",
       "      <th>877</th>\n",
       "      <td>Male</td>\n",
       "      <td>UnID</td>\n",
       "      <td>Male</td>\n",
       "      <td>42</td>\n",
       "      <td>Residential-North</td>\n",
       "      <td>Core</td>\n",
       "      <td>53.579459</td>\n",
       "      <td>-113.499262</td>\n",
       "      <td>2020-09-22</td>\n",
       "    </tr>\n",
       "  </tbody>\n",
       "</table>\n",
       "</div>"
      ],
      "text/plain": [
       "         genus  specific_epithet  gender  count        trap_region  \\\n",
       "84       Culex  pipiens/restuans  Female      1  Residential-South   \n",
       "535  Anopheles            earlei  Female      1  Residential-South   \n",
       "226       Male              UnID    Male     36  Residential-North   \n",
       "680   Culiseta        minnesotae  Female      6  Residential-South   \n",
       "877       Male              UnID    Male     42  Residential-North   \n",
       "\n",
       "    comparison_group   latitude   longitude new_trap_date  \n",
       "84              Core  53.482057 -113.418346    2020-08-11  \n",
       "535             Core  53.482057 -113.418346    2020-08-25  \n",
       "226             Core  53.579459 -113.499262    2020-09-08  \n",
       "680             Core  53.482057 -113.418346    2020-09-22  \n",
       "877             Core  53.579459 -113.499262    2020-09-22  "
      ]
     },
     "execution_count": 624,
     "metadata": {},
     "output_type": "execute_result"
    }
   ],
   "source": [
    "mos_data.tail()"
   ]
  },
  {
   "cell_type": "code",
   "execution_count": 625,
   "metadata": {},
   "outputs": [
    {
     "data": {
      "text/plain": [
       "1000"
      ]
     },
     "execution_count": 625,
     "metadata": {},
     "output_type": "execute_result"
    }
   ],
   "source": [
    "len(mos_data.index)"
   ]
  },
  {
   "cell_type": "markdown",
   "metadata": {},
   "source": [
    "It can be seen that at one day there might be multiple rows due to different trap location thus different records. In order to combine both dataframes we need to:\n",
    "\n",
    "\n",
    "**ASSUMPTION 1**: the weather is the same for all locations for the whole week.\n",
    "\n",
    "We need to group the weather data weekly."
   ]
  },
  {
   "cell_type": "code",
   "execution_count": 626,
   "metadata": {},
   "outputs": [
    {
     "data": {
      "text/html": [
       "<div>\n",
       "<style scoped>\n",
       "    .dataframe tbody tr th:only-of-type {\n",
       "        vertical-align: middle;\n",
       "    }\n",
       "\n",
       "    .dataframe tbody tr th {\n",
       "        vertical-align: top;\n",
       "    }\n",
       "\n",
       "    .dataframe thead th {\n",
       "        text-align: right;\n",
       "    }\n",
       "</style>\n",
       "<table border=\"1\" class=\"dataframe\">\n",
       "  <thead>\n",
       "    <tr style=\"text-align: right;\">\n",
       "      <th></th>\n",
       "      <th>new_date_time_local</th>\n",
       "      <th>wind_dir</th>\n",
       "      <th>wind_dir_10s</th>\n",
       "      <th>wind_speed</th>\n",
       "      <th>relative_humidity</th>\n",
       "      <th>dew_point</th>\n",
       "      <th>temperature</th>\n",
       "    </tr>\n",
       "  </thead>\n",
       "  <tbody>\n",
       "    <tr>\n",
       "      <th>726</th>\n",
       "      <td>2018-12-14</td>\n",
       "      <td>S</td>\n",
       "      <td>19.0</td>\n",
       "      <td>13.2</td>\n",
       "      <td>64.0</td>\n",
       "      <td>-5.00</td>\n",
       "      <td>2.60</td>\n",
       "    </tr>\n",
       "    <tr>\n",
       "      <th>727</th>\n",
       "      <td>2018-12-15</td>\n",
       "      <td>NW</td>\n",
       "      <td>31.0</td>\n",
       "      <td>17.5</td>\n",
       "      <td>55.0</td>\n",
       "      <td>-8.75</td>\n",
       "      <td>0.50</td>\n",
       "    </tr>\n",
       "    <tr>\n",
       "      <th>728</th>\n",
       "      <td>2018-12-16</td>\n",
       "      <td>ESE</td>\n",
       "      <td>12.0</td>\n",
       "      <td>11.3</td>\n",
       "      <td>73.0</td>\n",
       "      <td>-12.00</td>\n",
       "      <td>-7.35</td>\n",
       "    </tr>\n",
       "    <tr>\n",
       "      <th>729</th>\n",
       "      <td>2018-12-17</td>\n",
       "      <td>SW</td>\n",
       "      <td>23.0</td>\n",
       "      <td>6.5</td>\n",
       "      <td>83.0</td>\n",
       "      <td>-9.90</td>\n",
       "      <td>-6.80</td>\n",
       "    </tr>\n",
       "    <tr>\n",
       "      <th>730</th>\n",
       "      <td>2018-12-18</td>\n",
       "      <td>SW</td>\n",
       "      <td>26.0</td>\n",
       "      <td>4.4</td>\n",
       "      <td>73.0</td>\n",
       "      <td>-7.60</td>\n",
       "      <td>-4.00</td>\n",
       "    </tr>\n",
       "  </tbody>\n",
       "</table>\n",
       "</div>"
      ],
      "text/plain": [
       "    new_date_time_local wind_dir  wind_dir_10s  wind_speed  relative_humidity  \\\n",
       "726          2018-12-14        S          19.0        13.2               64.0   \n",
       "727          2018-12-15       NW          31.0        17.5               55.0   \n",
       "728          2018-12-16      ESE          12.0        11.3               73.0   \n",
       "729          2018-12-17       SW          23.0         6.5               83.0   \n",
       "730          2018-12-18       SW          26.0         4.4               73.0   \n",
       "\n",
       "     dew_point  temperature  \n",
       "726      -5.00         2.60  \n",
       "727      -8.75         0.50  \n",
       "728     -12.00        -7.35  \n",
       "729      -9.90        -6.80  \n",
       "730      -7.60        -4.00  "
      ]
     },
     "execution_count": 626,
     "metadata": {},
     "output_type": "execute_result"
    }
   ],
   "source": [
    "# start_remove = mos_data[\"new_trap_date\"].dt.date.min()\n",
    "# end_remove = mos_data[\"new_trap_date\"].dt.date.max() + timedelta(days=2) #final week isn't complete so instead of losing a whole week in the data we are going to add 2 days from the weather data\n",
    "\n",
    "# print(start_remove, end_remove, sep=' ')\n",
    "\n",
    "# weather_data_final = weather_data_final.loc[(weather_data_final[\"new_date_time_local\"] >= start_remove) & (weather_data_final[\"new_date_time_local\"] <= end_remove) ]\n",
    "\n",
    "weather_data_final.sort_values(by='new_date_time_local', inplace=True)\n",
    "\n",
    "\n",
    "weather_data_final.tail()\n"
   ]
  },
  {
   "cell_type": "code",
   "execution_count": 627,
   "metadata": {
    "scrolled": true
   },
   "outputs": [
    {
     "data": {
      "text/plain": [
       "731"
      ]
     },
     "execution_count": 627,
     "metadata": {},
     "output_type": "execute_result"
    }
   ],
   "source": [
    "len(weather_data_final.index)"
   ]
  },
  {
   "cell_type": "code",
   "execution_count": 628,
   "metadata": {},
   "outputs": [
    {
     "data": {
      "text/plain": [
       "1000"
      ]
     },
     "execution_count": 628,
     "metadata": {},
     "output_type": "execute_result"
    }
   ],
   "source": [
    "len(mos_data.index)"
   ]
  },
  {
   "cell_type": "markdown",
   "metadata": {},
   "source": [
    "We need to group the data by every 7 days and again taking the weekly mean. The mean here is chosen as in general its the average of the 7 days calculated we are not using the mode as the values aren't generally repeated and not the median as we need to account that during the whole week certain events happened."
   ]
  },
  {
   "cell_type": "code",
   "execution_count": 629,
   "metadata": {},
   "outputs": [
    {
     "data": {
      "text/html": [
       "<div>\n",
       "<style scoped>\n",
       "    .dataframe tbody tr th:only-of-type {\n",
       "        vertical-align: middle;\n",
       "    }\n",
       "\n",
       "    .dataframe tbody tr th {\n",
       "        vertical-align: top;\n",
       "    }\n",
       "\n",
       "    .dataframe thead th {\n",
       "        text-align: right;\n",
       "    }\n",
       "</style>\n",
       "<table border=\"1\" class=\"dataframe\">\n",
       "  <thead>\n",
       "    <tr style=\"text-align: right;\">\n",
       "      <th></th>\n",
       "      <th>genus</th>\n",
       "      <th>specific_epithet</th>\n",
       "      <th>gender</th>\n",
       "      <th>count</th>\n",
       "      <th>trap_region</th>\n",
       "      <th>comparison_group</th>\n",
       "      <th>latitude</th>\n",
       "      <th>longitude</th>\n",
       "      <th>new_trap_date</th>\n",
       "    </tr>\n",
       "  </thead>\n",
       "  <tbody>\n",
       "    <tr>\n",
       "      <th>985</th>\n",
       "      <td>Ochlerotatus</td>\n",
       "      <td>mercurator</td>\n",
       "      <td>Female</td>\n",
       "      <td>2</td>\n",
       "      <td>River Valley-East</td>\n",
       "      <td>Core</td>\n",
       "      <td>53.581417</td>\n",
       "      <td>-113.374561</td>\n",
       "      <td>2020-08-04</td>\n",
       "    </tr>\n",
       "    <tr>\n",
       "      <th>189</th>\n",
       "      <td>Aedes</td>\n",
       "      <td>vexans</td>\n",
       "      <td>Female</td>\n",
       "      <td>215</td>\n",
       "      <td>River Valley-West</td>\n",
       "      <td>Core</td>\n",
       "      <td>53.504068</td>\n",
       "      <td>-113.570126</td>\n",
       "      <td>2020-08-04</td>\n",
       "    </tr>\n",
       "    <tr>\n",
       "      <th>84</th>\n",
       "      <td>Culex</td>\n",
       "      <td>pipiens/restuans</td>\n",
       "      <td>Female</td>\n",
       "      <td>1</td>\n",
       "      <td>Residential-South</td>\n",
       "      <td>Core</td>\n",
       "      <td>53.482057</td>\n",
       "      <td>-113.418346</td>\n",
       "      <td>2020-08-11</td>\n",
       "    </tr>\n",
       "    <tr>\n",
       "      <th>535</th>\n",
       "      <td>Anopheles</td>\n",
       "      <td>earlei</td>\n",
       "      <td>Female</td>\n",
       "      <td>1</td>\n",
       "      <td>Residential-South</td>\n",
       "      <td>Core</td>\n",
       "      <td>53.482057</td>\n",
       "      <td>-113.418346</td>\n",
       "      <td>2020-08-25</td>\n",
       "    </tr>\n",
       "    <tr>\n",
       "      <th>226</th>\n",
       "      <td>Male</td>\n",
       "      <td>UnID</td>\n",
       "      <td>Male</td>\n",
       "      <td>36</td>\n",
       "      <td>Residential-North</td>\n",
       "      <td>Core</td>\n",
       "      <td>53.579459</td>\n",
       "      <td>-113.499262</td>\n",
       "      <td>2020-09-08</td>\n",
       "    </tr>\n",
       "    <tr>\n",
       "      <th>680</th>\n",
       "      <td>Culiseta</td>\n",
       "      <td>minnesotae</td>\n",
       "      <td>Female</td>\n",
       "      <td>6</td>\n",
       "      <td>Residential-South</td>\n",
       "      <td>Core</td>\n",
       "      <td>53.482057</td>\n",
       "      <td>-113.418346</td>\n",
       "      <td>2020-09-22</td>\n",
       "    </tr>\n",
       "    <tr>\n",
       "      <th>877</th>\n",
       "      <td>Male</td>\n",
       "      <td>UnID</td>\n",
       "      <td>Male</td>\n",
       "      <td>42</td>\n",
       "      <td>Residential-North</td>\n",
       "      <td>Core</td>\n",
       "      <td>53.579459</td>\n",
       "      <td>-113.499262</td>\n",
       "      <td>2020-09-22</td>\n",
       "    </tr>\n",
       "  </tbody>\n",
       "</table>\n",
       "</div>"
      ],
      "text/plain": [
       "            genus  specific_epithet  gender  count        trap_region  \\\n",
       "985  Ochlerotatus        mercurator  Female      2  River Valley-East   \n",
       "189         Aedes            vexans  Female    215  River Valley-West   \n",
       "84          Culex  pipiens/restuans  Female      1  Residential-South   \n",
       "535     Anopheles            earlei  Female      1  Residential-South   \n",
       "226          Male              UnID    Male     36  Residential-North   \n",
       "680      Culiseta        minnesotae  Female      6  Residential-South   \n",
       "877          Male              UnID    Male     42  Residential-North   \n",
       "\n",
       "    comparison_group   latitude   longitude new_trap_date  \n",
       "985             Core  53.581417 -113.374561    2020-08-04  \n",
       "189             Core  53.504068 -113.570126    2020-08-04  \n",
       "84              Core  53.482057 -113.418346    2020-08-11  \n",
       "535             Core  53.482057 -113.418346    2020-08-25  \n",
       "226             Core  53.579459 -113.499262    2020-09-08  \n",
       "680             Core  53.482057 -113.418346    2020-09-22  \n",
       "877             Core  53.579459 -113.499262    2020-09-22  "
      ]
     },
     "execution_count": 629,
     "metadata": {},
     "output_type": "execute_result"
    }
   ],
   "source": [
    "mos_data.tail(7)"
   ]
  },
  {
   "cell_type": "code",
   "execution_count": 630,
   "metadata": {},
   "outputs": [],
   "source": [
    "# weather_data_final = weather_data_final.groupby('new_date_time_local').agg({\n",
    "#     \"new_date_time_local\": 'first',\n",
    "#     \"wind_dir\":lambda x: x.value_counts().index[0],\n",
    "#     \"wind_dir_10s\":lambda x: x.value_counts().index[0],\n",
    "#     \"wind_speed\":lambda x: round(x.mean(),1),#x.mode().iloc[0],\n",
    "#     \"relative_humidity\":lambda x: x.median(),\n",
    "#     \"dew_point\":lambda x: x.median(),\n",
    "#     \"temperature\":lambda x: x.median(),\n",
    "# })\n",
    "\n",
    "\n",
    "\n",
    "weather_data_final.reset_index(drop=True, inplace=True)\n",
    "\n",
    "weather_data_final.sort_values(by='new_date_time_local', inplace=True)\n"
   ]
  },
  {
   "cell_type": "code",
   "execution_count": 631,
   "metadata": {
    "scrolled": true
   },
   "outputs": [
    {
     "data": {
      "text/html": [
       "<div>\n",
       "<style scoped>\n",
       "    .dataframe tbody tr th:only-of-type {\n",
       "        vertical-align: middle;\n",
       "    }\n",
       "\n",
       "    .dataframe tbody tr th {\n",
       "        vertical-align: top;\n",
       "    }\n",
       "\n",
       "    .dataframe thead th {\n",
       "        text-align: right;\n",
       "    }\n",
       "</style>\n",
       "<table border=\"1\" class=\"dataframe\">\n",
       "  <thead>\n",
       "    <tr style=\"text-align: right;\">\n",
       "      <th></th>\n",
       "      <th>new_date_time_local</th>\n",
       "      <th>wind_dir</th>\n",
       "      <th>wind_dir_10s</th>\n",
       "      <th>wind_speed</th>\n",
       "      <th>relative_humidity</th>\n",
       "      <th>dew_point</th>\n",
       "      <th>temperature</th>\n",
       "    </tr>\n",
       "  </thead>\n",
       "  <tbody>\n",
       "    <tr>\n",
       "      <th>726</th>\n",
       "      <td>2018-12-14</td>\n",
       "      <td>S</td>\n",
       "      <td>19.0</td>\n",
       "      <td>13.2</td>\n",
       "      <td>64.0</td>\n",
       "      <td>-5.00</td>\n",
       "      <td>2.60</td>\n",
       "    </tr>\n",
       "    <tr>\n",
       "      <th>727</th>\n",
       "      <td>2018-12-15</td>\n",
       "      <td>NW</td>\n",
       "      <td>31.0</td>\n",
       "      <td>17.5</td>\n",
       "      <td>55.0</td>\n",
       "      <td>-8.75</td>\n",
       "      <td>0.50</td>\n",
       "    </tr>\n",
       "    <tr>\n",
       "      <th>728</th>\n",
       "      <td>2018-12-16</td>\n",
       "      <td>ESE</td>\n",
       "      <td>12.0</td>\n",
       "      <td>11.3</td>\n",
       "      <td>73.0</td>\n",
       "      <td>-12.00</td>\n",
       "      <td>-7.35</td>\n",
       "    </tr>\n",
       "    <tr>\n",
       "      <th>729</th>\n",
       "      <td>2018-12-17</td>\n",
       "      <td>SW</td>\n",
       "      <td>23.0</td>\n",
       "      <td>6.5</td>\n",
       "      <td>83.0</td>\n",
       "      <td>-9.90</td>\n",
       "      <td>-6.80</td>\n",
       "    </tr>\n",
       "    <tr>\n",
       "      <th>730</th>\n",
       "      <td>2018-12-18</td>\n",
       "      <td>SW</td>\n",
       "      <td>26.0</td>\n",
       "      <td>4.4</td>\n",
       "      <td>73.0</td>\n",
       "      <td>-7.60</td>\n",
       "      <td>-4.00</td>\n",
       "    </tr>\n",
       "  </tbody>\n",
       "</table>\n",
       "</div>"
      ],
      "text/plain": [
       "    new_date_time_local wind_dir  wind_dir_10s  wind_speed  relative_humidity  \\\n",
       "726          2018-12-14        S          19.0        13.2               64.0   \n",
       "727          2018-12-15       NW          31.0        17.5               55.0   \n",
       "728          2018-12-16      ESE          12.0        11.3               73.0   \n",
       "729          2018-12-17       SW          23.0         6.5               83.0   \n",
       "730          2018-12-18       SW          26.0         4.4               73.0   \n",
       "\n",
       "     dew_point  temperature  \n",
       "726      -5.00         2.60  \n",
       "727      -8.75         0.50  \n",
       "728     -12.00        -7.35  \n",
       "729      -9.90        -6.80  \n",
       "730      -7.60        -4.00  "
      ]
     },
     "execution_count": 631,
     "metadata": {},
     "output_type": "execute_result"
    }
   ],
   "source": [
    "weather_data_final.tail()"
   ]
  },
  {
   "cell_type": "code",
   "execution_count": 632,
   "metadata": {},
   "outputs": [
    {
     "data": {
      "text/html": [
       "<div>\n",
       "<style scoped>\n",
       "    .dataframe tbody tr th:only-of-type {\n",
       "        vertical-align: middle;\n",
       "    }\n",
       "\n",
       "    .dataframe tbody tr th {\n",
       "        vertical-align: top;\n",
       "    }\n",
       "\n",
       "    .dataframe thead th {\n",
       "        text-align: right;\n",
       "    }\n",
       "</style>\n",
       "<table border=\"1\" class=\"dataframe\">\n",
       "  <thead>\n",
       "    <tr style=\"text-align: right;\">\n",
       "      <th></th>\n",
       "      <th>new_date_time_local</th>\n",
       "      <th>wind_dir</th>\n",
       "      <th>wind_dir_10s</th>\n",
       "      <th>wind_speed</th>\n",
       "      <th>relative_humidity</th>\n",
       "      <th>dew_point</th>\n",
       "      <th>temperature</th>\n",
       "    </tr>\n",
       "  </thead>\n",
       "  <tbody>\n",
       "    <tr>\n",
       "      <th>726</th>\n",
       "      <td>2018-12-14</td>\n",
       "      <td>S</td>\n",
       "      <td>19.0</td>\n",
       "      <td>13.2</td>\n",
       "      <td>64.0</td>\n",
       "      <td>-5.00</td>\n",
       "      <td>2.60</td>\n",
       "    </tr>\n",
       "    <tr>\n",
       "      <th>727</th>\n",
       "      <td>2018-12-15</td>\n",
       "      <td>NW</td>\n",
       "      <td>31.0</td>\n",
       "      <td>17.5</td>\n",
       "      <td>55.0</td>\n",
       "      <td>-8.75</td>\n",
       "      <td>0.50</td>\n",
       "    </tr>\n",
       "    <tr>\n",
       "      <th>728</th>\n",
       "      <td>2018-12-16</td>\n",
       "      <td>ESE</td>\n",
       "      <td>12.0</td>\n",
       "      <td>11.3</td>\n",
       "      <td>73.0</td>\n",
       "      <td>-12.00</td>\n",
       "      <td>-7.35</td>\n",
       "    </tr>\n",
       "    <tr>\n",
       "      <th>729</th>\n",
       "      <td>2018-12-17</td>\n",
       "      <td>SW</td>\n",
       "      <td>23.0</td>\n",
       "      <td>6.5</td>\n",
       "      <td>83.0</td>\n",
       "      <td>-9.90</td>\n",
       "      <td>-6.80</td>\n",
       "    </tr>\n",
       "    <tr>\n",
       "      <th>730</th>\n",
       "      <td>2018-12-18</td>\n",
       "      <td>SW</td>\n",
       "      <td>26.0</td>\n",
       "      <td>4.4</td>\n",
       "      <td>73.0</td>\n",
       "      <td>-7.60</td>\n",
       "      <td>-4.00</td>\n",
       "    </tr>\n",
       "  </tbody>\n",
       "</table>\n",
       "</div>"
      ],
      "text/plain": [
       "    new_date_time_local wind_dir  wind_dir_10s  wind_speed  relative_humidity  \\\n",
       "726          2018-12-14        S          19.0        13.2               64.0   \n",
       "727          2018-12-15       NW          31.0        17.5               55.0   \n",
       "728          2018-12-16      ESE          12.0        11.3               73.0   \n",
       "729          2018-12-17       SW          23.0         6.5               83.0   \n",
       "730          2018-12-18       SW          26.0         4.4               73.0   \n",
       "\n",
       "     dew_point  temperature  \n",
       "726      -5.00         2.60  \n",
       "727      -8.75         0.50  \n",
       "728     -12.00        -7.35  \n",
       "729      -9.90        -6.80  \n",
       "730      -7.60        -4.00  "
      ]
     },
     "execution_count": 632,
     "metadata": {},
     "output_type": "execute_result"
    }
   ],
   "source": [
    "weather_data_final.at[71,'new_date_time_local'] = mos_data[\"new_trap_date\"].dt.date.max()\n",
    "\n",
    "weather_data_final.tail()\n",
    "# len(weather_data_A_final.index)"
   ]
  },
  {
   "cell_type": "markdown",
   "metadata": {},
   "source": [
    "Before finalizing the data "
   ]
  },
  {
   "cell_type": "markdown",
   "metadata": {},
   "source": [
    "Now that we finished everything regarding the weather data we focus on grouping the mos_data"
   ]
  },
  {
   "cell_type": "code",
   "execution_count": 633,
   "metadata": {},
   "outputs": [],
   "source": [
    "mos_data.reset_index(drop=True, inplace=True)"
   ]
  },
  {
   "cell_type": "code",
   "execution_count": 634,
   "metadata": {},
   "outputs": [],
   "source": [
    "mos_data = mos_data.groupby([\"new_trap_date\"], as_index=False).agg({\n",
    "    \"count\":\"sum\",\n",
    "    \n",
    "})"
   ]
  },
  {
   "cell_type": "code",
   "execution_count": 635,
   "metadata": {},
   "outputs": [
    {
     "data": {
      "text/plain": [
       "418"
      ]
     },
     "execution_count": 635,
     "metadata": {},
     "output_type": "execute_result"
    }
   ],
   "source": [
    "len(mos_data.index)"
   ]
  },
  {
   "cell_type": "code",
   "execution_count": 636,
   "metadata": {
    "scrolled": true
   },
   "outputs": [
    {
     "data": {
      "text/html": [
       "<div>\n",
       "<style scoped>\n",
       "    .dataframe tbody tr th:only-of-type {\n",
       "        vertical-align: middle;\n",
       "    }\n",
       "\n",
       "    .dataframe tbody tr th {\n",
       "        vertical-align: top;\n",
       "    }\n",
       "\n",
       "    .dataframe thead th {\n",
       "        text-align: right;\n",
       "    }\n",
       "</style>\n",
       "<table border=\"1\" class=\"dataframe\">\n",
       "  <thead>\n",
       "    <tr style=\"text-align: right;\">\n",
       "      <th></th>\n",
       "      <th>new_trap_date</th>\n",
       "      <th>count</th>\n",
       "      <th>new_date_time_local</th>\n",
       "      <th>wind_dir</th>\n",
       "      <th>wind_dir_10s</th>\n",
       "      <th>wind_speed</th>\n",
       "      <th>relative_humidity</th>\n",
       "      <th>dew_point</th>\n",
       "      <th>temperature</th>\n",
       "    </tr>\n",
       "  </thead>\n",
       "  <tbody>\n",
       "    <tr>\n",
       "      <th>0</th>\n",
       "      <td>2017-05-09</td>\n",
       "      <td>1</td>\n",
       "      <td>2017-05-09</td>\n",
       "      <td>NW</td>\n",
       "      <td>32.0</td>\n",
       "      <td>6.8</td>\n",
       "      <td>41.0</td>\n",
       "      <td>0.50</td>\n",
       "      <td>13.50</td>\n",
       "    </tr>\n",
       "    <tr>\n",
       "      <th>1</th>\n",
       "      <td>2017-05-16</td>\n",
       "      <td>1</td>\n",
       "      <td>2017-05-16</td>\n",
       "      <td>ENE</td>\n",
       "      <td>6.0</td>\n",
       "      <td>14.1</td>\n",
       "      <td>73.0</td>\n",
       "      <td>2.65</td>\n",
       "      <td>8.30</td>\n",
       "    </tr>\n",
       "    <tr>\n",
       "      <th>2</th>\n",
       "      <td>2017-05-23</td>\n",
       "      <td>24</td>\n",
       "      <td>2017-05-23</td>\n",
       "      <td>SSW</td>\n",
       "      <td>20.0</td>\n",
       "      <td>12.1</td>\n",
       "      <td>36.0</td>\n",
       "      <td>5.10</td>\n",
       "      <td>21.45</td>\n",
       "    </tr>\n",
       "    <tr>\n",
       "      <th>3</th>\n",
       "      <td>2017-05-30</td>\n",
       "      <td>36</td>\n",
       "      <td>2017-05-30</td>\n",
       "      <td>SSE</td>\n",
       "      <td>15.0</td>\n",
       "      <td>22.4</td>\n",
       "      <td>33.5</td>\n",
       "      <td>3.05</td>\n",
       "      <td>20.05</td>\n",
       "    </tr>\n",
       "    <tr>\n",
       "      <th>4</th>\n",
       "      <td>2017-06-06</td>\n",
       "      <td>3</td>\n",
       "      <td>2017-06-06</td>\n",
       "      <td>SSE</td>\n",
       "      <td>15.0</td>\n",
       "      <td>11.5</td>\n",
       "      <td>35.0</td>\n",
       "      <td>4.30</td>\n",
       "      <td>20.55</td>\n",
       "    </tr>\n",
       "  </tbody>\n",
       "</table>\n",
       "</div>"
      ],
      "text/plain": [
       "  new_trap_date  count new_date_time_local wind_dir  wind_dir_10s  wind_speed  \\\n",
       "0    2017-05-09      1          2017-05-09       NW          32.0         6.8   \n",
       "1    2017-05-16      1          2017-05-16      ENE           6.0        14.1   \n",
       "2    2017-05-23     24          2017-05-23      SSW          20.0        12.1   \n",
       "3    2017-05-30     36          2017-05-30      SSE          15.0        22.4   \n",
       "4    2017-06-06      3          2017-06-06      SSE          15.0        11.5   \n",
       "\n",
       "   relative_humidity  dew_point  temperature  \n",
       "0               41.0       0.50        13.50  \n",
       "1               73.0       2.65         8.30  \n",
       "2               36.0       5.10        21.45  \n",
       "3               33.5       3.05        20.05  \n",
       "4               35.0       4.30        20.55  "
      ]
     },
     "execution_count": 636,
     "metadata": {},
     "output_type": "execute_result"
    }
   ],
   "source": [
    "final = pd.merge(left=mos_data, right=weather_data_final, left_on=\"new_trap_date\", right_on=\"new_date_time_local\")\n",
    "\n",
    "\n",
    "\n",
    "#D is used in task 2\n",
    "\n",
    "final.head()"
   ]
  },
  {
   "cell_type": "markdown",
   "metadata": {},
   "source": [
    "Notes to self:\n",
    "- now that everything is done, am I actually doing everything right ? Is averaging everything is actually the best way to do it ?\n",
    "- stopped at: both data are successfully merged, next is visuallizing the data following the titanic approach and finally building the models."
   ]
  },
  {
   "cell_type": "code",
   "execution_count": 637,
   "metadata": {},
   "outputs": [
    {
     "data": {
      "text/plain": [
       "38"
      ]
     },
     "execution_count": 637,
     "metadata": {},
     "output_type": "execute_result"
    }
   ],
   "source": [
    "len(final.index)"
   ]
  },
  {
   "cell_type": "code",
   "execution_count": 638,
   "metadata": {
    "scrolled": true
   },
   "outputs": [],
   "source": [
    "# print(\"Gender of mosquitos trapped records:\")\n",
    "# print(final_A['gender'].value_counts())\n",
    "# sns.countplot(x='gender', data=final_A, palette='Set2')\n",
    "# plt.show()\n",
    "# print(\"The most common gender records is %s\" % final_A['gender'].value_counts().idxmax())"
   ]
  },
  {
   "cell_type": "code",
   "execution_count": 639,
   "metadata": {},
   "outputs": [],
   "source": [
    "#drop dates columns as they are irrelevant now\n",
    "final.drop(columns=[\"new_trap_date\", \"new_date_time_local\"], inplace=True)"
   ]
  },
  {
   "cell_type": "raw",
   "metadata": {},
   "source": [
    "Rencode for genus, specific_epithet, gender, trap_region, comparison group"
   ]
  },
  {
   "cell_type": "code",
   "execution_count": 640,
   "metadata": {},
   "outputs": [
    {
     "data": {
      "text/html": [
       "<div>\n",
       "<style scoped>\n",
       "    .dataframe tbody tr th:only-of-type {\n",
       "        vertical-align: middle;\n",
       "    }\n",
       "\n",
       "    .dataframe tbody tr th {\n",
       "        vertical-align: top;\n",
       "    }\n",
       "\n",
       "    .dataframe thead th {\n",
       "        text-align: right;\n",
       "    }\n",
       "</style>\n",
       "<table border=\"1\" class=\"dataframe\">\n",
       "  <thead>\n",
       "    <tr style=\"text-align: right;\">\n",
       "      <th></th>\n",
       "      <th>count</th>\n",
       "      <th>wind_dir</th>\n",
       "      <th>wind_dir_10s</th>\n",
       "      <th>wind_speed</th>\n",
       "      <th>relative_humidity</th>\n",
       "      <th>dew_point</th>\n",
       "      <th>temperature</th>\n",
       "      <th>wind_dir_cat</th>\n",
       "    </tr>\n",
       "  </thead>\n",
       "  <tbody>\n",
       "    <tr>\n",
       "      <th>0</th>\n",
       "      <td>1</td>\n",
       "      <td>NW</td>\n",
       "      <td>32.0</td>\n",
       "      <td>6.8</td>\n",
       "      <td>41.0</td>\n",
       "      <td>0.50</td>\n",
       "      <td>13.50</td>\n",
       "      <td>5</td>\n",
       "    </tr>\n",
       "    <tr>\n",
       "      <th>1</th>\n",
       "      <td>1</td>\n",
       "      <td>ENE</td>\n",
       "      <td>6.0</td>\n",
       "      <td>14.1</td>\n",
       "      <td>73.0</td>\n",
       "      <td>2.65</td>\n",
       "      <td>8.30</td>\n",
       "      <td>0</td>\n",
       "    </tr>\n",
       "    <tr>\n",
       "      <th>2</th>\n",
       "      <td>24</td>\n",
       "      <td>SSW</td>\n",
       "      <td>20.0</td>\n",
       "      <td>12.1</td>\n",
       "      <td>36.0</td>\n",
       "      <td>5.10</td>\n",
       "      <td>21.45</td>\n",
       "      <td>8</td>\n",
       "    </tr>\n",
       "    <tr>\n",
       "      <th>3</th>\n",
       "      <td>36</td>\n",
       "      <td>SSE</td>\n",
       "      <td>15.0</td>\n",
       "      <td>22.4</td>\n",
       "      <td>33.5</td>\n",
       "      <td>3.05</td>\n",
       "      <td>20.05</td>\n",
       "      <td>7</td>\n",
       "    </tr>\n",
       "    <tr>\n",
       "      <th>4</th>\n",
       "      <td>3</td>\n",
       "      <td>SSE</td>\n",
       "      <td>15.0</td>\n",
       "      <td>11.5</td>\n",
       "      <td>35.0</td>\n",
       "      <td>4.30</td>\n",
       "      <td>20.55</td>\n",
       "      <td>7</td>\n",
       "    </tr>\n",
       "  </tbody>\n",
       "</table>\n",
       "</div>"
      ],
      "text/plain": [
       "   count wind_dir  wind_dir_10s  wind_speed  relative_humidity  dew_point  \\\n",
       "0      1       NW          32.0         6.8               41.0       0.50   \n",
       "1      1      ENE           6.0        14.1               73.0       2.65   \n",
       "2     24      SSW          20.0        12.1               36.0       5.10   \n",
       "3     36      SSE          15.0        22.4               33.5       3.05   \n",
       "4      3      SSE          15.0        11.5               35.0       4.30   \n",
       "\n",
       "   temperature  wind_dir_cat  \n",
       "0        13.50             5  \n",
       "1         8.30             0  \n",
       "2        21.45             8  \n",
       "3        20.05             7  \n",
       "4        20.55             7  "
      ]
     },
     "execution_count": 640,
     "metadata": {},
     "output_type": "execute_result"
    }
   ],
   "source": [
    "# final[\"genus\"] = final[\"genus\"].astype('category')\n",
    "# final[\"specific_epithet\"] = final[\"specific_epithet\"].astype('category')\n",
    "# final[\"gender\"] = final[\"gender\"].astype('category')\n",
    "# final[\"trap_region\"] = final[\"trap_region\"].astype('category')\n",
    "# final[\"comparison_group\"] = final[\"comparison_group\"].astype('category')\n",
    "final[\"wind_dir\"] = final[\"wind_dir\"].astype('category')\n",
    "\n",
    "\n",
    "# final[\"genus_cat\"] = final[\"genus\"].cat.codes\n",
    "# final[\"specific_epithet_cat\"] = final[\"specific_epithet\"].cat.codes\n",
    "# final[\"gender_cat\"] = final[\"gender\"].cat.codes\n",
    "# final[\"trap_region_cat\"] = final[\"trap_region\"].cat.codes\n",
    "# final[\"comparison_group_cat\"] = final[\"comparison_group\"].cat.codes\n",
    "final[\"wind_dir_cat\"] = final[\"wind_dir\"].cat.codes\n",
    "\n",
    "# dummies = pd.get_dummies(final[[\"genus\", \"gender\", \"trap_region\", \"comparison_group\", \"wind_dir\"]])\n",
    "\n",
    "# final = pd.concat([final, dummies], axis=1)\n",
    "\n",
    "final.head()"
   ]
  },
  {
   "cell_type": "code",
   "execution_count": 641,
   "metadata": {},
   "outputs": [],
   "source": [
    "cols = [\"genus\", \"specific_epithet\", \"gender\", \"trap_region\", \"comparison_group\", \"wind_dir\"]\n",
    "\n",
    "final.drop(columns=[\"wind_dir\"], inplace=True)"
   ]
  },
  {
   "cell_type": "code",
   "execution_count": 642,
   "metadata": {
    "scrolled": true
   },
   "outputs": [
    {
     "data": {
      "text/html": [
       "<div>\n",
       "<style scoped>\n",
       "    .dataframe tbody tr th:only-of-type {\n",
       "        vertical-align: middle;\n",
       "    }\n",
       "\n",
       "    .dataframe tbody tr th {\n",
       "        vertical-align: top;\n",
       "    }\n",
       "\n",
       "    .dataframe thead th {\n",
       "        text-align: right;\n",
       "    }\n",
       "</style>\n",
       "<table border=\"1\" class=\"dataframe\">\n",
       "  <thead>\n",
       "    <tr style=\"text-align: right;\">\n",
       "      <th></th>\n",
       "      <th>count</th>\n",
       "      <th>wind_dir_10s</th>\n",
       "      <th>wind_speed</th>\n",
       "      <th>relative_humidity</th>\n",
       "      <th>dew_point</th>\n",
       "      <th>temperature</th>\n",
       "      <th>wind_dir_cat</th>\n",
       "    </tr>\n",
       "  </thead>\n",
       "  <tbody>\n",
       "    <tr>\n",
       "      <th>0</th>\n",
       "      <td>1</td>\n",
       "      <td>32.0</td>\n",
       "      <td>6.8</td>\n",
       "      <td>41.0</td>\n",
       "      <td>0.50</td>\n",
       "      <td>13.50</td>\n",
       "      <td>5</td>\n",
       "    </tr>\n",
       "    <tr>\n",
       "      <th>1</th>\n",
       "      <td>1</td>\n",
       "      <td>6.0</td>\n",
       "      <td>14.1</td>\n",
       "      <td>73.0</td>\n",
       "      <td>2.65</td>\n",
       "      <td>8.30</td>\n",
       "      <td>0</td>\n",
       "    </tr>\n",
       "    <tr>\n",
       "      <th>2</th>\n",
       "      <td>24</td>\n",
       "      <td>20.0</td>\n",
       "      <td>12.1</td>\n",
       "      <td>36.0</td>\n",
       "      <td>5.10</td>\n",
       "      <td>21.45</td>\n",
       "      <td>8</td>\n",
       "    </tr>\n",
       "    <tr>\n",
       "      <th>3</th>\n",
       "      <td>36</td>\n",
       "      <td>15.0</td>\n",
       "      <td>22.4</td>\n",
       "      <td>33.5</td>\n",
       "      <td>3.05</td>\n",
       "      <td>20.05</td>\n",
       "      <td>7</td>\n",
       "    </tr>\n",
       "    <tr>\n",
       "      <th>4</th>\n",
       "      <td>3</td>\n",
       "      <td>15.0</td>\n",
       "      <td>11.5</td>\n",
       "      <td>35.0</td>\n",
       "      <td>4.30</td>\n",
       "      <td>20.55</td>\n",
       "      <td>7</td>\n",
       "    </tr>\n",
       "  </tbody>\n",
       "</table>\n",
       "</div>"
      ],
      "text/plain": [
       "   count  wind_dir_10s  wind_speed  relative_humidity  dew_point  temperature  \\\n",
       "0      1          32.0         6.8               41.0       0.50        13.50   \n",
       "1      1           6.0        14.1               73.0       2.65         8.30   \n",
       "2     24          20.0        12.1               36.0       5.10        21.45   \n",
       "3     36          15.0        22.4               33.5       3.05        20.05   \n",
       "4      3          15.0        11.5               35.0       4.30        20.55   \n",
       "\n",
       "   wind_dir_cat  \n",
       "0             5  \n",
       "1             0  \n",
       "2             8  \n",
       "3             7  \n",
       "4             7  "
      ]
     },
     "execution_count": 642,
     "metadata": {},
     "output_type": "execute_result"
    }
   ],
   "source": [
    "final.head()"
   ]
  },
  {
   "cell_type": "markdown",
   "metadata": {},
   "source": [
    "## Part A: Linear regression num of Mosquitos"
   ]
  },
  {
   "cell_type": "code",
   "execution_count": 643,
   "metadata": {},
   "outputs": [],
   "source": [
    "# sns.pairplot(final_A)"
   ]
  },
  {
   "cell_type": "code",
   "execution_count": 644,
   "metadata": {},
   "outputs": [
    {
     "data": {
      "text/plain": [
       "<matplotlib.axes._subplots.AxesSubplot at 0x7f8c6a6249e8>"
      ]
     },
     "execution_count": 644,
     "metadata": {},
     "output_type": "execute_result"
    },
    {
     "data": {
      "image/png": "[encoded data removed]",
      "text/plain": [
       "<Figure size 432x288 with 1 Axes>"
      ]
     },
     "metadata": {},
     "output_type": "display_data"
    }
   ],
   "source": [
    "sns.distplot(final[\"count\"])"
   ]
  },
  {
   "cell_type": "code",
   "execution_count": 645,
   "metadata": {},
   "outputs": [
    {
     "data": {
      "text/plain": [
       "<matplotlib.axes._subplots.AxesSubplot at 0x7f8c6a5aa668>"
      ]
     },
     "execution_count": 645,
     "metadata": {},
     "output_type": "execute_result"
    },
    {
     "data": {
      "image/png": "[encoded data removed]",
      "text/plain": [
       "<Figure size 864x864 with 2 Axes>"
      ]
     },
     "metadata": {},
     "output_type": "display_data"
    }
   ],
   "source": [
    "fig, ax = plt.subplots(figsize=(12,12))\n",
    "sns.heatmap(final.corr(), annot=True, ax=ax)"
   ]
  },
  {
   "cell_type": "code",
   "execution_count": 646,
   "metadata": {},
   "outputs": [
    {
     "data": {
      "text/html": [
       "<div>\n",
       "<style scoped>\n",
       "    .dataframe tbody tr th:only-of-type {\n",
       "        vertical-align: middle;\n",
       "    }\n",
       "\n",
       "    .dataframe tbody tr th {\n",
       "        vertical-align: top;\n",
       "    }\n",
       "\n",
       "    .dataframe thead th {\n",
       "        text-align: right;\n",
       "    }\n",
       "</style>\n",
       "<table border=\"1\" class=\"dataframe\">\n",
       "  <thead>\n",
       "    <tr style=\"text-align: right;\">\n",
       "      <th></th>\n",
       "      <th>count</th>\n",
       "      <th>wind_dir_10s</th>\n",
       "      <th>wind_speed</th>\n",
       "      <th>relative_humidity</th>\n",
       "      <th>dew_point</th>\n",
       "      <th>temperature</th>\n",
       "      <th>wind_dir_cat</th>\n",
       "    </tr>\n",
       "  </thead>\n",
       "  <tbody>\n",
       "    <tr>\n",
       "      <th>0</th>\n",
       "      <td>1</td>\n",
       "      <td>32.0</td>\n",
       "      <td>6.8</td>\n",
       "      <td>41.0</td>\n",
       "      <td>0.50</td>\n",
       "      <td>13.50</td>\n",
       "      <td>5</td>\n",
       "    </tr>\n",
       "    <tr>\n",
       "      <th>1</th>\n",
       "      <td>1</td>\n",
       "      <td>6.0</td>\n",
       "      <td>14.1</td>\n",
       "      <td>73.0</td>\n",
       "      <td>2.65</td>\n",
       "      <td>8.30</td>\n",
       "      <td>0</td>\n",
       "    </tr>\n",
       "    <tr>\n",
       "      <th>2</th>\n",
       "      <td>24</td>\n",
       "      <td>20.0</td>\n",
       "      <td>12.1</td>\n",
       "      <td>36.0</td>\n",
       "      <td>5.10</td>\n",
       "      <td>21.45</td>\n",
       "      <td>8</td>\n",
       "    </tr>\n",
       "    <tr>\n",
       "      <th>3</th>\n",
       "      <td>36</td>\n",
       "      <td>15.0</td>\n",
       "      <td>22.4</td>\n",
       "      <td>33.5</td>\n",
       "      <td>3.05</td>\n",
       "      <td>20.05</td>\n",
       "      <td>7</td>\n",
       "    </tr>\n",
       "    <tr>\n",
       "      <th>4</th>\n",
       "      <td>3</td>\n",
       "      <td>15.0</td>\n",
       "      <td>11.5</td>\n",
       "      <td>35.0</td>\n",
       "      <td>4.30</td>\n",
       "      <td>20.55</td>\n",
       "      <td>7</td>\n",
       "    </tr>\n",
       "  </tbody>\n",
       "</table>\n",
       "</div>"
      ],
      "text/plain": [
       "   count  wind_dir_10s  wind_speed  relative_humidity  dew_point  temperature  \\\n",
       "0      1          32.0         6.8               41.0       0.50        13.50   \n",
       "1      1           6.0        14.1               73.0       2.65         8.30   \n",
       "2     24          20.0        12.1               36.0       5.10        21.45   \n",
       "3     36          15.0        22.4               33.5       3.05        20.05   \n",
       "4      3          15.0        11.5               35.0       4.30        20.55   \n",
       "\n",
       "   wind_dir_cat  \n",
       "0             5  \n",
       "1             0  \n",
       "2             8  \n",
       "3             7  \n",
       "4             7  "
      ]
     },
     "execution_count": 646,
     "metadata": {},
     "output_type": "execute_result"
    }
   ],
   "source": [
    "final.head()"
   ]
  },
  {
   "cell_type": "code",
   "execution_count": 647,
   "metadata": {
    "scrolled": true
   },
   "outputs": [],
   "source": [
    "# final_A.groupby('trap_region_cat').mean()[\"count\"].plot(kind='bar')"
   ]
  },
  {
   "cell_type": "code",
   "execution_count": 648,
   "metadata": {},
   "outputs": [
    {
     "data": {
      "image/png": "[encoded data removed]",
      "text/plain": [
       "<Figure size 432x288 with 1 Axes>"
      ]
     },
     "metadata": {},
     "output_type": "display_data"
    }
   ],
   "source": [
    "plt.scatter(final[\"temperature\"], final[\"count\"])\n",
    "plt.show()"
   ]
  },
  {
   "cell_type": "code",
   "execution_count": 649,
   "metadata": {
    "scrolled": true
   },
   "outputs": [],
   "source": [
    "# final_A.groupby('comparison_group_cat').mean()[\"count\"].plot(kind='bar')"
   ]
  },
  {
   "cell_type": "code",
   "execution_count": 650,
   "metadata": {
    "scrolled": true
   },
   "outputs": [],
   "source": [
    "# final_A.groupby('specific_epithet_cat').mean()[\"count\"].plot(kind='bar')"
   ]
  },
  {
   "cell_type": "code",
   "execution_count": 651,
   "metadata": {},
   "outputs": [],
   "source": [
    "# final_A.groupby('genus_cat').mean()[\"count\"].plot(kind='bar')"
   ]
  },
  {
   "cell_type": "code",
   "execution_count": 652,
   "metadata": {},
   "outputs": [],
   "source": [
    "from sklearn.preprocessing import StandardScaler\n",
    "\n",
    "cols = [ 'latitude', 'longitude', 'genus_cat','trap_region_cat','comparison_group_cat','wind_dir_cat','count','wind_dir_10s']\n",
    "\n",
    "X = final.drop(columns=['count','wind_dir_10s'])\n",
    "\n",
    "y = final['count']\n",
    "\n",
    "# cols= ['wind_speed', 'relative_humidity', 'dew_point', 'temperature']\n",
    "# X[cols] = X[cols].apply(lambda x: (x - x.min()) / (x.max() - x.min()))\n",
    "# X[cols] = StandardScaler().fit_transform(X[cols])\n"
   ]
  },
  {
   "cell_type": "code",
   "execution_count": 653,
   "metadata": {},
   "outputs": [],
   "source": [
    "from sklearn.model_selection import train_test_split\n",
    "X_train, X_test, y_train, y_test = train_test_split(X, y, test_size=0.3, random_state=42)"
   ]
  },
  {
   "cell_type": "code",
   "execution_count": 654,
   "metadata": {},
   "outputs": [],
   "source": [
    "from sklearn import metrics\n",
    "from sklearn.model_selection import cross_val_score\n",
    "\n",
    "def cross_val(model):\n",
    "    pred = cross_val_score(model, X, y, cv=10)\n",
    "    return pred.mean()\n",
    "\n",
    "def print_evaluate(true, predicted):  \n",
    "    mae = metrics.mean_absolute_error(true, predicted)\n",
    "    mse = metrics.mean_squared_error(true, predicted)\n",
    "    rmse = np.sqrt(metrics.mean_squared_error(true, predicted))\n",
    "    r2_square = metrics.r2_score(true, predicted)\n",
    "    print('MAE:', mae)\n",
    "    print('MSE:', mse)\n",
    "    print('RMSE:', rmse)\n",
    "    print('R2 Square', r2_square)\n",
    "    \n",
    "def evaluate(true, predicted):\n",
    "    mae = metrics.mean_absolute_error(true, predicted)\n",
    "    mse = metrics.mean_squared_error(true, predicted)\n",
    "    rmse = np.sqrt(metrics.mean_squared_error(true, predicted))\n",
    "    r2_square = metrics.r2_score(true, predicted)\n",
    "    return mae, mse, rmse, r2_square"
   ]
  },
  {
   "cell_type": "code",
   "execution_count": 655,
   "metadata": {},
   "outputs": [
    {
     "data": {
      "text/plain": [
       "LinearRegression(copy_X=True, fit_intercept=True, n_jobs=None,\n",
       "         normalize=False)"
      ]
     },
     "execution_count": 655,
     "metadata": {},
     "output_type": "execute_result"
    }
   ],
   "source": [
    "from sklearn.linear_model import LinearRegression\n",
    "\n",
    "lin_reg = LinearRegression()\n",
    "lin_reg.fit(X_train,y_train)"
   ]
  },
  {
   "cell_type": "code",
   "execution_count": 656,
   "metadata": {
    "scrolled": true
   },
   "outputs": [
    {
     "name": "stdout",
     "output_type": "stream",
     "text": [
      "531.3050761536381\n"
     ]
    },
    {
     "data": {
      "text/html": [
       "<div>\n",
       "<style scoped>\n",
       "    .dataframe tbody tr th:only-of-type {\n",
       "        vertical-align: middle;\n",
       "    }\n",
       "\n",
       "    .dataframe tbody tr th {\n",
       "        vertical-align: top;\n",
       "    }\n",
       "\n",
       "    .dataframe thead th {\n",
       "        text-align: right;\n",
       "    }\n",
       "</style>\n",
       "<table border=\"1\" class=\"dataframe\">\n",
       "  <thead>\n",
       "    <tr style=\"text-align: right;\">\n",
       "      <th></th>\n",
       "      <th>Coefficient</th>\n",
       "    </tr>\n",
       "  </thead>\n",
       "  <tbody>\n",
       "    <tr>\n",
       "      <th>wind_speed</th>\n",
       "      <td>11.348109</td>\n",
       "    </tr>\n",
       "    <tr>\n",
       "      <th>relative_humidity</th>\n",
       "      <td>-6.257913</td>\n",
       "    </tr>\n",
       "    <tr>\n",
       "      <th>dew_point</th>\n",
       "      <td>23.165776</td>\n",
       "    </tr>\n",
       "    <tr>\n",
       "      <th>temperature</th>\n",
       "      <td>-18.738108</td>\n",
       "    </tr>\n",
       "    <tr>\n",
       "      <th>wind_dir_cat</th>\n",
       "      <td>-7.284451</td>\n",
       "    </tr>\n",
       "  </tbody>\n",
       "</table>\n",
       "</div>"
      ],
      "text/plain": [
       "                   Coefficient\n",
       "wind_speed           11.348109\n",
       "relative_humidity    -6.257913\n",
       "dew_point            23.165776\n",
       "temperature         -18.738108\n",
       "wind_dir_cat         -7.284451"
      ]
     },
     "execution_count": 656,
     "metadata": {},
     "output_type": "execute_result"
    }
   ],
   "source": [
    "print(lin_reg.intercept_)\n",
    "coeff_df = pd.DataFrame(lin_reg.coef_, X.columns, columns=['Coefficient'])\n",
    "coeff_df"
   ]
  },
  {
   "cell_type": "code",
   "execution_count": 657,
   "metadata": {
    "scrolled": true
   },
   "outputs": [
    {
     "data": {
      "text/plain": [
       "<matplotlib.collections.PathCollection at 0x7f8c6ae42ef0>"
      ]
     },
     "execution_count": 657,
     "metadata": {},
     "output_type": "execute_result"
    },
    {
     "data": {
      "image/png": "[encoded data removed]",
      "text/plain": [
       "<Figure size 432x288 with 1 Axes>"
      ]
     },
     "metadata": {},
     "output_type": "display_data"
    }
   ],
   "source": [
    "pred = lin_reg.predict(X_test)\n",
    "plt.scatter(y_test, pred)"
   ]
  },
  {
   "cell_type": "code",
   "execution_count": 658,
   "metadata": {},
   "outputs": [
    {
     "data": {
      "image/png": "[encoded data removed]",
      "text/plain": [
       "<Figure size 432x288 with 1 Axes>"
      ]
     },
     "metadata": {},
     "output_type": "display_data"
    }
   ],
   "source": [
    "sns.distplot((y_test - pred), bins=50);"
   ]
  },
  {
   "cell_type": "code",
   "execution_count": 659,
   "metadata": {},
   "outputs": [
    {
     "name": "stdout",
     "output_type": "stream",
     "text": [
      "Test set evaluation:\n",
      "_____________________________________\n",
      "MAE: 160.6139497490577\n",
      "MSE: 108751.4144092342\n",
      "RMSE: 329.77479347159664\n",
      "R2 Square -0.11754354812391266\n",
      "====================================\n",
      "Train set evaluation:\n",
      "_____________________________________\n",
      "MAE: 83.23001742033975\n",
      "MSE: 12499.381860180034\n",
      "RMSE: 111.80063443549878\n",
      "R2 Square 0.2757698015629657\n"
     ]
    }
   ],
   "source": [
    "test_pred = lin_reg.predict(X_test)\n",
    "train_pred = lin_reg.predict(X_train)\n",
    "\n",
    "print('Test set evaluation:\\n_____________________________________')\n",
    "print_evaluate(y_test, test_pred)\n",
    "print('====================================')\n",
    "print('Train set evaluation:\\n_____________________________________')\n",
    "print_evaluate(y_train, train_pred)"
   ]
  },
  {
   "cell_type": "code",
   "execution_count": 660,
   "metadata": {
    "scrolled": true
   },
   "outputs": [
    {
     "data": {
      "text/html": [
       "<div>\n",
       "<style scoped>\n",
       "    .dataframe tbody tr th:only-of-type {\n",
       "        vertical-align: middle;\n",
       "    }\n",
       "\n",
       "    .dataframe tbody tr th {\n",
       "        vertical-align: top;\n",
       "    }\n",
       "\n",
       "    .dataframe thead th {\n",
       "        text-align: right;\n",
       "    }\n",
       "</style>\n",
       "<table border=\"1\" class=\"dataframe\">\n",
       "  <thead>\n",
       "    <tr style=\"text-align: right;\">\n",
       "      <th></th>\n",
       "      <th>Model</th>\n",
       "      <th>MAE</th>\n",
       "      <th>MSE</th>\n",
       "      <th>RMSE</th>\n",
       "      <th>R2 Square</th>\n",
       "      <th>Cross Validation</th>\n",
       "    </tr>\n",
       "  </thead>\n",
       "  <tbody>\n",
       "    <tr>\n",
       "      <th>0</th>\n",
       "      <td>Linear Regression</td>\n",
       "      <td>160.61395</td>\n",
       "      <td>108751.414409</td>\n",
       "      <td>329.774793</td>\n",
       "      <td>-0.117544</td>\n",
       "      <td>-50.587819</td>\n",
       "    </tr>\n",
       "  </tbody>\n",
       "</table>\n",
       "</div>"
      ],
      "text/plain": [
       "               Model        MAE            MSE        RMSE  R2 Square  \\\n",
       "0  Linear Regression  160.61395  108751.414409  329.774793  -0.117544   \n",
       "\n",
       "   Cross Validation  \n",
       "0        -50.587819  "
      ]
     },
     "execution_count": 660,
     "metadata": {},
     "output_type": "execute_result"
    }
   ],
   "source": [
    "results_df = pd.DataFrame(data=[[\"Linear Regression\", *evaluate(y_test, test_pred) , cross_val(LinearRegression())]], \n",
    "                          columns=['Model', 'MAE', 'MSE', 'RMSE', 'R2 Square', \"Cross Validation\"])\n",
    "results_df"
   ]
  },
  {
   "cell_type": "code",
   "execution_count": null,
   "metadata": {},
   "outputs": [],
   "source": []
  }
 ],
 "metadata": {
  "kernelspec": {
   "display_name": "Python 3",
   "language": "python",
   "name": "python3"
  },
  "language_info": {
   "codemirror_mode": {
    "name": "ipython",
    "version": 3
   },
   "file_extension": ".py",
   "mimetype": "text/x-python",
   "name": "python",
   "nbconvert_exporter": "python",
   "pygments_lexer": "ipython3",
   "version": "3.7.3"
  }
 },
 "nbformat": 4,
 "nbformat_minor": 2
}
