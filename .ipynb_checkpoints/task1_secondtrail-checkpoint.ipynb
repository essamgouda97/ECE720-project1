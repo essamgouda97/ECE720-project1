{
 "cells": [
  {
   "cell_type": "markdown",
   "metadata": {},
   "source": [
    "# Task 1\n",
    "- 3 regression models\n",
    "\n",
    "### 1) Linear Regression\n",
    "- no_of_Mosquito = function(weather_features^A)\n",
    "\n",
    "### 2) Linear Regression\n",
    "- no_of_Mosquito_female = function(weather_features^B)\n",
    "- OR no_of_Mosquito_male = function(weather_features^C)\n",
    "- Preferably do both\n",
    "\n",
    "### 3) Polynomial Regression\n",
    "- no_of_Mosquito_female = function(weather_features^B)\n",
    "- OR no_of_Mosquito_male = function(weather_features^C)\n",
    "- Preferably do both\n",
    "\n",
    "NOTE: A, B, C are a note that a subset of the inputs is used.\n",
    "Use different cost functions, perform analysis of constructed models, apply normalization and standardization, feature selection"
   ]
  },
  {
   "cell_type": "markdown",
   "metadata": {},
   "source": [
    "## Dataset\n",
    "\n",
    "- You need to combine both data sets to prepare a data set suitable for model construction.\n",
    "- Both data sets have different ‘time grid’ so you need to resolve it.\n",
    "- You have to aggregate data points over time, and different mosquito species.\n",
    "\n",
    "### Mosquito data notes:\n",
    "From website: Capture results of mosquitoes from various locations in Edmonton. These collections are from standard New Jersey light traps that are commonly used to record changes in abundance of mosquitoes before and after control campaigns and to compare seasonal and annual fluctuations in population. Since not all mosquito species are attracted equally to light traps, the City uses a variety of other trapping and survey methods (with their own limitations) to monitor mosquitoes. Not all trap collection sites are factored into the historical averages. Some data can be incomplete due to trap failure. Some trap locations change over time. Trap collections reflect, not absolute population levels, but mosquito activity, which is influenced by changing environmental conditions (temperature, humidity, wind, etc.). The weekly averages do not include any male mosquitoes or any females of species that do not typically bite people. Each data set reflects the mosquito activity of the week previous to the collection date.\n",
    "\n",
    "To complement this dataset, there is the Rainfall Gauge data which measures rainfall data in the Greater Edmonton area.\n",
    "\n",
    "\n",
    "- Data collected from May 1990 onward\n",
    "- Data is updated weekly and collected automatically\n",
    "\n",
    "#### Columns:\n",
    "\n",
    "- Trap Date (Date & Time Floating timestamp): date when the mosquito traps are collected. An empty mosquito traps are replaced for the next collection at the same time.\n",
    "- Genus (Text): When biologists talk about a genus, they mean one or more species of animals or plants that are closely related to each other. Low-level taxonomic ranking for biological classification.\n",
    "- Specific Epithet (Text): lowest taxonomic rank and having common characteristics and (usually) capable of mating with one another.\n",
    "- Gender (Text): male or female\n",
    "- IDd (Text or NaN): specimens too damaged for precise identification or not sigificant in the mosquito program are marked with a value of UnID.\n",
    "- Count (Number/Int): number of mosquitoes trapped at this Trap Region on this Trap Date.\n",
    "- Trap Region (Text): The description of where the mosquito trap was placed.\n",
    "- Include (Text or NaN): blank or no.\n",
    "- Comparison Group (Text): Trap areas used to evaluate mosquito program efficacy.\n",
    "- Latitude (Number/Float): geographic coordinate that specifies north-south position of mosquito trap.\n",
    "- Longitude (Number/Float): The geographic coordinate that specifies the east–west position of the mosquito trap.\n",
    "- Location (Point): The combination of latitude/longitude for mapping purposes."
   ]
  },
  {
   "cell_type": "markdown",
   "metadata": {},
   "source": [
    "## Edmoton weather notes:\n",
    "- Source: weatherstats.ca based on Environment and Climate Change Canada data\n",
    "\n",
    "### Columns (personal notes):\n",
    "- date_time_local (Date/Time human format YYYY-MM-DD HH:MM:SS TZ): date and time data recorded.\n",
    "- unixtime: unix time format\n",
    "- pressure_station (float or NaN):\n",
    "- pressure_sea (float or NaN):\n",
    "- wind_dir (Text or NaN): wind direction in compass directions (SW, WSW ... etc)\n",
    "- wind_dir_10s (float or NaN): \n",
    "- wind_speed (float or NaN): speed of the wind in CONVUNIT <- TBD\n",
    "- wind_gust (NaN or float): \n",
    "- relative_humidty (float or NaN):\n",
    "- dew_point (float or NaN): \n",
    "- temperature (float or NaN): temp recorded\n",
    "- windchill (float or NaN):\n",
    "- humidex (float or NaN):\n",
    "- visibility (float or NaN):\n",
    "- health_index (float or NaN):\n",
    "- cloud_cover_4 (float or NaN):\n",
    "- cloud_cover_8 (float or NaN):\n",
    "- cloud_cover_10 (float or NaN):\n",
    "- solar_radiation (float or NaN):\n"
   ]
  },
  {
   "cell_type": "markdown",
   "metadata": {},
   "source": [
    "## Imports"
   ]
  },
  {
   "cell_type": "code",
   "execution_count": 46,
   "metadata": {},
   "outputs": [],
   "source": [
    "import pandas as pd\n",
    "import numpy as np\n",
    "import matplotlib.pyplot as plt\n",
    "plt.rc(\"font\", size=14)\n",
    "import seaborn as sns\n",
    "sns.set(style=\"white\") #white bg for sns plots\n",
    "sns.set(style=\"whitegrid\", color_codes=True)\n",
    "\n",
    "from datetime import timedelta\n",
    "\n",
    "import time\n",
    "import warnings\n",
    "warnings.simplefilter(action='ignore')"
   ]
  },
  {
   "cell_type": "markdown",
   "metadata": {},
   "source": [
    "## Read csv files"
   ]
  },
  {
   "cell_type": "code",
   "execution_count": 36,
   "metadata": {},
   "outputs": [],
   "source": [
    "mos_data = pd.read_csv(\"./data/mosquito_data.csv\")\n",
    "weather_data = pd.read_csv(\"./data/weather_data.csv\")\n",
    "\n",
    "\n",
    "orig_mos_data = mos_data.copy()\n",
    "orig_weather_data = weather_data.copy()"
   ]
  },
  {
   "cell_type": "code",
   "execution_count": 37,
   "metadata": {},
   "outputs": [
    {
     "data": {
      "text/html": [
       "<div>\n",
       "<style scoped>\n",
       "    .dataframe tbody tr th:only-of-type {\n",
       "        vertical-align: middle;\n",
       "    }\n",
       "\n",
       "    .dataframe tbody tr th {\n",
       "        vertical-align: top;\n",
       "    }\n",
       "\n",
       "    .dataframe thead th {\n",
       "        text-align: right;\n",
       "    }\n",
       "</style>\n",
       "<table border=\"1\" class=\"dataframe\">\n",
       "  <thead>\n",
       "    <tr style=\"text-align: right;\">\n",
       "      <th></th>\n",
       "      <th>trap_date</th>\n",
       "      <th>genus</th>\n",
       "      <th>specific_epithet</th>\n",
       "      <th>gender</th>\n",
       "      <th>idd</th>\n",
       "      <th>count</th>\n",
       "      <th>trap_region</th>\n",
       "      <th>include</th>\n",
       "      <th>comparison_group</th>\n",
       "      <th>latitude</th>\n",
       "      <th>longitude</th>\n",
       "      <th>geocoded_column</th>\n",
       "    </tr>\n",
       "  </thead>\n",
       "  <tbody>\n",
       "    <tr>\n",
       "      <th>0</th>\n",
       "      <td>2015-09-15T00:00:00.000</td>\n",
       "      <td>Aedes</td>\n",
       "      <td>vexans</td>\n",
       "      <td>Female</td>\n",
       "      <td>NaN</td>\n",
       "      <td>3</td>\n",
       "      <td>Rural-West</td>\n",
       "      <td>NaN</td>\n",
       "      <td>Outer</td>\n",
       "      <td>53.562973</td>\n",
       "      <td>-113.787353</td>\n",
       "      <td>POINT (-113.787353 53.5629733)</td>\n",
       "    </tr>\n",
       "    <tr>\n",
       "      <th>1</th>\n",
       "      <td>1998-05-12T00:00:00.000</td>\n",
       "      <td>Male</td>\n",
       "      <td>UnID</td>\n",
       "      <td>Male</td>\n",
       "      <td>UnID</td>\n",
       "      <td>1</td>\n",
       "      <td>Rural-North West</td>\n",
       "      <td>NaN</td>\n",
       "      <td>Peripheral</td>\n",
       "      <td>53.617221</td>\n",
       "      <td>-113.716182</td>\n",
       "      <td>POINT (-113.716182 53.617221)</td>\n",
       "    </tr>\n",
       "    <tr>\n",
       "      <th>2</th>\n",
       "      <td>2001-08-28T00:00:00.000</td>\n",
       "      <td>Culex</td>\n",
       "      <td>tarsalis</td>\n",
       "      <td>Female</td>\n",
       "      <td>NaN</td>\n",
       "      <td>1</td>\n",
       "      <td>Rural-North West</td>\n",
       "      <td>NaN</td>\n",
       "      <td>Peripheral</td>\n",
       "      <td>53.617221</td>\n",
       "      <td>-113.716182</td>\n",
       "      <td>POINT (-113.716182 53.617221)</td>\n",
       "    </tr>\n",
       "    <tr>\n",
       "      <th>3</th>\n",
       "      <td>2004-08-17T00:00:00.000</td>\n",
       "      <td>Culex</td>\n",
       "      <td>territans</td>\n",
       "      <td>Female</td>\n",
       "      <td>NaN</td>\n",
       "      <td>1</td>\n",
       "      <td>Rural-North West</td>\n",
       "      <td>NaN</td>\n",
       "      <td>Peripheral</td>\n",
       "      <td>53.617221</td>\n",
       "      <td>-113.716182</td>\n",
       "      <td>POINT (-113.716182 53.617221)</td>\n",
       "    </tr>\n",
       "    <tr>\n",
       "      <th>4</th>\n",
       "      <td>2018-05-15T00:00:00.000</td>\n",
       "      <td>Culiseta</td>\n",
       "      <td>impatiens</td>\n",
       "      <td>Female</td>\n",
       "      <td>NaN</td>\n",
       "      <td>2</td>\n",
       "      <td>Rural-West</td>\n",
       "      <td>NaN</td>\n",
       "      <td>Outer</td>\n",
       "      <td>53.559020</td>\n",
       "      <td>-114.001190</td>\n",
       "      <td>POINT (-114.00119 53.559020000000004)</td>\n",
       "    </tr>\n",
       "  </tbody>\n",
       "</table>\n",
       "</div>"
      ],
      "text/plain": [
       "                 trap_date     genus specific_epithet  gender   idd  count  \\\n",
       "0  2015-09-15T00:00:00.000     Aedes           vexans  Female   NaN      3   \n",
       "1  1998-05-12T00:00:00.000      Male             UnID    Male  UnID      1   \n",
       "2  2001-08-28T00:00:00.000     Culex         tarsalis  Female   NaN      1   \n",
       "3  2004-08-17T00:00:00.000     Culex        territans  Female   NaN      1   \n",
       "4  2018-05-15T00:00:00.000  Culiseta        impatiens  Female   NaN      2   \n",
       "\n",
       "        trap_region include comparison_group   latitude   longitude  \\\n",
       "0        Rural-West     NaN            Outer  53.562973 -113.787353   \n",
       "1  Rural-North West     NaN       Peripheral  53.617221 -113.716182   \n",
       "2  Rural-North West     NaN       Peripheral  53.617221 -113.716182   \n",
       "3  Rural-North West     NaN       Peripheral  53.617221 -113.716182   \n",
       "4        Rural-West     NaN            Outer  53.559020 -114.001190   \n",
       "\n",
       "                         geocoded_column  \n",
       "0         POINT (-113.787353 53.5629733)  \n",
       "1          POINT (-113.716182 53.617221)  \n",
       "2          POINT (-113.716182 53.617221)  \n",
       "3          POINT (-113.716182 53.617221)  \n",
       "4  POINT (-114.00119 53.559020000000004)  "
      ]
     },
     "execution_count": 37,
     "metadata": {},
     "output_type": "execute_result"
    }
   ],
   "source": [
    "mos_data.head()"
   ]
  },
  {
   "cell_type": "code",
   "execution_count": 57,
   "metadata": {},
   "outputs": [
    {
     "data": {
      "text/html": [
       "<div>\n",
       "<style scoped>\n",
       "    .dataframe tbody tr th:only-of-type {\n",
       "        vertical-align: middle;\n",
       "    }\n",
       "\n",
       "    .dataframe tbody tr th {\n",
       "        vertical-align: top;\n",
       "    }\n",
       "\n",
       "    .dataframe thead th {\n",
       "        text-align: right;\n",
       "    }\n",
       "</style>\n",
       "<table border=\"1\" class=\"dataframe\">\n",
       "  <thead>\n",
       "    <tr style=\"text-align: right;\">\n",
       "      <th></th>\n",
       "      <th>date_time_local</th>\n",
       "      <th>unixtime</th>\n",
       "      <th>pressure_station</th>\n",
       "      <th>pressure_sea</th>\n",
       "      <th>wind_dir</th>\n",
       "      <th>wind_dir_10s</th>\n",
       "      <th>wind_speed</th>\n",
       "      <th>relative_humidity</th>\n",
       "      <th>dew_point</th>\n",
       "      <th>temperature</th>\n",
       "      <th>health_index</th>\n",
       "    </tr>\n",
       "  </thead>\n",
       "  <tbody>\n",
       "    <tr>\n",
       "      <th>0</th>\n",
       "      <td>2018-12-18 16:00:00 MST</td>\n",
       "      <td>1545174000</td>\n",
       "      <td>91.73</td>\n",
       "      <td>99.7</td>\n",
       "      <td>SW</td>\n",
       "      <td>23.0</td>\n",
       "      <td>5.0</td>\n",
       "      <td>64.0</td>\n",
       "      <td>-7.3</td>\n",
       "      <td>-1.3</td>\n",
       "      <td>NaN</td>\n",
       "    </tr>\n",
       "    <tr>\n",
       "      <th>1</th>\n",
       "      <td>2018-12-18 15:00:00 MST</td>\n",
       "      <td>1545170400</td>\n",
       "      <td>91.67</td>\n",
       "      <td>99.7</td>\n",
       "      <td>S</td>\n",
       "      <td>18.0</td>\n",
       "      <td>5.0</td>\n",
       "      <td>65.0</td>\n",
       "      <td>-6.3</td>\n",
       "      <td>-0.5</td>\n",
       "      <td>4.0</td>\n",
       "    </tr>\n",
       "    <tr>\n",
       "      <th>2</th>\n",
       "      <td>2018-12-18 14:00:00 MST</td>\n",
       "      <td>1545166800</td>\n",
       "      <td>91.67</td>\n",
       "      <td>99.6</td>\n",
       "      <td>S</td>\n",
       "      <td>17.0</td>\n",
       "      <td>5.0</td>\n",
       "      <td>51.0</td>\n",
       "      <td>-6.5</td>\n",
       "      <td>2.7</td>\n",
       "      <td>4.0</td>\n",
       "    </tr>\n",
       "    <tr>\n",
       "      <th>3</th>\n",
       "      <td>2018-12-18 13:00:00 MST</td>\n",
       "      <td>1545163200</td>\n",
       "      <td>91.66</td>\n",
       "      <td>99.6</td>\n",
       "      <td>SE</td>\n",
       "      <td>13.0</td>\n",
       "      <td>2.0</td>\n",
       "      <td>50.0</td>\n",
       "      <td>-6.4</td>\n",
       "      <td>2.9</td>\n",
       "      <td>3.9</td>\n",
       "    </tr>\n",
       "    <tr>\n",
       "      <th>4</th>\n",
       "      <td>2018-12-18 12:00:00 MST</td>\n",
       "      <td>1545159600</td>\n",
       "      <td>91.75</td>\n",
       "      <td>99.7</td>\n",
       "      <td>NaN</td>\n",
       "      <td>NaN</td>\n",
       "      <td>0.0</td>\n",
       "      <td>59.0</td>\n",
       "      <td>-6.6</td>\n",
       "      <td>0.5</td>\n",
       "      <td>4.1</td>\n",
       "    </tr>\n",
       "    <tr>\n",
       "      <th>5</th>\n",
       "      <td>2018-12-18 11:00:00 MST</td>\n",
       "      <td>1545156000</td>\n",
       "      <td>91.74</td>\n",
       "      <td>99.7</td>\n",
       "      <td>SW</td>\n",
       "      <td>22.0</td>\n",
       "      <td>7.0</td>\n",
       "      <td>64.0</td>\n",
       "      <td>-6.9</td>\n",
       "      <td>-0.9</td>\n",
       "      <td>4.2</td>\n",
       "    </tr>\n",
       "    <tr>\n",
       "      <th>6</th>\n",
       "      <td>2018-12-18 10:00:00 MST</td>\n",
       "      <td>1545152400</td>\n",
       "      <td>91.73</td>\n",
       "      <td>99.8</td>\n",
       "      <td>WSW</td>\n",
       "      <td>26.0</td>\n",
       "      <td>5.0</td>\n",
       "      <td>75.0</td>\n",
       "      <td>-8.0</td>\n",
       "      <td>-4.3</td>\n",
       "      <td>4.1</td>\n",
       "    </tr>\n",
       "    <tr>\n",
       "      <th>7</th>\n",
       "      <td>2018-12-18 09:00:00 MST</td>\n",
       "      <td>1545148800</td>\n",
       "      <td>91.75</td>\n",
       "      <td>99.8</td>\n",
       "      <td>W</td>\n",
       "      <td>28.0</td>\n",
       "      <td>7.0</td>\n",
       "      <td>77.0</td>\n",
       "      <td>-7.8</td>\n",
       "      <td>-4.4</td>\n",
       "      <td>3.6</td>\n",
       "    </tr>\n",
       "    <tr>\n",
       "      <th>8</th>\n",
       "      <td>2018-12-18 08:00:00 MST</td>\n",
       "      <td>1545145200</td>\n",
       "      <td>91.73</td>\n",
       "      <td>99.8</td>\n",
       "      <td>SSW</td>\n",
       "      <td>21.0</td>\n",
       "      <td>4.0</td>\n",
       "      <td>81.0</td>\n",
       "      <td>-7.6</td>\n",
       "      <td>-4.8</td>\n",
       "      <td>3.2</td>\n",
       "    </tr>\n",
       "    <tr>\n",
       "      <th>9</th>\n",
       "      <td>2018-12-18 07:00:00 MST</td>\n",
       "      <td>1545141600</td>\n",
       "      <td>91.73</td>\n",
       "      <td>99.7</td>\n",
       "      <td>SSW</td>\n",
       "      <td>21.0</td>\n",
       "      <td>3.0</td>\n",
       "      <td>77.0</td>\n",
       "      <td>-7.4</td>\n",
       "      <td>-4.0</td>\n",
       "      <td>2.9</td>\n",
       "    </tr>\n",
       "    <tr>\n",
       "      <th>10</th>\n",
       "      <td>2018-12-18 06:00:00 MST</td>\n",
       "      <td>1545138000</td>\n",
       "      <td>91.79</td>\n",
       "      <td>99.8</td>\n",
       "      <td>WSW</td>\n",
       "      <td>26.0</td>\n",
       "      <td>2.0</td>\n",
       "      <td>73.0</td>\n",
       "      <td>-7.0</td>\n",
       "      <td>-2.8</td>\n",
       "      <td>2.8</td>\n",
       "    </tr>\n",
       "    <tr>\n",
       "      <th>11</th>\n",
       "      <td>2018-12-18 05:00:00 MST</td>\n",
       "      <td>1545134400</td>\n",
       "      <td>91.83</td>\n",
       "      <td>99.8</td>\n",
       "      <td>SW</td>\n",
       "      <td>23.0</td>\n",
       "      <td>4.0</td>\n",
       "      <td>73.0</td>\n",
       "      <td>-8.7</td>\n",
       "      <td>-4.6</td>\n",
       "      <td>2.7</td>\n",
       "    </tr>\n",
       "    <tr>\n",
       "      <th>12</th>\n",
       "      <td>2018-12-18 04:00:00 MST</td>\n",
       "      <td>1545130800</td>\n",
       "      <td>91.92</td>\n",
       "      <td>99.9</td>\n",
       "      <td>WSW</td>\n",
       "      <td>26.0</td>\n",
       "      <td>3.0</td>\n",
       "      <td>74.0</td>\n",
       "      <td>-9.4</td>\n",
       "      <td>-5.4</td>\n",
       "      <td>2.9</td>\n",
       "    </tr>\n",
       "    <tr>\n",
       "      <th>13</th>\n",
       "      <td>2018-12-18 03:00:00 MST</td>\n",
       "      <td>1545127200</td>\n",
       "      <td>91.95</td>\n",
       "      <td>100.0</td>\n",
       "      <td>S</td>\n",
       "      <td>19.0</td>\n",
       "      <td>7.0</td>\n",
       "      <td>67.0</td>\n",
       "      <td>-9.2</td>\n",
       "      <td>-3.9</td>\n",
       "      <td>3.0</td>\n",
       "    </tr>\n",
       "    <tr>\n",
       "      <th>14</th>\n",
       "      <td>2018-12-18 02:00:00 MST</td>\n",
       "      <td>1545123600</td>\n",
       "      <td>92.03</td>\n",
       "      <td>100.1</td>\n",
       "      <td>SSE</td>\n",
       "      <td>17.0</td>\n",
       "      <td>5.0</td>\n",
       "      <td>75.0</td>\n",
       "      <td>-8.8</td>\n",
       "      <td>-5.0</td>\n",
       "      <td>3.1</td>\n",
       "    </tr>\n",
       "    <tr>\n",
       "      <th>15</th>\n",
       "      <td>2018-12-18 01:00:00 MST</td>\n",
       "      <td>1545120000</td>\n",
       "      <td>92.15</td>\n",
       "      <td>100.2</td>\n",
       "      <td>SSW</td>\n",
       "      <td>20.0</td>\n",
       "      <td>5.0</td>\n",
       "      <td>84.0</td>\n",
       "      <td>-8.5</td>\n",
       "      <td>-6.2</td>\n",
       "      <td>3.1</td>\n",
       "    </tr>\n",
       "    <tr>\n",
       "      <th>16</th>\n",
       "      <td>2018-12-18 00:00:00 MST</td>\n",
       "      <td>1545116400</td>\n",
       "      <td>92.23</td>\n",
       "      <td>100.3</td>\n",
       "      <td>SW</td>\n",
       "      <td>22.0</td>\n",
       "      <td>6.0</td>\n",
       "      <td>81.0</td>\n",
       "      <td>-8.9</td>\n",
       "      <td>-6.1</td>\n",
       "      <td>3.2</td>\n",
       "    </tr>\n",
       "    <tr>\n",
       "      <th>17</th>\n",
       "      <td>2018-12-17 23:00:00 MST</td>\n",
       "      <td>1545112800</td>\n",
       "      <td>92.29</td>\n",
       "      <td>100.4</td>\n",
       "      <td>SSW</td>\n",
       "      <td>21.0</td>\n",
       "      <td>5.0</td>\n",
       "      <td>81.0</td>\n",
       "      <td>-8.2</td>\n",
       "      <td>-5.4</td>\n",
       "      <td>3.4</td>\n",
       "    </tr>\n",
       "    <tr>\n",
       "      <th>18</th>\n",
       "      <td>2018-12-17 22:00:00 MST</td>\n",
       "      <td>1545109200</td>\n",
       "      <td>92.38</td>\n",
       "      <td>100.5</td>\n",
       "      <td>SW</td>\n",
       "      <td>22.0</td>\n",
       "      <td>7.0</td>\n",
       "      <td>77.0</td>\n",
       "      <td>-8.3</td>\n",
       "      <td>-5.0</td>\n",
       "      <td>3.5</td>\n",
       "    </tr>\n",
       "    <tr>\n",
       "      <th>19</th>\n",
       "      <td>2018-12-17 21:00:00 MST</td>\n",
       "      <td>1545105600</td>\n",
       "      <td>92.42</td>\n",
       "      <td>100.5</td>\n",
       "      <td>SW</td>\n",
       "      <td>23.0</td>\n",
       "      <td>3.0</td>\n",
       "      <td>83.0</td>\n",
       "      <td>-6.8</td>\n",
       "      <td>-4.4</td>\n",
       "      <td>3.8</td>\n",
       "    </tr>\n",
       "    <tr>\n",
       "      <th>20</th>\n",
       "      <td>2018-12-17 20:00:00 MST</td>\n",
       "      <td>1545102000</td>\n",
       "      <td>92.51</td>\n",
       "      <td>100.6</td>\n",
       "      <td>SW</td>\n",
       "      <td>23.0</td>\n",
       "      <td>7.0</td>\n",
       "      <td>78.0</td>\n",
       "      <td>-8.3</td>\n",
       "      <td>-5.0</td>\n",
       "      <td>3.9</td>\n",
       "    </tr>\n",
       "    <tr>\n",
       "      <th>21</th>\n",
       "      <td>2018-12-17 19:00:00 MST</td>\n",
       "      <td>1545098400</td>\n",
       "      <td>92.51</td>\n",
       "      <td>100.6</td>\n",
       "      <td>WSW</td>\n",
       "      <td>24.0</td>\n",
       "      <td>7.0</td>\n",
       "      <td>83.0</td>\n",
       "      <td>-6.9</td>\n",
       "      <td>-4.5</td>\n",
       "      <td>3.8</td>\n",
       "    </tr>\n",
       "    <tr>\n",
       "      <th>22</th>\n",
       "      <td>2018-12-17 18:00:00 MST</td>\n",
       "      <td>1545094800</td>\n",
       "      <td>92.54</td>\n",
       "      <td>100.7</td>\n",
       "      <td>WSW</td>\n",
       "      <td>36.0</td>\n",
       "      <td>1.0</td>\n",
       "      <td>78.0</td>\n",
       "      <td>-7.3</td>\n",
       "      <td>-4.1</td>\n",
       "      <td>3.5</td>\n",
       "    </tr>\n",
       "    <tr>\n",
       "      <th>23</th>\n",
       "      <td>2018-12-17 17:00:00 MST</td>\n",
       "      <td>1545091200</td>\n",
       "      <td>92.56</td>\n",
       "      <td>100.7</td>\n",
       "      <td>SW</td>\n",
       "      <td>23.0</td>\n",
       "      <td>5.0</td>\n",
       "      <td>73.0</td>\n",
       "      <td>-6.9</td>\n",
       "      <td>-2.7</td>\n",
       "      <td>3.2</td>\n",
       "    </tr>\n",
       "    <tr>\n",
       "      <th>24</th>\n",
       "      <td>2018-12-17 16:00:00 MST</td>\n",
       "      <td>1545087600</td>\n",
       "      <td>92.57</td>\n",
       "      <td>100.7</td>\n",
       "      <td>SW</td>\n",
       "      <td>23.0</td>\n",
       "      <td>6.0</td>\n",
       "      <td>67.0</td>\n",
       "      <td>-6.7</td>\n",
       "      <td>-1.3</td>\n",
       "      <td>2.9</td>\n",
       "    </tr>\n",
       "    <tr>\n",
       "      <th>25</th>\n",
       "      <td>2018-12-17 15:00:00 MST</td>\n",
       "      <td>1545084000</td>\n",
       "      <td>92.55</td>\n",
       "      <td>100.6</td>\n",
       "      <td>SW</td>\n",
       "      <td>22.0</td>\n",
       "      <td>5.0</td>\n",
       "      <td>63.0</td>\n",
       "      <td>-6.9</td>\n",
       "      <td>-0.7</td>\n",
       "      <td>2.9</td>\n",
       "    </tr>\n",
       "    <tr>\n",
       "      <th>26</th>\n",
       "      <td>2018-12-17 14:00:00 MST</td>\n",
       "      <td>1545080400</td>\n",
       "      <td>92.52</td>\n",
       "      <td>100.6</td>\n",
       "      <td>SSW</td>\n",
       "      <td>20.0</td>\n",
       "      <td>10.0</td>\n",
       "      <td>69.0</td>\n",
       "      <td>-7.9</td>\n",
       "      <td>-3.1</td>\n",
       "      <td>2.8</td>\n",
       "    </tr>\n",
       "    <tr>\n",
       "      <th>27</th>\n",
       "      <td>2018-12-17 13:00:00 MST</td>\n",
       "      <td>1545076800</td>\n",
       "      <td>92.50</td>\n",
       "      <td>100.6</td>\n",
       "      <td>SW</td>\n",
       "      <td>22.0</td>\n",
       "      <td>9.0</td>\n",
       "      <td>72.0</td>\n",
       "      <td>-8.6</td>\n",
       "      <td>-4.4</td>\n",
       "      <td>2.8</td>\n",
       "    </tr>\n",
       "    <tr>\n",
       "      <th>28</th>\n",
       "      <td>2018-12-17 12:00:00 MST</td>\n",
       "      <td>1545073200</td>\n",
       "      <td>92.48</td>\n",
       "      <td>100.6</td>\n",
       "      <td>WSW</td>\n",
       "      <td>25.0</td>\n",
       "      <td>8.0</td>\n",
       "      <td>74.0</td>\n",
       "      <td>-9.9</td>\n",
       "      <td>-6.0</td>\n",
       "      <td>2.8</td>\n",
       "    </tr>\n",
       "    <tr>\n",
       "      <th>29</th>\n",
       "      <td>2018-12-17 11:00:00 MST</td>\n",
       "      <td>1545069600</td>\n",
       "      <td>92.49</td>\n",
       "      <td>100.6</td>\n",
       "      <td>SW</td>\n",
       "      <td>23.0</td>\n",
       "      <td>10.0</td>\n",
       "      <td>79.0</td>\n",
       "      <td>-11.1</td>\n",
       "      <td>-8.2</td>\n",
       "      <td>2.9</td>\n",
       "    </tr>\n",
       "  </tbody>\n",
       "</table>\n",
       "</div>"
      ],
      "text/plain": [
       "            date_time_local    unixtime  pressure_station  pressure_sea  \\\n",
       "0   2018-12-18 16:00:00 MST  1545174000             91.73          99.7   \n",
       "1   2018-12-18 15:00:00 MST  1545170400             91.67          99.7   \n",
       "2   2018-12-18 14:00:00 MST  1545166800             91.67          99.6   \n",
       "3   2018-12-18 13:00:00 MST  1545163200             91.66          99.6   \n",
       "4   2018-12-18 12:00:00 MST  1545159600             91.75          99.7   \n",
       "5   2018-12-18 11:00:00 MST  1545156000             91.74          99.7   \n",
       "6   2018-12-18 10:00:00 MST  1545152400             91.73          99.8   \n",
       "7   2018-12-18 09:00:00 MST  1545148800             91.75          99.8   \n",
       "8   2018-12-18 08:00:00 MST  1545145200             91.73          99.8   \n",
       "9   2018-12-18 07:00:00 MST  1545141600             91.73          99.7   \n",
       "10  2018-12-18 06:00:00 MST  1545138000             91.79          99.8   \n",
       "11  2018-12-18 05:00:00 MST  1545134400             91.83          99.8   \n",
       "12  2018-12-18 04:00:00 MST  1545130800             91.92          99.9   \n",
       "13  2018-12-18 03:00:00 MST  1545127200             91.95         100.0   \n",
       "14  2018-12-18 02:00:00 MST  1545123600             92.03         100.1   \n",
       "15  2018-12-18 01:00:00 MST  1545120000             92.15         100.2   \n",
       "16  2018-12-18 00:00:00 MST  1545116400             92.23         100.3   \n",
       "17  2018-12-17 23:00:00 MST  1545112800             92.29         100.4   \n",
       "18  2018-12-17 22:00:00 MST  1545109200             92.38         100.5   \n",
       "19  2018-12-17 21:00:00 MST  1545105600             92.42         100.5   \n",
       "20  2018-12-17 20:00:00 MST  1545102000             92.51         100.6   \n",
       "21  2018-12-17 19:00:00 MST  1545098400             92.51         100.6   \n",
       "22  2018-12-17 18:00:00 MST  1545094800             92.54         100.7   \n",
       "23  2018-12-17 17:00:00 MST  1545091200             92.56         100.7   \n",
       "24  2018-12-17 16:00:00 MST  1545087600             92.57         100.7   \n",
       "25  2018-12-17 15:00:00 MST  1545084000             92.55         100.6   \n",
       "26  2018-12-17 14:00:00 MST  1545080400             92.52         100.6   \n",
       "27  2018-12-17 13:00:00 MST  1545076800             92.50         100.6   \n",
       "28  2018-12-17 12:00:00 MST  1545073200             92.48         100.6   \n",
       "29  2018-12-17 11:00:00 MST  1545069600             92.49         100.6   \n",
       "\n",
       "   wind_dir  wind_dir_10s  wind_speed  relative_humidity  dew_point  \\\n",
       "0        SW          23.0         5.0               64.0       -7.3   \n",
       "1         S          18.0         5.0               65.0       -6.3   \n",
       "2         S          17.0         5.0               51.0       -6.5   \n",
       "3        SE          13.0         2.0               50.0       -6.4   \n",
       "4       NaN           NaN         0.0               59.0       -6.6   \n",
       "5        SW          22.0         7.0               64.0       -6.9   \n",
       "6       WSW          26.0         5.0               75.0       -8.0   \n",
       "7         W          28.0         7.0               77.0       -7.8   \n",
       "8       SSW          21.0         4.0               81.0       -7.6   \n",
       "9       SSW          21.0         3.0               77.0       -7.4   \n",
       "10      WSW          26.0         2.0               73.0       -7.0   \n",
       "11       SW          23.0         4.0               73.0       -8.7   \n",
       "12      WSW          26.0         3.0               74.0       -9.4   \n",
       "13        S          19.0         7.0               67.0       -9.2   \n",
       "14      SSE          17.0         5.0               75.0       -8.8   \n",
       "15      SSW          20.0         5.0               84.0       -8.5   \n",
       "16       SW          22.0         6.0               81.0       -8.9   \n",
       "17      SSW          21.0         5.0               81.0       -8.2   \n",
       "18       SW          22.0         7.0               77.0       -8.3   \n",
       "19       SW          23.0         3.0               83.0       -6.8   \n",
       "20       SW          23.0         7.0               78.0       -8.3   \n",
       "21      WSW          24.0         7.0               83.0       -6.9   \n",
       "22      WSW          36.0         1.0               78.0       -7.3   \n",
       "23       SW          23.0         5.0               73.0       -6.9   \n",
       "24       SW          23.0         6.0               67.0       -6.7   \n",
       "25       SW          22.0         5.0               63.0       -6.9   \n",
       "26      SSW          20.0        10.0               69.0       -7.9   \n",
       "27       SW          22.0         9.0               72.0       -8.6   \n",
       "28      WSW          25.0         8.0               74.0       -9.9   \n",
       "29       SW          23.0        10.0               79.0      -11.1   \n",
       "\n",
       "    temperature  health_index  \n",
       "0          -1.3           NaN  \n",
       "1          -0.5           4.0  \n",
       "2           2.7           4.0  \n",
       "3           2.9           3.9  \n",
       "4           0.5           4.1  \n",
       "5          -0.9           4.2  \n",
       "6          -4.3           4.1  \n",
       "7          -4.4           3.6  \n",
       "8          -4.8           3.2  \n",
       "9          -4.0           2.9  \n",
       "10         -2.8           2.8  \n",
       "11         -4.6           2.7  \n",
       "12         -5.4           2.9  \n",
       "13         -3.9           3.0  \n",
       "14         -5.0           3.1  \n",
       "15         -6.2           3.1  \n",
       "16         -6.1           3.2  \n",
       "17         -5.4           3.4  \n",
       "18         -5.0           3.5  \n",
       "19         -4.4           3.8  \n",
       "20         -5.0           3.9  \n",
       "21         -4.5           3.8  \n",
       "22         -4.1           3.5  \n",
       "23         -2.7           3.2  \n",
       "24         -1.3           2.9  \n",
       "25         -0.7           2.9  \n",
       "26         -3.1           2.8  \n",
       "27         -4.4           2.8  \n",
       "28         -6.0           2.8  \n",
       "29         -8.2           2.9  "
      ]
     },
     "execution_count": 57,
     "metadata": {},
     "output_type": "execute_result"
    }
   ],
   "source": [
    "weather_data.head(30)"
   ]
  },
  {
   "cell_type": "code",
   "execution_count": null,
   "metadata": {
    "scrolled": true
   },
   "outputs": [],
   "source": [
    "weather_data.describe()"
   ]
  },
  {
   "cell_type": "code",
   "execution_count": null,
   "metadata": {},
   "outputs": [],
   "source": [
    "mos_data.dtypes"
   ]
  },
  {
   "cell_type": "code",
   "execution_count": null,
   "metadata": {
    "scrolled": true
   },
   "outputs": [],
   "source": [
    "weather_data.dtypes"
   ]
  },
  {
   "cell_type": "code",
   "execution_count": null,
   "metadata": {
    "scrolled": true
   },
   "outputs": [],
   "source": [
    "mos_data.isnull().sum()"
   ]
  },
  {
   "cell_type": "code",
   "execution_count": null,
   "metadata": {
    "scrolled": true
   },
   "outputs": [],
   "source": [
    "weather_data.isnull().sum()"
   ]
  },
  {
   "cell_type": "code",
   "execution_count": 53,
   "metadata": {},
   "outputs": [
    {
     "name": "stdout",
     "output_type": "stream",
     "text": [
      "date_time_local        0\n",
      "unixtime               0\n",
      "pressure_station      11\n",
      "pressure_sea          11\n",
      "wind_dir             154\n",
      "wind_dir_10s          53\n",
      "wind_speed            11\n",
      "relative_humidity     11\n",
      "dew_point             11\n",
      "temperature           11\n",
      "health_index         359\n",
      "dtype: int64\n"
     ]
    }
   ],
   "source": [
    "# drop visibility, cloud_cover_4, cloud_cover_8, cloud_cover_10, solar_radiation as they are all NaN, also humidex and windchill and windgust as they are mostly NaN and nothing that we can do about\n",
    "weather_data=orig_weather_data.drop(columns=[\"visibility\", \"cloud_cover_4\", \"cloud_cover_8\", \"cloud_cover_10\", \"solar_radiation\", \"wind_gust\", \"windchill\", \"humidex\"], inplace=False)\n",
    "# and drop the row with missing values\n",
    "#weather_data.dropna(inplace=True)\n",
    "print(weather_data.isnull().sum())\n",
    "#drop idd include\n",
    "mos_data=orig_mos_data.drop(columns=[\"idd\",\"include\",\"geocoded_column\"])\n",
    "#print(mos_data.isnull().sum())\n",
    "#mos_data.count()\n",
    "#weather_data.count()"
   ]
  },
  {
   "cell_type": "code",
   "execution_count": 41,
   "metadata": {},
   "outputs": [
    {
     "data": {
      "text/plain": [
       "Rural-North West                  147\n",
       "Rural-North East                  106\n",
       "Rural-South East                   97\n",
       "Rural-South West                   84\n",
       "River Valley-West                  74\n",
       "Rural-East                         56\n",
       "River Valley-East-P1               55\n",
       "Residential-South                  41\n",
       "Rural-West                         40\n",
       "Residential-North                  28\n",
       "Outer Community-South1             27\n",
       "Industrial East                    22\n",
       "Outer Community-North              22\n",
       "Outer Community-South West         22\n",
       "River Valley-West-P1               19\n",
       "River Valley-GC2-East              17\n",
       "Extended Rural-South West          17\n",
       "Outer Community-South East         16\n",
       "River Valley-Central-P1            16\n",
       "Residential GC-South               16\n",
       "Outer Community-North East         15\n",
       "Rural GC-South East                14\n",
       "River Valley-GC1-East              12\n",
       "River Valley-GC1-Central           10\n",
       "River Valley-East                   8\n",
       "River Valley-Central                8\n",
       "Outer Community-North West          7\n",
       "Outer Community-GC1-North East      2\n",
       "Industrial South                    1\n",
       "Outer Community-South2              1\n",
       "Name: trap_region, dtype: int64"
      ]
     },
     "execution_count": 41,
     "metadata": {},
     "output_type": "execute_result"
    }
   ],
   "source": [
    "mos_data[\"trap_region\"].value_counts()"
   ]
  },
  {
   "cell_type": "markdown",
   "metadata": {},
   "source": [
    "## Date and time \n",
    "We can see that both datasets are timestamped but the mosquito dataset is timestamped.\n",
    "Our first task would be combining both datasets by day and month and year ignoring HH:MM:DD.\n",
    "- Create a new_trap_date column in mos_data following the format YYYY-MM-DD\n",
    "- Drop trap_date from mos_data\n",
    "- create new_date column in weather_data following the format YYYY-MM-DD\n",
    "- Drop date_time_local and unixtime in weather_data"
   ]
  },
  {
   "cell_type": "code",
   "execution_count": 125,
   "metadata": {},
   "outputs": [],
   "source": [
    "def Tzone(x):\n",
    "    timelist=x[\"date_time_local\"].split(\" \")\n",
    "    YD=weather_data[\"date_time_local\"][1].split(\" \")[0]+weather_data[\"date_time_local\"][1].split(\" \")[1]\n",
    "    timec=time.mktime(time.strptime(YD,'%Y-%m-%d%H:%M:%S'))\n",
    "    if timelist[2]=='MDT':\n",
    "        timec=timec+3600 # add one hour \n",
    "    return time.strftime(\"%Y-%m-%d %H:%M:%S\", time.localtime(timec))\n",
    "weather_data[\"new_date_time_local\"] = weather_data.apply(lambda x: Tzone(x), axis=1)"
   ]
  },
  {
   "cell_type": "code",
   "execution_count": 126,
   "metadata": {},
   "outputs": [],
   "source": []
  },
  {
   "cell_type": "code",
   "execution_count": null,
   "metadata": {
    "scrolled": true
   },
   "outputs": [],
   "source": [
    "mos_data[\"new_trap_date\"] = mos_data.apply(lambda x: x[\"trap_date\"].split(\"T\")[0], axis=1)\n",
    "mos_data.drop(columns=[\"trap_date\"], inplace=True) #redundant\n",
    "\n",
    "mos_data.head()"
   ]
  },
  {
   "cell_type": "code",
   "execution_count": null,
   "metadata": {
    "scrolled": false
   },
   "outputs": [],
   "source": [
    "#convert new_trap_date into datetime\n",
    "format = '%Y-%m-%d'\n",
    "mos_data[\"new_trap_date\"] = pd.to_datetime(mos_data[\"new_trap_date\"], format=format)\n",
    "\n",
    "mos_data.info()"
   ]
  },
  {
   "cell_type": "code",
   "execution_count": null,
   "metadata": {},
   "outputs": [],
   "source": [
    "weather_data[\"new_date_time_local\"] = weather_data.apply(lambda x: x[\"date_time_local\"].split(\" \")[0], axis=1)\n",
    "weather_data.drop(columns=[\"date_time_local\", \"unixtime\"], inplace=True)\n",
    "\n",
    "weather_data[\"new_date_time_local\"] = pd.to_datetime(weather_data[\"new_date_time_local\"])\n",
    "\n",
    "weather_data.head()"
   ]
  },
  {
   "cell_type": "code",
   "execution_count": null,
   "metadata": {
    "scrolled": true
   },
   "outputs": [],
   "source": [
    "count_df = weather_data.groupby([\"new_date_time_local\"]).size().reset_index(name='count')\n",
    "count_df = count_df.loc[(count_df[\"count\"] != 24)]\n",
    "\n",
    "count_df"
   ]
  },
  {
   "cell_type": "markdown",
   "metadata": {},
   "source": [
    "The first and last dates will be ignored as the data isn't complete, as for the others the ones with 25 records happens simply due to problems with time zone conversions from MDT to MST on these days so will simply ignore one of the repeated data. As for the ones with 23 records there is a missing record so this will be simply copying one of the two records before and after the missing date and replace it with the missing date. Again this happened due to the time zone difference and a record went missing. "
   ]
  },
  {
   "cell_type": "code",
   "execution_count": null,
   "metadata": {},
   "outputs": [],
   "source": [
    "dates_to_drop = [\"2016-12-18\", \"2018-12-18\"]\n",
    "\n",
    "weather_data = weather_data.loc[~weather_data[\"new_date_time_local\"].isin(dates_to_drop)]"
   ]
  },
  {
   "cell_type": "code",
   "execution_count": null,
   "metadata": {
    "scrolled": true
   },
   "outputs": [],
   "source": [
    "orig_weather_data[orig_weather_data[\"date_time_local\"].str.contains(\"2017-03-12\")]"
   ]
  },
  {
   "cell_type": "code",
   "execution_count": null,
   "metadata": {
    "scrolled": true
   },
   "outputs": [],
   "source": [
    "orig_weather_data[orig_weather_data[\"date_time_local\"].str.contains(\"2018-03-11\")]"
   ]
  },
  {
   "cell_type": "code",
   "execution_count": null,
   "metadata": {
    "scrolled": true
   },
   "outputs": [],
   "source": [
    "orig_weather_data[orig_weather_data[\"date_time_local\"].str.contains(\"2017-11-05\")]"
   ]
  },
  {
   "cell_type": "code",
   "execution_count": null,
   "metadata": {
    "scrolled": true
   },
   "outputs": [],
   "source": [
    "orig_weather_data[orig_weather_data[\"date_time_local\"].str.contains(\"2018-11-04\")]"
   ]
  },
  {
   "cell_type": "code",
   "execution_count": null,
   "metadata": {},
   "outputs": [],
   "source": [
    "weather_data.drop(9808, inplace=True)\n",
    "weather_data.drop(1072, inplace=True)"
   ]
  },
  {
   "cell_type": "code",
   "execution_count": null,
   "metadata": {},
   "outputs": [],
   "source": [
    "new_date1 = weather_data.loc[[6782]]\n",
    "new_date2 = weather_data.loc[[15519]]\n",
    "weather_data = pd.concat([weather_data, new_date1, new_date2]).sort_index()"
   ]
  },
  {
   "cell_type": "code",
   "execution_count": null,
   "metadata": {},
   "outputs": [],
   "source": [
    "count_df = weather_data.groupby([\"new_date_time_local\"]).size().reset_index(name='count')\n",
    "count_df = count_df.loc[(count_df[\"count\"] != 24)]\n",
    "\n",
    "count_df"
   ]
  },
  {
   "cell_type": "code",
   "execution_count": null,
   "metadata": {},
   "outputs": [],
   "source": [
    "# ranges of date/time columns in both dataset\n",
    "mos_date_range = str(mos_data['new_trap_date'].dt.date.min()) + ' to ' +str(mos_data['new_trap_date'].dt.date.max())\n",
    "weather_date_range = str(weather_data['new_date_time_local'].dt.date.min()) + ' to ' +str(weather_data['new_date_time_local'].dt.date.max())\n",
    "\n",
    "print(\"Range of dates in mosquito dataset is {}\".format(mos_date_range))\n",
    "print(\"Range of dates in weather dataset is {}\".format(weather_date_range))"
   ]
  },
  {
   "cell_type": "markdown",
   "metadata": {},
   "source": [
    "It can be seen that the mosquito dataset is covering a much bigger range so everything before 2016-12-19 and after 2018-12-17 will be ignored."
   ]
  },
  {
   "cell_type": "code",
   "execution_count": null,
   "metadata": {
    "scrolled": true
   },
   "outputs": [],
   "source": [
    "start_remove = weather_data['new_date_time_local'].dt.date.min()\n",
    "end_remove = weather_data['new_date_time_local'].dt.date.max()\n",
    "\n",
    "mos_data = mos_data.loc[(mos_data[\"new_trap_date\"] > start_remove) & (mos_data[\"new_trap_date\"] < end_remove) ]\n",
    "\n",
    "mos_date_range = str(mos_data['new_trap_date'].dt.date.min())+' to ' + str(mos_data['new_trap_date'].dt.date.max())\n",
    "print(\"Range of dates in mosquito dataset is {}\".format(mos_date_range))\n",
    "\n",
    "mos_data.describe()"
   ]
  },
  {
   "cell_type": "code",
   "execution_count": null,
   "metadata": {},
   "outputs": [],
   "source": [
    "#current distribution:\n",
    "plt.figure(figsize=(15, 8))\n",
    "ax = mos_data[\"count\"].hist(bins=500, density=True, stacked=True, color='teal', alpha=0.6)\n",
    "mos_data[\"count\"].plot(kind='density', color='teal')\n",
    "\n",
    "\n",
    "ax.set(xlabel=\"count\")\n",
    "plt.xlim(-10,4000)\n",
    "plt.show()"
   ]
  },
  {
   "cell_type": "code",
   "execution_count": null,
   "metadata": {},
   "outputs": [],
   "source": [
    "mos_data = mos_data[mos_data['count'] <= mos_data.describe()['count']['75%']]"
   ]
  },
  {
   "cell_type": "code",
   "execution_count": null,
   "metadata": {},
   "outputs": [],
   "source": [
    "#current distribution:\n",
    "plt.figure(figsize=(15, 8))\n",
    "ax = mos_data[\"count\"].hist(bins=15, density=True, stacked=True, color='teal', alpha=0.6)\n",
    "mos_data[\"count\"].plot(kind='density', color='teal')\n",
    "\n",
    "\n",
    "ax.set(xlabel=\"count\")\n",
    "plt.xlim(-10,15)\n",
    "plt.show()"
   ]
  },
  {
   "cell_type": "code",
   "execution_count": null,
   "metadata": {},
   "outputs": [],
   "source": [
    "start_remove = mos_data[\"new_trap_date\"].dt.date.min()\n",
    "end_remove = mos_data[\"new_trap_date\"].dt.date.max() + timedelta(days=6) #final week isn't complete so instead of losing a whole week in the data we are going to add 2 days from the weather data\n",
    "\n",
    "print(start_remove, end_remove, sep=' ')\n",
    "\n",
    "weather_data = weather_data.loc[(weather_data[\"new_date_time_local\"] >= start_remove) & (weather_data[\"new_date_time_local\"] <= end_remove) ]\n",
    "\n",
    "weather_data_range = str(weather_data['new_date_time_local'].dt.date.min())+' to ' + str(weather_data['new_date_time_local'].dt.date.max())\n",
    "print(\"Range of dates in weather dataset is {}\".format(weather_data_range))"
   ]
  },
  {
   "cell_type": "code",
   "execution_count": null,
   "metadata": {
    "scrolled": false
   },
   "outputs": [],
   "source": [
    "mos_data.isnull().sum()"
   ]
  },
  {
   "cell_type": "code",
   "execution_count": null,
   "metadata": {},
   "outputs": [],
   "source": [
    "len(mos_data.index)"
   ]
  },
  {
   "cell_type": "markdown",
   "metadata": {},
   "source": [
    "drop idd and include columns as they are don't add enough information and mostly NaN"
   ]
  },
  {
   "cell_type": "code",
   "execution_count": null,
   "metadata": {},
   "outputs": [],
   "source": [
    "mos_data.drop(columns=[\"idd\", \"include\"], inplace=True)"
   ]
  },
  {
   "cell_type": "markdown",
   "metadata": {},
   "source": [
    "### Grouping weather data on date column\n"
   ]
  },
  {
   "cell_type": "code",
   "execution_count": null,
   "metadata": {
    "scrolled": false
   },
   "outputs": [],
   "source": [
    "len(weather_data.index)"
   ]
  },
  {
   "cell_type": "markdown",
   "metadata": {},
   "source": [
    "Replace null data in weather_data"
   ]
  },
  {
   "cell_type": "code",
   "execution_count": null,
   "metadata": {
    "scrolled": true
   },
   "outputs": [],
   "source": [
    "weather_data.isnull().sum()"
   ]
  },
  {
   "cell_type": "code",
   "execution_count": null,
   "metadata": {},
   "outputs": [],
   "source": [
    "weather_data.reset_index(drop=True, inplace=True)"
   ]
  },
  {
   "cell_type": "code",
   "execution_count": null,
   "metadata": {
    "scrolled": false
   },
   "outputs": [],
   "source": [
    "plt.figure(figsize=(15, 8))\n",
    "ax = orig_weather_data[\"health_index\"].hist(bins=15, density=True, stacked=True, color='teal', alpha=0.6)\n",
    "orig_weather_data[\"health_index\"].plot(kind='density', color='teal')\n",
    "\n",
    "\n",
    "ax.set(xlabel=\"health_index\")\n",
    "plt.xlim(-10,40)\n",
    "plt.show()"
   ]
  },
  {
   "cell_type": "markdown",
   "metadata": {},
   "source": [
    "It looks like health index is normally distributed so its safe to replace na with mean value:"
   ]
  },
  {
   "cell_type": "code",
   "execution_count": null,
   "metadata": {
    "scrolled": true
   },
   "outputs": [],
   "source": [
    "temp_df = weather_data.copy()\n",
    "temp_df['health_index'].fillna(temp_df['health_index'].mean())"
   ]
  },
  {
   "cell_type": "code",
   "execution_count": null,
   "metadata": {},
   "outputs": [],
   "source": [
    "key_to_test = 'health_index'\n",
    "\n",
    "plt.figure(figsize=(15, 8))\n",
    "ax = weather_data[key_to_test].hist(bins=15, density=True, stacked=True, color='teal', alpha=0.6)\n",
    "weather_data[key_to_test].plot(kind='density', color='teal')\n",
    "\n",
    "\n",
    "ax = temp_df[key_to_test].hist(bins=15, density=True, stacked=True, color='orange', alpha=0.6)\n",
    "temp_df[key_to_test].plot(kind='density', color='orange')\n",
    "\n",
    "\n",
    "ax.legend(['Original data', 'Replaced data'])\n",
    "ax.set(xlabel=key_to_test)\n",
    "plt.xlim(-10,40)\n",
    "plt.show()"
   ]
  },
  {
   "cell_type": "code",
   "execution_count": null,
   "metadata": {},
   "outputs": [],
   "source": [
    "weather_data['health_index'].fillna(weather_data['health_index'].mean(), inplace=True)"
   ]
  },
  {
   "cell_type": "code",
   "execution_count": null,
   "metadata": {},
   "outputs": [],
   "source": [
    "weather_data.isnull().sum()"
   ]
  },
  {
   "cell_type": "code",
   "execution_count": null,
   "metadata": {},
   "outputs": [],
   "source": [
    "weather_data.head()"
   ]
  },
  {
   "cell_type": "code",
   "execution_count": null,
   "metadata": {},
   "outputs": [],
   "source": [
    "temp_weather_data = weather_data.groupby(weather_data.index // 24).agg({\n",
    "    \"new_date_time_local\": 'first',\n",
    "    \"pressure_station\": lambda x: round(x.mean(),2),\n",
    "    \"pressure_sea\": lambda x: round(x.mean(),1),\n",
    "    \"wind_dir\":lambda x: x.value_counts().index[0],\n",
    "    \"wind_dir_10s\":lambda x: x.value_counts().index[0],\n",
    "    \"wind_speed\":lambda x: round(x.mean(),1),#x.mode().iloc[0],\n",
    "    \"relative_humidity\":lambda x: x.median(),\n",
    "    \"dew_point\":lambda x: x.median(),\n",
    "    \"temperature\":lambda x: x.median(),\n",
    "    \"health_index\": lambda x: round(x.mean(),1),\n",
    "})\n",
    "\n",
    "temp_weather_data.head()"
   ]
  },
  {
   "cell_type": "code",
   "execution_count": null,
   "metadata": {
    "scrolled": true
   },
   "outputs": [],
   "source": [
    "temp_weather_data.isnull().sum()"
   ]
  },
  {
   "cell_type": "code",
   "execution_count": null,
   "metadata": {
    "scrolled": true
   },
   "outputs": [],
   "source": [
    "weather_data['pressure_station'] = weather_data.groupby(\"new_date_time_local\", sort=False)[\"pressure_station\"].apply(lambda x: x.fillna(round(x.mean(),2)))\n",
    "\n",
    "weather_data['pressure_sea'] = weather_data.groupby(\"new_date_time_local\", sort=False)[\"pressure_sea\"].apply(lambda x: x.fillna(round(x.mean(),1)))\n",
    "\n",
    "weather_data['wind_dir'] = weather_data.groupby(\"new_date_time_local\", sort=False)[\"wind_dir\"].apply(lambda x: x.fillna(x.value_counts().index[0]))\n",
    "\n",
    "\n",
    "weather_data['wind_dir_10s'] = weather_data.groupby(\"new_date_time_local\", sort=False)[\"wind_dir_10s\"].apply(lambda x: x.fillna(x.value_counts().index[0]))\n",
    "\n",
    "\n",
    "weather_data['wind_speed'] = weather_data.groupby(\"new_date_time_local\", sort=False)[\"wind_speed\"].apply(lambda x: x.fillna(round(x.mean(),1)))\n",
    "\n",
    "weather_data['relative_humidity'] = weather_data.groupby(\"new_date_time_local\", sort=False)[\"relative_humidity\"].apply(lambda x: x.fillna(x.median()))\n",
    "\n",
    "\n",
    "weather_data['dew_point'] = weather_data.groupby(\"new_date_time_local\", sort=False)[\"dew_point\"].apply(lambda x: x.fillna(x.median()))\n",
    "\n",
    "\n",
    "weather_data['temperature'] = weather_data.groupby(\"new_date_time_local\", sort=False)[\"temperature\"].apply(lambda x: x.fillna(x.median()))\n",
    "\n",
    "\n",
    "\n",
    "\n",
    "print(weather_data.isnull().sum())\n",
    "weather_data.head()"
   ]
  },
  {
   "cell_type": "code",
   "execution_count": null,
   "metadata": {},
   "outputs": [],
   "source": [
    "len(weather_data.index)"
   ]
  },
  {
   "cell_type": "markdown",
   "metadata": {},
   "source": [
    "Now that all NaNs are replaced its time to create subsets of the weather data."
   ]
  },
  {
   "cell_type": "code",
   "execution_count": null,
   "metadata": {
    "scrolled": true
   },
   "outputs": [],
   "source": [
    "weather_data_A = weather_data.groupby('new_date_time_local', as_index=False).apply(lambda x: x.iloc[:6]).droplevel(0)\n",
    "weather_data_A.head(7)"
   ]
  },
  {
   "cell_type": "code",
   "execution_count": null,
   "metadata": {},
   "outputs": [],
   "source": [
    "weather_data_B = weather_data.groupby('new_date_time_local', as_index=False).apply(lambda x: x.iloc[6:12]).droplevel(0)\n",
    "weather_data_B.head(7)"
   ]
  },
  {
   "cell_type": "code",
   "execution_count": null,
   "metadata": {},
   "outputs": [],
   "source": [
    "weather_data_C = weather_data.groupby('new_date_time_local', as_index=False).apply(lambda x: x.iloc[12:18]).droplevel(0)\n",
    "weather_data_C.head(7)"
   ]
  },
  {
   "cell_type": "code",
   "execution_count": null,
   "metadata": {
    "scrolled": false
   },
   "outputs": [],
   "source": [
    "weather_data_D = weather_data.groupby('new_date_time_local', as_index=False).apply(lambda x: x.iloc[18:24]).droplevel(0)\n",
    "weather_data_D.head(7)"
   ]
  },
  {
   "cell_type": "code",
   "execution_count": null,
   "metadata": {
    "scrolled": true
   },
   "outputs": [],
   "source": [
    "mos_data.head()"
   ]
  },
  {
   "cell_type": "code",
   "execution_count": null,
   "metadata": {},
   "outputs": [],
   "source": [
    "mos_data.sort_values(by='new_trap_date', inplace=True)"
   ]
  },
  {
   "cell_type": "code",
   "execution_count": null,
   "metadata": {},
   "outputs": [],
   "source": [
    "weather_data_A.sort_values(by='new_date_time_local', inplace=True)\n",
    "weather_data_B.sort_values(by='new_date_time_local', inplace=True)\n",
    "weather_data_C.sort_values(by='new_date_time_local', inplace=True)\n",
    "weather_data_D.sort_values(by='new_date_time_local', inplace=True)"
   ]
  },
  {
   "cell_type": "code",
   "execution_count": null,
   "metadata": {
    "scrolled": true
   },
   "outputs": [],
   "source": [
    "count_df = weather_data_A.groupby([\"new_date_time_local\"]).size().reset_index(name='count')\n",
    "count_df = count_df.loc[(count_df[\"count\"] != 6)]\n",
    "\n",
    "count_df"
   ]
  },
  {
   "cell_type": "code",
   "execution_count": null,
   "metadata": {},
   "outputs": [],
   "source": [
    "count_df = weather_data_B.groupby([\"new_date_time_local\"]).size().reset_index(name='count')\n",
    "count_df = count_df.loc[(count_df[\"count\"] != 6)]\n",
    "\n",
    "count_df"
   ]
  },
  {
   "cell_type": "code",
   "execution_count": null,
   "metadata": {},
   "outputs": [],
   "source": [
    "count_df = weather_data_C.groupby([\"new_date_time_local\"]).size().reset_index(name='count')\n",
    "count_df = count_df.loc[(count_df[\"count\"] != 6)]\n",
    "\n",
    "count_df"
   ]
  },
  {
   "cell_type": "code",
   "execution_count": null,
   "metadata": {},
   "outputs": [],
   "source": [
    "count_df = weather_data_D.groupby([\"new_date_time_local\"]).size().reset_index(name='count')\n",
    "count_df = count_df.loc[(count_df[\"count\"] != 6)]\n",
    "\n",
    "count_df"
   ]
  },
  {
   "cell_type": "markdown",
   "metadata": {},
   "source": [
    "## Combine both datasets"
   ]
  },
  {
   "cell_type": "code",
   "execution_count": null,
   "metadata": {
    "scrolled": true
   },
   "outputs": [],
   "source": [
    "mos_data.head()"
   ]
  },
  {
   "cell_type": "code",
   "execution_count": null,
   "metadata": {
    "scrolled": true
   },
   "outputs": [],
   "source": [
    "weather_data_A.head()"
   ]
  },
  {
   "cell_type": "code",
   "execution_count": null,
   "metadata": {},
   "outputs": [],
   "source": [
    "weather_data_A_final = weather_data_A.groupby('new_date_time_local', as_index=False).agg({\n",
    "    \"pressure_station\": lambda x: round(x.mean(),2),\n",
    "    \"pressure_sea\": lambda x: round(x.mean(),1),\n",
    "    \"wind_dir\":lambda x: x.value_counts().index[0],\n",
    "    \"wind_dir_10s\":lambda x: x.value_counts().index[0],\n",
    "    \"wind_speed\":lambda x: round(x.mean(),1),#x.mode().iloc[0],\n",
    "    \"relative_humidity\":lambda x: x.median(),\n",
    "    \"dew_point\":lambda x: x.median(),\n",
    "    \"temperature\":lambda x: x.median(),\n",
    "    \"health_index\": lambda x: round(x.mean(),1),\n",
    "})\n",
    "\n",
    "weather_data_B_final = weather_data_A.groupby('new_date_time_local', as_index=False).agg({\n",
    "    \"pressure_station\": lambda x: round(x.mean(),2),\n",
    "    \"pressure_sea\": lambda x: round(x.mean(),1),\n",
    "    \"wind_dir\":lambda x: x.value_counts().index[0],\n",
    "    \"wind_dir_10s\":lambda x: x.value_counts().index[0],\n",
    "    \"wind_speed\":lambda x: round(x.mean(),1),#x.mode().iloc[0],\n",
    "    \"relative_humidity\":lambda x: x.median(),\n",
    "    \"dew_point\":lambda x: x.median(),\n",
    "    \"temperature\":lambda x: x.median(),\n",
    "    \"health_index\": lambda x: round(x.mean(),1),\n",
    "})\n",
    "\n",
    "weather_data_C_final = weather_data_A.groupby('new_date_time_local', as_index=False).agg({\n",
    "    \"pressure_station\": lambda x: round(x.mean(),2),\n",
    "    \"pressure_sea\": lambda x: round(x.mean(),1),\n",
    "    \"wind_dir\":lambda x: x.value_counts().index[0],\n",
    "    \"wind_dir_10s\":lambda x: x.value_counts().index[0],\n",
    "    \"wind_speed\":lambda x: round(x.mean(),1),#x.mode().iloc[0],\n",
    "    \"relative_humidity\":lambda x: x.median(),\n",
    "    \"dew_point\":lambda x: x.median(),\n",
    "    \"temperature\":lambda x: x.median(),\n",
    "    \"health_index\": lambda x: round(x.mean(),1),\n",
    "})\n",
    "\n",
    "weather_data_D_final = weather_data_A.groupby('new_date_time_local', as_index=False).agg({\n",
    "    \"pressure_station\": lambda x: round(x.mean(),2),\n",
    "    \"pressure_sea\": lambda x: round(x.mean(),1),\n",
    "    \"wind_dir\":lambda x: x.value_counts().index[0],\n",
    "    \"wind_dir_10s\":lambda x: x.value_counts().index[0],\n",
    "    \"wind_speed\":lambda x: round(x.mean(),1),#x.mode().iloc[0],\n",
    "    \"relative_humidity\":lambda x: x.median(),\n",
    "    \"dew_point\":lambda x: x.median(),\n",
    "    \"temperature\":lambda x: x.median(),\n",
    "    \"health_index\": lambda x: round(x.mean(),1),\n",
    "})"
   ]
  },
  {
   "cell_type": "code",
   "execution_count": null,
   "metadata": {},
   "outputs": [],
   "source": [
    "weather_data_A_final.sort_values(by='new_date_time_local', inplace=True)\n",
    "weather_data_A_final.reset_index(drop=True, inplace=True)\n",
    "\n",
    "weather_data_B_final.sort_values(by='new_date_time_local', inplace=True)\n",
    "weather_data_B_final.reset_index(drop=True, inplace=True)\n",
    "\n",
    "weather_data_C_final.sort_values(by='new_date_time_local', inplace=True)\n",
    "weather_data_C_final.reset_index(drop=True, inplace=True)\n",
    "\n",
    "weather_data_D_final.sort_values(by='new_date_time_local', inplace=True)\n",
    "weather_data_D_final.reset_index(drop=True, inplace=True)"
   ]
  },
  {
   "cell_type": "code",
   "execution_count": null,
   "metadata": {},
   "outputs": [],
   "source": [
    "weather_data_A_final.tail()"
   ]
  },
  {
   "cell_type": "code",
   "execution_count": null,
   "metadata": {},
   "outputs": [],
   "source": [
    "len(weather_data_A_final.index)"
   ]
  },
  {
   "cell_type": "code",
   "execution_count": null,
   "metadata": {
    "scrolled": true
   },
   "outputs": [],
   "source": [
    "new_date_time_local_df = weather_data_A_final.groupby(weather_data_A_final.index // 7)[\"new_date_time_local\"].agg([\n",
    "    ('date', 'first')\n",
    "])\n",
    "\n",
    "pressure_station_df =  weather_data_A_final.groupby(weather_data_A_final.index // 7)[\"pressure_station\"].agg([\n",
    "    ('pressure_station_1', lambda x: x.iloc[0]),\n",
    "    ('pressure_station_2', lambda x: x.iloc[1]),\n",
    "    ('pressure_station_3', lambda x: x.iloc[2]),\n",
    "    ('pressure_station_4', lambda x: x.iloc[3]),\n",
    "    ('pressure_station_5', lambda x: x.iloc[4]),\n",
    "    ('pressure_station_6', lambda x: x.iloc[5]),\n",
    "    ('pressure_station_7', lambda x: x.iloc[6]),\n",
    "    \n",
    "    \n",
    "])\n",
    "\n",
    "pressure_sea_df =  weather_data_A_final.groupby(weather_data_A_final.index // 7)[\"pressure_sea\"].agg([\n",
    "    ('pressure_sea_1', lambda x: x.iloc[0]),\n",
    "    ('pressure_sea_2', lambda x: x.iloc[1]),\n",
    "    ('pressure_sea_3', lambda x: x.iloc[2]),\n",
    "    ('pressure_sea_4', lambda x: x.iloc[3]),\n",
    "    ('pressure_sea_5', lambda x: x.iloc[4]),\n",
    "    ('pressure_sea_6', lambda x: x.iloc[5]),\n",
    "    ('pressure_sea_7', lambda x: x.iloc[6]),\n",
    "    \n",
    "    \n",
    "])\n",
    "\n",
    "wind_dir_df =  weather_data_A_final.groupby(weather_data_A_final.index // 7)[\"wind_dir\"].agg([\n",
    "    ('wind_dir_1', lambda x: x.iloc[0]),\n",
    "    ('wind_dir_2', lambda x: x.iloc[1]),\n",
    "    ('wind_dir_3', lambda x: x.iloc[2]),\n",
    "    ('wind_dir_4', lambda x: x.iloc[3]),\n",
    "    ('wind_dir_5', lambda x: x.iloc[4]),\n",
    "    ('wind_dir_6', lambda x: x.iloc[5]),\n",
    "    ('wind_dir_7', lambda x: x.iloc[6]),\n",
    "    \n",
    "    \n",
    "])\n",
    "\n",
    "wind_dir_10s_df =  weather_data_A_final.groupby(weather_data_A_final.index // 7)[\"wind_dir_10s\"].agg([\n",
    "    ('wind_dir_10s_1', lambda x: x.iloc[0]),\n",
    "    ('wind_dir_10s_2', lambda x: x.iloc[1]),\n",
    "    ('wind_dir_10s_3', lambda x: x.iloc[2]),\n",
    "    ('wind_dir_10s_4', lambda x: x.iloc[3]),\n",
    "    ('wind_dir_10s_5', lambda x: x.iloc[4]),\n",
    "    ('wind_dir_10s_6', lambda x: x.iloc[5]),\n",
    "    ('wind_dir_10s_7', lambda x: x.iloc[6]),\n",
    "    \n",
    "    \n",
    "])\n",
    "\n",
    "wind_speed_df =  weather_data_A_final.groupby(weather_data_A_final.index // 7)[\"wind_speed\"].agg([\n",
    "    ('wind_speed_1', lambda x: x.iloc[0]),\n",
    "    ('wind_speed_2', lambda x: x.iloc[1]),\n",
    "    ('wind_speed_3', lambda x: x.iloc[2]),\n",
    "    ('wind_speed_4', lambda x: x.iloc[3]),\n",
    "    ('wind_speed_5', lambda x: x.iloc[4]),\n",
    "    ('wind_speed_6', lambda x: x.iloc[5]),\n",
    "    ('wind_speed_7', lambda x: x.iloc[6]),\n",
    "    \n",
    "    \n",
    "])\n",
    "\n",
    "relative_humidity_df =  weather_data_A_final.groupby(weather_data_A_final.index // 7)[\"relative_humidity\"].agg([\n",
    "    ('relative_humidity_1', lambda x: x.iloc[0]),\n",
    "    ('relative_humidity_2', lambda x: x.iloc[1]),\n",
    "    ('relative_humidity_3', lambda x: x.iloc[2]),\n",
    "    ('relative_humidity_4', lambda x: x.iloc[3]),\n",
    "    ('relative_humidity_5', lambda x: x.iloc[4]),\n",
    "    ('relative_humidity_6', lambda x: x.iloc[5]),\n",
    "    ('relative_humidity_7', lambda x: x.iloc[6]),\n",
    "    \n",
    "    \n",
    "])\n",
    "\n",
    "dew_point_df =  weather_data_A_final.groupby(weather_data_A_final.index // 7)[\"dew_point\"].agg([\n",
    "    ('dew_point_1', lambda x: x.iloc[0]),\n",
    "    ('dew_point_2', lambda x: x.iloc[1]),\n",
    "    ('dew_point_3', lambda x: x.iloc[2]),\n",
    "    ('dew_point_4', lambda x: x.iloc[3]),\n",
    "    ('dew_point_5', lambda x: x.iloc[4]),\n",
    "    ('dew_point_6', lambda x: x.iloc[5]),\n",
    "    ('dew_point_7', lambda x: x.iloc[6]),\n",
    "    \n",
    "    \n",
    "])\n",
    "\n",
    "temperature_df =  weather_data_A_final.groupby(weather_data_A_final.index // 7)[\"temperature\"].agg([\n",
    "    ('temperature_1', lambda x: x.iloc[0]),\n",
    "    ('temperature_2', lambda x: x.iloc[1]),\n",
    "    ('temperature_3', lambda x: x.iloc[2]),\n",
    "    ('temperature_4', lambda x: x.iloc[3]),\n",
    "    ('temperature_5', lambda x: x.iloc[4]),\n",
    "    ('temperature_6', lambda x: x.iloc[5]),\n",
    "    ('temperature_7', lambda x: x.iloc[6]),\n",
    "    \n",
    "    \n",
    "])\n",
    "\n",
    "\n",
    "\n",
    "health_index_df =  weather_data_A_final.groupby(weather_data_A_final.index // 7)[\"health_index\"].agg([\n",
    "    ('health_index_1', lambda x: x.iloc[0]),\n",
    "    ('health_index_2', lambda x: x.iloc[1]),\n",
    "    ('health_index_3', lambda x: x.iloc[2]),\n",
    "    ('health_index_4', lambda x: x.iloc[3]),\n",
    "    ('health_index_5', lambda x: x.iloc[4]),\n",
    "    ('health_index_6', lambda x: x.iloc[5]),\n",
    "    ('health_index_7', lambda x: x.iloc[6]),\n",
    "    \n",
    "    \n",
    "])\n",
    "\n",
    "\n",
    "temp_df_A = pd.concat([new_date_time_local_df.reset_index(drop=True), pressure_station_df.reset_index(drop=True),pressure_sea_df.reset_index(drop=True), wind_dir_df.reset_index(drop=True), wind_dir_10s_df.reset_index(drop=True), wind_speed_df.reset_index(drop=True), relative_humidity_df.reset_index(drop=True), dew_point_df.reset_index(drop=True), temperature_df.reset_index(drop=True), health_index_df.reset_index(drop=True) ], axis=1)\n",
    "\n",
    "temp_df_A.head()"
   ]
  },
  {
   "cell_type": "code",
   "execution_count": null,
   "metadata": {},
   "outputs": [],
   "source": [
    "new_date_time_local_df = weather_data_B_final.groupby(weather_data_B_final.index // 7)[\"new_date_time_local\"].agg([\n",
    "    ('date', 'first')\n",
    "])\n",
    "\n",
    "pressure_station_df =  weather_data_B_final.groupby(weather_data_B_final.index // 7)[\"pressure_station\"].agg([\n",
    "    ('pressure_station_1', lambda x: x.iloc[0]),\n",
    "    ('pressure_station_2', lambda x: x.iloc[1]),\n",
    "    ('pressure_station_3', lambda x: x.iloc[2]),\n",
    "    ('pressure_station_4', lambda x: x.iloc[3]),\n",
    "    ('pressure_station_5', lambda x: x.iloc[4]),\n",
    "    ('pressure_station_6', lambda x: x.iloc[5]),\n",
    "    ('pressure_station_7', lambda x: x.iloc[6]),\n",
    "    \n",
    "    \n",
    "])\n",
    "\n",
    "pressure_sea_df =  weather_data_B_final.groupby(weather_data_B_final.index // 7)[\"pressure_sea\"].agg([\n",
    "    ('pressure_sea_1', lambda x: x.iloc[0]),\n",
    "    ('pressure_sea_2', lambda x: x.iloc[1]),\n",
    "    ('pressure_sea_3', lambda x: x.iloc[2]),\n",
    "    ('pressure_sea_4', lambda x: x.iloc[3]),\n",
    "    ('pressure_sea_5', lambda x: x.iloc[4]),\n",
    "    ('pressure_sea_6', lambda x: x.iloc[5]),\n",
    "    ('pressure_sea_7', lambda x: x.iloc[6]),\n",
    "    \n",
    "    \n",
    "])\n",
    "\n",
    "wind_dir_df =  weather_data_B_final.groupby(weather_data_B_final.index // 7)[\"wind_dir\"].agg([\n",
    "    ('wind_dir_1', lambda x: x.iloc[0]),\n",
    "    ('wind_dir_2', lambda x: x.iloc[1]),\n",
    "    ('wind_dir_3', lambda x: x.iloc[2]),\n",
    "    ('wind_dir_4', lambda x: x.iloc[3]),\n",
    "    ('wind_dir_5', lambda x: x.iloc[4]),\n",
    "    ('wind_dir_6', lambda x: x.iloc[5]),\n",
    "    ('wind_dir_7', lambda x: x.iloc[6]),\n",
    "    \n",
    "    \n",
    "])\n",
    "\n",
    "wind_dir_10s_df =  weather_data_B_final.groupby(weather_data_B_final.index // 7)[\"wind_dir_10s\"].agg([\n",
    "    ('wind_dir_10s_1', lambda x: x.iloc[0]),\n",
    "    ('wind_dir_10s_2', lambda x: x.iloc[1]),\n",
    "    ('wind_dir_10s_3', lambda x: x.iloc[2]),\n",
    "    ('wind_dir_10s_4', lambda x: x.iloc[3]),\n",
    "    ('wind_dir_10s_5', lambda x: x.iloc[4]),\n",
    "    ('wind_dir_10s_6', lambda x: x.iloc[5]),\n",
    "    ('wind_dir_10s_7', lambda x: x.iloc[6]),\n",
    "    \n",
    "    \n",
    "])\n",
    "\n",
    "wind_speed_df =  weather_data_B_final.groupby(weather_data_B_final.index // 7)[\"wind_speed\"].agg([\n",
    "    ('wind_speed_1', lambda x: x.iloc[0]),\n",
    "    ('wind_speed_2', lambda x: x.iloc[1]),\n",
    "    ('wind_speed_3', lambda x: x.iloc[2]),\n",
    "    ('wind_speed_4', lambda x: x.iloc[3]),\n",
    "    ('wind_speed_5', lambda x: x.iloc[4]),\n",
    "    ('wind_speed_6', lambda x: x.iloc[5]),\n",
    "    ('wind_speed_7', lambda x: x.iloc[6]),\n",
    "    \n",
    "    \n",
    "])\n",
    "\n",
    "relative_humidity_df =  weather_data_B_final.groupby(weather_data_B_final.index // 7)[\"relative_humidity\"].agg([\n",
    "    ('relative_humidity_1', lambda x: x.iloc[0]),\n",
    "    ('relative_humidity_2', lambda x: x.iloc[1]),\n",
    "    ('relative_humidity_3', lambda x: x.iloc[2]),\n",
    "    ('relative_humidity_4', lambda x: x.iloc[3]),\n",
    "    ('relative_humidity_5', lambda x: x.iloc[4]),\n",
    "    ('relative_humidity_6', lambda x: x.iloc[5]),\n",
    "    ('relative_humidity_7', lambda x: x.iloc[6]),\n",
    "    \n",
    "    \n",
    "])\n",
    "\n",
    "dew_point_df =  weather_data_B_final.groupby(weather_data_B_final.index // 7)[\"dew_point\"].agg([\n",
    "    ('dew_point_1', lambda x: x.iloc[0]),\n",
    "    ('dew_point_2', lambda x: x.iloc[1]),\n",
    "    ('dew_point_3', lambda x: x.iloc[2]),\n",
    "    ('dew_point_4', lambda x: x.iloc[3]),\n",
    "    ('dew_point_5', lambda x: x.iloc[4]),\n",
    "    ('dew_point_6', lambda x: x.iloc[5]),\n",
    "    ('dew_point_7', lambda x: x.iloc[6]),\n",
    "    \n",
    "    \n",
    "])\n",
    "\n",
    "temperature_df =  weather_data_B_final.groupby(weather_data_B_final.index // 7)[\"temperature\"].agg([\n",
    "    ('temperature_1', lambda x: x.iloc[0]),\n",
    "    ('temperature_2', lambda x: x.iloc[1]),\n",
    "    ('temperature_3', lambda x: x.iloc[2]),\n",
    "    ('temperature_4', lambda x: x.iloc[3]),\n",
    "    ('temperature_5', lambda x: x.iloc[4]),\n",
    "    ('temperature_6', lambda x: x.iloc[5]),\n",
    "    ('temperature_7', lambda x: x.iloc[6]),\n",
    "    \n",
    "    \n",
    "])\n",
    "\n",
    "\n",
    "\n",
    "health_index_df =  weather_data_B_final.groupby(weather_data_B_final.index // 7)[\"health_index\"].agg([\n",
    "    ('health_index_1', lambda x: x.iloc[0]),\n",
    "    ('health_index_2', lambda x: x.iloc[1]),\n",
    "    ('health_index_3', lambda x: x.iloc[2]),\n",
    "    ('health_index_4', lambda x: x.iloc[3]),\n",
    "    ('health_index_5', lambda x: x.iloc[4]),\n",
    "    ('health_index_6', lambda x: x.iloc[5]),\n",
    "    ('health_index_7', lambda x: x.iloc[6]),\n",
    "    \n",
    "    \n",
    "])\n",
    "\n",
    "\n",
    "temp_df_B = pd.concat([new_date_time_local_df.reset_index(drop=True), pressure_station_df.reset_index(drop=True),pressure_sea_df.reset_index(drop=True), wind_dir_df.reset_index(drop=True), wind_dir_10s_df.reset_index(drop=True), wind_speed_df.reset_index(drop=True), relative_humidity_df.reset_index(drop=True), dew_point_df.reset_index(drop=True), temperature_df.reset_index(drop=True), health_index_df.reset_index(drop=True) ], axis=1)"
   ]
  },
  {
   "cell_type": "code",
   "execution_count": null,
   "metadata": {},
   "outputs": [],
   "source": [
    "new_date_time_local_df = weather_data_C_final.groupby(weather_data_C_final.index // 7)[\"new_date_time_local\"].agg([\n",
    "    ('date', 'first')\n",
    "])\n",
    "\n",
    "pressure_station_df =  weather_data_C_final.groupby(weather_data_C_final.index // 7)[\"pressure_station\"].agg([\n",
    "    ('pressure_station_1', lambda x: x.iloc[0]),\n",
    "    ('pressure_station_2', lambda x: x.iloc[1]),\n",
    "    ('pressure_station_3', lambda x: x.iloc[2]),\n",
    "    ('pressure_station_4', lambda x: x.iloc[3]),\n",
    "    ('pressure_station_5', lambda x: x.iloc[4]),\n",
    "    ('pressure_station_6', lambda x: x.iloc[5]),\n",
    "    ('pressure_station_7', lambda x: x.iloc[6]),\n",
    "    \n",
    "    \n",
    "])\n",
    "\n",
    "pressure_sea_df =  weather_data_C_final.groupby(weather_data_C_final.index // 7)[\"pressure_sea\"].agg([\n",
    "    ('pressure_sea_1', lambda x: x.iloc[0]),\n",
    "    ('pressure_sea_2', lambda x: x.iloc[1]),\n",
    "    ('pressure_sea_3', lambda x: x.iloc[2]),\n",
    "    ('pressure_sea_4', lambda x: x.iloc[3]),\n",
    "    ('pressure_sea_5', lambda x: x.iloc[4]),\n",
    "    ('pressure_sea_6', lambda x: x.iloc[5]),\n",
    "    ('pressure_sea_7', lambda x: x.iloc[6]),\n",
    "    \n",
    "    \n",
    "])\n",
    "\n",
    "wind_dir_df =  weather_data_C_final.groupby(weather_data_C_final.index // 7)[\"wind_dir\"].agg([\n",
    "    ('wind_dir_1', lambda x: x.iloc[0]),\n",
    "    ('wind_dir_2', lambda x: x.iloc[1]),\n",
    "    ('wind_dir_3', lambda x: x.iloc[2]),\n",
    "    ('wind_dir_4', lambda x: x.iloc[3]),\n",
    "    ('wind_dir_5', lambda x: x.iloc[4]),\n",
    "    ('wind_dir_6', lambda x: x.iloc[5]),\n",
    "    ('wind_dir_7', lambda x: x.iloc[6]),\n",
    "    \n",
    "    \n",
    "])\n",
    "\n",
    "wind_dir_10s_df =  weather_data_C_final.groupby(weather_data_C_final.index // 7)[\"wind_dir_10s\"].agg([\n",
    "    ('wind_dir_10s_1', lambda x: x.iloc[0]),\n",
    "    ('wind_dir_10s_2', lambda x: x.iloc[1]),\n",
    "    ('wind_dir_10s_3', lambda x: x.iloc[2]),\n",
    "    ('wind_dir_10s_4', lambda x: x.iloc[3]),\n",
    "    ('wind_dir_10s_5', lambda x: x.iloc[4]),\n",
    "    ('wind_dir_10s_6', lambda x: x.iloc[5]),\n",
    "    ('wind_dir_10s_7', lambda x: x.iloc[6]),\n",
    "    \n",
    "    \n",
    "])\n",
    "\n",
    "wind_speed_df =  weather_data_C_final.groupby(weather_data_C_final.index // 7)[\"wind_speed\"].agg([\n",
    "    ('wind_speed_1', lambda x: x.iloc[0]),\n",
    "    ('wind_speed_2', lambda x: x.iloc[1]),\n",
    "    ('wind_speed_3', lambda x: x.iloc[2]),\n",
    "    ('wind_speed_4', lambda x: x.iloc[3]),\n",
    "    ('wind_speed_5', lambda x: x.iloc[4]),\n",
    "    ('wind_speed_6', lambda x: x.iloc[5]),\n",
    "    ('wind_speed_7', lambda x: x.iloc[6]),\n",
    "    \n",
    "    \n",
    "])\n",
    "\n",
    "relative_humidity_df =  weather_data_C_final.groupby(weather_data_C_final.index // 7)[\"relative_humidity\"].agg([\n",
    "    ('relative_humidity_1', lambda x: x.iloc[0]),\n",
    "    ('relative_humidity_2', lambda x: x.iloc[1]),\n",
    "    ('relative_humidity_3', lambda x: x.iloc[2]),\n",
    "    ('relative_humidity_4', lambda x: x.iloc[3]),\n",
    "    ('relative_humidity_5', lambda x: x.iloc[4]),\n",
    "    ('relative_humidity_6', lambda x: x.iloc[5]),\n",
    "    ('relative_humidity_7', lambda x: x.iloc[6]),\n",
    "    \n",
    "    \n",
    "])\n",
    "\n",
    "dew_point_df =  weather_data_C_final.groupby(weather_data_C_final.index // 7)[\"dew_point\"].agg([\n",
    "    ('dew_point_1', lambda x: x.iloc[0]),\n",
    "    ('dew_point_2', lambda x: x.iloc[1]),\n",
    "    ('dew_point_3', lambda x: x.iloc[2]),\n",
    "    ('dew_point_4', lambda x: x.iloc[3]),\n",
    "    ('dew_point_5', lambda x: x.iloc[4]),\n",
    "    ('dew_point_6', lambda x: x.iloc[5]),\n",
    "    ('dew_point_7', lambda x: x.iloc[6]),\n",
    "    \n",
    "    \n",
    "])\n",
    "\n",
    "temperature_df =  weather_data_C_final.groupby(weather_data_C_final.index // 7)[\"temperature\"].agg([\n",
    "    ('temperature_1', lambda x: x.iloc[0]),\n",
    "    ('temperature_2', lambda x: x.iloc[1]),\n",
    "    ('temperature_3', lambda x: x.iloc[2]),\n",
    "    ('temperature_4', lambda x: x.iloc[3]),\n",
    "    ('temperature_5', lambda x: x.iloc[4]),\n",
    "    ('temperature_6', lambda x: x.iloc[5]),\n",
    "    ('temperature_7', lambda x: x.iloc[6]),\n",
    "    \n",
    "    \n",
    "])\n",
    "\n",
    "\n",
    "\n",
    "health_index_df =  weather_data_C_final.groupby(weather_data_C_final.index // 7)[\"health_index\"].agg([\n",
    "    ('health_index_1', lambda x: x.iloc[0]),\n",
    "    ('health_index_2', lambda x: x.iloc[1]),\n",
    "    ('health_index_3', lambda x: x.iloc[2]),\n",
    "    ('health_index_4', lambda x: x.iloc[3]),\n",
    "    ('health_index_5', lambda x: x.iloc[4]),\n",
    "    ('health_index_6', lambda x: x.iloc[5]),\n",
    "    ('health_index_7', lambda x: x.iloc[6]),\n",
    "    \n",
    "    \n",
    "])\n",
    "\n",
    "\n",
    "temp_df_C = pd.concat([new_date_time_local_df.reset_index(drop=True), pressure_station_df.reset_index(drop=True),pressure_sea_df.reset_index(drop=True), wind_dir_df.reset_index(drop=True), wind_dir_10s_df.reset_index(drop=True), wind_speed_df.reset_index(drop=True), relative_humidity_df.reset_index(drop=True), dew_point_df.reset_index(drop=True), temperature_df.reset_index(drop=True), health_index_df.reset_index(drop=True) ], axis=1)"
   ]
  },
  {
   "cell_type": "code",
   "execution_count": null,
   "metadata": {},
   "outputs": [],
   "source": [
    "new_date_time_local_df = weather_data_D_final.groupby(weather_data_D_final.index // 7)[\"new_date_time_local\"].agg([\n",
    "    ('date', 'first')\n",
    "])\n",
    "\n",
    "pressure_station_df =  weather_data_D_final.groupby(weather_data_D_final.index // 7)[\"pressure_station\"].agg([\n",
    "    ('pressure_station_1', lambda x: x.iloc[0]),\n",
    "    ('pressure_station_2', lambda x: x.iloc[1]),\n",
    "    ('pressure_station_3', lambda x: x.iloc[2]),\n",
    "    ('pressure_station_4', lambda x: x.iloc[3]),\n",
    "    ('pressure_station_5', lambda x: x.iloc[4]),\n",
    "    ('pressure_station_6', lambda x: x.iloc[5]),\n",
    "    ('pressure_station_7', lambda x: x.iloc[6]),\n",
    "    \n",
    "    \n",
    "])\n",
    "\n",
    "pressure_sea_df =  weather_data_D_final.groupby(weather_data_D_final.index // 7)[\"pressure_sea\"].agg([\n",
    "    ('pressure_sea_1', lambda x: x.iloc[0]),\n",
    "    ('pressure_sea_2', lambda x: x.iloc[1]),\n",
    "    ('pressure_sea_3', lambda x: x.iloc[2]),\n",
    "    ('pressure_sea_4', lambda x: x.iloc[3]),\n",
    "    ('pressure_sea_5', lambda x: x.iloc[4]),\n",
    "    ('pressure_sea_6', lambda x: x.iloc[5]),\n",
    "    ('pressure_sea_7', lambda x: x.iloc[6]),\n",
    "    \n",
    "    \n",
    "])\n",
    "\n",
    "wind_dir_df =  weather_data_D_final.groupby(weather_data_D_final.index // 7)[\"wind_dir\"].agg([\n",
    "    ('wind_dir_1', lambda x: x.iloc[0]),\n",
    "    ('wind_dir_2', lambda x: x.iloc[1]),\n",
    "    ('wind_dir_3', lambda x: x.iloc[2]),\n",
    "    ('wind_dir_4', lambda x: x.iloc[3]),\n",
    "    ('wind_dir_5', lambda x: x.iloc[4]),\n",
    "    ('wind_dir_6', lambda x: x.iloc[5]),\n",
    "    ('wind_dir_7', lambda x: x.iloc[6]),\n",
    "    \n",
    "    \n",
    "])\n",
    "\n",
    "wind_dir_10s_df =  weather_data_D_final.groupby(weather_data_D_final.index // 7)[\"wind_dir_10s\"].agg([\n",
    "    ('wind_dir_10s_1', lambda x: x.iloc[0]),\n",
    "    ('wind_dir_10s_2', lambda x: x.iloc[1]),\n",
    "    ('wind_dir_10s_3', lambda x: x.iloc[2]),\n",
    "    ('wind_dir_10s_4', lambda x: x.iloc[3]),\n",
    "    ('wind_dir_10s_5', lambda x: x.iloc[4]),\n",
    "    ('wind_dir_10s_6', lambda x: x.iloc[5]),\n",
    "    ('wind_dir_10s_7', lambda x: x.iloc[6]),\n",
    "    \n",
    "    \n",
    "])\n",
    "\n",
    "wind_speed_df =  weather_data_D_final.groupby(weather_data_D_final.index // 7)[\"wind_speed\"].agg([\n",
    "    ('wind_speed_1', lambda x: x.iloc[0]),\n",
    "    ('wind_speed_2', lambda x: x.iloc[1]),\n",
    "    ('wind_speed_3', lambda x: x.iloc[2]),\n",
    "    ('wind_speed_4', lambda x: x.iloc[3]),\n",
    "    ('wind_speed_5', lambda x: x.iloc[4]),\n",
    "    ('wind_speed_6', lambda x: x.iloc[5]),\n",
    "    ('wind_speed_7', lambda x: x.iloc[6]),\n",
    "    \n",
    "    \n",
    "])\n",
    "\n",
    "relative_humidity_df =  weather_data_D_final.groupby(weather_data_D_final.index // 7)[\"relative_humidity\"].agg([\n",
    "    ('relative_humidity_1', lambda x: x.iloc[0]),\n",
    "    ('relative_humidity_2', lambda x: x.iloc[1]),\n",
    "    ('relative_humidity_3', lambda x: x.iloc[2]),\n",
    "    ('relative_humidity_4', lambda x: x.iloc[3]),\n",
    "    ('relative_humidity_5', lambda x: x.iloc[4]),\n",
    "    ('relative_humidity_6', lambda x: x.iloc[5]),\n",
    "    ('relative_humidity_7', lambda x: x.iloc[6]),\n",
    "    \n",
    "    \n",
    "])\n",
    "\n",
    "dew_point_df =  weather_data_D_final.groupby(weather_data_D_final.index // 7)[\"dew_point\"].agg([\n",
    "    ('dew_point_1', lambda x: x.iloc[0]),\n",
    "    ('dew_point_2', lambda x: x.iloc[1]),\n",
    "    ('dew_point_3', lambda x: x.iloc[2]),\n",
    "    ('dew_point_4', lambda x: x.iloc[3]),\n",
    "    ('dew_point_5', lambda x: x.iloc[4]),\n",
    "    ('dew_point_6', lambda x: x.iloc[5]),\n",
    "    ('dew_point_7', lambda x: x.iloc[6]),\n",
    "    \n",
    "    \n",
    "])\n",
    "\n",
    "temperature_df =  weather_data_D_final.groupby(weather_data_D_final.index // 7)[\"temperature\"].agg([\n",
    "    ('temperature_1', lambda x: x.iloc[0]),\n",
    "    ('temperature_2', lambda x: x.iloc[1]),\n",
    "    ('temperature_3', lambda x: x.iloc[2]),\n",
    "    ('temperature_4', lambda x: x.iloc[3]),\n",
    "    ('temperature_5', lambda x: x.iloc[4]),\n",
    "    ('temperature_6', lambda x: x.iloc[5]),\n",
    "    ('temperature_7', lambda x: x.iloc[6]),\n",
    "    \n",
    "    \n",
    "])\n",
    "\n",
    "\n",
    "\n",
    "health_index_df =  weather_data_D_final.groupby(weather_data_D_final.index // 7)[\"health_index\"].agg([\n",
    "    ('health_index_1', lambda x: x.iloc[0]),\n",
    "    ('health_index_2', lambda x: x.iloc[1]),\n",
    "    ('health_index_3', lambda x: x.iloc[2]),\n",
    "    ('health_index_4', lambda x: x.iloc[3]),\n",
    "    ('health_index_5', lambda x: x.iloc[4]),\n",
    "    ('health_index_6', lambda x: x.iloc[5]),\n",
    "    ('health_index_7', lambda x: x.iloc[6]),\n",
    "    \n",
    "    \n",
    "])\n",
    "\n",
    "\n",
    "temp_df_D = pd.concat([new_date_time_local_df.reset_index(drop=True), pressure_station_df.reset_index(drop=True),pressure_sea_df.reset_index(drop=True), wind_dir_df.reset_index(drop=True), wind_dir_10s_df.reset_index(drop=True), wind_speed_df.reset_index(drop=True), relative_humidity_df.reset_index(drop=True), dew_point_df.reset_index(drop=True), temperature_df.reset_index(drop=True), health_index_df.reset_index(drop=True) ], axis=1)"
   ]
  },
  {
   "cell_type": "code",
   "execution_count": null,
   "metadata": {},
   "outputs": [],
   "source": [
    "mos_data.head()\n",
    "mos_data[mos_data['count'] == mos_data['count'].max()]"
   ]
  },
  {
   "cell_type": "code",
   "execution_count": null,
   "metadata": {
    "scrolled": true
   },
   "outputs": [],
   "source": [
    "mos_data = mos_data.groupby([\"new_trap_date\"], as_index=False).agg({\n",
    "    \"count\":\"sum\",\n",
    "    \n",
    "})\n",
    "\n",
    "# mos_data.drop(columns=['gender', 'genus', 'specific_epithet', 'trap_region', 'comparison_group', 'latitude', 'longitude'], inplace=True)\n",
    "# mos_data.head()"
   ]
  },
  {
   "cell_type": "code",
   "execution_count": null,
   "metadata": {},
   "outputs": [],
   "source": [
    "mos_data[mos_data['count'] == mos_data['count'].max()]"
   ]
  },
  {
   "cell_type": "code",
   "execution_count": null,
   "metadata": {},
   "outputs": [],
   "source": [
    "final_A = pd.merge(left=mos_data, right=temp_df_A, left_on=\"new_trap_date\", right_on=\"date\")\n",
    "final_B = pd.merge(left=mos_data, right=temp_df_B, left_on=\"new_trap_date\", right_on=\"date\")\n",
    "final_C = pd.merge(left=mos_data, right=temp_df_C, left_on=\"new_trap_date\", right_on=\"date\")\n",
    "final_D = pd.merge(left=mos_data, right=temp_df_D, left_on=\"new_trap_date\", right_on=\"date\")"
   ]
  },
  {
   "cell_type": "code",
   "execution_count": null,
   "metadata": {},
   "outputs": [],
   "source": [
    "len(final_A.index)"
   ]
  },
  {
   "cell_type": "code",
   "execution_count": null,
   "metadata": {
    "scrolled": true
   },
   "outputs": [],
   "source": [
    "final_A.head()"
   ]
  },
  {
   "cell_type": "code",
   "execution_count": null,
   "metadata": {},
   "outputs": [],
   "source": [
    "#drop dates columns as they are irrelevant now\n",
    "final_A.drop(columns=[\"new_trap_date\"], inplace=True)\n",
    "final_B.drop(columns=[\"new_trap_date\"], inplace=True)\n",
    "final_C.drop(columns=[\"new_trap_date\"], inplace=True)\n",
    "final_D.drop(columns=[\"new_trap_date\"], inplace=True)"
   ]
  },
  {
   "cell_type": "code",
   "execution_count": null,
   "metadata": {},
   "outputs": [],
   "source": [
    "final_A.head()"
   ]
  },
  {
   "cell_type": "code",
   "execution_count": null,
   "metadata": {},
   "outputs": [],
   "source": []
  },
  {
   "cell_type": "code",
   "execution_count": null,
   "metadata": {},
   "outputs": [],
   "source": []
  },
  {
   "cell_type": "code",
   "execution_count": null,
   "metadata": {
    "scrolled": true
   },
   "outputs": [],
   "source": [
    "# print(\"Gender of mosquitos trapped records:\")\n",
    "# print(final_A['gender'].value_counts())\n",
    "# sns.countplot(x='gender', data=final_A, palette='Set2')\n",
    "# plt.show()\n",
    "# print(\"The most common gender records is %s\" % final_A['gender'].value_counts().idxmax())"
   ]
  },
  {
   "cell_type": "raw",
   "metadata": {},
   "source": [
    "Rencode for genus, specific_epithet, gender, trap_region, comparison group"
   ]
  },
  {
   "cell_type": "code",
   "execution_count": null,
   "metadata": {},
   "outputs": [],
   "source": [
    "# final_A[\"genus\"] = final_A[\"genus\"].astype('category')\n",
    "# final_A[\"specific_epithet\"] = final_A[\"specific_epithet\"].astype('category')\n",
    "# final_A[\"gender\"] = final_A[\"gender\"].astype('category')\n",
    "# final_A[\"trap_region\"] = final_A[\"trap_region\"].astype('category')\n",
    "# final_A[\"comparison_group\"] = final_A[\"comparison_group\"].astype('category')\n",
    "# final_A[\"wind_dir_1\"] = final_A[\"wind_dir_1\"].astype('category')\n",
    "# final_A[\"wind_dir_2\"] = final_A[\"wind_dir_2\"].astype('category')\n",
    "# final_A[\"wind_dir_3\"] = final_A[\"wind_dir_3\"].astype('category')\n",
    "# final_A[\"wind_dir_4\"] = final_A[\"wind_dir_4\"].astype('category')\n",
    "# final_A[\"wind_dir_5\"] = final_A[\"wind_dir_5\"].astype('category')\n",
    "# final_A[\"wind_dir_6\"] = final_A[\"wind_dir_6\"].astype('category')\n",
    "# final_A[\"wind_dir_7\"] = final_A[\"wind_dir_7\"].astype('category')\n",
    "\n",
    "\n",
    "\n",
    "# # final_A[\"genus_cat\"] = final_A[\"genus\"].cat.codes\n",
    "# # final_A[\"specific_epithet_cat\"] = final_A[\"specific_epithet\"].cat.codes\n",
    "# # final_A[\"gender_cat\"] = final_A[\"gender\"].cat.codes\n",
    "# # final_A[\"trap_region_cat\"] = final_A[\"trap_region\"].cat.codes\n",
    "# # final_A[\"comparison_group_cat\"] = final_A[\"comparison_group\"].cat.codes\n",
    "# final_A[\"wind_dir_1_cat\"] = final_A[\"wind_dir_1\"].cat.codes\n",
    "# final_A[\"wind_dir_2_cat\"] = final_A[\"wind_dir_2\"].cat.codes\n",
    "# final_A[\"wind_dir_3_cat\"] = final_A[\"wind_dir_3\"].cat.codes\n",
    "# final_A[\"wind_dir_4_cat\"] = final_A[\"wind_dir_4\"].cat.codes\n",
    "# final_A[\"wind_dir_5_cat\"] = final_A[\"wind_dir_5\"].cat.codes\n",
    "# final_A[\"wind_dir_6_cat\"] = final_A[\"wind_dir_6\"].cat.codes\n",
    "# final_A[\"wind_dir_7_cat\"] = final_A[\"wind_dir_7\"].cat.codes\n",
    "\n",
    "\n",
    "\n",
    "# dummies = pd.get_dummies(final_A[[\"genus\", \"gender\", \"trap_region\", \"comparison_group\", \"wind_dir\"]])\n",
    "\n",
    "# final_A = pd.concat([final_A, dummies], axis=1)\n",
    "\n",
    "final_A.head()"
   ]
  },
  {
   "cell_type": "code",
   "execution_count": null,
   "metadata": {},
   "outputs": [],
   "source": [
    "final_A.drop(columns=[\"wind_dir_1\", \"wind_dir_2\", \"wind_dir_3\",\"wind_dir_4\",\"wind_dir_5\",\"wind_dir_6\",\"wind_dir_7\"], inplace=True)\n",
    "final_B.drop(columns=[\"wind_dir_1\", \"wind_dir_2\", \"wind_dir_3\",\"wind_dir_4\",\"wind_dir_5\",\"wind_dir_6\",\"wind_dir_7\"], inplace=True)\n",
    "final_C.drop(columns=[\"wind_dir_1\", \"wind_dir_2\", \"wind_dir_3\",\"wind_dir_4\",\"wind_dir_5\",\"wind_dir_6\",\"wind_dir_7\"], inplace=True)\n",
    "final_D.drop(columns=[\"wind_dir_1\", \"wind_dir_2\", \"wind_dir_3\",\"wind_dir_4\",\"wind_dir_5\",\"wind_dir_6\",\"wind_dir_7\"], inplace=True)"
   ]
  },
  {
   "cell_type": "code",
   "execution_count": null,
   "metadata": {
    "scrolled": false
   },
   "outputs": [],
   "source": [
    "final_A.head()"
   ]
  },
  {
   "cell_type": "code",
   "execution_count": null,
   "metadata": {},
   "outputs": [],
   "source": []
  },
  {
   "cell_type": "markdown",
   "metadata": {},
   "source": [
    "## Part A: Linear regression num of Mosquitos"
   ]
  },
  {
   "cell_type": "code",
   "execution_count": null,
   "metadata": {},
   "outputs": [],
   "source": [
    "# sns.pairplot(final_A)"
   ]
  },
  {
   "cell_type": "code",
   "execution_count": null,
   "metadata": {},
   "outputs": [],
   "source": [
    "sns.distplot(final_A[\"count\"])"
   ]
  },
  {
   "cell_type": "code",
   "execution_count": null,
   "metadata": {
    "scrolled": true
   },
   "outputs": [],
   "source": [
    "fig, ax = plt.subplots(figsize=(50,1))\n",
    "sns.heatmap(final_A.corr().loc[['count'], :], annot=True, ax=ax)"
   ]
  },
  {
   "cell_type": "code",
   "execution_count": null,
   "metadata": {},
   "outputs": [],
   "source": [
    "final_A.tail()"
   ]
  },
  {
   "cell_type": "code",
   "execution_count": null,
   "metadata": {
    "scrolled": true
   },
   "outputs": [],
   "source": [
    "# final_A.groupby('trap_region_cat').mean()[\"count\"].plot(kind='bar')\n",
    "final_A[final_A['count'] == final_A['count'].max()]"
   ]
  },
  {
   "cell_type": "code",
   "execution_count": null,
   "metadata": {},
   "outputs": [],
   "source": [
    "plt.scatter(final_A[\"temperature_7\"], final_A[\"count\"])\n",
    "plt.show()"
   ]
  },
  {
   "cell_type": "code",
   "execution_count": null,
   "metadata": {
    "scrolled": true
   },
   "outputs": [],
   "source": [
    "# final_A.groupby('comparison_group_cat').mean()[\"count\"].plot(kind='bar')"
   ]
  },
  {
   "cell_type": "code",
   "execution_count": null,
   "metadata": {
    "scrolled": true
   },
   "outputs": [],
   "source": [
    "# final_A.groupby('specific_epithet_cat').mean()[\"count\"].plot(kind='bar')"
   ]
  },
  {
   "cell_type": "code",
   "execution_count": null,
   "metadata": {},
   "outputs": [],
   "source": [
    "# final_A.groupby('genus_cat').mean()[\"count\"].plot(kind='bar')"
   ]
  },
  {
   "cell_type": "code",
   "execution_count": null,
   "metadata": {},
   "outputs": [],
   "source": [
    "from sklearn.preprocessing import StandardScaler\n",
    "\n",
    "cols = ['count', 'date', 'pressure_station_1', 'pressure_station_2', 'pressure_station_3', 'pressure_station_4', 'pressure_station_5', 'pressure_station_6', 'pressure_station_7', 'pressure_sea_1', 'pressure_sea_2', 'pressure_sea_3', 'pressure_sea_4', 'pressure_sea_5', 'pressure_sea_6', 'pressure_sea_7']\n",
    "\n",
    "X = final_A.drop(columns=cols)\n",
    "\n",
    "y = final_A['count']\n",
    "\n",
    "wind_speed_l = [\"wind_speed_{}\".format(i+1) for i in range(7)]\n",
    "relative_humidity_l = [\"relative_humidity_{}\".format(i+1) for i in range(7)]\n",
    "dew_point_l = [\"dew_point_{}\".format(i+1) for i in range(7)]\n",
    "temperature_l = [\"temperature_{}\".format(i+1) for i in range(7)]\n",
    "health_index_l = [\"health_index_{}\".format(i+1) for i in range(7)]\n",
    "dew_point_l = [\"dew_point_{}\".format(i+1) for i in range(7)]\n",
    "\n",
    "\n",
    "\n",
    "\n",
    "cols= wind_speed_l + relative_humidity_l + dew_point_l + temperature_l + health_index_l + dew_point_l\n",
    "X[cols] = X[cols].apply(lambda x: (x - x.min()) / (x.max() - x.min()))\n",
    "X[cols] = StandardScaler().fit_transform(X[cols])\n"
   ]
  },
  {
   "cell_type": "code",
   "execution_count": null,
   "metadata": {
    "scrolled": true
   },
   "outputs": [],
   "source": [
    "X.head()"
   ]
  },
  {
   "cell_type": "code",
   "execution_count": null,
   "metadata": {},
   "outputs": [],
   "source": [
    "len(X.index)"
   ]
  },
  {
   "cell_type": "code",
   "execution_count": null,
   "metadata": {},
   "outputs": [],
   "source": [
    "from sklearn.model_selection import train_test_split\n",
    "X_train, X_test, y_train, y_test = train_test_split(X, y, test_size=0.2, random_state=42)"
   ]
  },
  {
   "cell_type": "code",
   "execution_count": null,
   "metadata": {},
   "outputs": [],
   "source": [
    "from sklearn import metrics\n",
    "from sklearn.model_selection import cross_val_score\n",
    "\n",
    "def cross_val(model):\n",
    "    pred = cross_val_score(model, X, y, cv=10)\n",
    "    return pred.mean()\n",
    "\n",
    "def print_evaluate(true, predicted):  \n",
    "    mae = metrics.mean_absolute_error(true, predicted)\n",
    "    mse = metrics.mean_squared_error(true, predicted)\n",
    "    rmse = np.sqrt(metrics.mean_squared_error(true, predicted))\n",
    "    r2_square = metrics.r2_score(true, predicted)\n",
    "    print('MAE:', mae)\n",
    "    print('MSE:', mse)\n",
    "    print('RMSE:', rmse)\n",
    "    print('R2 Square', r2_square)\n",
    "    \n",
    "def evaluate(true, predicted):\n",
    "    mae = metrics.mean_absolute_error(true, predicted)\n",
    "    mse = metrics.mean_squared_error(true, predicted)\n",
    "    rmse = np.sqrt(metrics.mean_squared_error(true, predicted))\n",
    "    r2_square = metrics.r2_score(true, predicted)\n",
    "    return mae, mse, rmse, r2_square"
   ]
  },
  {
   "cell_type": "code",
   "execution_count": null,
   "metadata": {},
   "outputs": [],
   "source": [
    "from sklearn.linear_model import LinearRegression\n",
    "\n",
    "lin_reg = LinearRegression()\n",
    "lin_reg.fit(X_train,y_train)"
   ]
  },
  {
   "cell_type": "code",
   "execution_count": null,
   "metadata": {
    "scrolled": true
   },
   "outputs": [],
   "source": [
    "print(lin_reg.intercept_)\n",
    "coeff_df = pd.DataFrame(lin_reg.coef_, X.columns, columns=['Coefficient'])\n",
    "coeff_df"
   ]
  },
  {
   "cell_type": "code",
   "execution_count": null,
   "metadata": {
    "scrolled": true
   },
   "outputs": [],
   "source": [
    "pred = lin_reg.predict(X_test)\n",
    "plt.scatter(y_test, pred)"
   ]
  },
  {
   "cell_type": "code",
   "execution_count": null,
   "metadata": {},
   "outputs": [],
   "source": [
    "sns.distplot((y_test - pred), bins=50);"
   ]
  },
  {
   "cell_type": "code",
   "execution_count": null,
   "metadata": {},
   "outputs": [],
   "source": [
    "test_pred = lin_reg.predict(X_test)\n",
    "train_pred = lin_reg.predict(X_train)\n",
    "\n",
    "print('Test set evaluation:\\n_____________________________________')\n",
    "print_evaluate(y_test, test_pred)\n",
    "print('====================================')\n",
    "print('Train set evaluation:\\n_____________________________________')\n",
    "print_evaluate(y_train, train_pred)"
   ]
  },
  {
   "cell_type": "code",
   "execution_count": null,
   "metadata": {
    "scrolled": true
   },
   "outputs": [],
   "source": [
    "results_df = pd.DataFrame(data=[[\"Linear Regression\", *evaluate(y_test, test_pred) , cross_val(LinearRegression())]], \n",
    "                          columns=['Model', 'MAE', 'MSE', 'RMSE', 'R2 Square', \"Cross Validation\"])\n",
    "results_df"
   ]
  },
  {
   "cell_type": "code",
   "execution_count": null,
   "metadata": {},
   "outputs": [],
   "source": []
  }
 ],
 "metadata": {
  "kernelspec": {
   "display_name": "Python 3",
   "language": "python",
   "name": "python3"
  },
  "language_info": {
   "codemirror_mode": {
    "name": "ipython",
    "version": 3
   },
   "file_extension": ".py",
   "mimetype": "text/x-python",
   "name": "python",
   "nbconvert_exporter": "python",
   "pygments_lexer": "ipython3",
   "version": "3.7.8"
  },
  "toc": {
   "base_numbering": 1,
   "nav_menu": {},
   "number_sections": true,
   "sideBar": true,
   "skip_h1_title": false,
   "title_cell": "Table of Contents",
   "title_sidebar": "Contents",
   "toc_cell": false,
   "toc_position": {},
   "toc_section_display": true,
   "toc_window_display": false
  }
 },
 "nbformat": 4,
 "nbformat_minor": 2
}
