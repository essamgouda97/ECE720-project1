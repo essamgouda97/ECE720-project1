{
 "cells": [
  {
   "cell_type": "markdown",
   "metadata": {},
   "source": [
    "### Group 28 members:\n",
    "- Jingze Tian (CCID)\n",
    "- Letian Ren (CCID)\n",
    "- Essam Gouda (egouda)"
   ]
  },
  {
   "cell_type": "markdown",
   "metadata": {},
   "source": [
    "# Task 1: Regression\n",
    "- Linear Regression for no_of_Mosquito = function(weather_features)\n",
    "- Linear Regression for no_of_Mosquito_female = function(weather_features)\n",
    "- Linear Regression for no_of_Mosquito_male = function(weather_features)\n",
    "- Polynomial Regression for no_of_Mosquito_female = function(weather_features)\n",
    "- Polynomial Regression for no_of_Mosquito_male = function(weather_features)\n",
    "\n",
    "#### Variations for each model:\n",
    "- Different cost functions were tested\n",
    "- Model without normalization and standardization, model with normalization only, model with standardization only, model with both normalization and standardization.\n",
    "- Feature selection\n",
    "- model statistics compared at the end"
   ]
  },
  {
   "cell_type": "markdown",
   "metadata": {},
   "source": [
    "## Imports"
   ]
  },
  {
   "cell_type": "code",
   "execution_count": 979,
   "metadata": {},
   "outputs": [
    {
     "ename": "ImportError",
     "evalue": "cannot import name 'PolynomialF' from 'sklearn.preprocessing' (/home/essamgouda97/anaconda3/lib/python3.7/site-packages/sklearn/preprocessing/__init__.py)",
     "output_type": "error",
     "traceback": [
      "\u001b[0;31m---------------------------------------------------------------------------\u001b[0m",
      "\u001b[0;31mImportError\u001b[0m                               Traceback (most recent call last)",
      "\u001b[0;32m<ipython-input-979-8a257ddffd62>\u001b[0m in \u001b[0;36m<module>\u001b[0;34m\u001b[0m\n\u001b[1;32m     10\u001b[0m \u001b[0msns\u001b[0m\u001b[0;34m.\u001b[0m\u001b[0mset\u001b[0m\u001b[0;34m(\u001b[0m\u001b[0mstyle\u001b[0m\u001b[0;34m=\u001b[0m\u001b[0;34m\"whitegrid\"\u001b[0m\u001b[0;34m,\u001b[0m \u001b[0mcolor_codes\u001b[0m\u001b[0;34m=\u001b[0m\u001b[0;32mTrue\u001b[0m\u001b[0;34m)\u001b[0m\u001b[0;34m\u001b[0m\u001b[0;34m\u001b[0m\u001b[0m\n\u001b[1;32m     11\u001b[0m \u001b[0;34m\u001b[0m\u001b[0m\n\u001b[0;32m---> 12\u001b[0;31m \u001b[0;32mfrom\u001b[0m \u001b[0msklearn\u001b[0m\u001b[0;34m.\u001b[0m\u001b[0mpreprocessing\u001b[0m \u001b[0;32mimport\u001b[0m \u001b[0mPolynomialF\u001b[0m\u001b[0;34m\u001b[0m\u001b[0;34m\u001b[0m\u001b[0m\n\u001b[0m\u001b[1;32m     13\u001b[0m \u001b[0meatures\u001b[0m\u001b[0;34m\u001b[0m\u001b[0;34m\u001b[0m\u001b[0m\n\u001b[1;32m     14\u001b[0m \u001b[0;32mfrom\u001b[0m \u001b[0msklearn\u001b[0m\u001b[0;34m.\u001b[0m\u001b[0mpreprocessing\u001b[0m \u001b[0;32mimport\u001b[0m \u001b[0mStandardScaler\u001b[0m\u001b[0;34m\u001b[0m\u001b[0;34m\u001b[0m\u001b[0m\n",
      "\u001b[0;31mImportError\u001b[0m: cannot import name 'PolynomialF' from 'sklearn.preprocessing' (/home/essamgouda97/anaconda3/lib/python3.7/site-packages/sklearn/preprocessing/__init__.py)"
     ]
    }
   ],
   "source": [
    "import pandas as pd\n",
    "import numpy as np\n",
    "import time\n",
    "\n",
    "\n",
    "import matplotlib.pyplot as plt\n",
    "plt.rc(\"font\", size=14)\n",
    "import seaborn as sns\n",
    "sns.set(style=\"white\") #white bg for sns plots\n",
    "sns.set(style=\"whitegrid\", color_codes=True)\n",
    "\n",
    "from sklearn.preprocessing import PolynomialF\n",
    "eatures\n",
    "from sklearn.preprocessing import StandardScaler\n",
    "from sklearn.model_selection import train_test_split\n",
    "from sklearn import metrics\n",
    "from sklearn.model_selection import cross_val_score\n",
    "from sklearn.linear_model import LinearRegression\n",
    "\n",
    "from scipy.stats import ks_2samp\n",
    "\n",
    "import warnings; warnings.simplefilter('ignore')"
   ]
  },
  {
   "cell_type": "markdown",
   "metadata": {},
   "source": [
    "## Read csv files (datasets)"
   ]
  },
  {
   "cell_type": "code",
   "execution_count": null,
   "metadata": {},
   "outputs": [],
   "source": [
    "weather_data = pd.read_csv('./data/weather_data.csv')\n",
    "mos_data = pd.read_csv('./data/mosquito_data_new.csv')"
   ]
  },
  {
   "cell_type": "code",
   "execution_count": null,
   "metadata": {},
   "outputs": [],
   "source": [
    "mos_data.head()"
   ]
  },
  {
   "cell_type": "code",
   "execution_count": null,
   "metadata": {},
   "outputs": [],
   "source": [
    "weather_data.head()"
   ]
  },
  {
   "cell_type": "markdown",
   "metadata": {},
   "source": [
    "### Standardize mosquito trap date format"
   ]
  },
  {
   "cell_type": "code",
   "execution_count": null,
   "metadata": {
    "scrolled": false
   },
   "outputs": [],
   "source": [
    "t_list = []\n",
    "for i in mos_data['Trap Date']:\n",
    "    i = str(i)\n",
    "    t1 = time.strptime(i,\"%m/%d/%Y %H:%M:%S AM\")\n",
    "    t2 = time.strftime(\"%Y-%m-%d\", t1)\n",
    "    t_list.append(t2)\n",
    "\n",
    "mos_data['Trap Date'] = t_list\n",
    "\n",
    "mos_data.head()"
   ]
  },
  {
   "cell_type": "markdown",
   "metadata": {},
   "source": [
    "### Align date ranges in both datasets\n",
    "Both datasets have different date ranges"
   ]
  },
  {
   "cell_type": "code",
   "execution_count": 980,
   "metadata": {
    "scrolled": true
   },
   "outputs": [
    {
     "name": "stdout",
     "output_type": "stream",
     "text": [
      "Range of dates in mosquito dataset is 2017-05-30 to 2018-08-28\n",
      "       Trap Date         Genus Specific Epithet  Gender  Count  \\\n",
      "22100 2017-06-06         Aedes         dorsalis  Female      1   \n",
      "23911 2017-06-06      Culiseta         inornata  Female      3   \n",
      "5018  2017-06-06  Ochlerotatus       excrucians  Female      5   \n",
      "14812 2017-06-06  Ochlerotatus       Black legs  Female      1   \n",
      "22695 2017-06-06          Male             UnID    Male     69   \n",
      "23649 2017-06-06          Male             UnID    Male     44   \n",
      "8348  2017-06-06      Culiseta      alaskaensis  Female      1   \n",
      "22152 2017-06-06          Male             UnID    Male     19   \n",
      "25152 2017-06-06  Ochlerotatus           euedes  Female      9   \n",
      "16627 2017-06-06  Ochlerotatus         riparius  Female      1   \n",
      "19012 2017-06-06  Ochlerotatus             spp.  Female      1   \n",
      "25058 2017-06-06          Misc             UnID  Female      1   \n",
      "11348 2017-06-06  Ochlerotatus       Black legs  Female      8   \n",
      "25981 2017-06-06  Ochlerotatus       excrucians  Female      8   \n",
      "21470 2017-06-06          Male             UnID    Male     96   \n",
      "11616 2017-06-06  Ochlerotatus           euedes  Female     12   \n",
      "25953 2017-06-06  Ochlerotatus       excrucians  Female      3   \n",
      "24242 2017-06-06  Ochlerotatus       Black legs  Female      7   \n",
      "1901  2017-06-06  Ochlerotatus          fitchii  Female     14   \n",
      "18771 2017-06-06  Ochlerotatus       excrucians  Female      1   \n",
      "5037  2017-06-06      Culiseta         inornata  Female      3   \n",
      "12259 2017-06-06  Ochlerotatus       excrucians  Female      1   \n",
      "16024 2017-06-06  Ochlerotatus       Black legs  Female      3   \n",
      "25126 2017-06-06  Ochlerotatus           euedes  Female     18   \n",
      "11831 2017-06-06         Aedes           vexans  Female      3   \n",
      "17038 2017-06-06  Ochlerotatus           euedes  Female      1   \n",
      "1543  2017-06-06         Culex        territans  Female      1   \n",
      "5121  2017-06-06  Ochlerotatus           euedes  Female      5   \n",
      "1421  2017-06-06  Ochlerotatus       flavescens  Female      1   \n",
      "6241  2017-06-06  Ochlerotatus       flavescens  Female     12   \n",
      "...          ...           ...              ...     ...    ...   \n",
      "3335  2018-08-21          Male             UnID    Male     31   \n",
      "7254  2018-08-21  Ochlerotatus         riparius  Female      1   \n",
      "3891  2018-08-21         Culex         tarsalis  Female      1   \n",
      "16870 2018-08-21         Culex        territans  Female      7   \n",
      "2178  2018-08-21      Culiseta         inornata  Female      8   \n",
      "7768  2018-08-21      Culiseta         incidens  Female      1   \n",
      "15788 2018-08-21  Ochlerotatus       flavescens  Female      1   \n",
      "21031 2018-08-21      Culiseta         inornata  Female      4   \n",
      "10069 2018-08-21         Aedes           vexans  Female      2   \n",
      "15428 2018-08-21      Culiseta         inornata  Female     48   \n",
      "23465 2018-08-21          Misc             UnID  Female      1   \n",
      "17086 2018-08-21     Anopheles           earlei  Female      1   \n",
      "4015  2018-08-21         Culex        territans  Female      1   \n",
      "22296 2018-08-21         Culex        territans  Female      2   \n",
      "6768  2018-08-21         Culex         tarsalis  Female      1   \n",
      "20866 2018-08-21         Aedes           vexans  Female      4   \n",
      "25119 2018-08-21         Culex         tarsalis  Female      2   \n",
      "12466 2018-08-21  Ochlerotatus       flavescens  Female      1   \n",
      "10458 2018-08-21          Male             UnID    Male     37   \n",
      "13802 2018-08-21      Culiseta        impatiens  Female      1   \n",
      "16941 2018-08-21          Male             UnID    Male     45   \n",
      "25198 2018-08-21          Male             UnID    Male     15   \n",
      "7827  2018-08-21         Culex         tarsalis  Female      1   \n",
      "25209 2018-08-21          Misc             UnID  Female      2   \n",
      "5011  2018-08-21      Culiseta        morsitans  Female      1   \n",
      "11558 2018-08-21         Aedes         dorsalis  Female      1   \n",
      "25147 2018-08-21          Misc             UnID  Female      6   \n",
      "20777 2018-08-21         Culex         tarsalis  Female      4   \n",
      "10389 2018-08-21         Culex         tarsalis  Female      1   \n",
      "5399  2018-08-21      Culiseta      alaskaensis  Female      1   \n",
      "\n",
      "                      Trap Region Comparison Group   Latitude   Longitude  \\\n",
      "22100            Rural-South West       Peripheral  53.528587 -113.738070   \n",
      "23911            Rural-South West       Peripheral  53.528587 -113.738070   \n",
      "5018   Outer Community-North East            Outer  53.774470 -113.372088   \n",
      "14812       Outer Community-North            Outer  53.774476 -113.585715   \n",
      "22695           River Valley-West             Core  53.504068 -113.570126   \n",
      "23649  Outer Community-North East            Outer  53.774470 -113.372088   \n",
      "8348   Outer Community-South West            Outer  53.408270 -113.761360   \n",
      "22152  Outer Community-North West            Outer  53.713765 -113.959036   \n",
      "25152           River Valley-West             Core  53.504068 -113.570126   \n",
      "16627  Outer Community-North West            Outer  53.713765 -113.959036   \n",
      "19012            Rural-North West       Peripheral  53.619232 -113.712798   \n",
      "25058  Outer Community-South West            Outer  53.408270 -113.761360   \n",
      "11348                  Rural-West            Outer  53.562973 -113.787353   \n",
      "25981            Rural-North West       Peripheral  53.619232 -113.712798   \n",
      "21470            Rural-South West       Peripheral  53.528587 -113.738070   \n",
      "11616            Rural-North West       Peripheral  53.619232 -113.712798   \n",
      "25953  Outer Community-South West            Outer  53.408270 -113.761360   \n",
      "24242      Outer Community-South1            Outer  53.333327 -113.531374   \n",
      "1901             Rural-South West       Peripheral  53.528587 -113.738070   \n",
      "18771                  Rural-East            Outer  53.606722 -113.221359   \n",
      "5037   Outer Community-North East            Outer  53.774470 -113.372088   \n",
      "12259      Outer Community-South1            Outer  53.333327 -113.531374   \n",
      "16024        Residential GC-South             Core  53.482057 -113.418346   \n",
      "25126        Residential GC-South             Core  53.482057 -113.418346   \n",
      "11831      Outer Community-South1            Outer  53.333327 -113.531374   \n",
      "17038        River Valley-East-P1             Core  53.581417 -113.374561   \n",
      "1543   Outer Community-South West            Outer  53.408270 -113.761360   \n",
      "5121   Outer Community-North East            Outer  53.774470 -113.372088   \n",
      "1421            River Valley-West             Core  53.504068 -113.570126   \n",
      "6241             Rural-North West       Peripheral  53.619232 -113.712798   \n",
      "...                           ...              ...        ...         ...   \n",
      "3335             Rural-South West       Peripheral  53.528587 -113.738070   \n",
      "7254   Outer Community-South East            Outer  53.337877 -113.342493   \n",
      "3891         River Valley-East-P1             Core  53.581417 -113.374561   \n",
      "16870        Residential GC-South             Core  53.482057 -113.418346   \n",
      "2178             Rural-North West       Peripheral  53.619232 -113.712798   \n",
      "7768         Residential GC-South             Core  53.482057 -113.418346   \n",
      "15788           Residential-North             Core  53.579459 -113.499262   \n",
      "21031                  Rural-East            Outer  53.606722 -113.221359   \n",
      "10069  Outer Community-North West            Outer  53.713765 -113.959036   \n",
      "15428       Outer Community-North            Outer  53.774476 -113.585715   \n",
      "23465            Rural-South West       Peripheral  53.528587 -113.738070   \n",
      "17086        River Valley-East-P1             Core  53.581417 -113.374561   \n",
      "4015   Outer Community-North West            Outer  53.713765 -113.959036   \n",
      "22296       Outer Community-North            Outer  53.774476 -113.585715   \n",
      "6768             Rural-South West       Peripheral  53.528587 -113.738070   \n",
      "20866           Residential-North             Core  53.579459 -113.499262   \n",
      "25119                  Rural-West            Outer  53.559020 -114.001190   \n",
      "12466                  Rural-West            Outer  53.559020 -114.001190   \n",
      "10458           River Valley-West             Core  53.504068 -113.570126   \n",
      "13802           River Valley-West             Core  53.504068 -113.570126   \n",
      "16941            Rural-North West       Peripheral  53.619232 -113.712798   \n",
      "25198                  Rural-West            Outer  53.559020 -114.001190   \n",
      "7827   Outer Community-South East            Outer  53.337877 -113.342493   \n",
      "25209       Outer Community-North            Outer  53.774476 -113.585715   \n",
      "5011                   Rural-West            Outer  53.559020 -114.001190   \n",
      "11558       Outer Community-North            Outer  53.774476 -113.585715   \n",
      "25147            Rural-North East       Peripheral  53.657693 -113.332118   \n",
      "20777            Rural-North West       Peripheral  53.619232 -113.712798   \n",
      "10389            Rural-North East       Peripheral  53.657693 -113.332118   \n",
      "5399   Outer Community-North West            Outer  53.713765 -113.959036   \n",
      "\n",
      "                                     Location  \n",
      "22100         POINT (-113.7380701 53.5285872)  \n",
      "23911         POINT (-113.7380701 53.5285872)  \n",
      "5018          POINT (-113.3720881 53.7744701)  \n",
      "14812         POINT (-113.5857153 53.7744765)  \n",
      "22695         POINT (-113.5701263 53.5040684)  \n",
      "23649         POINT (-113.3720881 53.7744701)  \n",
      "8348              POINT (-113.76136 53.40827)  \n",
      "22152         POINT (-113.9590359 53.7137648)  \n",
      "25152         POINT (-113.5701263 53.5040684)  \n",
      "16627         POINT (-113.9590359 53.7137648)  \n",
      "19012         POINT (-113.7127984 53.6192317)  \n",
      "25058             POINT (-113.76136 53.40827)  \n",
      "11348          POINT (-113.787353 53.5629733)  \n",
      "25981         POINT (-113.7127984 53.6192317)  \n",
      "21470         POINT (-113.7380701 53.5285872)  \n",
      "11616         POINT (-113.7127984 53.6192317)  \n",
      "25953             POINT (-113.76136 53.40827)  \n",
      "24242         POINT (-113.5313737 53.3333269)  \n",
      "1901          POINT (-113.7380701 53.5285872)  \n",
      "18771  POINT (-113.22135870000001 53.6067218)  \n",
      "5037          POINT (-113.3720881 53.7744701)  \n",
      "12259         POINT (-113.5313737 53.3333269)  \n",
      "16024         POINT (-113.4183455 53.4820573)  \n",
      "25126         POINT (-113.4183455 53.4820573)  \n",
      "11831         POINT (-113.5313737 53.3333269)  \n",
      "17038  POINT (-113.3745611 53.58141700000001)  \n",
      "1543              POINT (-113.76136 53.40827)  \n",
      "5121          POINT (-113.3720881 53.7744701)  \n",
      "1421          POINT (-113.5701263 53.5040684)  \n",
      "6241          POINT (-113.7127984 53.6192317)  \n",
      "...                                       ...  \n",
      "3335          POINT (-113.7380701 53.5285872)  \n",
      "7254          POINT (-113.3424925 53.3378771)  \n",
      "3891   POINT (-113.3745611 53.58141700000001)  \n",
      "16870         POINT (-113.4183455 53.4820573)  \n",
      "2178          POINT (-113.7127984 53.6192317)  \n",
      "7768          POINT (-113.4183455 53.4820573)  \n",
      "15788         POINT (-113.4992624 53.5794591)  \n",
      "21031  POINT (-113.22135870000001 53.6067218)  \n",
      "10069         POINT (-113.9590359 53.7137648)  \n",
      "15428         POINT (-113.5857153 53.7744765)  \n",
      "23465         POINT (-113.7380701 53.5285872)  \n",
      "17086  POINT (-113.3745611 53.58141700000001)  \n",
      "4015          POINT (-113.9590359 53.7137648)  \n",
      "22296         POINT (-113.5857153 53.7744765)  \n",
      "6768          POINT (-113.7380701 53.5285872)  \n",
      "20866         POINT (-113.4992624 53.5794591)  \n",
      "25119   POINT (-114.00119 53.559020000000004)  \n",
      "12466   POINT (-114.00119 53.559020000000004)  \n",
      "10458         POINT (-113.5701263 53.5040684)  \n",
      "13802         POINT (-113.5701263 53.5040684)  \n",
      "16941         POINT (-113.7127984 53.6192317)  \n",
      "25198   POINT (-114.00119 53.559020000000004)  \n",
      "7827          POINT (-113.3424925 53.3378771)  \n",
      "25209         POINT (-113.5857153 53.7744765)  \n",
      "5011    POINT (-114.00119 53.559020000000004)  \n",
      "11558         POINT (-113.5857153 53.7744765)  \n",
      "25147         POINT (-113.3321178 53.6576928)  \n",
      "20777         POINT (-113.7127984 53.6192317)  \n",
      "10389         POINT (-113.3321178 53.6576928)  \n",
      "5399          POINT (-113.9590359 53.7137648)  \n",
      "\n",
      "[3406 rows x 10 columns]\n"
     ]
    },
    {
     "data": {
      "text/html": [
       "<div>\n",
       "<style scoped>\n",
       "    .dataframe tbody tr th:only-of-type {\n",
       "        vertical-align: middle;\n",
       "    }\n",
       "\n",
       "    .dataframe tbody tr th {\n",
       "        vertical-align: top;\n",
       "    }\n",
       "\n",
       "    .dataframe thead th {\n",
       "        text-align: right;\n",
       "    }\n",
       "</style>\n",
       "<table border=\"1\" class=\"dataframe\">\n",
       "  <thead>\n",
       "    <tr style=\"text-align: right;\">\n",
       "      <th></th>\n",
       "      <th>Trap Date</th>\n",
       "      <th>Genus</th>\n",
       "      <th>Specific Epithet</th>\n",
       "      <th>Gender</th>\n",
       "      <th>Count</th>\n",
       "      <th>Trap Region</th>\n",
       "      <th>Comparison Group</th>\n",
       "      <th>Latitude</th>\n",
       "      <th>Longitude</th>\n",
       "      <th>Location</th>\n",
       "    </tr>\n",
       "  </thead>\n",
       "  <tbody>\n",
       "    <tr>\n",
       "      <th>22100</th>\n",
       "      <td>2017-06-06</td>\n",
       "      <td>Aedes</td>\n",
       "      <td>dorsalis</td>\n",
       "      <td>Female</td>\n",
       "      <td>1</td>\n",
       "      <td>Rural-South West</td>\n",
       "      <td>Peripheral</td>\n",
       "      <td>53.528587</td>\n",
       "      <td>-113.738070</td>\n",
       "      <td>POINT (-113.7380701 53.5285872)</td>\n",
       "    </tr>\n",
       "    <tr>\n",
       "      <th>20784</th>\n",
       "      <td>2017-06-06</td>\n",
       "      <td>Ochlerotatus</td>\n",
       "      <td>flavescens</td>\n",
       "      <td>Female</td>\n",
       "      <td>1</td>\n",
       "      <td>Residential-South</td>\n",
       "      <td>Other</td>\n",
       "      <td>53.457490</td>\n",
       "      <td>-113.425390</td>\n",
       "      <td>POINT (-113.42539 53.45749)</td>\n",
       "    </tr>\n",
       "    <tr>\n",
       "      <th>2983</th>\n",
       "      <td>2017-06-06</td>\n",
       "      <td>Ochlerotatus</td>\n",
       "      <td>excrucians</td>\n",
       "      <td>Female</td>\n",
       "      <td>6</td>\n",
       "      <td>Rural-South West</td>\n",
       "      <td>Peripheral</td>\n",
       "      <td>53.528587</td>\n",
       "      <td>-113.738070</td>\n",
       "      <td>POINT (-113.7380701 53.5285872)</td>\n",
       "    </tr>\n",
       "    <tr>\n",
       "      <th>2978</th>\n",
       "      <td>2017-06-06</td>\n",
       "      <td>Male</td>\n",
       "      <td>UnID</td>\n",
       "      <td>Male</td>\n",
       "      <td>58</td>\n",
       "      <td>Outer Community-South1</td>\n",
       "      <td>Outer</td>\n",
       "      <td>53.333327</td>\n",
       "      <td>-113.531374</td>\n",
       "      <td>POINT (-113.5313737 53.3333269)</td>\n",
       "    </tr>\n",
       "    <tr>\n",
       "      <th>22847</th>\n",
       "      <td>2017-06-06</td>\n",
       "      <td>Ochlerotatus</td>\n",
       "      <td>Black legs</td>\n",
       "      <td>Female</td>\n",
       "      <td>3</td>\n",
       "      <td>Outer Community-North West</td>\n",
       "      <td>Outer</td>\n",
       "      <td>53.713765</td>\n",
       "      <td>-113.959036</td>\n",
       "      <td>POINT (-113.9590359 53.7137648)</td>\n",
       "    </tr>\n",
       "    <tr>\n",
       "      <th>4481</th>\n",
       "      <td>2017-06-06</td>\n",
       "      <td>Aedes</td>\n",
       "      <td>dorsalis</td>\n",
       "      <td>Female</td>\n",
       "      <td>3</td>\n",
       "      <td>Rural-East</td>\n",
       "      <td>Outer</td>\n",
       "      <td>53.606722</td>\n",
       "      <td>-113.221359</td>\n",
       "      <td>POINT (-113.22135870000001 53.6067218)</td>\n",
       "    </tr>\n",
       "    <tr>\n",
       "      <th>19508</th>\n",
       "      <td>2017-06-06</td>\n",
       "      <td>Culiseta</td>\n",
       "      <td>inornata</td>\n",
       "      <td>Female</td>\n",
       "      <td>1</td>\n",
       "      <td>Outer Community-South1</td>\n",
       "      <td>Outer</td>\n",
       "      <td>53.333327</td>\n",
       "      <td>-113.531374</td>\n",
       "      <td>POINT (-113.5313737 53.3333269)</td>\n",
       "    </tr>\n",
       "    <tr>\n",
       "      <th>27106</th>\n",
       "      <td>2017-06-06</td>\n",
       "      <td>Ochlerotatus</td>\n",
       "      <td>fitchii</td>\n",
       "      <td>Female</td>\n",
       "      <td>7</td>\n",
       "      <td>Outer Community-North East</td>\n",
       "      <td>Outer</td>\n",
       "      <td>53.774470</td>\n",
       "      <td>-113.372088</td>\n",
       "      <td>POINT (-113.3720881 53.7744701)</td>\n",
       "    </tr>\n",
       "    <tr>\n",
       "      <th>24623</th>\n",
       "      <td>2017-06-06</td>\n",
       "      <td>Ochlerotatus</td>\n",
       "      <td>flavescens</td>\n",
       "      <td>Female</td>\n",
       "      <td>10</td>\n",
       "      <td>Outer Community-North East</td>\n",
       "      <td>Outer</td>\n",
       "      <td>53.774470</td>\n",
       "      <td>-113.372088</td>\n",
       "      <td>POINT (-113.3720881 53.7744701)</td>\n",
       "    </tr>\n",
       "    <tr>\n",
       "      <th>22921</th>\n",
       "      <td>2017-06-06</td>\n",
       "      <td>Ochlerotatus</td>\n",
       "      <td>spp.</td>\n",
       "      <td>Female</td>\n",
       "      <td>2</td>\n",
       "      <td>Outer Community-North East</td>\n",
       "      <td>Outer</td>\n",
       "      <td>53.774470</td>\n",
       "      <td>-113.372088</td>\n",
       "      <td>POINT (-113.3720881 53.7744701)</td>\n",
       "    </tr>\n",
       "    <tr>\n",
       "      <th>13478</th>\n",
       "      <td>2017-06-06</td>\n",
       "      <td>Male</td>\n",
       "      <td>UnID</td>\n",
       "      <td>Male</td>\n",
       "      <td>37</td>\n",
       "      <td>Rural-South East</td>\n",
       "      <td>Peripheral</td>\n",
       "      <td>53.395831</td>\n",
       "      <td>-113.393540</td>\n",
       "      <td>POINT (-113.3935404 53.3958308)</td>\n",
       "    </tr>\n",
       "    <tr>\n",
       "      <th>2898</th>\n",
       "      <td>2017-06-06</td>\n",
       "      <td>Ochlerotatus</td>\n",
       "      <td>flavescens</td>\n",
       "      <td>Female</td>\n",
       "      <td>1</td>\n",
       "      <td>River Valley-East-P1</td>\n",
       "      <td>Core</td>\n",
       "      <td>53.581417</td>\n",
       "      <td>-113.374561</td>\n",
       "      <td>POINT (-113.3745611 53.58141700000001)</td>\n",
       "    </tr>\n",
       "    <tr>\n",
       "      <th>3007</th>\n",
       "      <td>2017-06-06</td>\n",
       "      <td>Ochlerotatus</td>\n",
       "      <td>spp.</td>\n",
       "      <td>Female</td>\n",
       "      <td>11</td>\n",
       "      <td>River Valley-East-P1</td>\n",
       "      <td>Core</td>\n",
       "      <td>53.581417</td>\n",
       "      <td>-113.374561</td>\n",
       "      <td>POINT (-113.3745611 53.58141700000001)</td>\n",
       "    </tr>\n",
       "    <tr>\n",
       "      <th>7054</th>\n",
       "      <td>2017-06-06</td>\n",
       "      <td>Male</td>\n",
       "      <td>UnID</td>\n",
       "      <td>Male</td>\n",
       "      <td>36</td>\n",
       "      <td>Outer Community-North</td>\n",
       "      <td>Outer</td>\n",
       "      <td>53.774476</td>\n",
       "      <td>-113.585715</td>\n",
       "      <td>POINT (-113.5857153 53.7744765)</td>\n",
       "    </tr>\n",
       "    <tr>\n",
       "      <th>14011</th>\n",
       "      <td>2017-06-06</td>\n",
       "      <td>Male</td>\n",
       "      <td>UnID</td>\n",
       "      <td>Male</td>\n",
       "      <td>5</td>\n",
       "      <td>Residential-South</td>\n",
       "      <td>Other</td>\n",
       "      <td>53.457490</td>\n",
       "      <td>-113.425390</td>\n",
       "      <td>POINT (-113.42539 53.45749)</td>\n",
       "    </tr>\n",
       "    <tr>\n",
       "      <th>4576</th>\n",
       "      <td>2017-06-06</td>\n",
       "      <td>Ochlerotatus</td>\n",
       "      <td>campestris</td>\n",
       "      <td>Female</td>\n",
       "      <td>2</td>\n",
       "      <td>Rural-South East</td>\n",
       "      <td>Peripheral</td>\n",
       "      <td>53.395831</td>\n",
       "      <td>-113.393540</td>\n",
       "      <td>POINT (-113.3935404 53.3958308)</td>\n",
       "    </tr>\n",
       "    <tr>\n",
       "      <th>12902</th>\n",
       "      <td>2017-06-06</td>\n",
       "      <td>Male</td>\n",
       "      <td>UnID</td>\n",
       "      <td>Male</td>\n",
       "      <td>72</td>\n",
       "      <td>River Valley-East-P1</td>\n",
       "      <td>Core</td>\n",
       "      <td>53.581417</td>\n",
       "      <td>-113.374561</td>\n",
       "      <td>POINT (-113.3745611 53.58141700000001)</td>\n",
       "    </tr>\n",
       "    <tr>\n",
       "      <th>6978</th>\n",
       "      <td>2017-06-06</td>\n",
       "      <td>Ochlerotatus</td>\n",
       "      <td>riparius</td>\n",
       "      <td>Female</td>\n",
       "      <td>2</td>\n",
       "      <td>Residential GC-South</td>\n",
       "      <td>Core</td>\n",
       "      <td>53.482057</td>\n",
       "      <td>-113.418346</td>\n",
       "      <td>POINT (-113.4183455 53.4820573)</td>\n",
       "    </tr>\n",
       "    <tr>\n",
       "      <th>8664</th>\n",
       "      <td>2017-06-06</td>\n",
       "      <td>Ochlerotatus</td>\n",
       "      <td>excrucians</td>\n",
       "      <td>Female</td>\n",
       "      <td>1</td>\n",
       "      <td>Rural-West</td>\n",
       "      <td>Outer</td>\n",
       "      <td>53.562973</td>\n",
       "      <td>-113.787353</td>\n",
       "      <td>POINT (-113.787353 53.5629733)</td>\n",
       "    </tr>\n",
       "    <tr>\n",
       "      <th>13830</th>\n",
       "      <td>2017-06-06</td>\n",
       "      <td>Culiseta</td>\n",
       "      <td>alaskaensis</td>\n",
       "      <td>Female</td>\n",
       "      <td>1</td>\n",
       "      <td>Outer Community-South1</td>\n",
       "      <td>Outer</td>\n",
       "      <td>53.333327</td>\n",
       "      <td>-113.531374</td>\n",
       "      <td>POINT (-113.5313737 53.3333269)</td>\n",
       "    </tr>\n",
       "    <tr>\n",
       "      <th>13229</th>\n",
       "      <td>2017-06-06</td>\n",
       "      <td>Aedes</td>\n",
       "      <td>vexans</td>\n",
       "      <td>Female</td>\n",
       "      <td>10</td>\n",
       "      <td>Outer Community-South West</td>\n",
       "      <td>Outer</td>\n",
       "      <td>53.408270</td>\n",
       "      <td>-113.761360</td>\n",
       "      <td>POINT (-113.76136 53.40827)</td>\n",
       "    </tr>\n",
       "    <tr>\n",
       "      <th>18663</th>\n",
       "      <td>2017-06-06</td>\n",
       "      <td>Ochlerotatus</td>\n",
       "      <td>campestris</td>\n",
       "      <td>Female</td>\n",
       "      <td>2</td>\n",
       "      <td>Outer Community-South1</td>\n",
       "      <td>Outer</td>\n",
       "      <td>53.333327</td>\n",
       "      <td>-113.531374</td>\n",
       "      <td>POINT (-113.5313737 53.3333269)</td>\n",
       "    </tr>\n",
       "    <tr>\n",
       "      <th>566</th>\n",
       "      <td>2017-06-06</td>\n",
       "      <td>Ochlerotatus</td>\n",
       "      <td>spencerii</td>\n",
       "      <td>Female</td>\n",
       "      <td>1</td>\n",
       "      <td>Outer Community-South1</td>\n",
       "      <td>Outer</td>\n",
       "      <td>53.333327</td>\n",
       "      <td>-113.531374</td>\n",
       "      <td>POINT (-113.5313737 53.3333269)</td>\n",
       "    </tr>\n",
       "    <tr>\n",
       "      <th>550</th>\n",
       "      <td>2017-06-06</td>\n",
       "      <td>Aedes</td>\n",
       "      <td>vexans</td>\n",
       "      <td>Female</td>\n",
       "      <td>2</td>\n",
       "      <td>Rural-East</td>\n",
       "      <td>Outer</td>\n",
       "      <td>53.606722</td>\n",
       "      <td>-113.221359</td>\n",
       "      <td>POINT (-113.22135870000001 53.6067218)</td>\n",
       "    </tr>\n",
       "    <tr>\n",
       "      <th>10779</th>\n",
       "      <td>2017-06-06</td>\n",
       "      <td>Ochlerotatus</td>\n",
       "      <td>Black legs</td>\n",
       "      <td>Female</td>\n",
       "      <td>22</td>\n",
       "      <td>Outer Community-South West</td>\n",
       "      <td>Outer</td>\n",
       "      <td>53.408270</td>\n",
       "      <td>-113.761360</td>\n",
       "      <td>POINT (-113.76136 53.40827)</td>\n",
       "    </tr>\n",
       "    <tr>\n",
       "      <th>24544</th>\n",
       "      <td>2017-06-06</td>\n",
       "      <td>Culiseta</td>\n",
       "      <td>inornata</td>\n",
       "      <td>Female</td>\n",
       "      <td>2</td>\n",
       "      <td>Residential GC-South</td>\n",
       "      <td>Core</td>\n",
       "      <td>53.482057</td>\n",
       "      <td>-113.418346</td>\n",
       "      <td>POINT (-113.4183455 53.4820573)</td>\n",
       "    </tr>\n",
       "    <tr>\n",
       "      <th>12808</th>\n",
       "      <td>2017-06-06</td>\n",
       "      <td>Ochlerotatus</td>\n",
       "      <td>fitchii</td>\n",
       "      <td>Female</td>\n",
       "      <td>11</td>\n",
       "      <td>Outer Community-South1</td>\n",
       "      <td>Outer</td>\n",
       "      <td>53.333327</td>\n",
       "      <td>-113.531374</td>\n",
       "      <td>POINT (-113.5313737 53.3333269)</td>\n",
       "    </tr>\n",
       "    <tr>\n",
       "      <th>5555</th>\n",
       "      <td>2017-06-06</td>\n",
       "      <td>Ochlerotatus</td>\n",
       "      <td>spp.</td>\n",
       "      <td>Female</td>\n",
       "      <td>3</td>\n",
       "      <td>Outer Community-South West</td>\n",
       "      <td>Outer</td>\n",
       "      <td>53.408270</td>\n",
       "      <td>-113.761360</td>\n",
       "      <td>POINT (-113.76136 53.40827)</td>\n",
       "    </tr>\n",
       "    <tr>\n",
       "      <th>2039</th>\n",
       "      <td>2017-06-06</td>\n",
       "      <td>Male</td>\n",
       "      <td>UnID</td>\n",
       "      <td>Male</td>\n",
       "      <td>10</td>\n",
       "      <td>Residential-North</td>\n",
       "      <td>Core</td>\n",
       "      <td>53.579459</td>\n",
       "      <td>-113.499262</td>\n",
       "      <td>POINT (-113.4992624 53.5794591)</td>\n",
       "    </tr>\n",
       "    <tr>\n",
       "      <th>23221</th>\n",
       "      <td>2017-06-06</td>\n",
       "      <td>Ochlerotatus</td>\n",
       "      <td>euedes</td>\n",
       "      <td>Female</td>\n",
       "      <td>2</td>\n",
       "      <td>Residential-North</td>\n",
       "      <td>Core</td>\n",
       "      <td>53.579459</td>\n",
       "      <td>-113.499262</td>\n",
       "      <td>POINT (-113.4992624 53.5794591)</td>\n",
       "    </tr>\n",
       "    <tr>\n",
       "      <th>...</th>\n",
       "      <td>...</td>\n",
       "      <td>...</td>\n",
       "      <td>...</td>\n",
       "      <td>...</td>\n",
       "      <td>...</td>\n",
       "      <td>...</td>\n",
       "      <td>...</td>\n",
       "      <td>...</td>\n",
       "      <td>...</td>\n",
       "      <td>...</td>\n",
       "    </tr>\n",
       "    <tr>\n",
       "      <th>22496</th>\n",
       "      <td>2018-08-21</td>\n",
       "      <td>Aedes</td>\n",
       "      <td>vexans</td>\n",
       "      <td>Female</td>\n",
       "      <td>64</td>\n",
       "      <td>Outer Community-North</td>\n",
       "      <td>Outer</td>\n",
       "      <td>53.774476</td>\n",
       "      <td>-113.585715</td>\n",
       "      <td>POINT (-113.5857153 53.7744765)</td>\n",
       "    </tr>\n",
       "    <tr>\n",
       "      <th>23062</th>\n",
       "      <td>2018-08-21</td>\n",
       "      <td>Culex</td>\n",
       "      <td>territans</td>\n",
       "      <td>Female</td>\n",
       "      <td>3</td>\n",
       "      <td>River Valley-East-P1</td>\n",
       "      <td>Core</td>\n",
       "      <td>53.581417</td>\n",
       "      <td>-113.374561</td>\n",
       "      <td>POINT (-113.3745611 53.58141700000001)</td>\n",
       "    </tr>\n",
       "    <tr>\n",
       "      <th>553</th>\n",
       "      <td>2018-08-21</td>\n",
       "      <td>Aedes</td>\n",
       "      <td>spp.</td>\n",
       "      <td>Female</td>\n",
       "      <td>1</td>\n",
       "      <td>Outer Community-North</td>\n",
       "      <td>Outer</td>\n",
       "      <td>53.774476</td>\n",
       "      <td>-113.585715</td>\n",
       "      <td>POINT (-113.5857153 53.7744765)</td>\n",
       "    </tr>\n",
       "    <tr>\n",
       "      <th>26496</th>\n",
       "      <td>2018-08-21</td>\n",
       "      <td>Anopheles</td>\n",
       "      <td>earlei</td>\n",
       "      <td>Female</td>\n",
       "      <td>1</td>\n",
       "      <td>River Valley-West</td>\n",
       "      <td>Core</td>\n",
       "      <td>53.504068</td>\n",
       "      <td>-113.570126</td>\n",
       "      <td>POINT (-113.5701263 53.5040684)</td>\n",
       "    </tr>\n",
       "    <tr>\n",
       "      <th>8962</th>\n",
       "      <td>2018-08-21</td>\n",
       "      <td>Ochlerotatus</td>\n",
       "      <td>flavescens</td>\n",
       "      <td>Female</td>\n",
       "      <td>3</td>\n",
       "      <td>Outer Community-North East</td>\n",
       "      <td>Outer</td>\n",
       "      <td>53.774470</td>\n",
       "      <td>-113.372088</td>\n",
       "      <td>POINT (-113.3720881 53.7744701)</td>\n",
       "    </tr>\n",
       "    <tr>\n",
       "      <th>11468</th>\n",
       "      <td>2018-08-21</td>\n",
       "      <td>Male</td>\n",
       "      <td>UnID</td>\n",
       "      <td>Male</td>\n",
       "      <td>156</td>\n",
       "      <td>Outer Community-North</td>\n",
       "      <td>Outer</td>\n",
       "      <td>53.774476</td>\n",
       "      <td>-113.585715</td>\n",
       "      <td>POINT (-113.5857153 53.7744765)</td>\n",
       "    </tr>\n",
       "    <tr>\n",
       "      <th>24205</th>\n",
       "      <td>2018-08-21</td>\n",
       "      <td>Male</td>\n",
       "      <td>UnID</td>\n",
       "      <td>Male</td>\n",
       "      <td>50</td>\n",
       "      <td>River Valley-East-P1</td>\n",
       "      <td>Core</td>\n",
       "      <td>53.581417</td>\n",
       "      <td>-113.374561</td>\n",
       "      <td>POINT (-113.3745611 53.58141700000001)</td>\n",
       "    </tr>\n",
       "    <tr>\n",
       "      <th>11491</th>\n",
       "      <td>2018-08-21</td>\n",
       "      <td>Aedes</td>\n",
       "      <td>vexans</td>\n",
       "      <td>Female</td>\n",
       "      <td>22</td>\n",
       "      <td>Outer Community-South1</td>\n",
       "      <td>Outer</td>\n",
       "      <td>53.333327</td>\n",
       "      <td>-113.531374</td>\n",
       "      <td>POINT (-113.5313737 53.3333269)</td>\n",
       "    </tr>\n",
       "    <tr>\n",
       "      <th>20460</th>\n",
       "      <td>2018-08-21</td>\n",
       "      <td>Culiseta</td>\n",
       "      <td>morsitans</td>\n",
       "      <td>Female</td>\n",
       "      <td>1</td>\n",
       "      <td>Rural-North East</td>\n",
       "      <td>Peripheral</td>\n",
       "      <td>53.657693</td>\n",
       "      <td>-113.332118</td>\n",
       "      <td>POINT (-113.3321178 53.6576928)</td>\n",
       "    </tr>\n",
       "    <tr>\n",
       "      <th>16558</th>\n",
       "      <td>2018-08-21</td>\n",
       "      <td>Male</td>\n",
       "      <td>UnID</td>\n",
       "      <td>Male</td>\n",
       "      <td>59</td>\n",
       "      <td>Rural-North East</td>\n",
       "      <td>Peripheral</td>\n",
       "      <td>53.657693</td>\n",
       "      <td>-113.332118</td>\n",
       "      <td>POINT (-113.3321178 53.6576928)</td>\n",
       "    </tr>\n",
       "    <tr>\n",
       "      <th>23423</th>\n",
       "      <td>2018-08-21</td>\n",
       "      <td>Culiseta</td>\n",
       "      <td>inornata</td>\n",
       "      <td>Female</td>\n",
       "      <td>4</td>\n",
       "      <td>Outer Community-South1</td>\n",
       "      <td>Outer</td>\n",
       "      <td>53.333327</td>\n",
       "      <td>-113.531374</td>\n",
       "      <td>POINT (-113.5313737 53.3333269)</td>\n",
       "    </tr>\n",
       "    <tr>\n",
       "      <th>1187</th>\n",
       "      <td>2018-08-21</td>\n",
       "      <td>Misc</td>\n",
       "      <td>UnID</td>\n",
       "      <td>Female</td>\n",
       "      <td>2</td>\n",
       "      <td>Rural-North West</td>\n",
       "      <td>Peripheral</td>\n",
       "      <td>53.619232</td>\n",
       "      <td>-113.712798</td>\n",
       "      <td>POINT (-113.7127984 53.6192317)</td>\n",
       "    </tr>\n",
       "    <tr>\n",
       "      <th>19490</th>\n",
       "      <td>2018-08-21</td>\n",
       "      <td>Aedes</td>\n",
       "      <td>vexans</td>\n",
       "      <td>Female</td>\n",
       "      <td>6</td>\n",
       "      <td>Rural-North West</td>\n",
       "      <td>Peripheral</td>\n",
       "      <td>53.619232</td>\n",
       "      <td>-113.712798</td>\n",
       "      <td>POINT (-113.7127984 53.6192317)</td>\n",
       "    </tr>\n",
       "    <tr>\n",
       "      <th>15336</th>\n",
       "      <td>2018-08-21</td>\n",
       "      <td>Male</td>\n",
       "      <td>UnID</td>\n",
       "      <td>Male</td>\n",
       "      <td>46</td>\n",
       "      <td>Residential GC-South</td>\n",
       "      <td>Core</td>\n",
       "      <td>53.482057</td>\n",
       "      <td>-113.418346</td>\n",
       "      <td>POINT (-113.4183455 53.4820573)</td>\n",
       "    </tr>\n",
       "    <tr>\n",
       "      <th>17828</th>\n",
       "      <td>2018-08-21</td>\n",
       "      <td>Aedes</td>\n",
       "      <td>spp.</td>\n",
       "      <td>Female</td>\n",
       "      <td>1</td>\n",
       "      <td>Outer Community-South East</td>\n",
       "      <td>Outer</td>\n",
       "      <td>53.337877</td>\n",
       "      <td>-113.342493</td>\n",
       "      <td>POINT (-113.3424925 53.3378771)</td>\n",
       "    </tr>\n",
       "    <tr>\n",
       "      <th>14208</th>\n",
       "      <td>2018-08-21</td>\n",
       "      <td>Aedes</td>\n",
       "      <td>vexans</td>\n",
       "      <td>Female</td>\n",
       "      <td>2</td>\n",
       "      <td>Rural-South East</td>\n",
       "      <td>Peripheral</td>\n",
       "      <td>53.395831</td>\n",
       "      <td>-113.393540</td>\n",
       "      <td>POINT (-113.3935404 53.3958308)</td>\n",
       "    </tr>\n",
       "    <tr>\n",
       "      <th>1460</th>\n",
       "      <td>2018-08-21</td>\n",
       "      <td>Ochlerotatus</td>\n",
       "      <td>fitchii</td>\n",
       "      <td>Female</td>\n",
       "      <td>2</td>\n",
       "      <td>Rural-South East</td>\n",
       "      <td>Peripheral</td>\n",
       "      <td>53.395831</td>\n",
       "      <td>-113.393540</td>\n",
       "      <td>POINT (-113.3935404 53.3958308)</td>\n",
       "    </tr>\n",
       "    <tr>\n",
       "      <th>22940</th>\n",
       "      <td>2018-08-21</td>\n",
       "      <td>Aedes</td>\n",
       "      <td>spp.</td>\n",
       "      <td>Female</td>\n",
       "      <td>1</td>\n",
       "      <td>Outer Community-North West</td>\n",
       "      <td>Outer</td>\n",
       "      <td>53.713765</td>\n",
       "      <td>-113.959036</td>\n",
       "      <td>POINT (-113.9590359 53.7137648)</td>\n",
       "    </tr>\n",
       "    <tr>\n",
       "      <th>5981</th>\n",
       "      <td>2018-08-21</td>\n",
       "      <td>Culiseta</td>\n",
       "      <td>inornata</td>\n",
       "      <td>Female</td>\n",
       "      <td>17</td>\n",
       "      <td>Outer Community-North East</td>\n",
       "      <td>Outer</td>\n",
       "      <td>53.774470</td>\n",
       "      <td>-113.372088</td>\n",
       "      <td>POINT (-113.3720881 53.7744701)</td>\n",
       "    </tr>\n",
       "    <tr>\n",
       "      <th>8756</th>\n",
       "      <td>2018-08-21</td>\n",
       "      <td>Culiseta</td>\n",
       "      <td>inornata</td>\n",
       "      <td>Female</td>\n",
       "      <td>20</td>\n",
       "      <td>Rural-North East</td>\n",
       "      <td>Peripheral</td>\n",
       "      <td>53.657693</td>\n",
       "      <td>-113.332118</td>\n",
       "      <td>POINT (-113.3321178 53.6576928)</td>\n",
       "    </tr>\n",
       "    <tr>\n",
       "      <th>5045</th>\n",
       "      <td>2018-08-21</td>\n",
       "      <td>Anopheles</td>\n",
       "      <td>earlei</td>\n",
       "      <td>Female</td>\n",
       "      <td>1</td>\n",
       "      <td>Outer Community-North</td>\n",
       "      <td>Outer</td>\n",
       "      <td>53.774476</td>\n",
       "      <td>-113.585715</td>\n",
       "      <td>POINT (-113.5857153 53.7744765)</td>\n",
       "    </tr>\n",
       "    <tr>\n",
       "      <th>5992</th>\n",
       "      <td>2018-08-21</td>\n",
       "      <td>Culiseta</td>\n",
       "      <td>inornata</td>\n",
       "      <td>Female</td>\n",
       "      <td>10</td>\n",
       "      <td>Rural-South East</td>\n",
       "      <td>Peripheral</td>\n",
       "      <td>53.395831</td>\n",
       "      <td>-113.393540</td>\n",
       "      <td>POINT (-113.3935404 53.3958308)</td>\n",
       "    </tr>\n",
       "    <tr>\n",
       "      <th>25582</th>\n",
       "      <td>2018-08-21</td>\n",
       "      <td>Aedes</td>\n",
       "      <td>dorsalis</td>\n",
       "      <td>Female</td>\n",
       "      <td>1</td>\n",
       "      <td>Rural-West</td>\n",
       "      <td>Outer</td>\n",
       "      <td>53.559020</td>\n",
       "      <td>-114.001190</td>\n",
       "      <td>POINT (-114.00119 53.559020000000004)</td>\n",
       "    </tr>\n",
       "    <tr>\n",
       "      <th>21901</th>\n",
       "      <td>2018-08-21</td>\n",
       "      <td>Misc</td>\n",
       "      <td>UnID</td>\n",
       "      <td>Female</td>\n",
       "      <td>5</td>\n",
       "      <td>Residential-North</td>\n",
       "      <td>Core</td>\n",
       "      <td>53.579459</td>\n",
       "      <td>-113.499262</td>\n",
       "      <td>POINT (-113.4992624 53.5794591)</td>\n",
       "    </tr>\n",
       "    <tr>\n",
       "      <th>812</th>\n",
       "      <td>2018-08-21</td>\n",
       "      <td>Culiseta</td>\n",
       "      <td>morsitans</td>\n",
       "      <td>Female</td>\n",
       "      <td>4</td>\n",
       "      <td>Rural-South West</td>\n",
       "      <td>Peripheral</td>\n",
       "      <td>53.528587</td>\n",
       "      <td>-113.738070</td>\n",
       "      <td>POINT (-113.7380701 53.5285872)</td>\n",
       "    </tr>\n",
       "    <tr>\n",
       "      <th>11177</th>\n",
       "      <td>2018-08-21</td>\n",
       "      <td>Culex</td>\n",
       "      <td>territans</td>\n",
       "      <td>Female</td>\n",
       "      <td>2</td>\n",
       "      <td>Rural-East</td>\n",
       "      <td>Outer</td>\n",
       "      <td>53.606722</td>\n",
       "      <td>-113.221359</td>\n",
       "      <td>POINT (-113.22135870000001 53.6067218)</td>\n",
       "    </tr>\n",
       "    <tr>\n",
       "      <th>8751</th>\n",
       "      <td>2018-08-21</td>\n",
       "      <td>Culex</td>\n",
       "      <td>tarsalis</td>\n",
       "      <td>Female</td>\n",
       "      <td>1</td>\n",
       "      <td>Rural-South East</td>\n",
       "      <td>Peripheral</td>\n",
       "      <td>53.395831</td>\n",
       "      <td>-113.393540</td>\n",
       "      <td>POINT (-113.3935404 53.3958308)</td>\n",
       "    </tr>\n",
       "    <tr>\n",
       "      <th>24222</th>\n",
       "      <td>2018-08-21</td>\n",
       "      <td>Culiseta</td>\n",
       "      <td>inornata</td>\n",
       "      <td>Female</td>\n",
       "      <td>4</td>\n",
       "      <td>River Valley-East-P1</td>\n",
       "      <td>Core</td>\n",
       "      <td>53.581417</td>\n",
       "      <td>-113.374561</td>\n",
       "      <td>POINT (-113.3745611 53.58141700000001)</td>\n",
       "    </tr>\n",
       "    <tr>\n",
       "      <th>4629</th>\n",
       "      <td>2018-08-21</td>\n",
       "      <td>Culiseta</td>\n",
       "      <td>inornata</td>\n",
       "      <td>Female</td>\n",
       "      <td>17</td>\n",
       "      <td>Rural-South West</td>\n",
       "      <td>Peripheral</td>\n",
       "      <td>53.528587</td>\n",
       "      <td>-113.738070</td>\n",
       "      <td>POINT (-113.7380701 53.5285872)</td>\n",
       "    </tr>\n",
       "    <tr>\n",
       "      <th>5399</th>\n",
       "      <td>2018-08-21</td>\n",
       "      <td>Culiseta</td>\n",
       "      <td>alaskaensis</td>\n",
       "      <td>Female</td>\n",
       "      <td>1</td>\n",
       "      <td>Outer Community-North West</td>\n",
       "      <td>Outer</td>\n",
       "      <td>53.713765</td>\n",
       "      <td>-113.959036</td>\n",
       "      <td>POINT (-113.9590359 53.7137648)</td>\n",
       "    </tr>\n",
       "  </tbody>\n",
       "</table>\n",
       "<p>3406 rows × 10 columns</p>\n",
       "</div>"
      ],
      "text/plain": [
       "       Trap Date         Genus Specific Epithet  Gender  Count  \\\n",
       "22100 2017-06-06         Aedes         dorsalis  Female      1   \n",
       "20784 2017-06-06  Ochlerotatus       flavescens  Female      1   \n",
       "2983  2017-06-06  Ochlerotatus       excrucians  Female      6   \n",
       "2978  2017-06-06          Male             UnID    Male     58   \n",
       "22847 2017-06-06  Ochlerotatus       Black legs  Female      3   \n",
       "4481  2017-06-06         Aedes         dorsalis  Female      3   \n",
       "19508 2017-06-06      Culiseta         inornata  Female      1   \n",
       "27106 2017-06-06  Ochlerotatus          fitchii  Female      7   \n",
       "24623 2017-06-06  Ochlerotatus       flavescens  Female     10   \n",
       "22921 2017-06-06  Ochlerotatus             spp.  Female      2   \n",
       "13478 2017-06-06          Male             UnID    Male     37   \n",
       "2898  2017-06-06  Ochlerotatus       flavescens  Female      1   \n",
       "3007  2017-06-06  Ochlerotatus             spp.  Female     11   \n",
       "7054  2017-06-06          Male             UnID    Male     36   \n",
       "14011 2017-06-06          Male             UnID    Male      5   \n",
       "4576  2017-06-06  Ochlerotatus       campestris  Female      2   \n",
       "12902 2017-06-06          Male             UnID    Male     72   \n",
       "6978  2017-06-06  Ochlerotatus         riparius  Female      2   \n",
       "8664  2017-06-06  Ochlerotatus       excrucians  Female      1   \n",
       "13830 2017-06-06      Culiseta      alaskaensis  Female      1   \n",
       "13229 2017-06-06         Aedes           vexans  Female     10   \n",
       "18663 2017-06-06  Ochlerotatus       campestris  Female      2   \n",
       "566   2017-06-06  Ochlerotatus        spencerii  Female      1   \n",
       "550   2017-06-06         Aedes           vexans  Female      2   \n",
       "10779 2017-06-06  Ochlerotatus       Black legs  Female     22   \n",
       "24544 2017-06-06      Culiseta         inornata  Female      2   \n",
       "12808 2017-06-06  Ochlerotatus          fitchii  Female     11   \n",
       "5555  2017-06-06  Ochlerotatus             spp.  Female      3   \n",
       "2039  2017-06-06          Male             UnID    Male     10   \n",
       "23221 2017-06-06  Ochlerotatus           euedes  Female      2   \n",
       "...          ...           ...              ...     ...    ...   \n",
       "22496 2018-08-21         Aedes           vexans  Female     64   \n",
       "23062 2018-08-21         Culex        territans  Female      3   \n",
       "553   2018-08-21         Aedes             spp.  Female      1   \n",
       "26496 2018-08-21     Anopheles           earlei  Female      1   \n",
       "8962  2018-08-21  Ochlerotatus       flavescens  Female      3   \n",
       "11468 2018-08-21          Male             UnID    Male    156   \n",
       "24205 2018-08-21          Male             UnID    Male     50   \n",
       "11491 2018-08-21         Aedes           vexans  Female     22   \n",
       "20460 2018-08-21      Culiseta        morsitans  Female      1   \n",
       "16558 2018-08-21          Male             UnID    Male     59   \n",
       "23423 2018-08-21      Culiseta         inornata  Female      4   \n",
       "1187  2018-08-21          Misc             UnID  Female      2   \n",
       "19490 2018-08-21         Aedes           vexans  Female      6   \n",
       "15336 2018-08-21          Male             UnID    Male     46   \n",
       "17828 2018-08-21         Aedes             spp.  Female      1   \n",
       "14208 2018-08-21         Aedes           vexans  Female      2   \n",
       "1460  2018-08-21  Ochlerotatus          fitchii  Female      2   \n",
       "22940 2018-08-21         Aedes             spp.  Female      1   \n",
       "5981  2018-08-21      Culiseta         inornata  Female     17   \n",
       "8756  2018-08-21      Culiseta         inornata  Female     20   \n",
       "5045  2018-08-21     Anopheles           earlei  Female      1   \n",
       "5992  2018-08-21      Culiseta         inornata  Female     10   \n",
       "25582 2018-08-21         Aedes         dorsalis  Female      1   \n",
       "21901 2018-08-21          Misc             UnID  Female      5   \n",
       "812   2018-08-21      Culiseta        morsitans  Female      4   \n",
       "11177 2018-08-21         Culex        territans  Female      2   \n",
       "8751  2018-08-21         Culex         tarsalis  Female      1   \n",
       "24222 2018-08-21      Culiseta         inornata  Female      4   \n",
       "4629  2018-08-21      Culiseta         inornata  Female     17   \n",
       "5399  2018-08-21      Culiseta      alaskaensis  Female      1   \n",
       "\n",
       "                      Trap Region Comparison Group   Latitude   Longitude  \\\n",
       "22100            Rural-South West       Peripheral  53.528587 -113.738070   \n",
       "20784           Residential-South            Other  53.457490 -113.425390   \n",
       "2983             Rural-South West       Peripheral  53.528587 -113.738070   \n",
       "2978       Outer Community-South1            Outer  53.333327 -113.531374   \n",
       "22847  Outer Community-North West            Outer  53.713765 -113.959036   \n",
       "4481                   Rural-East            Outer  53.606722 -113.221359   \n",
       "19508      Outer Community-South1            Outer  53.333327 -113.531374   \n",
       "27106  Outer Community-North East            Outer  53.774470 -113.372088   \n",
       "24623  Outer Community-North East            Outer  53.774470 -113.372088   \n",
       "22921  Outer Community-North East            Outer  53.774470 -113.372088   \n",
       "13478            Rural-South East       Peripheral  53.395831 -113.393540   \n",
       "2898         River Valley-East-P1             Core  53.581417 -113.374561   \n",
       "3007         River Valley-East-P1             Core  53.581417 -113.374561   \n",
       "7054        Outer Community-North            Outer  53.774476 -113.585715   \n",
       "14011           Residential-South            Other  53.457490 -113.425390   \n",
       "4576             Rural-South East       Peripheral  53.395831 -113.393540   \n",
       "12902        River Valley-East-P1             Core  53.581417 -113.374561   \n",
       "6978         Residential GC-South             Core  53.482057 -113.418346   \n",
       "8664                   Rural-West            Outer  53.562973 -113.787353   \n",
       "13830      Outer Community-South1            Outer  53.333327 -113.531374   \n",
       "13229  Outer Community-South West            Outer  53.408270 -113.761360   \n",
       "18663      Outer Community-South1            Outer  53.333327 -113.531374   \n",
       "566        Outer Community-South1            Outer  53.333327 -113.531374   \n",
       "550                    Rural-East            Outer  53.606722 -113.221359   \n",
       "10779  Outer Community-South West            Outer  53.408270 -113.761360   \n",
       "24544        Residential GC-South             Core  53.482057 -113.418346   \n",
       "12808      Outer Community-South1            Outer  53.333327 -113.531374   \n",
       "5555   Outer Community-South West            Outer  53.408270 -113.761360   \n",
       "2039            Residential-North             Core  53.579459 -113.499262   \n",
       "23221           Residential-North             Core  53.579459 -113.499262   \n",
       "...                           ...              ...        ...         ...   \n",
       "22496       Outer Community-North            Outer  53.774476 -113.585715   \n",
       "23062        River Valley-East-P1             Core  53.581417 -113.374561   \n",
       "553         Outer Community-North            Outer  53.774476 -113.585715   \n",
       "26496           River Valley-West             Core  53.504068 -113.570126   \n",
       "8962   Outer Community-North East            Outer  53.774470 -113.372088   \n",
       "11468       Outer Community-North            Outer  53.774476 -113.585715   \n",
       "24205        River Valley-East-P1             Core  53.581417 -113.374561   \n",
       "11491      Outer Community-South1            Outer  53.333327 -113.531374   \n",
       "20460            Rural-North East       Peripheral  53.657693 -113.332118   \n",
       "16558            Rural-North East       Peripheral  53.657693 -113.332118   \n",
       "23423      Outer Community-South1            Outer  53.333327 -113.531374   \n",
       "1187             Rural-North West       Peripheral  53.619232 -113.712798   \n",
       "19490            Rural-North West       Peripheral  53.619232 -113.712798   \n",
       "15336        Residential GC-South             Core  53.482057 -113.418346   \n",
       "17828  Outer Community-South East            Outer  53.337877 -113.342493   \n",
       "14208            Rural-South East       Peripheral  53.395831 -113.393540   \n",
       "1460             Rural-South East       Peripheral  53.395831 -113.393540   \n",
       "22940  Outer Community-North West            Outer  53.713765 -113.959036   \n",
       "5981   Outer Community-North East            Outer  53.774470 -113.372088   \n",
       "8756             Rural-North East       Peripheral  53.657693 -113.332118   \n",
       "5045        Outer Community-North            Outer  53.774476 -113.585715   \n",
       "5992             Rural-South East       Peripheral  53.395831 -113.393540   \n",
       "25582                  Rural-West            Outer  53.559020 -114.001190   \n",
       "21901           Residential-North             Core  53.579459 -113.499262   \n",
       "812              Rural-South West       Peripheral  53.528587 -113.738070   \n",
       "11177                  Rural-East            Outer  53.606722 -113.221359   \n",
       "8751             Rural-South East       Peripheral  53.395831 -113.393540   \n",
       "24222        River Valley-East-P1             Core  53.581417 -113.374561   \n",
       "4629             Rural-South West       Peripheral  53.528587 -113.738070   \n",
       "5399   Outer Community-North West            Outer  53.713765 -113.959036   \n",
       "\n",
       "                                     Location  \n",
       "22100         POINT (-113.7380701 53.5285872)  \n",
       "20784             POINT (-113.42539 53.45749)  \n",
       "2983          POINT (-113.7380701 53.5285872)  \n",
       "2978          POINT (-113.5313737 53.3333269)  \n",
       "22847         POINT (-113.9590359 53.7137648)  \n",
       "4481   POINT (-113.22135870000001 53.6067218)  \n",
       "19508         POINT (-113.5313737 53.3333269)  \n",
       "27106         POINT (-113.3720881 53.7744701)  \n",
       "24623         POINT (-113.3720881 53.7744701)  \n",
       "22921         POINT (-113.3720881 53.7744701)  \n",
       "13478         POINT (-113.3935404 53.3958308)  \n",
       "2898   POINT (-113.3745611 53.58141700000001)  \n",
       "3007   POINT (-113.3745611 53.58141700000001)  \n",
       "7054          POINT (-113.5857153 53.7744765)  \n",
       "14011             POINT (-113.42539 53.45749)  \n",
       "4576          POINT (-113.3935404 53.3958308)  \n",
       "12902  POINT (-113.3745611 53.58141700000001)  \n",
       "6978          POINT (-113.4183455 53.4820573)  \n",
       "8664           POINT (-113.787353 53.5629733)  \n",
       "13830         POINT (-113.5313737 53.3333269)  \n",
       "13229             POINT (-113.76136 53.40827)  \n",
       "18663         POINT (-113.5313737 53.3333269)  \n",
       "566           POINT (-113.5313737 53.3333269)  \n",
       "550    POINT (-113.22135870000001 53.6067218)  \n",
       "10779             POINT (-113.76136 53.40827)  \n",
       "24544         POINT (-113.4183455 53.4820573)  \n",
       "12808         POINT (-113.5313737 53.3333269)  \n",
       "5555              POINT (-113.76136 53.40827)  \n",
       "2039          POINT (-113.4992624 53.5794591)  \n",
       "23221         POINT (-113.4992624 53.5794591)  \n",
       "...                                       ...  \n",
       "22496         POINT (-113.5857153 53.7744765)  \n",
       "23062  POINT (-113.3745611 53.58141700000001)  \n",
       "553           POINT (-113.5857153 53.7744765)  \n",
       "26496         POINT (-113.5701263 53.5040684)  \n",
       "8962          POINT (-113.3720881 53.7744701)  \n",
       "11468         POINT (-113.5857153 53.7744765)  \n",
       "24205  POINT (-113.3745611 53.58141700000001)  \n",
       "11491         POINT (-113.5313737 53.3333269)  \n",
       "20460         POINT (-113.3321178 53.6576928)  \n",
       "16558         POINT (-113.3321178 53.6576928)  \n",
       "23423         POINT (-113.5313737 53.3333269)  \n",
       "1187          POINT (-113.7127984 53.6192317)  \n",
       "19490         POINT (-113.7127984 53.6192317)  \n",
       "15336         POINT (-113.4183455 53.4820573)  \n",
       "17828         POINT (-113.3424925 53.3378771)  \n",
       "14208         POINT (-113.3935404 53.3958308)  \n",
       "1460          POINT (-113.3935404 53.3958308)  \n",
       "22940         POINT (-113.9590359 53.7137648)  \n",
       "5981          POINT (-113.3720881 53.7744701)  \n",
       "8756          POINT (-113.3321178 53.6576928)  \n",
       "5045          POINT (-113.5857153 53.7744765)  \n",
       "5992          POINT (-113.3935404 53.3958308)  \n",
       "25582   POINT (-114.00119 53.559020000000004)  \n",
       "21901         POINT (-113.4992624 53.5794591)  \n",
       "812           POINT (-113.7380701 53.5285872)  \n",
       "11177  POINT (-113.22135870000001 53.6067218)  \n",
       "8751          POINT (-113.3935404 53.3958308)  \n",
       "24222  POINT (-113.3745611 53.58141700000001)  \n",
       "4629          POINT (-113.7380701 53.5285872)  \n",
       "5399          POINT (-113.9590359 53.7137648)  \n",
       "\n",
       "[3406 rows x 10 columns]"
      ]
     },
     "execution_count": 980,
     "metadata": {},
     "output_type": "execute_result"
    }
   ],
   "source": [
    "mos_data['Trap Date'] = pd.to_datetime(mos_data['Trap Date'])\n",
    "start_remove = min(weather_data['date_time_local'])\n",
    "end_remove = max(weather_data['date_time_local'])\n",
    "mos_data_1 = mos_data.loc[(mos_data[\"Trap Date\"] > start_remove) & (mos_data[\"Trap Date\"] < end_remove) ]\n",
    "mos_date_start = str(mos_data_1['Trap Date'].dt.date.min())\n",
    "mos_date_end = str(mos_data_1['Trap Date'].dt.date.max())\n",
    "mos_date_range = mos_date_start +' to ' + mos_date_end\n",
    "print(\"Range of dates in mosquito dataset is {}\".format(mos_date_range))\n",
    "\n",
    "\n",
    "mos_range = (mos_data['Trap Date'] > mos_date_start) & (mos_data['Trap Date'] < mos_date_end)\n",
    "mos_data = mos_data.loc[mos_range]\n",
    "print(mos_data) #\n",
    "mos_data = mos_data.sort_values(by='Trap Date')\n",
    "mos_data #final mos_data"
   ]
  },
  {
   "cell_type": "markdown",
   "metadata": {},
   "source": [
    "### Get total count for each day"
   ]
  },
  {
   "cell_type": "code",
   "execution_count": 981,
   "metadata": {
    "scrolled": false
   },
   "outputs": [
    {
     "data": {
      "text/html": [
       "<div>\n",
       "<style scoped>\n",
       "    .dataframe tbody tr th:only-of-type {\n",
       "        vertical-align: middle;\n",
       "    }\n",
       "\n",
       "    .dataframe tbody tr th {\n",
       "        vertical-align: top;\n",
       "    }\n",
       "\n",
       "    .dataframe thead th {\n",
       "        text-align: right;\n",
       "    }\n",
       "</style>\n",
       "<table border=\"1\" class=\"dataframe\">\n",
       "  <thead>\n",
       "    <tr style=\"text-align: right;\">\n",
       "      <th></th>\n",
       "      <th>Count</th>\n",
       "    </tr>\n",
       "    <tr>\n",
       "      <th>Trap Date</th>\n",
       "      <th></th>\n",
       "    </tr>\n",
       "  </thead>\n",
       "  <tbody>\n",
       "    <tr>\n",
       "      <th>2017-06-06</th>\n",
       "      <td>1656</td>\n",
       "    </tr>\n",
       "    <tr>\n",
       "      <th>2017-06-13</th>\n",
       "      <td>2969</td>\n",
       "    </tr>\n",
       "    <tr>\n",
       "      <th>2017-06-20</th>\n",
       "      <td>1872</td>\n",
       "    </tr>\n",
       "    <tr>\n",
       "      <th>2017-06-27</th>\n",
       "      <td>769</td>\n",
       "    </tr>\n",
       "    <tr>\n",
       "      <th>2017-07-04</th>\n",
       "      <td>1779</td>\n",
       "    </tr>\n",
       "  </tbody>\n",
       "</table>\n",
       "</div>"
      ],
      "text/plain": [
       "            Count\n",
       "Trap Date        \n",
       "2017-06-06   1656\n",
       "2017-06-13   2969\n",
       "2017-06-20   1872\n",
       "2017-06-27    769\n",
       "2017-07-04   1779"
      ]
     },
     "execution_count": 981,
     "metadata": {},
     "output_type": "execute_result"
    }
   ],
   "source": [
    "mos_count = mos_data.groupby([\"Trap Date\"]).agg({\n",
    "    \"Count\":\"sum\",\n",
    "})\n",
    "mos_count[mos_count['Count'] == mos_count['Count'].max()]\n",
    "\n",
    "mos_count.head() ####number of mos"
   ]
  },
  {
   "cell_type": "code",
   "execution_count": 982,
   "metadata": {},
   "outputs": [
    {
     "data": {
      "text/plain": [
       "32"
      ]
     },
     "execution_count": 982,
     "metadata": {},
     "output_type": "execute_result"
    }
   ],
   "source": [
    "len(mos_count.index)"
   ]
  },
  {
   "cell_type": "markdown",
   "metadata": {},
   "source": [
    "It can be seen that IDd and Include columns contains many NaN values so they will be dropped"
   ]
  },
  {
   "cell_type": "code",
   "execution_count": 983,
   "metadata": {
    "scrolled": true
   },
   "outputs": [
    {
     "data": {
      "text/plain": [
       "Trap Date           0\n",
       "Genus               0\n",
       "Specific Epithet    0\n",
       "Gender              0\n",
       "Count               0\n",
       "Trap Region         0\n",
       "Comparison Group    0\n",
       "Latitude            0\n",
       "Longitude           0\n",
       "Location            0\n",
       "dtype: int64"
      ]
     },
     "execution_count": 983,
     "metadata": {},
     "output_type": "execute_result"
    }
   ],
   "source": [
    "mos_data.isnull().sum()"
   ]
  },
  {
   "cell_type": "code",
   "execution_count": 984,
   "metadata": {},
   "outputs": [
    {
     "ename": "KeyError",
     "evalue": "\"['IDd' 'Include'] not found in axis\"",
     "output_type": "error",
     "traceback": [
      "\u001b[0;31m---------------------------------------------------------------------------\u001b[0m",
      "\u001b[0;31mKeyError\u001b[0m                                  Traceback (most recent call last)",
      "\u001b[0;32m<ipython-input-984-0ea4b9077745>\u001b[0m in \u001b[0;36m<module>\u001b[0;34m\u001b[0m\n\u001b[0;32m----> 1\u001b[0;31m \u001b[0mmos_data\u001b[0m\u001b[0;34m.\u001b[0m\u001b[0mdrop\u001b[0m\u001b[0;34m(\u001b[0m\u001b[0mcolumns\u001b[0m\u001b[0;34m=\u001b[0m\u001b[0;34m[\u001b[0m\u001b[0;34m'IDd'\u001b[0m\u001b[0;34m,\u001b[0m \u001b[0;34m'Include'\u001b[0m\u001b[0;34m]\u001b[0m\u001b[0;34m,\u001b[0m \u001b[0minplace\u001b[0m\u001b[0;34m=\u001b[0m\u001b[0;32mTrue\u001b[0m\u001b[0;34m)\u001b[0m\u001b[0;34m\u001b[0m\u001b[0;34m\u001b[0m\u001b[0m\n\u001b[0m",
      "\u001b[0;32m~/anaconda3/lib/python3.7/site-packages/pandas/core/frame.py\u001b[0m in \u001b[0;36mdrop\u001b[0;34m(self, labels, axis, index, columns, level, inplace, errors)\u001b[0m\n\u001b[1;32m   3938\u001b[0m                                            \u001b[0mindex\u001b[0m\u001b[0;34m=\u001b[0m\u001b[0mindex\u001b[0m\u001b[0;34m,\u001b[0m \u001b[0mcolumns\u001b[0m\u001b[0;34m=\u001b[0m\u001b[0mcolumns\u001b[0m\u001b[0;34m,\u001b[0m\u001b[0;34m\u001b[0m\u001b[0;34m\u001b[0m\u001b[0m\n\u001b[1;32m   3939\u001b[0m                                            \u001b[0mlevel\u001b[0m\u001b[0;34m=\u001b[0m\u001b[0mlevel\u001b[0m\u001b[0;34m,\u001b[0m \u001b[0minplace\u001b[0m\u001b[0;34m=\u001b[0m\u001b[0minplace\u001b[0m\u001b[0;34m,\u001b[0m\u001b[0;34m\u001b[0m\u001b[0;34m\u001b[0m\u001b[0m\n\u001b[0;32m-> 3940\u001b[0;31m                                            errors=errors)\n\u001b[0m\u001b[1;32m   3941\u001b[0m \u001b[0;34m\u001b[0m\u001b[0m\n\u001b[1;32m   3942\u001b[0m     @rewrite_axis_style_signature('mapper', [('copy', True),\n",
      "\u001b[0;32m~/anaconda3/lib/python3.7/site-packages/pandas/core/generic.py\u001b[0m in \u001b[0;36mdrop\u001b[0;34m(self, labels, axis, index, columns, level, inplace, errors)\u001b[0m\n\u001b[1;32m   3778\u001b[0m         \u001b[0;32mfor\u001b[0m \u001b[0maxis\u001b[0m\u001b[0;34m,\u001b[0m \u001b[0mlabels\u001b[0m \u001b[0;32min\u001b[0m \u001b[0maxes\u001b[0m\u001b[0;34m.\u001b[0m\u001b[0mitems\u001b[0m\u001b[0;34m(\u001b[0m\u001b[0;34m)\u001b[0m\u001b[0;34m:\u001b[0m\u001b[0;34m\u001b[0m\u001b[0;34m\u001b[0m\u001b[0m\n\u001b[1;32m   3779\u001b[0m             \u001b[0;32mif\u001b[0m \u001b[0mlabels\u001b[0m \u001b[0;32mis\u001b[0m \u001b[0;32mnot\u001b[0m \u001b[0;32mNone\u001b[0m\u001b[0;34m:\u001b[0m\u001b[0;34m\u001b[0m\u001b[0;34m\u001b[0m\u001b[0m\n\u001b[0;32m-> 3780\u001b[0;31m                 \u001b[0mobj\u001b[0m \u001b[0;34m=\u001b[0m \u001b[0mobj\u001b[0m\u001b[0;34m.\u001b[0m\u001b[0m_drop_axis\u001b[0m\u001b[0;34m(\u001b[0m\u001b[0mlabels\u001b[0m\u001b[0;34m,\u001b[0m \u001b[0maxis\u001b[0m\u001b[0;34m,\u001b[0m \u001b[0mlevel\u001b[0m\u001b[0;34m=\u001b[0m\u001b[0mlevel\u001b[0m\u001b[0;34m,\u001b[0m \u001b[0merrors\u001b[0m\u001b[0;34m=\u001b[0m\u001b[0merrors\u001b[0m\u001b[0;34m)\u001b[0m\u001b[0;34m\u001b[0m\u001b[0;34m\u001b[0m\u001b[0m\n\u001b[0m\u001b[1;32m   3781\u001b[0m \u001b[0;34m\u001b[0m\u001b[0m\n\u001b[1;32m   3782\u001b[0m         \u001b[0;32mif\u001b[0m \u001b[0minplace\u001b[0m\u001b[0;34m:\u001b[0m\u001b[0;34m\u001b[0m\u001b[0;34m\u001b[0m\u001b[0m\n",
      "\u001b[0;32m~/anaconda3/lib/python3.7/site-packages/pandas/core/generic.py\u001b[0m in \u001b[0;36m_drop_axis\u001b[0;34m(self, labels, axis, level, errors)\u001b[0m\n\u001b[1;32m   3810\u001b[0m                 \u001b[0mnew_axis\u001b[0m \u001b[0;34m=\u001b[0m \u001b[0maxis\u001b[0m\u001b[0;34m.\u001b[0m\u001b[0mdrop\u001b[0m\u001b[0;34m(\u001b[0m\u001b[0mlabels\u001b[0m\u001b[0;34m,\u001b[0m \u001b[0mlevel\u001b[0m\u001b[0;34m=\u001b[0m\u001b[0mlevel\u001b[0m\u001b[0;34m,\u001b[0m \u001b[0merrors\u001b[0m\u001b[0;34m=\u001b[0m\u001b[0merrors\u001b[0m\u001b[0;34m)\u001b[0m\u001b[0;34m\u001b[0m\u001b[0;34m\u001b[0m\u001b[0m\n\u001b[1;32m   3811\u001b[0m             \u001b[0;32melse\u001b[0m\u001b[0;34m:\u001b[0m\u001b[0;34m\u001b[0m\u001b[0;34m\u001b[0m\u001b[0m\n\u001b[0;32m-> 3812\u001b[0;31m                 \u001b[0mnew_axis\u001b[0m \u001b[0;34m=\u001b[0m \u001b[0maxis\u001b[0m\u001b[0;34m.\u001b[0m\u001b[0mdrop\u001b[0m\u001b[0;34m(\u001b[0m\u001b[0mlabels\u001b[0m\u001b[0;34m,\u001b[0m \u001b[0merrors\u001b[0m\u001b[0;34m=\u001b[0m\u001b[0merrors\u001b[0m\u001b[0;34m)\u001b[0m\u001b[0;34m\u001b[0m\u001b[0;34m\u001b[0m\u001b[0m\n\u001b[0m\u001b[1;32m   3813\u001b[0m             \u001b[0mresult\u001b[0m \u001b[0;34m=\u001b[0m \u001b[0mself\u001b[0m\u001b[0;34m.\u001b[0m\u001b[0mreindex\u001b[0m\u001b[0;34m(\u001b[0m\u001b[0;34m**\u001b[0m\u001b[0;34m{\u001b[0m\u001b[0maxis_name\u001b[0m\u001b[0;34m:\u001b[0m \u001b[0mnew_axis\u001b[0m\u001b[0;34m}\u001b[0m\u001b[0;34m)\u001b[0m\u001b[0;34m\u001b[0m\u001b[0;34m\u001b[0m\u001b[0m\n\u001b[1;32m   3814\u001b[0m \u001b[0;34m\u001b[0m\u001b[0m\n",
      "\u001b[0;32m~/anaconda3/lib/python3.7/site-packages/pandas/core/indexes/base.py\u001b[0m in \u001b[0;36mdrop\u001b[0;34m(self, labels, errors)\u001b[0m\n\u001b[1;32m   4963\u001b[0m             \u001b[0;32mif\u001b[0m \u001b[0merrors\u001b[0m \u001b[0;34m!=\u001b[0m \u001b[0;34m'ignore'\u001b[0m\u001b[0;34m:\u001b[0m\u001b[0;34m\u001b[0m\u001b[0;34m\u001b[0m\u001b[0m\n\u001b[1;32m   4964\u001b[0m                 raise KeyError(\n\u001b[0;32m-> 4965\u001b[0;31m                     '{} not found in axis'.format(labels[mask]))\n\u001b[0m\u001b[1;32m   4966\u001b[0m             \u001b[0mindexer\u001b[0m \u001b[0;34m=\u001b[0m \u001b[0mindexer\u001b[0m\u001b[0;34m[\u001b[0m\u001b[0;34m~\u001b[0m\u001b[0mmask\u001b[0m\u001b[0;34m]\u001b[0m\u001b[0;34m\u001b[0m\u001b[0;34m\u001b[0m\u001b[0m\n\u001b[1;32m   4967\u001b[0m         \u001b[0;32mreturn\u001b[0m \u001b[0mself\u001b[0m\u001b[0;34m.\u001b[0m\u001b[0mdelete\u001b[0m\u001b[0;34m(\u001b[0m\u001b[0mindexer\u001b[0m\u001b[0;34m)\u001b[0m\u001b[0;34m\u001b[0m\u001b[0;34m\u001b[0m\u001b[0m\n",
      "\u001b[0;31mKeyError\u001b[0m: \"['IDd' 'Include'] not found in axis\""
     ]
    }
   ],
   "source": [
    "mos_data.drop(columns=['IDd', 'Include'], inplace=True)"
   ]
  },
  {
   "cell_type": "code",
   "execution_count": null,
   "metadata": {},
   "outputs": [],
   "source": [
    "mos_data.isnull().sum()"
   ]
  },
  {
   "cell_type": "markdown",
   "metadata": {},
   "source": [
    "### Select date for weather features"
   ]
  },
  {
   "cell_type": "code",
   "execution_count": null,
   "metadata": {},
   "outputs": [],
   "source": [
    "start_date1 = '2017-05-10'#one week before 2017-05-16\n",
    "end_date1 = '2017-09-26'\n",
    "start_date2 = '2018-05-09'#one week before 2017-05-15\n",
    "end_date2 = '2018-09-18'"
   ]
  },
  {
   "cell_type": "markdown",
   "metadata": {},
   "source": [
    "Drop MST columns\n",
    "Drop columns with too many NaNs\n",
    "Drop unixtime columns as they are redundent\n",
    "Drop wind_dir column as wind_dir_10s gives us the angle of the wind so its redundent"
   ]
  },
  {
   "cell_type": "code",
   "execution_count": null,
   "metadata": {
    "scrolled": true
   },
   "outputs": [],
   "source": [
    "##############Drop MST and columns with too many NaNs and unixtime##################\n",
    "weather_data.drop(columns=[\"visibility\", \"cloud_cover_4\", \"cloud_cover_8\", \"cloud_cover_10\", \"solar_radiation\", \"wind_gust\", \"windchill\", \"humidex\", 'unixtime', 'wind_dir'], inplace=True)\n",
    "weather_data = weather_data.loc[weather_data['date_time_local'].str.contains('MDT')]\n",
    "\n",
    "weather_data.head()"
   ]
  },
  {
   "cell_type": "markdown",
   "metadata": {},
   "source": [
    "### Date selection"
   ]
  },
  {
   "cell_type": "code",
   "execution_count": null,
   "metadata": {
    "scrolled": true
   },
   "outputs": [],
   "source": [
    "t_list = []\n",
    "for i in weather_data['date_time_local']:\n",
    "    i = str(i)\n",
    "    t1 = time.strptime(i,\"%Y-%m-%d %H:%M:%S MDT\")\n",
    "    t2 = time.strftime(\"%Y-%m-%d\", t1)\n",
    "    t_list.append(t2)\n",
    "\n",
    "weather_data['date_time_local'] = t_list\n",
    "#print(weather_data)\n",
    "\n",
    "weather_data['date_time_local'] = pd.to_datetime(weather_data['date_time_local'])\n",
    "weather_range1 = (weather_data['date_time_local'] >= start_date1) & (weather_data['date_time_local'] <= end_date1)\n",
    "weather_data1 = weather_data.loc[weather_range1]\n",
    "weather_data1 = weather_data1.sort_values(by='date_time_local')\n",
    "#print(weather_data1) \n",
    "\n",
    "weather_range2 = (weather_data['date_time_local'] >= start_date2) & (weather_data['date_time_local'] <= end_date2)\n",
    "weather_data2 = weather_data.loc[weather_range2]\n",
    "weather_data2 = weather_data2.sort_values(by='date_time_local')\n",
    "#print(weather_data2) \n",
    "weather_data = weather_data1.append(weather_data2)\n",
    "weather_data.head()"
   ]
  },
  {
   "cell_type": "markdown",
   "metadata": {},
   "source": [
    "#### Fill NaN for weather_data"
   ]
  },
  {
   "cell_type": "code",
   "execution_count": null,
   "metadata": {
    "scrolled": true
   },
   "outputs": [],
   "source": [
    "weather_data.isnull().sum()"
   ]
  },
  {
   "cell_type": "code",
   "execution_count": null,
   "metadata": {
    "scrolled": true
   },
   "outputs": [],
   "source": [
    "len(weather_data.index)"
   ]
  },
  {
   "cell_type": "markdown",
   "metadata": {},
   "source": [
    "#### To fill the NaNs we will group the weather data by day and there is 3 ways to do that for each column:\n",
    "- By mean\n",
    "- By mode\n",
    "- By median\n",
    "\n",
    "for each day, to do so we will need to visualize the distribution for each column and ensure that it stays similar after grouping to not add any bias to the data."
   ]
  },
  {
   "cell_type": "markdown",
   "metadata": {},
   "source": [
    "### Pressure station"
   ]
  },
  {
   "cell_type": "code",
   "execution_count": null,
   "metadata": {
    "scrolled": true
   },
   "outputs": [],
   "source": [
    "weather_data['pressure_station'].describe()"
   ]
  },
  {
   "cell_type": "markdown",
   "metadata": {},
   "source": [
    "#### mean"
   ]
  },
  {
   "cell_type": "code",
   "execution_count": null,
   "metadata": {
    "scrolled": true
   },
   "outputs": [],
   "source": [
    "pressure_station_mean = weather_data.groupby('date_time_local').agg({\n",
    "  'pressure_station': lambda x: round(x.mean(), 2)  \n",
    "})\n",
    "\n",
    "pressure_station_mean.describe()"
   ]
  },
  {
   "cell_type": "code",
   "execution_count": null,
   "metadata": {},
   "outputs": [],
   "source": [
    "key_to_test = 'pressure_station'\n",
    "\n",
    "plt.figure(figsize=(15, 8))\n",
    "ax = weather_data[key_to_test].hist(bins=15, density=True, stacked=True, color='teal', alpha=0.6)\n",
    "weather_data[key_to_test].plot(kind='density', color='teal')\n",
    "\n",
    "\n",
    "ax = pressure_station_mean[key_to_test].hist(bins=15, density=True, stacked=True, color='orange', alpha=0.6)\n",
    "pressure_station_mean[key_to_test].plot(kind='density', color='orange')\n",
    "\n",
    "\n",
    "ax.legend(['Original data', 'Mean data'])\n",
    "ax.set(xlabel=key_to_test)\n",
    "\n",
    "plt.show()"
   ]
  },
  {
   "cell_type": "code",
   "execution_count": null,
   "metadata": {},
   "outputs": [],
   "source": [
    "ks_2samp(weather_data['pressure_station'], pressure_station_mean['pressure_station'])"
   ]
  },
  {
   "cell_type": "markdown",
   "metadata": {},
   "source": [
    "#### mode"
   ]
  },
  {
   "cell_type": "code",
   "execution_count": null,
   "metadata": {
    "scrolled": false
   },
   "outputs": [],
   "source": [
    "pressure_station_mode = weather_data.groupby('date_time_local').agg({\n",
    "  'pressure_station': lambda x: x.value_counts().index[0]  \n",
    "})\n",
    "\n",
    "pressure_station_mode.describe()"
   ]
  },
  {
   "cell_type": "code",
   "execution_count": null,
   "metadata": {
    "scrolled": false
   },
   "outputs": [],
   "source": [
    "key_to_test = 'pressure_station'\n",
    "\n",
    "plt.figure(figsize=(15, 8))\n",
    "ax = weather_data[key_to_test].hist(bins=15, density=True, stacked=True, color='teal', alpha=0.6)\n",
    "weather_data[key_to_test].plot(kind='density', color='teal')\n",
    "\n",
    "\n",
    "ax = pressure_station_mode[key_to_test].hist(bins=15, density=True, stacked=True, color='orange', alpha=0.6)\n",
    "pressure_station_mode[key_to_test].plot(kind='density', color='orange')\n",
    "\n",
    "\n",
    "ax.legend(['Original data', 'Mode data'])\n",
    "ax.set(xlabel=key_to_test)\n",
    "\n",
    "plt.show()"
   ]
  },
  {
   "cell_type": "code",
   "execution_count": null,
   "metadata": {},
   "outputs": [],
   "source": [
    "ks_2samp(weather_data['pressure_station'], pressure_station_mode['pressure_station'])"
   ]
  },
  {
   "cell_type": "markdown",
   "metadata": {},
   "source": [
    "#### median"
   ]
  },
  {
   "cell_type": "code",
   "execution_count": null,
   "metadata": {},
   "outputs": [],
   "source": [
    "pressure_station_median = weather_data.groupby('date_time_local').agg({\n",
    "  'pressure_station': lambda x: x.median() \n",
    "})\n",
    "\n",
    "pressure_station_median.describe()"
   ]
  },
  {
   "cell_type": "code",
   "execution_count": null,
   "metadata": {
    "scrolled": false
   },
   "outputs": [],
   "source": [
    "key_to_test = 'pressure_station'\n",
    "\n",
    "plt.figure(figsize=(15, 8))\n",
    "ax = weather_data[key_to_test].hist(bins=15, density=True, stacked=True, color='teal', alpha=0.6)\n",
    "weather_data[key_to_test].plot(kind='density', color='teal')\n",
    "\n",
    "\n",
    "ax = pressure_station_median[key_to_test].hist(bins=15, density=True, stacked=True, color='orange', alpha=0.6)\n",
    "pressure_station_median[key_to_test].plot(kind='density', color='orange')\n",
    "\n",
    "\n",
    "ax.legend(['Original data', 'Median data'])\n",
    "ax.set(xlabel=key_to_test)\n",
    "\n",
    "plt.show()"
   ]
  },
  {
   "cell_type": "code",
   "execution_count": null,
   "metadata": {
    "scrolled": true
   },
   "outputs": [],
   "source": [
    "ks_2samp(weather_data['pressure_station'], pressure_station_median['pressure_station'])"
   ]
  },
  {
   "cell_type": "markdown",
   "metadata": {},
   "source": [
    "It can be seen that for pressure station mode has the highest p-value so it will be chosen for grouping"
   ]
  },
  {
   "cell_type": "markdown",
   "metadata": {},
   "source": [
    "### Pressure sea"
   ]
  },
  {
   "cell_type": "code",
   "execution_count": null,
   "metadata": {
    "scrolled": true
   },
   "outputs": [],
   "source": [
    "weather_data['pressure_sea'].describe()"
   ]
  },
  {
   "cell_type": "markdown",
   "metadata": {},
   "source": [
    "#### mean"
   ]
  },
  {
   "cell_type": "code",
   "execution_count": null,
   "metadata": {},
   "outputs": [],
   "source": [
    "pressure_sea_mean = weather_data.groupby('date_time_local').agg({\n",
    "  'pressure_sea': lambda x: round(x.mean(), 2)  \n",
    "})\n",
    "\n",
    "pressure_sea_mean.describe()"
   ]
  },
  {
   "cell_type": "code",
   "execution_count": null,
   "metadata": {},
   "outputs": [],
   "source": [
    "key_to_test = 'pressure_sea'\n",
    "\n",
    "plt.figure(figsize=(15, 8))\n",
    "ax = weather_data[key_to_test].hist(bins=15, density=True, stacked=True, color='teal', alpha=0.6)\n",
    "weather_data[key_to_test].plot(kind='density', color='teal')\n",
    "\n",
    "\n",
    "ax = pressure_sea_mean[key_to_test].hist(bins=15, density=True, stacked=True, color='orange', alpha=0.6)\n",
    "pressure_sea_mean[key_to_test].plot(kind='density', color='orange')\n",
    "\n",
    "\n",
    "ax.legend(['Original data', 'Mean data'])\n",
    "ax.set(xlabel=key_to_test)\n",
    "\n",
    "plt.show()"
   ]
  },
  {
   "cell_type": "code",
   "execution_count": null,
   "metadata": {},
   "outputs": [],
   "source": [
    "ks_2samp(weather_data['pressure_sea'], pressure_sea_mean['pressure_sea'])"
   ]
  },
  {
   "cell_type": "markdown",
   "metadata": {},
   "source": [
    "#### mode"
   ]
  },
  {
   "cell_type": "code",
   "execution_count": null,
   "metadata": {},
   "outputs": [],
   "source": [
    "pressure_sea_mode = weather_data.groupby('date_time_local').agg({\n",
    "  'pressure_sea': lambda x: x.value_counts().index[0]  \n",
    "})\n",
    "\n",
    "pressure_sea_mode.describe()"
   ]
  },
  {
   "cell_type": "code",
   "execution_count": null,
   "metadata": {},
   "outputs": [],
   "source": [
    "key_to_test = 'pressure_sea'\n",
    "\n",
    "plt.figure(figsize=(15, 8))\n",
    "ax = weather_data[key_to_test].hist(bins=15, density=True, stacked=True, color='teal', alpha=0.6)\n",
    "weather_data[key_to_test].plot(kind='density', color='teal')\n",
    "\n",
    "\n",
    "ax = pressure_sea_mode[key_to_test].hist(bins=15, density=True, stacked=True, color='orange', alpha=0.6)\n",
    "pressure_sea_mode[key_to_test].plot(kind='density', color='orange')\n",
    "\n",
    "\n",
    "ax.legend(['Original data', 'Mode data'])\n",
    "ax.set(xlabel=key_to_test)\n",
    "\n",
    "plt.show()"
   ]
  },
  {
   "cell_type": "code",
   "execution_count": null,
   "metadata": {},
   "outputs": [],
   "source": [
    "ks_2samp(weather_data['pressure_sea'], pressure_sea_mode['pressure_sea'])"
   ]
  },
  {
   "cell_type": "markdown",
   "metadata": {},
   "source": [
    "#### median"
   ]
  },
  {
   "cell_type": "code",
   "execution_count": null,
   "metadata": {},
   "outputs": [],
   "source": [
    "pressure_sea_median = weather_data.groupby('date_time_local').agg({\n",
    "  'pressure_sea': lambda x: x.median() \n",
    "})\n",
    "\n",
    "pressure_sea_median.describe()"
   ]
  },
  {
   "cell_type": "code",
   "execution_count": null,
   "metadata": {},
   "outputs": [],
   "source": [
    "key_to_test = 'pressure_sea'\n",
    "\n",
    "plt.figure(figsize=(15, 8))\n",
    "ax = weather_data[key_to_test].hist(bins=15, density=True, stacked=True, color='teal', alpha=0.6)\n",
    "weather_data[key_to_test].plot(kind='density', color='teal')\n",
    "\n",
    "\n",
    "ax = pressure_sea_median[key_to_test].hist(bins=15, density=True, stacked=True, color='orange', alpha=0.6)\n",
    "pressure_sea_median[key_to_test].plot(kind='density', color='orange')\n",
    "\n",
    "\n",
    "ax.legend(['Original data', 'Median data'])\n",
    "ax.set(xlabel=key_to_test)\n",
    "\n",
    "plt.show()"
   ]
  },
  {
   "cell_type": "code",
   "execution_count": null,
   "metadata": {
    "scrolled": true
   },
   "outputs": [],
   "source": [
    "ks_2samp(weather_data['pressure_sea'], pressure_sea_median['pressure_sea'])"
   ]
  },
  {
   "cell_type": "markdown",
   "metadata": {},
   "source": [
    "It can be seen that for pressure sea median has the highest p-value so it will be chosen for grouping"
   ]
  },
  {
   "cell_type": "markdown",
   "metadata": {},
   "source": [
    "## Wind_dir_10s\n",
    "This column represents the wind direction in angles so taking a mean or median doesn't make much sense and mode is expected to be the best method."
   ]
  },
  {
   "cell_type": "code",
   "execution_count": null,
   "metadata": {},
   "outputs": [],
   "source": [
    "weather_data['wind_dir_10s'].describe()"
   ]
  },
  {
   "cell_type": "markdown",
   "metadata": {},
   "source": [
    "#### mean"
   ]
  },
  {
   "cell_type": "code",
   "execution_count": null,
   "metadata": {},
   "outputs": [],
   "source": [
    "wind_dir_10s_mean = weather_data.groupby('date_time_local').agg({\n",
    "  'wind_dir_10s': lambda x: round(x.mean(), 1)  \n",
    "})\n",
    "\n",
    "wind_dir_10s_mean.describe()"
   ]
  },
  {
   "cell_type": "code",
   "execution_count": null,
   "metadata": {},
   "outputs": [],
   "source": [
    "key_to_test = 'wind_dir_10s'\n",
    "\n",
    "plt.figure(figsize=(15, 8))\n",
    "ax = weather_data[key_to_test].hist(bins=15, density=True, stacked=True, color='teal', alpha=0.6)\n",
    "weather_data[key_to_test].plot(kind='density', color='teal')\n",
    "\n",
    "\n",
    "ax = wind_dir_10s_mean[key_to_test].hist(bins=15, density=True, stacked=True, color='orange', alpha=0.6)\n",
    "wind_dir_10s_mean[key_to_test].plot(kind='density', color='orange')\n",
    "\n",
    "\n",
    "ax.legend(['Original data', 'Mean data'])\n",
    "ax.set(xlabel=key_to_test)\n",
    "\n",
    "plt.show()"
   ]
  },
  {
   "cell_type": "code",
   "execution_count": null,
   "metadata": {},
   "outputs": [],
   "source": [
    "ks_2samp(weather_data['wind_dir_10s'], wind_dir_10s_mean['wind_dir_10s'])"
   ]
  },
  {
   "cell_type": "markdown",
   "metadata": {},
   "source": [
    "#### mode"
   ]
  },
  {
   "cell_type": "code",
   "execution_count": null,
   "metadata": {},
   "outputs": [],
   "source": [
    "wind_dir_10s_mode = weather_data.groupby('date_time_local').agg({\n",
    "  'wind_dir_10s': lambda x: x.value_counts().index[0]   \n",
    "})\n",
    "\n",
    "wind_dir_10s_mode.describe()"
   ]
  },
  {
   "cell_type": "code",
   "execution_count": null,
   "metadata": {},
   "outputs": [],
   "source": [
    "key_to_test = 'wind_dir_10s'\n",
    "\n",
    "plt.figure(figsize=(15, 8))\n",
    "ax = weather_data[key_to_test].hist(bins=15, density=True, stacked=True, color='teal', alpha=0.6)\n",
    "weather_data[key_to_test].plot(kind='density', color='teal')\n",
    "\n",
    "\n",
    "ax = wind_dir_10s_mode[key_to_test].hist(bins=15, density=True, stacked=True, color='orange', alpha=0.6)\n",
    "wind_dir_10s_mode[key_to_test].plot(kind='density', color='orange')\n",
    "\n",
    "\n",
    "ax.legend(['Original data', 'Mode data'])\n",
    "ax.set(xlabel=key_to_test)\n",
    "\n",
    "plt.show()"
   ]
  },
  {
   "cell_type": "code",
   "execution_count": null,
   "metadata": {},
   "outputs": [],
   "source": [
    "ks_2samp(weather_data['wind_dir_10s'], wind_dir_10s_mode['wind_dir_10s'])"
   ]
  },
  {
   "cell_type": "markdown",
   "metadata": {},
   "source": [
    "#### median"
   ]
  },
  {
   "cell_type": "code",
   "execution_count": null,
   "metadata": {},
   "outputs": [],
   "source": [
    "wind_dir_10s_median = weather_data.groupby('date_time_local').agg({\n",
    "  'wind_dir_10s': lambda x: x.median()  \n",
    "})\n",
    "\n",
    "wind_dir_10s_median.describe()"
   ]
  },
  {
   "cell_type": "code",
   "execution_count": null,
   "metadata": {},
   "outputs": [],
   "source": [
    "key_to_test = 'wind_dir_10s'\n",
    "\n",
    "plt.figure(figsize=(15, 8))\n",
    "ax = weather_data[key_to_test].hist(bins=15, density=True, stacked=True, color='teal', alpha=0.6)\n",
    "weather_data[key_to_test].plot(kind='density', color='teal')\n",
    "\n",
    "\n",
    "ax = wind_dir_10s_median[key_to_test].hist(bins=15, density=True, stacked=True, color='orange', alpha=0.6)\n",
    "wind_dir_10s_median[key_to_test].plot(kind='density', color='orange')\n",
    "\n",
    "\n",
    "ax.legend(['Original data', 'Median data'])\n",
    "ax.set(xlabel=key_to_test)\n",
    "\n",
    "plt.show()"
   ]
  },
  {
   "cell_type": "code",
   "execution_count": null,
   "metadata": {},
   "outputs": [],
   "source": [
    "ks_2samp(weather_data['wind_dir_10s'], wind_dir_10s_median['wind_dir_10s'])"
   ]
  },
  {
   "cell_type": "markdown",
   "metadata": {},
   "source": [
    "As expected mode will be the chosen value for wind_dir_10s column as it has the highest p-value, it can be seen that mean doesn't even follow the same distribution and the median barely does follow it."
   ]
  },
  {
   "cell_type": "markdown",
   "metadata": {},
   "source": [
    "## Wind_speed"
   ]
  },
  {
   "cell_type": "code",
   "execution_count": null,
   "metadata": {},
   "outputs": [],
   "source": [
    "weather_data['wind_speed'].describe()"
   ]
  },
  {
   "cell_type": "markdown",
   "metadata": {},
   "source": [
    "#### mean"
   ]
  },
  {
   "cell_type": "code",
   "execution_count": null,
   "metadata": {},
   "outputs": [],
   "source": [
    "wind_speed_mean = weather_data.groupby('date_time_local').agg({\n",
    "  'wind_speed': lambda x: round(x.mean(),1)  \n",
    "})\n",
    "\n",
    "wind_speed_mean.describe()"
   ]
  },
  {
   "cell_type": "code",
   "execution_count": null,
   "metadata": {},
   "outputs": [],
   "source": [
    "key_to_test = 'wind_speed'\n",
    "\n",
    "plt.figure(figsize=(15, 8))\n",
    "ax = weather_data[key_to_test].hist(bins=15, density=True, stacked=True, color='teal', alpha=0.6)\n",
    "weather_data[key_to_test].plot(kind='density', color='teal')\n",
    "\n",
    "\n",
    "ax = wind_speed_mean[key_to_test].hist(bins=15, density=True, stacked=True, color='orange', alpha=0.6)\n",
    "wind_speed_mean[key_to_test].plot(kind='density', color='orange')\n",
    "\n",
    "\n",
    "ax.legend(['Original data', 'Mean data'])\n",
    "ax.set(xlabel=key_to_test)\n",
    "\n",
    "plt.show()"
   ]
  },
  {
   "cell_type": "code",
   "execution_count": null,
   "metadata": {},
   "outputs": [],
   "source": [
    "ks_2samp(weather_data['wind_speed'], wind_speed_mean['wind_speed'])"
   ]
  },
  {
   "cell_type": "markdown",
   "metadata": {},
   "source": [
    "#### mode"
   ]
  },
  {
   "cell_type": "code",
   "execution_count": null,
   "metadata": {},
   "outputs": [],
   "source": [
    "wind_speed_mode = weather_data.groupby('date_time_local').agg({\n",
    "  'wind_speed': lambda x: x.value_counts().index[0]  \n",
    "})\n",
    "\n",
    "wind_speed_mode.describe()"
   ]
  },
  {
   "cell_type": "code",
   "execution_count": null,
   "metadata": {},
   "outputs": [],
   "source": [
    "key_to_test = 'wind_speed'\n",
    "\n",
    "plt.figure(figsize=(15, 8))\n",
    "ax = weather_data[key_to_test].hist(bins=15, density=True, stacked=True, color='teal', alpha=0.6)\n",
    "weather_data[key_to_test].plot(kind='density', color='teal')\n",
    "\n",
    "\n",
    "ax = wind_speed_mode[key_to_test].hist(bins=15, density=True, stacked=True, color='orange', alpha=0.6)\n",
    "wind_speed_mode[key_to_test].plot(kind='density', color='orange')\n",
    "\n",
    "\n",
    "ax.legend(['Original data', 'Mode data'])\n",
    "ax.set(xlabel=key_to_test)\n",
    "\n",
    "plt.show()"
   ]
  },
  {
   "cell_type": "code",
   "execution_count": null,
   "metadata": {},
   "outputs": [],
   "source": [
    "ks_2samp(weather_data['wind_speed'], wind_speed_mode['wind_speed'])"
   ]
  },
  {
   "cell_type": "markdown",
   "metadata": {},
   "source": [
    "#### median"
   ]
  },
  {
   "cell_type": "code",
   "execution_count": null,
   "metadata": {},
   "outputs": [],
   "source": [
    "wind_speed_median = weather_data.groupby('date_time_local').agg({\n",
    "  'wind_speed': lambda x: x.median()  \n",
    "})\n",
    "\n",
    "wind_speed_median.describe()"
   ]
  },
  {
   "cell_type": "code",
   "execution_count": null,
   "metadata": {},
   "outputs": [],
   "source": [
    "key_to_test = 'wind_speed'\n",
    "\n",
    "plt.figure(figsize=(15, 8))\n",
    "ax = weather_data[key_to_test].hist(bins=15, density=True, stacked=True, color='teal', alpha=0.6)\n",
    "weather_data[key_to_test].plot(kind='density', color='teal')\n",
    "\n",
    "\n",
    "ax = wind_speed_median[key_to_test].hist(bins=15, density=True, stacked=True, color='orange', alpha=0.6)\n",
    "wind_speed_median[key_to_test].plot(kind='density', color='orange')\n",
    "\n",
    "\n",
    "ax.legend(['Original data', 'Median data'])\n",
    "ax.set(xlabel=key_to_test)\n",
    "\n",
    "plt.show()"
   ]
  },
  {
   "cell_type": "code",
   "execution_count": null,
   "metadata": {
    "scrolled": true
   },
   "outputs": [],
   "source": [
    "ks_2samp(weather_data['wind_speed'], wind_speed_median['wind_speed'])"
   ]
  },
  {
   "cell_type": "markdown",
   "metadata": {},
   "source": [
    "Mode will be used for wind_speed"
   ]
  },
  {
   "cell_type": "markdown",
   "metadata": {},
   "source": [
    "## Relative_humidty"
   ]
  },
  {
   "cell_type": "code",
   "execution_count": null,
   "metadata": {},
   "outputs": [],
   "source": [
    "weather_data['relative_humidity'].describe()"
   ]
  },
  {
   "cell_type": "markdown",
   "metadata": {},
   "source": [
    "#### mean"
   ]
  },
  {
   "cell_type": "code",
   "execution_count": null,
   "metadata": {},
   "outputs": [],
   "source": [
    "relative_humidity_mean = weather_data.groupby('date_time_local').agg({\n",
    "  'relative_humidity': lambda x: round(x.mean(),1)\n",
    "})\n",
    "\n",
    "relative_humidity_mean.describe()"
   ]
  },
  {
   "cell_type": "code",
   "execution_count": null,
   "metadata": {},
   "outputs": [],
   "source": [
    "key_to_test = 'relative_humidity'\n",
    "\n",
    "plt.figure(figsize=(15, 8))\n",
    "ax = weather_data[key_to_test].hist(bins=15, density=True, stacked=True, color='teal', alpha=0.6)\n",
    "weather_data[key_to_test].plot(kind='density', color='teal')\n",
    "\n",
    "\n",
    "ax = relative_humidity_mean[key_to_test].hist(bins=15, density=True, stacked=True, color='orange', alpha=0.6)\n",
    "relative_humidity_mean[key_to_test].plot(kind='density', color='orange')\n",
    "\n",
    "\n",
    "ax.legend(['Original data', 'Mean data'])\n",
    "ax.set(xlabel=key_to_test)\n",
    "\n",
    "plt.show()"
   ]
  },
  {
   "cell_type": "code",
   "execution_count": null,
   "metadata": {},
   "outputs": [],
   "source": [
    "ks_2samp(weather_data['relative_humidity'], relative_humidity_mean['relative_humidity'])"
   ]
  },
  {
   "cell_type": "markdown",
   "metadata": {},
   "source": [
    "#### mode"
   ]
  },
  {
   "cell_type": "code",
   "execution_count": null,
   "metadata": {},
   "outputs": [],
   "source": [
    "relative_humidity_mode = weather_data.groupby('date_time_local').agg({\n",
    "  'relative_humidity': lambda x: x.value_counts().index[0]\n",
    "})\n",
    "\n",
    "relative_humidity_mode.describe()"
   ]
  },
  {
   "cell_type": "code",
   "execution_count": null,
   "metadata": {},
   "outputs": [],
   "source": [
    "key_to_test = 'relative_humidity'\n",
    "\n",
    "plt.figure(figsize=(15, 8))\n",
    "ax = weather_data[key_to_test].hist(bins=15, density=True, stacked=True, color='teal', alpha=0.6)\n",
    "weather_data[key_to_test].plot(kind='density', color='teal')\n",
    "\n",
    "\n",
    "ax = relative_humidity_mode[key_to_test].hist(bins=15, density=True, stacked=True, color='orange', alpha=0.6)\n",
    "relative_humidity_mode[key_to_test].plot(kind='density', color='orange')\n",
    "\n",
    "\n",
    "ax.legend(['Original data', 'Mode data'])\n",
    "ax.set(xlabel=key_to_test)\n",
    "\n",
    "plt.show()"
   ]
  },
  {
   "cell_type": "code",
   "execution_count": null,
   "metadata": {},
   "outputs": [],
   "source": [
    "ks_2samp(weather_data['relative_humidity'], relative_humidity_mode['relative_humidity'])"
   ]
  },
  {
   "cell_type": "markdown",
   "metadata": {},
   "source": [
    "#### median"
   ]
  },
  {
   "cell_type": "code",
   "execution_count": null,
   "metadata": {},
   "outputs": [],
   "source": [
    "relative_humidity_median = weather_data.groupby('date_time_local').agg({\n",
    "  'relative_humidity': lambda x: x.median()\n",
    "})\n",
    "\n",
    "relative_humidity_median.describe()"
   ]
  },
  {
   "cell_type": "code",
   "execution_count": null,
   "metadata": {},
   "outputs": [],
   "source": [
    "key_to_test = 'relative_humidity'\n",
    "\n",
    "plt.figure(figsize=(15, 8))\n",
    "ax = weather_data[key_to_test].hist(bins=15, density=True, stacked=True, color='teal', alpha=0.6)\n",
    "weather_data[key_to_test].plot(kind='density', color='teal')\n",
    "\n",
    "\n",
    "ax = relative_humidity_median[key_to_test].hist(bins=15, density=True, stacked=True, color='orange', alpha=0.6)\n",
    "relative_humidity_median[key_to_test].plot(kind='density', color='orange')\n",
    "\n",
    "\n",
    "ax.legend(['Original data', 'Median data'])\n",
    "ax.set(xlabel=key_to_test)\n",
    "\n",
    "plt.show()"
   ]
  },
  {
   "cell_type": "code",
   "execution_count": null,
   "metadata": {},
   "outputs": [],
   "source": [
    "ks_2samp(weather_data['relative_humidity'], relative_humidity_median['relative_humidity'])"
   ]
  },
  {
   "cell_type": "markdown",
   "metadata": {},
   "source": [
    "Grouping relative_humidty will introduce bias in the dataset so it will be ignored"
   ]
  },
  {
   "cell_type": "markdown",
   "metadata": {},
   "source": [
    "## Dew_point"
   ]
  },
  {
   "cell_type": "code",
   "execution_count": null,
   "metadata": {},
   "outputs": [],
   "source": [
    "weather_data['dew_point'].describe()"
   ]
  },
  {
   "cell_type": "markdown",
   "metadata": {},
   "source": [
    "#### mean"
   ]
  },
  {
   "cell_type": "code",
   "execution_count": null,
   "metadata": {},
   "outputs": [],
   "source": [
    "dew_point_mean = weather_data.groupby('date_time_local').agg({\n",
    "  'dew_point': lambda x: round(x.mean(),1)\n",
    "})\n",
    "\n",
    "dew_point_mean.describe()"
   ]
  },
  {
   "cell_type": "code",
   "execution_count": null,
   "metadata": {},
   "outputs": [],
   "source": [
    "key_to_test = 'dew_point'\n",
    "\n",
    "plt.figure(figsize=(15, 8))\n",
    "ax = weather_data[key_to_test].hist(bins=15, density=True, stacked=True, color='teal', alpha=0.6)\n",
    "weather_data[key_to_test].plot(kind='density', color='teal')\n",
    "\n",
    "\n",
    "ax = dew_point_mean[key_to_test].hist(bins=15, density=True, stacked=True, color='orange', alpha=0.6)\n",
    "dew_point_mean[key_to_test].plot(kind='density', color='orange')\n",
    "\n",
    "\n",
    "ax.legend(['Original data', 'Mean data'])\n",
    "ax.set(xlabel=key_to_test)\n",
    "\n",
    "plt.show()"
   ]
  },
  {
   "cell_type": "code",
   "execution_count": null,
   "metadata": {},
   "outputs": [],
   "source": [
    "ks_2samp(weather_data['dew_point'], dew_point_mean['dew_point'])"
   ]
  },
  {
   "cell_type": "markdown",
   "metadata": {},
   "source": [
    "#### mode"
   ]
  },
  {
   "cell_type": "code",
   "execution_count": null,
   "metadata": {},
   "outputs": [],
   "source": [
    "dew_point_mode = weather_data.groupby('date_time_local').agg({\n",
    "  'dew_point': lambda x: x.value_counts().index[0]\n",
    "})\n",
    "\n",
    "dew_point_mode.describe()"
   ]
  },
  {
   "cell_type": "code",
   "execution_count": null,
   "metadata": {},
   "outputs": [],
   "source": [
    "key_to_test = 'dew_point'\n",
    "\n",
    "plt.figure(figsize=(15, 8))\n",
    "ax = weather_data[key_to_test].hist(bins=15, density=True, stacked=True, color='teal', alpha=0.6)\n",
    "weather_data[key_to_test].plot(kind='density', color='teal')\n",
    "\n",
    "\n",
    "ax = dew_point_mode[key_to_test].hist(bins=15, density=True, stacked=True, color='orange', alpha=0.6)\n",
    "dew_point_mode[key_to_test].plot(kind='density', color='orange')\n",
    "\n",
    "\n",
    "ax.legend(['Original data', 'Mode data'])\n",
    "ax.set(xlabel=key_to_test)\n",
    "\n",
    "plt.show()"
   ]
  },
  {
   "cell_type": "code",
   "execution_count": null,
   "metadata": {},
   "outputs": [],
   "source": [
    "ks_2samp(weather_data['dew_point'], dew_point_mode['dew_point'])"
   ]
  },
  {
   "cell_type": "markdown",
   "metadata": {},
   "source": [
    "#### median"
   ]
  },
  {
   "cell_type": "code",
   "execution_count": null,
   "metadata": {},
   "outputs": [],
   "source": [
    "dew_point_median = weather_data.groupby('date_time_local').agg({\n",
    "  'dew_point': lambda x: x.median()\n",
    "})\n",
    "\n",
    "dew_point_median.describe()"
   ]
  },
  {
   "cell_type": "code",
   "execution_count": null,
   "metadata": {},
   "outputs": [],
   "source": [
    "key_to_test = 'dew_point'\n",
    "\n",
    "plt.figure(figsize=(15, 8))\n",
    "ax = weather_data[key_to_test].hist(bins=15, density=True, stacked=True, color='teal', alpha=0.6)\n",
    "weather_data[key_to_test].plot(kind='density', color='teal')\n",
    "\n",
    "\n",
    "ax = dew_point_median[key_to_test].hist(bins=15, density=True, stacked=True, color='orange', alpha=0.6)\n",
    "dew_point_median[key_to_test].plot(kind='density', color='orange')\n",
    "\n",
    "\n",
    "ax.legend(['Original data', 'Median data'])\n",
    "ax.set(xlabel=key_to_test)\n",
    "\n",
    "plt.show()"
   ]
  },
  {
   "cell_type": "code",
   "execution_count": null,
   "metadata": {},
   "outputs": [],
   "source": [
    "ks_2samp(weather_data['dew_point'], dew_point_median['dew_point'])"
   ]
  },
  {
   "cell_type": "markdown",
   "metadata": {},
   "source": [
    "Mode will be used for dew_point"
   ]
  },
  {
   "cell_type": "markdown",
   "metadata": {},
   "source": [
    "## Temperature"
   ]
  },
  {
   "cell_type": "code",
   "execution_count": null,
   "metadata": {},
   "outputs": [],
   "source": [
    "weather_data['temperature'].describe()"
   ]
  },
  {
   "cell_type": "markdown",
   "metadata": {},
   "source": [
    "#### mean"
   ]
  },
  {
   "cell_type": "code",
   "execution_count": null,
   "metadata": {},
   "outputs": [],
   "source": [
    "temperature_mean = weather_data.groupby('date_time_local').agg({\n",
    "  'temperature': lambda x: round(x.mean(),1)\n",
    "})\n",
    "\n",
    "temperature_mean.describe()"
   ]
  },
  {
   "cell_type": "code",
   "execution_count": null,
   "metadata": {},
   "outputs": [],
   "source": [
    "key_to_test = 'temperature'\n",
    "\n",
    "plt.figure(figsize=(15, 8))\n",
    "ax = weather_data[key_to_test].hist(bins=15, density=True, stacked=True, color='teal', alpha=0.6)\n",
    "weather_data[key_to_test].plot(kind='density', color='teal')\n",
    "\n",
    "\n",
    "ax = temperature_mean[key_to_test].hist(bins=15, density=True, stacked=True, color='orange', alpha=0.6)\n",
    "temperature_mean[key_to_test].plot(kind='density', color='orange')\n",
    "\n",
    "\n",
    "ax.legend(['Original data', 'Mean data'])\n",
    "ax.set(xlabel=key_to_test)\n",
    "\n",
    "plt.show()"
   ]
  },
  {
   "cell_type": "code",
   "execution_count": null,
   "metadata": {},
   "outputs": [],
   "source": [
    "ks_2samp(weather_data['temperature'], temperature_mean['temperature'])"
   ]
  },
  {
   "cell_type": "markdown",
   "metadata": {},
   "source": [
    "#### mode"
   ]
  },
  {
   "cell_type": "code",
   "execution_count": null,
   "metadata": {},
   "outputs": [],
   "source": [
    "temperature_mode = weather_data.groupby('date_time_local').agg({\n",
    "  'temperature': lambda x: x.value_counts().index[0]\n",
    "})\n",
    "\n",
    "temperature_mode.describe()"
   ]
  },
  {
   "cell_type": "code",
   "execution_count": null,
   "metadata": {},
   "outputs": [],
   "source": [
    "key_to_test = 'temperature'\n",
    "\n",
    "plt.figure(figsize=(15, 8))\n",
    "ax = weather_data[key_to_test].hist(bins=15, density=True, stacked=True, color='teal', alpha=0.6)\n",
    "weather_data[key_to_test].plot(kind='density', color='teal')\n",
    "\n",
    "\n",
    "ax = temperature_mode[key_to_test].hist(bins=15, density=True, stacked=True, color='orange', alpha=0.6)\n",
    "temperature_mode[key_to_test].plot(kind='density', color='orange')\n",
    "\n",
    "\n",
    "ax.legend(['Original data', 'Mode data'])\n",
    "ax.set(xlabel=key_to_test)\n",
    "\n",
    "plt.show()"
   ]
  },
  {
   "cell_type": "code",
   "execution_count": null,
   "metadata": {},
   "outputs": [],
   "source": [
    "ks_2samp(weather_data['temperature'], temperature_mode['temperature'])"
   ]
  },
  {
   "cell_type": "markdown",
   "metadata": {},
   "source": [
    "#### median"
   ]
  },
  {
   "cell_type": "code",
   "execution_count": null,
   "metadata": {},
   "outputs": [],
   "source": [
    "temperature_median = weather_data.groupby('date_time_local').agg({\n",
    "  'temperature': lambda x: x.median()\n",
    "})\n",
    "\n",
    "temperature_median.describe()"
   ]
  },
  {
   "cell_type": "code",
   "execution_count": null,
   "metadata": {},
   "outputs": [],
   "source": [
    "key_to_test = 'temperature'\n",
    "\n",
    "plt.figure(figsize=(15, 8))\n",
    "ax = weather_data[key_to_test].hist(bins=15, density=True, stacked=True, color='teal', alpha=0.6)\n",
    "weather_data[key_to_test].plot(kind='density', color='teal')\n",
    "\n",
    "\n",
    "ax = temperature_median[key_to_test].hist(bins=15, density=True, stacked=True, color='orange', alpha=0.6)\n",
    "temperature_median[key_to_test].plot(kind='density', color='orange')\n",
    "\n",
    "\n",
    "ax.legend(['Original data', 'Median data'])\n",
    "ax.set(xlabel=key_to_test)\n",
    "\n",
    "plt.show()"
   ]
  },
  {
   "cell_type": "code",
   "execution_count": null,
   "metadata": {},
   "outputs": [],
   "source": [
    "ks_2samp(weather_data['temperature'], temperature_median['temperature'])"
   ]
  },
  {
   "cell_type": "markdown",
   "metadata": {},
   "source": [
    "Mode will be used for temperature"
   ]
  },
  {
   "cell_type": "markdown",
   "metadata": {},
   "source": [
    "## Health_index"
   ]
  },
  {
   "cell_type": "code",
   "execution_count": null,
   "metadata": {},
   "outputs": [],
   "source": [
    "weather_data['health_index'].describe()"
   ]
  },
  {
   "cell_type": "markdown",
   "metadata": {},
   "source": [
    "#### mean"
   ]
  },
  {
   "cell_type": "code",
   "execution_count": null,
   "metadata": {},
   "outputs": [],
   "source": [
    "health_index_mean = weather_data.groupby('date_time_local').agg({\n",
    "  'health_index': lambda x: round(x.mean(),1)\n",
    "})\n",
    "\n",
    "health_index_mean.describe()"
   ]
  },
  {
   "cell_type": "code",
   "execution_count": null,
   "metadata": {},
   "outputs": [],
   "source": [
    "key_to_test = 'health_index'\n",
    "\n",
    "plt.figure(figsize=(15, 8))\n",
    "ax = weather_data[key_to_test].hist(bins=15, density=True, stacked=True, color='teal', alpha=0.6)\n",
    "weather_data[key_to_test].plot(kind='density', color='teal')\n",
    "\n",
    "\n",
    "ax = health_index_mean[key_to_test].hist(bins=15, density=True, stacked=True, color='orange', alpha=0.6)\n",
    "health_index_mean[key_to_test].plot(kind='density', color='orange')\n",
    "\n",
    "\n",
    "ax.legend(['Original data', 'Mean data'])\n",
    "ax.set(xlabel=key_to_test)\n",
    "\n",
    "plt.show()"
   ]
  },
  {
   "cell_type": "code",
   "execution_count": null,
   "metadata": {},
   "outputs": [],
   "source": [
    "ks_2samp(weather_data['health_index'], health_index_mean['health_index'])"
   ]
  },
  {
   "cell_type": "markdown",
   "metadata": {},
   "source": [
    "#### mode"
   ]
  },
  {
   "cell_type": "code",
   "execution_count": null,
   "metadata": {},
   "outputs": [],
   "source": [
    "health_index_mode = weather_data.groupby('date_time_local').agg({\n",
    "  'health_index': lambda x: x.value_counts().index[0]\n",
    "})\n",
    "\n",
    "health_index_mode.describe()"
   ]
  },
  {
   "cell_type": "code",
   "execution_count": null,
   "metadata": {},
   "outputs": [],
   "source": [
    "key_to_test = 'health_index'\n",
    "\n",
    "plt.figure(figsize=(15, 8))\n",
    "ax = weather_data[key_to_test].hist(bins=15, density=True, stacked=True, color='teal', alpha=0.6)\n",
    "weather_data[key_to_test].plot(kind='density', color='teal')\n",
    "\n",
    "\n",
    "ax = health_index_mode[key_to_test].hist(bins=15, density=True, stacked=True, color='orange', alpha=0.6)\n",
    "health_index_mode[key_to_test].plot(kind='density', color='orange')\n",
    "\n",
    "\n",
    "ax.legend(['Original data', 'Mode data'])\n",
    "ax.set(xlabel=key_to_test)\n",
    "\n",
    "plt.show()"
   ]
  },
  {
   "cell_type": "code",
   "execution_count": null,
   "metadata": {},
   "outputs": [],
   "source": [
    "ks_2samp(weather_data['health_index'], health_index_mode['health_index'])"
   ]
  },
  {
   "cell_type": "markdown",
   "metadata": {},
   "source": [
    "#### median"
   ]
  },
  {
   "cell_type": "code",
   "execution_count": null,
   "metadata": {},
   "outputs": [],
   "source": [
    "health_index_median = weather_data.groupby('date_time_local').agg({\n",
    "  'health_index': lambda x: x.median()\n",
    "})\n",
    "\n",
    "health_index_median.describe()"
   ]
  },
  {
   "cell_type": "code",
   "execution_count": null,
   "metadata": {},
   "outputs": [],
   "source": [
    "key_to_test = 'health_index'\n",
    "\n",
    "plt.figure(figsize=(15, 8))\n",
    "ax = weather_data[key_to_test].hist(bins=15, density=True, stacked=True, color='teal', alpha=0.6)\n",
    "weather_data[key_to_test].plot(kind='density', color='teal')\n",
    "\n",
    "\n",
    "ax = health_index_median[key_to_test].hist(bins=15, density=True, stacked=True, color='orange', alpha=0.6)\n",
    "health_index_median[key_to_test].plot(kind='density', color='orange')\n",
    "\n",
    "\n",
    "ax.legend(['Original data', 'Median data'])\n",
    "ax.set(xlabel=key_to_test)\n",
    "\n",
    "plt.show()"
   ]
  },
  {
   "cell_type": "code",
   "execution_count": null,
   "metadata": {},
   "outputs": [],
   "source": [
    "ks_2samp(weather_data['health_index'], health_index_median['health_index'])"
   ]
  },
  {
   "cell_type": "markdown",
   "metadata": {},
   "source": [
    "Mean will be used for health_index"
   ]
  },
  {
   "cell_type": "markdown",
   "metadata": {},
   "source": [
    "## Grouping weather data by date\n",
    "- Pressure station by mode\n",
    "- Pressure sea by median\n",
    "- wind_dir_10s by mode\n",
    "- wind_speed by mode\n",
    "- relative_humidty ignored\n",
    "- dew_point by mode\n",
    "- temperature by mode\n",
    "- health_index by mean"
   ]
  },
  {
   "cell_type": "code",
   "execution_count": null,
   "metadata": {
    "scrolled": false
   },
   "outputs": [],
   "source": [
    "weather_data_grouped = weather_data.groupby('date_time_local', as_index=False).agg({\n",
    "    'pressure_station': lambda x: x.value_counts().index[0],\n",
    "    'pressure_sea': lambda x: x.median(),\n",
    "    'wind_dir_10s': lambda x: x.value_counts().index[0],\n",
    "    'wind_speed': lambda x: x.value_counts().index[0],\n",
    "    'dew_point': lambda x: x.value_counts().index[0],\n",
    "    'temperature': lambda x: x.value_counts().index[0],\n",
    "    'health_index': lambda x: round(x.mean(), 1)\n",
    "})\n",
    "\n",
    "print(len(weather_data_grouped.index))\n",
    "\n",
    "weather_data_grouped.head()"
   ]
  },
  {
   "cell_type": "code",
   "execution_count": null,
   "metadata": {},
   "outputs": [],
   "source": [
    "weather_data_grouped.isnull().sum()"
   ]
  },
  {
   "cell_type": "markdown",
   "metadata": {},
   "source": [
    "## Grouping mosquito data\n",
    "\n",
    "\n",
    "There are 3 candidate columns to group mosquito data by:\n",
    "- Trap_date: date of trapping mosquitos\n",
    "- Genus: When biologists talk about a genus, they mean one or more species of animals or plants that are closely related to each other. Low-level taxonomic ranking for biological classification.\n",
    "- Specific Epithet: lowest taxonomic rank and having common characteristics and (usually) capable of mating with one another.\n",
    "\n",
    "Add Gender for part B"
   ]
  },
  {
   "cell_type": "code",
   "execution_count": null,
   "metadata": {},
   "outputs": [],
   "source": [
    "mos_data.head()"
   ]
  },
  {
   "cell_type": "code",
   "execution_count": null,
   "metadata": {
    "scrolled": false
   },
   "outputs": [],
   "source": [
    "mos_data_grouped = mos_data.groupby(['Trap Date'], as_index=False).agg({\n",
    "    'Count' : 'sum',\n",
    "    'Genus': lambda x: x.value_counts().index[0],\n",
    "    'Gender': lambda x: x.value_counts().index[0]\n",
    "})\n",
    "\n",
    "print(len(mos_data_grouped.index))\n",
    "\n",
    "mos_data_grouped.head()"
   ]
  },
  {
   "cell_type": "code",
   "execution_count": null,
   "metadata": {},
   "outputs": [],
   "source": [
    "merged_data = pd.merge(left=mos_data_grouped, right=weather_data_grouped, left_on='Trap Date', right_on='date_time_local')\n",
    "\n",
    "print(len(merged_data.index))\n",
    "\n",
    "merged_data.drop(columns=['date_time_local'], inplace=True) #redundent\n",
    "\n",
    "merged_data.head()"
   ]
  },
  {
   "cell_type": "code",
   "execution_count": 985,
   "metadata": {
    "scrolled": false
   },
   "outputs": [
    {
     "data": {
      "text/plain": [
       "Trap Date           0\n",
       "Count               0\n",
       "Genus               0\n",
       "Gender              0\n",
       "pressure_station    0\n",
       "pressure_sea        0\n",
       "wind_dir_10s        0\n",
       "wind_speed          0\n",
       "dew_point           0\n",
       "temperature         0\n",
       "health_index        0\n",
       "isWarm              0\n",
       "genusCat            0\n",
       "delta_pressure      0\n",
       "dtype: int64"
      ]
     },
     "execution_count": 985,
     "metadata": {},
     "output_type": "execute_result"
    }
   ],
   "source": [
    "merged_data.isnull().sum()"
   ]
  },
  {
   "cell_type": "markdown",
   "metadata": {},
   "source": [
    "## Add features\n",
    "- isWarm: if temperature is above 20 = 1, else = 0.\n",
    "- add genusCat for Genus\n",
    "- add genderCat female = 1, male = 0\n",
    "- add delta_pressure = pressure_station - pressure_sea"
   ]
  },
  {
   "cell_type": "code",
   "execution_count": 986,
   "metadata": {},
   "outputs": [],
   "source": [
    "merged_data['isWarm'] = np.where(merged_data['temperature'] >= 20, 1, 0)"
   ]
  },
  {
   "cell_type": "code",
   "execution_count": 987,
   "metadata": {},
   "outputs": [],
   "source": [
    "merged_data['Genus'] = merged_data['Genus'].astype('category')\n",
    "merged_data['genusCat'] = merged_data['Genus'].cat.codes"
   ]
  },
  {
   "cell_type": "code",
   "execution_count": 988,
   "metadata": {},
   "outputs": [],
   "source": [
    "# merged_data['genderCat'] = np.where(merged_data['Gender'] == \"Female\", 1, 0)"
   ]
  },
  {
   "cell_type": "code",
   "execution_count": 989,
   "metadata": {},
   "outputs": [],
   "source": [
    "merged_data[\"delta_pressure\"] = merged_data.apply(lambda x: x['pressure_station'] - x['pressure_sea'], axis=1)"
   ]
  },
  {
   "cell_type": "code",
   "execution_count": 990,
   "metadata": {
    "scrolled": true
   },
   "outputs": [
    {
     "data": {
      "text/html": [
       "<div>\n",
       "<style scoped>\n",
       "    .dataframe tbody tr th:only-of-type {\n",
       "        vertical-align: middle;\n",
       "    }\n",
       "\n",
       "    .dataframe tbody tr th {\n",
       "        vertical-align: top;\n",
       "    }\n",
       "\n",
       "    .dataframe thead th {\n",
       "        text-align: right;\n",
       "    }\n",
       "</style>\n",
       "<table border=\"1\" class=\"dataframe\">\n",
       "  <thead>\n",
       "    <tr style=\"text-align: right;\">\n",
       "      <th></th>\n",
       "      <th>Trap Date</th>\n",
       "      <th>Count</th>\n",
       "      <th>Genus</th>\n",
       "      <th>Gender</th>\n",
       "      <th>pressure_station</th>\n",
       "      <th>pressure_sea</th>\n",
       "      <th>wind_dir_10s</th>\n",
       "      <th>wind_speed</th>\n",
       "      <th>dew_point</th>\n",
       "      <th>temperature</th>\n",
       "      <th>health_index</th>\n",
       "      <th>isWarm</th>\n",
       "      <th>genusCat</th>\n",
       "      <th>delta_pressure</th>\n",
       "    </tr>\n",
       "  </thead>\n",
       "  <tbody>\n",
       "    <tr>\n",
       "      <th>0</th>\n",
       "      <td>2017-05-30</td>\n",
       "      <td>363</td>\n",
       "      <td>Ochlerotatus</td>\n",
       "      <td>Female</td>\n",
       "      <td>94.06</td>\n",
       "      <td>101.55</td>\n",
       "      <td>15.0</td>\n",
       "      <td>21.0</td>\n",
       "      <td>5.0</td>\n",
       "      <td>24.6</td>\n",
       "      <td>2.9</td>\n",
       "      <td>1</td>\n",
       "      <td>3</td>\n",
       "      <td>-7.49</td>\n",
       "    </tr>\n",
       "    <tr>\n",
       "      <th>1</th>\n",
       "      <td>2017-06-06</td>\n",
       "      <td>1656</td>\n",
       "      <td>Ochlerotatus</td>\n",
       "      <td>Female</td>\n",
       "      <td>93.81</td>\n",
       "      <td>102.00</td>\n",
       "      <td>15.0</td>\n",
       "      <td>5.0</td>\n",
       "      <td>5.5</td>\n",
       "      <td>11.8</td>\n",
       "      <td>2.9</td>\n",
       "      <td>0</td>\n",
       "      <td>3</td>\n",
       "      <td>-8.19</td>\n",
       "    </tr>\n",
       "    <tr>\n",
       "      <th>2</th>\n",
       "      <td>2017-06-13</td>\n",
       "      <td>2969</td>\n",
       "      <td>Ochlerotatus</td>\n",
       "      <td>Female</td>\n",
       "      <td>93.08</td>\n",
       "      <td>100.90</td>\n",
       "      <td>34.0</td>\n",
       "      <td>11.0</td>\n",
       "      <td>10.2</td>\n",
       "      <td>15.1</td>\n",
       "      <td>2.6</td>\n",
       "      <td>0</td>\n",
       "      <td>3</td>\n",
       "      <td>-7.82</td>\n",
       "    </tr>\n",
       "    <tr>\n",
       "      <th>3</th>\n",
       "      <td>2017-06-20</td>\n",
       "      <td>1872</td>\n",
       "      <td>Ochlerotatus</td>\n",
       "      <td>Female</td>\n",
       "      <td>93.12</td>\n",
       "      <td>100.90</td>\n",
       "      <td>16.0</td>\n",
       "      <td>17.0</td>\n",
       "      <td>10.0</td>\n",
       "      <td>11.0</td>\n",
       "      <td>2.4</td>\n",
       "      <td>0</td>\n",
       "      <td>3</td>\n",
       "      <td>-7.78</td>\n",
       "    </tr>\n",
       "    <tr>\n",
       "      <th>4</th>\n",
       "      <td>2017-06-27</td>\n",
       "      <td>769</td>\n",
       "      <td>Ochlerotatus</td>\n",
       "      <td>Female</td>\n",
       "      <td>92.78</td>\n",
       "      <td>100.55</td>\n",
       "      <td>31.0</td>\n",
       "      <td>17.0</td>\n",
       "      <td>7.0</td>\n",
       "      <td>13.7</td>\n",
       "      <td>2.4</td>\n",
       "      <td>0</td>\n",
       "      <td>3</td>\n",
       "      <td>-7.77</td>\n",
       "    </tr>\n",
       "  </tbody>\n",
       "</table>\n",
       "</div>"
      ],
      "text/plain": [
       "   Trap Date  Count         Genus  Gender  pressure_station  pressure_sea  \\\n",
       "0 2017-05-30    363  Ochlerotatus  Female             94.06        101.55   \n",
       "1 2017-06-06   1656  Ochlerotatus  Female             93.81        102.00   \n",
       "2 2017-06-13   2969  Ochlerotatus  Female             93.08        100.90   \n",
       "3 2017-06-20   1872  Ochlerotatus  Female             93.12        100.90   \n",
       "4 2017-06-27    769  Ochlerotatus  Female             92.78        100.55   \n",
       "\n",
       "   wind_dir_10s  wind_speed  dew_point  temperature  health_index  isWarm  \\\n",
       "0          15.0        21.0        5.0         24.6           2.9       1   \n",
       "1          15.0         5.0        5.5         11.8           2.9       0   \n",
       "2          34.0        11.0       10.2         15.1           2.6       0   \n",
       "3          16.0        17.0       10.0         11.0           2.4       0   \n",
       "4          31.0        17.0        7.0         13.7           2.4       0   \n",
       "\n",
       "   genusCat  delta_pressure  \n",
       "0         3           -7.49  \n",
       "1         3           -8.19  \n",
       "2         3           -7.82  \n",
       "3         3           -7.78  \n",
       "4         3           -7.77  "
      ]
     },
     "execution_count": 990,
     "metadata": {},
     "output_type": "execute_result"
    }
   ],
   "source": [
    "merged_data.head()"
   ]
  },
  {
   "cell_type": "markdown",
   "metadata": {},
   "source": [
    "# Part A: Linear Regression for no_of_Mosquito = function(weather_features)"
   ]
  },
  {
   "cell_type": "code",
   "execution_count": 991,
   "metadata": {
    "scrolled": false
   },
   "outputs": [
    {
     "data": {
      "text/plain": [
       "<matplotlib.axes._subplots.AxesSubplot at 0x7f6e7f6207b8>"
      ]
     },
     "execution_count": 991,
     "metadata": {},
     "output_type": "execute_result"
    },
    {
     "data": {
      "image/png": "[encoded data removed]",
      "text/plain": [
       "<Figure size 432x288 with 1 Axes>"
      ]
     },
     "metadata": {},
     "output_type": "display_data"
    }
   ],
   "source": [
    "sns.distplot(merged_data['Count'])"
   ]
  },
  {
   "cell_type": "code",
   "execution_count": 992,
   "metadata": {
    "scrolled": true
   },
   "outputs": [
    {
     "data": {
      "text/plain": [
       "count      34.000000\n",
       "mean     2143.617647\n",
       "std      1846.583151\n",
       "min       171.000000\n",
       "25%       840.000000\n",
       "50%      1863.000000\n",
       "75%      2747.250000\n",
       "max      9938.000000\n",
       "Name: Count, dtype: float64"
      ]
     },
     "execution_count": 992,
     "metadata": {},
     "output_type": "execute_result"
    }
   ],
   "source": [
    "merged_data['Count'].describe()"
   ]
  },
  {
   "cell_type": "code",
   "execution_count": 993,
   "metadata": {},
   "outputs": [],
   "source": [
    "#merged_data = merged_data[merged_data['Count'] < merged_data['Count'].describe()['75%']]  "
   ]
  },
  {
   "cell_type": "code",
   "execution_count": 994,
   "metadata": {
    "scrolled": false
   },
   "outputs": [
    {
     "data": {
      "text/plain": [
       "<matplotlib.axes._subplots.AxesSubplot at 0x7f6e7f2e5fd0>"
      ]
     },
     "execution_count": 994,
     "metadata": {},
     "output_type": "execute_result"
    },
    {
     "data": {
      "image/png": "[encoded data removed]",
      "text/plain": [
       "<Figure size 864x864 with 2 Axes>"
      ]
     },
     "metadata": {},
     "output_type": "display_data"
    }
   ],
   "source": [
    "fig, ax = plt.subplots(figsize=(12,12))\n",
    "sns.heatmap(merged_data.corr(), annot=True, ax=ax)"
   ]
  },
  {
   "cell_type": "code",
   "execution_count": 995,
   "metadata": {},
   "outputs": [],
   "source": [
    "x_cols = ['wind_dir_10s', 'wind_speed', 'genusCat', 'delta_pressure']\n",
    "X = merged_data[x_cols]\n",
    "y = merged_data['Count']"
   ]
  },
  {
   "cell_type": "code",
   "execution_count": 996,
   "metadata": {
    "scrolled": true
   },
   "outputs": [],
   "source": [
    "from sklearn.preprocessing import StandardScaler\n",
    "\n",
    "x_cols = ['wind_dir_10s', 'wind_speed', 'delta_pressure']\n",
    "\n",
    "\n",
    "X_stand = X.copy()\n",
    "X_norm = X.copy()\n",
    "X_both = X.copy()\n",
    "\n",
    "X_stand[x_cols] = StandardScaler().fit_transform(X[x_cols])\n",
    "X_norm[x_cols] = X[x_cols].apply(lambda x: (x - x.min()) / (x.max() - x.min()))\n",
    "X_both[x_cols] = StandardScaler().fit_transform(X[x_cols].apply(lambda x: (x - x.min()) / (x.max() - x.min()))[x_cols])"
   ]
  },
  {
   "cell_type": "code",
   "execution_count": 997,
   "metadata": {},
   "outputs": [],
   "source": [
    "from sklearn.model_selection import train_test_split\n",
    "\n",
    "test_size = 0.1\n",
    "\n",
    "X_train, X_test, y_train, y_test = train_test_split(X, y, test_size=test_size, random_state=42)\n",
    "X_train_stand, X_test_stand, y_train_stand, y_test_stand = train_test_split(X_stand, y, test_size=test_size, random_state=42)\n",
    "X_train_norm, X_test_norm, y_train_norm, y_test_norm = train_test_split(X_norm, y, test_size=test_size, random_state=42)\n",
    "X_train_both, X_test_both, y_train_both, y_test_both = train_test_split(X_both, y, test_size=test_size, random_state=42)\n"
   ]
  },
  {
   "cell_type": "code",
   "execution_count": 998,
   "metadata": {},
   "outputs": [],
   "source": [
    "from sklearn import metrics\n",
    "from sklearn.model_selection import cross_val_score\n",
    "\n",
    "def cross_val(model):\n",
    "    pred = cross_val_score(model, X, y, cv=10)\n",
    "    return pred.mean()\n",
    "\n",
    "def print_evaluate(true, predicted):  \n",
    "    mae = metrics.mean_absolute_error(true, predicted)\n",
    "    mse = metrics.mean_squared_error(true, predicted)\n",
    "    rmse = np.sqrt(metrics.mean_squared_error(true, predicted))\n",
    "    r2_square = metrics.r2_score(true, predicted)\n",
    "    print('MAE:', mae)\n",
    "    print('MSE:', mse)\n",
    "    print('RMSE:', rmse)\n",
    "    print('R2 Square', r2_square)\n",
    "    \n",
    "def evaluate(true, predicted):\n",
    "    mae = metrics.mean_absolute_error(true, predicted)\n",
    "    mse = metrics.mean_squared_error(true, predicted)\n",
    "    rmse = np.sqrt(metrics.mean_squared_error(true, predicted))\n",
    "    r2_square = metrics.r2_score(true, predicted)\n",
    "    return mae, mse, rmse, r2_square"
   ]
  },
  {
   "cell_type": "code",
   "execution_count": 999,
   "metadata": {},
   "outputs": [
    {
     "data": {
      "text/plain": [
       "LinearRegression(copy_X=True, fit_intercept=True, n_jobs=None,\n",
       "         normalize=False)"
      ]
     },
     "execution_count": 999,
     "metadata": {},
     "output_type": "execute_result"
    }
   ],
   "source": [
    "from sklearn.linear_model import LinearRegression\n",
    "\n",
    "lin_reg = LinearRegression()\n",
    "lin_reg.fit(X_train,y_train)\n",
    "\n",
    "lin_reg_norm = LinearRegression()\n",
    "lin_reg_norm.fit(X_train_norm,y_train_norm)\n",
    "\n",
    "lin_reg_stand = LinearRegression()\n",
    "lin_reg_stand.fit(X_train_stand,y_train_stand)\n",
    "\n",
    "lin_reg_both = LinearRegression()\n",
    "lin_reg_both.fit(X_train_both,y_train_both)"
   ]
  },
  {
   "cell_type": "code",
   "execution_count": 1000,
   "metadata": {},
   "outputs": [
    {
     "name": "stdout",
     "output_type": "stream",
     "text": [
      "-7050.954610030727\n"
     ]
    },
    {
     "data": {
      "text/html": [
       "<div>\n",
       "<style scoped>\n",
       "    .dataframe tbody tr th:only-of-type {\n",
       "        vertical-align: middle;\n",
       "    }\n",
       "\n",
       "    .dataframe tbody tr th {\n",
       "        vertical-align: top;\n",
       "    }\n",
       "\n",
       "    .dataframe thead th {\n",
       "        text-align: right;\n",
       "    }\n",
       "</style>\n",
       "<table border=\"1\" class=\"dataframe\">\n",
       "  <thead>\n",
       "    <tr style=\"text-align: right;\">\n",
       "      <th></th>\n",
       "      <th>Coefficient</th>\n",
       "    </tr>\n",
       "  </thead>\n",
       "  <tbody>\n",
       "    <tr>\n",
       "      <th>wind_dir_10s</th>\n",
       "      <td>19.801939</td>\n",
       "    </tr>\n",
       "    <tr>\n",
       "      <th>wind_speed</th>\n",
       "      <td>158.882144</td>\n",
       "    </tr>\n",
       "    <tr>\n",
       "      <th>genusCat</th>\n",
       "      <td>499.663012</td>\n",
       "    </tr>\n",
       "    <tr>\n",
       "      <th>delta_pressure</th>\n",
       "      <td>-719.181045</td>\n",
       "    </tr>\n",
       "  </tbody>\n",
       "</table>\n",
       "</div>"
      ],
      "text/plain": [
       "                Coefficient\n",
       "wind_dir_10s      19.801939\n",
       "wind_speed       158.882144\n",
       "genusCat         499.663012\n",
       "delta_pressure  -719.181045"
      ]
     },
     "execution_count": 1000,
     "metadata": {},
     "output_type": "execute_result"
    }
   ],
   "source": [
    "print(lin_reg.intercept_)\n",
    "coeff_df = pd.DataFrame(lin_reg.coef_, X.columns, columns=['Coefficient'])\n",
    "coeff_df"
   ]
  },
  {
   "cell_type": "code",
   "execution_count": 1001,
   "metadata": {
    "scrolled": true
   },
   "outputs": [
    {
     "name": "stdout",
     "output_type": "stream",
     "text": [
      "-426.42142130862317\n"
     ]
    },
    {
     "data": {
      "text/html": [
       "<div>\n",
       "<style scoped>\n",
       "    .dataframe tbody tr th:only-of-type {\n",
       "        vertical-align: middle;\n",
       "    }\n",
       "\n",
       "    .dataframe tbody tr th {\n",
       "        vertical-align: top;\n",
       "    }\n",
       "\n",
       "    .dataframe thead th {\n",
       "        text-align: right;\n",
       "    }\n",
       "</style>\n",
       "<table border=\"1\" class=\"dataframe\">\n",
       "  <thead>\n",
       "    <tr style=\"text-align: right;\">\n",
       "      <th></th>\n",
       "      <th>Coefficient</th>\n",
       "    </tr>\n",
       "  </thead>\n",
       "  <tbody>\n",
       "    <tr>\n",
       "      <th>wind_dir_10s</th>\n",
       "      <td>693.067864</td>\n",
       "    </tr>\n",
       "    <tr>\n",
       "      <th>wind_speed</th>\n",
       "      <td>5084.228618</td>\n",
       "    </tr>\n",
       "    <tr>\n",
       "      <th>genusCat</th>\n",
       "      <td>499.663012</td>\n",
       "    </tr>\n",
       "    <tr>\n",
       "      <th>delta_pressure</th>\n",
       "      <td>-582.536646</td>\n",
       "    </tr>\n",
       "  </tbody>\n",
       "</table>\n",
       "</div>"
      ],
      "text/plain": [
       "                Coefficient\n",
       "wind_dir_10s     693.067864\n",
       "wind_speed      5084.228618\n",
       "genusCat         499.663012\n",
       "delta_pressure  -582.536646"
      ]
     },
     "execution_count": 1001,
     "metadata": {},
     "output_type": "execute_result"
    }
   ],
   "source": [
    "print(lin_reg_norm.intercept_)\n",
    "coeff_df = pd.DataFrame(lin_reg_norm.coef_, X.columns, columns=['Coefficient'])\n",
    "coeff_df"
   ]
  },
  {
   "cell_type": "code",
   "execution_count": 1002,
   "metadata": {
    "scrolled": true
   },
   "outputs": [
    {
     "name": "stdout",
     "output_type": "stream",
     "text": [
      "771.9753289226185\n"
     ]
    },
    {
     "data": {
      "text/html": [
       "<div>\n",
       "<style scoped>\n",
       "    .dataframe tbody tr th:only-of-type {\n",
       "        vertical-align: middle;\n",
       "    }\n",
       "\n",
       "    .dataframe tbody tr th {\n",
       "        vertical-align: top;\n",
       "    }\n",
       "\n",
       "    .dataframe thead th {\n",
       "        text-align: right;\n",
       "    }\n",
       "</style>\n",
       "<table border=\"1\" class=\"dataframe\">\n",
       "  <thead>\n",
       "    <tr style=\"text-align: right;\">\n",
       "      <th></th>\n",
       "      <th>Coefficient</th>\n",
       "    </tr>\n",
       "  </thead>\n",
       "  <tbody>\n",
       "    <tr>\n",
       "      <th>wind_dir_10s</th>\n",
       "      <td>186.200940</td>\n",
       "    </tr>\n",
       "    <tr>\n",
       "      <th>wind_speed</th>\n",
       "      <td>1039.814325</td>\n",
       "    </tr>\n",
       "    <tr>\n",
       "      <th>genusCat</th>\n",
       "      <td>499.663012</td>\n",
       "    </tr>\n",
       "    <tr>\n",
       "      <th>delta_pressure</th>\n",
       "      <td>-120.174025</td>\n",
       "    </tr>\n",
       "  </tbody>\n",
       "</table>\n",
       "</div>"
      ],
      "text/plain": [
       "                Coefficient\n",
       "wind_dir_10s     186.200940\n",
       "wind_speed      1039.814325\n",
       "genusCat         499.663012\n",
       "delta_pressure  -120.174025"
      ]
     },
     "execution_count": 1002,
     "metadata": {},
     "output_type": "execute_result"
    }
   ],
   "source": [
    "print(lin_reg_stand.intercept_)\n",
    "coeff_df = pd.DataFrame(lin_reg_stand.coef_, X.columns, columns=['Coefficient'])\n",
    "coeff_df"
   ]
  },
  {
   "cell_type": "code",
   "execution_count": 1003,
   "metadata": {
    "scrolled": true
   },
   "outputs": [
    {
     "name": "stdout",
     "output_type": "stream",
     "text": [
      "771.9753289226214\n"
     ]
    },
    {
     "data": {
      "text/html": [
       "<div>\n",
       "<style scoped>\n",
       "    .dataframe tbody tr th:only-of-type {\n",
       "        vertical-align: middle;\n",
       "    }\n",
       "\n",
       "    .dataframe tbody tr th {\n",
       "        vertical-align: top;\n",
       "    }\n",
       "\n",
       "    .dataframe thead th {\n",
       "        text-align: right;\n",
       "    }\n",
       "</style>\n",
       "<table border=\"1\" class=\"dataframe\">\n",
       "  <thead>\n",
       "    <tr style=\"text-align: right;\">\n",
       "      <th></th>\n",
       "      <th>Coefficient</th>\n",
       "    </tr>\n",
       "  </thead>\n",
       "  <tbody>\n",
       "    <tr>\n",
       "      <th>wind_dir_10s</th>\n",
       "      <td>186.200940</td>\n",
       "    </tr>\n",
       "    <tr>\n",
       "      <th>wind_speed</th>\n",
       "      <td>1039.814325</td>\n",
       "    </tr>\n",
       "    <tr>\n",
       "      <th>genusCat</th>\n",
       "      <td>499.663012</td>\n",
       "    </tr>\n",
       "    <tr>\n",
       "      <th>delta_pressure</th>\n",
       "      <td>-120.174025</td>\n",
       "    </tr>\n",
       "  </tbody>\n",
       "</table>\n",
       "</div>"
      ],
      "text/plain": [
       "                Coefficient\n",
       "wind_dir_10s     186.200940\n",
       "wind_speed      1039.814325\n",
       "genusCat         499.663012\n",
       "delta_pressure  -120.174025"
      ]
     },
     "execution_count": 1003,
     "metadata": {},
     "output_type": "execute_result"
    }
   ],
   "source": [
    "print(lin_reg_both.intercept_)\n",
    "coeff_df = pd.DataFrame(lin_reg_both.coef_, X.columns, columns=['Coefficient'])\n",
    "coeff_df"
   ]
  },
  {
   "cell_type": "code",
   "execution_count": 1004,
   "metadata": {
    "scrolled": true
   },
   "outputs": [
    {
     "data": {
      "image/png": "[encoded data removed]",
      "text/plain": [
       "<Figure size 1080x576 with 1 Axes>"
      ]
     },
     "metadata": {},
     "output_type": "display_data"
    }
   ],
   "source": [
    "pred = lin_reg.predict(X_test)\n",
    "pred_norm = lin_reg_norm.predict(X_test_norm)\n",
    "pred_stand = lin_reg_stand.predict(X_test_stand)\n",
    "pred_both = lin_reg_both.predict(X_test_both)\n",
    "\n",
    "\n",
    "plt.figure(figsize=(15, 8))\n",
    "ax = plt.gca()\n",
    "\n",
    "ax.scatter(y_test, pred, c='#2ca02c', marker='x', label='Original data')\n",
    "ax.scatter(y_test_norm, pred, c='r', marker='o', label='Normalized data')\n",
    "ax.scatter(y_test_stand, pred, c='b', marker='+', label='Standardized data')\n",
    "ax.scatter(y_test_both, pred, c='y', marker='s', label='Both data')\n",
    "\n",
    "plt.legend(loc='best');\n",
    "\n",
    "plt.show()"
   ]
  },
  {
   "cell_type": "code",
   "execution_count": 1005,
   "metadata": {},
   "outputs": [
    {
     "data": {
      "image/png": "[encoded data removed]",
      "text/plain": [
       "<Figure size 432x288 with 1 Axes>"
      ]
     },
     "metadata": {},
     "output_type": "display_data"
    }
   ],
   "source": [
    "sns.distplot((y_test - pred), bins=50);"
   ]
  },
  {
   "cell_type": "code",
   "execution_count": 1006,
   "metadata": {},
   "outputs": [
    {
     "name": "stdout",
     "output_type": "stream",
     "text": [
      "Test set evaluation:\n",
      "_____________________________________\n",
      "MAE: 1284.1481870336197\n",
      "MSE: 3181756.794129168\n",
      "RMSE: 1783.7479626138802\n",
      "R2 Square -0.5530943376681596\n",
      "====================================\n",
      "Train set evaluation:\n",
      "_____________________________________\n",
      "MAE: 980.790156730046\n",
      "MSE: 2128135.409152584\n",
      "RMSE: 1458.8130137726987\n",
      "R2 Square 0.40489924705336433\n"
     ]
    }
   ],
   "source": [
    "test_pred = lin_reg.predict(X_test)\n",
    "train_pred = lin_reg.predict(X_train)\n",
    "\n",
    "print('Test set evaluation:\\n_____________________________________')\n",
    "print_evaluate(y_test, test_pred)\n",
    "print('====================================')\n",
    "print('Train set evaluation:\\n_____________________________________')\n",
    "print_evaluate(y_train, train_pred)"
   ]
  },
  {
   "cell_type": "code",
   "execution_count": 1007,
   "metadata": {
    "scrolled": true
   },
   "outputs": [
    {
     "name": "stdout",
     "output_type": "stream",
     "text": [
      "Test set evaluation:\n",
      "_____________________________________\n",
      "MAE: 1284.1481870336195\n",
      "MSE: 3181756.794129167\n",
      "RMSE: 1783.7479626138797\n",
      "R2 Square -0.5530943376681592\n",
      "====================================\n",
      "Train set evaluation:\n",
      "_____________________________________\n",
      "MAE: 980.7901567300459\n",
      "MSE: 2128135.409152584\n",
      "RMSE: 1458.8130137726987\n",
      "R2 Square 0.40489924705336444\n"
     ]
    }
   ],
   "source": [
    "test_pred_norm = lin_reg_norm.predict(X_test_norm)\n",
    "train_pred_norm = lin_reg_norm.predict(X_train_norm)\n",
    "\n",
    "print('Test set evaluation:\\n_____________________________________')\n",
    "print_evaluate(y_test_norm, test_pred_norm)\n",
    "print('====================================')\n",
    "print('Train set evaluation:\\n_____________________________________')\n",
    "print_evaluate(y_train_norm, train_pred_norm)"
   ]
  },
  {
   "cell_type": "code",
   "execution_count": 1008,
   "metadata": {
    "scrolled": true
   },
   "outputs": [
    {
     "name": "stdout",
     "output_type": "stream",
     "text": [
      "Test set evaluation:\n",
      "_____________________________________\n",
      "MAE: 1284.1481870336193\n",
      "MSE: 3181756.794129166\n",
      "RMSE: 1783.7479626138795\n",
      "R2 Square -0.5530943376681583\n",
      "====================================\n",
      "Train set evaluation:\n",
      "_____________________________________\n",
      "MAE: 980.7901567300459\n",
      "MSE: 2128135.4091525846\n",
      "RMSE: 1458.813013772699\n",
      "R2 Square 0.4048992470533642\n"
     ]
    }
   ],
   "source": [
    "test_pred_stand = lin_reg_stand.predict(X_test_stand)\n",
    "train_pred_stand = lin_reg_stand.predict(X_train_stand)\n",
    "\n",
    "print('Test set evaluation:\\n_____________________________________')\n",
    "print_evaluate(y_test_stand, test_pred_stand)\n",
    "print('====================================')\n",
    "print('Train set evaluation:\\n_____________________________________')\n",
    "print_evaluate(y_train_stand, train_pred_stand)"
   ]
  },
  {
   "cell_type": "code",
   "execution_count": 1009,
   "metadata": {
    "scrolled": true
   },
   "outputs": [
    {
     "name": "stdout",
     "output_type": "stream",
     "text": [
      "Test set evaluation:\n",
      "_____________________________________\n",
      "MAE: 1284.1481870336195\n",
      "MSE: 3181756.794129167\n",
      "RMSE: 1783.7479626138797\n",
      "R2 Square -0.5530943376681592\n",
      "====================================\n",
      "Train set evaluation:\n",
      "_____________________________________\n",
      "MAE: 980.7901567300459\n",
      "MSE: 2128135.409152584\n",
      "RMSE: 1458.8130137726987\n",
      "R2 Square 0.40489924705336444\n"
     ]
    }
   ],
   "source": [
    "test_pred_both = lin_reg_both.predict(X_test_both)\n",
    "train_pred_both = lin_reg_both.predict(X_train_both)\n",
    "\n",
    "print('Test set evaluation:\\n_____________________________________')\n",
    "print_evaluate(y_test_both, test_pred_both)\n",
    "print('====================================')\n",
    "print('Train set evaluation:\\n_____________________________________')\n",
    "print_evaluate(y_train_both, train_pred_both)"
   ]
  },
  {
   "cell_type": "code",
   "execution_count": 1010,
   "metadata": {},
   "outputs": [
    {
     "data": {
      "text/html": [
       "<div>\n",
       "<style scoped>\n",
       "    .dataframe tbody tr th:only-of-type {\n",
       "        vertical-align: middle;\n",
       "    }\n",
       "\n",
       "    .dataframe tbody tr th {\n",
       "        vertical-align: top;\n",
       "    }\n",
       "\n",
       "    .dataframe thead th {\n",
       "        text-align: right;\n",
       "    }\n",
       "</style>\n",
       "<table border=\"1\" class=\"dataframe\">\n",
       "  <thead>\n",
       "    <tr style=\"text-align: right;\">\n",
       "      <th></th>\n",
       "      <th>Model</th>\n",
       "      <th>MAE</th>\n",
       "      <th>MSE</th>\n",
       "      <th>RMSE</th>\n",
       "      <th>R2 Square</th>\n",
       "      <th>Cross Validation</th>\n",
       "    </tr>\n",
       "  </thead>\n",
       "  <tbody>\n",
       "    <tr>\n",
       "      <th>0</th>\n",
       "      <td>Linear Regression</td>\n",
       "      <td>1284.148187</td>\n",
       "      <td>3.181757e+06</td>\n",
       "      <td>1783.747963</td>\n",
       "      <td>-0.553094</td>\n",
       "      <td>-112.933451</td>\n",
       "    </tr>\n",
       "    <tr>\n",
       "      <th>1</th>\n",
       "      <td>Linear Regression w/ norm</td>\n",
       "      <td>1284.148187</td>\n",
       "      <td>3.181757e+06</td>\n",
       "      <td>1783.747963</td>\n",
       "      <td>-0.553094</td>\n",
       "      <td>-112.933451</td>\n",
       "    </tr>\n",
       "    <tr>\n",
       "      <th>2</th>\n",
       "      <td>Linear Regression w/ stand</td>\n",
       "      <td>1284.148187</td>\n",
       "      <td>3.181757e+06</td>\n",
       "      <td>1783.747963</td>\n",
       "      <td>-0.553094</td>\n",
       "      <td>-112.933451</td>\n",
       "    </tr>\n",
       "    <tr>\n",
       "      <th>3</th>\n",
       "      <td>Linear Regression w/ both</td>\n",
       "      <td>1284.148187</td>\n",
       "      <td>3.181757e+06</td>\n",
       "      <td>1783.747963</td>\n",
       "      <td>-0.553094</td>\n",
       "      <td>-112.933451</td>\n",
       "    </tr>\n",
       "  </tbody>\n",
       "</table>\n",
       "</div>"
      ],
      "text/plain": [
       "                        Model          MAE           MSE         RMSE  \\\n",
       "0           Linear Regression  1284.148187  3.181757e+06  1783.747963   \n",
       "1   Linear Regression w/ norm  1284.148187  3.181757e+06  1783.747963   \n",
       "2  Linear Regression w/ stand  1284.148187  3.181757e+06  1783.747963   \n",
       "3   Linear Regression w/ both  1284.148187  3.181757e+06  1783.747963   \n",
       "\n",
       "   R2 Square  Cross Validation  \n",
       "0  -0.553094       -112.933451  \n",
       "1  -0.553094       -112.933451  \n",
       "2  -0.553094       -112.933451  \n",
       "3  -0.553094       -112.933451  "
      ]
     },
     "execution_count": 1010,
     "metadata": {},
     "output_type": "execute_result"
    }
   ],
   "source": [
    "results_df = pd.DataFrame(data=[[\"Linear Regression\", *evaluate(y_test, test_pred) , cross_val(LinearRegression())], [\"Linear Regression w/ norm\", *evaluate(y_test_norm, test_pred_norm) , cross_val(LinearRegression())], [\"Linear Regression w/ stand\", *evaluate(y_test_stand, test_pred_stand) , cross_val(LinearRegression())],[\"Linear Regression w/ both\", *evaluate(y_test_both, test_pred_both) , cross_val(LinearRegression())]], \n",
    "                          columns=['Model', 'MAE', 'MSE', 'RMSE', 'R2 Square', \"Cross Validation\"])\n",
    "results_df"
   ]
  }
 ],
 "metadata": {
  "kernelspec": {
   "display_name": "Python 3",
   "language": "python",
   "name": "python3"
  },
  "language_info": {
   "codemirror_mode": {
    "name": "ipython",
    "version": 3
   },
   "file_extension": ".py",
   "mimetype": "text/x-python",
   "name": "python",
   "nbconvert_exporter": "python",
   "pygments_lexer": "ipython3",
   "version": "3.7.3"
  }
 },
 "nbformat": 4,
 "nbformat_minor": 2
}
