{
 "cells": [
  {
   "cell_type": "markdown",
   "metadata": {},
   "source": [
    "# Task 2\n",
    "- 3 models (binary classification problem)\n",
    "\n",
    "### 1) Logistic Regression\n",
    "\n",
    "\n",
    "### 2) SVM\n",
    "\n",
    "### 3) Random Forest\n",
    "\n",
    "### Problem:\n",
    "Mosquito_Female OR Mosquito_Male = function(weather_features^D)\n",
    "\n",
    "NOTE: Please, perform 10-fold cross validation of each model and t-test in order to identify which\n",
    "model is the best."
   ]
  }
 ],
 "metadata": {
  "kernelspec": {
   "display_name": "Python 3",
   "language": "python",
   "name": "python3"
  },
  "language_info": {
   "codemirror_mode": {
    "name": "ipython",
    "version": 3
   },
   "file_extension": ".py",
   "mimetype": "text/x-python",
   "name": "python",
   "nbconvert_exporter": "python",
   "pygments_lexer": "ipython3",
   "version": "3.7.3"
  }
 },
 "nbformat": 4,
 "nbformat_minor": 2
}
