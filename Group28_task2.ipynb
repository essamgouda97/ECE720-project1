{
 "cells": [
  {
   "cell_type": "markdown",
   "metadata": {},
   "source": [
    "### Group 28 members:\n",
    "- Jingze Tian (CCID)\n",
    "- Letian Ren (CCID)\n",
    "- Essam Gouda (egouda)"
   ]
  },
  {
   "cell_type": "markdown",
   "metadata": {},
   "source": [
    "# Task 2: Classification\n",
    "- Logistic Regression model for female OR male mosquito = function(weather_features)\n",
    "- Support Vector Machine model for female OR male mosquito = function(weather_features)\n",
    "- Random Forest model for female OR male mosquito = function(weather_features)\n",
    "\n",
    "#### Variations for each model:\n",
    "- 10-fold cross validation for each model was performed\n",
    "- t-test and ANOVA were used to compare model's performance"
   ]
  },
  {
   "cell_type": "markdown",
   "metadata": {},
   "source": [
    "# Imports"
   ]
  },
  {
   "cell_type": "code",
   "execution_count": 41,
   "metadata": {},
   "outputs": [],
   "source": [
    "import pandas as pd\n",
    "import numpy as np\n",
    "import time\n",
    "from sklearn import linear_model\n",
    "import matplotlib.pyplot as plt\n",
    "from sklearn.metrics import confusion_matrix\n",
    "from sklearn.pipeline import Pipeline\n",
    "from sklearn.model_selection import cross_val_score\n",
    "from sklearn.metrics import mean_squared_error\n",
    "from sklearn.preprocessing import PolynomialFeatures\n",
    "from sklearn.svm import SVC\n",
    "from sklearn.metrics import accuracy_score\n",
    "from sklearn.metrics import roc_curve, auc\n",
    "from _datetime import datetime\n",
    "\n",
    "import warnings; warnings.simplefilter('ignore')"
   ]
  },
  {
   "cell_type": "markdown",
   "metadata": {},
   "source": [
    "# Read csv files (datasets)"
   ]
  },
  {
   "cell_type": "code",
   "execution_count": 42,
   "metadata": {},
   "outputs": [],
   "source": [
    "weather_data = pd.read_csv('./data/weather_data.csv')\n",
    "mos_data = pd.read_csv('./data/mosquito_data_new.csv')"
   ]
  },
  {
   "cell_type": "code",
   "execution_count": 43,
   "metadata": {},
   "outputs": [
    {
     "data": {
      "text/html": [
       "<div>\n",
       "<style scoped>\n",
       "    .dataframe tbody tr th:only-of-type {\n",
       "        vertical-align: middle;\n",
       "    }\n",
       "\n",
       "    .dataframe tbody tr th {\n",
       "        vertical-align: top;\n",
       "    }\n",
       "\n",
       "    .dataframe thead th {\n",
       "        text-align: right;\n",
       "    }\n",
       "</style>\n",
       "<table border=\"1\" class=\"dataframe\">\n",
       "  <thead>\n",
       "    <tr style=\"text-align: right;\">\n",
       "      <th></th>\n",
       "      <th>Trap Date</th>\n",
       "      <th>Genus</th>\n",
       "      <th>Specific Epithet</th>\n",
       "      <th>Gender</th>\n",
       "      <th>IDd</th>\n",
       "      <th>Count</th>\n",
       "      <th>Trap Region</th>\n",
       "      <th>Include</th>\n",
       "      <th>Comparison Group</th>\n",
       "      <th>Latitude</th>\n",
       "      <th>Longitude</th>\n",
       "      <th>Location</th>\n",
       "    </tr>\n",
       "  </thead>\n",
       "  <tbody>\n",
       "    <tr>\n",
       "      <th>0</th>\n",
       "      <td>09/15/2015 12:00:00 AM</td>\n",
       "      <td>Aedes</td>\n",
       "      <td>vexans</td>\n",
       "      <td>Female</td>\n",
       "      <td>NaN</td>\n",
       "      <td>3</td>\n",
       "      <td>Rural-West</td>\n",
       "      <td>NaN</td>\n",
       "      <td>Outer</td>\n",
       "      <td>53.562973</td>\n",
       "      <td>-113.787353</td>\n",
       "      <td>POINT (-113.787353 53.5629733)</td>\n",
       "    </tr>\n",
       "    <tr>\n",
       "      <th>1</th>\n",
       "      <td>05/12/1998 12:00:00 AM</td>\n",
       "      <td>Male</td>\n",
       "      <td>UnID</td>\n",
       "      <td>Male</td>\n",
       "      <td>UnID</td>\n",
       "      <td>1</td>\n",
       "      <td>Rural-North West</td>\n",
       "      <td>NaN</td>\n",
       "      <td>Peripheral</td>\n",
       "      <td>53.617221</td>\n",
       "      <td>-113.716182</td>\n",
       "      <td>POINT (-113.716182 53.617221)</td>\n",
       "    </tr>\n",
       "    <tr>\n",
       "      <th>2</th>\n",
       "      <td>08/28/2001 12:00:00 AM</td>\n",
       "      <td>Culex</td>\n",
       "      <td>tarsalis</td>\n",
       "      <td>Female</td>\n",
       "      <td>NaN</td>\n",
       "      <td>1</td>\n",
       "      <td>Rural-North West</td>\n",
       "      <td>NaN</td>\n",
       "      <td>Peripheral</td>\n",
       "      <td>53.617221</td>\n",
       "      <td>-113.716182</td>\n",
       "      <td>POINT (-113.716182 53.617221)</td>\n",
       "    </tr>\n",
       "    <tr>\n",
       "      <th>3</th>\n",
       "      <td>08/17/2004 12:00:00 AM</td>\n",
       "      <td>Culex</td>\n",
       "      <td>territans</td>\n",
       "      <td>Female</td>\n",
       "      <td>NaN</td>\n",
       "      <td>1</td>\n",
       "      <td>Rural-North West</td>\n",
       "      <td>NaN</td>\n",
       "      <td>Peripheral</td>\n",
       "      <td>53.617221</td>\n",
       "      <td>-113.716182</td>\n",
       "      <td>POINT (-113.716182 53.617221)</td>\n",
       "    </tr>\n",
       "    <tr>\n",
       "      <th>4</th>\n",
       "      <td>05/15/2018 12:00:00 AM</td>\n",
       "      <td>Culiseta</td>\n",
       "      <td>impatiens</td>\n",
       "      <td>Female</td>\n",
       "      <td>NaN</td>\n",
       "      <td>2</td>\n",
       "      <td>Rural-West</td>\n",
       "      <td>NaN</td>\n",
       "      <td>Outer</td>\n",
       "      <td>53.559020</td>\n",
       "      <td>-114.001190</td>\n",
       "      <td>POINT (-114.00119 53.559020000000004)</td>\n",
       "    </tr>\n",
       "  </tbody>\n",
       "</table>\n",
       "</div>"
      ],
      "text/plain": [
       "                Trap Date     Genus Specific Epithet  Gender   IDd  Count  \\\n",
       "0  09/15/2015 12:00:00 AM     Aedes           vexans  Female   NaN      3   \n",
       "1  05/12/1998 12:00:00 AM      Male             UnID    Male  UnID      1   \n",
       "2  08/28/2001 12:00:00 AM     Culex         tarsalis  Female   NaN      1   \n",
       "3  08/17/2004 12:00:00 AM     Culex        territans  Female   NaN      1   \n",
       "4  05/15/2018 12:00:00 AM  Culiseta        impatiens  Female   NaN      2   \n",
       "\n",
       "        Trap Region Include Comparison Group   Latitude   Longitude  \\\n",
       "0        Rural-West     NaN            Outer  53.562973 -113.787353   \n",
       "1  Rural-North West     NaN       Peripheral  53.617221 -113.716182   \n",
       "2  Rural-North West     NaN       Peripheral  53.617221 -113.716182   \n",
       "3  Rural-North West     NaN       Peripheral  53.617221 -113.716182   \n",
       "4        Rural-West     NaN            Outer  53.559020 -114.001190   \n",
       "\n",
       "                                Location  \n",
       "0         POINT (-113.787353 53.5629733)  \n",
       "1          POINT (-113.716182 53.617221)  \n",
       "2          POINT (-113.716182 53.617221)  \n",
       "3          POINT (-113.716182 53.617221)  \n",
       "4  POINT (-114.00119 53.559020000000004)  "
      ]
     },
     "execution_count": 43,
     "metadata": {},
     "output_type": "execute_result"
    }
   ],
   "source": [
    "mos_data.head()"
   ]
  },
  {
   "cell_type": "code",
   "execution_count": 44,
   "metadata": {},
   "outputs": [
    {
     "data": {
      "text/html": [
       "<div>\n",
       "<style scoped>\n",
       "    .dataframe tbody tr th:only-of-type {\n",
       "        vertical-align: middle;\n",
       "    }\n",
       "\n",
       "    .dataframe tbody tr th {\n",
       "        vertical-align: top;\n",
       "    }\n",
       "\n",
       "    .dataframe thead th {\n",
       "        text-align: right;\n",
       "    }\n",
       "</style>\n",
       "<table border=\"1\" class=\"dataframe\">\n",
       "  <thead>\n",
       "    <tr style=\"text-align: right;\">\n",
       "      <th></th>\n",
       "      <th>date_time_local</th>\n",
       "      <th>unixtime</th>\n",
       "      <th>pressure_station</th>\n",
       "      <th>pressure_sea</th>\n",
       "      <th>wind_dir</th>\n",
       "      <th>wind_dir_10s</th>\n",
       "      <th>wind_speed</th>\n",
       "      <th>wind_gust</th>\n",
       "      <th>relative_humidity</th>\n",
       "      <th>dew_point</th>\n",
       "      <th>temperature</th>\n",
       "      <th>windchill</th>\n",
       "      <th>humidex</th>\n",
       "      <th>visibility</th>\n",
       "      <th>health_index</th>\n",
       "      <th>cloud_cover_4</th>\n",
       "      <th>cloud_cover_8</th>\n",
       "      <th>cloud_cover_10</th>\n",
       "      <th>solar_radiation</th>\n",
       "    </tr>\n",
       "  </thead>\n",
       "  <tbody>\n",
       "    <tr>\n",
       "      <th>0</th>\n",
       "      <td>2018-12-18 16:00:00 MST</td>\n",
       "      <td>1545174000</td>\n",
       "      <td>91.73</td>\n",
       "      <td>99.7</td>\n",
       "      <td>SW</td>\n",
       "      <td>23.0</td>\n",
       "      <td>5.0</td>\n",
       "      <td>NaN</td>\n",
       "      <td>64.0</td>\n",
       "      <td>-7.3</td>\n",
       "      <td>-1.3</td>\n",
       "      <td>-3.0</td>\n",
       "      <td>NaN</td>\n",
       "      <td>NaN</td>\n",
       "      <td>NaN</td>\n",
       "      <td>NaN</td>\n",
       "      <td>NaN</td>\n",
       "      <td>NaN</td>\n",
       "      <td>NaN</td>\n",
       "    </tr>\n",
       "    <tr>\n",
       "      <th>1</th>\n",
       "      <td>2018-12-18 15:00:00 MST</td>\n",
       "      <td>1545170400</td>\n",
       "      <td>91.67</td>\n",
       "      <td>99.7</td>\n",
       "      <td>S</td>\n",
       "      <td>18.0</td>\n",
       "      <td>5.0</td>\n",
       "      <td>NaN</td>\n",
       "      <td>65.0</td>\n",
       "      <td>-6.3</td>\n",
       "      <td>-0.5</td>\n",
       "      <td>-2.0</td>\n",
       "      <td>NaN</td>\n",
       "      <td>NaN</td>\n",
       "      <td>4.0</td>\n",
       "      <td>NaN</td>\n",
       "      <td>NaN</td>\n",
       "      <td>NaN</td>\n",
       "      <td>NaN</td>\n",
       "    </tr>\n",
       "    <tr>\n",
       "      <th>2</th>\n",
       "      <td>2018-12-18 14:00:00 MST</td>\n",
       "      <td>1545166800</td>\n",
       "      <td>91.67</td>\n",
       "      <td>99.6</td>\n",
       "      <td>S</td>\n",
       "      <td>17.0</td>\n",
       "      <td>5.0</td>\n",
       "      <td>NaN</td>\n",
       "      <td>51.0</td>\n",
       "      <td>-6.5</td>\n",
       "      <td>2.7</td>\n",
       "      <td>NaN</td>\n",
       "      <td>NaN</td>\n",
       "      <td>NaN</td>\n",
       "      <td>4.0</td>\n",
       "      <td>NaN</td>\n",
       "      <td>NaN</td>\n",
       "      <td>NaN</td>\n",
       "      <td>NaN</td>\n",
       "    </tr>\n",
       "    <tr>\n",
       "      <th>3</th>\n",
       "      <td>2018-12-18 13:00:00 MST</td>\n",
       "      <td>1545163200</td>\n",
       "      <td>91.66</td>\n",
       "      <td>99.6</td>\n",
       "      <td>SE</td>\n",
       "      <td>13.0</td>\n",
       "      <td>2.0</td>\n",
       "      <td>NaN</td>\n",
       "      <td>50.0</td>\n",
       "      <td>-6.4</td>\n",
       "      <td>2.9</td>\n",
       "      <td>NaN</td>\n",
       "      <td>NaN</td>\n",
       "      <td>NaN</td>\n",
       "      <td>3.9</td>\n",
       "      <td>NaN</td>\n",
       "      <td>NaN</td>\n",
       "      <td>NaN</td>\n",
       "      <td>NaN</td>\n",
       "    </tr>\n",
       "    <tr>\n",
       "      <th>4</th>\n",
       "      <td>2018-12-18 12:00:00 MST</td>\n",
       "      <td>1545159600</td>\n",
       "      <td>91.75</td>\n",
       "      <td>99.7</td>\n",
       "      <td>NaN</td>\n",
       "      <td>NaN</td>\n",
       "      <td>0.0</td>\n",
       "      <td>NaN</td>\n",
       "      <td>59.0</td>\n",
       "      <td>-6.6</td>\n",
       "      <td>0.5</td>\n",
       "      <td>NaN</td>\n",
       "      <td>NaN</td>\n",
       "      <td>NaN</td>\n",
       "      <td>4.1</td>\n",
       "      <td>NaN</td>\n",
       "      <td>NaN</td>\n",
       "      <td>NaN</td>\n",
       "      <td>NaN</td>\n",
       "    </tr>\n",
       "  </tbody>\n",
       "</table>\n",
       "</div>"
      ],
      "text/plain": [
       "           date_time_local    unixtime  pressure_station  pressure_sea  \\\n",
       "0  2018-12-18 16:00:00 MST  1545174000             91.73          99.7   \n",
       "1  2018-12-18 15:00:00 MST  1545170400             91.67          99.7   \n",
       "2  2018-12-18 14:00:00 MST  1545166800             91.67          99.6   \n",
       "3  2018-12-18 13:00:00 MST  1545163200             91.66          99.6   \n",
       "4  2018-12-18 12:00:00 MST  1545159600             91.75          99.7   \n",
       "\n",
       "  wind_dir  wind_dir_10s  wind_speed  wind_gust  relative_humidity  dew_point  \\\n",
       "0       SW          23.0         5.0        NaN               64.0       -7.3   \n",
       "1        S          18.0         5.0        NaN               65.0       -6.3   \n",
       "2        S          17.0         5.0        NaN               51.0       -6.5   \n",
       "3       SE          13.0         2.0        NaN               50.0       -6.4   \n",
       "4      NaN           NaN         0.0        NaN               59.0       -6.6   \n",
       "\n",
       "   temperature  windchill  humidex  visibility  health_index  cloud_cover_4  \\\n",
       "0         -1.3       -3.0      NaN         NaN           NaN            NaN   \n",
       "1         -0.5       -2.0      NaN         NaN           4.0            NaN   \n",
       "2          2.7        NaN      NaN         NaN           4.0            NaN   \n",
       "3          2.9        NaN      NaN         NaN           3.9            NaN   \n",
       "4          0.5        NaN      NaN         NaN           4.1            NaN   \n",
       "\n",
       "   cloud_cover_8  cloud_cover_10  solar_radiation  \n",
       "0            NaN             NaN              NaN  \n",
       "1            NaN             NaN              NaN  \n",
       "2            NaN             NaN              NaN  \n",
       "3            NaN             NaN              NaN  \n",
       "4            NaN             NaN              NaN  "
      ]
     },
     "execution_count": 44,
     "metadata": {},
     "output_type": "execute_result"
    }
   ],
   "source": [
    "weather_data.head()"
   ]
  },
  {
   "cell_type": "markdown",
   "metadata": {},
   "source": [
    "## Select dates range for mosquito data"
   ]
  },
  {
   "cell_type": "code",
   "execution_count": 45,
   "metadata": {},
   "outputs": [
    {
     "name": "stdout",
     "output_type": "stream",
     "text": [
      "Range of dates in mosquito dataset is 2017-05-09 to 2018-09-25\n"
     ]
    },
    {
     "data": {
      "text/html": [
       "<div>\n",
       "<style scoped>\n",
       "    .dataframe tbody tr th:only-of-type {\n",
       "        vertical-align: middle;\n",
       "    }\n",
       "\n",
       "    .dataframe tbody tr th {\n",
       "        vertical-align: top;\n",
       "    }\n",
       "\n",
       "    .dataframe thead th {\n",
       "        text-align: right;\n",
       "    }\n",
       "</style>\n",
       "<table border=\"1\" class=\"dataframe\">\n",
       "  <thead>\n",
       "    <tr style=\"text-align: right;\">\n",
       "      <th></th>\n",
       "      <th>Count</th>\n",
       "    </tr>\n",
       "    <tr>\n",
       "      <th>Trap Date</th>\n",
       "      <th></th>\n",
       "    </tr>\n",
       "  </thead>\n",
       "  <tbody>\n",
       "    <tr>\n",
       "      <th>2018-06-12</th>\n",
       "      <td>9938</td>\n",
       "    </tr>\n",
       "  </tbody>\n",
       "</table>\n",
       "</div>"
      ],
      "text/plain": [
       "            Count\n",
       "Trap Date        \n",
       "2018-06-12   9938"
      ]
     },
     "execution_count": 45,
     "metadata": {},
     "output_type": "execute_result"
    }
   ],
   "source": [
    "t_list = []\n",
    "for i in mos_data['Trap Date']:\n",
    "    i = str(i)\n",
    "    t1 = time.strptime(i,\"%m/%d/%Y %H:%M:%S AM\")\n",
    "    t2 = time.strftime(\"%Y-%m-%d\", t1)\n",
    "    t_list.append(t2)\n",
    "\n",
    "mos_data['Trap Date'] = t_list\n",
    "\n",
    "\n",
    "mos_data['Trap Date'] = pd.to_datetime(mos_data['Trap Date'])\n",
    "\n",
    "############data select#############\n",
    "start_remove = min(weather_data['date_time_local'])\n",
    "end_remove = max(weather_data['date_time_local'])\n",
    "mos_data_1 = mos_data.loc[(mos_data[\"Trap Date\"] > start_remove) & (mos_data[\"Trap Date\"] < end_remove) ]\n",
    "mos_date_start = str(mos_data_1['Trap Date'].dt.date.min())\n",
    "mos_date_end = str(mos_data_1['Trap Date'].dt.date.max())\n",
    "mos_date_range = mos_date_start +' to ' + mos_date_end\n",
    "print(\"Range of dates in mosquito dataset is {}\".format(mos_date_range))\n",
    "\n",
    "mos_data['Trap Date'] = pd.to_datetime(mos_data['Trap Date'])\n",
    "mos_range = (mos_data['Trap Date'] > mos_date_start) & (mos_data['Trap Date'] < mos_date_end)\n",
    "mos_data = mos_data.loc[mos_range]\n",
    "mos_data = mos_data.sort_values(by='Trap Date')\n",
    "\n",
    "\n",
    "mos_count = mos_data.groupby([\"Trap Date\"]).agg({\n",
    "    \"Count\":\"sum\",\n",
    "})\n",
    "mos_count[mos_count['Count'] == mos_count['Count'].max()]"
   ]
  },
  {
   "cell_type": "code",
   "execution_count": 46,
   "metadata": {
    "scrolled": true
   },
   "outputs": [
    {
     "data": {
      "text/html": [
       "<div>\n",
       "<style scoped>\n",
       "    .dataframe tbody tr th:only-of-type {\n",
       "        vertical-align: middle;\n",
       "    }\n",
       "\n",
       "    .dataframe tbody tr th {\n",
       "        vertical-align: top;\n",
       "    }\n",
       "\n",
       "    .dataframe thead th {\n",
       "        text-align: right;\n",
       "    }\n",
       "</style>\n",
       "<table border=\"1\" class=\"dataframe\">\n",
       "  <thead>\n",
       "    <tr style=\"text-align: right;\">\n",
       "      <th></th>\n",
       "      <th>Trap Date</th>\n",
       "      <th>Genus</th>\n",
       "      <th>Specific Epithet</th>\n",
       "      <th>Gender</th>\n",
       "      <th>IDd</th>\n",
       "      <th>Count</th>\n",
       "      <th>Trap Region</th>\n",
       "      <th>Include</th>\n",
       "      <th>Comparison Group</th>\n",
       "      <th>Latitude</th>\n",
       "      <th>Longitude</th>\n",
       "      <th>Location</th>\n",
       "    </tr>\n",
       "  </thead>\n",
       "  <tbody>\n",
       "    <tr>\n",
       "      <th>19195</th>\n",
       "      <td>2017-05-16</td>\n",
       "      <td>Ochlerotatus</td>\n",
       "      <td>Black legs</td>\n",
       "      <td>Female</td>\n",
       "      <td>UnID</td>\n",
       "      <td>13</td>\n",
       "      <td>Residential GC-South</td>\n",
       "      <td>NaN</td>\n",
       "      <td>Core</td>\n",
       "      <td>53.482057</td>\n",
       "      <td>-113.418346</td>\n",
       "      <td>POINT (-113.4183455 53.4820573)</td>\n",
       "    </tr>\n",
       "    <tr>\n",
       "      <th>6338</th>\n",
       "      <td>2017-05-16</td>\n",
       "      <td>Ochlerotatus</td>\n",
       "      <td>Black legs</td>\n",
       "      <td>Female</td>\n",
       "      <td>UnID</td>\n",
       "      <td>1</td>\n",
       "      <td>Outer Community-South1</td>\n",
       "      <td>NaN</td>\n",
       "      <td>Outer</td>\n",
       "      <td>53.333327</td>\n",
       "      <td>-113.531374</td>\n",
       "      <td>POINT (-113.5313737 53.3333269)</td>\n",
       "    </tr>\n",
       "    <tr>\n",
       "      <th>888</th>\n",
       "      <td>2017-05-16</td>\n",
       "      <td>Culiseta</td>\n",
       "      <td>alaskaensis</td>\n",
       "      <td>Female</td>\n",
       "      <td>NaN</td>\n",
       "      <td>1</td>\n",
       "      <td>Residential GC-South</td>\n",
       "      <td>NaN</td>\n",
       "      <td>Core</td>\n",
       "      <td>53.482057</td>\n",
       "      <td>-113.418346</td>\n",
       "      <td>POINT (-113.4183455 53.4820573)</td>\n",
       "    </tr>\n",
       "    <tr>\n",
       "      <th>26275</th>\n",
       "      <td>2017-05-16</td>\n",
       "      <td>Male</td>\n",
       "      <td>UnID</td>\n",
       "      <td>Male</td>\n",
       "      <td>UnID</td>\n",
       "      <td>1</td>\n",
       "      <td>River Valley-East-P1</td>\n",
       "      <td>NaN</td>\n",
       "      <td>Core</td>\n",
       "      <td>53.581417</td>\n",
       "      <td>-113.374561</td>\n",
       "      <td>POINT (-113.3745611 53.58141700000001)</td>\n",
       "    </tr>\n",
       "    <tr>\n",
       "      <th>18595</th>\n",
       "      <td>2017-05-16</td>\n",
       "      <td>Culiseta</td>\n",
       "      <td>inornata</td>\n",
       "      <td>Female</td>\n",
       "      <td>NaN</td>\n",
       "      <td>1</td>\n",
       "      <td>Rural-North West</td>\n",
       "      <td>NaN</td>\n",
       "      <td>Peripheral</td>\n",
       "      <td>53.619232</td>\n",
       "      <td>-113.712798</td>\n",
       "      <td>POINT (-113.7127984 53.6192317)</td>\n",
       "    </tr>\n",
       "  </tbody>\n",
       "</table>\n",
       "</div>"
      ],
      "text/plain": [
       "       Trap Date         Genus Specific Epithet  Gender   IDd  Count  \\\n",
       "19195 2017-05-16  Ochlerotatus       Black legs  Female  UnID     13   \n",
       "6338  2017-05-16  Ochlerotatus       Black legs  Female  UnID      1   \n",
       "888   2017-05-16      Culiseta      alaskaensis  Female   NaN      1   \n",
       "26275 2017-05-16          Male             UnID    Male  UnID      1   \n",
       "18595 2017-05-16      Culiseta         inornata  Female   NaN      1   \n",
       "\n",
       "                  Trap Region Include Comparison Group   Latitude   Longitude  \\\n",
       "19195    Residential GC-South     NaN             Core  53.482057 -113.418346   \n",
       "6338   Outer Community-South1     NaN            Outer  53.333327 -113.531374   \n",
       "888      Residential GC-South     NaN             Core  53.482057 -113.418346   \n",
       "26275    River Valley-East-P1     NaN             Core  53.581417 -113.374561   \n",
       "18595        Rural-North West     NaN       Peripheral  53.619232 -113.712798   \n",
       "\n",
       "                                     Location  \n",
       "19195         POINT (-113.4183455 53.4820573)  \n",
       "6338          POINT (-113.5313737 53.3333269)  \n",
       "888           POINT (-113.4183455 53.4820573)  \n",
       "26275  POINT (-113.3745611 53.58141700000001)  \n",
       "18595         POINT (-113.7127984 53.6192317)  "
      ]
     },
     "execution_count": 46,
     "metadata": {},
     "output_type": "execute_result"
    }
   ],
   "source": [
    "mos_data.head()"
   ]
  },
  {
   "cell_type": "code",
   "execution_count": 47,
   "metadata": {
    "scrolled": true
   },
   "outputs": [
    {
     "data": {
      "text/html": [
       "<div>\n",
       "<style scoped>\n",
       "    .dataframe tbody tr th:only-of-type {\n",
       "        vertical-align: middle;\n",
       "    }\n",
       "\n",
       "    .dataframe tbody tr th {\n",
       "        vertical-align: top;\n",
       "    }\n",
       "\n",
       "    .dataframe thead th {\n",
       "        text-align: right;\n",
       "    }\n",
       "</style>\n",
       "<table border=\"1\" class=\"dataframe\">\n",
       "  <thead>\n",
       "    <tr style=\"text-align: right;\">\n",
       "      <th></th>\n",
       "      <th>Count</th>\n",
       "    </tr>\n",
       "    <tr>\n",
       "      <th>Trap Date</th>\n",
       "      <th></th>\n",
       "    </tr>\n",
       "  </thead>\n",
       "  <tbody>\n",
       "    <tr>\n",
       "      <th>2017-05-16</th>\n",
       "      <td>29</td>\n",
       "    </tr>\n",
       "    <tr>\n",
       "      <th>2017-05-23</th>\n",
       "      <td>523</td>\n",
       "    </tr>\n",
       "    <tr>\n",
       "      <th>2017-05-30</th>\n",
       "      <td>363</td>\n",
       "    </tr>\n",
       "    <tr>\n",
       "      <th>2017-06-06</th>\n",
       "      <td>1656</td>\n",
       "    </tr>\n",
       "    <tr>\n",
       "      <th>2017-06-13</th>\n",
       "      <td>2969</td>\n",
       "    </tr>\n",
       "  </tbody>\n",
       "</table>\n",
       "</div>"
      ],
      "text/plain": [
       "            Count\n",
       "Trap Date        \n",
       "2017-05-16     29\n",
       "2017-05-23    523\n",
       "2017-05-30    363\n",
       "2017-06-06   1656\n",
       "2017-06-13   2969"
      ]
     },
     "execution_count": 47,
     "metadata": {},
     "output_type": "execute_result"
    }
   ],
   "source": [
    "mos_count.head()"
   ]
  },
  {
   "cell_type": "markdown",
   "metadata": {},
   "source": [
    "## Select dates range for weather data"
   ]
  },
  {
   "cell_type": "code",
   "execution_count": 48,
   "metadata": {},
   "outputs": [],
   "source": [
    "start_date1 = '2017-05-10'\n",
    "end_date1 = '2017-09-26'\n",
    "start_date2 = '2018-05-09'\n",
    "end_date2 = '2018-09-18'\n",
    "\n",
    "##############Drop MST###################\n",
    "weather_data.drop(columns=[\"visibility\", \"cloud_cover_4\", \"cloud_cover_8\", \"cloud_cover_10\", \"solar_radiation\", \"wind_gust\", \"windchill\", \"humidex\"], inplace=True)\n",
    "weather_data = weather_data.loc[weather_data['date_time_local'].str.contains('MDT')]\n",
    "\n",
    "\n",
    "t_list = []\n",
    "for i in weather_data['date_time_local']:\n",
    "    i = str(i)\n",
    "    t1 = time.strptime(i,\"%Y-%m-%d %H:%M:%S MDT\")\n",
    "    t2 = time.strftime(\"%Y-%m-%d\", t1)\n",
    "    t_list.append(t2)\n",
    "\n",
    "weather_data['date_time_local'] = t_list\n",
    "\n",
    "\n",
    "weather_data['date_time_local'] = pd.to_datetime(weather_data['date_time_local'])\n",
    "weather_range1 = (weather_data['date_time_local'] >= start_date1) & (weather_data['date_time_local'] <= end_date1)\n",
    "weather_data1 = weather_data.loc[weather_range1]\n",
    "weather_data1 = weather_data1.sort_values(by='date_time_local')\n",
    "\n",
    "\n",
    "weather_range2 = (weather_data['date_time_local'] >= start_date2) & (weather_data['date_time_local'] <= end_date2)\n",
    "weather_data2 = weather_data.loc[weather_range2]\n",
    "weather_data2 = weather_data2.sort_values(by='date_time_local')\n",
    "weather_data = weather_data1.append(weather_data2)"
   ]
  },
  {
   "cell_type": "code",
   "execution_count": 49,
   "metadata": {
    "scrolled": true
   },
   "outputs": [
    {
     "data": {
      "text/html": [
       "<div>\n",
       "<style scoped>\n",
       "    .dataframe tbody tr th:only-of-type {\n",
       "        vertical-align: middle;\n",
       "    }\n",
       "\n",
       "    .dataframe tbody tr th {\n",
       "        vertical-align: top;\n",
       "    }\n",
       "\n",
       "    .dataframe thead th {\n",
       "        text-align: right;\n",
       "    }\n",
       "</style>\n",
       "<table border=\"1\" class=\"dataframe\">\n",
       "  <thead>\n",
       "    <tr style=\"text-align: right;\">\n",
       "      <th></th>\n",
       "      <th>date_time_local</th>\n",
       "      <th>unixtime</th>\n",
       "      <th>pressure_station</th>\n",
       "      <th>pressure_sea</th>\n",
       "      <th>wind_dir</th>\n",
       "      <th>wind_dir_10s</th>\n",
       "      <th>wind_speed</th>\n",
       "      <th>relative_humidity</th>\n",
       "      <th>dew_point</th>\n",
       "      <th>temperature</th>\n",
       "      <th>health_index</th>\n",
       "    </tr>\n",
       "  </thead>\n",
       "  <tbody>\n",
       "    <tr>\n",
       "      <th>14105</th>\n",
       "      <td>2017-05-10</td>\n",
       "      <td>1494396000</td>\n",
       "      <td>93.58</td>\n",
       "      <td>101.5</td>\n",
       "      <td>ESE</td>\n",
       "      <td>11.0</td>\n",
       "      <td>5.0</td>\n",
       "      <td>53.0</td>\n",
       "      <td>2.2</td>\n",
       "      <td>11.6</td>\n",
       "      <td>3.6</td>\n",
       "    </tr>\n",
       "    <tr>\n",
       "      <th>14082</th>\n",
       "      <td>2017-05-10</td>\n",
       "      <td>1494478800</td>\n",
       "      <td>93.54</td>\n",
       "      <td>101.4</td>\n",
       "      <td>ENE</td>\n",
       "      <td>7.0</td>\n",
       "      <td>6.0</td>\n",
       "      <td>58.0</td>\n",
       "      <td>4.4</td>\n",
       "      <td>12.6</td>\n",
       "      <td>3.3</td>\n",
       "    </tr>\n",
       "    <tr>\n",
       "      <th>14083</th>\n",
       "      <td>2017-05-10</td>\n",
       "      <td>1494475200</td>\n",
       "      <td>93.50</td>\n",
       "      <td>101.4</td>\n",
       "      <td>ENE</td>\n",
       "      <td>6.0</td>\n",
       "      <td>8.0</td>\n",
       "      <td>56.0</td>\n",
       "      <td>4.9</td>\n",
       "      <td>13.7</td>\n",
       "      <td>3.3</td>\n",
       "    </tr>\n",
       "    <tr>\n",
       "      <th>14084</th>\n",
       "      <td>2017-05-10</td>\n",
       "      <td>1494471600</td>\n",
       "      <td>93.47</td>\n",
       "      <td>101.3</td>\n",
       "      <td>NE</td>\n",
       "      <td>5.0</td>\n",
       "      <td>10.0</td>\n",
       "      <td>53.0</td>\n",
       "      <td>5.8</td>\n",
       "      <td>15.4</td>\n",
       "      <td>3.3</td>\n",
       "    </tr>\n",
       "    <tr>\n",
       "      <th>14085</th>\n",
       "      <td>2017-05-10</td>\n",
       "      <td>1494468000</td>\n",
       "      <td>93.43</td>\n",
       "      <td>101.3</td>\n",
       "      <td>ENE</td>\n",
       "      <td>6.0</td>\n",
       "      <td>11.0</td>\n",
       "      <td>46.0</td>\n",
       "      <td>5.4</td>\n",
       "      <td>17.2</td>\n",
       "      <td>3.2</td>\n",
       "    </tr>\n",
       "  </tbody>\n",
       "</table>\n",
       "</div>"
      ],
      "text/plain": [
       "      date_time_local    unixtime  pressure_station  pressure_sea wind_dir  \\\n",
       "14105      2017-05-10  1494396000             93.58         101.5      ESE   \n",
       "14082      2017-05-10  1494478800             93.54         101.4      ENE   \n",
       "14083      2017-05-10  1494475200             93.50         101.4      ENE   \n",
       "14084      2017-05-10  1494471600             93.47         101.3       NE   \n",
       "14085      2017-05-10  1494468000             93.43         101.3      ENE   \n",
       "\n",
       "       wind_dir_10s  wind_speed  relative_humidity  dew_point  temperature  \\\n",
       "14105          11.0         5.0               53.0        2.2         11.6   \n",
       "14082           7.0         6.0               58.0        4.4         12.6   \n",
       "14083           6.0         8.0               56.0        4.9         13.7   \n",
       "14084           5.0        10.0               53.0        5.8         15.4   \n",
       "14085           6.0        11.0               46.0        5.4         17.2   \n",
       "\n",
       "       health_index  \n",
       "14105           3.6  \n",
       "14082           3.3  \n",
       "14083           3.3  \n",
       "14084           3.3  \n",
       "14085           3.2  "
      ]
     },
     "execution_count": 49,
     "metadata": {},
     "output_type": "execute_result"
    }
   ],
   "source": [
    "weather_data.head()"
   ]
  },
  {
   "cell_type": "markdown",
   "metadata": {},
   "source": [
    "## Seperate mosquito data by gender"
   ]
  },
  {
   "cell_type": "code",
   "execution_count": 50,
   "metadata": {},
   "outputs": [],
   "source": [
    "mos_data_male = mos_data.loc[mos_data['Gender'].str.contains('Male')]\n",
    "mos_data_female = mos_data.loc[mos_data['Gender'].str.contains('Female')]\n",
    "\n",
    "mos_count_male = mos_data_male.groupby([\"Trap Date\"]).agg({\n",
    "    \"Count\":\"sum\",\n",
    "})\n",
    "mos_count_male[mos_count_male['Count'] == mos_count_male['Count'].max()]\n",
    "\n",
    "\n",
    "mos_count_female = mos_data_female.groupby([\"Trap Date\"]).agg({\n",
    "    \"Count\":\"sum\",\n",
    "})\n",
    "mos_count_female[mos_count_female['Count'] == mos_count_female['Count'].max()]\n",
    "\n",
    "\n",
    "mos_count_male[\"Count_female\"] = mos_count_female[\"Count\"]\n",
    "mos_count_male['Gender'] = np.where(mos_count_male[\"Count\"] > mos_count_male[\"Count_female\"], 'Male', 'Female')\n",
    "#compare count\n",
    "\n",
    "gender = np.array(mos_count_male['Gender'])"
   ]
  },
  {
   "cell_type": "markdown",
   "metadata": {},
   "source": [
    "## Grouping both datasets\n",
    "- For justifications for the methods of grouping the weather data please refer to task 1"
   ]
  },
  {
   "cell_type": "markdown",
   "metadata": {},
   "source": [
    "#### weather data grouping by days then weekly"
   ]
  },
  {
   "cell_type": "code",
   "execution_count": 51,
   "metadata": {},
   "outputs": [
    {
     "name": "stdout",
     "output_type": "stream",
     "text": [
      "273\n"
     ]
    }
   ],
   "source": [
    "weather_data_grouped = weather_data.groupby('date_time_local', as_index=False).agg({\n",
    "    'pressure_station': lambda x: x.value_counts().index[0],\n",
    "    'pressure_sea': lambda x: x.median(),\n",
    "    'wind_dir_10s': lambda x: x.value_counts().index[0],\n",
    "    'wind_speed': lambda x: x.value_counts().index[0],\n",
    "    'dew_point': lambda x: x.value_counts().index[0],\n",
    "    'temperature': lambda x: x.value_counts().index[0],\n",
    "    'health_index': lambda x: round(x.mean(), 1)\n",
    "})\n",
    "\n",
    "print(len(weather_data_grouped.index))"
   ]
  },
  {
   "cell_type": "code",
   "execution_count": 52,
   "metadata": {
    "scrolled": true
   },
   "outputs": [
    {
     "data": {
      "text/html": [
       "<div>\n",
       "<style scoped>\n",
       "    .dataframe tbody tr th:only-of-type {\n",
       "        vertical-align: middle;\n",
       "    }\n",
       "\n",
       "    .dataframe tbody tr th {\n",
       "        vertical-align: top;\n",
       "    }\n",
       "\n",
       "    .dataframe thead th {\n",
       "        text-align: right;\n",
       "    }\n",
       "</style>\n",
       "<table border=\"1\" class=\"dataframe\">\n",
       "  <thead>\n",
       "    <tr style=\"text-align: right;\">\n",
       "      <th></th>\n",
       "      <th>date_time_local</th>\n",
       "      <th>pressure_station</th>\n",
       "      <th>pressure_sea</th>\n",
       "      <th>wind_dir_10s</th>\n",
       "      <th>wind_speed</th>\n",
       "      <th>dew_point</th>\n",
       "      <th>temperature</th>\n",
       "      <th>health_index</th>\n",
       "    </tr>\n",
       "  </thead>\n",
       "  <tbody>\n",
       "    <tr>\n",
       "      <th>0</th>\n",
       "      <td>2017-05-10</td>\n",
       "      <td>93.47</td>\n",
       "      <td>101.30</td>\n",
       "      <td>7.0</td>\n",
       "      <td>6.0</td>\n",
       "      <td>3.4</td>\n",
       "      <td>11.9</td>\n",
       "      <td>3.5</td>\n",
       "    </tr>\n",
       "    <tr>\n",
       "      <th>1</th>\n",
       "      <td>2017-05-11</td>\n",
       "      <td>93.61</td>\n",
       "      <td>101.40</td>\n",
       "      <td>11.0</td>\n",
       "      <td>6.0</td>\n",
       "      <td>5.9</td>\n",
       "      <td>7.2</td>\n",
       "      <td>3.2</td>\n",
       "    </tr>\n",
       "    <tr>\n",
       "      <th>2</th>\n",
       "      <td>2017-05-12</td>\n",
       "      <td>93.04</td>\n",
       "      <td>100.65</td>\n",
       "      <td>11.0</td>\n",
       "      <td>27.0</td>\n",
       "      <td>2.4</td>\n",
       "      <td>12.2</td>\n",
       "      <td>2.8</td>\n",
       "    </tr>\n",
       "    <tr>\n",
       "      <th>3</th>\n",
       "      <td>2017-05-13</td>\n",
       "      <td>92.37</td>\n",
       "      <td>100.40</td>\n",
       "      <td>9.0</td>\n",
       "      <td>9.0</td>\n",
       "      <td>5.3</td>\n",
       "      <td>6.3</td>\n",
       "      <td>1.8</td>\n",
       "    </tr>\n",
       "    <tr>\n",
       "      <th>4</th>\n",
       "      <td>2017-05-14</td>\n",
       "      <td>92.94</td>\n",
       "      <td>100.80</td>\n",
       "      <td>31.0</td>\n",
       "      <td>12.0</td>\n",
       "      <td>2.7</td>\n",
       "      <td>8.5</td>\n",
       "      <td>1.6</td>\n",
       "    </tr>\n",
       "    <tr>\n",
       "      <th>5</th>\n",
       "      <td>2017-05-15</td>\n",
       "      <td>92.94</td>\n",
       "      <td>100.90</td>\n",
       "      <td>23.0</td>\n",
       "      <td>8.0</td>\n",
       "      <td>4.4</td>\n",
       "      <td>5.5</td>\n",
       "      <td>2.0</td>\n",
       "    </tr>\n",
       "    <tr>\n",
       "      <th>6</th>\n",
       "      <td>2017-05-16</td>\n",
       "      <td>92.96</td>\n",
       "      <td>100.95</td>\n",
       "      <td>6.0</td>\n",
       "      <td>12.0</td>\n",
       "      <td>3.5</td>\n",
       "      <td>2.4</td>\n",
       "      <td>2.0</td>\n",
       "    </tr>\n",
       "  </tbody>\n",
       "</table>\n",
       "</div>"
      ],
      "text/plain": [
       "  date_time_local  pressure_station  pressure_sea  wind_dir_10s  wind_speed  \\\n",
       "0      2017-05-10             93.47        101.30           7.0         6.0   \n",
       "1      2017-05-11             93.61        101.40          11.0         6.0   \n",
       "2      2017-05-12             93.04        100.65          11.0        27.0   \n",
       "3      2017-05-13             92.37        100.40           9.0         9.0   \n",
       "4      2017-05-14             92.94        100.80          31.0        12.0   \n",
       "5      2017-05-15             92.94        100.90          23.0         8.0   \n",
       "6      2017-05-16             92.96        100.95           6.0        12.0   \n",
       "\n",
       "   dew_point  temperature  health_index  \n",
       "0        3.4         11.9           3.5  \n",
       "1        5.9          7.2           3.2  \n",
       "2        2.4         12.2           2.8  \n",
       "3        5.3          6.3           1.8  \n",
       "4        2.7          8.5           1.6  \n",
       "5        4.4          5.5           2.0  \n",
       "6        3.5          2.4           2.0  "
      ]
     },
     "execution_count": 52,
     "metadata": {},
     "output_type": "execute_result"
    }
   ],
   "source": [
    "weather_data_grouped.sort_values('date_time_local', inplace=True)\n",
    "weather_data_grouped.head(7)"
   ]
  },
  {
   "cell_type": "code",
   "execution_count": 53,
   "metadata": {},
   "outputs": [
    {
     "name": "stdout",
     "output_type": "stream",
     "text": [
      "39\n"
     ]
    }
   ],
   "source": [
    "weather_data_grouped = weather_data_grouped.groupby(weather_data_grouped.index // 7).agg({\n",
    "    'date_time_local': 'last',\n",
    "    'pressure_station': lambda x: x.value_counts().index[0],\n",
    "    'pressure_sea': lambda x: x.median(),\n",
    "    'wind_dir_10s': lambda x: x.value_counts().index[0],\n",
    "    'wind_speed': lambda x: x.value_counts().index[0],\n",
    "    'dew_point': lambda x: x.value_counts().index[0],\n",
    "    'temperature': lambda x: x.value_counts().index[0],\n",
    "    'health_index': lambda x: round(x.mean(), 1)\n",
    "})\n",
    "\n",
    "print(len(weather_data_grouped.index))\n",
    "\n",
    "## NOTE GROUPING DATA BY WEEK LED TO LOWER ACCURACY"
   ]
  },
  {
   "cell_type": "markdown",
   "metadata": {},
   "source": [
    "#### mosquito data grouping by date"
   ]
  },
  {
   "cell_type": "code",
   "execution_count": 54,
   "metadata": {},
   "outputs": [],
   "source": [
    "mos_data_grouped = mos_data.groupby(['Trap Date'], as_index=False).agg({\n",
    "    'Count' : 'sum',\n",
    "    'Genus': lambda x: x.value_counts().index[0],\n",
    "    'Gender': lambda x: x.value_counts().index[0]\n",
    "})"
   ]
  },
  {
   "cell_type": "markdown",
   "metadata": {},
   "source": [
    "#### merging both dataset by date"
   ]
  },
  {
   "cell_type": "code",
   "execution_count": 55,
   "metadata": {},
   "outputs": [],
   "source": [
    "merged_data = pd.merge(left=mos_data_grouped, right=weather_data_grouped, left_on='Trap Date', right_on='date_time_local')\n",
    "merged_data.drop(columns=['date_time_local'], inplace=True)"
   ]
  },
  {
   "cell_type": "code",
   "execution_count": 56,
   "metadata": {
    "scrolled": true
   },
   "outputs": [
    {
     "data": {
      "text/html": [
       "<div>\n",
       "<style scoped>\n",
       "    .dataframe tbody tr th:only-of-type {\n",
       "        vertical-align: middle;\n",
       "    }\n",
       "\n",
       "    .dataframe tbody tr th {\n",
       "        vertical-align: top;\n",
       "    }\n",
       "\n",
       "    .dataframe thead th {\n",
       "        text-align: right;\n",
       "    }\n",
       "</style>\n",
       "<table border=\"1\" class=\"dataframe\">\n",
       "  <thead>\n",
       "    <tr style=\"text-align: right;\">\n",
       "      <th></th>\n",
       "      <th>Trap Date</th>\n",
       "      <th>Count</th>\n",
       "      <th>Genus</th>\n",
       "      <th>Gender</th>\n",
       "      <th>pressure_station</th>\n",
       "      <th>pressure_sea</th>\n",
       "      <th>wind_dir_10s</th>\n",
       "      <th>wind_speed</th>\n",
       "      <th>dew_point</th>\n",
       "      <th>temperature</th>\n",
       "      <th>health_index</th>\n",
       "    </tr>\n",
       "  </thead>\n",
       "  <tbody>\n",
       "    <tr>\n",
       "      <th>0</th>\n",
       "      <td>2017-05-16</td>\n",
       "      <td>29</td>\n",
       "      <td>Culiseta</td>\n",
       "      <td>Female</td>\n",
       "      <td>92.94</td>\n",
       "      <td>100.90</td>\n",
       "      <td>11.0</td>\n",
       "      <td>12.0</td>\n",
       "      <td>5.3</td>\n",
       "      <td>2.4</td>\n",
       "      <td>2.4</td>\n",
       "    </tr>\n",
       "    <tr>\n",
       "      <th>1</th>\n",
       "      <td>2017-05-23</td>\n",
       "      <td>523</td>\n",
       "      <td>Ochlerotatus</td>\n",
       "      <td>Female</td>\n",
       "      <td>92.37</td>\n",
       "      <td>101.90</td>\n",
       "      <td>20.0</td>\n",
       "      <td>6.0</td>\n",
       "      <td>5.1</td>\n",
       "      <td>22.9</td>\n",
       "      <td>2.5</td>\n",
       "    </tr>\n",
       "    <tr>\n",
       "      <th>2</th>\n",
       "      <td>2017-05-30</td>\n",
       "      <td>363</td>\n",
       "      <td>Ochlerotatus</td>\n",
       "      <td>Female</td>\n",
       "      <td>94.06</td>\n",
       "      <td>101.30</td>\n",
       "      <td>15.0</td>\n",
       "      <td>21.0</td>\n",
       "      <td>5.3</td>\n",
       "      <td>11.0</td>\n",
       "      <td>2.5</td>\n",
       "    </tr>\n",
       "    <tr>\n",
       "      <th>3</th>\n",
       "      <td>2017-06-06</td>\n",
       "      <td>1656</td>\n",
       "      <td>Ochlerotatus</td>\n",
       "      <td>Female</td>\n",
       "      <td>93.81</td>\n",
       "      <td>101.05</td>\n",
       "      <td>31.0</td>\n",
       "      <td>12.0</td>\n",
       "      <td>7.7</td>\n",
       "      <td>11.8</td>\n",
       "      <td>2.8</td>\n",
       "    </tr>\n",
       "    <tr>\n",
       "      <th>4</th>\n",
       "      <td>2017-06-13</td>\n",
       "      <td>2969</td>\n",
       "      <td>Ochlerotatus</td>\n",
       "      <td>Female</td>\n",
       "      <td>91.87</td>\n",
       "      <td>100.85</td>\n",
       "      <td>34.0</td>\n",
       "      <td>16.0</td>\n",
       "      <td>6.6</td>\n",
       "      <td>10.4</td>\n",
       "      <td>2.5</td>\n",
       "    </tr>\n",
       "  </tbody>\n",
       "</table>\n",
       "</div>"
      ],
      "text/plain": [
       "   Trap Date  Count         Genus  Gender  pressure_station  pressure_sea  \\\n",
       "0 2017-05-16     29      Culiseta  Female             92.94        100.90   \n",
       "1 2017-05-23    523  Ochlerotatus  Female             92.37        101.90   \n",
       "2 2017-05-30    363  Ochlerotatus  Female             94.06        101.30   \n",
       "3 2017-06-06   1656  Ochlerotatus  Female             93.81        101.05   \n",
       "4 2017-06-13   2969  Ochlerotatus  Female             91.87        100.85   \n",
       "\n",
       "   wind_dir_10s  wind_speed  dew_point  temperature  health_index  \n",
       "0          11.0        12.0        5.3          2.4           2.4  \n",
       "1          20.0         6.0        5.1         22.9           2.5  \n",
       "2          15.0        21.0        5.3         11.0           2.5  \n",
       "3          31.0        12.0        7.7         11.8           2.8  \n",
       "4          34.0        16.0        6.6         10.4           2.5  "
      ]
     },
     "execution_count": 56,
     "metadata": {},
     "output_type": "execute_result"
    }
   ],
   "source": [
    "merged_data.head()"
   ]
  },
  {
   "cell_type": "markdown",
   "metadata": {},
   "source": [
    "#### split datasets into male and female datasets"
   ]
  },
  {
   "cell_type": "code",
   "execution_count": 57,
   "metadata": {},
   "outputs": [],
   "source": [
    "mos_data_male = mos_data.loc[mos_data['Gender'].str.contains('Male')]\n",
    "mos_data_female = mos_data.loc[mos_data['Gender'].str.contains('Female')]\n",
    "\n",
    "\n",
    "mos_count_male = mos_data_male.groupby([\"Trap Date\"], as_index=False).agg({\n",
    "    \"Count\":\"sum\",\n",
    "})\n",
    "mos_count_male[mos_count_male['Count'] == mos_count_male['Count'].max()]\n",
    "\n",
    "\n",
    "\n",
    "mos_count_female = mos_data_female.groupby([\"Trap Date\"], as_index=False).agg({\n",
    "    \"Count\":\"sum\",\n",
    "})\n",
    "mos_count_female[mos_count_female['Count'] == mos_count_female['Count'].max()]\n",
    "\n",
    "\n",
    "mos_count_male[\"Count_female\"] = mos_count_female[\"Count\"]\n",
    "mos_count_male['Gender'] = np.where(mos_count_male[\"Count\"] > mos_count_male[\"Count_female\"], 'Male', 'Female')"
   ]
  },
  {
   "cell_type": "code",
   "execution_count": 58,
   "metadata": {},
   "outputs": [],
   "source": [
    "t_list = []\n",
    "for i in mos_count_male['Trap Date']:\n",
    "    i = str(i)\n",
    "    t1 = time.strptime(i,\"%Y-%m-%d 00:00:00\")\n",
    "    t2 = time.strftime(\"%Y-%m-%d 00:00:00\", t1)\n",
    "    t_list.append(t2)\n",
    "\n",
    "mos_count_male['Trap Date'] = t_list"
   ]
  },
  {
   "cell_type": "code",
   "execution_count": 59,
   "metadata": {
    "scrolled": true
   },
   "outputs": [
    {
     "data": {
      "text/html": [
       "<div>\n",
       "<style scoped>\n",
       "    .dataframe tbody tr th:only-of-type {\n",
       "        vertical-align: middle;\n",
       "    }\n",
       "\n",
       "    .dataframe tbody tr th {\n",
       "        vertical-align: top;\n",
       "    }\n",
       "\n",
       "    .dataframe thead th {\n",
       "        text-align: right;\n",
       "    }\n",
       "</style>\n",
       "<table border=\"1\" class=\"dataframe\">\n",
       "  <thead>\n",
       "    <tr style=\"text-align: right;\">\n",
       "      <th></th>\n",
       "      <th>Trap Date</th>\n",
       "      <th>Count</th>\n",
       "      <th>Count_female</th>\n",
       "      <th>Gender</th>\n",
       "    </tr>\n",
       "  </thead>\n",
       "  <tbody>\n",
       "    <tr>\n",
       "      <th>0</th>\n",
       "      <td>2017-05-16 00:00:00</td>\n",
       "      <td>6</td>\n",
       "      <td>23</td>\n",
       "      <td>Female</td>\n",
       "    </tr>\n",
       "    <tr>\n",
       "      <th>1</th>\n",
       "      <td>2017-05-23 00:00:00</td>\n",
       "      <td>325</td>\n",
       "      <td>198</td>\n",
       "      <td>Male</td>\n",
       "    </tr>\n",
       "    <tr>\n",
       "      <th>2</th>\n",
       "      <td>2017-05-30 00:00:00</td>\n",
       "      <td>213</td>\n",
       "      <td>150</td>\n",
       "      <td>Male</td>\n",
       "    </tr>\n",
       "    <tr>\n",
       "      <th>3</th>\n",
       "      <td>2017-06-06 00:00:00</td>\n",
       "      <td>1130</td>\n",
       "      <td>526</td>\n",
       "      <td>Male</td>\n",
       "    </tr>\n",
       "    <tr>\n",
       "      <th>4</th>\n",
       "      <td>2017-06-13 00:00:00</td>\n",
       "      <td>1708</td>\n",
       "      <td>1261</td>\n",
       "      <td>Male</td>\n",
       "    </tr>\n",
       "  </tbody>\n",
       "</table>\n",
       "</div>"
      ],
      "text/plain": [
       "             Trap Date  Count  Count_female  Gender\n",
       "0  2017-05-16 00:00:00      6            23  Female\n",
       "1  2017-05-23 00:00:00    325           198    Male\n",
       "2  2017-05-30 00:00:00    213           150    Male\n",
       "3  2017-06-06 00:00:00   1130           526    Male\n",
       "4  2017-06-13 00:00:00   1708          1261    Male"
      ]
     },
     "execution_count": 59,
     "metadata": {},
     "output_type": "execute_result"
    }
   ],
   "source": [
    "mos_count_male.head()"
   ]
  },
  {
   "cell_type": "code",
   "execution_count": 60,
   "metadata": {
    "scrolled": true
   },
   "outputs": [
    {
     "data": {
      "text/html": [
       "<div>\n",
       "<style scoped>\n",
       "    .dataframe tbody tr th:only-of-type {\n",
       "        vertical-align: middle;\n",
       "    }\n",
       "\n",
       "    .dataframe tbody tr th {\n",
       "        vertical-align: top;\n",
       "    }\n",
       "\n",
       "    .dataframe thead th {\n",
       "        text-align: right;\n",
       "    }\n",
       "</style>\n",
       "<table border=\"1\" class=\"dataframe\">\n",
       "  <thead>\n",
       "    <tr style=\"text-align: right;\">\n",
       "      <th></th>\n",
       "      <th>Trap Date</th>\n",
       "      <th>Genus</th>\n",
       "      <th>Gender</th>\n",
       "      <th>pressure_station</th>\n",
       "      <th>pressure_sea</th>\n",
       "      <th>wind_dir_10s</th>\n",
       "      <th>wind_speed</th>\n",
       "      <th>dew_point</th>\n",
       "      <th>temperature</th>\n",
       "      <th>health_index</th>\n",
       "    </tr>\n",
       "  </thead>\n",
       "  <tbody>\n",
       "    <tr>\n",
       "      <th>0</th>\n",
       "      <td>2017-05-16</td>\n",
       "      <td>Culiseta</td>\n",
       "      <td>Female</td>\n",
       "      <td>92.94</td>\n",
       "      <td>100.90</td>\n",
       "      <td>11.0</td>\n",
       "      <td>12.0</td>\n",
       "      <td>5.3</td>\n",
       "      <td>2.4</td>\n",
       "      <td>2.4</td>\n",
       "    </tr>\n",
       "    <tr>\n",
       "      <th>1</th>\n",
       "      <td>2017-05-23</td>\n",
       "      <td>Ochlerotatus</td>\n",
       "      <td>Male</td>\n",
       "      <td>92.37</td>\n",
       "      <td>101.90</td>\n",
       "      <td>20.0</td>\n",
       "      <td>6.0</td>\n",
       "      <td>5.1</td>\n",
       "      <td>22.9</td>\n",
       "      <td>2.5</td>\n",
       "    </tr>\n",
       "    <tr>\n",
       "      <th>2</th>\n",
       "      <td>2017-05-30</td>\n",
       "      <td>Ochlerotatus</td>\n",
       "      <td>Male</td>\n",
       "      <td>94.06</td>\n",
       "      <td>101.30</td>\n",
       "      <td>15.0</td>\n",
       "      <td>21.0</td>\n",
       "      <td>5.3</td>\n",
       "      <td>11.0</td>\n",
       "      <td>2.5</td>\n",
       "    </tr>\n",
       "    <tr>\n",
       "      <th>3</th>\n",
       "      <td>2017-06-06</td>\n",
       "      <td>Ochlerotatus</td>\n",
       "      <td>Male</td>\n",
       "      <td>93.81</td>\n",
       "      <td>101.05</td>\n",
       "      <td>31.0</td>\n",
       "      <td>12.0</td>\n",
       "      <td>7.7</td>\n",
       "      <td>11.8</td>\n",
       "      <td>2.8</td>\n",
       "    </tr>\n",
       "    <tr>\n",
       "      <th>4</th>\n",
       "      <td>2017-06-13</td>\n",
       "      <td>Ochlerotatus</td>\n",
       "      <td>Male</td>\n",
       "      <td>91.87</td>\n",
       "      <td>100.85</td>\n",
       "      <td>34.0</td>\n",
       "      <td>16.0</td>\n",
       "      <td>6.6</td>\n",
       "      <td>10.4</td>\n",
       "      <td>2.5</td>\n",
       "    </tr>\n",
       "  </tbody>\n",
       "</table>\n",
       "</div>"
      ],
      "text/plain": [
       "   Trap Date         Genus  Gender  pressure_station  pressure_sea  \\\n",
       "0 2017-05-16      Culiseta  Female             92.94        100.90   \n",
       "1 2017-05-23  Ochlerotatus    Male             92.37        101.90   \n",
       "2 2017-05-30  Ochlerotatus    Male             94.06        101.30   \n",
       "3 2017-06-06  Ochlerotatus    Male             93.81        101.05   \n",
       "4 2017-06-13  Ochlerotatus    Male             91.87        100.85   \n",
       "\n",
       "   wind_dir_10s  wind_speed  dew_point  temperature  health_index  \n",
       "0          11.0        12.0        5.3          2.4           2.4  \n",
       "1          20.0         6.0        5.1         22.9           2.5  \n",
       "2          15.0        21.0        5.3         11.0           2.5  \n",
       "3          31.0        12.0        7.7         11.8           2.8  \n",
       "4          34.0        16.0        6.6         10.4           2.5  "
      ]
     },
     "execution_count": 60,
     "metadata": {},
     "output_type": "execute_result"
    }
   ],
   "source": [
    "merged_data[\"Gender\"] = mos_count_male[\"Gender\"]\n",
    "merged_data.drop(columns=['Count'], inplace=True)\n",
    "merged_data.head()"
   ]
  },
  {
   "cell_type": "markdown",
   "metadata": {},
   "source": [
    "# Classification"
   ]
  },
  {
   "cell_type": "markdown",
   "metadata": {},
   "source": [
    "## 1) Logistic Regression"
   ]
  },
  {
   "cell_type": "code",
   "execution_count": 61,
   "metadata": {},
   "outputs": [],
   "source": [
    "cat = merged_data['Gender'].values\n",
    "x1 = merged_data['dew_point'].values\n",
    "x2 = merged_data['temperature'].values"
   ]
  },
  {
   "cell_type": "code",
   "execution_count": 62,
   "metadata": {},
   "outputs": [],
   "source": [
    "cat1 = np.ones(len(cat)) #for pon-linear\n",
    "for j in range(len(cat)):\n",
    "    if cat[j]=='Male':\n",
    "        cat1[j] = 0\n",
    "    else:\n",
    "        cat1[j] = 1\n",
    "Labels = cat1.reshape(len(cat1),1)"
   ]
  },
  {
   "cell_type": "code",
   "execution_count": 63,
   "metadata": {
    "scrolled": true
   },
   "outputs": [
    {
     "data": {
      "image/png": "[encoded data removed]",
      "text/plain": [
       "<Figure size 432x288 with 1 Axes>"
      ]
     },
     "metadata": {
      "needs_background": "light"
     },
     "output_type": "display_data"
    }
   ],
   "source": [
    "plt.scatter(x1[cat=='Male'],x2[cat=='Male'], label='Male')\n",
    "plt.scatter(x1[cat=='Female'],x2[cat=='Female'], label='Female')\n",
    "plt.xlabel('dew_point')\n",
    "plt.ylabel('temperature')\n",
    "plt.legend()\n",
    "plt.show()\n",
    "\n",
    "# \n",
    "# pressure_station  pressure sea 0.67\n",
    "# pressure_station  wind_dir_10s  0.67\n",
    "# pressure_station  wind_speed  0.67\n",
    "# pressure_station  dew_point  0.718\n",
    "# pressure_station  temperature  0.67\n",
    "# health_index  0.67\n",
    "\n",
    "# pressure sea  wind_dir_10s  0.69\n",
    "# wind_speed  0.64\n",
    "# dew_point  0.718\n",
    "# temperature  0.615\n",
    "# health_index  0.718\n",
    "\n",
    "# wind_dir_10s  wind_speed  0.64\n",
    "# dew_point  0.718\n",
    "# temperature  0.615\n",
    "# health_index  0.69\n",
    "\n",
    "# wind_speed  dew_point  0.69\n",
    "# temperature  0.67\n",
    "# health_index  0.718\n",
    "\n",
    "# dew_point  temperature  0.77\n",
    "# health_index  0.69\n",
    "\n",
    "# temperature  health_index  0.718\n",
    "# "
   ]
  },
  {
   "cell_type": "markdown",
   "metadata": {},
   "source": [
    "#### Polynomial features"
   ]
  },
  {
   "cell_type": "code",
   "execution_count": 64,
   "metadata": {},
   "outputs": [],
   "source": [
    "x3 = (x1,x2)\n",
    "x3 = np.array(x3)\n",
    "x3 = x3.T\n",
    "\n",
    "poly_features = PolynomialFeatures(degree = 2)\n",
    "X_poly = poly_features.fit_transform(x3)\n"
   ]
  },
  {
   "cell_type": "markdown",
   "metadata": {},
   "source": [
    "#### Logistic regression with polynomial features and no regularization"
   ]
  },
  {
   "cell_type": "code",
   "execution_count": 65,
   "metadata": {},
   "outputs": [
    {
     "name": "stdout",
     "output_type": "stream",
     "text": [
      "    0  1\n",
      "0  16  4\n",
      "1  10  9\n",
      "Model accuracy: 0.6410256410256411\n",
      "Misclassified: 0.358974358974359\n",
      "% of error of true No: 38.46153846153847\n",
      "% of error of true Yes: 30.76923076923077\n"
     ]
    }
   ],
   "source": [
    "logreg = linear_model.LogisticRegression(solver='lbfgs',multi_class='auto')\n",
    "logreg.fit(X_poly,cat1)\n",
    "Yp = logreg.predict(X_poly)\n",
    "cm = confusion_matrix(cat1, Yp)\n",
    "print(pd.DataFrame(cm))\n",
    "tn, fp, fn, tp = cm.flatten()\n",
    "tot = np.sum(cm)\n",
    "print(\"Model accuracy:\",(tn+tp)/tot)\n",
    "print(\"Misclassified:\",(fn+fp)/tot)\n",
    "print(\"% of error of true No:\",fn/(fn+tn)*100)\n",
    "print(\"% of error of true Yes:\",fp/(fp+tp)*100)"
   ]
  },
  {
   "cell_type": "markdown",
   "metadata": {},
   "source": [
    "#### Logistic regression with polynomial features and L2 regularization"
   ]
  },
  {
   "cell_type": "code",
   "execution_count": 66,
   "metadata": {
    "scrolled": true
   },
   "outputs": [
    {
     "name": "stdout",
     "output_type": "stream",
     "text": [
      "    0   1\n",
      "0  17   3\n",
      "1   9  10\n",
      "Model accuracy: 0.6923076923076923\n",
      "Misclassified: 0.3076923076923077\n",
      "% of error of true No: 34.61538461538461\n",
      "% of error of true Yes: 23.076923076923077\n"
     ]
    }
   ],
   "source": [
    "logreg_r2 = linear_model.LogisticRegression(solver='liblinear',multi_class='auto', penalty=\"l2\")\n",
    "logreg_r2.fit(X_poly,cat1)\n",
    "Yp = logreg_r2.predict(X_poly)\n",
    "cm = confusion_matrix(cat1, Yp)\n",
    "print(pd.DataFrame(cm))\n",
    "tn, fp, fn, tp = cm.flatten()\n",
    "tot = np.sum(cm)\n",
    "print(\"Model accuracy:\",(tn+tp)/tot)\n",
    "print(\"Misclassified:\",(fn+fp)/tot)\n",
    "print(\"% of error of true No:\",fn/(fn+tn)*100)\n",
    "print(\"% of error of true Yes:\",fp/(fp+tp)*100)"
   ]
  },
  {
   "cell_type": "markdown",
   "metadata": {},
   "source": [
    "#### Logistic regression with polynomial features and L1 regularization"
   ]
  },
  {
   "cell_type": "code",
   "execution_count": 67,
   "metadata": {},
   "outputs": [
    {
     "name": "stdout",
     "output_type": "stream",
     "text": [
      "    0   1\n",
      "0  17   3\n",
      "1   8  11\n",
      "Model accuracy: 0.717948717948718\n",
      "Misclassified: 0.28205128205128205\n",
      "% of error of true No: 32.0\n",
      "% of error of true Yes: 21.428571428571427\n"
     ]
    }
   ],
   "source": [
    "logreg_r1 = linear_model.LogisticRegression(solver='liblinear',multi_class='auto', penalty=\"l1\")\n",
    "logreg_r1.fit(X_poly,cat1)\n",
    "Yp = logreg_r1.predict(X_poly)\n",
    "cm = confusion_matrix(cat1, Yp)\n",
    "print(pd.DataFrame(cm))\n",
    "tn, fp, fn, tp = cm.flatten()\n",
    "tot = np.sum(cm)\n",
    "print(\"Model accuracy:\",(tn+tp)/tot)\n",
    "print(\"Misclassified:\",(fn+fp)/tot)\n",
    "print(\"% of error of true No:\",fn/(fn+tn)*100)\n",
    "print(\"% of error of true Yes:\",fp/(fp+tp)*100)"
   ]
  },
  {
   "cell_type": "markdown",
   "metadata": {},
   "source": [
    "L1 regularization model creates the best results so its chosen."
   ]
  },
  {
   "cell_type": "code",
   "execution_count": 68,
   "metadata": {
    "scrolled": true
   },
   "outputs": [
    {
     "data": {
      "image/png": "[encoded data removed]",
      "text/plain": [
       "<Figure size 432x288 with 1 Axes>"
      ]
     },
     "metadata": {
      "needs_background": "light"
     },
     "output_type": "display_data"
    },
    {
     "name": "stdout",
     "output_type": "stream",
     "text": [
      "Model accuracy: 0.717948717948718\n"
     ]
    }
   ],
   "source": [
    "xg = np.linspace(x1.min(), x1.max(), len(x1))\n",
    "yg = np.linspace(x2.min(), x2.max(), len(x2))\n",
    "xx, yy = np.meshgrid(xg,yg)\n",
    "plt.xlim(xx.min(), xx.max())\n",
    "plt.ylim(yy.min(), yy.max())\n",
    "Xcont = poly_features.fit_transform(np.vstack((xx.ravel(),yy.ravel())).T)\n",
    "Z = logreg.predict(Xcont).reshape(xx.shape)\n",
    "plt.contour(xx,yy,Z,levels=1)\n",
    "plt.scatter(x1,x2,c=Yp)\n",
    "plt.title(\"Using scikit-learn\")\n",
    "plt.show()\n",
    "print(\"Model accuracy:\",accuracy_score(cat1,Yp))"
   ]
  },
  {
   "cell_type": "code",
   "execution_count": 69,
   "metadata": {
    "scrolled": true
   },
   "outputs": [
    {
     "data": {
      "image/png": "[encoded data removed]",
      "text/plain": [
       "<Figure size 432x288 with 1 Axes>"
      ]
     },
     "metadata": {
      "needs_background": "light"
     },
     "output_type": "display_data"
    }
   ],
   "source": [
    "Yprob = logreg.predict_proba(X_poly)\n",
    "# Compute ROC curve and ROC area\n",
    "fpr, tpr, _ = roc_curve(cat1, Yprob[:,1], pos_label=1)\n",
    "roc_auc = auc(fpr, tpr)\n",
    "plt.plot(fpr, tpr, label='ROC curve (area = %0.2f)' % roc_auc)\n",
    "plt.plot([0, 1], [0, 1], color='navy', linestyle='--')\n",
    "plt.xlabel('False Positive Rate')\n",
    "plt.ylabel('True Positive Rate')\n",
    "plt.legend(loc=\"lower right\")\n",
    "plt.show()"
   ]
  },
  {
   "cell_type": "markdown",
   "metadata": {},
   "source": [
    "## 2) SVM"
   ]
  },
  {
   "cell_type": "code",
   "execution_count": 70,
   "metadata": {},
   "outputs": [],
   "source": [
    "def plot_svm_decision_margin(model, plot_support=True):\n",
    "    ax = plt.gca()\n",
    "    xlim = ax.get_xlim()\n",
    "    ylim = ax.get_ylim()\n",
    "\n",
    "    # create grid to evaluate model\n",
    "    x = np.linspace(xlim[0], xlim[1], 30)\n",
    "    y = np.linspace(ylim[0], ylim[1], 30)\n",
    "    Y, X = np.meshgrid(y, x)\n",
    "    xy = np.vstack([X.ravel(), Y.ravel()]).T\n",
    "    P = model.decision_function(xy).reshape(X.shape)\n",
    "\n",
    "    # plot decision boundary and margins\n",
    "    ax.contour(X, Y, P, colors='k', levels=[-1, 0, 1], alpha=0.5,\n",
    "               linestyles=['--', '-', '--'])\n",
    "\n",
    "    # plot support vectors\n",
    "    if plot_support:\n",
    "        ax.scatter(model.support_vectors_[:, 0], model.support_vectors_[:, 1],\n",
    "                   s=200, linewidth=1, edgecolors='black', facecolors='none');\n",
    "    plt.show()"
   ]
  },
  {
   "cell_type": "markdown",
   "metadata": {},
   "source": [
    "#### SVM with linear kernal"
   ]
  },
  {
   "cell_type": "code",
   "execution_count": 71,
   "metadata": {
    "scrolled": false
   },
   "outputs": [
    {
     "data": {
      "image/png": "[encoded data removed]",
      "text/plain": [
       "<Figure size 432x288 with 1 Axes>"
      ]
     },
     "metadata": {
      "needs_background": "light"
     },
     "output_type": "display_data"
    },
    {
     "name": "stdout",
     "output_type": "stream",
     "text": [
      "Soft Margin Model accuracity: 0.717948717948718\n"
     ]
    }
   ],
   "source": [
    "model_soft = SVC(kernel='linear')\n",
    "model_soft.fit(x3, cat1)\n",
    "Yp_soft = model_soft.predict(x3)\n",
    "plt.scatter(x1, x2, c=Yp_soft, cmap='winter')\n",
    "plot_svm_decision_margin(model_soft)\n",
    "print(\"Soft Margin Model accuracity:\",accuracy_score(cat1,Yp_soft))"
   ]
  },
  {
   "cell_type": "markdown",
   "metadata": {},
   "source": [
    "#### SVM with rbf kernal"
   ]
  },
  {
   "cell_type": "code",
   "execution_count": 72,
   "metadata": {},
   "outputs": [
    {
     "data": {
      "image/png": "[encoded data removed]",
      "text/plain": [
       "<Figure size 432x288 with 1 Axes>"
      ]
     },
     "metadata": {
      "needs_background": "light"
     },
     "output_type": "display_data"
    },
    {
     "name": "stdout",
     "output_type": "stream",
     "text": [
      "Soft Margin Model accuracity: 0.9743589743589743\n"
     ]
    }
   ],
   "source": [
    "model_soft_rbf = SVC(kernel='rbf')\n",
    "model_soft_rbf.fit(x3, cat1)\n",
    "Yp_soft = model_soft_rbf.predict(x3)\n",
    "plt.scatter(x1, x2, c=Yp_soft, cmap='winter')\n",
    "plot_svm_decision_margin(model_soft_rbf)\n",
    "print(\"Soft Margin Model accuracity:\",accuracy_score(cat1,Yp_soft))"
   ]
  },
  {
   "cell_type": "markdown",
   "metadata": {},
   "source": [
    "## 3) Random forest"
   ]
  },
  {
   "cell_type": "code",
   "execution_count": 73,
   "metadata": {},
   "outputs": [],
   "source": [
    "from sklearn import tree\n",
    "\n",
    "def build_forest(X, y, n_trees, max_depth=None):\n",
    "    forest = []\n",
    "    for i in range(n_trees):\n",
    "        model = tree.ExtraTreeClassifier(max_depth=max_depth)\n",
    "        model.fit(X,y)\n",
    "        forest.append(model)\n",
    "    return forest\n",
    "\n",
    "def rf_predict(forest, X):\n",
    "    Yps = []\n",
    "    for m in forest:\n",
    "        Yps.append(m.predict(X))\n",
    "    Yps = np.array(Yps).T\n",
    "    Yp = []\n",
    "    for i in range(len(X)):\n",
    "        val, counts = np.unique(Yps[i], return_counts=True)\n",
    "        j = np.argmax(counts)\n",
    "        Yp.append(val[j])\n",
    "    return np.array(Yp).reshape(len(X),1)\n",
    "\n",
    "forest = build_forest(x3, cat1, 50, 12)\n",
    "\n",
    "def plot_decision_rf(X, Y, forest, title):\n",
    "    plot_step = 0.02\n",
    "    x_min, x_max = X[:, 0].min() - 1, X[:, 0].max() + 1\n",
    "    y_min, y_max = X[:, 1].min() - 1, X[:, 1].max() + 1\n",
    "    xx, yy = np.meshgrid(np.arange(x_min, x_max, plot_step),\n",
    "                         np.arange(y_min, y_max, plot_step))\n",
    "    Z = rf_predict(forest, np.c_[xx.ravel(), yy.ravel()])\n",
    "    Z = Z.reshape(xx.shape)\n",
    "    cs = plt.contourf(xx, yy, Z, cmap=plt.cm.Paired)\n",
    "    plt.scatter(X[:,0],X[:,1],c=Y)\n",
    "    plt.title(title)\n",
    "\n",
    "def plot_decision_sl(X, Y, tree, title):\n",
    "    plot_step = 0.02\n",
    "    x_min, x_max = X[:, 0].min() - 1, X[:, 0].max() + 1\n",
    "    y_min, y_max = X[:, 1].min() - 1, X[:, 1].max() + 1\n",
    "    xx, yy = np.meshgrid(np.arange(x_min, x_max, plot_step),\n",
    "                         np.arange(y_min, y_max, plot_step))\n",
    "    Z = tree.predict(np.c_[xx.ravel(), yy.ravel()])\n",
    "    Z = Z.reshape(xx.shape)\n",
    "    cs = plt.contourf(xx, yy, Z, cmap=plt.cm.Paired)\n",
    "    plt.scatter(X[:,0],X[:,1],c=Y)\n",
    "    plt.title(title)"
   ]
  },
  {
   "cell_type": "code",
   "execution_count": 74,
   "metadata": {},
   "outputs": [
    {
     "data": {
      "text/plain": [
       "RandomForestClassifier(bootstrap=True, class_weight=None, criterion='gini',\n",
       "            max_depth=12, max_features='auto', max_leaf_nodes=None,\n",
       "            min_impurity_decrease=0.0, min_impurity_split=None,\n",
       "            min_samples_leaf=1, min_samples_split=2,\n",
       "            min_weight_fraction_leaf=0.0, n_estimators=50, n_jobs=None,\n",
       "            oob_score=False, random_state=0, verbose=0, warm_start=False)"
      ]
     },
     "execution_count": 74,
     "metadata": {},
     "output_type": "execute_result"
    }
   ],
   "source": [
    "from sklearn.ensemble import RandomForestClassifier\n",
    "model = RandomForestClassifier(n_estimators=50, random_state=0, max_depth=12)\n",
    "model.fit(x3, cat1)"
   ]
  },
  {
   "cell_type": "code",
   "execution_count": 75,
   "metadata": {},
   "outputs": [
    {
     "data": {
      "image/png": "[encoded data removed]",
      "text/plain": [
       "<Figure size 432x288 with 1 Axes>"
      ]
     },
     "metadata": {
      "needs_background": "light"
     },
     "output_type": "display_data"
    }
   ],
   "source": [
    "plot_decision_sl(x3, cat1, model, \"Random Forest Scikit-learn\")"
   ]
  },
  {
   "cell_type": "code",
   "execution_count": 76,
   "metadata": {
    "scrolled": true
   },
   "outputs": [
    {
     "name": "stdout",
     "output_type": "stream",
     "text": [
      "Model accuracity (random forest scikit-learn): 1.0\n"
     ]
    }
   ],
   "source": [
    "Yp = model.predict(x3)\n",
    "print(\"Model accuracity (random forest scikit-learn):\",accuracy_score(cat1,Yp))"
   ]
  },
  {
   "cell_type": "markdown",
   "metadata": {},
   "source": [
    "# Evaluation"
   ]
  },
  {
   "cell_type": "code",
   "execution_count": 81,
   "metadata": {},
   "outputs": [
    {
     "name": "stdout",
     "output_type": "stream",
     "text": [
      "LR: 0.650000 (0.320156)\n",
      "SVM: 0.416667 (0.329140)\n",
      "RF: 0.525000 (0.305164)\n"
     ]
    }
   ],
   "source": [
    "from sklearn import model_selection\n",
    "\n",
    "# prepare configuration for cross validation test harness\n",
    "seed = 7\n",
    "\n",
    "models = []\n",
    "\n",
    "models.append(('LR', linear_model.LogisticRegression(solver='liblinear',multi_class='auto', penalty=\"l1\")))\n",
    "models.append(('SVM', SVC(kernel='rbf')))\n",
    "models.append(('RF', RandomForestClassifier(n_estimators=50, random_state=0, max_depth=12)))\n",
    "\n",
    "# evaluate each model in turn\n",
    "results = []\n",
    "names = []\n",
    "scoring = 'accuracy'\n",
    "for name, model in models:\n",
    "    kfold = model_selection.KFold(n_splits=10, random_state=seed)\n",
    "    if name == 'LR':\n",
    "        cv_results = model_selection.cross_val_score(model, X_poly, cat1, cv=kfold, scoring=scoring)\n",
    "    else:\n",
    "        cv_results = model_selection.cross_val_score(model, x3, cat1, cv=kfold, scoring=scoring)\n",
    "    results.append(cv_results)\n",
    "    names.append(name)\n",
    "    msg = \"%s: %f (%f)\" % (name, cv_results.mean(), cv_results.std())\n",
    "    print(msg)"
   ]
  },
  {
   "cell_type": "code",
   "execution_count": 82,
   "metadata": {},
   "outputs": [
    {
     "data": {
      "image/png": "[encoded data removed]",
      "text/plain": [
       "<Figure size 432x288 with 1 Axes>"
      ]
     },
     "metadata": {
      "needs_background": "light"
     },
     "output_type": "display_data"
    }
   ],
   "source": [
    "# boxplot algorithm comparison\n",
    "fig = plt.figure()\n",
    "fig.suptitle('Algorithm Comparison')\n",
    "ax = fig.add_subplot(111)\n",
    "plt.boxplot(results)\n",
    "ax.set_xticklabels(names)\n",
    "plt.show()"
   ]
  }
 ],
 "metadata": {
  "kernelspec": {
   "display_name": "Python 3",
   "language": "python",
   "name": "python3"
  },
  "language_info": {
   "codemirror_mode": {
    "name": "ipython",
    "version": 3
   },
   "file_extension": ".py",
   "mimetype": "text/x-python",
   "name": "python",
   "nbconvert_exporter": "python",
   "pygments_lexer": "ipython3",
   "version": "3.7.3"
  }
 },
 "nbformat": 4,
 "nbformat_minor": 2
}
