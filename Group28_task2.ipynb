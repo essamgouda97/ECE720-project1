{
 "cells": [
  {
   "cell_type": "markdown",
   "metadata": {},
   "source": [
    "### Group 28 members:\n",
    "- Jingze Tian (CCID)\n",
    "- Letian Ren (CCID)\n",
    "- Essam Gouda (egouda)"
   ]
  },
  {
   "cell_type": "markdown",
   "metadata": {},
   "source": [
    "# Task 2: Classification\n",
    "- Logistic Regression model for female OR male mosquito = function(weather_features)\n",
    "- Support Vector Machine model for female OR male mosquito = function(weather_features)\n",
    "- Random Forest model for female OR male mosquito = function(weather_features)\n",
    "\n",
    "#### Variations for each model:\n",
    "- 10-fold cross validation for each model was performed\n",
    "- t-test and ANOVA were used to compare model's performance"
   ]
  },
  {
   "cell_type": "markdown",
   "metadata": {},
   "source": [
    "# Imports"
   ]
  },
  {
   "cell_type": "code",
<<<<<<< HEAD
   "execution_count": 41,
=======
   "execution_count": 1,
>>>>>>> d5a9587c6b9d048ec8abbebd90399bf5093a6493
   "metadata": {},
   "outputs": [],
   "source": [
    "import pandas as pd\n",
    "import numpy as np\n",
    "import time\n",
    "from sklearn import linear_model\n",
    "import matplotlib.pyplot as plt\n",
    "from sklearn.metrics import confusion_matrix\n",
    "from sklearn.pipeline import Pipeline\n",
    "from sklearn.model_selection import cross_val_score\n",
    "from sklearn.metrics import mean_squared_error\n",
    "from sklearn.preprocessing import PolynomialFeatures\n",
    "from sklearn.svm import SVC\n",
    "from sklearn.metrics import accuracy_score\n",
    "from sklearn.metrics import roc_curve, auc\n",
    "from _datetime import datetime\n",
    "\n",
    "import warnings; warnings.simplefilter('ignore')"
   ]
  },
  {
   "cell_type": "markdown",
   "metadata": {},
   "source": [
    "# Read csv files (datasets)"
   ]
  },
  {
   "cell_type": "code",
<<<<<<< HEAD
   "execution_count": 42,
=======
   "execution_count": 2,
>>>>>>> d5a9587c6b9d048ec8abbebd90399bf5093a6493
   "metadata": {},
   "outputs": [],
   "source": [
    "weather_data = pd.read_csv('./data/weather_data.csv')\n",
    "mos_data = pd.read_csv('./data/mosquito_data_new.csv')"
   ]
  },
  {
   "cell_type": "code",
<<<<<<< HEAD
   "execution_count": 43,
=======
   "execution_count": 3,
>>>>>>> d5a9587c6b9d048ec8abbebd90399bf5093a6493
   "metadata": {},
   "outputs": [
    {
     "data": {
      "text/html": [
       "<div>\n",
       "<style scoped>\n",
       "    .dataframe tbody tr th:only-of-type {\n",
       "        vertical-align: middle;\n",
       "    }\n",
       "\n",
       "    .dataframe tbody tr th {\n",
       "        vertical-align: top;\n",
       "    }\n",
       "\n",
       "    .dataframe thead th {\n",
       "        text-align: right;\n",
       "    }\n",
       "</style>\n",
       "<table border=\"1\" class=\"dataframe\">\n",
       "  <thead>\n",
       "    <tr style=\"text-align: right;\">\n",
       "      <th></th>\n",
       "      <th>Trap Date</th>\n",
       "      <th>Genus</th>\n",
       "      <th>Specific Epithet</th>\n",
       "      <th>Gender</th>\n",
       "      <th>IDd</th>\n",
       "      <th>Count</th>\n",
       "      <th>Trap Region</th>\n",
       "      <th>Include</th>\n",
       "      <th>Comparison Group</th>\n",
       "      <th>Latitude</th>\n",
       "      <th>Longitude</th>\n",
       "      <th>Location</th>\n",
       "    </tr>\n",
       "  </thead>\n",
       "  <tbody>\n",
       "    <tr>\n",
       "      <th>0</th>\n",
       "      <td>09/15/2015 12:00:00 AM</td>\n",
       "      <td>Aedes</td>\n",
       "      <td>vexans</td>\n",
       "      <td>Female</td>\n",
       "      <td>NaN</td>\n",
       "      <td>3</td>\n",
       "      <td>Rural-West</td>\n",
       "      <td>NaN</td>\n",
       "      <td>Outer</td>\n",
       "      <td>53.562973</td>\n",
       "      <td>-113.787353</td>\n",
       "      <td>POINT (-113.787353 53.5629733)</td>\n",
       "    </tr>\n",
       "    <tr>\n",
       "      <th>1</th>\n",
       "      <td>05/12/1998 12:00:00 AM</td>\n",
       "      <td>Male</td>\n",
       "      <td>UnID</td>\n",
       "      <td>Male</td>\n",
       "      <td>UnID</td>\n",
       "      <td>1</td>\n",
       "      <td>Rural-North West</td>\n",
       "      <td>NaN</td>\n",
       "      <td>Peripheral</td>\n",
       "      <td>53.617221</td>\n",
       "      <td>-113.716182</td>\n",
       "      <td>POINT (-113.716182 53.617221)</td>\n",
       "    </tr>\n",
       "    <tr>\n",
       "      <th>2</th>\n",
       "      <td>08/28/2001 12:00:00 AM</td>\n",
       "      <td>Culex</td>\n",
       "      <td>tarsalis</td>\n",
       "      <td>Female</td>\n",
       "      <td>NaN</td>\n",
       "      <td>1</td>\n",
       "      <td>Rural-North West</td>\n",
       "      <td>NaN</td>\n",
       "      <td>Peripheral</td>\n",
       "      <td>53.617221</td>\n",
       "      <td>-113.716182</td>\n",
       "      <td>POINT (-113.716182 53.617221)</td>\n",
       "    </tr>\n",
       "    <tr>\n",
       "      <th>3</th>\n",
       "      <td>08/17/2004 12:00:00 AM</td>\n",
       "      <td>Culex</td>\n",
       "      <td>territans</td>\n",
       "      <td>Female</td>\n",
       "      <td>NaN</td>\n",
       "      <td>1</td>\n",
       "      <td>Rural-North West</td>\n",
       "      <td>NaN</td>\n",
       "      <td>Peripheral</td>\n",
       "      <td>53.617221</td>\n",
       "      <td>-113.716182</td>\n",
       "      <td>POINT (-113.716182 53.617221)</td>\n",
       "    </tr>\n",
       "    <tr>\n",
       "      <th>4</th>\n",
       "      <td>05/15/2018 12:00:00 AM</td>\n",
       "      <td>Culiseta</td>\n",
       "      <td>impatiens</td>\n",
       "      <td>Female</td>\n",
       "      <td>NaN</td>\n",
       "      <td>2</td>\n",
       "      <td>Rural-West</td>\n",
       "      <td>NaN</td>\n",
       "      <td>Outer</td>\n",
       "      <td>53.559020</td>\n",
       "      <td>-114.001190</td>\n",
       "      <td>POINT (-114.00119 53.559020000000004)</td>\n",
       "    </tr>\n",
       "  </tbody>\n",
       "</table>\n",
       "</div>"
      ],
      "text/plain": [
       "                Trap Date     Genus Specific Epithet  Gender   IDd  Count  \\\n",
       "0  09/15/2015 12:00:00 AM     Aedes           vexans  Female   NaN      3   \n",
       "1  05/12/1998 12:00:00 AM      Male             UnID    Male  UnID      1   \n",
       "2  08/28/2001 12:00:00 AM     Culex         tarsalis  Female   NaN      1   \n",
       "3  08/17/2004 12:00:00 AM     Culex        territans  Female   NaN      1   \n",
       "4  05/15/2018 12:00:00 AM  Culiseta        impatiens  Female   NaN      2   \n",
       "\n",
       "        Trap Region Include Comparison Group   Latitude   Longitude  \\\n",
       "0        Rural-West     NaN            Outer  53.562973 -113.787353   \n",
       "1  Rural-North West     NaN       Peripheral  53.617221 -113.716182   \n",
       "2  Rural-North West     NaN       Peripheral  53.617221 -113.716182   \n",
       "3  Rural-North West     NaN       Peripheral  53.617221 -113.716182   \n",
       "4        Rural-West     NaN            Outer  53.559020 -114.001190   \n",
       "\n",
       "                                Location  \n",
       "0         POINT (-113.787353 53.5629733)  \n",
       "1          POINT (-113.716182 53.617221)  \n",
       "2          POINT (-113.716182 53.617221)  \n",
       "3          POINT (-113.716182 53.617221)  \n",
       "4  POINT (-114.00119 53.559020000000004)  "
      ]
     },
<<<<<<< HEAD
     "execution_count": 43,
=======
     "execution_count": 3,
>>>>>>> d5a9587c6b9d048ec8abbebd90399bf5093a6493
     "metadata": {},
     "output_type": "execute_result"
    }
   ],
   "source": [
    "mos_data.head()"
   ]
  },
  {
   "cell_type": "code",
<<<<<<< HEAD
   "execution_count": 44,
=======
   "execution_count": 4,
>>>>>>> d5a9587c6b9d048ec8abbebd90399bf5093a6493
   "metadata": {},
   "outputs": [
    {
     "data": {
      "text/html": [
       "<div>\n",
       "<style scoped>\n",
       "    .dataframe tbody tr th:only-of-type {\n",
       "        vertical-align: middle;\n",
       "    }\n",
       "\n",
       "    .dataframe tbody tr th {\n",
       "        vertical-align: top;\n",
       "    }\n",
       "\n",
       "    .dataframe thead th {\n",
       "        text-align: right;\n",
       "    }\n",
       "</style>\n",
       "<table border=\"1\" class=\"dataframe\">\n",
       "  <thead>\n",
       "    <tr style=\"text-align: right;\">\n",
       "      <th></th>\n",
       "      <th>date_time_local</th>\n",
       "      <th>unixtime</th>\n",
       "      <th>pressure_station</th>\n",
       "      <th>pressure_sea</th>\n",
       "      <th>wind_dir</th>\n",
       "      <th>wind_dir_10s</th>\n",
       "      <th>wind_speed</th>\n",
       "      <th>wind_gust</th>\n",
       "      <th>relative_humidity</th>\n",
       "      <th>dew_point</th>\n",
       "      <th>temperature</th>\n",
       "      <th>windchill</th>\n",
       "      <th>humidex</th>\n",
       "      <th>visibility</th>\n",
       "      <th>health_index</th>\n",
       "      <th>cloud_cover_4</th>\n",
       "      <th>cloud_cover_8</th>\n",
       "      <th>cloud_cover_10</th>\n",
       "      <th>solar_radiation</th>\n",
       "    </tr>\n",
       "  </thead>\n",
       "  <tbody>\n",
       "    <tr>\n",
       "      <th>0</th>\n",
       "      <td>2018-12-18 16:00:00 MST</td>\n",
       "      <td>1545174000</td>\n",
       "      <td>91.73</td>\n",
       "      <td>99.7</td>\n",
       "      <td>SW</td>\n",
       "      <td>23.0</td>\n",
       "      <td>5.0</td>\n",
       "      <td>NaN</td>\n",
       "      <td>64.0</td>\n",
       "      <td>-7.3</td>\n",
       "      <td>-1.3</td>\n",
       "      <td>-3.0</td>\n",
       "      <td>NaN</td>\n",
       "      <td>NaN</td>\n",
       "      <td>NaN</td>\n",
       "      <td>NaN</td>\n",
       "      <td>NaN</td>\n",
       "      <td>NaN</td>\n",
       "      <td>NaN</td>\n",
       "    </tr>\n",
       "    <tr>\n",
       "      <th>1</th>\n",
       "      <td>2018-12-18 15:00:00 MST</td>\n",
       "      <td>1545170400</td>\n",
       "      <td>91.67</td>\n",
       "      <td>99.7</td>\n",
       "      <td>S</td>\n",
       "      <td>18.0</td>\n",
       "      <td>5.0</td>\n",
       "      <td>NaN</td>\n",
       "      <td>65.0</td>\n",
       "      <td>-6.3</td>\n",
       "      <td>-0.5</td>\n",
       "      <td>-2.0</td>\n",
       "      <td>NaN</td>\n",
       "      <td>NaN</td>\n",
       "      <td>4.0</td>\n",
       "      <td>NaN</td>\n",
       "      <td>NaN</td>\n",
       "      <td>NaN</td>\n",
       "      <td>NaN</td>\n",
       "    </tr>\n",
       "    <tr>\n",
       "      <th>2</th>\n",
       "      <td>2018-12-18 14:00:00 MST</td>\n",
       "      <td>1545166800</td>\n",
       "      <td>91.67</td>\n",
       "      <td>99.6</td>\n",
       "      <td>S</td>\n",
       "      <td>17.0</td>\n",
       "      <td>5.0</td>\n",
       "      <td>NaN</td>\n",
       "      <td>51.0</td>\n",
       "      <td>-6.5</td>\n",
       "      <td>2.7</td>\n",
       "      <td>NaN</td>\n",
       "      <td>NaN</td>\n",
       "      <td>NaN</td>\n",
       "      <td>4.0</td>\n",
       "      <td>NaN</td>\n",
       "      <td>NaN</td>\n",
       "      <td>NaN</td>\n",
       "      <td>NaN</td>\n",
       "    </tr>\n",
       "    <tr>\n",
       "      <th>3</th>\n",
       "      <td>2018-12-18 13:00:00 MST</td>\n",
       "      <td>1545163200</td>\n",
       "      <td>91.66</td>\n",
       "      <td>99.6</td>\n",
       "      <td>SE</td>\n",
       "      <td>13.0</td>\n",
       "      <td>2.0</td>\n",
       "      <td>NaN</td>\n",
       "      <td>50.0</td>\n",
       "      <td>-6.4</td>\n",
       "      <td>2.9</td>\n",
       "      <td>NaN</td>\n",
       "      <td>NaN</td>\n",
       "      <td>NaN</td>\n",
       "      <td>3.9</td>\n",
       "      <td>NaN</td>\n",
       "      <td>NaN</td>\n",
       "      <td>NaN</td>\n",
       "      <td>NaN</td>\n",
       "    </tr>\n",
       "    <tr>\n",
       "      <th>4</th>\n",
       "      <td>2018-12-18 12:00:00 MST</td>\n",
       "      <td>1545159600</td>\n",
       "      <td>91.75</td>\n",
       "      <td>99.7</td>\n",
       "      <td>NaN</td>\n",
       "      <td>NaN</td>\n",
       "      <td>0.0</td>\n",
       "      <td>NaN</td>\n",
       "      <td>59.0</td>\n",
       "      <td>-6.6</td>\n",
       "      <td>0.5</td>\n",
       "      <td>NaN</td>\n",
       "      <td>NaN</td>\n",
       "      <td>NaN</td>\n",
       "      <td>4.1</td>\n",
       "      <td>NaN</td>\n",
       "      <td>NaN</td>\n",
       "      <td>NaN</td>\n",
       "      <td>NaN</td>\n",
       "    </tr>\n",
       "  </tbody>\n",
       "</table>\n",
       "</div>"
      ],
      "text/plain": [
       "           date_time_local    unixtime  pressure_station  pressure_sea  \\\n",
       "0  2018-12-18 16:00:00 MST  1545174000             91.73          99.7   \n",
       "1  2018-12-18 15:00:00 MST  1545170400             91.67          99.7   \n",
       "2  2018-12-18 14:00:00 MST  1545166800             91.67          99.6   \n",
       "3  2018-12-18 13:00:00 MST  1545163200             91.66          99.6   \n",
       "4  2018-12-18 12:00:00 MST  1545159600             91.75          99.7   \n",
       "\n",
       "  wind_dir  wind_dir_10s  wind_speed  wind_gust  relative_humidity  dew_point  \\\n",
       "0       SW          23.0         5.0        NaN               64.0       -7.3   \n",
       "1        S          18.0         5.0        NaN               65.0       -6.3   \n",
       "2        S          17.0         5.0        NaN               51.0       -6.5   \n",
       "3       SE          13.0         2.0        NaN               50.0       -6.4   \n",
       "4      NaN           NaN         0.0        NaN               59.0       -6.6   \n",
       "\n",
       "   temperature  windchill  humidex  visibility  health_index  cloud_cover_4  \\\n",
       "0         -1.3       -3.0      NaN         NaN           NaN            NaN   \n",
       "1         -0.5       -2.0      NaN         NaN           4.0            NaN   \n",
       "2          2.7        NaN      NaN         NaN           4.0            NaN   \n",
       "3          2.9        NaN      NaN         NaN           3.9            NaN   \n",
       "4          0.5        NaN      NaN         NaN           4.1            NaN   \n",
       "\n",
       "   cloud_cover_8  cloud_cover_10  solar_radiation  \n",
       "0            NaN             NaN              NaN  \n",
       "1            NaN             NaN              NaN  \n",
       "2            NaN             NaN              NaN  \n",
       "3            NaN             NaN              NaN  \n",
       "4            NaN             NaN              NaN  "
      ]
     },
<<<<<<< HEAD
     "execution_count": 44,
=======
     "execution_count": 4,
>>>>>>> d5a9587c6b9d048ec8abbebd90399bf5093a6493
     "metadata": {},
     "output_type": "execute_result"
    }
   ],
   "source": [
    "weather_data.head()"
   ]
  },
  {
<<<<<<< HEAD
=======
   "cell_type": "code",
   "execution_count": 5,
   "metadata": {},
   "outputs": [],
   "source": [
    "first_row = {'Trap Date':['05/09/2017 12:00:00 AM'], 'Gender':'Male', 'Count':0}\n",
    "first_row = pd.DataFrame(first_row)\n",
    "mos_data = mos_data.append(first_row)"
   ]
  },
  {
>>>>>>> d5a9587c6b9d048ec8abbebd90399bf5093a6493
   "cell_type": "markdown",
   "metadata": {},
   "source": [
    "## Select dates range for mosquito data"
   ]
  },
  {
   "cell_type": "code",
<<<<<<< HEAD
   "execution_count": 45,
=======
   "execution_count": 6,
>>>>>>> d5a9587c6b9d048ec8abbebd90399bf5093a6493
   "metadata": {},
   "outputs": [
    {
     "name": "stdout",
     "output_type": "stream",
     "text": [
      "Range of dates in mosquito dataset is 2017-05-09 to 2018-09-25\n"
     ]
    },
    {
     "data": {
      "text/html": [
       "<div>\n",
       "<style scoped>\n",
       "    .dataframe tbody tr th:only-of-type {\n",
       "        vertical-align: middle;\n",
       "    }\n",
       "\n",
       "    .dataframe tbody tr th {\n",
       "        vertical-align: top;\n",
       "    }\n",
       "\n",
       "    .dataframe thead th {\n",
       "        text-align: right;\n",
       "    }\n",
       "</style>\n",
       "<table border=\"1\" class=\"dataframe\">\n",
       "  <thead>\n",
       "    <tr style=\"text-align: right;\">\n",
       "      <th></th>\n",
       "      <th>Count</th>\n",
       "    </tr>\n",
       "    <tr>\n",
       "      <th>Trap Date</th>\n",
       "      <th></th>\n",
       "    </tr>\n",
       "  </thead>\n",
       "  <tbody>\n",
       "    <tr>\n",
       "      <th>2018-06-12</th>\n",
       "      <td>9938</td>\n",
       "    </tr>\n",
       "  </tbody>\n",
       "</table>\n",
       "</div>"
      ],
      "text/plain": [
       "            Count\n",
       "Trap Date        \n",
       "2018-06-12   9938"
      ]
     },
<<<<<<< HEAD
     "execution_count": 45,
=======
     "execution_count": 6,
>>>>>>> d5a9587c6b9d048ec8abbebd90399bf5093a6493
     "metadata": {},
     "output_type": "execute_result"
    }
   ],
   "source": [
    "t_list = []\n",
    "for i in mos_data['Trap Date']:\n",
    "    i = str(i)\n",
    "    t1 = time.strptime(i,\"%m/%d/%Y %H:%M:%S AM\")\n",
    "    t2 = time.strftime(\"%Y-%m-%d\", t1)\n",
    "    t_list.append(t2)\n",
    "\n",
    "mos_data['Trap Date'] = t_list\n",
    "\n",
    "\n",
    "mos_data['Trap Date'] = pd.to_datetime(mos_data['Trap Date'])\n",
    "\n",
    "############data select#############\n",
    "start_remove = min(weather_data['date_time_local'])\n",
    "end_remove = max(weather_data['date_time_local'])\n",
<<<<<<< HEAD
    "mos_data_1 = mos_data.loc[(mos_data[\"Trap Date\"] > start_remove) & (mos_data[\"Trap Date\"] < end_remove) ]\n",
=======
    "mos_data_1 = mos_data.loc[(mos_data[\"Trap Date\"] >= start_remove) & (mos_data[\"Trap Date\"] <= end_remove) ]\n",
>>>>>>> d5a9587c6b9d048ec8abbebd90399bf5093a6493
    "mos_date_start = str(mos_data_1['Trap Date'].dt.date.min())\n",
    "mos_date_end = str(mos_data_1['Trap Date'].dt.date.max())\n",
    "mos_date_range = mos_date_start +' to ' + mos_date_end\n",
    "print(\"Range of dates in mosquito dataset is {}\".format(mos_date_range))\n",
    "\n",
    "mos_data['Trap Date'] = pd.to_datetime(mos_data['Trap Date'])\n",
<<<<<<< HEAD
    "mos_range = (mos_data['Trap Date'] > mos_date_start) & (mos_data['Trap Date'] < mos_date_end)\n",
=======
    "mos_range = (mos_data['Trap Date'] >= mos_date_start) & (mos_data['Trap Date'] <= mos_date_end)\n",
>>>>>>> d5a9587c6b9d048ec8abbebd90399bf5093a6493
    "mos_data = mos_data.loc[mos_range]\n",
    "mos_data = mos_data.sort_values(by='Trap Date')\n",
    "\n",
    "\n",
    "mos_count = mos_data.groupby([\"Trap Date\"]).agg({\n",
    "    \"Count\":\"sum\",\n",
    "})\n",
    "mos_count[mos_count['Count'] == mos_count['Count'].max()]"
   ]
  },
  {
   "cell_type": "code",
<<<<<<< HEAD
   "execution_count": 46,
=======
   "execution_count": 7,
>>>>>>> d5a9587c6b9d048ec8abbebd90399bf5093a6493
   "metadata": {
    "scrolled": true
   },
   "outputs": [
    {
     "data": {
      "text/html": [
       "<div>\n",
       "<style scoped>\n",
       "    .dataframe tbody tr th:only-of-type {\n",
       "        vertical-align: middle;\n",
       "    }\n",
       "\n",
       "    .dataframe tbody tr th {\n",
       "        vertical-align: top;\n",
       "    }\n",
       "\n",
       "    .dataframe thead th {\n",
       "        text-align: right;\n",
       "    }\n",
       "</style>\n",
       "<table border=\"1\" class=\"dataframe\">\n",
       "  <thead>\n",
       "    <tr style=\"text-align: right;\">\n",
       "      <th></th>\n",
       "      <th>Trap Date</th>\n",
       "      <th>Genus</th>\n",
       "      <th>Specific Epithet</th>\n",
       "      <th>Gender</th>\n",
       "      <th>IDd</th>\n",
       "      <th>Count</th>\n",
       "      <th>Trap Region</th>\n",
       "      <th>Include</th>\n",
       "      <th>Comparison Group</th>\n",
       "      <th>Latitude</th>\n",
       "      <th>Longitude</th>\n",
       "      <th>Location</th>\n",
       "    </tr>\n",
       "  </thead>\n",
       "  <tbody>\n",
       "    <tr>\n",
<<<<<<< HEAD
       "      <th>19195</th>\n",
       "      <td>2017-05-16</td>\n",
       "      <td>Ochlerotatus</td>\n",
       "      <td>Black legs</td>\n",
       "      <td>Female</td>\n",
       "      <td>UnID</td>\n",
       "      <td>13</td>\n",
       "      <td>Residential GC-South</td>\n",
       "      <td>NaN</td>\n",
       "      <td>Core</td>\n",
       "      <td>53.482057</td>\n",
       "      <td>-113.418346</td>\n",
       "      <td>POINT (-113.4183455 53.4820573)</td>\n",
       "    </tr>\n",
       "    <tr>\n",
       "      <th>6338</th>\n",
       "      <td>2017-05-16</td>\n",
       "      <td>Ochlerotatus</td>\n",
       "      <td>Black legs</td>\n",
       "      <td>Female</td>\n",
       "      <td>UnID</td>\n",
       "      <td>1</td>\n",
       "      <td>Outer Community-South1</td>\n",
       "      <td>NaN</td>\n",
       "      <td>Outer</td>\n",
       "      <td>53.333327</td>\n",
       "      <td>-113.531374</td>\n",
       "      <td>POINT (-113.5313737 53.3333269)</td>\n",
       "    </tr>\n",
       "    <tr>\n",
       "      <th>888</th>\n",
       "      <td>2017-05-16</td>\n",
       "      <td>Culiseta</td>\n",
       "      <td>alaskaensis</td>\n",
       "      <td>Female</td>\n",
       "      <td>NaN</td>\n",
       "      <td>1</td>\n",
       "      <td>Residential GC-South</td>\n",
       "      <td>NaN</td>\n",
       "      <td>Core</td>\n",
       "      <td>53.482057</td>\n",
       "      <td>-113.418346</td>\n",
       "      <td>POINT (-113.4183455 53.4820573)</td>\n",
       "    </tr>\n",
       "    <tr>\n",
       "      <th>26275</th>\n",
       "      <td>2017-05-16</td>\n",
       "      <td>Male</td>\n",
       "      <td>UnID</td>\n",
       "      <td>Male</td>\n",
       "      <td>UnID</td>\n",
       "      <td>1</td>\n",
       "      <td>River Valley-East-P1</td>\n",
       "      <td>NaN</td>\n",
       "      <td>Core</td>\n",
       "      <td>53.581417</td>\n",
       "      <td>-113.374561</td>\n",
       "      <td>POINT (-113.3745611 53.58141700000001)</td>\n",
       "    </tr>\n",
       "    <tr>\n",
       "      <th>18595</th>\n",
       "      <td>2017-05-16</td>\n",
=======
       "      <th>0</th>\n",
       "      <td>2017-05-09</td>\n",
       "      <td>NaN</td>\n",
       "      <td>NaN</td>\n",
       "      <td>Male</td>\n",
       "      <td>NaN</td>\n",
       "      <td>0</td>\n",
       "      <td>NaN</td>\n",
       "      <td>NaN</td>\n",
       "      <td>NaN</td>\n",
       "      <td>NaN</td>\n",
       "      <td>NaN</td>\n",
       "      <td>NaN</td>\n",
       "    </tr>\n",
       "    <tr>\n",
       "      <th>6843</th>\n",
       "      <td>2017-05-09</td>\n",
       "      <td>Culiseta</td>\n",
       "      <td>inornata</td>\n",
       "      <td>Female</td>\n",
       "      <td>NaN</td>\n",
       "      <td>2</td>\n",
       "      <td>Rural-West</td>\n",
       "      <td>NaN</td>\n",
       "      <td>Outer</td>\n",
       "      <td>53.562973</td>\n",
       "      <td>-113.787353</td>\n",
       "      <td>POINT (-113.787353 53.5629733)</td>\n",
       "    </tr>\n",
       "    <tr>\n",
       "      <th>17781</th>\n",
       "      <td>2017-05-09</td>\n",
       "      <td>Culiseta</td>\n",
       "      <td>inornata</td>\n",
       "      <td>Female</td>\n",
       "      <td>NaN</td>\n",
       "      <td>1</td>\n",
       "      <td>Rural-North West</td>\n",
       "      <td>NaN</td>\n",
       "      <td>Peripheral</td>\n",
       "      <td>53.619232</td>\n",
       "      <td>-113.712798</td>\n",
       "      <td>POINT (-113.7127984 53.6192317)</td>\n",
       "    </tr>\n",
       "    <tr>\n",
       "      <th>19436</th>\n",
       "      <td>2017-05-09</td>\n",
       "      <td>Culiseta</td>\n",
       "      <td>alaskaensis</td>\n",
       "      <td>Female</td>\n",
       "      <td>NaN</td>\n",
       "      <td>2</td>\n",
       "      <td>Rural-South West</td>\n",
       "      <td>NaN</td>\n",
       "      <td>Peripheral</td>\n",
       "      <td>53.528587</td>\n",
       "      <td>-113.738070</td>\n",
       "      <td>POINT (-113.7380701 53.5285872)</td>\n",
       "    </tr>\n",
       "    <tr>\n",
       "      <th>16953</th>\n",
       "      <td>2017-05-09</td>\n",
>>>>>>> d5a9587c6b9d048ec8abbebd90399bf5093a6493
       "      <td>Culiseta</td>\n",
       "      <td>inornata</td>\n",
       "      <td>Female</td>\n",
       "      <td>NaN</td>\n",
<<<<<<< HEAD
       "      <td>1</td>\n",
       "      <td>Rural-North West</td>\n",
       "      <td>NaN</td>\n",
       "      <td>Peripheral</td>\n",
       "      <td>53.619232</td>\n",
       "      <td>-113.712798</td>\n",
       "      <td>POINT (-113.7127984 53.6192317)</td>\n",
=======
       "      <td>2</td>\n",
       "      <td>Outer Community-South1</td>\n",
       "      <td>NaN</td>\n",
       "      <td>Outer</td>\n",
       "      <td>53.333327</td>\n",
       "      <td>-113.531374</td>\n",
       "      <td>POINT (-113.5313737 53.3333269)</td>\n",
>>>>>>> d5a9587c6b9d048ec8abbebd90399bf5093a6493
       "    </tr>\n",
       "  </tbody>\n",
       "</table>\n",
       "</div>"
      ],
      "text/plain": [
<<<<<<< HEAD
       "       Trap Date         Genus Specific Epithet  Gender   IDd  Count  \\\n",
       "19195 2017-05-16  Ochlerotatus       Black legs  Female  UnID     13   \n",
       "6338  2017-05-16  Ochlerotatus       Black legs  Female  UnID      1   \n",
       "888   2017-05-16      Culiseta      alaskaensis  Female   NaN      1   \n",
       "26275 2017-05-16          Male             UnID    Male  UnID      1   \n",
       "18595 2017-05-16      Culiseta         inornata  Female   NaN      1   \n",
       "\n",
       "                  Trap Region Include Comparison Group   Latitude   Longitude  \\\n",
       "19195    Residential GC-South     NaN             Core  53.482057 -113.418346   \n",
       "6338   Outer Community-South1     NaN            Outer  53.333327 -113.531374   \n",
       "888      Residential GC-South     NaN             Core  53.482057 -113.418346   \n",
       "26275    River Valley-East-P1     NaN             Core  53.581417 -113.374561   \n",
       "18595        Rural-North West     NaN       Peripheral  53.619232 -113.712798   \n",
       "\n",
       "                                     Location  \n",
       "19195         POINT (-113.4183455 53.4820573)  \n",
       "6338          POINT (-113.5313737 53.3333269)  \n",
       "888           POINT (-113.4183455 53.4820573)  \n",
       "26275  POINT (-113.3745611 53.58141700000001)  \n",
       "18595         POINT (-113.7127984 53.6192317)  "
      ]
     },
     "execution_count": 46,
=======
       "       Trap Date     Genus Specific Epithet  Gender  IDd  Count  \\\n",
       "0     2017-05-09       NaN              NaN    Male  NaN      0   \n",
       "6843  2017-05-09  Culiseta         inornata  Female  NaN      2   \n",
       "17781 2017-05-09  Culiseta         inornata  Female  NaN      1   \n",
       "19436 2017-05-09  Culiseta      alaskaensis  Female  NaN      2   \n",
       "16953 2017-05-09  Culiseta         inornata  Female  NaN      2   \n",
       "\n",
       "                  Trap Region Include Comparison Group   Latitude   Longitude  \\\n",
       "0                         NaN     NaN              NaN        NaN         NaN   \n",
       "6843               Rural-West     NaN            Outer  53.562973 -113.787353   \n",
       "17781        Rural-North West     NaN       Peripheral  53.619232 -113.712798   \n",
       "19436        Rural-South West     NaN       Peripheral  53.528587 -113.738070   \n",
       "16953  Outer Community-South1     NaN            Outer  53.333327 -113.531374   \n",
       "\n",
       "                              Location  \n",
       "0                                  NaN  \n",
       "6843    POINT (-113.787353 53.5629733)  \n",
       "17781  POINT (-113.7127984 53.6192317)  \n",
       "19436  POINT (-113.7380701 53.5285872)  \n",
       "16953  POINT (-113.5313737 53.3333269)  "
      ]
     },
     "execution_count": 7,
>>>>>>> d5a9587c6b9d048ec8abbebd90399bf5093a6493
     "metadata": {},
     "output_type": "execute_result"
    }
   ],
   "source": [
    "mos_data.head()"
   ]
  },
  {
   "cell_type": "code",
<<<<<<< HEAD
   "execution_count": 47,
=======
   "execution_count": 8,
>>>>>>> d5a9587c6b9d048ec8abbebd90399bf5093a6493
   "metadata": {
    "scrolled": true
   },
   "outputs": [
    {
     "data": {
      "text/html": [
       "<div>\n",
       "<style scoped>\n",
       "    .dataframe tbody tr th:only-of-type {\n",
       "        vertical-align: middle;\n",
       "    }\n",
       "\n",
       "    .dataframe tbody tr th {\n",
       "        vertical-align: top;\n",
       "    }\n",
       "\n",
       "    .dataframe thead th {\n",
       "        text-align: right;\n",
       "    }\n",
       "</style>\n",
       "<table border=\"1\" class=\"dataframe\">\n",
       "  <thead>\n",
       "    <tr style=\"text-align: right;\">\n",
       "      <th></th>\n",
       "      <th>Count</th>\n",
       "    </tr>\n",
       "    <tr>\n",
       "      <th>Trap Date</th>\n",
       "      <th></th>\n",
       "    </tr>\n",
       "  </thead>\n",
       "  <tbody>\n",
       "    <tr>\n",
<<<<<<< HEAD
=======
       "      <th>2017-05-09</th>\n",
       "      <td>26</td>\n",
       "    </tr>\n",
       "    <tr>\n",
>>>>>>> d5a9587c6b9d048ec8abbebd90399bf5093a6493
       "      <th>2017-05-16</th>\n",
       "      <td>29</td>\n",
       "    </tr>\n",
       "    <tr>\n",
       "      <th>2017-05-23</th>\n",
       "      <td>523</td>\n",
       "    </tr>\n",
       "    <tr>\n",
       "      <th>2017-05-30</th>\n",
       "      <td>363</td>\n",
       "    </tr>\n",
       "    <tr>\n",
       "      <th>2017-06-06</th>\n",
       "      <td>1656</td>\n",
       "    </tr>\n",
<<<<<<< HEAD
       "    <tr>\n",
       "      <th>2017-06-13</th>\n",
       "      <td>2969</td>\n",
       "    </tr>\n",
=======
>>>>>>> d5a9587c6b9d048ec8abbebd90399bf5093a6493
       "  </tbody>\n",
       "</table>\n",
       "</div>"
      ],
      "text/plain": [
       "            Count\n",
       "Trap Date        \n",
<<<<<<< HEAD
       "2017-05-16     29\n",
       "2017-05-23    523\n",
       "2017-05-30    363\n",
       "2017-06-06   1656\n",
       "2017-06-13   2969"
      ]
     },
     "execution_count": 47,
=======
       "2017-05-09     26\n",
       "2017-05-16     29\n",
       "2017-05-23    523\n",
       "2017-05-30    363\n",
       "2017-06-06   1656"
      ]
     },
     "execution_count": 8,
>>>>>>> d5a9587c6b9d048ec8abbebd90399bf5093a6493
     "metadata": {},
     "output_type": "execute_result"
    }
   ],
   "source": [
    "mos_count.head()"
   ]
  },
  {
   "cell_type": "markdown",
   "metadata": {},
   "source": [
    "## Select dates range for weather data"
   ]
  },
  {
   "cell_type": "code",
<<<<<<< HEAD
   "execution_count": 48,
   "metadata": {},
   "outputs": [],
   "source": [
    "start_date1 = '2017-05-10'\n",
    "end_date1 = '2017-09-26'\n",
    "start_date2 = '2018-05-09'\n",
    "end_date2 = '2018-09-18'\n",
=======
   "execution_count": 9,
   "metadata": {},
   "outputs": [],
   "source": [
    "start_date1 = '2017-05-03' #one week before 2017-05-09\n",
    "end_date1 = '2017-09-26'\n",
    "start_date2 = '2018-05-09' #one week before 2018-05-15\n",
    "end_date2 = '2018-09-25'\n",
>>>>>>> d5a9587c6b9d048ec8abbebd90399bf5093a6493
    "\n",
    "##############Drop MST###################\n",
    "weather_data.drop(columns=[\"visibility\", \"cloud_cover_4\", \"cloud_cover_8\", \"cloud_cover_10\", \"solar_radiation\", \"wind_gust\", \"windchill\", \"humidex\"], inplace=True)\n",
    "weather_data = weather_data.loc[weather_data['date_time_local'].str.contains('MDT')]\n",
    "\n",
    "\n",
    "t_list = []\n",
    "for i in weather_data['date_time_local']:\n",
    "    i = str(i)\n",
    "    t1 = time.strptime(i,\"%Y-%m-%d %H:%M:%S MDT\")\n",
    "    t2 = time.strftime(\"%Y-%m-%d\", t1)\n",
    "    t_list.append(t2)\n",
    "\n",
    "weather_data['date_time_local'] = t_list\n",
    "\n",
    "\n",
    "weather_data['date_time_local'] = pd.to_datetime(weather_data['date_time_local'])\n",
    "weather_range1 = (weather_data['date_time_local'] >= start_date1) & (weather_data['date_time_local'] <= end_date1)\n",
    "weather_data1 = weather_data.loc[weather_range1]\n",
    "weather_data1 = weather_data1.sort_values(by='date_time_local')\n",
    "\n",
    "\n",
    "weather_range2 = (weather_data['date_time_local'] >= start_date2) & (weather_data['date_time_local'] <= end_date2)\n",
    "weather_data2 = weather_data.loc[weather_range2]\n",
    "weather_data2 = weather_data2.sort_values(by='date_time_local')\n",
    "weather_data = weather_data1.append(weather_data2)"
   ]
  },
  {
   "cell_type": "code",
<<<<<<< HEAD
   "execution_count": 49,
=======
   "execution_count": 10,
>>>>>>> d5a9587c6b9d048ec8abbebd90399bf5093a6493
   "metadata": {
    "scrolled": true
   },
   "outputs": [
    {
     "data": {
      "text/html": [
       "<div>\n",
       "<style scoped>\n",
       "    .dataframe tbody tr th:only-of-type {\n",
       "        vertical-align: middle;\n",
       "    }\n",
       "\n",
       "    .dataframe tbody tr th {\n",
       "        vertical-align: top;\n",
       "    }\n",
       "\n",
       "    .dataframe thead th {\n",
       "        text-align: right;\n",
       "    }\n",
       "</style>\n",
       "<table border=\"1\" class=\"dataframe\">\n",
       "  <thead>\n",
       "    <tr style=\"text-align: right;\">\n",
       "      <th></th>\n",
       "      <th>date_time_local</th>\n",
       "      <th>unixtime</th>\n",
       "      <th>pressure_station</th>\n",
       "      <th>pressure_sea</th>\n",
       "      <th>wind_dir</th>\n",
       "      <th>wind_dir_10s</th>\n",
       "      <th>wind_speed</th>\n",
       "      <th>relative_humidity</th>\n",
       "      <th>dew_point</th>\n",
       "      <th>temperature</th>\n",
       "      <th>health_index</th>\n",
       "    </tr>\n",
       "  </thead>\n",
       "  <tbody>\n",
       "    <tr>\n",
<<<<<<< HEAD
       "      <th>14105</th>\n",
       "      <td>2017-05-10</td>\n",
       "      <td>1494396000</td>\n",
       "      <td>93.58</td>\n",
       "      <td>101.5</td>\n",
       "      <td>ESE</td>\n",
       "      <td>11.0</td>\n",
       "      <td>5.0</td>\n",
       "      <td>53.0</td>\n",
       "      <td>2.2</td>\n",
       "      <td>11.6</td>\n",
       "      <td>3.6</td>\n",
       "    </tr>\n",
       "    <tr>\n",
       "      <th>14082</th>\n",
       "      <td>2017-05-10</td>\n",
       "      <td>1494478800</td>\n",
       "      <td>93.54</td>\n",
       "      <td>101.4</td>\n",
       "      <td>ENE</td>\n",
       "      <td>7.0</td>\n",
       "      <td>6.0</td>\n",
       "      <td>58.0</td>\n",
       "      <td>4.4</td>\n",
       "      <td>12.6</td>\n",
       "      <td>3.3</td>\n",
       "    </tr>\n",
       "    <tr>\n",
       "      <th>14083</th>\n",
       "      <td>2017-05-10</td>\n",
       "      <td>1494475200</td>\n",
       "      <td>93.50</td>\n",
       "      <td>101.4</td>\n",
       "      <td>ENE</td>\n",
       "      <td>6.0</td>\n",
       "      <td>8.0</td>\n",
       "      <td>56.0</td>\n",
       "      <td>4.9</td>\n",
       "      <td>13.7</td>\n",
       "      <td>3.3</td>\n",
       "    </tr>\n",
       "    <tr>\n",
       "      <th>14084</th>\n",
       "      <td>2017-05-10</td>\n",
       "      <td>1494471600</td>\n",
       "      <td>93.47</td>\n",
       "      <td>101.3</td>\n",
       "      <td>NE</td>\n",
       "      <td>5.0</td>\n",
       "      <td>10.0</td>\n",
       "      <td>53.0</td>\n",
       "      <td>5.8</td>\n",
       "      <td>15.4</td>\n",
       "      <td>3.3</td>\n",
       "    </tr>\n",
       "    <tr>\n",
       "      <th>14085</th>\n",
       "      <td>2017-05-10</td>\n",
       "      <td>1494468000</td>\n",
       "      <td>93.43</td>\n",
       "      <td>101.3</td>\n",
       "      <td>ENE</td>\n",
       "      <td>6.0</td>\n",
       "      <td>11.0</td>\n",
       "      <td>46.0</td>\n",
       "      <td>5.4</td>\n",
       "      <td>17.2</td>\n",
       "      <td>3.2</td>\n",
=======
       "      <th>14273</th>\n",
       "      <td>2017-05-03</td>\n",
       "      <td>1493791200</td>\n",
       "      <td>93.91</td>\n",
       "      <td>101.9</td>\n",
       "      <td>SW</td>\n",
       "      <td>21.0</td>\n",
       "      <td>3.0</td>\n",
       "      <td>64.0</td>\n",
       "      <td>0.3</td>\n",
       "      <td>6.6</td>\n",
       "      <td>3.0</td>\n",
       "    </tr>\n",
       "    <tr>\n",
       "      <th>14250</th>\n",
       "      <td>2017-05-03</td>\n",
       "      <td>1493874000</td>\n",
       "      <td>93.51</td>\n",
       "      <td>101.4</td>\n",
       "      <td>SW</td>\n",
       "      <td>22.0</td>\n",
       "      <td>7.0</td>\n",
       "      <td>50.0</td>\n",
       "      <td>2.6</td>\n",
       "      <td>12.7</td>\n",
       "      <td>3.7</td>\n",
       "    </tr>\n",
       "    <tr>\n",
       "      <th>14251</th>\n",
       "      <td>2017-05-03</td>\n",
       "      <td>1493870400</td>\n",
       "      <td>93.49</td>\n",
       "      <td>101.4</td>\n",
       "      <td>SW</td>\n",
       "      <td>24.0</td>\n",
       "      <td>6.0</td>\n",
       "      <td>48.0</td>\n",
       "      <td>2.0</td>\n",
       "      <td>12.9</td>\n",
       "      <td>3.5</td>\n",
       "    </tr>\n",
       "    <tr>\n",
       "      <th>14252</th>\n",
       "      <td>2017-05-03</td>\n",
       "      <td>1493866800</td>\n",
       "      <td>93.44</td>\n",
       "      <td>101.3</td>\n",
       "      <td>WNW</td>\n",
       "      <td>29.0</td>\n",
       "      <td>5.0</td>\n",
       "      <td>34.0</td>\n",
       "      <td>1.0</td>\n",
       "      <td>17.1</td>\n",
       "      <td>3.3</td>\n",
       "    </tr>\n",
       "    <tr>\n",
       "      <th>14253</th>\n",
       "      <td>2017-05-03</td>\n",
       "      <td>1493863200</td>\n",
       "      <td>93.38</td>\n",
       "      <td>101.3</td>\n",
       "      <td>W</td>\n",
       "      <td>27.0</td>\n",
       "      <td>7.0</td>\n",
       "      <td>28.0</td>\n",
       "      <td>0.2</td>\n",
       "      <td>18.9</td>\n",
       "      <td>3.3</td>\n",
>>>>>>> d5a9587c6b9d048ec8abbebd90399bf5093a6493
       "    </tr>\n",
       "  </tbody>\n",
       "</table>\n",
       "</div>"
      ],
      "text/plain": [
       "      date_time_local    unixtime  pressure_station  pressure_sea wind_dir  \\\n",
<<<<<<< HEAD
       "14105      2017-05-10  1494396000             93.58         101.5      ESE   \n",
       "14082      2017-05-10  1494478800             93.54         101.4      ENE   \n",
       "14083      2017-05-10  1494475200             93.50         101.4      ENE   \n",
       "14084      2017-05-10  1494471600             93.47         101.3       NE   \n",
       "14085      2017-05-10  1494468000             93.43         101.3      ENE   \n",
       "\n",
       "       wind_dir_10s  wind_speed  relative_humidity  dew_point  temperature  \\\n",
       "14105          11.0         5.0               53.0        2.2         11.6   \n",
       "14082           7.0         6.0               58.0        4.4         12.6   \n",
       "14083           6.0         8.0               56.0        4.9         13.7   \n",
       "14084           5.0        10.0               53.0        5.8         15.4   \n",
       "14085           6.0        11.0               46.0        5.4         17.2   \n",
       "\n",
       "       health_index  \n",
       "14105           3.6  \n",
       "14082           3.3  \n",
       "14083           3.3  \n",
       "14084           3.3  \n",
       "14085           3.2  "
      ]
     },
     "execution_count": 49,
=======
       "14273      2017-05-03  1493791200             93.91         101.9       SW   \n",
       "14250      2017-05-03  1493874000             93.51         101.4       SW   \n",
       "14251      2017-05-03  1493870400             93.49         101.4       SW   \n",
       "14252      2017-05-03  1493866800             93.44         101.3      WNW   \n",
       "14253      2017-05-03  1493863200             93.38         101.3        W   \n",
       "\n",
       "       wind_dir_10s  wind_speed  relative_humidity  dew_point  temperature  \\\n",
       "14273          21.0         3.0               64.0        0.3          6.6   \n",
       "14250          22.0         7.0               50.0        2.6         12.7   \n",
       "14251          24.0         6.0               48.0        2.0         12.9   \n",
       "14252          29.0         5.0               34.0        1.0         17.1   \n",
       "14253          27.0         7.0               28.0        0.2         18.9   \n",
       "\n",
       "       health_index  \n",
       "14273           3.0  \n",
       "14250           3.7  \n",
       "14251           3.5  \n",
       "14252           3.3  \n",
       "14253           3.3  "
      ]
     },
     "execution_count": 10,
>>>>>>> d5a9587c6b9d048ec8abbebd90399bf5093a6493
     "metadata": {},
     "output_type": "execute_result"
    }
   ],
   "source": [
    "weather_data.head()"
   ]
  },
  {
   "cell_type": "markdown",
   "metadata": {},
   "source": [
    "## Seperate mosquito data by gender"
   ]
  },
  {
   "cell_type": "code",
<<<<<<< HEAD
   "execution_count": 50,
=======
   "execution_count": 11,
>>>>>>> d5a9587c6b9d048ec8abbebd90399bf5093a6493
   "metadata": {},
   "outputs": [],
   "source": [
    "mos_data_male = mos_data.loc[mos_data['Gender'].str.contains('Male')]\n",
    "mos_data_female = mos_data.loc[mos_data['Gender'].str.contains('Female')]\n",
    "\n",
    "mos_count_male = mos_data_male.groupby([\"Trap Date\"]).agg({\n",
    "    \"Count\":\"sum\",\n",
    "})\n",
    "mos_count_male[mos_count_male['Count'] == mos_count_male['Count'].max()]\n",
    "\n",
    "\n",
    "mos_count_female = mos_data_female.groupby([\"Trap Date\"]).agg({\n",
    "    \"Count\":\"sum\",\n",
    "})\n",
    "mos_count_female[mos_count_female['Count'] == mos_count_female['Count'].max()]\n",
    "\n",
    "\n",
    "mos_count_male[\"Count_female\"] = mos_count_female[\"Count\"]\n",
    "mos_count_male['Gender'] = np.where(mos_count_male[\"Count\"] > mos_count_male[\"Count_female\"], 'Male', 'Female')\n",
    "#compare count\n",
    "\n",
    "gender = np.array(mos_count_male['Gender'])"
   ]
  },
  {
   "cell_type": "markdown",
   "metadata": {},
   "source": [
    "## Grouping both datasets\n",
    "- For justifications for the methods of grouping the weather data please refer to task 1"
   ]
  },
  {
   "cell_type": "markdown",
   "metadata": {},
   "source": [
    "#### weather data grouping by days then weekly"
   ]
  },
  {
   "cell_type": "code",
<<<<<<< HEAD
   "execution_count": 51,
=======
   "execution_count": 12,
>>>>>>> d5a9587c6b9d048ec8abbebd90399bf5093a6493
   "metadata": {},
   "outputs": [
    {
     "name": "stdout",
     "output_type": "stream",
     "text": [
<<<<<<< HEAD
      "273\n"
=======
      "287\n"
>>>>>>> d5a9587c6b9d048ec8abbebd90399bf5093a6493
     ]
    }
   ],
   "source": [
    "weather_data_grouped = weather_data.groupby('date_time_local', as_index=False).agg({\n",
    "    'pressure_station': lambda x: x.value_counts().index[0],\n",
    "    'pressure_sea': lambda x: x.median(),\n",
    "    'wind_dir_10s': lambda x: x.value_counts().index[0],\n",
    "    'wind_speed': lambda x: x.value_counts().index[0],\n",
    "    'dew_point': lambda x: x.value_counts().index[0],\n",
    "    'temperature': lambda x: x.value_counts().index[0],\n",
    "    'health_index': lambda x: round(x.mean(), 1)\n",
    "})\n",
    "\n",
    "print(len(weather_data_grouped.index))"
   ]
  },
  {
   "cell_type": "code",
<<<<<<< HEAD
   "execution_count": 52,
=======
   "execution_count": 13,
>>>>>>> d5a9587c6b9d048ec8abbebd90399bf5093a6493
   "metadata": {
    "scrolled": true
   },
   "outputs": [
    {
     "data": {
      "text/html": [
       "<div>\n",
       "<style scoped>\n",
       "    .dataframe tbody tr th:only-of-type {\n",
       "        vertical-align: middle;\n",
       "    }\n",
       "\n",
       "    .dataframe tbody tr th {\n",
       "        vertical-align: top;\n",
       "    }\n",
       "\n",
       "    .dataframe thead th {\n",
       "        text-align: right;\n",
       "    }\n",
       "</style>\n",
       "<table border=\"1\" class=\"dataframe\">\n",
       "  <thead>\n",
       "    <tr style=\"text-align: right;\">\n",
       "      <th></th>\n",
       "      <th>date_time_local</th>\n",
       "      <th>pressure_station</th>\n",
       "      <th>pressure_sea</th>\n",
       "      <th>wind_dir_10s</th>\n",
       "      <th>wind_speed</th>\n",
       "      <th>dew_point</th>\n",
       "      <th>temperature</th>\n",
       "      <th>health_index</th>\n",
       "    </tr>\n",
       "  </thead>\n",
       "  <tbody>\n",
       "    <tr>\n",
       "      <th>0</th>\n",
<<<<<<< HEAD
       "      <td>2017-05-10</td>\n",
       "      <td>93.47</td>\n",
       "      <td>101.30</td>\n",
       "      <td>7.0</td>\n",
       "      <td>6.0</td>\n",
       "      <td>3.4</td>\n",
       "      <td>11.9</td>\n",
       "      <td>3.5</td>\n",
       "    </tr>\n",
       "    <tr>\n",
       "      <th>1</th>\n",
       "      <td>2017-05-11</td>\n",
       "      <td>93.61</td>\n",
       "      <td>101.40</td>\n",
       "      <td>11.0</td>\n",
       "      <td>6.0</td>\n",
       "      <td>5.9</td>\n",
       "      <td>7.2</td>\n",
=======
       "      <td>2017-05-03</td>\n",
       "      <td>93.87</td>\n",
       "      <td>101.50</td>\n",
       "      <td>20.0</td>\n",
       "      <td>7.0</td>\n",
       "      <td>-1.6</td>\n",
       "      <td>18.9</td>\n",
       "      <td>2.8</td>\n",
       "    </tr>\n",
       "    <tr>\n",
       "      <th>1</th>\n",
       "      <td>2017-05-04</td>\n",
       "      <td>93.64</td>\n",
       "      <td>101.40</td>\n",
       "      <td>22.0</td>\n",
       "      <td>7.0</td>\n",
       "      <td>1.9</td>\n",
       "      <td>8.4</td>\n",
>>>>>>> d5a9587c6b9d048ec8abbebd90399bf5093a6493
       "      <td>3.2</td>\n",
       "    </tr>\n",
       "    <tr>\n",
       "      <th>2</th>\n",
<<<<<<< HEAD
       "      <td>2017-05-12</td>\n",
       "      <td>93.04</td>\n",
       "      <td>100.65</td>\n",
       "      <td>11.0</td>\n",
       "      <td>27.0</td>\n",
       "      <td>2.4</td>\n",
       "      <td>12.2</td>\n",
=======
       "      <td>2017-05-05</td>\n",
       "      <td>92.13</td>\n",
       "      <td>100.25</td>\n",
       "      <td>15.0</td>\n",
       "      <td>13.0</td>\n",
       "      <td>4.6</td>\n",
       "      <td>27.2</td>\n",
>>>>>>> d5a9587c6b9d048ec8abbebd90399bf5093a6493
       "      <td>2.8</td>\n",
       "    </tr>\n",
       "    <tr>\n",
       "      <th>3</th>\n",
<<<<<<< HEAD
       "      <td>2017-05-13</td>\n",
       "      <td>92.37</td>\n",
       "      <td>100.40</td>\n",
       "      <td>9.0</td>\n",
       "      <td>9.0</td>\n",
       "      <td>5.3</td>\n",
       "      <td>6.3</td>\n",
       "      <td>1.8</td>\n",
       "    </tr>\n",
       "    <tr>\n",
       "      <th>4</th>\n",
       "      <td>2017-05-14</td>\n",
       "      <td>92.94</td>\n",
       "      <td>100.80</td>\n",
       "      <td>31.0</td>\n",
       "      <td>12.0</td>\n",
       "      <td>2.7</td>\n",
       "      <td>8.5</td>\n",
       "      <td>1.6</td>\n",
       "    </tr>\n",
       "    <tr>\n",
       "      <th>5</th>\n",
       "      <td>2017-05-15</td>\n",
       "      <td>92.94</td>\n",
       "      <td>100.90</td>\n",
       "      <td>23.0</td>\n",
       "      <td>8.0</td>\n",
       "      <td>4.4</td>\n",
       "      <td>5.5</td>\n",
       "      <td>2.0</td>\n",
       "    </tr>\n",
       "    <tr>\n",
       "      <th>6</th>\n",
       "      <td>2017-05-16</td>\n",
       "      <td>92.96</td>\n",
       "      <td>100.95</td>\n",
       "      <td>6.0</td>\n",
       "      <td>12.0</td>\n",
       "      <td>3.5</td>\n",
       "      <td>2.4</td>\n",
       "      <td>2.0</td>\n",
=======
       "      <td>2017-05-06</td>\n",
       "      <td>92.68</td>\n",
       "      <td>100.30</td>\n",
       "      <td>28.0</td>\n",
       "      <td>13.0</td>\n",
       "      <td>5.2</td>\n",
       "      <td>14.9</td>\n",
       "      <td>2.4</td>\n",
       "    </tr>\n",
       "    <tr>\n",
       "      <th>4</th>\n",
       "      <td>2017-05-07</td>\n",
       "      <td>93.48</td>\n",
       "      <td>101.30</td>\n",
       "      <td>31.0</td>\n",
       "      <td>18.0</td>\n",
       "      <td>-3.0</td>\n",
       "      <td>6.3</td>\n",
       "      <td>2.2</td>\n",
       "    </tr>\n",
       "    <tr>\n",
       "      <th>5</th>\n",
       "      <td>2017-05-08</td>\n",
       "      <td>93.54</td>\n",
       "      <td>101.60</td>\n",
       "      <td>31.0</td>\n",
       "      <td>8.0</td>\n",
       "      <td>-4.8</td>\n",
       "      <td>14.0</td>\n",
       "      <td>2.9</td>\n",
       "    </tr>\n",
       "    <tr>\n",
       "      <th>6</th>\n",
       "      <td>2017-05-09</td>\n",
       "      <td>93.62</td>\n",
       "      <td>101.60</td>\n",
       "      <td>32.0</td>\n",
       "      <td>7.0</td>\n",
       "      <td>2.1</td>\n",
       "      <td>16.7</td>\n",
       "      <td>2.9</td>\n",
>>>>>>> d5a9587c6b9d048ec8abbebd90399bf5093a6493
       "    </tr>\n",
       "  </tbody>\n",
       "</table>\n",
       "</div>"
      ],
      "text/plain": [
       "  date_time_local  pressure_station  pressure_sea  wind_dir_10s  wind_speed  \\\n",
<<<<<<< HEAD
       "0      2017-05-10             93.47        101.30           7.0         6.0   \n",
       "1      2017-05-11             93.61        101.40          11.0         6.0   \n",
       "2      2017-05-12             93.04        100.65          11.0        27.0   \n",
       "3      2017-05-13             92.37        100.40           9.0         9.0   \n",
       "4      2017-05-14             92.94        100.80          31.0        12.0   \n",
       "5      2017-05-15             92.94        100.90          23.0         8.0   \n",
       "6      2017-05-16             92.96        100.95           6.0        12.0   \n",
       "\n",
       "   dew_point  temperature  health_index  \n",
       "0        3.4         11.9           3.5  \n",
       "1        5.9          7.2           3.2  \n",
       "2        2.4         12.2           2.8  \n",
       "3        5.3          6.3           1.8  \n",
       "4        2.7          8.5           1.6  \n",
       "5        4.4          5.5           2.0  \n",
       "6        3.5          2.4           2.0  "
      ]
     },
     "execution_count": 52,
=======
       "0      2017-05-03             93.87        101.50          20.0         7.0   \n",
       "1      2017-05-04             93.64        101.40          22.0         7.0   \n",
       "2      2017-05-05             92.13        100.25          15.0        13.0   \n",
       "3      2017-05-06             92.68        100.30          28.0        13.0   \n",
       "4      2017-05-07             93.48        101.30          31.0        18.0   \n",
       "5      2017-05-08             93.54        101.60          31.0         8.0   \n",
       "6      2017-05-09             93.62        101.60          32.0         7.0   \n",
       "\n",
       "   dew_point  temperature  health_index  \n",
       "0       -1.6         18.9           2.8  \n",
       "1        1.9          8.4           3.2  \n",
       "2        4.6         27.2           2.8  \n",
       "3        5.2         14.9           2.4  \n",
       "4       -3.0          6.3           2.2  \n",
       "5       -4.8         14.0           2.9  \n",
       "6        2.1         16.7           2.9  "
      ]
     },
     "execution_count": 13,
>>>>>>> d5a9587c6b9d048ec8abbebd90399bf5093a6493
     "metadata": {},
     "output_type": "execute_result"
    }
   ],
   "source": [
    "weather_data_grouped.sort_values('date_time_local', inplace=True)\n",
    "weather_data_grouped.head(7)"
   ]
  },
  {
   "cell_type": "code",
<<<<<<< HEAD
   "execution_count": 53,
=======
   "execution_count": 14,
>>>>>>> d5a9587c6b9d048ec8abbebd90399bf5093a6493
   "metadata": {},
   "outputs": [
    {
     "name": "stdout",
     "output_type": "stream",
     "text": [
<<<<<<< HEAD
      "39\n"
=======
      "41\n"
>>>>>>> d5a9587c6b9d048ec8abbebd90399bf5093a6493
     ]
    }
   ],
   "source": [
    "weather_data_grouped = weather_data_grouped.groupby(weather_data_grouped.index // 7).agg({\n",
    "    'date_time_local': 'last',\n",
    "    'pressure_station': lambda x: x.value_counts().index[0],\n",
    "    'pressure_sea': lambda x: x.median(),\n",
    "    'wind_dir_10s': lambda x: x.value_counts().index[0],\n",
    "    'wind_speed': lambda x: x.value_counts().index[0],\n",
    "    'dew_point': lambda x: x.value_counts().index[0],\n",
    "    'temperature': lambda x: x.value_counts().index[0],\n",
    "    'health_index': lambda x: round(x.mean(), 1)\n",
    "})\n",
    "\n",
    "print(len(weather_data_grouped.index))\n",
    "\n",
    "## NOTE GROUPING DATA BY WEEK LED TO LOWER ACCURACY"
   ]
  },
  {
   "cell_type": "markdown",
   "metadata": {},
   "source": [
    "#### mosquito data grouping by date"
   ]
  },
  {
   "cell_type": "code",
<<<<<<< HEAD
   "execution_count": 54,
=======
   "execution_count": 15,
>>>>>>> d5a9587c6b9d048ec8abbebd90399bf5093a6493
   "metadata": {},
   "outputs": [],
   "source": [
    "mos_data_grouped = mos_data.groupby(['Trap Date'], as_index=False).agg({\n",
    "    'Count' : 'sum',\n",
    "    'Genus': lambda x: x.value_counts().index[0],\n",
    "    'Gender': lambda x: x.value_counts().index[0]\n",
    "})"
   ]
  },
  {
   "cell_type": "markdown",
   "metadata": {},
   "source": [
    "#### merging both dataset by date"
   ]
  },
  {
   "cell_type": "code",
<<<<<<< HEAD
   "execution_count": 55,
=======
   "execution_count": 16,
>>>>>>> d5a9587c6b9d048ec8abbebd90399bf5093a6493
   "metadata": {},
   "outputs": [],
   "source": [
    "merged_data = pd.merge(left=mos_data_grouped, right=weather_data_grouped, left_on='Trap Date', right_on='date_time_local')\n",
    "merged_data.drop(columns=['date_time_local'], inplace=True)"
   ]
  },
  {
   "cell_type": "code",
<<<<<<< HEAD
   "execution_count": 56,
=======
   "execution_count": 17,
>>>>>>> d5a9587c6b9d048ec8abbebd90399bf5093a6493
   "metadata": {
    "scrolled": true
   },
   "outputs": [
    {
     "data": {
      "text/html": [
       "<div>\n",
       "<style scoped>\n",
       "    .dataframe tbody tr th:only-of-type {\n",
       "        vertical-align: middle;\n",
       "    }\n",
       "\n",
       "    .dataframe tbody tr th {\n",
       "        vertical-align: top;\n",
       "    }\n",
       "\n",
       "    .dataframe thead th {\n",
       "        text-align: right;\n",
       "    }\n",
       "</style>\n",
       "<table border=\"1\" class=\"dataframe\">\n",
       "  <thead>\n",
       "    <tr style=\"text-align: right;\">\n",
       "      <th></th>\n",
       "      <th>Trap Date</th>\n",
       "      <th>Count</th>\n",
       "      <th>Genus</th>\n",
       "      <th>Gender</th>\n",
       "      <th>pressure_station</th>\n",
       "      <th>pressure_sea</th>\n",
       "      <th>wind_dir_10s</th>\n",
       "      <th>wind_speed</th>\n",
       "      <th>dew_point</th>\n",
       "      <th>temperature</th>\n",
       "      <th>health_index</th>\n",
       "    </tr>\n",
       "  </thead>\n",
       "  <tbody>\n",
       "    <tr>\n",
       "      <th>0</th>\n",
<<<<<<< HEAD
=======
       "      <td>2017-05-09</td>\n",
       "      <td>26</td>\n",
       "      <td>Culiseta</td>\n",
       "      <td>Female</td>\n",
       "      <td>93.87</td>\n",
       "      <td>101.40</td>\n",
       "      <td>31.0</td>\n",
       "      <td>7.0</td>\n",
       "      <td>5.2</td>\n",
       "      <td>6.3</td>\n",
       "      <td>2.7</td>\n",
       "    </tr>\n",
       "    <tr>\n",
       "      <th>1</th>\n",
>>>>>>> d5a9587c6b9d048ec8abbebd90399bf5093a6493
       "      <td>2017-05-16</td>\n",
       "      <td>29</td>\n",
       "      <td>Culiseta</td>\n",
       "      <td>Female</td>\n",
       "      <td>92.94</td>\n",
       "      <td>100.90</td>\n",
       "      <td>11.0</td>\n",
       "      <td>12.0</td>\n",
       "      <td>5.3</td>\n",
       "      <td>2.4</td>\n",
       "      <td>2.4</td>\n",
       "    </tr>\n",
       "    <tr>\n",
<<<<<<< HEAD
       "      <th>1</th>\n",
=======
       "      <th>2</th>\n",
>>>>>>> d5a9587c6b9d048ec8abbebd90399bf5093a6493
       "      <td>2017-05-23</td>\n",
       "      <td>523</td>\n",
       "      <td>Ochlerotatus</td>\n",
       "      <td>Female</td>\n",
       "      <td>92.37</td>\n",
       "      <td>101.90</td>\n",
       "      <td>20.0</td>\n",
       "      <td>6.0</td>\n",
       "      <td>5.1</td>\n",
       "      <td>22.9</td>\n",
       "      <td>2.5</td>\n",
       "    </tr>\n",
       "    <tr>\n",
<<<<<<< HEAD
       "      <th>2</th>\n",
=======
       "      <th>3</th>\n",
>>>>>>> d5a9587c6b9d048ec8abbebd90399bf5093a6493
       "      <td>2017-05-30</td>\n",
       "      <td>363</td>\n",
       "      <td>Ochlerotatus</td>\n",
       "      <td>Female</td>\n",
<<<<<<< HEAD
       "      <td>94.06</td>\n",
=======
       "      <td>93.31</td>\n",
>>>>>>> d5a9587c6b9d048ec8abbebd90399bf5093a6493
       "      <td>101.30</td>\n",
       "      <td>15.0</td>\n",
       "      <td>21.0</td>\n",
       "      <td>5.3</td>\n",
       "      <td>11.0</td>\n",
       "      <td>2.5</td>\n",
       "    </tr>\n",
       "    <tr>\n",
<<<<<<< HEAD
       "      <th>3</th>\n",
=======
       "      <th>4</th>\n",
>>>>>>> d5a9587c6b9d048ec8abbebd90399bf5093a6493
       "      <td>2017-06-06</td>\n",
       "      <td>1656</td>\n",
       "      <td>Ochlerotatus</td>\n",
       "      <td>Female</td>\n",
       "      <td>93.81</td>\n",
       "      <td>101.05</td>\n",
       "      <td>31.0</td>\n",
       "      <td>12.0</td>\n",
       "      <td>7.7</td>\n",
       "      <td>11.8</td>\n",
       "      <td>2.8</td>\n",
       "    </tr>\n",
<<<<<<< HEAD
       "    <tr>\n",
       "      <th>4</th>\n",
       "      <td>2017-06-13</td>\n",
       "      <td>2969</td>\n",
       "      <td>Ochlerotatus</td>\n",
       "      <td>Female</td>\n",
       "      <td>91.87</td>\n",
       "      <td>100.85</td>\n",
       "      <td>34.0</td>\n",
       "      <td>16.0</td>\n",
       "      <td>6.6</td>\n",
       "      <td>10.4</td>\n",
       "      <td>2.5</td>\n",
       "    </tr>\n",
=======
>>>>>>> d5a9587c6b9d048ec8abbebd90399bf5093a6493
       "  </tbody>\n",
       "</table>\n",
       "</div>"
      ],
      "text/plain": [
       "   Trap Date  Count         Genus  Gender  pressure_station  pressure_sea  \\\n",
<<<<<<< HEAD
       "0 2017-05-16     29      Culiseta  Female             92.94        100.90   \n",
       "1 2017-05-23    523  Ochlerotatus  Female             92.37        101.90   \n",
       "2 2017-05-30    363  Ochlerotatus  Female             94.06        101.30   \n",
       "3 2017-06-06   1656  Ochlerotatus  Female             93.81        101.05   \n",
       "4 2017-06-13   2969  Ochlerotatus  Female             91.87        100.85   \n",
       "\n",
       "   wind_dir_10s  wind_speed  dew_point  temperature  health_index  \n",
       "0          11.0        12.0        5.3          2.4           2.4  \n",
       "1          20.0         6.0        5.1         22.9           2.5  \n",
       "2          15.0        21.0        5.3         11.0           2.5  \n",
       "3          31.0        12.0        7.7         11.8           2.8  \n",
       "4          34.0        16.0        6.6         10.4           2.5  "
      ]
     },
     "execution_count": 56,
=======
       "0 2017-05-09     26      Culiseta  Female             93.87        101.40   \n",
       "1 2017-05-16     29      Culiseta  Female             92.94        100.90   \n",
       "2 2017-05-23    523  Ochlerotatus  Female             92.37        101.90   \n",
       "3 2017-05-30    363  Ochlerotatus  Female             93.31        101.30   \n",
       "4 2017-06-06   1656  Ochlerotatus  Female             93.81        101.05   \n",
       "\n",
       "   wind_dir_10s  wind_speed  dew_point  temperature  health_index  \n",
       "0          31.0         7.0        5.2          6.3           2.7  \n",
       "1          11.0        12.0        5.3          2.4           2.4  \n",
       "2          20.0         6.0        5.1         22.9           2.5  \n",
       "3          15.0        21.0        5.3         11.0           2.5  \n",
       "4          31.0        12.0        7.7         11.8           2.8  "
      ]
     },
     "execution_count": 17,
>>>>>>> d5a9587c6b9d048ec8abbebd90399bf5093a6493
     "metadata": {},
     "output_type": "execute_result"
    }
   ],
   "source": [
    "merged_data.head()"
   ]
  },
  {
   "cell_type": "markdown",
   "metadata": {},
   "source": [
    "#### split datasets into male and female datasets"
   ]
  },
  {
   "cell_type": "code",
<<<<<<< HEAD
   "execution_count": 57,
=======
   "execution_count": 18,
>>>>>>> d5a9587c6b9d048ec8abbebd90399bf5093a6493
   "metadata": {},
   "outputs": [],
   "source": [
    "mos_data_male = mos_data.loc[mos_data['Gender'].str.contains('Male')]\n",
    "mos_data_female = mos_data.loc[mos_data['Gender'].str.contains('Female')]\n",
    "\n",
    "\n",
    "mos_count_male = mos_data_male.groupby([\"Trap Date\"], as_index=False).agg({\n",
    "    \"Count\":\"sum\",\n",
    "})\n",
    "mos_count_male[mos_count_male['Count'] == mos_count_male['Count'].max()]\n",
    "\n",
    "\n",
    "\n",
    "mos_count_female = mos_data_female.groupby([\"Trap Date\"], as_index=False).agg({\n",
    "    \"Count\":\"sum\",\n",
    "})\n",
    "mos_count_female[mos_count_female['Count'] == mos_count_female['Count'].max()]\n",
    "\n",
    "\n",
    "mos_count_male[\"Count_female\"] = mos_count_female[\"Count\"]\n",
    "mos_count_male['Gender'] = np.where(mos_count_male[\"Count\"] > mos_count_male[\"Count_female\"], 'Male', 'Female')"
   ]
  },
  {
   "cell_type": "code",
<<<<<<< HEAD
   "execution_count": 58,
=======
   "execution_count": 19,
>>>>>>> d5a9587c6b9d048ec8abbebd90399bf5093a6493
   "metadata": {},
   "outputs": [],
   "source": [
    "t_list = []\n",
    "for i in mos_count_male['Trap Date']:\n",
    "    i = str(i)\n",
    "    t1 = time.strptime(i,\"%Y-%m-%d 00:00:00\")\n",
    "    t2 = time.strftime(\"%Y-%m-%d 00:00:00\", t1)\n",
    "    t_list.append(t2)\n",
    "\n",
    "mos_count_male['Trap Date'] = t_list"
   ]
  },
  {
   "cell_type": "code",
<<<<<<< HEAD
   "execution_count": 59,
=======
   "execution_count": 20,
>>>>>>> d5a9587c6b9d048ec8abbebd90399bf5093a6493
   "metadata": {
    "scrolled": true
   },
   "outputs": [
    {
     "data": {
      "text/html": [
       "<div>\n",
       "<style scoped>\n",
       "    .dataframe tbody tr th:only-of-type {\n",
       "        vertical-align: middle;\n",
       "    }\n",
       "\n",
       "    .dataframe tbody tr th {\n",
       "        vertical-align: top;\n",
       "    }\n",
       "\n",
       "    .dataframe thead th {\n",
       "        text-align: right;\n",
       "    }\n",
       "</style>\n",
       "<table border=\"1\" class=\"dataframe\">\n",
       "  <thead>\n",
       "    <tr style=\"text-align: right;\">\n",
       "      <th></th>\n",
       "      <th>Trap Date</th>\n",
       "      <th>Count</th>\n",
       "      <th>Count_female</th>\n",
       "      <th>Gender</th>\n",
       "    </tr>\n",
       "  </thead>\n",
       "  <tbody>\n",
       "    <tr>\n",
       "      <th>0</th>\n",
<<<<<<< HEAD
=======
       "      <td>2017-05-09 00:00:00</td>\n",
       "      <td>0</td>\n",
       "      <td>26</td>\n",
       "      <td>Female</td>\n",
       "    </tr>\n",
       "    <tr>\n",
       "      <th>1</th>\n",
>>>>>>> d5a9587c6b9d048ec8abbebd90399bf5093a6493
       "      <td>2017-05-16 00:00:00</td>\n",
       "      <td>6</td>\n",
       "      <td>23</td>\n",
       "      <td>Female</td>\n",
       "    </tr>\n",
       "    <tr>\n",
<<<<<<< HEAD
       "      <th>1</th>\n",
=======
       "      <th>2</th>\n",
>>>>>>> d5a9587c6b9d048ec8abbebd90399bf5093a6493
       "      <td>2017-05-23 00:00:00</td>\n",
       "      <td>325</td>\n",
       "      <td>198</td>\n",
       "      <td>Male</td>\n",
       "    </tr>\n",
       "    <tr>\n",
<<<<<<< HEAD
       "      <th>2</th>\n",
=======
       "      <th>3</th>\n",
>>>>>>> d5a9587c6b9d048ec8abbebd90399bf5093a6493
       "      <td>2017-05-30 00:00:00</td>\n",
       "      <td>213</td>\n",
       "      <td>150</td>\n",
       "      <td>Male</td>\n",
       "    </tr>\n",
       "    <tr>\n",
<<<<<<< HEAD
       "      <th>3</th>\n",
=======
       "      <th>4</th>\n",
>>>>>>> d5a9587c6b9d048ec8abbebd90399bf5093a6493
       "      <td>2017-06-06 00:00:00</td>\n",
       "      <td>1130</td>\n",
       "      <td>526</td>\n",
       "      <td>Male</td>\n",
       "    </tr>\n",
<<<<<<< HEAD
       "    <tr>\n",
       "      <th>4</th>\n",
       "      <td>2017-06-13 00:00:00</td>\n",
       "      <td>1708</td>\n",
       "      <td>1261</td>\n",
       "      <td>Male</td>\n",
       "    </tr>\n",
=======
>>>>>>> d5a9587c6b9d048ec8abbebd90399bf5093a6493
       "  </tbody>\n",
       "</table>\n",
       "</div>"
      ],
      "text/plain": [
       "             Trap Date  Count  Count_female  Gender\n",
<<<<<<< HEAD
       "0  2017-05-16 00:00:00      6            23  Female\n",
       "1  2017-05-23 00:00:00    325           198    Male\n",
       "2  2017-05-30 00:00:00    213           150    Male\n",
       "3  2017-06-06 00:00:00   1130           526    Male\n",
       "4  2017-06-13 00:00:00   1708          1261    Male"
      ]
     },
     "execution_count": 59,
=======
       "0  2017-05-09 00:00:00      0            26  Female\n",
       "1  2017-05-16 00:00:00      6            23  Female\n",
       "2  2017-05-23 00:00:00    325           198    Male\n",
       "3  2017-05-30 00:00:00    213           150    Male\n",
       "4  2017-06-06 00:00:00   1130           526    Male"
      ]
     },
     "execution_count": 20,
>>>>>>> d5a9587c6b9d048ec8abbebd90399bf5093a6493
     "metadata": {},
     "output_type": "execute_result"
    }
   ],
   "source": [
    "mos_count_male.head()"
   ]
  },
  {
   "cell_type": "code",
<<<<<<< HEAD
   "execution_count": 60,
=======
   "execution_count": 21,
>>>>>>> d5a9587c6b9d048ec8abbebd90399bf5093a6493
   "metadata": {
    "scrolled": true
   },
   "outputs": [
    {
     "data": {
      "text/html": [
       "<div>\n",
       "<style scoped>\n",
       "    .dataframe tbody tr th:only-of-type {\n",
       "        vertical-align: middle;\n",
       "    }\n",
       "\n",
       "    .dataframe tbody tr th {\n",
       "        vertical-align: top;\n",
       "    }\n",
       "\n",
       "    .dataframe thead th {\n",
       "        text-align: right;\n",
       "    }\n",
       "</style>\n",
       "<table border=\"1\" class=\"dataframe\">\n",
       "  <thead>\n",
       "    <tr style=\"text-align: right;\">\n",
       "      <th></th>\n",
       "      <th>Trap Date</th>\n",
       "      <th>Genus</th>\n",
       "      <th>Gender</th>\n",
       "      <th>pressure_station</th>\n",
       "      <th>pressure_sea</th>\n",
       "      <th>wind_dir_10s</th>\n",
       "      <th>wind_speed</th>\n",
       "      <th>dew_point</th>\n",
       "      <th>temperature</th>\n",
       "      <th>health_index</th>\n",
       "    </tr>\n",
       "  </thead>\n",
       "  <tbody>\n",
       "    <tr>\n",
       "      <th>0</th>\n",
<<<<<<< HEAD
=======
       "      <td>2017-05-09</td>\n",
       "      <td>Culiseta</td>\n",
       "      <td>Female</td>\n",
       "      <td>93.87</td>\n",
       "      <td>101.40</td>\n",
       "      <td>31.0</td>\n",
       "      <td>7.0</td>\n",
       "      <td>5.2</td>\n",
       "      <td>6.3</td>\n",
       "      <td>2.7</td>\n",
       "    </tr>\n",
       "    <tr>\n",
       "      <th>1</th>\n",
>>>>>>> d5a9587c6b9d048ec8abbebd90399bf5093a6493
       "      <td>2017-05-16</td>\n",
       "      <td>Culiseta</td>\n",
       "      <td>Female</td>\n",
       "      <td>92.94</td>\n",
       "      <td>100.90</td>\n",
       "      <td>11.0</td>\n",
       "      <td>12.0</td>\n",
       "      <td>5.3</td>\n",
       "      <td>2.4</td>\n",
       "      <td>2.4</td>\n",
       "    </tr>\n",
       "    <tr>\n",
<<<<<<< HEAD
       "      <th>1</th>\n",
=======
       "      <th>2</th>\n",
>>>>>>> d5a9587c6b9d048ec8abbebd90399bf5093a6493
       "      <td>2017-05-23</td>\n",
       "      <td>Ochlerotatus</td>\n",
       "      <td>Male</td>\n",
       "      <td>92.37</td>\n",
       "      <td>101.90</td>\n",
       "      <td>20.0</td>\n",
       "      <td>6.0</td>\n",
       "      <td>5.1</td>\n",
       "      <td>22.9</td>\n",
       "      <td>2.5</td>\n",
       "    </tr>\n",
       "    <tr>\n",
<<<<<<< HEAD
       "      <th>2</th>\n",
       "      <td>2017-05-30</td>\n",
       "      <td>Ochlerotatus</td>\n",
       "      <td>Male</td>\n",
       "      <td>94.06</td>\n",
=======
       "      <th>3</th>\n",
       "      <td>2017-05-30</td>\n",
       "      <td>Ochlerotatus</td>\n",
       "      <td>Male</td>\n",
       "      <td>93.31</td>\n",
>>>>>>> d5a9587c6b9d048ec8abbebd90399bf5093a6493
       "      <td>101.30</td>\n",
       "      <td>15.0</td>\n",
       "      <td>21.0</td>\n",
       "      <td>5.3</td>\n",
       "      <td>11.0</td>\n",
       "      <td>2.5</td>\n",
       "    </tr>\n",
       "    <tr>\n",
<<<<<<< HEAD
       "      <th>3</th>\n",
=======
       "      <th>4</th>\n",
>>>>>>> d5a9587c6b9d048ec8abbebd90399bf5093a6493
       "      <td>2017-06-06</td>\n",
       "      <td>Ochlerotatus</td>\n",
       "      <td>Male</td>\n",
       "      <td>93.81</td>\n",
       "      <td>101.05</td>\n",
       "      <td>31.0</td>\n",
       "      <td>12.0</td>\n",
       "      <td>7.7</td>\n",
       "      <td>11.8</td>\n",
       "      <td>2.8</td>\n",
       "    </tr>\n",
<<<<<<< HEAD
       "    <tr>\n",
       "      <th>4</th>\n",
       "      <td>2017-06-13</td>\n",
       "      <td>Ochlerotatus</td>\n",
       "      <td>Male</td>\n",
       "      <td>91.87</td>\n",
       "      <td>100.85</td>\n",
       "      <td>34.0</td>\n",
       "      <td>16.0</td>\n",
       "      <td>6.6</td>\n",
       "      <td>10.4</td>\n",
       "      <td>2.5</td>\n",
       "    </tr>\n",
=======
>>>>>>> d5a9587c6b9d048ec8abbebd90399bf5093a6493
       "  </tbody>\n",
       "</table>\n",
       "</div>"
      ],
      "text/plain": [
       "   Trap Date         Genus  Gender  pressure_station  pressure_sea  \\\n",
<<<<<<< HEAD
       "0 2017-05-16      Culiseta  Female             92.94        100.90   \n",
       "1 2017-05-23  Ochlerotatus    Male             92.37        101.90   \n",
       "2 2017-05-30  Ochlerotatus    Male             94.06        101.30   \n",
       "3 2017-06-06  Ochlerotatus    Male             93.81        101.05   \n",
       "4 2017-06-13  Ochlerotatus    Male             91.87        100.85   \n",
       "\n",
       "   wind_dir_10s  wind_speed  dew_point  temperature  health_index  \n",
       "0          11.0        12.0        5.3          2.4           2.4  \n",
       "1          20.0         6.0        5.1         22.9           2.5  \n",
       "2          15.0        21.0        5.3         11.0           2.5  \n",
       "3          31.0        12.0        7.7         11.8           2.8  \n",
       "4          34.0        16.0        6.6         10.4           2.5  "
      ]
     },
     "execution_count": 60,
=======
       "0 2017-05-09      Culiseta  Female             93.87        101.40   \n",
       "1 2017-05-16      Culiseta  Female             92.94        100.90   \n",
       "2 2017-05-23  Ochlerotatus    Male             92.37        101.90   \n",
       "3 2017-05-30  Ochlerotatus    Male             93.31        101.30   \n",
       "4 2017-06-06  Ochlerotatus    Male             93.81        101.05   \n",
       "\n",
       "   wind_dir_10s  wind_speed  dew_point  temperature  health_index  \n",
       "0          31.0         7.0        5.2          6.3           2.7  \n",
       "1          11.0        12.0        5.3          2.4           2.4  \n",
       "2          20.0         6.0        5.1         22.9           2.5  \n",
       "3          15.0        21.0        5.3         11.0           2.5  \n",
       "4          31.0        12.0        7.7         11.8           2.8  "
      ]
     },
     "execution_count": 21,
>>>>>>> d5a9587c6b9d048ec8abbebd90399bf5093a6493
     "metadata": {},
     "output_type": "execute_result"
    }
   ],
   "source": [
    "merged_data[\"Gender\"] = mos_count_male[\"Gender\"]\n",
    "merged_data.drop(columns=['Count'], inplace=True)\n",
    "merged_data.head()"
   ]
  },
  {
   "cell_type": "markdown",
   "metadata": {},
   "source": [
    "# Classification"
   ]
  },
  {
   "cell_type": "markdown",
   "metadata": {},
   "source": [
    "## 1) Logistic Regression"
   ]
  },
  {
   "cell_type": "code",
<<<<<<< HEAD
   "execution_count": 61,
=======
   "execution_count": 22,
>>>>>>> d5a9587c6b9d048ec8abbebd90399bf5093a6493
   "metadata": {},
   "outputs": [],
   "source": [
    "cat = merged_data['Gender'].values\n",
<<<<<<< HEAD
    "x1 = merged_data['dew_point'].values\n",
    "x2 = merged_data['temperature'].values"
=======
    "x1 = merged_data['wind_speed'].values\n",
    "x2 = merged_data['dew_point'].values"
>>>>>>> d5a9587c6b9d048ec8abbebd90399bf5093a6493
   ]
  },
  {
   "cell_type": "code",
<<<<<<< HEAD
   "execution_count": 62,
   "metadata": {},
   "outputs": [],
   "source": [
    "cat1 = np.ones(len(cat)) #for pon-linear\n",
=======
   "execution_count": 23,
   "metadata": {},
   "outputs": [],
   "source": [
    "cat1 = np.ones(len(cat)) #for non-linear\n",
>>>>>>> d5a9587c6b9d048ec8abbebd90399bf5093a6493
    "for j in range(len(cat)):\n",
    "    if cat[j]=='Male':\n",
    "        cat1[j] = 0\n",
    "    else:\n",
    "        cat1[j] = 1\n",
    "Labels = cat1.reshape(len(cat1),1)"
   ]
  },
  {
   "cell_type": "code",
<<<<<<< HEAD
   "execution_count": 63,
=======
   "execution_count": 24,
>>>>>>> d5a9587c6b9d048ec8abbebd90399bf5093a6493
   "metadata": {
    "scrolled": true
   },
   "outputs": [
    {
     "data": {
<<<<<<< HEAD
      "image/png": "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\n",
=======
      "image/png": "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\n",
>>>>>>> d5a9587c6b9d048ec8abbebd90399bf5093a6493
      "text/plain": [
       "<Figure size 432x288 with 1 Axes>"
      ]
     },
     "metadata": {
      "needs_background": "light"
     },
     "output_type": "display_data"
    }
   ],
   "source": [
    "plt.scatter(x1[cat=='Male'],x2[cat=='Male'], label='Male')\n",
    "plt.scatter(x1[cat=='Female'],x2[cat=='Female'], label='Female')\n",
<<<<<<< HEAD
    "plt.xlabel('dew_point')\n",
    "plt.ylabel('temperature')\n",
    "plt.legend()\n",
    "plt.show()\n",
    "\n",
    "# \n",
    "# pressure_station  pressure sea 0.67\n",
    "# pressure_station  wind_dir_10s  0.67\n",
    "# pressure_station  wind_speed  0.67\n",
    "# pressure_station  dew_point  0.718\n",
    "# pressure_station  temperature  0.67\n",
    "# health_index  0.67\n",
    "\n",
    "# pressure sea  wind_dir_10s  0.69\n",
    "# wind_speed  0.64\n",
    "# dew_point  0.718\n",
    "# temperature  0.615\n",
    "# health_index  0.718\n",
    "\n",
    "# wind_dir_10s  wind_speed  0.64\n",
    "# dew_point  0.718\n",
    "# temperature  0.615\n",
    "# health_index  0.69\n",
    "\n",
    "# wind_speed  dew_point  0.69\n",
    "# temperature  0.67\n",
    "# health_index  0.718\n",
    "\n",
    "# dew_point  temperature  0.77\n",
    "# health_index  0.69\n",
    "\n",
    "# temperature  health_index  0.718\n",
    "# "
=======
    "plt.xlabel('wind_speed')\n",
    "plt.ylabel('dew_point')\n",
    "plt.legend()\n",
    "plt.show()"
>>>>>>> d5a9587c6b9d048ec8abbebd90399bf5093a6493
   ]
  },
  {
   "cell_type": "markdown",
   "metadata": {},
   "source": [
    "#### Polynomial features"
   ]
  },
  {
   "cell_type": "code",
<<<<<<< HEAD
   "execution_count": 64,
=======
   "execution_count": 25,
>>>>>>> d5a9587c6b9d048ec8abbebd90399bf5093a6493
   "metadata": {},
   "outputs": [],
   "source": [
    "x3 = (x1,x2)\n",
    "x3 = np.array(x3)\n",
    "x3 = x3.T\n",
    "\n",
    "poly_features = PolynomialFeatures(degree = 2)\n",
    "X_poly = poly_features.fit_transform(x3)\n"
   ]
  },
  {
   "cell_type": "markdown",
   "metadata": {},
   "source": [
    "#### Logistic regression with polynomial features and no regularization"
   ]
  },
  {
   "cell_type": "code",
<<<<<<< HEAD
   "execution_count": 65,
=======
   "execution_count": 26,
>>>>>>> d5a9587c6b9d048ec8abbebd90399bf5093a6493
   "metadata": {},
   "outputs": [
    {
     "name": "stdout",
     "output_type": "stream",
     "text": [
<<<<<<< HEAD
      "    0  1\n",
      "0  16  4\n",
      "1  10  9\n",
      "Model accuracy: 0.6410256410256411\n",
      "Misclassified: 0.358974358974359\n",
      "% of error of true No: 38.46153846153847\n",
      "% of error of true Yes: 30.76923076923077\n"
=======
      "    0   1\n",
      "0  17   3\n",
      "1   6  15\n",
      "Model accuracy: 0.7804878048780488\n",
      "Misclassified: 0.21951219512195122\n",
      "% of error of true No: 26.08695652173913\n",
      "% of error of true Yes: 16.666666666666664\n"
>>>>>>> d5a9587c6b9d048ec8abbebd90399bf5093a6493
     ]
    }
   ],
   "source": [
    "logreg = linear_model.LogisticRegression(solver='lbfgs',multi_class='auto')\n",
    "logreg.fit(X_poly,cat1)\n",
    "Yp = logreg.predict(X_poly)\n",
    "cm = confusion_matrix(cat1, Yp)\n",
    "print(pd.DataFrame(cm))\n",
    "tn, fp, fn, tp = cm.flatten()\n",
    "tot = np.sum(cm)\n",
    "print(\"Model accuracy:\",(tn+tp)/tot)\n",
    "print(\"Misclassified:\",(fn+fp)/tot)\n",
    "print(\"% of error of true No:\",fn/(fn+tn)*100)\n",
    "print(\"% of error of true Yes:\",fp/(fp+tp)*100)"
   ]
  },
  {
   "cell_type": "markdown",
   "metadata": {},
   "source": [
    "#### Logistic regression with polynomial features and L2 regularization"
   ]
  },
  {
   "cell_type": "code",
<<<<<<< HEAD
   "execution_count": 66,
=======
   "execution_count": 27,
>>>>>>> d5a9587c6b9d048ec8abbebd90399bf5093a6493
   "metadata": {
    "scrolled": true
   },
   "outputs": [
    {
     "name": "stdout",
     "output_type": "stream",
     "text": [
      "    0   1\n",
      "0  17   3\n",
<<<<<<< HEAD
      "1   9  10\n",
      "Model accuracy: 0.6923076923076923\n",
      "Misclassified: 0.3076923076923077\n",
      "% of error of true No: 34.61538461538461\n",
      "% of error of true Yes: 23.076923076923077\n"
=======
      "1   6  15\n",
      "Model accuracy: 0.7804878048780488\n",
      "Misclassified: 0.21951219512195122\n",
      "% of error of true No: 26.08695652173913\n",
      "% of error of true Yes: 16.666666666666664\n"
>>>>>>> d5a9587c6b9d048ec8abbebd90399bf5093a6493
     ]
    }
   ],
   "source": [
    "logreg_r2 = linear_model.LogisticRegression(solver='liblinear',multi_class='auto', penalty=\"l2\")\n",
    "logreg_r2.fit(X_poly,cat1)\n",
    "Yp = logreg_r2.predict(X_poly)\n",
    "cm = confusion_matrix(cat1, Yp)\n",
    "print(pd.DataFrame(cm))\n",
    "tn, fp, fn, tp = cm.flatten()\n",
    "tot = np.sum(cm)\n",
    "print(\"Model accuracy:\",(tn+tp)/tot)\n",
    "print(\"Misclassified:\",(fn+fp)/tot)\n",
    "print(\"% of error of true No:\",fn/(fn+tn)*100)\n",
    "print(\"% of error of true Yes:\",fp/(fp+tp)*100)"
   ]
  },
  {
   "cell_type": "markdown",
   "metadata": {},
   "source": [
    "#### Logistic regression with polynomial features and L1 regularization"
   ]
  },
  {
   "cell_type": "code",
<<<<<<< HEAD
   "execution_count": 67,
=======
   "execution_count": 28,
>>>>>>> d5a9587c6b9d048ec8abbebd90399bf5093a6493
   "metadata": {},
   "outputs": [
    {
     "name": "stdout",
     "output_type": "stream",
     "text": [
      "    0   1\n",
      "0  17   3\n",
<<<<<<< HEAD
      "1   8  11\n",
      "Model accuracy: 0.717948717948718\n",
      "Misclassified: 0.28205128205128205\n",
      "% of error of true No: 32.0\n",
      "% of error of true Yes: 21.428571428571427\n"
=======
      "1   7  14\n",
      "Model accuracy: 0.7560975609756098\n",
      "Misclassified: 0.24390243902439024\n",
      "% of error of true No: 29.166666666666668\n",
      "% of error of true Yes: 17.647058823529413\n"
>>>>>>> d5a9587c6b9d048ec8abbebd90399bf5093a6493
     ]
    }
   ],
   "source": [
    "logreg_r1 = linear_model.LogisticRegression(solver='liblinear',multi_class='auto', penalty=\"l1\")\n",
    "logreg_r1.fit(X_poly,cat1)\n",
    "Yp = logreg_r1.predict(X_poly)\n",
    "cm = confusion_matrix(cat1, Yp)\n",
    "print(pd.DataFrame(cm))\n",
    "tn, fp, fn, tp = cm.flatten()\n",
    "tot = np.sum(cm)\n",
    "print(\"Model accuracy:\",(tn+tp)/tot)\n",
    "print(\"Misclassified:\",(fn+fp)/tot)\n",
    "print(\"% of error of true No:\",fn/(fn+tn)*100)\n",
    "print(\"% of error of true Yes:\",fp/(fp+tp)*100)"
   ]
  },
  {
   "cell_type": "markdown",
   "metadata": {},
   "source": [
    "L1 regularization model creates the best results so its chosen."
   ]
  },
  {
   "cell_type": "code",
<<<<<<< HEAD
   "execution_count": 68,
=======
   "execution_count": 29,
>>>>>>> d5a9587c6b9d048ec8abbebd90399bf5093a6493
   "metadata": {
    "scrolled": true
   },
   "outputs": [
    {
     "data": {
<<<<<<< HEAD
      "image/png": "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\n",
=======
      "image/png": "iVBORw0KGgoAAAANSUhEUgAAAXAAAAEICAYAAABGaK+TAAAAOXRFWHRTb2Z0d2FyZQBNYXRwbG90bGliIHZlcnNpb24zLjMuMiwgaHR0cHM6Ly9tYXRwbG90bGliLm9yZy8vihELAAAACXBIWXMAAAsTAAALEwEAmpwYAABDy0lEQVR4nO3dd3hT5RfA8e+bNukGChQoe4OAzDJkyBYUxQG4GCIb5ScoKArIFBQFByAbRQVxoeJA9t6UKXvvVWihpStp8v7+SEFK90xSzud5eGhv7jg3tz29OfcdSmuNEEII12NwdABCCCEyRhK4EEK4KEngQgjhoiSBCyGEi5IELoQQLkoSuBBCuChJ4MIhlFIHlVLNHB0HgFJqmFJqbvzXpZVSWinlnsR6JZVSt5VSbunY93yl1AdZGa8QdyT6IRUirZRSGqigtT5xz7LRQHmtdZeUttVaV83m8NJMaz0hjeudA3zvfK+UWgcs0FrPzabQhEiR3IEL4YKS+oQgHjySwEW2UUoVVEr9pZS6qZQKVUptVEoZ4l87o5RqFf/1aKXUT0qpb5VSEfHllaB79lNbKbUn/rWflVI/JleWUEqVV0qtV0rdUkpdV0r9eM9rVZVSK+NjuaqUGnbP8Rcks78O8bFWu7e8opQaDzQBpsWXVaal8T15Uim1N/492aKUqn7Pa+8qpU7Gn+chpdSz97zWXSm1WSn1mVIqFBgdX575Uin1d/w225VS5dISh8gdJIGL7DQYuAAEAIWBYUByYze0B34A8gF/ANMAlFIm4DdgPpAfWAQ8m+Qe7MYBKwB/oDgwNX4/fsAqYBlQFCgPrE4peKXUq8BEoJXW+sC9r2mthwMbgQFaa1+t9YCU9hW/v9rAV0BfoAAwC/hDKeURv8pJ7H8U8gJjgAVKqcB7dlEfOAUUAsbHL3spfl1/4MQ9y8UDQBK4yE4WIBAopbW2aK036uQH39mktV6qtbYC3wE14pc3wP6sZkr8Pn4FdqRyzFJAUa11jNZ6U/zyJ4ErWuvJ8csjtNbbU9jPIOBtoNm9Nf5M6g3M0lpv11pbtdbfALHYzxGt9c9a60taa5vW+kfgOFDvnu0vaa2naq3jtNbR8ct+1Vrv0FrHAQuBmlkUq3ABksBFZlgB433LjNiTKMAn2O8KVyilTiml3k1hX1fu+ToK8Iyv8xYFLt6X+M+nsJ93AAXsiC/F9IhfXgL7HW5avQ18qbW+kNYN4luz3I7/NzOJVUoBg+PLJzeVUjfj4yoav323e8orN4FqQMF7tk/qvO9/33yTWEfkUpLARWacA0rft6wMcBYg/i53sNa6LPAU8JZSqmU6j3EZKKaUUvcsK5HcylrrK1rr3lrrothLFdOVUuWxJ7/01IcfA0YopTqksE6CTxNa6wnx5RRfrXW/JNY/D4zXWue755+31nqRUqoUMAcYABTQWucDDmD/Y5Tk8YSQBC4y40fsSa64UsoQ/1DyKeAXuPvArnx88g3HfsduTecxtsZvMyD+4eHTJCwrJKCU6qSUKh7/bRj2pGcF/gKKKKUGKaU8lFJ+Sqn6KRz3INAW+FIp1T6Zda4CZdNxLnOAfkqp+srORynVLr4+7xMfa0j8ebyK/Q5ciGRJAheZMRbYAmzCniw/Bjrf88CvAvYHh7exJ+LpWut16TmA1toMPAf0BG4CXbAn49hkNqkLbFdK3cb+MHSg1vq01joCaI39D8wV7PXl5qkcex/22vkcpdTjSazyBdBRKRWmlJqShnMJxl4Hn4b9/ToBdI9/7RAwGfv7dBV4GNic2j7Fg03JhA7C1SiltgMztdZfOzoWIRxJ7sCF01NKNVVKFYkvobwCVMfeHFCIB5r05hKuoBLwE/YWFieBjlrry44NSQjHkxKKEEK4KCmhCCGEi8rREkrBggV16dKlc/KQDw4dBXFnAFvi15QnuJfP6Ygy5HpUFFZto7CPvT/K7bBIbt+MpEiZQg6OTAjH2bVr13WtdcD9y3M0gZcuXZrg4OCcPOQDQ9vC0dcakbh1nRG8O2PIM8wRYaVb7z9/48rt2/z5UlcA5r//A4s+/JXlwT85ODIhHEcpdTap5VJCySWUIQ/49AS87llqAOWN8umR3GZCCBcmrVByEeU7ENzLoiPngi0MTA1Rfm+g3Io4OjQhRDaQBJ6LKKXAqz3KK7me30KI3ERKKMJpnLt1k5NhYdwZtyo8NIJD246hDPJjKkRS5A5cOJzVZmP+vj1M3roJd2VgaKMmbFy8jakD5nLregQ9xr/s6BCFcEqSwIVDHbtxnXdXrWDv1cu0KF2WwdXq8vPQH9i4eDvla5Vhwj/DKV+zjKPDFMIpSQIXKdK22+jo38CyH9wroLw7ogz5M71fs9XKjODtTN+5HT+TB5+3eQLTlssMCxpBbLSZnh92puNbT+JulB9RIZIjvx0iWdp6BX3jObBFAtGAJzpyNhT4AZWJjkH7rl5h6KrlHLtxnacqVqZfmYeZ/8Y37F65n2qNK/PWnH6UqFQsy85DiNxKErhIlg7/EGyh/Ne7MwZ0LPrWcFSBH1PaNEnRFgufbdvMV3t3U8jbh1nt2hO59ATvdBqGUor/TevFk/1aY5CHlkKkiSRwkTzzehJ3zddg2YfWZuwTxqfN1vPneG/1Cs6F3+KlatV5uWA5Zr/yFYe2HKVu25oMmtmHQiUT9RQWQqRAErhIgQn7PLn3cyOtLVDDY2OZuHkDiw7sp1TefHzXvgNnFu7i7XHD8fT15J1vBtCqy6N3mw4KIdJOEjigrTfQUd/bH9QZK6O8O2eq96LWZoj5Gx2zHAz5UF4voUw1sjDiHOL1LER9T8LxVYzg0RL7hPEpW33qJO+vXcW1qEh61w7iSY9Apj07jVP7ztL0+Ud4/Yse+BfOl13RC5HrPfAJXMedQd/oCDoGMIN5CzpqAeT/HmV8KP3702Z0aGewHMP+4M+Ajv4H7TcEg0/XrA4/Wym/N9GWQxC3n7uTo7uVROUdm+J2N6KiGLthLX8eO0LFAgWZ0vpx9k7fwJDJ08kXkIfRv75No2eSnZdYCJFGksDDx4OOwD4hOIAFtAUdPgpVIAMj4EX/BXF3kjfYa8jREPEx2utp+6BTLkIpT1SB79CWA2A5Cu6lwFgn2XKH1po/jh1h7Po13DabGVS/IY1j8jD1sUlcOHaZtj1a0OeTrvj5++bwmQiROz3wCRzzVv5L3vew7EPruDSVCu6lY5aBjk78gjKCeRd4pjgRulNSxmpgrJbqeitPneDN5UupWTiQj1o9hneohZ4PDaRQyYJMXPE+tVtVz4FohXhwSHst5ZnMC0bsD+vSyZCXu+WGBDQYcved58WICADmtX+WigUKcuNiKDab5q25/SV5C5ENJIF7PQ943LfQZB/VLwMtI5T3S0nsD1DeYKydkQgdSlsvYwufgO3GC9huvY+OO53qNob73jdp1y1E9njgf7OU3yDwaAh4gPIFPMFYC+U3PGP7M9UGv0H/7U/5gCEA5f8VSmXgjt6BdNwJ9PV2ELUALHsg+hf09WfQ5t2ODk0IgdTAUcqE8p+FjjsFccfBrQzKWDFT+zT49EB7PQfmYFB+YApyueQN8T0xdST/PSOwAtHo8JGogn85MDIhBEgCv0u5lwX3slm3P0M+8GyVZftzCPNOknzAG3cCrWNRKmGp6GZMwoe34TcisjE4IYQkcJE8gy/YYpJ4wci9Pzq3YmIYv2kdvxw6SNWAQnig+G7Mz3w/YTF5C/pRskrxHAtZiAeJJHCRPO+ucHsGcG8S9wCvZ++WhJafPM7ItasJjY6if1A92hgC+F+99zhz4DwtXm5M/8+6ky8gr0PCFyK3kwSeTbTWYLsCysteTnFByqc32noGov8G5QHaDB4NUXmGERIVyeh1a/jnxDGqFAxgxmPt2DllLW9/PpX8gf6MXTKUR54KcvQpCJGrSQLPBjp2C/rWe3eHYtWm+qh8k7JkIoScpJQ7Ku9EtO9bEHcS3EqCWzF+PXKIDzasIzrOwuBHGlM/wovPW0zk8qmrtOvTmt4TO+OT18fR4QuR60kCz2I67jQ6rB8Jyg7mbejQHlDgN5ccdU+5FQa3wlyMCGf46l/ZcO4MdQKLMrL+o6we/xfvzVlF0fJFmLRmNDWaVXV0uEI8MCSBZzEd+R1guW9pHFhPQ9xhMFZxRFhZ4t1Vy9lz5TKjm7agS/WazH3nO5bOXc3zQ9rTdfTzeHon0YFJCJFtUu3Io5T6Sil1TSl14J5lnyiljiil9iulflNK5cvWKF2J9Sz29tL3cwPr5ZyOJkvdjInhkeIl6FajFgaluHUjgoASBej9cVdJ3kI4QFp6Ys4H2t63bCVQTWtdHTgGvJfFcbkuUz2S7EqvLS599y2EcD6pJnCt9QYg9L5lK7TWcfHfbgOkoW885f0iGPKQsDrlBV5Po9wCHRWWECIXyooaeA8g/TPc5lLKkBcK/I6+PQ1i19jHQ/HuhvJ+wdGhCSFymUwlcKXUcCAOWJjCOn2APgAlS5bMzOFchnILQOUdA4xxdChZJiw6mrCYaIr42ofENcdauHbuuoOjEuLBluHRCJVSrwBPAp211kkMmGGntZ6ttQ7SWgcFBMis465Ga83S40d5bMF8rkVG0q5CZQ5tPUr/2m+zd80BWnZu4ugQhXhgZegOXCnVFhgKNNVaJzVtucgFrkXeZuTa1aw4dYJqhQozp82TbPl0FdOn/kNAiQJMWDqMum1rOTpMIR5YqSZwpdQioBlQUCl1ARiFvdWJB7AyvmPKNq11v2yMU+QgrTU/HzrAhE3riY2z8m6jR6l5w53JzT7kypkQ2r/Whp4fdsbbz8vRoQrxQEs1gWutX0pi8bxsiMXpaW2GmKVo81YwFEN5P49yK+LosLLUuVs3GbZmJVvOn6Ne0eKMqNuYZWOWMHz+WopXDOTT9WN5uMlDjg5TCIH0xEwzbbuNvtEJbJdBRwEmdNQ88J+DMtVzdHhZ4tt9e5i4eQNuysC45q0oe9bCuEdGczMknBeHPkPXUZ0weZocHaYQIp4k8DTSkXPBeh4wxy8xgwZ9czAEbHDJMU7ude7WTUavX0OjEiWZ2KoNRf3y8HTjbhQsnp8P/nqPCrWzbrILIUTWeODnxEyzmKX8l7zvYQuP7z7v2qIs9vFbXn64BkX98gAQExlDk+caSPIWwklJAk8rldxYH7YUXhNCiOzjkglcWw5ju/U+trB+6Kif0Dqpab+ymFdnwPO+hQZwLydd5IUQDuFyNXBb1BIIfx97OcOGjt0KUd9C/p9QBu9sO67y7oS27ISYFaDcAAXKD5VvarYdUwghUuJSCVzrGIgYRcI5GqMh7hw6+keUz6vZdmyl3FD5JqPjToJ5L7gVBtMjd+eGdGVaa3ZcvACAwv4w9t+Nh7HZNLj2s1khcjWXSuBYDpB01ScGYv6BbEzgdyj3cuBeLtuPk1MuRYTz/trVrD1zipqFA6ntX4gpr8/lzxnLKVKmkHSVF8KJuVYCV74kPVkCoGTm8/Swac0PB/bz0aYNWLWNEU2aUeWyYlDtoVy/EMpzA9vR/YMX8fK5v+4vhHAWrpXA3SuBoRBYzwH3jp/lhfLp7KioXM7pm2EMW72C7Rcv0LBESYbVasifo37l/e82UKpKcT7f/AFVGlR0dJhCiFS4VAJXSqE920PkfQ8OlRGMQY4JyoXE2Wx8vXcXn27dgsnNjQktWlPkYASj6o8kIiySziM68PLwDpg8jI4OVQiRBi6VwLUtCiLnJvFCLDpqIcq3b84H5SIuRoTz2t9/8O+1q7QuW45h9Zrwdb95zPt9JxXqlGXiypGUrV7K0WEKIdLBpRI4cQftTfgSjT4eC7GrQBJ4shbu38fBkGtMbfskT1SoyPqftrD59510G/U8Lw9/Djd3129NI8SDxrUSuMoHOpmHmIYCORqKq4mzWfF0d6ddxUr27y3297FF58aSvIVwUS7VE1MZK4B7CRKFrbxQ3q84JCYhhHAUl0rgAMp/DriVBeUV36zQA3wHojwecXRoQgiRo1yrhAL2cUcK/g1xR8EWBsaHUQZfR4clhBA5zuUSONibE2Ks7OgwXMbF8HC2X7yAu8H+gSvyViRb/tgJgLvRJX8EhBC4aAIXaWPTmgX79/Lxlo0AjGnWkq1/BvNF/9mEXbnJy8Oeo3CpAAdHKYTIKEngudSpsFCGrlrOrsuXeLRkad6pWZ/fh//CzEWbKfNwScb8PpRKQblnTBchHkSSwONp222wXgC3oihDHkeHk2EWq5U5u4OZsmMrXu5GPm7VBv89obxfdyTREdF0H/siz7/THqNJelsK4eoe+ASutQ0d8QlELQDlDtqC9noOlWckSrnW23Pw2lWGrlrOoeshPF6+IgMq1GThWwvY/vduHmpQgcFz+1OqSglHhymEyCKulaGygY78GqK+B2JBx9oXRv+OVnlReQY7NLb0mLdnFx9tWk9+L2+mP9GefEfCeTdoODarjf6fdefpAW1xc5MOO0LkJg98AifqKyD6voUxEL0A7feWy8w2PzN4BzWLBDL3qWfJ6+nJ0NfH4ZPPm8lrxxBYtrCjwxNCZINUO/Iopb5SSl1TSh24Z1l+pdRKpdTx+P/9szfMbGS7mfRyHUWyY487JU3lggHk9Ywfv1trAkoUdLrkff3iDT559Us6FupJlzKv8dMnS7DGudL7LITzSEtPzPlA2/uWvQus1lpXAFbHf586HY3WtvTEl/2M1ZJe7lbW5Wrgzi4i7DavBQ1l9cIN3LoeztWzIXw75icmdpN5RYXIiFQTuNZ6AxB63+KngW/iv/4GeCZNR4s7jQ5pirYcSH3dHKL8hgFe/PdWKMATled9xwWVS/0zdzVR4dFY4/77Ix4bZWbz7zu4dPKKAyMTwjVldCyUwlrrywDx/xdK22Y2sF1Fh76C1vfXnR1DmWqgCvwEHo+BWynwaIEqsBDl0dDRoeU6/246TGy0OdFyd5M7J/eeyfmAhHBx2T6YlVKqj1IqWCkVHHLjTq3TBjGrs/vQaaaMlTD4T8EQsBKD/wyU8WFHh5RmVpuNr/bs4mZMDN5Ge9vujb9u5/iuU3j6eDg4uoRKVCqWZNd9m9VG4dLSI1SI9MpoAr+qlAoEiP//WnIraq1na62DtNZBAQXim7FpC9jur8qI9Dp24zqdfv6BDzau49FSZehYvAJjO01ibMdJFCoVQL/JzjXEbvvX2uBuSpjA3Y1ulKhUjAq1yzooKiFcV0YT+B/AnezwCrAk3Yc11c3goYXZamXK9q08teg7zt4K47PHHuf50HwMrTOMbX/tpsf4l5m2/UPKVCvp6FATKFK6EB8tH0HxioG4m9xxN7kT1LYWHy0f4TLNNYVwJkrrRPOTJVxBqUVAM6AgcBUYBfwO/ASUBM4BnbTWqd5SB9Xw1DtWVAKPVhjyTc5c5A+ofVev8O6q5Ry9cZ0nK1bitbI1+GbgNwQv30fVRpV4a05/SlYu5ugwU3XrejgmTyNevl6ODkUIp6eU2qW1TjRze6rt5LTWLyXzUsv0R+GDyjMOPJ9M96YPumiLhc+3b2Henl0U8vZhVrv2RP5zgrc7vQfA61N60P61NhgMrjFHR96CrjvejBDOImcbOruXQXm1z9FD5gbbLpznvdUrOHvrJi9Vq07ngPLM7j6Pg5uPEtSmBoNm9pVhYYV4AElPFScWHhvLxM0bWHRgPyXz5OXb9s9x7vs9DBk7DE8fD97++nVad2sq9WMhHlCSwJ3UmtOnGLFmJdeiIulVqw7tvYox7bnpnNx7hiYdG/C/qT3xL5zP0WEKIRxIEriTuREVxbiNa/nj6BEqFijIlNaPs2/GRgZPmkG+gDyM/GUITZ6r7+gwhRBOQBK4k9Ba89fxo4xZt4YIcywD6z/Co7F5mfLYJC4cu0yb7s3pO7kbfv4ygbMQwk4SuBMIiYxk2JoVrD59ihqFizC2cXPWf/QPQ6cvp3Cpgny0fAR1WtdwdJip0loTFRGNh5dJJksWIgfIb5kT+Hz7FjaePcvwJs3oXqMWf89cyZIvl/HMgMfpMeEll2grvf3vXUwdMI/rF0NxN7rRtmcL+k7qJlO3CZGNJIE7gYjYWIrnzUPPWnUAiAqPAqD3x10weZocGVqaHNp2jHEvfEpslH2gKmuclWXz1hAVHs078wc4ODohci/X6PUhnNr34xffTd53xEabWf/TFsJDIxwUlRC5n0smcB27Hltod2zXn8IW8SnaFubokB5oF45dTnK5u8md6xdk0DIhsovLlVBst+fB7Sncnccy7jQ6+nco+AfKkM+BkT24KtUtz+VTV7FZE862ZLVYCSybxqHihRDp5lJ34Np2G25/QcJJiM1gC0NHfueosDLlVkwMZ27dvPu9xWzh1L9nHRdQBnQe0QGTV8JavYe3Bx3efNIlHsAK4apcKoETdxiSnKcyFmI35Hg4mbX85HEeWzCfwyHX6Fa9Fkd3nuD1uu+ydtFmnuzb2iUeYAKUrFyMzzeOo3ar6nj5elKkTCH6Te5G93EvOjo0IXI11yqhGAqAjkviBQVuzjX7ekpCoiIZs24NS08co0rBAGY81o7gqWt547O/yB/oz9glQ3nkqUQjRzq1cjVKM3GFzCMqRE5yqQSu3Mui3ctD3BHg3kTugfLp7qCo0k5rzW9HDjFuwzqiLRYGP9KYBre9+aLVx1w6cYV2fVrTe2JnfPL6ODpUIYQLcKkEDqD8Z6NvvgaWw6CMgAa/YSiTc9+xXowIZ8Salaw/e4Y6gUUZWa8Jqz9cyruzV1K0XGE+WT2Kms2rOTpMIYQLcb0E7lYQVeAndNx50DfBvSJKOdfkvfeyac3Cf/fx8eYNaGBU0+ZUOGdjQuNxhF4Oo+NbT/HK2Bfw9HbecxBCOCeXS+B3KPcSQAlHh5GiU2GhvLd6BTsvXaRxiVK8W7MBv4/4hQWLNlO6WglGLR5C5XoVHB2mEMJFuWwCd2ZxNhtzdu/ki+1b8XR3Z2KrNuTfG8bI+iOJvBVFt1HP8+J7z8g4IUKITJEEnsUOhVzj3VXLORByjbblKvBGpVosfGsh2/7aReV65Xlrbn+nmy1eCOGaJIFnkdi4OKbt3MasXTvJ5+nJtLZPotedY2jn4VgtVvpNfoVn3ngcNzc3R4cqhMglJIFngeBLF3lv9QpOhoXS4aGq9ChWmXn95rNv3UFqNq/Km7P7UbRcEUeHKYTIZZwqgWvLIfu4JjoG5dkGTA2dfsLenZcu8OIvP1LULw/fPN2Bap75eKXC/1AGxZuz+/F4zxZOfw5CCNfkNAncFvk1RHwGmAEbOuYP8GgJeSc5dQI8GRqKBhY+14mSefNxZMdxom/HMGrxEBo/K3NXCiGyT6bGQlFKvamUOqiUOqCUWqSU8szIfrT1GkRMBmKA+BHtdBTErgLzlsyEmGNM99W2jR7SwkQIkb0ynMCVUsWAN4AgrXU1wA3I2OhF5k1JD1Klo9ExKzIaohBC5GqZHY3QHfBSSrkD3sCljO3GA0iqTGIAJcORCiFEUjKcwLXWF4FJwDngMnBLa52x22WPpoBO4gUTyuuZjIaYI2KtCUdHNMdYHBSJEOJBk5kSij/wNFAGKAr4KKW6JLFeH6VUsFIqOCQkJOl9GXxR+b4E5Q3Kx/4/HuA3GGWsnNEQs5XFamXajm18uHEDRXx8yevhwcpv1zP62Y8xehgpUalolh9Ta43WSf2hcz255TyEcKTMtEJpBZzWWocAKKV+BRoCC+5dSWs9G5gNEBQUlOxvrfJoBAGbIXY9EAOmR1FuBTMRXvb599pVhq5azpHrITxZsRKvlavOuKc/YeeyvVRpWInBc/tnabvvyPAoZrw5n7WLNhFnsVKzeTX+92UvilcIzLJj5JSzh84z5fW5/LvxMCYPI61faUafT7ri5ZOh599CPNBURu+ElFL1ga+AutjnOJsPBGutpya3TVBQkA4ODs7Q8ZxBTJyFz7dvZe7uYAK8fRjTrAXRy04y772FaK3pOaEz7V9vg8GQdRMdaa15o+FwTu49jSXWXq5RSuHr78P8Y1PIk98vy46V3UKvhNHjoUFEhUdx58fO6GGkaqNKfLJqlGODE8KJKaV2aa0TjZmd4TtwrfV2pdQvwG7ssyvsIf5OOzfacfEC765ewZmbYbxQ9WG6Fq7AnFe/4sCmI9R5rAaDZvahSOmsn8D3yI4TnDlw7m7yBntSN0ebWf71WjoNbp/lx8wuf85cgTnGwr33DJZYC4e3HeP0gXMyRowQ6ZSpjjxa61FArr51ioiN5eMtG1n47z5K5snLt+07cOGHPQwZMxxPbxNvf/06rbs1zbbORucOX0hyeWy0mZN7z2TLMbPLid2nscQmfsjr5u7G+SMXJYELkU5O0xPTGa09c4oRa1ZyNTKSnrXq0N67GDM6Tuf47tM06VCfAVN7kr+If7bGUKpK8SSXe3ibKF+rTLYeO6tVCCrH7lX7E7XUsVqsyZ6nECJ5rjUrfQ4JjY7izeVL6fnHb/iaPPi+fUcCl11iSIMRXL8YysifBzPy5yHZnrwBKtUtT9kapRL07FQGhYeXiTavNs/242elp/q2xuhp5N4PK0ZPI9UaV6ZUFeeenEMIZ5Thh5gZUbN2bb139+4cO979bpvNrDp1glirNdl1ImJjmbVrB7diY3ktqD5NLXmZ2mc2549e4rHuzeg7qVuOPziMvh3NrLe/Y/WCDVjMcdRpXZ0BU3oSWLZwjsaRFc4duciXA79i39qDmLyMtHm1Bb0+fBkPL5lSTojkJPcQM0cTuFepknrM9wt5o34DPN1zdqyQ9WdOM2zNSi7fjkh13YcLFWZsw2ZsmrSCJV8uo1DJggya1Zegx2rkQKRCCJFQlrdCyYi8Hp7M3LWD5SeP81Grx6hbNPvrnmHR0XywcR2/HTlEef/8LHy2E6Xy5Ut2fYXi3OYTfPzoeELO3+Dp19vSY8JLePlmfZd+i9nC0jmrWPntBpRB0a53K1q/0tQlJ30IvRLGT5P+YPfK/QSUKMjzQ9pTo1lVR4clRK6Wo3fglcs/pGet/Jv316/mQng4XavX5O2GTfA1mbL8WFprlh4/xuj1q7kVG0v/oHo0j/Pnn5krk2wJcUfkrSh2r/qXEpWK8tbc/lRrlD09QW02G++0GsuRHceJjTID4OnjQZ3HajB68dvZcszscuNyGH1rDiHyVhRxZntzRw9vE69P6cHjPVo6ODohXJ9TlFDyqPy6S51evDa7D79GnOObfXso4uvH+BataVY661pUXL19m5HrVrHy1EmqFSrMmEeasuXTlSyZtow8BXzxL5wv+Y0VNGxfl84jOmDyzPo/LHcEr9jHmI6TiLkdk2C5p48Hk9aMplLd8tl27Kz25Rtf8desFcRZEj5b8M7jxc9X52GSoXWFyBSnKKEEli1MyIVQhjQYwYtDn+H7Xp14f8NqevzxK89WrsKIJs3w98p4qUJrzU+HDjBh43rMVivvNnqUmjfc+bT5h1w5ExJfDnkZbz/Hj3C4b/3BRMkbIM4cx/4Nh10qgQev2JsoeYP9elw4eomy1Us5ICohcr8cTeB+/j7M2/EZMwd/w8Lxiyn56zY+md2HNW5hzAjewZ/HjiSaGCE9bFoTExdH/WLFGR7UmGVjljB8/lpKVCrKZxvGUq3xQ1l4NplToIg/Ji8T5mhzguVGDyP5CuVxUFQZk7+IPxeOXU603GqxkjfAtc5FCFeSoyWUe8dC2fHPHj7vN4vrF0J55n+P0/CtViw/fxqrzZapY1QuGECBQxFM/988boaE8/zbT9N1ZMdsLYdkxK3r4XQp+3qiu3CfvN4sujDLpQZ32v73Lj548TNiImPvLnM3uVO9aRUmLn/fgZEJkTs4RQ38/sGsoiKimffeQv6YvpwipQPoNbErBQLzZXj/VquNJdP+YePi7ZSrWZrBc/tToXbZLIj8P+ZYC5dOXCFfoTzkC8ibqX0d2HSYsc9/SsztGLTW5Cngx+hf387ymHPCL5/+yfyRP+LmbiDOHMdDDSoyavEQ/Px9HR2aEC7PKRP4Hf9uPMynvWck+TE8vYweRrqO7ESnIU/hbszaCtEf05cx972FAMSZrdRtW5N3v/tfppoY2mw2Tu0/i5ubgdLVSjr1BM6piY6M4ezB8+Qvko9CJQMcHY4QuYZTJ3AAc4yZw9uOY41LvpdkWhSvGJgtyWP70t2Me/5TYqP+KxMYPYzUe7wWo391rWZ/QgjX4hStUFJi8jQ5dcePHz76LUHyBvtQqDv+2c2t6+HkLSgP64QQOStXD2a1+fcd9Kv9Nh0CevBe2w84vvtUhvd141JYksvdTe7cDAnP0D4jw6OYOfgbXijWh5dK9uXrEYuIue+PBECcJY7vP/yVzmX60ymwF5/3m83NkFsZOqYQIvdwmhJKVls6dxXTB81PcNfs4e3B5xvHZWgY1sk9p7Pi2/XYrAlbyXj7efHztfR3VrHGWelb620uHb+MJb73osnTSLmapfli8/gEtfCRz0xk98r9xMY3OXQ3upE/0J+5Bz9zqdYqQoiMSa6EkivvwK1WK3PfXZio5BEbFctXw77P0D47v98RLz9P3Nz/e8s8vD3o/UnXDPU03PpnMNfOhtxN3mCf0f7MgfPsX3/o7rLTB84lSN4AcRYr4TciWL1gY4bORQiRO+TKBB529VaChHevo8EnM7TPIqULMWvPJB7r3pyi5QpTo1lVRi0ewpN9Wmdof0d3niA6iZ6Y5lgLx+6J8VjwSZQhccuUmMhYDmw6nKFjCyFyB6d5iJmV8uT3JbnGeIVKZXym+8KlAnhrdr8Mb3+vwDKF8fTxSND5BexllMKl/2tFU6R0oSSbFpo8jRSvVDRLYhFCuCaXuwO3Wq38MPE3XijWhyd9u/Be2w84c/B8gnVMniae6N0KD++EvS89vD3oOrJTToabrKYvNMTokXB2GoNB4eXrxSPt/yt1PfzoQxQolj9B6Qbs80g+3lNG+hPiQeZyCfyL/nNYMO4XQi+HERsVy66V+3ij4XCung1JsF7fSd1o17sVJi8TJk8jfvl9ef2LV2nYvq6DIk/IJ483n8U/UHU3ueNudKNygwp8vmkcRtN/NXWDwcDktaOp0ayafT2TOyUfKsYnq0dRIDD7p3QTQjgvl2qFEnb1Jp1Lv5ZoPG93oxvt+rZmwJSeibYxx5iJCIskX6E8TjtRQnhoBEqpVLudR4ZHYYm1ZLoLvxDCtTh9R560OHfkIiZPY6IEHmexcmT78SS3MXmaKBDoXANZ3S+tc2z65PHO5kiEEK7EpUoogWULJzmbjsHNQOmqMqu5EOLBkqkErpTKp5T6RSl1RCl1WCn1SFYFlpRCJQoS1KYmJs+E7a5NnkY6vf10dh5aCCGcTmbvwL8AlmmtKwM1gGxvmDx80SAe694ck6cRg5uBUlWKM2HpcEo9lP0TJAshhDPJ8ENMpVQeYB9QVqdxJ1nZld5qtWK1WJ1uogYhhMhq2dGVviwQAnytlNqjlJqrlPJJ4sB9lFLBSqngkJCQxHvJIDc3N0neQogHWmYSuDtQG5ihta4FRALv3r+S1nq21jpIax0UECCD/OdmWmuib0dnekx3IUTaZCaBXwAuaK23x3//C/aELh5AO/7ZQ7dyA3g2/6s8na8b0wd9jcWcuMWQECLrZDiBa62vAOeVUpXiF7UEDqWwicilDm8/ztiOk7hy5hrWOCuxUWaWzlnFF/3nODo0IXK1zLZC+R+wUCm1H6gJTMh0RMLlfD9+MeaYhKM/xkabWbtoE+GhEQ6KSojcL1M9MbXWe4FET0bFg+X80Usk1Q7J3eROyPkbae5pKoRIH5fqiSmcU6W65TAkMWa51WIlsGxhB0QkxINBErjItM4jOmLy8kiwzMPbg+cGtcPbz8tBUQmR+znVYFZhV2+y6dftmGMs1G9Xm+IVMzdhgTnGzJYlO7l69joV6pSlVotqSU6O4ArCrt1i0+JtxEabqfdEbUpWLubokO4qWbkYn20cy6wh33JkxwnyFvTj+SHteap/G0eHliEWs4WtfwRz+dQ1ytUsTe1WD2MwyL2OcD5OM5zshl+2MvGVaSgFNqsNpRQdh7Tn1bEvZuhYl09dZWCj4cRExWKOtmDyNFKqagk+WT0KT2+P1HfgRDb9tp0Pu0z5770xGHj2jSfo9WFnR4eW61w7F8LARiOIDI+6+3NTrEIgk9eNkU8TwmGcelLjiLDbfPzKNMzRZmKjzFhi4zDHWFj86Z8c2ZH0MLGp+bDLF9y8Fk50RAzWOCvRt2M4ufc0iyb8msXRZ6/I8Cg+6jol4XsTbeb3qf9wcMtRR4eX63zSYzqhV24m+Lk5e+gC34z60dGhCZGIUyTwHUv3YHBLHIo5xsLqhUnPvB56JYyzhy8k2esvPDSCo8Enuf/ThSU2jn/mrc6aoHNI8LK9SU5EYY42s2rBBgdElHvFRMXy74bD2Ky2BMstscn/HArhSE5RA7fZbEm/oEHf91r4jQg+ePEzDmw6grvRDTejG2982ZvmLzb6b39WG7a4pPd5+1ZUlsWdE2w2jSapMpdO9N6IzEmpnKhtOVdqFCKtnOIOvN7jtZK8kzZ5mWj2YuMEy0Y+PZF/Nx7CEmsh+nYMt8MimdxrOofvmZHHGmcjuWnpXe0ZZlCbGlgtiRO1h7cHze97b0TmePl48lD9Cqj7mkS6m9xp+ny2DnUvRIY4RQLPWzAPb8zojcnLhLvJHYNB4eFt4vGeLajWqPLd9S4cv8yJPaeJMydM9uZoe738Dp+83hiNSX+4CCzjWu2S/fx9eWtuv/veGw9ad2tK9aZVHB1erjPk69fIU8APT19PALx8PSlSphCvfvCSgyMTIjGnKKEAtHmlOTWaVmX9T1sxx5hp8GQdKtQum2Cd0MthuJvciY1O2G1ba51gVnpPbw9adW3KqoUbsMT8N6CSydtEl/c7Zu+JZIOWLzehWqPKrP9pCzFRsTR4sg4V65RzdFi5UrHygXx36ks2/LyVSyevUr5maR5pH4R7MjcEQjiSU/1UFildiBfeSX5qtLLVSyU5J6bRw0jtVtUTLBswrScWSxzrf9yCu8kNraHryE40e6FRou1dQeFSATwv08blCC8fT9p0b+7oMIRIldO0A0+r78b+zE+fLCEmMhYAd6Mbvv6+zPl3MvkC8iZa//bNSG5cDiOwTCGZAEII4ZKSawfuVHfgadF1ZCdKVy3Bz5P/4FZIOPUer81Lw55NMnkD+ObzwTdfoomChBDC5blcAgdo0qEBTTo0cHQYQgjhUE7RCkUIIUT6SQIXQggXJQlcCCFclCRwIYRwUZLAhRDCRUkCF0IIFyUJXAghXJQkcCGEcFGSwIUQwkVJAhdCCBeV6QSulHJTSu1RSv2VFQEJIYRIm6y4Ax8IHM6C/QghhEiHTCVwpVRxoB0wN2vCEUIIkVaZvQP/HHgHSHZ2XaVUH6VUsFIqOCQkJLnVhBBCpFOGE7hS6kngmtZ6V0rraa1na62DtNZBAQEBGT2cEEKI+2TmDrwR0F4pdQb4AWihlFqQJVEJIYRIVYYndNBavwe8B6CUagYM0Vp3yZqwsoY51sLWJTu5ejaECnXKUrN5NZRSjg5LCCGyhEvOyJMWl09dZWDjEcRExmCOtmDyNFK6Wgk+XjUKT28PR4cnhBCZliUJXGu9DliXmX1YrVaWzl7FX7NWEhttptmLjXh+SHu8/bwytL8Pu3zBzWu30Db7pM3Rt62c3HuGHz78le7jXsrQPiPDo/hq2PfsWLqblOaCNnka6fDmkzzeqyUGg/SVEkJkD6eZlf6DFz9j21+7iI2yzzZv9DBStFxhpu/6GJOHMV3HiQi7zfOBvYkzxyV6rWDx/Cw6NyvdsW9fupsv+s3mxqVQGj5TDy8/z2TXvXD0Eoe3HadGs6q8ObsvxcoHpvt4mRF27RbhNyIoVr4I7sZc+yFLiAeGU89Kf+bgebb9GUxstPnuMkushatnQ9jw81ZadXk0Xfu7c9edFJs1fX+wbl0PZ8ab81m9cCOlqhTnvR/H4VM5gJT+8Jnc3Pj3p2Bmvf0tfWsM4ZWxL/LcoCdwc3NL17HTKyLsNhNe/px96w7hbnTDzd2N16f2oFXn9L1/QgjX4BQJ/PC2Y5DEw8WYyFj2rT+Y7gSep4AfpauW4OTe0wlKHUYPd1p2bpymfWitWf/TFr584ysiwiLpOrIT5V+pS/9ly7i0MyrV7duUq8DE4PEsHLyQ2W9/y/qfNjN43muUqVYyXeeSHmM6TOLglqPEmeOwxFoA+LzvLIqULkS1RpWz7bhCCMdwigReoGh+DG6Ja8VGD3cKl8pY2/F3F7zBm03exxJrISYyFi9fTwqXDqDziI6pbnv9UihTXpvD1j+CqRhUjjHLhvFD6ClG/7EY400LAcsvYEJhMBjoPKIDgWULJ9j+VFgoM4J3sPXCOYZPaEfzFxszfeBXvFbnHV567zleGvYsRlP6ykKpuXz6Koe3HUtUNjJHm/ll8h+SwIXIhZwigddpXR2fPF7ERMYkKH+4ubvR9tXmGdpnqYeKs+D0dNb9sJkrZ65RqW55qjxSkTULN2KJTVwbvyPyVhSLP/+LOHMcfT7pRsCzVem7fjWXwsPx3xpCvt/PYDD/1/F004Cf+eb41ETNE5+qWJn3Vq9g6OoVNC5RinE7xrHk/cV8N/ZnNi7eRptXm6f4gNO/SD4e7dQgzWWXsCs3cTe5Y46xJFiuNVw9ez1N+xBCuBaneYh5+dRVxnaazLnDFzAYDPjl9+XdBW9Q/dEqmT6u1poNv2xj2v/mcfParVTXr9m8Kj2mdueri0dYfPggZf39yfv1EcLXnU60roe3idn7JlO0XJFEr9m05vt/9zFx8wY0MOSRxlS6YGPqa3MJuXAj1Tgq16/A4Ln9KV21RKrrRoZH8UJg7wTPEQCMJneeeeMJ+nzcNdV9CCGcU3IPMZ0mgd9x7fx1zDEWipUvkiWdbm5cDmPq63PY/PtOKtQpy8AZfShWPnGyvUMp2BBykVHrVhMWHU3fOvX4X70GvF7rHc4ePJ9ofZOXiXkHP6NI6ULJ7vNiRDgj1qxi/dnT1C4SyPhmrSlm8k4x7u1/72LGm/OJvBXFy8M78OK7z6Radvl+wmIWffgbMZH2ljxu7m745vNm9v7J5C/in+K2Qgjn5TIJPKtorVn+9VpmDv4GS6yFV8a8QJGO1VlwYB9mqzXZ7SLMsey5cpmqAYWY2KoNVQLsifmXT/9k/sgfiI367w5XKShRuRjzDn6epniWHD3M2A1riTJbqFesOIYU/kAV9PamR4WH+X3EL6xdtJkyD5dk8Nz+VKpbPsXjbPx1O79M/oOwq7cIalODl4d3oGDR/KnGJ4RwXg9UAr986iqf95vF7lX/8vCjD9H7yx7Mv3yUnw8doIiPL0V8/ZLdViloXbY8PWvVwXhP/dlitjDiyY84tPUoFnMcJg8jRg93Jq8bm6YSxx3Xo6L4ZMtGjt9IuYRyLNRet367YWPKn7Uy7fW5hF4Oo8ObT9JtzAvSm1SIB4hTJHB/94L6g9c/5tUPXspwD8uUWK1WlkxdxtcjFmFwM9BrYheMLUszav0aQqOj6F27LgPrP4KHe8ae3WqtObjlKIe3HqNAUX8aPVsPD6/sSaQXw8MZvmYlG86doU5gUUbWb8Lq8X/z95xVFC1XmDdn96NGs6qp7kfGfhHC9TlFAs+j8uvGnm0oXa0kX+74KEuTy9lD55ncawaHtx2n3hO16PJZV748vpelJ45RpWAAH7VqQ7VChVPfkRPRWvPrkUN8sGEd0RYL/6v/CPUjvJjadzaXTl5NdfvytcowaFZfKgWVy4FohRDZxWkSeH3VEi9fT8YuGUrN5tUyvU+L2cKPE5fw/fjFePl50f+z7tyqXYAPNt5Jeg3oU7tugnKIqwmJjGT0+jX8E//HaGzj5pxbcoCI0NvJbmONs7Ls6zWEXblJx7eeotuY57Pt04IQIns5VQI3erjT68MuPDeoXab2dzT4JJ/2msGp/Wdp9mIjnh3fkU/2b2f9WXvZ4aOWj1Euf4Esij77aa1T/FSy/ORxRq5dTWh0FD1rB9GgWMq196LuXvw99neWzl1N0fJFeGtOP2o0Tb3sIoRwLk6VwL38vBj+/UDqt6uTof3ERMXy3eif+OXTP/Evko8BX/biVGkjn2zZiAbeadiELtVrptjKw1Xdiolhwqb1/HzoQKrrmtzcGFj/EYJueTK17xwun7rKk31b02tiF3zypNyMUQjhPJwmgTc0tiagREHmH5uSocGd9q0/yKe9Z3LpxBWe6NWSVsOfYtzOjQRfukiTkqUY36I1xfPkzYboncupsFDCY2OTfT3OZuOrPbtYdvI4VQMKMaZhM3ZMWcNvX/xNgaL5GTijd4b/gAohcpZTJPC8hvx6wBNDeGtOfwoEpq9jSWR4FHOHLuCvWSsJLFuY/83qzc48MUzZsRUvdyMjHm3Gc5WrSKuL+/xz4liCTkmtVUGm9p7F2UMXeKR9UIpjzRgMBpp0qE+1xg/lYMRCiPs5RQKvU6eO3rUrxTmQk7T971180X8ONy6F8uzAdtQf1JKRm9ZyMOQaj5evyOimLQjw8cmGiHOHmzHRjN+4/u6wAB882pKjX23jr5kriLMk36nJEmshNtrMU/3b0OujztnS9FMIkTqnSODp7chz63o40wd9zZrvN1G6agkGzO7DSn2dWbt24O/lxdhmrWhbvkI2Rpy7bDx7hmFrVnIpIpxuNWox5JHG+JhMya4fHRnD/BE/8NuUpRQsnp9BM/tS7/FaORixEAJcLIFrrVn34xa+fGOefSyQYR2o0L0eIzas5lRYGB2rVGVY46bk85Q7wvSKNJuZtHUT3+7bQ15PT/xTeA8NSvFEhYq0sOVnap/ZnD10gVZdH6X/p93JUyD53qxCiKzlMgn8+sUbfPHaHLb9uYvK9crTb2Yvfr55hu/276WoXx4mtGhNk1KlcybgXCz40kUWHdiPxZZ8CeVWTAwbz52lvH9+xj3aksPztvDDR7/jl9+XAVN78mjHBvLMQYgc4PQJXGvNP3NXM+vtb7FarHQf9yIFn63CiHWruRwRwSs1ajE4lY/8IuutP3Oa4WtX2q9Bzdp08C3Jl31nc3zXKRo9U5cB03rJYFlCZJMLxy6xf8Nh2vVu5bwJ/NLJK3zWZyZ71x6kZvOq9Jz2KvMuHL770O2jlm0IKlosx+IUCd02m5m0ZSPf7t9L8Tx5GNe0JVd/+ZdvRv2I0cNI30ndaNujhdyNC5FFtNZ83n82q77bgFKKvyMXOl8Ct1qt/PbFUua//wNuRjf6ftINmpVg1Lo13IyJpl9QPQbUbZDhwadE1tp56QLvrV7BqbAwOlWpRveilZn7+lfsX3+IWi0f5s1ZfRNNLyeESL/1P29lUo8v747tv0r/4lwJ/PSBc3zaawZHdpygwVN16Dy5M18c3cPy+I4n947FLZxHbFwcU3ZsZfauneT38mZM0xbErTnLnHe+w2a10X3cizzzxuMZ6qQlhLB7u+UY9q79r7d1cgk8+UkZU6GUKqGUWquUOqyUOqiUGpiW7SxmC9+O/onX6rzD5VNXeW/hQKpPaMeLq5ew9swp3mnYhN9e6CzJ20l5uLvzdsMm/P5CZwK8vXntnz/5p0QME3eNp0bzqswc/A2DGr/PmSRmLxJCpM39UyMmJ8N34EqpQCBQa71bKeUH7AKe0VofSm6bag89rB9xb82Zg+dp8XJjnvmgIx/u2cqm82cJKlqMj1o+Rll/eSDmKixWK3N2B9/tDTu8SVP894QyfdB8osKj6DyiIy8MfTrVqeCEEAkt+fIf5gxdcHcGsGwvoSillgDTtNYrk1snr8qvnyjeiUEz+2CuVoB+fy/BoBTvNHqUzg/XyJWDTz0ITobe4N3VK9h1+RKPlizNOzXr89uwX1j3Q9qnghNC/Mcca2FI89GcPnCOmNsx2ZvAlVKlgQ1ANa11+H2v9QH6AOQzFqhzIeQsPnl9GLpqOctOHGfpy90olidPpmMQjmXTmgX79/Lxlo2AfUTIsmcsTHt9LmFXbspUcEKkkzXOypY/gtm1Yi9vzuqXPQlcKeULrAfGa61/TWndovmK60s3LwAwdNVyNp07w+YefROso61XQMeCW0lpluaCUpwKrnwR3krjVHBCiP8k15Enww8x43dqBBYDC1NL3qnRceewXX8GHdIafb09OqQZ2rwzM7sUDlAsTx6+fvo5PmndlhOhoXT64xeMvWry4ar3QWuGtBjN5/1mE3kr0tGhCuHyMtMKRQHzgMNa608zE4TWcejQLhB3BIgFosF2GR3Wy35HLlyKUooOD1VlRZfutCxbjslbNzH6yl4Grn6Xjm89xT9zV9Gr2lts/zv9I1MKIf6TmVYojYGNwL+ALX7xMK310uS2Sa6EomPXo28OAn3/XZkJfPtj8H09QzEK57DsxHFGrltFWHQ0vWvXpa1bAFP7zObMAXtrpDavtiClaln+QH9KPVQ85wIWwskkV0LJcBdHrfUmIF1Far/8vmit+fv4UVadOkFh3/gR7azXQNuS2MIM1ksZDVE4ibblK/BI8RKM37SOmbt2sDyfPx/8OZAT83fw/YTFrPl+U6r7eKrfY/T8qLNMBSfEPXK0J2aN2rV1/TEjWXX6JNULF+HjVm2oWKAg2nIcfaMDEHNfdN6oPGNQXk/nWIwi47QtEuJOgFtBlFvSY9dsPHeG4WtWciE8nK7Va9K9xENEXLyZ4n63/L6DX7+wj0k+cEYf6j9ROxuiF8J5OcVohN6lSurSQwfzVoNGvFqzNm6G/0rwtrCBELsOiI5f4gFuJVAFf0cpGYHQ2dki50HEF6DcQVvAWAPl/yXKkHh+0kizmclbN/HNvj0E+vnRrkKlFD/KFfb1o1aUF9PixyRv2aUJ/T/tTt6C0vxUPBicIoEHVqyot+7YTul8iefD1NqKjvoRohfZmxF6tkP59EQZfHMsPpExOmat/RnG3T++AEYw1cOQ/+tkt9t1+SIj167m9M2wFPcfExdHufgxyY9+tZVFH/6Gn7+PfUzyTo9Ic1OR6zlFAk/vlGrCNdhuvAyWpK6rBypgFcotcyMUbjh7hmFrVnA5IoJuNWrR0a8U0/vN4VjwSRo+XZf/fSljkovcLVvagQsBgO160suVO9hSvrtOi0dLlWZZ5+50q1GLb/ftod++NXT6oQ99Pu5K8PK99Kr6JkvnriYnb0aEcAaSwEXmeTQh6QZNCtzLZskhfE0mRjVtwY8dX8TD3Y0ef/3GjhomJu/6kHI1S/NZn5m803osl09dzZLjCeEKJIGLTFM+fUHlAe4dddAL/IZn+QPooKLF+PulbrwWVJ/fjxzilc3/0Gr2ywya2YdjO0/S++G3WPzZX1ityc/1KURuITVwkSW09To6ch6YN4MhEOXbC2Wqm63HPBRyjaGrlnMw5Bpty1XgjUq1WPDmArb/vZvK9SsweG5/Slctka0xCJET5CGmyJXibDbm7g7m8+1b8HI3MqxJU/LvDWPGoK+JvBXFy8M78OK7z8iY5MKlyUPMFNiil2ELaYntSmVs15pii/rN0SGJNHI3GOgXVI+lL3ejQoECDF21nG+9rzJ2+1iadGxgn/0paChHd55wdKhCZLkH/g5cx6xA3xxCwl6gnpDnfQzenRwVlsiAO2OSf7JlIxp4u2Fjyp+1Mu31uYReDpMxyYXLkjvwZOiIySTqwk8M3P7cAdGIzDAoRbcatVjWuTtBgcUYs34tn8eeYNjm93m8Vyt+nvwnfWsOYd+6g44OVYgs8cAncKwXkl5uu47Wlmw9tNZWdPTf2EJ7Ywvrh45ZKW2Zs8CdMckn3Tsmec8aMia5yHUe+BKKLeQxsJ5J/IKhIIZCW7LtuFpr9M0BYN4EOr4LuvIGzycw5J2Qbcd90IRERTJ63Rr+OXGMKgUDGNu4OcFT17L4s7/IH+jPwBl9aPBkHUeHKUSKpISSDOU3GPC8b6kX+A7K3gNbgu1N7vQ944foKIj+C205kr3HfoAEePvw5RNPMf2J9oRERfHCkp+5+UwZPt40Fl9/H95v/xETOn/OzZBbjg5ViHSTBO7ZBvJ+CG7FAAWGwvEPMJ/P1uPq2I32hJ2IFczZd+f/oGpbvgIrunTnuYeqMnPXDi4WUEwPnki30c+z8Zdt/PZFsvOQCOG0crSEopQKAc6mYdWCQDIDbLgcORfnk1vOA+RcnFF2nEcprXXA/QtzNIGnlVIqOKl6jyuSc3E+ueU8QM7FGeXkeTzwJRQhhHBVksCFEMJFOWsCn+3oALKQnIvzyS3nAXIuzijHzsMpa+BCCCFS56x34EIIIVIhCVwIIVyU0yVwpdQZpdS/Sqm9Sinn6nefCqXUV0qpa0qpA/csy6+UWqmUOh7/v78jY0yLZM5jtFLqYvx12auUesKRMaaVUqqEUmqtUuqwUuqgUmpg/HKXui4pnIfLXRellKdSaodSal/8uYyJX+5S1wRSPJccuS5OVwNXSp0BgrTWLtegXyn1KHAb+FZrXS1+2cdAqNb6I6XUu4C/1nqoI+NMTTLnMRq4rbWe5MjY0kspFQgEaq13K6X8gF3AM0B3XOi6pHAez+Ni10UppQAfrfVtpZQR2AQMBJ7Dha4JpHgubcmB6+J0d+CuTGu9AQi9b/HTwDfxX3+D/ZfOqSVzHi5Ja31Za707/usI4DBQDBe7Limch8vRdrfjvzXG/9O42DWBFM8lRzhjAtfACqXULqVUH0cHkwUKa60vg/2XECjk4HgyY4BSan98icXpP97eTylVGqgFbMeFr8t95wEueF2UUm5Kqb3ANWCl1tplr0ky5wI5cF2cMYE30lrXBh4HXo//OC8cbwZQDqgJXAYmOzSadFJK+QKLgUFa63BHx5NRSZyHS14XrbVVa10TKA7UU0pVc3BIGZbMueTIdXG6BK61vhT//zXgN6CeYyPKtKvx9cs7dcxrDo4nQ7TWV+N/UG3AHFzousTXJhcDC7XWv8YvdrnrktR5uPJ1AdBa3wTWYa8Zu9w1ude955JT18WpErhSyif+AQ1KKR/gMeBAyls5vT+AV+K/fgVY4sBYMuzOL1a8Z3GR6xL/kGkecFhr/ek9L7nUdUnuPFzxuiilApRS+eK/9gJaAUdwsWsCyZ9LTl0Xp2qFopQqi/2uG8Ad+F5rPd6BIaWLUmoR0Az7cJJXgVHA78BPQEngHNBJa+3UDwiTOY9m2D8OauAM0PdOvdKZKaUaAxuBfwFb/OJh2OvHLnNdUjiPl3Cx66KUqo79IaUb9pvIn7TWY5VSBXChawIpnst35MB1caoELoQQIu2cqoQihBAi7SSBCyGEi5IELoQQLkoSuBBCuChJ4EII4aIkgQshhIuSBC6EEC7q/2oY9/dcOqAjAAAAAElFTkSuQmCC\n",
>>>>>>> d5a9587c6b9d048ec8abbebd90399bf5093a6493
      "text/plain": [
       "<Figure size 432x288 with 1 Axes>"
      ]
     },
     "metadata": {
      "needs_background": "light"
     },
     "output_type": "display_data"
    },
    {
     "name": "stdout",
     "output_type": "stream",
     "text": [
<<<<<<< HEAD
      "Model accuracy: 0.717948717948718\n"
=======
      "Model accuracy: 0.7560975609756098\n"
>>>>>>> d5a9587c6b9d048ec8abbebd90399bf5093a6493
     ]
    }
   ],
   "source": [
    "xg = np.linspace(x1.min(), x1.max(), len(x1))\n",
    "yg = np.linspace(x2.min(), x2.max(), len(x2))\n",
    "xx, yy = np.meshgrid(xg,yg)\n",
    "plt.xlim(xx.min(), xx.max())\n",
    "plt.ylim(yy.min(), yy.max())\n",
    "Xcont = poly_features.fit_transform(np.vstack((xx.ravel(),yy.ravel())).T)\n",
    "Z = logreg.predict(Xcont).reshape(xx.shape)\n",
    "plt.contour(xx,yy,Z,levels=1)\n",
    "plt.scatter(x1,x2,c=Yp)\n",
    "plt.title(\"Using scikit-learn\")\n",
    "plt.show()\n",
    "print(\"Model accuracy:\",accuracy_score(cat1,Yp))"
   ]
  },
  {
   "cell_type": "code",
<<<<<<< HEAD
   "execution_count": 69,
=======
   "execution_count": 30,
>>>>>>> d5a9587c6b9d048ec8abbebd90399bf5093a6493
   "metadata": {
    "scrolled": true
   },
   "outputs": [
    {
     "data": {
<<<<<<< HEAD
      "image/png": "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\n",
=======
      "image/png": "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\n",
>>>>>>> d5a9587c6b9d048ec8abbebd90399bf5093a6493
      "text/plain": [
       "<Figure size 432x288 with 1 Axes>"
      ]
     },
     "metadata": {
      "needs_background": "light"
     },
     "output_type": "display_data"
    }
   ],
   "source": [
    "Yprob = logreg.predict_proba(X_poly)\n",
    "# Compute ROC curve and ROC area\n",
    "fpr, tpr, _ = roc_curve(cat1, Yprob[:,1], pos_label=1)\n",
    "roc_auc = auc(fpr, tpr)\n",
    "plt.plot(fpr, tpr, label='ROC curve (area = %0.2f)' % roc_auc)\n",
    "plt.plot([0, 1], [0, 1], color='navy', linestyle='--')\n",
    "plt.xlabel('False Positive Rate')\n",
    "plt.ylabel('True Positive Rate')\n",
    "plt.legend(loc=\"lower right\")\n",
    "plt.show()"
   ]
  },
  {
   "cell_type": "markdown",
   "metadata": {},
   "source": [
    "## 2) SVM"
   ]
  },
  {
   "cell_type": "code",
<<<<<<< HEAD
   "execution_count": 70,
=======
   "execution_count": 31,
>>>>>>> d5a9587c6b9d048ec8abbebd90399bf5093a6493
   "metadata": {},
   "outputs": [],
   "source": [
    "def plot_svm_decision_margin(model, plot_support=True):\n",
    "    ax = plt.gca()\n",
    "    xlim = ax.get_xlim()\n",
    "    ylim = ax.get_ylim()\n",
    "\n",
    "    # create grid to evaluate model\n",
    "    x = np.linspace(xlim[0], xlim[1], 30)\n",
    "    y = np.linspace(ylim[0], ylim[1], 30)\n",
    "    Y, X = np.meshgrid(y, x)\n",
    "    xy = np.vstack([X.ravel(), Y.ravel()]).T\n",
    "    P = model.decision_function(xy).reshape(X.shape)\n",
    "\n",
    "    # plot decision boundary and margins\n",
    "    ax.contour(X, Y, P, colors='k', levels=[-1, 0, 1], alpha=0.5,\n",
    "               linestyles=['--', '-', '--'])\n",
    "\n",
    "    # plot support vectors\n",
    "    if plot_support:\n",
    "        ax.scatter(model.support_vectors_[:, 0], model.support_vectors_[:, 1],\n",
    "                   s=200, linewidth=1, edgecolors='black', facecolors='none');\n",
    "    plt.show()"
   ]
  },
  {
   "cell_type": "markdown",
   "metadata": {},
   "source": [
    "#### SVM with linear kernal"
   ]
  },
  {
   "cell_type": "code",
<<<<<<< HEAD
   "execution_count": 71,
=======
   "execution_count": 32,
>>>>>>> d5a9587c6b9d048ec8abbebd90399bf5093a6493
   "metadata": {
    "scrolled": false
   },
   "outputs": [
    {
     "data": {
<<<<<<< HEAD
      "image/png": "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\n",
=======
      "image/png": "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\n",
>>>>>>> d5a9587c6b9d048ec8abbebd90399bf5093a6493
      "text/plain": [
       "<Figure size 432x288 with 1 Axes>"
      ]
     },
     "metadata": {
      "needs_background": "light"
     },
     "output_type": "display_data"
    },
    {
     "name": "stdout",
     "output_type": "stream",
     "text": [
<<<<<<< HEAD
      "Soft Margin Model accuracity: 0.717948717948718\n"
=======
      "Soft Margin Model accuracity: 0.6341463414634146\n"
>>>>>>> d5a9587c6b9d048ec8abbebd90399bf5093a6493
     ]
    }
   ],
   "source": [
    "model_soft = SVC(kernel='linear')\n",
    "model_soft.fit(x3, cat1)\n",
    "Yp_soft = model_soft.predict(x3)\n",
    "plt.scatter(x1, x2, c=Yp_soft, cmap='winter')\n",
    "plot_svm_decision_margin(model_soft)\n",
    "print(\"Soft Margin Model accuracity:\",accuracy_score(cat1,Yp_soft))"
   ]
  },
  {
   "cell_type": "markdown",
   "metadata": {},
   "source": [
    "#### SVM with rbf kernal"
   ]
  },
  {
   "cell_type": "code",
<<<<<<< HEAD
   "execution_count": 72,
=======
   "execution_count": 33,
>>>>>>> d5a9587c6b9d048ec8abbebd90399bf5093a6493
   "metadata": {},
   "outputs": [
    {
     "data": {
<<<<<<< HEAD
      "image/png": "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\n",
=======
      "image/png": "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\n",
>>>>>>> d5a9587c6b9d048ec8abbebd90399bf5093a6493
      "text/plain": [
       "<Figure size 432x288 with 1 Axes>"
      ]
     },
     "metadata": {
      "needs_background": "light"
     },
     "output_type": "display_data"
    },
    {
     "name": "stdout",
     "output_type": "stream",
     "text": [
<<<<<<< HEAD
      "Soft Margin Model accuracity: 0.9743589743589743\n"
=======
      "Soft Margin Model accuracity: 0.7317073170731707\n"
>>>>>>> d5a9587c6b9d048ec8abbebd90399bf5093a6493
     ]
    }
   ],
   "source": [
    "model_soft_rbf = SVC(kernel='rbf')\n",
    "model_soft_rbf.fit(x3, cat1)\n",
    "Yp_soft = model_soft_rbf.predict(x3)\n",
    "plt.scatter(x1, x2, c=Yp_soft, cmap='winter')\n",
    "plot_svm_decision_margin(model_soft_rbf)\n",
    "print(\"Soft Margin Model accuracity:\",accuracy_score(cat1,Yp_soft))"
   ]
  },
  {
   "cell_type": "markdown",
   "metadata": {},
   "source": [
    "## 3) Random forest"
   ]
  },
  {
   "cell_type": "code",
<<<<<<< HEAD
   "execution_count": 73,
=======
   "execution_count": 34,
>>>>>>> d5a9587c6b9d048ec8abbebd90399bf5093a6493
   "metadata": {},
   "outputs": [],
   "source": [
    "from sklearn import tree\n",
    "\n",
    "def build_forest(X, y, n_trees, max_depth=None):\n",
    "    forest = []\n",
    "    for i in range(n_trees):\n",
    "        model = tree.ExtraTreeClassifier(max_depth=max_depth)\n",
    "        model.fit(X,y)\n",
    "        forest.append(model)\n",
    "    return forest\n",
    "\n",
    "def rf_predict(forest, X):\n",
    "    Yps = []\n",
    "    for m in forest:\n",
    "        Yps.append(m.predict(X))\n",
    "    Yps = np.array(Yps).T\n",
    "    Yp = []\n",
    "    for i in range(len(X)):\n",
    "        val, counts = np.unique(Yps[i], return_counts=True)\n",
    "        j = np.argmax(counts)\n",
    "        Yp.append(val[j])\n",
    "    return np.array(Yp).reshape(len(X),1)\n",
    "\n",
<<<<<<< HEAD
    "forest = build_forest(x3, cat1, 50, 12)\n",
=======
    "forest = build_forest(x3, cat1, 25, 12)\n",
>>>>>>> d5a9587c6b9d048ec8abbebd90399bf5093a6493
    "\n",
    "def plot_decision_rf(X, Y, forest, title):\n",
    "    plot_step = 0.02\n",
    "    x_min, x_max = X[:, 0].min() - 1, X[:, 0].max() + 1\n",
    "    y_min, y_max = X[:, 1].min() - 1, X[:, 1].max() + 1\n",
    "    xx, yy = np.meshgrid(np.arange(x_min, x_max, plot_step),\n",
    "                         np.arange(y_min, y_max, plot_step))\n",
    "    Z = rf_predict(forest, np.c_[xx.ravel(), yy.ravel()])\n",
    "    Z = Z.reshape(xx.shape)\n",
    "    cs = plt.contourf(xx, yy, Z, cmap=plt.cm.Paired)\n",
    "    plt.scatter(X[:,0],X[:,1],c=Y)\n",
    "    plt.title(title)\n",
    "\n",
    "def plot_decision_sl(X, Y, tree, title):\n",
    "    plot_step = 0.02\n",
    "    x_min, x_max = X[:, 0].min() - 1, X[:, 0].max() + 1\n",
    "    y_min, y_max = X[:, 1].min() - 1, X[:, 1].max() + 1\n",
    "    xx, yy = np.meshgrid(np.arange(x_min, x_max, plot_step),\n",
    "                         np.arange(y_min, y_max, plot_step))\n",
    "    Z = tree.predict(np.c_[xx.ravel(), yy.ravel()])\n",
    "    Z = Z.reshape(xx.shape)\n",
    "    cs = plt.contourf(xx, yy, Z, cmap=plt.cm.Paired)\n",
    "    plt.scatter(X[:,0],X[:,1],c=Y)\n",
    "    plt.title(title)"
   ]
  },
  {
   "cell_type": "code",
<<<<<<< HEAD
   "execution_count": 74,
=======
   "execution_count": 35,
>>>>>>> d5a9587c6b9d048ec8abbebd90399bf5093a6493
   "metadata": {},
   "outputs": [
    {
     "data": {
      "text/plain": [
<<<<<<< HEAD
       "RandomForestClassifier(bootstrap=True, class_weight=None, criterion='gini',\n",
       "            max_depth=12, max_features='auto', max_leaf_nodes=None,\n",
       "            min_impurity_decrease=0.0, min_impurity_split=None,\n",
       "            min_samples_leaf=1, min_samples_split=2,\n",
       "            min_weight_fraction_leaf=0.0, n_estimators=50, n_jobs=None,\n",
       "            oob_score=False, random_state=0, verbose=0, warm_start=False)"
      ]
     },
     "execution_count": 74,
=======
       "RandomForestClassifier(max_depth=12, n_estimators=10, random_state=0)"
      ]
     },
     "execution_count": 35,
>>>>>>> d5a9587c6b9d048ec8abbebd90399bf5093a6493
     "metadata": {},
     "output_type": "execute_result"
    }
   ],
   "source": [
    "from sklearn.ensemble import RandomForestClassifier\n",
<<<<<<< HEAD
    "model = RandomForestClassifier(n_estimators=50, random_state=0, max_depth=12)\n",
=======
    "model = RandomForestClassifier(n_estimators=10, random_state=0, max_depth=12)\n",
>>>>>>> d5a9587c6b9d048ec8abbebd90399bf5093a6493
    "model.fit(x3, cat1)"
   ]
  },
  {
   "cell_type": "code",
<<<<<<< HEAD
   "execution_count": 75,
=======
   "execution_count": 36,
>>>>>>> d5a9587c6b9d048ec8abbebd90399bf5093a6493
   "metadata": {},
   "outputs": [
    {
     "data": {
<<<<<<< HEAD
      "image/png": "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\n",
=======
      "image/png": "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\n",
>>>>>>> d5a9587c6b9d048ec8abbebd90399bf5093a6493
      "text/plain": [
       "<Figure size 432x288 with 1 Axes>"
      ]
     },
     "metadata": {
      "needs_background": "light"
     },
     "output_type": "display_data"
    }
   ],
   "source": [
    "plot_decision_sl(x3, cat1, model, \"Random Forest Scikit-learn\")"
   ]
  },
  {
   "cell_type": "code",
<<<<<<< HEAD
   "execution_count": 76,
=======
   "execution_count": 37,
>>>>>>> d5a9587c6b9d048ec8abbebd90399bf5093a6493
   "metadata": {
    "scrolled": true
   },
   "outputs": [
    {
     "name": "stdout",
     "output_type": "stream",
     "text": [
<<<<<<< HEAD
      "Model accuracity (random forest scikit-learn): 1.0\n"
=======
      "Model accuracity (Random Forest): 0.975609756097561\n"
>>>>>>> d5a9587c6b9d048ec8abbebd90399bf5093a6493
     ]
    }
   ],
   "source": [
    "Yp = model.predict(x3)\n",
<<<<<<< HEAD
    "print(\"Model accuracity (random forest scikit-learn):\",accuracy_score(cat1,Yp))"
=======
    "print(\"Model accuracity (Random Forest):\",accuracy_score(cat1,Yp))"
>>>>>>> d5a9587c6b9d048ec8abbebd90399bf5093a6493
   ]
  },
  {
   "cell_type": "markdown",
   "metadata": {},
   "source": [
    "# Evaluation"
   ]
  },
  {
   "cell_type": "code",
<<<<<<< HEAD
   "execution_count": 81,
=======
   "execution_count": 38,
>>>>>>> d5a9587c6b9d048ec8abbebd90399bf5093a6493
   "metadata": {},
   "outputs": [
    {
     "name": "stdout",
     "output_type": "stream",
     "text": [
<<<<<<< HEAD
      "LR: 0.650000 (0.320156)\n",
      "SVM: 0.416667 (0.329140)\n",
      "RF: 0.525000 (0.305164)\n"
=======
      "LR: 0.635000 (0.118427)\n",
      "SVM: 0.535000 (0.236696)\n",
      "RF: 0.435000 (0.279330)\n"
>>>>>>> d5a9587c6b9d048ec8abbebd90399bf5093a6493
     ]
    }
   ],
   "source": [
    "from sklearn import model_selection\n",
    "\n",
    "# prepare configuration for cross validation test harness\n",
    "seed = 7\n",
    "\n",
    "models = []\n",
    "\n",
    "models.append(('LR', linear_model.LogisticRegression(solver='liblinear',multi_class='auto', penalty=\"l1\")))\n",
    "models.append(('SVM', SVC(kernel='rbf')))\n",
<<<<<<< HEAD
    "models.append(('RF', RandomForestClassifier(n_estimators=50, random_state=0, max_depth=12)))\n",
=======
    "models.append(('RF', RandomForestClassifier(n_estimators=10, random_state=0, max_depth=12)))\n",
>>>>>>> d5a9587c6b9d048ec8abbebd90399bf5093a6493
    "\n",
    "# evaluate each model in turn\n",
    "results = []\n",
    "names = []\n",
    "scoring = 'accuracy'\n",
    "for name, model in models:\n",
    "    kfold = model_selection.KFold(n_splits=10, random_state=seed)\n",
    "    if name == 'LR':\n",
    "        cv_results = model_selection.cross_val_score(model, X_poly, cat1, cv=kfold, scoring=scoring)\n",
    "    else:\n",
    "        cv_results = model_selection.cross_val_score(model, x3, cat1, cv=kfold, scoring=scoring)\n",
    "    results.append(cv_results)\n",
    "    names.append(name)\n",
    "    msg = \"%s: %f (%f)\" % (name, cv_results.mean(), cv_results.std())\n",
    "    print(msg)"
   ]
  },
  {
   "cell_type": "code",
<<<<<<< HEAD
   "execution_count": 82,
=======
   "execution_count": 39,
>>>>>>> d5a9587c6b9d048ec8abbebd90399bf5093a6493
   "metadata": {},
   "outputs": [
    {
     "data": {
<<<<<<< HEAD
      "image/png": "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\n",
=======
      "image/png": "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\n",
>>>>>>> d5a9587c6b9d048ec8abbebd90399bf5093a6493
      "text/plain": [
       "<Figure size 432x288 with 1 Axes>"
      ]
     },
     "metadata": {
      "needs_background": "light"
     },
     "output_type": "display_data"
    }
   ],
   "source": [
    "# boxplot algorithm comparison\n",
    "fig = plt.figure()\n",
    "fig.suptitle('Algorithm Comparison')\n",
    "ax = fig.add_subplot(111)\n",
    "plt.boxplot(results)\n",
    "ax.set_xticklabels(names)\n",
    "plt.show()"
   ]
  }
 ],
 "metadata": {
  "kernelspec": {
   "display_name": "Python 3",
   "language": "python",
   "name": "python3"
  },
  "language_info": {
   "codemirror_mode": {
    "name": "ipython",
    "version": 3
   },
   "file_extension": ".py",
   "mimetype": "text/x-python",
   "name": "python",
   "nbconvert_exporter": "python",
   "pygments_lexer": "ipython3",
<<<<<<< HEAD
   "version": "3.7.3"
=======
   "version": "3.8.5"
>>>>>>> d5a9587c6b9d048ec8abbebd90399bf5093a6493
  }
 },
 "nbformat": 4,
 "nbformat_minor": 2
}
